{
 "cells": [
  {
   "cell_type": "markdown",
   "id": "0b7d15d8",
   "metadata": {
    "papermill": {
     "duration": 0.01683,
     "end_time": "2024-10-27T07:56:33.490651",
     "exception": false,
     "start_time": "2024-10-27T07:56:33.473821",
     "status": "completed"
    },
    "tags": []
   },
   "source": [
    "# Fat Levels Classification of Canadian Cheeses"
   ]
  },
  {
   "cell_type": "markdown",
   "id": "62803b14",
   "metadata": {
    "papermill": {
     "duration": 0.016624,
     "end_time": "2024-10-27T07:56:33.523605",
     "exception": false,
     "start_time": "2024-10-27T07:56:33.506981",
     "status": "completed"
    },
    "tags": []
   },
   "source": [
    "**This project was created as part of the 'Machine Learning' course at UBC.**"
   ]
  },
  {
   "cell_type": "markdown",
   "id": "68f371d8",
   "metadata": {
    "papermill": {
     "duration": 0.015778,
     "end_time": "2024-10-27T07:56:33.556026",
     "exception": false,
     "start_time": "2024-10-27T07:56:33.540248",
     "status": "completed"
    },
    "tags": []
   },
   "source": [
    "The aim of this project is to classify Canadian cheeses into different fat level categories using their specific characteristics.\n",
    "\n",
    "**The central question is**: \"Can we accurately categorize cheeses by their fat levels based on factors like moisture content, manufacturing methods, and other relevant attributes?\n",
    "\n",
    "This question is significant because fat content plays a key role in defining the type and quality of cheese, influencing both consumer preferences and industry standards. Properly classifying fat levels helps manufacturers label their products accurately and enables consumers to make better-informed decisions.\n",
    "\n",
    "In the context of **Supervised machine learning**, this problem is best suited for **Classification**, as we are aiming to categorize cheeses into discrete fat level groups rather than predicting a continuous value. The objective is to build a classification model that can use the given features to correctly categorize the fat levels and evaluate its performance using appropriate classification metrics."
   ]
  },
  {
   "cell_type": "code",
   "execution_count": 1,
   "id": "d2fe45c9",
   "metadata": {
    "execution": {
     "iopub.execute_input": "2024-10-27T07:56:33.589826Z",
     "iopub.status.busy": "2024-10-27T07:56:33.589358Z",
     "iopub.status.idle": "2024-10-27T07:56:36.990274Z",
     "shell.execute_reply": "2024-10-27T07:56:36.989269Z"
    },
    "papermill": {
     "duration": 3.421412,
     "end_time": "2024-10-27T07:56:36.993432",
     "exception": false,
     "start_time": "2024-10-27T07:56:33.572020",
     "status": "completed"
    },
    "tags": []
   },
   "outputs": [],
   "source": [
    "# Import libraries needed for this project\n",
    "\n",
    "import altair as alt\n",
    "import matplotlib.pyplot as plt\n",
    "import numpy as np\n",
    "import pandas as pd\n",
    "from sklearn import tree\n",
    "from sklearn.dummy import DummyClassifier\n",
    "from sklearn.preprocessing import LabelEncoder\n",
    "from sklearn.linear_model import LogisticRegression\n",
    "from sklearn.svm import SVC, SVR\n",
    "from sklearn.ensemble import GradientBoostingClassifier\n",
    "from sklearn.model_selection import train_test_split, cross_validate\n",
    "from sklearn.impute import SimpleImputer\n",
    "from sklearn.pipeline import Pipeline, make_pipeline\n",
    "from sklearn.compose import make_column_transformer \n",
    "from sklearn.model_selection import GridSearchCV, RandomizedSearchCV\n",
    "from sklearn.ensemble import RandomForestClassifier, RandomForestRegressor\n",
    "from sklearn.preprocessing import (\n",
    "    FunctionTransformer,\n",
    "    Normalizer,\n",
    "    OneHotEncoder,\n",
    "    StandardScaler,\n",
    "    normalize,\n",
    "    scale)\n",
    "from sklearn.metrics import confusion_matrix, classification_report, ConfusionMatrixDisplay\n",
    "from scipy.stats import lognorm, loguniform, randint, uniform\n",
    "from sklearn.metrics import roc_auc_score\n",
    "from sklearn.metrics import roc_curve"
   ]
  },
  {
   "cell_type": "code",
   "execution_count": 2,
   "id": "21000541",
   "metadata": {
    "execution": {
     "iopub.execute_input": "2024-10-27T07:56:37.027899Z",
     "iopub.status.busy": "2024-10-27T07:56:37.027302Z",
     "iopub.status.idle": "2024-10-27T07:56:37.080714Z",
     "shell.execute_reply": "2024-10-27T07:56:37.079417Z"
    },
    "papermill": {
     "duration": 0.07413,
     "end_time": "2024-10-27T07:56:37.083880",
     "exception": false,
     "start_time": "2024-10-27T07:56:37.009750",
     "status": "completed"
    },
    "tags": []
   },
   "outputs": [
    {
     "data": {
      "text/html": [
       "<div>\n",
       "<style scoped>\n",
       "    .dataframe tbody tr th:only-of-type {\n",
       "        vertical-align: middle;\n",
       "    }\n",
       "\n",
       "    .dataframe tbody tr th {\n",
       "        vertical-align: top;\n",
       "    }\n",
       "\n",
       "    .dataframe thead th {\n",
       "        text-align: right;\n",
       "    }\n",
       "</style>\n",
       "<table border=\"1\" class=\"dataframe\">\n",
       "  <thead>\n",
       "    <tr style=\"text-align: right;\">\n",
       "      <th></th>\n",
       "      <th>CheeseId</th>\n",
       "      <th>ManufacturerProvCode</th>\n",
       "      <th>ManufacturingTypeEn</th>\n",
       "      <th>MoisturePercent</th>\n",
       "      <th>FlavourEn</th>\n",
       "      <th>CharacteristicsEn</th>\n",
       "      <th>Organic</th>\n",
       "      <th>CategoryTypeEn</th>\n",
       "      <th>MilkTypeEn</th>\n",
       "      <th>MilkTreatmentTypeEn</th>\n",
       "      <th>RindTypeEn</th>\n",
       "      <th>CheeseName</th>\n",
       "      <th>FatLevel</th>\n",
       "    </tr>\n",
       "  </thead>\n",
       "  <tbody>\n",
       "    <tr>\n",
       "      <th>0</th>\n",
       "      <td>228</td>\n",
       "      <td>NB</td>\n",
       "      <td>Farmstead</td>\n",
       "      <td>47.0</td>\n",
       "      <td>Sharp, lactic</td>\n",
       "      <td>Uncooked</td>\n",
       "      <td>0</td>\n",
       "      <td>Firm Cheese</td>\n",
       "      <td>Ewe</td>\n",
       "      <td>Raw Milk</td>\n",
       "      <td>Washed Rind</td>\n",
       "      <td>Sieur de Duplessis (Le)</td>\n",
       "      <td>lower fat</td>\n",
       "    </tr>\n",
       "    <tr>\n",
       "      <th>1</th>\n",
       "      <td>242</td>\n",
       "      <td>NB</td>\n",
       "      <td>Farmstead</td>\n",
       "      <td>47.9</td>\n",
       "      <td>Sharp, lactic, lightly caramelized</td>\n",
       "      <td>Uncooked</td>\n",
       "      <td>0</td>\n",
       "      <td>Semi-soft Cheese</td>\n",
       "      <td>Cow</td>\n",
       "      <td>Raw Milk</td>\n",
       "      <td>Washed Rind</td>\n",
       "      <td>Tomme Le Champ Doré</td>\n",
       "      <td>lower fat</td>\n",
       "    </tr>\n",
       "    <tr>\n",
       "      <th>2</th>\n",
       "      <td>301</td>\n",
       "      <td>ON</td>\n",
       "      <td>Industrial</td>\n",
       "      <td>54.0</td>\n",
       "      <td>Mild, tangy, and fruity</td>\n",
       "      <td>Pressed and cooked cheese, pasta filata, inter...</td>\n",
       "      <td>0</td>\n",
       "      <td>Firm Cheese</td>\n",
       "      <td>Cow</td>\n",
       "      <td>Pasteurized</td>\n",
       "      <td>NaN</td>\n",
       "      <td>Provolone Sette Fette (Tre-Stelle)</td>\n",
       "      <td>lower fat</td>\n",
       "    </tr>\n",
       "    <tr>\n",
       "      <th>3</th>\n",
       "      <td>303</td>\n",
       "      <td>NB</td>\n",
       "      <td>Farmstead</td>\n",
       "      <td>47.0</td>\n",
       "      <td>Sharp with fruity notes and a hint of wild honey</td>\n",
       "      <td>NaN</td>\n",
       "      <td>0</td>\n",
       "      <td>Veined Cheeses</td>\n",
       "      <td>Cow</td>\n",
       "      <td>Raw Milk</td>\n",
       "      <td>NaN</td>\n",
       "      <td>Geai Bleu (Le)</td>\n",
       "      <td>lower fat</td>\n",
       "    </tr>\n",
       "    <tr>\n",
       "      <th>4</th>\n",
       "      <td>319</td>\n",
       "      <td>NB</td>\n",
       "      <td>Farmstead</td>\n",
       "      <td>49.4</td>\n",
       "      <td>Softer taste</td>\n",
       "      <td>NaN</td>\n",
       "      <td>1</td>\n",
       "      <td>Semi-soft Cheese</td>\n",
       "      <td>Cow</td>\n",
       "      <td>Raw Milk</td>\n",
       "      <td>Washed Rind</td>\n",
       "      <td>Gamin (Le)</td>\n",
       "      <td>lower fat</td>\n",
       "    </tr>\n",
       "  </tbody>\n",
       "</table>\n",
       "</div>"
      ],
      "text/plain": [
       "   CheeseId ManufacturerProvCode ManufacturingTypeEn  MoisturePercent  \\\n",
       "0       228                   NB           Farmstead             47.0   \n",
       "1       242                   NB           Farmstead             47.9   \n",
       "2       301                   ON          Industrial             54.0   \n",
       "3       303                   NB           Farmstead             47.0   \n",
       "4       319                   NB           Farmstead             49.4   \n",
       "\n",
       "                                          FlavourEn  \\\n",
       "0                                     Sharp, lactic   \n",
       "1                Sharp, lactic, lightly caramelized   \n",
       "2                           Mild, tangy, and fruity   \n",
       "3  Sharp with fruity notes and a hint of wild honey   \n",
       "4                                      Softer taste   \n",
       "\n",
       "                                   CharacteristicsEn  Organic  \\\n",
       "0                                           Uncooked        0   \n",
       "1                                           Uncooked        0   \n",
       "2  Pressed and cooked cheese, pasta filata, inter...        0   \n",
       "3                                                NaN        0   \n",
       "4                                                NaN        1   \n",
       "\n",
       "     CategoryTypeEn MilkTypeEn MilkTreatmentTypeEn   RindTypeEn  \\\n",
       "0       Firm Cheese        Ewe            Raw Milk  Washed Rind   \n",
       "1  Semi-soft Cheese        Cow            Raw Milk  Washed Rind   \n",
       "2       Firm Cheese        Cow         Pasteurized          NaN   \n",
       "3    Veined Cheeses        Cow            Raw Milk          NaN   \n",
       "4  Semi-soft Cheese        Cow            Raw Milk  Washed Rind   \n",
       "\n",
       "                           CheeseName   FatLevel  \n",
       "0             Sieur de Duplessis (Le)  lower fat  \n",
       "1                 Tomme Le Champ Doré  lower fat  \n",
       "2  Provolone Sette Fette (Tre-Stelle)  lower fat  \n",
       "3                      Geai Bleu (Le)  lower fat  \n",
       "4                          Gamin (Le)  lower fat  "
      ]
     },
     "execution_count": 2,
     "metadata": {},
     "output_type": "execute_result"
    }
   ],
   "source": [
    "# Load the dataset:\n",
    "cheese_df = pd.read_csv(\"/kaggle/input/canadian-cheese-directory/cheese_data.csv\")\n",
    "cheese_df.head(5)"
   ]
  },
  {
   "cell_type": "code",
   "execution_count": 3,
   "id": "e762fcea",
   "metadata": {
    "execution": {
     "iopub.execute_input": "2024-10-27T07:56:37.120247Z",
     "iopub.status.busy": "2024-10-27T07:56:37.119813Z",
     "iopub.status.idle": "2024-10-27T07:56:37.148489Z",
     "shell.execute_reply": "2024-10-27T07:56:37.147270Z"
    },
    "papermill": {
     "duration": 0.050123,
     "end_time": "2024-10-27T07:56:37.151226",
     "exception": false,
     "start_time": "2024-10-27T07:56:37.101103",
     "status": "completed"
    },
    "tags": []
   },
   "outputs": [
    {
     "data": {
      "text/html": [
       "<div>\n",
       "<style scoped>\n",
       "    .dataframe tbody tr th:only-of-type {\n",
       "        vertical-align: middle;\n",
       "    }\n",
       "\n",
       "    .dataframe tbody tr th {\n",
       "        vertical-align: top;\n",
       "    }\n",
       "\n",
       "    .dataframe thead th {\n",
       "        text-align: right;\n",
       "    }\n",
       "</style>\n",
       "<table border=\"1\" class=\"dataframe\">\n",
       "  <thead>\n",
       "    <tr style=\"text-align: right;\">\n",
       "      <th></th>\n",
       "      <th>ManufacturerProvCode</th>\n",
       "      <th>ManufacturingTypeEn</th>\n",
       "      <th>MoisturePercent</th>\n",
       "      <th>Organic</th>\n",
       "      <th>CategoryTypeEn</th>\n",
       "      <th>MilkTypeEn</th>\n",
       "      <th>MilkTreatmentTypeEn</th>\n",
       "      <th>FatLevel</th>\n",
       "    </tr>\n",
       "  </thead>\n",
       "  <tbody>\n",
       "    <tr>\n",
       "      <th>482</th>\n",
       "      <td>QC</td>\n",
       "      <td>Artisan</td>\n",
       "      <td>48.0</td>\n",
       "      <td>0</td>\n",
       "      <td>Semi-soft Cheese</td>\n",
       "      <td>Cow</td>\n",
       "      <td>Pasteurized</td>\n",
       "      <td>lower fat</td>\n",
       "    </tr>\n",
       "    <tr>\n",
       "      <th>896</th>\n",
       "      <td>QC</td>\n",
       "      <td>Artisan</td>\n",
       "      <td>45.0</td>\n",
       "      <td>0</td>\n",
       "      <td>Veined Cheeses</td>\n",
       "      <td>Cow</td>\n",
       "      <td>Pasteurized</td>\n",
       "      <td>higher fat</td>\n",
       "    </tr>\n",
       "    <tr>\n",
       "      <th>421</th>\n",
       "      <td>QC</td>\n",
       "      <td>Industrial</td>\n",
       "      <td>50.0</td>\n",
       "      <td>0</td>\n",
       "      <td>Soft Cheese</td>\n",
       "      <td>Cow</td>\n",
       "      <td>Pasteurized</td>\n",
       "      <td>lower fat</td>\n",
       "    </tr>\n",
       "    <tr>\n",
       "      <th>929</th>\n",
       "      <td>BC</td>\n",
       "      <td>Artisan</td>\n",
       "      <td>40.0</td>\n",
       "      <td>0</td>\n",
       "      <td>Semi-soft Cheese</td>\n",
       "      <td>Cow</td>\n",
       "      <td>Pasteurized</td>\n",
       "      <td>higher fat</td>\n",
       "    </tr>\n",
       "    <tr>\n",
       "      <th>737</th>\n",
       "      <td>QC</td>\n",
       "      <td>Artisan</td>\n",
       "      <td>65.0</td>\n",
       "      <td>0</td>\n",
       "      <td>Fresh Cheese</td>\n",
       "      <td>Cow</td>\n",
       "      <td>Pasteurized</td>\n",
       "      <td>lower fat</td>\n",
       "    </tr>\n",
       "  </tbody>\n",
       "</table>\n",
       "</div>"
      ],
      "text/plain": [
       "    ManufacturerProvCode ManufacturingTypeEn  MoisturePercent  Organic  \\\n",
       "482                   QC             Artisan             48.0        0   \n",
       "896                   QC             Artisan             45.0        0   \n",
       "421                   QC          Industrial             50.0        0   \n",
       "929                   BC             Artisan             40.0        0   \n",
       "737                   QC             Artisan             65.0        0   \n",
       "\n",
       "       CategoryTypeEn MilkTypeEn MilkTreatmentTypeEn    FatLevel  \n",
       "482  Semi-soft Cheese        Cow         Pasteurized   lower fat  \n",
       "896    Veined Cheeses        Cow         Pasteurized  higher fat  \n",
       "421       Soft Cheese        Cow         Pasteurized   lower fat  \n",
       "929  Semi-soft Cheese        Cow         Pasteurized  higher fat  \n",
       "737      Fresh Cheese        Cow         Pasteurized   lower fat  "
      ]
     },
     "execution_count": 3,
     "metadata": {},
     "output_type": "execute_result"
    }
   ],
   "source": [
    "# Drop features we are not going to use:\n",
    "cheese_df = cheese_df.drop(columns=['CheeseId', 'FlavourEn', 'CharacteristicsEn', 'CheeseName', 'RindTypeEn'])\n",
    "\n",
    "# Split the data into training and testing sets:\n",
    "train_df, test_df = train_test_split(cheese_df, test_size=0.2, random_state=123)\n",
    "train_df.head()"
   ]
  },
  {
   "cell_type": "code",
   "execution_count": 4,
   "id": "01f4d484",
   "metadata": {
    "execution": {
     "iopub.execute_input": "2024-10-27T07:56:37.187142Z",
     "iopub.status.busy": "2024-10-27T07:56:37.186679Z",
     "iopub.status.idle": "2024-10-27T07:56:37.216067Z",
     "shell.execute_reply": "2024-10-27T07:56:37.214472Z"
    },
    "papermill": {
     "duration": 0.05084,
     "end_time": "2024-10-27T07:56:37.218942",
     "exception": false,
     "start_time": "2024-10-27T07:56:37.168102",
     "status": "completed"
    },
    "tags": []
   },
   "outputs": [
    {
     "name": "stdout",
     "output_type": "stream",
     "text": [
      "<class 'pandas.core.frame.DataFrame'>\n",
      "Index: 833 entries, 482 to 1041\n",
      "Data columns (total 8 columns):\n",
      " #   Column                Non-Null Count  Dtype  \n",
      "---  ------                --------------  -----  \n",
      " 0   ManufacturerProvCode  833 non-null    object \n",
      " 1   ManufacturingTypeEn   833 non-null    object \n",
      " 2   MoisturePercent       821 non-null    float64\n",
      " 3   Organic               833 non-null    int64  \n",
      " 4   CategoryTypeEn        813 non-null    object \n",
      " 5   MilkTypeEn            832 non-null    object \n",
      " 6   MilkTreatmentTypeEn   781 non-null    object \n",
      " 7   FatLevel              833 non-null    object \n",
      "dtypes: float64(1), int64(1), object(6)\n",
      "memory usage: 58.6+ KB\n"
     ]
    }
   ],
   "source": [
    "train_df.info()"
   ]
  },
  {
   "cell_type": "code",
   "execution_count": 5,
   "id": "0300548e",
   "metadata": {
    "execution": {
     "iopub.execute_input": "2024-10-27T07:56:37.255809Z",
     "iopub.status.busy": "2024-10-27T07:56:37.254904Z",
     "iopub.status.idle": "2024-10-27T07:56:37.292693Z",
     "shell.execute_reply": "2024-10-27T07:56:37.291472Z"
    },
    "papermill": {
     "duration": 0.059503,
     "end_time": "2024-10-27T07:56:37.295556",
     "exception": false,
     "start_time": "2024-10-27T07:56:37.236053",
     "status": "completed"
    },
    "tags": []
   },
   "outputs": [
    {
     "data": {
      "text/html": [
       "<div>\n",
       "<style scoped>\n",
       "    .dataframe tbody tr th:only-of-type {\n",
       "        vertical-align: middle;\n",
       "    }\n",
       "\n",
       "    .dataframe tbody tr th {\n",
       "        vertical-align: top;\n",
       "    }\n",
       "\n",
       "    .dataframe thead th {\n",
       "        text-align: right;\n",
       "    }\n",
       "</style>\n",
       "<table border=\"1\" class=\"dataframe\">\n",
       "  <thead>\n",
       "    <tr style=\"text-align: right;\">\n",
       "      <th></th>\n",
       "      <th>ManufacturerProvCode</th>\n",
       "      <th>ManufacturingTypeEn</th>\n",
       "      <th>MoisturePercent</th>\n",
       "      <th>Organic</th>\n",
       "      <th>CategoryTypeEn</th>\n",
       "      <th>MilkTypeEn</th>\n",
       "      <th>MilkTreatmentTypeEn</th>\n",
       "      <th>FatLevel</th>\n",
       "    </tr>\n",
       "  </thead>\n",
       "  <tbody>\n",
       "    <tr>\n",
       "      <th>count</th>\n",
       "      <td>833</td>\n",
       "      <td>833</td>\n",
       "      <td>821.000000</td>\n",
       "      <td>833.000000</td>\n",
       "      <td>813</td>\n",
       "      <td>832</td>\n",
       "      <td>781</td>\n",
       "      <td>833</td>\n",
       "    </tr>\n",
       "    <tr>\n",
       "      <th>unique</th>\n",
       "      <td>10</td>\n",
       "      <td>3</td>\n",
       "      <td>NaN</td>\n",
       "      <td>NaN</td>\n",
       "      <td>6</td>\n",
       "      <td>8</td>\n",
       "      <td>3</td>\n",
       "      <td>2</td>\n",
       "    </tr>\n",
       "    <tr>\n",
       "      <th>top</th>\n",
       "      <td>QC</td>\n",
       "      <td>Industrial</td>\n",
       "      <td>NaN</td>\n",
       "      <td>NaN</td>\n",
       "      <td>Firm Cheese</td>\n",
       "      <td>Cow</td>\n",
       "      <td>Pasteurized</td>\n",
       "      <td>lower fat</td>\n",
       "    </tr>\n",
       "    <tr>\n",
       "      <th>freq</th>\n",
       "      <td>635</td>\n",
       "      <td>370</td>\n",
       "      <td>NaN</td>\n",
       "      <td>NaN</td>\n",
       "      <td>271</td>\n",
       "      <td>596</td>\n",
       "      <td>648</td>\n",
       "      <td>548</td>\n",
       "    </tr>\n",
       "    <tr>\n",
       "      <th>mean</th>\n",
       "      <td>NaN</td>\n",
       "      <td>NaN</td>\n",
       "      <td>47.052741</td>\n",
       "      <td>0.091236</td>\n",
       "      <td>NaN</td>\n",
       "      <td>NaN</td>\n",
       "      <td>NaN</td>\n",
       "      <td>NaN</td>\n",
       "    </tr>\n",
       "    <tr>\n",
       "      <th>std</th>\n",
       "      <td>NaN</td>\n",
       "      <td>NaN</td>\n",
       "      <td>9.660351</td>\n",
       "      <td>0.288118</td>\n",
       "      <td>NaN</td>\n",
       "      <td>NaN</td>\n",
       "      <td>NaN</td>\n",
       "      <td>NaN</td>\n",
       "    </tr>\n",
       "    <tr>\n",
       "      <th>min</th>\n",
       "      <td>NaN</td>\n",
       "      <td>NaN</td>\n",
       "      <td>12.000000</td>\n",
       "      <td>0.000000</td>\n",
       "      <td>NaN</td>\n",
       "      <td>NaN</td>\n",
       "      <td>NaN</td>\n",
       "      <td>NaN</td>\n",
       "    </tr>\n",
       "    <tr>\n",
       "      <th>25%</th>\n",
       "      <td>NaN</td>\n",
       "      <td>NaN</td>\n",
       "      <td>40.000000</td>\n",
       "      <td>0.000000</td>\n",
       "      <td>NaN</td>\n",
       "      <td>NaN</td>\n",
       "      <td>NaN</td>\n",
       "      <td>NaN</td>\n",
       "    </tr>\n",
       "    <tr>\n",
       "      <th>50%</th>\n",
       "      <td>NaN</td>\n",
       "      <td>NaN</td>\n",
       "      <td>46.000000</td>\n",
       "      <td>0.000000</td>\n",
       "      <td>NaN</td>\n",
       "      <td>NaN</td>\n",
       "      <td>NaN</td>\n",
       "      <td>NaN</td>\n",
       "    </tr>\n",
       "    <tr>\n",
       "      <th>75%</th>\n",
       "      <td>NaN</td>\n",
       "      <td>NaN</td>\n",
       "      <td>52.000000</td>\n",
       "      <td>0.000000</td>\n",
       "      <td>NaN</td>\n",
       "      <td>NaN</td>\n",
       "      <td>NaN</td>\n",
       "      <td>NaN</td>\n",
       "    </tr>\n",
       "    <tr>\n",
       "      <th>max</th>\n",
       "      <td>NaN</td>\n",
       "      <td>NaN</td>\n",
       "      <td>92.000000</td>\n",
       "      <td>1.000000</td>\n",
       "      <td>NaN</td>\n",
       "      <td>NaN</td>\n",
       "      <td>NaN</td>\n",
       "      <td>NaN</td>\n",
       "    </tr>\n",
       "  </tbody>\n",
       "</table>\n",
       "</div>"
      ],
      "text/plain": [
       "       ManufacturerProvCode ManufacturingTypeEn  MoisturePercent     Organic  \\\n",
       "count                   833                 833       821.000000  833.000000   \n",
       "unique                   10                   3              NaN         NaN   \n",
       "top                      QC          Industrial              NaN         NaN   \n",
       "freq                    635                 370              NaN         NaN   \n",
       "mean                    NaN                 NaN        47.052741    0.091236   \n",
       "std                     NaN                 NaN         9.660351    0.288118   \n",
       "min                     NaN                 NaN        12.000000    0.000000   \n",
       "25%                     NaN                 NaN        40.000000    0.000000   \n",
       "50%                     NaN                 NaN        46.000000    0.000000   \n",
       "75%                     NaN                 NaN        52.000000    0.000000   \n",
       "max                     NaN                 NaN        92.000000    1.000000   \n",
       "\n",
       "       CategoryTypeEn MilkTypeEn MilkTreatmentTypeEn   FatLevel  \n",
       "count             813        832                 781        833  \n",
       "unique              6          8                   3          2  \n",
       "top       Firm Cheese        Cow         Pasteurized  lower fat  \n",
       "freq              271        596                 648        548  \n",
       "mean              NaN        NaN                 NaN        NaN  \n",
       "std               NaN        NaN                 NaN        NaN  \n",
       "min               NaN        NaN                 NaN        NaN  \n",
       "25%               NaN        NaN                 NaN        NaN  \n",
       "50%               NaN        NaN                 NaN        NaN  \n",
       "75%               NaN        NaN                 NaN        NaN  \n",
       "max               NaN        NaN                 NaN        NaN  "
      ]
     },
     "execution_count": 5,
     "metadata": {},
     "output_type": "execute_result"
    }
   ],
   "source": [
    "train_df.describe(include='all')"
   ]
  },
  {
   "cell_type": "code",
   "execution_count": 6,
   "id": "278a3c63",
   "metadata": {
    "execution": {
     "iopub.execute_input": "2024-10-27T07:56:37.332611Z",
     "iopub.status.busy": "2024-10-27T07:56:37.332159Z",
     "iopub.status.idle": "2024-10-27T07:56:37.463558Z",
     "shell.execute_reply": "2024-10-27T07:56:37.462290Z"
    },
    "papermill": {
     "duration": 0.156303,
     "end_time": "2024-10-27T07:56:37.469499",
     "exception": false,
     "start_time": "2024-10-27T07:56:37.313196",
     "status": "completed"
    },
    "tags": []
   },
   "outputs": [
    {
     "data": {
      "text/html": [
       "\n",
       "<style>\n",
       "  #altair-viz-dc063a80f3854d029d641dfb18496b73.vega-embed {\n",
       "    width: 100%;\n",
       "    display: flex;\n",
       "  }\n",
       "\n",
       "  #altair-viz-dc063a80f3854d029d641dfb18496b73.vega-embed details,\n",
       "  #altair-viz-dc063a80f3854d029d641dfb18496b73.vega-embed details summary {\n",
       "    position: relative;\n",
       "  }\n",
       "</style>\n",
       "<div id=\"altair-viz-dc063a80f3854d029d641dfb18496b73\"></div>\n",
       "<script type=\"text/javascript\">\n",
       "  var VEGA_DEBUG = (typeof VEGA_DEBUG == \"undefined\") ? {} : VEGA_DEBUG;\n",
       "  (function(spec, embedOpt){\n",
       "    let outputDiv = document.currentScript.previousElementSibling;\n",
       "    if (outputDiv.id !== \"altair-viz-dc063a80f3854d029d641dfb18496b73\") {\n",
       "      outputDiv = document.getElementById(\"altair-viz-dc063a80f3854d029d641dfb18496b73\");\n",
       "    }\n",
       "    const paths = {\n",
       "      \"vega\": \"https://cdn.jsdelivr.net/npm/vega@5?noext\",\n",
       "      \"vega-lib\": \"https://cdn.jsdelivr.net/npm/vega-lib?noext\",\n",
       "      \"vega-lite\": \"https://cdn.jsdelivr.net/npm/vega-lite@5.20.1?noext\",\n",
       "      \"vega-embed\": \"https://cdn.jsdelivr.net/npm/vega-embed@6?noext\",\n",
       "    };\n",
       "\n",
       "    function maybeLoadScript(lib, version) {\n",
       "      var key = `${lib.replace(\"-\", \"\")}_version`;\n",
       "      return (VEGA_DEBUG[key] == version) ?\n",
       "        Promise.resolve(paths[lib]) :\n",
       "        new Promise(function(resolve, reject) {\n",
       "          var s = document.createElement('script');\n",
       "          document.getElementsByTagName(\"head\")[0].appendChild(s);\n",
       "          s.async = true;\n",
       "          s.onload = () => {\n",
       "            VEGA_DEBUG[key] = version;\n",
       "            return resolve(paths[lib]);\n",
       "          };\n",
       "          s.onerror = () => reject(`Error loading script: ${paths[lib]}`);\n",
       "          s.src = paths[lib];\n",
       "        });\n",
       "    }\n",
       "\n",
       "    function showError(err) {\n",
       "      outputDiv.innerHTML = `<div class=\"error\" style=\"color:red;\">${err}</div>`;\n",
       "      throw err;\n",
       "    }\n",
       "\n",
       "    function displayChart(vegaEmbed) {\n",
       "      vegaEmbed(outputDiv, spec, embedOpt)\n",
       "        .catch(err => showError(`Javascript Error: ${err.message}<br>This usually means there's a typo in your chart specification. See the javascript console for the full traceback.`));\n",
       "    }\n",
       "\n",
       "    if(typeof define === \"function\" && define.amd) {\n",
       "      requirejs.config({paths});\n",
       "      require([\"vega-embed\"], displayChart, err => showError(`Error loading script: ${err.message}`));\n",
       "    } else {\n",
       "      maybeLoadScript(\"vega\", \"5\")\n",
       "        .then(() => maybeLoadScript(\"vega-lite\", \"5.20.1\"))\n",
       "        .then(() => maybeLoadScript(\"vega-embed\", \"6\"))\n",
       "        .catch(showError)\n",
       "        .then(() => displayChart(vegaEmbed));\n",
       "    }\n",
       "  })({\"config\": {\"view\": {\"continuousWidth\": 300, \"continuousHeight\": 300}}, \"data\": {\"name\": \"data-37f5d52a96fc30c97e965a741c58d9aa\"}, \"mark\": {\"type\": \"bar\"}, \"encoding\": {\"color\": {\"field\": \"CategoryTypeEn\", \"type\": \"nominal\"}, \"x\": {\"aggregate\": \"count\", \"title\": \"Count\", \"type\": \"quantitative\"}, \"y\": {\"field\": \"CategoryTypeEn\", \"sort\": \"-x\", \"title\": \"Cheese Category\", \"type\": \"nominal\"}}, \"title\": \"Count of Cheeses by Category\", \"$schema\": \"https://vega.github.io/schema/vega-lite/v5.20.1.json\", \"datasets\": {\"data-37f5d52a96fc30c97e965a741c58d9aa\": [{\"ManufacturerProvCode\": \"QC\", \"ManufacturingTypeEn\": \"Artisan\", \"MoisturePercent\": 48.0, \"Organic\": 0, \"CategoryTypeEn\": \"Semi-soft Cheese\", \"MilkTypeEn\": \"Cow\", \"MilkTreatmentTypeEn\": \"Pasteurized\", \"FatLevel\": \"lower fat\"}, {\"ManufacturerProvCode\": \"QC\", \"ManufacturingTypeEn\": \"Artisan\", \"MoisturePercent\": 45.0, \"Organic\": 0, \"CategoryTypeEn\": \"Veined Cheeses\", \"MilkTypeEn\": \"Cow\", \"MilkTreatmentTypeEn\": \"Pasteurized\", \"FatLevel\": \"higher fat\"}, {\"ManufacturerProvCode\": \"QC\", \"ManufacturingTypeEn\": \"Industrial\", \"MoisturePercent\": 50.0, \"Organic\": 0, \"CategoryTypeEn\": \"Soft Cheese\", \"MilkTypeEn\": \"Cow\", \"MilkTreatmentTypeEn\": \"Pasteurized\", \"FatLevel\": \"lower fat\"}, {\"ManufacturerProvCode\": \"BC\", \"ManufacturingTypeEn\": \"Artisan\", \"MoisturePercent\": 40.0, \"Organic\": 0, \"CategoryTypeEn\": \"Semi-soft Cheese\", \"MilkTypeEn\": \"Cow\", \"MilkTreatmentTypeEn\": \"Pasteurized\", \"FatLevel\": \"higher fat\"}, {\"ManufacturerProvCode\": \"QC\", \"ManufacturingTypeEn\": \"Artisan\", \"MoisturePercent\": 65.0, \"Organic\": 0, \"CategoryTypeEn\": \"Fresh Cheese\", \"MilkTypeEn\": \"Cow\", \"MilkTreatmentTypeEn\": \"Pasteurized\", \"FatLevel\": \"lower fat\"}, {\"ManufacturerProvCode\": \"BC\", \"ManufacturingTypeEn\": \"Artisan\", \"MoisturePercent\": 39.0, \"Organic\": 0, \"CategoryTypeEn\": \"Firm Cheese\", \"MilkTypeEn\": \"Cow\", \"MilkTreatmentTypeEn\": null, \"FatLevel\": \"higher fat\"}, {\"ManufacturerProvCode\": \"QC\", \"ManufacturingTypeEn\": \"Industrial\", \"MoisturePercent\": 50.0, \"Organic\": 0, \"CategoryTypeEn\": \"Soft Cheese\", \"MilkTypeEn\": \"Cow\", \"MilkTreatmentTypeEn\": \"Pasteurized\", \"FatLevel\": \"higher fat\"}, {\"ManufacturerProvCode\": \"QC\", \"ManufacturingTypeEn\": \"Artisan\", \"MoisturePercent\": 60.0, \"Organic\": 0, \"CategoryTypeEn\": \"Semi-soft Cheese\", \"MilkTypeEn\": \"Ewe and Goat\", \"MilkTreatmentTypeEn\": \"Pasteurized\", \"FatLevel\": \"lower fat\"}, {\"ManufacturerProvCode\": \"ON\", \"ManufacturingTypeEn\": \"Industrial\", \"MoisturePercent\": 52.0, \"Organic\": 0, \"CategoryTypeEn\": \"Semi-soft Cheese\", \"MilkTypeEn\": \"Cow\", \"MilkTreatmentTypeEn\": \"Pasteurized\", \"FatLevel\": \"lower fat\"}, {\"ManufacturerProvCode\": \"QC\", \"ManufacturingTypeEn\": \"Industrial\", \"MoisturePercent\": 39.0, \"Organic\": 0, \"CategoryTypeEn\": \"Firm Cheese\", \"MilkTypeEn\": \"Cow\", \"MilkTreatmentTypeEn\": \"Raw Milk\", \"FatLevel\": \"higher fat\"}, {\"ManufacturerProvCode\": \"QC\", \"ManufacturingTypeEn\": \"Artisan\", \"MoisturePercent\": 41.0, \"Organic\": 0, \"CategoryTypeEn\": null, \"MilkTypeEn\": \"Goat\", \"MilkTreatmentTypeEn\": null, \"FatLevel\": \"lower fat\"}, {\"ManufacturerProvCode\": \"QC\", \"ManufacturingTypeEn\": \"Artisan\", \"MoisturePercent\": 31.0, \"Organic\": 1, \"CategoryTypeEn\": \"Firm Cheese\", \"MilkTypeEn\": \"Cow\", \"MilkTreatmentTypeEn\": \"Raw Milk\", \"FatLevel\": \"higher fat\"}, {\"ManufacturerProvCode\": \"QC\", \"ManufacturingTypeEn\": \"Industrial\", \"MoisturePercent\": 52.0, \"Organic\": 0, \"CategoryTypeEn\": \"Fresh Cheese\", \"MilkTypeEn\": \"Cow\", \"MilkTreatmentTypeEn\": \"Pasteurized\", \"FatLevel\": \"lower fat\"}, {\"ManufacturerProvCode\": \"QC\", \"ManufacturingTypeEn\": \"Artisan\", \"MoisturePercent\": 43.0, \"Organic\": 0, \"CategoryTypeEn\": \"Firm Cheese\", \"MilkTypeEn\": \"Cow\", \"MilkTreatmentTypeEn\": \"Pasteurized\", \"FatLevel\": \"higher fat\"}, {\"ManufacturerProvCode\": \"QC\", \"ManufacturingTypeEn\": \"Industrial\", \"MoisturePercent\": 42.0, \"Organic\": 0, \"CategoryTypeEn\": \"Firm Cheese\", \"MilkTypeEn\": \"Cow\", \"MilkTreatmentTypeEn\": \"Pasteurized\", \"FatLevel\": \"lower fat\"}, {\"ManufacturerProvCode\": \"MB\", \"ManufacturingTypeEn\": \"Farmstead\", \"MoisturePercent\": 42.0, \"Organic\": 0, \"CategoryTypeEn\": \"Semi-soft Cheese\", \"MilkTypeEn\": \"Cow\", \"MilkTreatmentTypeEn\": \"Pasteurized\", \"FatLevel\": \"lower fat\"}, {\"ManufacturerProvCode\": \"QC\", \"ManufacturingTypeEn\": \"Industrial\", \"MoisturePercent\": 40.0, \"Organic\": 1, \"CategoryTypeEn\": \"Firm Cheese\", \"MilkTypeEn\": \"Cow\", \"MilkTreatmentTypeEn\": \"Thermised\", \"FatLevel\": \"lower fat\"}, {\"ManufacturerProvCode\": \"QC\", \"ManufacturingTypeEn\": \"Industrial\", \"MoisturePercent\": 60.0, \"Organic\": 0, \"CategoryTypeEn\": \"Soft Cheese\", \"MilkTypeEn\": \"Cow\", \"MilkTreatmentTypeEn\": \"Pasteurized\", \"FatLevel\": \"lower fat\"}, {\"ManufacturerProvCode\": \"QC\", \"ManufacturingTypeEn\": \"Artisan\", \"MoisturePercent\": 54.0, \"Organic\": 0, \"CategoryTypeEn\": \"Soft Cheese\", \"MilkTypeEn\": \"Cow\", \"MilkTreatmentTypeEn\": \"Pasteurized\", \"FatLevel\": \"lower fat\"}, {\"ManufacturerProvCode\": \"QC\", \"ManufacturingTypeEn\": \"Industrial\", \"MoisturePercent\": 50.0, \"Organic\": 0, \"CategoryTypeEn\": \"Soft Cheese\", \"MilkTypeEn\": \"Cow\", \"MilkTreatmentTypeEn\": null, \"FatLevel\": \"higher fat\"}, {\"ManufacturerProvCode\": \"QC\", \"ManufacturingTypeEn\": \"Industrial\", \"MoisturePercent\": 58.0, \"Organic\": 0, \"CategoryTypeEn\": \"Fresh Cheese\", \"MilkTypeEn\": \"Goat\", \"MilkTreatmentTypeEn\": \"Pasteurized\", \"FatLevel\": \"lower fat\"}, {\"ManufacturerProvCode\": \"QC\", \"ManufacturingTypeEn\": \"Artisan\", \"MoisturePercent\": 41.0, \"Organic\": 0, \"CategoryTypeEn\": \"Firm Cheese\", \"MilkTypeEn\": \"Cow\", \"MilkTreatmentTypeEn\": \"Pasteurized\", \"FatLevel\": \"higher fat\"}, {\"ManufacturerProvCode\": \"QC\", \"ManufacturingTypeEn\": \"Farmstead\", \"MoisturePercent\": 45.0, \"Organic\": 0, \"CategoryTypeEn\": \"Semi-soft Cheese\", \"MilkTypeEn\": \"Cow\", \"MilkTreatmentTypeEn\": \"Raw Milk\", \"FatLevel\": \"higher fat\"}, {\"ManufacturerProvCode\": \"QC\", \"ManufacturingTypeEn\": \"Artisan\", \"MoisturePercent\": 56.0, \"Organic\": 0, \"CategoryTypeEn\": \"Soft Cheese\", \"MilkTypeEn\": \"Cow\", \"MilkTreatmentTypeEn\": \"Pasteurized\", \"FatLevel\": \"lower fat\"}, {\"ManufacturerProvCode\": \"QC\", \"ManufacturingTypeEn\": \"Artisan\", \"MoisturePercent\": 48.0, \"Organic\": 1, \"CategoryTypeEn\": \"Soft Cheese\", \"MilkTypeEn\": \"Cow\", \"MilkTreatmentTypeEn\": \"Raw Milk\", \"FatLevel\": \"lower fat\"}, {\"ManufacturerProvCode\": \"QC\", \"ManufacturingTypeEn\": \"Artisan\", \"MoisturePercent\": 48.0, \"Organic\": 0, \"CategoryTypeEn\": \"Firm Cheese\", \"MilkTypeEn\": \"Cow\", \"MilkTreatmentTypeEn\": \"Pasteurized\", \"FatLevel\": \"lower fat\"}, {\"ManufacturerProvCode\": \"QC\", \"ManufacturingTypeEn\": \"Artisan\", \"MoisturePercent\": 36.0, \"Organic\": 1, \"CategoryTypeEn\": \"Firm Cheese\", \"MilkTypeEn\": \"Cow\", \"MilkTreatmentTypeEn\": \"Raw Milk\", \"FatLevel\": \"higher fat\"}, {\"ManufacturerProvCode\": \"QC\", \"ManufacturingTypeEn\": \"Industrial\", \"MoisturePercent\": 56.0, \"Organic\": 0, \"CategoryTypeEn\": \"Fresh Cheese\", \"MilkTypeEn\": \"Cow\", \"MilkTreatmentTypeEn\": \"Pasteurized\", \"FatLevel\": \"lower fat\"}, {\"ManufacturerProvCode\": \"ON\", \"ManufacturingTypeEn\": \"Industrial\", \"MoisturePercent\": 40.0, \"Organic\": 0, \"CategoryTypeEn\": \"Semi-soft Cheese\", \"MilkTypeEn\": \"Cow\", \"MilkTreatmentTypeEn\": \"Pasteurized\", \"FatLevel\": \"higher fat\"}, {\"ManufacturerProvCode\": \"QC\", \"ManufacturingTypeEn\": \"Artisan\", \"MoisturePercent\": 43.0, \"Organic\": 0, \"CategoryTypeEn\": \"Semi-soft Cheese\", \"MilkTypeEn\": \"Goat\", \"MilkTreatmentTypeEn\": \"Raw Milk\", \"FatLevel\": \"lower fat\"}, {\"ManufacturerProvCode\": \"QC\", \"ManufacturingTypeEn\": \"Artisan\", \"MoisturePercent\": 50.0, \"Organic\": 0, \"CategoryTypeEn\": \"Semi-soft Cheese\", \"MilkTypeEn\": \"Cow\", \"MilkTreatmentTypeEn\": \"Pasteurized\", \"FatLevel\": \"lower fat\"}, {\"ManufacturerProvCode\": \"QC\", \"ManufacturingTypeEn\": \"Industrial\", \"MoisturePercent\": 50.0, \"Organic\": 0, \"CategoryTypeEn\": \"Semi-soft Cheese\", \"MilkTypeEn\": \"Cow\", \"MilkTreatmentTypeEn\": \"Pasteurized\", \"FatLevel\": \"lower fat\"}, {\"ManufacturerProvCode\": \"QC\", \"ManufacturingTypeEn\": \"Artisan\", \"MoisturePercent\": 50.0, \"Organic\": 0, \"CategoryTypeEn\": \"Semi-soft Cheese\", \"MilkTypeEn\": \"Cow\", \"MilkTreatmentTypeEn\": \"Pasteurized\", \"FatLevel\": \"lower fat\"}, {\"ManufacturerProvCode\": \"ON\", \"ManufacturingTypeEn\": \"Industrial\", \"MoisturePercent\": 42.0, \"Organic\": 0, \"CategoryTypeEn\": \"Semi-soft Cheese\", \"MilkTypeEn\": \"Cow\", \"MilkTreatmentTypeEn\": \"Pasteurized\", \"FatLevel\": \"lower fat\"}, {\"ManufacturerProvCode\": \"QC\", \"ManufacturingTypeEn\": \"Farmstead\", \"MoisturePercent\": 39.0, \"Organic\": 0, \"CategoryTypeEn\": \"Firm Cheese\", \"MilkTypeEn\": \"Cow\", \"MilkTreatmentTypeEn\": \"Raw Milk\", \"FatLevel\": \"higher fat\"}, {\"ManufacturerProvCode\": \"QC\", \"ManufacturingTypeEn\": \"Industrial\", \"MoisturePercent\": 40.0, \"Organic\": 0, \"CategoryTypeEn\": \"Firm Cheese\", \"MilkTypeEn\": \"Cow\", \"MilkTreatmentTypeEn\": \"Pasteurized\", \"FatLevel\": \"lower fat\"}, {\"ManufacturerProvCode\": \"QC\", \"ManufacturingTypeEn\": \"Artisan\", \"MoisturePercent\": 42.0, \"Organic\": 0, \"CategoryTypeEn\": \"Firm Cheese\", \"MilkTypeEn\": \"Cow\", \"MilkTreatmentTypeEn\": \"Pasteurized\", \"FatLevel\": \"lower fat\"}, {\"ManufacturerProvCode\": \"QC\", \"ManufacturingTypeEn\": \"Farmstead\", \"MoisturePercent\": 43.0, \"Organic\": 0, \"CategoryTypeEn\": \"Semi-soft Cheese\", \"MilkTypeEn\": \"Ewe\", \"MilkTreatmentTypeEn\": \"Raw Milk\", \"FatLevel\": \"higher fat\"}, {\"ManufacturerProvCode\": \"QC\", \"ManufacturingTypeEn\": \"Artisan\", \"MoisturePercent\": 39.0, \"Organic\": 1, \"CategoryTypeEn\": \"Firm Cheese\", \"MilkTypeEn\": \"Cow\", \"MilkTreatmentTypeEn\": \"Raw Milk\", \"FatLevel\": \"higher fat\"}, {\"ManufacturerProvCode\": \"QC\", \"ManufacturingTypeEn\": \"Artisan\", \"MoisturePercent\": 48.0, \"Organic\": 0, \"CategoryTypeEn\": \"Semi-soft Cheese\", \"MilkTypeEn\": \"Cow\", \"MilkTreatmentTypeEn\": \"Pasteurized\", \"FatLevel\": \"lower fat\"}, {\"ManufacturerProvCode\": \"QC\", \"ManufacturingTypeEn\": \"Farmstead\", \"MoisturePercent\": 68.0, \"Organic\": 0, \"CategoryTypeEn\": \"Fresh Cheese\", \"MilkTypeEn\": \"Goat\", \"MilkTreatmentTypeEn\": \"Pasteurized\", \"FatLevel\": \"lower fat\"}, {\"ManufacturerProvCode\": \"QC\", \"ManufacturingTypeEn\": \"Industrial\", \"MoisturePercent\": 50.0, \"Organic\": 0, \"CategoryTypeEn\": \"Soft Cheese\", \"MilkTypeEn\": \"Cow\", \"MilkTreatmentTypeEn\": \"Pasteurized\", \"FatLevel\": \"lower fat\"}, {\"ManufacturerProvCode\": \"QC\", \"ManufacturingTypeEn\": \"Industrial\", \"MoisturePercent\": 50.0, \"Organic\": 0, \"CategoryTypeEn\": \"Firm Cheese\", \"MilkTypeEn\": \"Cow\", \"MilkTreatmentTypeEn\": \"Pasteurized\", \"FatLevel\": \"lower fat\"}, {\"ManufacturerProvCode\": \"QC\", \"ManufacturingTypeEn\": \"Industrial\", \"MoisturePercent\": 50.0, \"Organic\": 0, \"CategoryTypeEn\": \"Soft Cheese\", \"MilkTypeEn\": \"Cow\", \"MilkTreatmentTypeEn\": \"Pasteurized\", \"FatLevel\": \"lower fat\"}, {\"ManufacturerProvCode\": \"ON\", \"ManufacturingTypeEn\": \"Industrial\", \"MoisturePercent\": 55.0, \"Organic\": 0, \"CategoryTypeEn\": \"Hard Cheese\", \"MilkTypeEn\": \"Cow\", \"MilkTreatmentTypeEn\": \"Pasteurized\", \"FatLevel\": \"lower fat\"}, {\"ManufacturerProvCode\": \"QC\", \"ManufacturingTypeEn\": \"Industrial\", \"MoisturePercent\": 43.0, \"Organic\": 0, \"CategoryTypeEn\": \"Semi-soft Cheese\", \"MilkTypeEn\": \"Cow\", \"MilkTreatmentTypeEn\": \"Pasteurized\", \"FatLevel\": \"lower fat\"}, {\"ManufacturerProvCode\": \"QC\", \"ManufacturingTypeEn\": \"Artisan\", \"MoisturePercent\": 40.0, \"Organic\": 0, \"CategoryTypeEn\": \"Firm Cheese\", \"MilkTypeEn\": \"Cow\", \"MilkTreatmentTypeEn\": \"Raw Milk\", \"FatLevel\": \"higher fat\"}, {\"ManufacturerProvCode\": \"AB\", \"ManufacturingTypeEn\": \"Industrial\", \"MoisturePercent\": 26.0, \"Organic\": 0, \"CategoryTypeEn\": \"Firm Cheese\", \"MilkTypeEn\": \"Ewe and Cow\", \"MilkTreatmentTypeEn\": \"Pasteurized\", \"FatLevel\": \"higher fat\"}, {\"ManufacturerProvCode\": \"QC\", \"ManufacturingTypeEn\": \"Artisan\", \"MoisturePercent\": 31.0, \"Organic\": 0, \"CategoryTypeEn\": \"Firm Cheese\", \"MilkTypeEn\": \"Cow\", \"MilkTreatmentTypeEn\": \"Pasteurized\", \"FatLevel\": \"higher fat\"}, {\"ManufacturerProvCode\": \"ON\", \"ManufacturingTypeEn\": \"Industrial\", \"MoisturePercent\": null, \"Organic\": 0, \"CategoryTypeEn\": \"Fresh Cheese\", \"MilkTypeEn\": \"Cow\", \"MilkTreatmentTypeEn\": \"Pasteurized\", \"FatLevel\": \"higher fat\"}, {\"ManufacturerProvCode\": \"QC\", \"ManufacturingTypeEn\": \"Industrial\", \"MoisturePercent\": 43.0, \"Organic\": 0, \"CategoryTypeEn\": \"Firm Cheese\", \"MilkTypeEn\": \"Cow\", \"MilkTreatmentTypeEn\": \"Pasteurized\", \"FatLevel\": \"higher fat\"}, {\"ManufacturerProvCode\": \"QC\", \"ManufacturingTypeEn\": \"Artisan\", \"MoisturePercent\": 35.0, \"Organic\": 0, \"CategoryTypeEn\": \"Firm Cheese\", \"MilkTypeEn\": \"Ewe\", \"MilkTreatmentTypeEn\": \"Thermised\", \"FatLevel\": \"higher fat\"}, {\"ManufacturerProvCode\": \"QC\", \"ManufacturingTypeEn\": \"Industrial\", \"MoisturePercent\": 58.0, \"Organic\": 1, \"CategoryTypeEn\": \"Fresh Cheese\", \"MilkTypeEn\": \"Goat\", \"MilkTreatmentTypeEn\": \"Pasteurized\", \"FatLevel\": \"lower fat\"}, {\"ManufacturerProvCode\": \"QC\", \"ManufacturingTypeEn\": \"Artisan\", \"MoisturePercent\": 33.0, \"Organic\": 1, \"CategoryTypeEn\": \"Firm Cheese\", \"MilkTypeEn\": \"Cow\", \"MilkTreatmentTypeEn\": \"Raw Milk\", \"FatLevel\": \"higher fat\"}, {\"ManufacturerProvCode\": \"QC\", \"ManufacturingTypeEn\": \"Artisan\", \"MoisturePercent\": 69.0, \"Organic\": 0, \"CategoryTypeEn\": \"Fresh Cheese\", \"MilkTypeEn\": \"Goat\", \"MilkTreatmentTypeEn\": \"Pasteurized\", \"FatLevel\": \"lower fat\"}, {\"ManufacturerProvCode\": \"QC\", \"ManufacturingTypeEn\": \"Artisan\", \"MoisturePercent\": 33.0, \"Organic\": 0, \"CategoryTypeEn\": \"Firm Cheese\", \"MilkTypeEn\": \"Ewe\", \"MilkTreatmentTypeEn\": null, \"FatLevel\": \"higher fat\"}, {\"ManufacturerProvCode\": \"QC\", \"ManufacturingTypeEn\": \"Farmstead\", \"MoisturePercent\": 42.0, \"Organic\": 0, \"CategoryTypeEn\": \"Firm Cheese\", \"MilkTypeEn\": \"Cow\", \"MilkTreatmentTypeEn\": \"Pasteurized\", \"FatLevel\": \"higher fat\"}, {\"ManufacturerProvCode\": \"QC\", \"ManufacturingTypeEn\": \"Artisan\", \"MoisturePercent\": 40.0, \"Organic\": 0, \"CategoryTypeEn\": \"Firm Cheese\", \"MilkTypeEn\": \"Cow\", \"MilkTreatmentTypeEn\": \"Pasteurized\", \"FatLevel\": \"lower fat\"}, {\"ManufacturerProvCode\": \"AB\", \"ManufacturingTypeEn\": \"Farmstead\", \"MoisturePercent\": 55.0, \"Organic\": 0, \"CategoryTypeEn\": \"Semi-soft Cheese\", \"MilkTypeEn\": \"Goat\", \"MilkTreatmentTypeEn\": \"Pasteurized\", \"FatLevel\": \"lower fat\"}, {\"ManufacturerProvCode\": \"QC\", \"ManufacturingTypeEn\": \"Artisan\", \"MoisturePercent\": 56.0, \"Organic\": 0, \"CategoryTypeEn\": \"Semi-soft Cheese\", \"MilkTypeEn\": \"Cow\", \"MilkTreatmentTypeEn\": \"Pasteurized\", \"FatLevel\": \"lower fat\"}, {\"ManufacturerProvCode\": \"QC\", \"ManufacturingTypeEn\": \"Industrial\", \"MoisturePercent\": 47.0, \"Organic\": 0, \"CategoryTypeEn\": \"Semi-soft Cheese\", \"MilkTypeEn\": \"Cow\", \"MilkTreatmentTypeEn\": \"Pasteurized\", \"FatLevel\": \"lower fat\"}, {\"ManufacturerProvCode\": \"ON\", \"ManufacturingTypeEn\": \"Industrial\", \"MoisturePercent\": 42.0, \"Organic\": 0, \"CategoryTypeEn\": null, \"MilkTypeEn\": \"Cow\", \"MilkTreatmentTypeEn\": null, \"FatLevel\": \"lower fat\"}, {\"ManufacturerProvCode\": \"QC\", \"ManufacturingTypeEn\": \"Farmstead\", \"MoisturePercent\": 45.0, \"Organic\": 1, \"CategoryTypeEn\": \"Semi-soft Cheese\", \"MilkTypeEn\": \"Cow and Goat\", \"MilkTreatmentTypeEn\": \"Thermised\", \"FatLevel\": \"lower fat\"}, {\"ManufacturerProvCode\": \"BC\", \"ManufacturingTypeEn\": \"Artisan\", \"MoisturePercent\": 68.0, \"Organic\": 0, \"CategoryTypeEn\": \"Soft Cheese\", \"MilkTypeEn\": \"Cow\", \"MilkTreatmentTypeEn\": \"Pasteurized\", \"FatLevel\": \"lower fat\"}, {\"ManufacturerProvCode\": \"QC\", \"ManufacturingTypeEn\": \"Industrial\", \"MoisturePercent\": 50.0, \"Organic\": 0, \"CategoryTypeEn\": \"Soft Cheese\", \"MilkTypeEn\": \"Cow\", \"MilkTreatmentTypeEn\": \"Pasteurized\", \"FatLevel\": \"higher fat\"}, {\"ManufacturerProvCode\": \"NL\", \"ManufacturingTypeEn\": \"Industrial\", \"MoisturePercent\": 39.0, \"Organic\": 0, \"CategoryTypeEn\": \"Firm Cheese\", \"MilkTypeEn\": \"Cow\", \"MilkTreatmentTypeEn\": \"Pasteurized\", \"FatLevel\": \"higher fat\"}, {\"ManufacturerProvCode\": \"NS\", \"ManufacturingTypeEn\": \"Artisan\", \"MoisturePercent\": 40.0, \"Organic\": 0, \"CategoryTypeEn\": \"Semi-soft Cheese\", \"MilkTypeEn\": \"Cow\", \"MilkTreatmentTypeEn\": \"Pasteurized\", \"FatLevel\": \"higher fat\"}, {\"ManufacturerProvCode\": \"QC\", \"ManufacturingTypeEn\": \"Industrial\", \"MoisturePercent\": 52.0, \"Organic\": 0, \"CategoryTypeEn\": \"Semi-soft Cheese\", \"MilkTypeEn\": \"Cow\", \"MilkTreatmentTypeEn\": \"Pasteurized\", \"FatLevel\": \"lower fat\"}, {\"ManufacturerProvCode\": \"QC\", \"ManufacturingTypeEn\": \"Artisan\", \"MoisturePercent\": 48.0, \"Organic\": 0, \"CategoryTypeEn\": \"Firm Cheese\", \"MilkTypeEn\": \"Cow\", \"MilkTreatmentTypeEn\": \"Pasteurized\", \"FatLevel\": \"lower fat\"}, {\"ManufacturerProvCode\": \"QC\", \"ManufacturingTypeEn\": \"Industrial\", \"MoisturePercent\": 45.0, \"Organic\": 0, \"CategoryTypeEn\": \"Semi-soft Cheese\", \"MilkTypeEn\": \"Cow\", \"MilkTreatmentTypeEn\": \"Pasteurized\", \"FatLevel\": \"lower fat\"}, {\"ManufacturerProvCode\": \"QC\", \"ManufacturingTypeEn\": \"Farmstead\", \"MoisturePercent\": 70.0, \"Organic\": 0, \"CategoryTypeEn\": \"Fresh Cheese\", \"MilkTypeEn\": \"Goat\", \"MilkTreatmentTypeEn\": \"Pasteurized\", \"FatLevel\": \"lower fat\"}, {\"ManufacturerProvCode\": \"BC\", \"ManufacturingTypeEn\": \"Farmstead\", \"MoisturePercent\": 34.0, \"Organic\": 1, \"CategoryTypeEn\": \"Semi-soft Cheese\", \"MilkTypeEn\": \"Cow\", \"MilkTreatmentTypeEn\": \"Raw Milk\", \"FatLevel\": \"higher fat\"}, {\"ManufacturerProvCode\": \"QC\", \"ManufacturingTypeEn\": \"Artisan\", \"MoisturePercent\": 41.0, \"Organic\": 0, \"CategoryTypeEn\": \"Firm Cheese\", \"MilkTypeEn\": \"Goat\", \"MilkTreatmentTypeEn\": \"Pasteurized\", \"FatLevel\": \"higher fat\"}, {\"ManufacturerProvCode\": \"QC\", \"ManufacturingTypeEn\": \"Industrial\", \"MoisturePercent\": 50.0, \"Organic\": 0, \"CategoryTypeEn\": \"Soft Cheese\", \"MilkTypeEn\": \"Cow\", \"MilkTreatmentTypeEn\": \"Pasteurized\", \"FatLevel\": \"higher fat\"}, {\"ManufacturerProvCode\": \"QC\", \"ManufacturingTypeEn\": \"Industrial\", \"MoisturePercent\": 55.0, \"Organic\": 0, \"CategoryTypeEn\": \"Fresh Cheese\", \"MilkTypeEn\": \"Goat\", \"MilkTreatmentTypeEn\": \"Pasteurized\", \"FatLevel\": \"lower fat\"}, {\"ManufacturerProvCode\": \"QC\", \"ManufacturingTypeEn\": \"Farmstead\", \"MoisturePercent\": 56.0, \"Organic\": 1, \"CategoryTypeEn\": \"Soft Cheese\", \"MilkTypeEn\": \"Goat\", \"MilkTreatmentTypeEn\": \"Pasteurized\", \"FatLevel\": \"lower fat\"}, {\"ManufacturerProvCode\": \"QC\", \"ManufacturingTypeEn\": \"Farmstead\", \"MoisturePercent\": 60.0, \"Organic\": 0, \"CategoryTypeEn\": \"Soft Cheese\", \"MilkTypeEn\": \"Goat\", \"MilkTreatmentTypeEn\": \"Pasteurized\", \"FatLevel\": \"lower fat\"}, {\"ManufacturerProvCode\": \"ON\", \"ManufacturingTypeEn\": \"Industrial\", \"MoisturePercent\": 39.0, \"Organic\": 0, \"CategoryTypeEn\": \"Firm Cheese\", \"MilkTypeEn\": \"Cow\", \"MilkTreatmentTypeEn\": \"Pasteurized\", \"FatLevel\": \"higher fat\"}, {\"ManufacturerProvCode\": \"QC\", \"ManufacturingTypeEn\": \"Industrial\", \"MoisturePercent\": 42.0, \"Organic\": 0, \"CategoryTypeEn\": \"Firm Cheese\", \"MilkTypeEn\": \"Goat\", \"MilkTreatmentTypeEn\": \"Pasteurized\", \"FatLevel\": \"lower fat\"}, {\"ManufacturerProvCode\": \"BC\", \"ManufacturingTypeEn\": \"Farmstead\", \"MoisturePercent\": 34.0, \"Organic\": 1, \"CategoryTypeEn\": \"Semi-soft Cheese\", \"MilkTypeEn\": \"Goat\", \"MilkTreatmentTypeEn\": \"Raw Milk\", \"FatLevel\": \"higher fat\"}, {\"ManufacturerProvCode\": \"QC\", \"ManufacturingTypeEn\": \"Artisan\", \"MoisturePercent\": 47.0, \"Organic\": 0, \"CategoryTypeEn\": \"Semi-soft Cheese\", \"MilkTypeEn\": \"Cow\", \"MilkTreatmentTypeEn\": \"Raw Milk\", \"FatLevel\": \"higher fat\"}, {\"ManufacturerProvCode\": \"QC\", \"ManufacturingTypeEn\": \"Industrial\", \"MoisturePercent\": 76.0, \"Organic\": 0, \"CategoryTypeEn\": \"Fresh Cheese\", \"MilkTypeEn\": \"Cow\", \"MilkTreatmentTypeEn\": \"Pasteurized\", \"FatLevel\": \"lower fat\"}, {\"ManufacturerProvCode\": \"ON\", \"ManufacturingTypeEn\": \"Industrial\", \"MoisturePercent\": 47.0, \"Organic\": 0, \"CategoryTypeEn\": \"Firm Cheese\", \"MilkTypeEn\": \"Cow\", \"MilkTreatmentTypeEn\": \"Thermised\", \"FatLevel\": \"lower fat\"}, {\"ManufacturerProvCode\": \"QC\", \"ManufacturingTypeEn\": \"Industrial\", \"MoisturePercent\": 57.0, \"Organic\": 0, \"CategoryTypeEn\": \"Soft Cheese\", \"MilkTypeEn\": \"Cow\", \"MilkTreatmentTypeEn\": \"Pasteurized\", \"FatLevel\": \"lower fat\"}, {\"ManufacturerProvCode\": \"QC\", \"ManufacturingTypeEn\": \"Industrial\", \"MoisturePercent\": 45.0, \"Organic\": 0, \"CategoryTypeEn\": \"Soft Cheese\", \"MilkTypeEn\": \"Cow\", \"MilkTreatmentTypeEn\": \"Pasteurized\", \"FatLevel\": \"higher fat\"}, {\"ManufacturerProvCode\": \"QC\", \"ManufacturingTypeEn\": \"Industrial\", \"MoisturePercent\": 46.0, \"Organic\": 0, \"CategoryTypeEn\": \"Semi-soft Cheese\", \"MilkTypeEn\": \"Cow\", \"MilkTreatmentTypeEn\": \"Pasteurized\", \"FatLevel\": \"lower fat\"}, {\"ManufacturerProvCode\": \"QC\", \"ManufacturingTypeEn\": \"Industrial\", \"MoisturePercent\": 39.0, \"Organic\": 0, \"CategoryTypeEn\": \"Firm Cheese\", \"MilkTypeEn\": \"Cow\", \"MilkTreatmentTypeEn\": \"Pasteurized\", \"FatLevel\": \"higher fat\"}, {\"ManufacturerProvCode\": \"QC\", \"ManufacturingTypeEn\": \"Industrial\", \"MoisturePercent\": 60.0, \"Organic\": 0, \"CategoryTypeEn\": \"Fresh Cheese\", \"MilkTypeEn\": \"Cow and Goat\", \"MilkTreatmentTypeEn\": null, \"FatLevel\": \"lower fat\"}, {\"ManufacturerProvCode\": \"QC\", \"ManufacturingTypeEn\": \"Industrial\", \"MoisturePercent\": 46.0, \"Organic\": 0, \"CategoryTypeEn\": \"Semi-soft Cheese\", \"MilkTypeEn\": \"Cow\", \"MilkTreatmentTypeEn\": \"Pasteurized\", \"FatLevel\": \"lower fat\"}, {\"ManufacturerProvCode\": \"QC\", \"ManufacturingTypeEn\": \"Artisan\", \"MoisturePercent\": 65.0, \"Organic\": 0, \"CategoryTypeEn\": \"Semi-soft Cheese\", \"MilkTypeEn\": \"Goat\", \"MilkTreatmentTypeEn\": \"Pasteurized\", \"FatLevel\": \"lower fat\"}, {\"ManufacturerProvCode\": \"QC\", \"ManufacturingTypeEn\": \"Artisan\", \"MoisturePercent\": 52.0, \"Organic\": 1, \"CategoryTypeEn\": \"Semi-soft Cheese\", \"MilkTypeEn\": \"Cow\", \"MilkTreatmentTypeEn\": \"Pasteurized\", \"FatLevel\": \"lower fat\"}, {\"ManufacturerProvCode\": \"QC\", \"ManufacturingTypeEn\": \"Industrial\", \"MoisturePercent\": 40.0, \"Organic\": 0, \"CategoryTypeEn\": \"Firm Cheese\", \"MilkTypeEn\": \"Cow\", \"MilkTreatmentTypeEn\": \"Pasteurized\", \"FatLevel\": \"lower fat\"}, {\"ManufacturerProvCode\": \"QC\", \"ManufacturingTypeEn\": \"Artisan\", \"MoisturePercent\": 55.0, \"Organic\": 0, \"CategoryTypeEn\": \"Semi-soft Cheese\", \"MilkTypeEn\": \"Goat\", \"MilkTreatmentTypeEn\": \"Pasteurized\", \"FatLevel\": \"lower fat\"}, {\"ManufacturerProvCode\": \"QC\", \"ManufacturingTypeEn\": \"Artisan\", \"MoisturePercent\": 43.0, \"Organic\": 0, \"CategoryTypeEn\": \"Fresh Cheese\", \"MilkTypeEn\": \"Goat\", \"MilkTreatmentTypeEn\": \"Pasteurized\", \"FatLevel\": \"lower fat\"}, {\"ManufacturerProvCode\": \"ON\", \"ManufacturingTypeEn\": \"Industrial\", \"MoisturePercent\": 40.0, \"Organic\": 0, \"CategoryTypeEn\": \"Semi-soft Cheese\", \"MilkTypeEn\": \"Cow\", \"MilkTreatmentTypeEn\": \"Pasteurized\", \"FatLevel\": \"lower fat\"}, {\"ManufacturerProvCode\": \"QC\", \"ManufacturingTypeEn\": \"Artisan\", \"MoisturePercent\": 50.0, \"Organic\": 0, \"CategoryTypeEn\": \"Soft Cheese\", \"MilkTypeEn\": \"Cow\", \"MilkTreatmentTypeEn\": \"Thermised\", \"FatLevel\": \"lower fat\"}, {\"ManufacturerProvCode\": \"QC\", \"ManufacturingTypeEn\": \"Industrial\", \"MoisturePercent\": 37.0, \"Organic\": 0, \"CategoryTypeEn\": \"Firm Cheese\", \"MilkTypeEn\": \"Cow\", \"MilkTreatmentTypeEn\": null, \"FatLevel\": \"higher fat\"}, {\"ManufacturerProvCode\": \"QC\", \"ManufacturingTypeEn\": \"Artisan\", \"MoisturePercent\": 42.0, \"Organic\": 0, \"CategoryTypeEn\": \"Firm Cheese\", \"MilkTypeEn\": \"Cow\", \"MilkTreatmentTypeEn\": \"Pasteurized\", \"FatLevel\": \"lower fat\"}, {\"ManufacturerProvCode\": \"QC\", \"ManufacturingTypeEn\": \"Industrial\", \"MoisturePercent\": 54.0, \"Organic\": 0, \"CategoryTypeEn\": \"Soft Cheese\", \"MilkTypeEn\": \"Cow\", \"MilkTreatmentTypeEn\": \"Pasteurized\", \"FatLevel\": \"lower fat\"}, {\"ManufacturerProvCode\": \"QC\", \"ManufacturingTypeEn\": \"Industrial\", \"MoisturePercent\": 48.0, \"Organic\": 0, \"CategoryTypeEn\": \"Semi-soft Cheese\", \"MilkTypeEn\": \"Cow\", \"MilkTreatmentTypeEn\": \"Pasteurized\", \"FatLevel\": \"lower fat\"}, {\"ManufacturerProvCode\": \"QC\", \"ManufacturingTypeEn\": \"Industrial\", \"MoisturePercent\": 39.0, \"Organic\": 0, \"CategoryTypeEn\": \"Firm Cheese\", \"MilkTypeEn\": \"Cow\", \"MilkTreatmentTypeEn\": \"Pasteurized\", \"FatLevel\": \"higher fat\"}, {\"ManufacturerProvCode\": \"QC\", \"ManufacturingTypeEn\": \"Artisan\", \"MoisturePercent\": 55.0, \"Organic\": 0, \"CategoryTypeEn\": \"Soft Cheese\", \"MilkTypeEn\": \"Cow\", \"MilkTreatmentTypeEn\": \"Pasteurized\", \"FatLevel\": \"lower fat\"}, {\"ManufacturerProvCode\": \"QC\", \"ManufacturingTypeEn\": \"Artisan\", \"MoisturePercent\": 42.0, \"Organic\": 0, \"CategoryTypeEn\": \"Firm Cheese\", \"MilkTypeEn\": \"Ewe\", \"MilkTreatmentTypeEn\": \"Pasteurized\", \"FatLevel\": \"higher fat\"}, {\"ManufacturerProvCode\": \"QC\", \"ManufacturingTypeEn\": \"Industrial\", \"MoisturePercent\": 37.0, \"Organic\": 0, \"CategoryTypeEn\": \"Veined Cheeses\", \"MilkTypeEn\": \"Cow\", \"MilkTreatmentTypeEn\": \"Pasteurized\", \"FatLevel\": \"higher fat\"}, {\"ManufacturerProvCode\": \"QC\", \"ManufacturingTypeEn\": \"Farmstead\", \"MoisturePercent\": 60.0, \"Organic\": 0, \"CategoryTypeEn\": \"Soft Cheese\", \"MilkTypeEn\": \"Goat\", \"MilkTreatmentTypeEn\": \"Pasteurized\", \"FatLevel\": \"lower fat\"}, {\"ManufacturerProvCode\": \"QC\", \"ManufacturingTypeEn\": \"Artisan\", \"MoisturePercent\": 35.0, \"Organic\": 0, \"CategoryTypeEn\": \"Firm Cheese\", \"MilkTypeEn\": \"Cow\", \"MilkTreatmentTypeEn\": \"Pasteurized\", \"FatLevel\": \"higher fat\"}, {\"ManufacturerProvCode\": \"QC\", \"ManufacturingTypeEn\": \"Artisan\", \"MoisturePercent\": 50.0, \"Organic\": 0, \"CategoryTypeEn\": \"Semi-soft Cheese\", \"MilkTypeEn\": \"Cow\", \"MilkTreatmentTypeEn\": \"Pasteurized\", \"FatLevel\": \"lower fat\"}, {\"ManufacturerProvCode\": \"QC\", \"ManufacturingTypeEn\": \"Industrial\", \"MoisturePercent\": 39.0, \"Organic\": 0, \"CategoryTypeEn\": \"Firm Cheese\", \"MilkTypeEn\": \"Cow\", \"MilkTreatmentTypeEn\": \"Raw Milk\", \"FatLevel\": \"higher fat\"}, {\"ManufacturerProvCode\": \"QC\", \"ManufacturingTypeEn\": \"Industrial\", \"MoisturePercent\": 26.0, \"Organic\": 0, \"CategoryTypeEn\": \"Semi-soft Cheese\", \"MilkTypeEn\": \"Cow\", \"MilkTreatmentTypeEn\": \"Pasteurized\", \"FatLevel\": \"higher fat\"}, {\"ManufacturerProvCode\": \"NB\", \"ManufacturingTypeEn\": \"Farmstead\", \"MoisturePercent\": 50.0, \"Organic\": 0, \"CategoryTypeEn\": \"Fresh Cheese\", \"MilkTypeEn\": \"Goat\", \"MilkTreatmentTypeEn\": \"Pasteurized\", \"FatLevel\": \"lower fat\"}, {\"ManufacturerProvCode\": \"QC\", \"ManufacturingTypeEn\": \"Industrial\", \"MoisturePercent\": 50.0, \"Organic\": 0, \"CategoryTypeEn\": \"Soft Cheese\", \"MilkTypeEn\": \"Cow\", \"MilkTreatmentTypeEn\": \"Pasteurized\", \"FatLevel\": \"higher fat\"}, {\"ManufacturerProvCode\": \"QC\", \"ManufacturingTypeEn\": \"Industrial\", \"MoisturePercent\": 35.0, \"Organic\": 0, \"CategoryTypeEn\": \"Hard Cheese\", \"MilkTypeEn\": \"Cow\", \"MilkTreatmentTypeEn\": \"Pasteurized\", \"FatLevel\": \"lower fat\"}, {\"ManufacturerProvCode\": \"QC\", \"ManufacturingTypeEn\": \"Farmstead\", \"MoisturePercent\": 29.0, \"Organic\": 0, \"CategoryTypeEn\": \"Semi-soft Cheese\", \"MilkTypeEn\": \"Cow\", \"MilkTreatmentTypeEn\": \"Raw Milk\", \"FatLevel\": \"higher fat\"}, {\"ManufacturerProvCode\": \"QC\", \"ManufacturingTypeEn\": \"Artisan\", \"MoisturePercent\": 37.0, \"Organic\": 0, \"CategoryTypeEn\": \"Firm Cheese\", \"MilkTypeEn\": \"Cow\", \"MilkTreatmentTypeEn\": null, \"FatLevel\": \"higher fat\"}, {\"ManufacturerProvCode\": \"QC\", \"ManufacturingTypeEn\": \"Farmstead\", \"MoisturePercent\": 38.0, \"Organic\": 0, \"CategoryTypeEn\": \"Firm Cheese\", \"MilkTypeEn\": \"Cow\", \"MilkTreatmentTypeEn\": \"Pasteurized\", \"FatLevel\": \"higher fat\"}, {\"ManufacturerProvCode\": \"QC\", \"ManufacturingTypeEn\": \"Industrial\", \"MoisturePercent\": 50.0, \"Organic\": 0, \"CategoryTypeEn\": \"Fresh Cheese\", \"MilkTypeEn\": \"Cow\", \"MilkTreatmentTypeEn\": \"Pasteurized\", \"FatLevel\": \"lower fat\"}, {\"ManufacturerProvCode\": \"QC\", \"ManufacturingTypeEn\": \"Artisan\", \"MoisturePercent\": 55.0, \"Organic\": 1, \"CategoryTypeEn\": \"Firm Cheese\", \"MilkTypeEn\": \"Cow\", \"MilkTreatmentTypeEn\": \"Pasteurized\", \"FatLevel\": \"lower fat\"}, {\"ManufacturerProvCode\": \"QC\", \"ManufacturingTypeEn\": \"Industrial\", \"MoisturePercent\": 35.0, \"Organic\": 0, \"CategoryTypeEn\": \"Firm Cheese\", \"MilkTypeEn\": \"Cow\", \"MilkTreatmentTypeEn\": \"Pasteurized\", \"FatLevel\": \"higher fat\"}, {\"ManufacturerProvCode\": \"NB\", \"ManufacturingTypeEn\": \"Farmstead\", \"MoisturePercent\": 50.0, \"Organic\": 0, \"CategoryTypeEn\": \"Soft Cheese\", \"MilkTypeEn\": \"Goat\", \"MilkTreatmentTypeEn\": \"Pasteurized\", \"FatLevel\": \"lower fat\"}, {\"ManufacturerProvCode\": \"ON\", \"ManufacturingTypeEn\": \"Industrial\", \"MoisturePercent\": 21.0, \"Organic\": 0, \"CategoryTypeEn\": \"Hard Cheese\", \"MilkTypeEn\": \"Ewe\", \"MilkTreatmentTypeEn\": null, \"FatLevel\": \"higher fat\"}, {\"ManufacturerProvCode\": \"NB\", \"ManufacturingTypeEn\": \"Farmstead\", \"MoisturePercent\": 50.0, \"Organic\": 1, \"CategoryTypeEn\": \"Soft Cheese\", \"MilkTypeEn\": \"Goat\", \"MilkTreatmentTypeEn\": \"Pasteurized\", \"FatLevel\": \"lower fat\"}, {\"ManufacturerProvCode\": \"QC\", \"ManufacturingTypeEn\": \"Farmstead\", \"MoisturePercent\": 35.0, \"Organic\": 1, \"CategoryTypeEn\": \"Firm Cheese\", \"MilkTypeEn\": \"Goat\", \"MilkTreatmentTypeEn\": \"Raw Milk\", \"FatLevel\": \"higher fat\"}, {\"ManufacturerProvCode\": \"QC\", \"ManufacturingTypeEn\": \"Artisan\", \"MoisturePercent\": 42.0, \"Organic\": 0, \"CategoryTypeEn\": \"Firm Cheese\", \"MilkTypeEn\": \"Cow\", \"MilkTreatmentTypeEn\": \"Pasteurized\", \"FatLevel\": \"lower fat\"}, {\"ManufacturerProvCode\": \"QC\", \"ManufacturingTypeEn\": \"Artisan\", \"MoisturePercent\": 44.0, \"Organic\": 0, \"CategoryTypeEn\": \"Soft Cheese\", \"MilkTypeEn\": \"Cow\", \"MilkTreatmentTypeEn\": \"Raw Milk\", \"FatLevel\": \"higher fat\"}, {\"ManufacturerProvCode\": \"QC\", \"ManufacturingTypeEn\": \"Farmstead\", \"MoisturePercent\": 44.0, \"Organic\": 0, \"CategoryTypeEn\": \"Firm Cheese\", \"MilkTypeEn\": \"Cow\", \"MilkTreatmentTypeEn\": null, \"FatLevel\": \"lower fat\"}, {\"ManufacturerProvCode\": \"QC\", \"ManufacturingTypeEn\": \"Industrial\", \"MoisturePercent\": 57.0, \"Organic\": 0, \"CategoryTypeEn\": \"Soft Cheese\", \"MilkTypeEn\": \"Cow\", \"MilkTreatmentTypeEn\": \"Pasteurized\", \"FatLevel\": \"lower fat\"}, {\"ManufacturerProvCode\": \"QC\", \"ManufacturingTypeEn\": \"Farmstead\", \"MoisturePercent\": 46.0, \"Organic\": 0, \"CategoryTypeEn\": \"Semi-soft Cheese\", \"MilkTypeEn\": \"Cow\", \"MilkTreatmentTypeEn\": \"Pasteurized\", \"FatLevel\": \"lower fat\"}, {\"ManufacturerProvCode\": \"ON\", \"ManufacturingTypeEn\": \"Artisan\", \"MoisturePercent\": 80.0, \"Organic\": 0, \"CategoryTypeEn\": \"Fresh Cheese\", \"MilkTypeEn\": \"Ewe\", \"MilkTreatmentTypeEn\": \"Pasteurized\", \"FatLevel\": \"lower fat\"}, {\"ManufacturerProvCode\": \"QC\", \"ManufacturingTypeEn\": \"Industrial\", \"MoisturePercent\": 52.0, \"Organic\": 0, \"CategoryTypeEn\": \"Soft Cheese\", \"MilkTypeEn\": \"Cow\", \"MilkTreatmentTypeEn\": \"Pasteurized\", \"FatLevel\": \"higher fat\"}, {\"ManufacturerProvCode\": \"QC\", \"ManufacturingTypeEn\": \"Industrial\", \"MoisturePercent\": 50.0, \"Organic\": 0, \"CategoryTypeEn\": \"Soft Cheese\", \"MilkTypeEn\": \"Cow\", \"MilkTreatmentTypeEn\": \"Pasteurized\", \"FatLevel\": \"lower fat\"}, {\"ManufacturerProvCode\": \"QC\", \"ManufacturingTypeEn\": \"Industrial\", \"MoisturePercent\": 47.0, \"Organic\": 0, \"CategoryTypeEn\": \"Semi-soft Cheese\", \"MilkTypeEn\": \"Cow\", \"MilkTreatmentTypeEn\": \"Pasteurized\", \"FatLevel\": \"lower fat\"}, {\"ManufacturerProvCode\": \"QC\", \"ManufacturingTypeEn\": \"Artisan\", \"MoisturePercent\": 44.0, \"Organic\": 1, \"CategoryTypeEn\": \"Firm Cheese\", \"MilkTypeEn\": \"Cow and Goat\", \"MilkTreatmentTypeEn\": \"Raw Milk\", \"FatLevel\": \"lower fat\"}, {\"ManufacturerProvCode\": \"QC\", \"ManufacturingTypeEn\": \"Artisan\", \"MoisturePercent\": 43.0, \"Organic\": 0, \"CategoryTypeEn\": \"Semi-soft Cheese\", \"MilkTypeEn\": \"Cow\", \"MilkTreatmentTypeEn\": \"Pasteurized\", \"FatLevel\": \"higher fat\"}, {\"ManufacturerProvCode\": \"AB\", \"ManufacturingTypeEn\": \"Artisan\", \"MoisturePercent\": 42.0, \"Organic\": 0, \"CategoryTypeEn\": null, \"MilkTypeEn\": null, \"MilkTreatmentTypeEn\": null, \"FatLevel\": \"higher fat\"}, {\"ManufacturerProvCode\": \"QC\", \"ManufacturingTypeEn\": \"Farmstead\", \"MoisturePercent\": 45.0, \"Organic\": 1, \"CategoryTypeEn\": \"Semi-soft Cheese\", \"MilkTypeEn\": \"Goat\", \"MilkTreatmentTypeEn\": \"Pasteurized\", \"FatLevel\": \"lower fat\"}, {\"ManufacturerProvCode\": \"QC\", \"ManufacturingTypeEn\": \"Industrial\", \"MoisturePercent\": 78.0, \"Organic\": 0, \"CategoryTypeEn\": \"Soft Cheese\", \"MilkTypeEn\": \"Cow\", \"MilkTreatmentTypeEn\": \"Pasteurized\", \"FatLevel\": \"lower fat\"}, {\"ManufacturerProvCode\": \"QC\", \"ManufacturingTypeEn\": \"Artisan\", \"MoisturePercent\": 35.0, \"Organic\": 0, \"CategoryTypeEn\": \"Firm Cheese\", \"MilkTypeEn\": \"Cow\", \"MilkTreatmentTypeEn\": \"Raw Milk\", \"FatLevel\": \"higher fat\"}, {\"ManufacturerProvCode\": \"NB\", \"ManufacturingTypeEn\": \"Farmstead\", \"MoisturePercent\": 50.0, \"Organic\": 0, \"CategoryTypeEn\": \"Soft Cheese\", \"MilkTypeEn\": \"Goat\", \"MilkTreatmentTypeEn\": \"Pasteurized\", \"FatLevel\": \"lower fat\"}, {\"ManufacturerProvCode\": \"QC\", \"ManufacturingTypeEn\": \"Farmstead\", \"MoisturePercent\": 45.0, \"Organic\": 0, \"CategoryTypeEn\": \"Semi-soft Cheese\", \"MilkTypeEn\": \"Cow\", \"MilkTreatmentTypeEn\": \"Pasteurized\", \"FatLevel\": \"higher fat\"}, {\"ManufacturerProvCode\": \"QC\", \"ManufacturingTypeEn\": \"Industrial\", \"MoisturePercent\": 54.0, \"Organic\": 0, \"CategoryTypeEn\": \"Soft Cheese\", \"MilkTypeEn\": \"Goat\", \"MilkTreatmentTypeEn\": \"Pasteurized\", \"FatLevel\": \"lower fat\"}, {\"ManufacturerProvCode\": \"QC\", \"ManufacturingTypeEn\": \"Industrial\", \"MoisturePercent\": 55.0, \"Organic\": 0, \"CategoryTypeEn\": \"Firm Cheese\", \"MilkTypeEn\": \"Cow\", \"MilkTreatmentTypeEn\": \"Pasteurized\", \"FatLevel\": \"lower fat\"}, {\"ManufacturerProvCode\": \"QC\", \"ManufacturingTypeEn\": \"Industrial\", \"MoisturePercent\": 39.0, \"Organic\": 0, \"CategoryTypeEn\": \"Firm Cheese\", \"MilkTypeEn\": \"Cow\", \"MilkTreatmentTypeEn\": \"Pasteurized\", \"FatLevel\": \"higher fat\"}, {\"ManufacturerProvCode\": \"QC\", \"ManufacturingTypeEn\": \"Artisan\", \"MoisturePercent\": 46.0, \"Organic\": 0, \"CategoryTypeEn\": \"Soft Cheese\", \"MilkTypeEn\": \"Ewe and Cow\", \"MilkTreatmentTypeEn\": \"Pasteurized\", \"FatLevel\": \"higher fat\"}, {\"ManufacturerProvCode\": \"BC\", \"ManufacturingTypeEn\": \"Farmstead\", \"MoisturePercent\": 30.0, \"Organic\": 0, \"CategoryTypeEn\": \"Hard Cheese\", \"MilkTypeEn\": \"Cow\", \"MilkTreatmentTypeEn\": \"Raw Milk\", \"FatLevel\": \"lower fat\"}, {\"ManufacturerProvCode\": \"ON\", \"ManufacturingTypeEn\": \"Artisan\", \"MoisturePercent\": 55.0, \"Organic\": 0, \"CategoryTypeEn\": \"Soft Cheese\", \"MilkTypeEn\": \"Ewe\", \"MilkTreatmentTypeEn\": \"Pasteurized\", \"FatLevel\": \"lower fat\"}, {\"ManufacturerProvCode\": \"ON\", \"ManufacturingTypeEn\": \"Farmstead\", \"MoisturePercent\": 46.0, \"Organic\": 0, \"CategoryTypeEn\": \"Firm Cheese\", \"MilkTypeEn\": \"Goat\", \"MilkTreatmentTypeEn\": \"Pasteurized\", \"FatLevel\": \"lower fat\"}, {\"ManufacturerProvCode\": \"ON\", \"ManufacturingTypeEn\": \"Industrial\", \"MoisturePercent\": 55.0, \"Organic\": 0, \"CategoryTypeEn\": \"Soft Cheese\", \"MilkTypeEn\": \"Cow\", \"MilkTreatmentTypeEn\": \"Pasteurized\", \"FatLevel\": \"lower fat\"}, {\"ManufacturerProvCode\": \"QC\", \"ManufacturingTypeEn\": \"Industrial\", \"MoisturePercent\": 54.0, \"Organic\": 0, \"CategoryTypeEn\": \"Soft Cheese\", \"MilkTypeEn\": \"Cow\", \"MilkTreatmentTypeEn\": \"Pasteurized\", \"FatLevel\": \"lower fat\"}, {\"ManufacturerProvCode\": \"ON\", \"ManufacturingTypeEn\": \"Industrial\", \"MoisturePercent\": 55.0, \"Organic\": 0, \"CategoryTypeEn\": \"Soft Cheese\", \"MilkTypeEn\": \"Goat\", \"MilkTreatmentTypeEn\": \"Pasteurized\", \"FatLevel\": \"lower fat\"}, {\"ManufacturerProvCode\": \"QC\", \"ManufacturingTypeEn\": \"Industrial\", \"MoisturePercent\": 45.0, \"Organic\": 0, \"CategoryTypeEn\": \"Semi-soft Cheese\", \"MilkTypeEn\": \"Cow\", \"MilkTreatmentTypeEn\": \"Pasteurized\", \"FatLevel\": \"higher fat\"}, {\"ManufacturerProvCode\": \"ON\", \"ManufacturingTypeEn\": \"Industrial\", \"MoisturePercent\": 60.0, \"Organic\": 0, \"CategoryTypeEn\": \"Fresh Cheese\", \"MilkTypeEn\": \"Goat\", \"MilkTreatmentTypeEn\": null, \"FatLevel\": \"lower fat\"}, {\"ManufacturerProvCode\": \"ON\", \"ManufacturingTypeEn\": \"Artisan\", \"MoisturePercent\": null, \"Organic\": 0, \"CategoryTypeEn\": \"Soft Cheese\", \"MilkTypeEn\": \"Ewe\", \"MilkTreatmentTypeEn\": \"Pasteurized\", \"FatLevel\": \"lower fat\"}, {\"ManufacturerProvCode\": \"QC\", \"ManufacturingTypeEn\": \"Farmstead\", \"MoisturePercent\": 65.0, \"Organic\": 0, \"CategoryTypeEn\": \"Fresh Cheese\", \"MilkTypeEn\": \"Goat\", \"MilkTreatmentTypeEn\": \"Pasteurized\", \"FatLevel\": \"lower fat\"}, {\"ManufacturerProvCode\": \"ON\", \"ManufacturingTypeEn\": \"Industrial\", \"MoisturePercent\": 54.0, \"Organic\": 0, \"CategoryTypeEn\": \"Soft Cheese\", \"MilkTypeEn\": \"Cow\", \"MilkTreatmentTypeEn\": \"Pasteurized\", \"FatLevel\": \"higher fat\"}, {\"ManufacturerProvCode\": \"BC\", \"ManufacturingTypeEn\": \"Artisan\", \"MoisturePercent\": 44.0, \"Organic\": 0, \"CategoryTypeEn\": \"Soft Cheese\", \"MilkTypeEn\": \"Cow\", \"MilkTreatmentTypeEn\": \"Pasteurized\", \"FatLevel\": \"lower fat\"}, {\"ManufacturerProvCode\": \"QC\", \"ManufacturingTypeEn\": \"Farmstead\", \"MoisturePercent\": 52.0, \"Organic\": 1, \"CategoryTypeEn\": \"Soft Cheese\", \"MilkTypeEn\": \"Cow\", \"MilkTreatmentTypeEn\": \"Pasteurized\", \"FatLevel\": \"lower fat\"}, {\"ManufacturerProvCode\": \"QC\", \"ManufacturingTypeEn\": \"Artisan\", \"MoisturePercent\": 45.0, \"Organic\": 0, \"CategoryTypeEn\": \"Semi-soft Cheese\", \"MilkTypeEn\": \"Cow\", \"MilkTreatmentTypeEn\": \"Raw Milk\", \"FatLevel\": \"higher fat\"}, {\"ManufacturerProvCode\": \"QC\", \"ManufacturingTypeEn\": \"Industrial\", \"MoisturePercent\": 59.0, \"Organic\": 0, \"CategoryTypeEn\": \"Soft Cheese\", \"MilkTypeEn\": \"Cow\", \"MilkTreatmentTypeEn\": \"Pasteurized\", \"FatLevel\": \"lower fat\"}, {\"ManufacturerProvCode\": \"QC\", \"ManufacturingTypeEn\": \"Artisan\", \"MoisturePercent\": 43.0, \"Organic\": 0, \"CategoryTypeEn\": \"Soft Cheese\", \"MilkTypeEn\": \"Goat\", \"MilkTreatmentTypeEn\": \"Pasteurized\", \"FatLevel\": \"lower fat\"}, {\"ManufacturerProvCode\": \"QC\", \"ManufacturingTypeEn\": \"Artisan\", \"MoisturePercent\": 38.0, \"Organic\": 0, \"CategoryTypeEn\": \"Firm Cheese\", \"MilkTypeEn\": \"Cow\", \"MilkTreatmentTypeEn\": \"Thermised\", \"FatLevel\": \"higher fat\"}, {\"ManufacturerProvCode\": \"QC\", \"ManufacturingTypeEn\": \"Artisan\", \"MoisturePercent\": 65.0, \"Organic\": 0, \"CategoryTypeEn\": \"Fresh Cheese\", \"MilkTypeEn\": \"Cow\", \"MilkTreatmentTypeEn\": \"Pasteurized\", \"FatLevel\": \"lower fat\"}, {\"ManufacturerProvCode\": \"ON\", \"ManufacturingTypeEn\": \"Industrial\", \"MoisturePercent\": 42.0, \"Organic\": 0, \"CategoryTypeEn\": \"Firm Cheese\", \"MilkTypeEn\": \"Cow\", \"MilkTreatmentTypeEn\": \"Pasteurized\", \"FatLevel\": \"lower fat\"}, {\"ManufacturerProvCode\": \"QC\", \"ManufacturingTypeEn\": \"Industrial\", \"MoisturePercent\": 48.0, \"Organic\": 0, \"CategoryTypeEn\": \"Veined Cheeses\", \"MilkTypeEn\": \"Cow\", \"MilkTreatmentTypeEn\": \"Pasteurized\", \"FatLevel\": \"lower fat\"}, {\"ManufacturerProvCode\": \"QC\", \"ManufacturingTypeEn\": \"Industrial\", \"MoisturePercent\": 60.0, \"Organic\": 0, \"CategoryTypeEn\": \"Fresh Cheese\", \"MilkTypeEn\": \"Cow\", \"MilkTreatmentTypeEn\": \"Pasteurized\", \"FatLevel\": \"lower fat\"}, {\"ManufacturerProvCode\": \"QC\", \"ManufacturingTypeEn\": \"Industrial\", \"MoisturePercent\": 50.0, \"Organic\": 0, \"CategoryTypeEn\": \"Firm Cheese\", \"MilkTypeEn\": \"Cow\", \"MilkTreatmentTypeEn\": \"Pasteurized\", \"FatLevel\": \"lower fat\"}, {\"ManufacturerProvCode\": \"QC\", \"ManufacturingTypeEn\": \"Industrial\", \"MoisturePercent\": 45.0, \"Organic\": 0, \"CategoryTypeEn\": \"Firm Cheese\", \"MilkTypeEn\": \"Cow\", \"MilkTreatmentTypeEn\": \"Pasteurized\", \"FatLevel\": \"lower fat\"}, {\"ManufacturerProvCode\": \"ON\", \"ManufacturingTypeEn\": \"Industrial\", \"MoisturePercent\": 52.0, \"Organic\": 0, \"CategoryTypeEn\": \"Semi-soft Cheese\", \"MilkTypeEn\": \"Cow\", \"MilkTreatmentTypeEn\": \"Pasteurized\", \"FatLevel\": \"lower fat\"}, {\"ManufacturerProvCode\": \"QC\", \"ManufacturingTypeEn\": \"Industrial\", \"MoisturePercent\": 39.0, \"Organic\": 0, \"CategoryTypeEn\": \"Firm Cheese\", \"MilkTypeEn\": \"Cow\", \"MilkTreatmentTypeEn\": \"Pasteurized\", \"FatLevel\": \"higher fat\"}, {\"ManufacturerProvCode\": \"QC\", \"ManufacturingTypeEn\": \"Artisan\", \"MoisturePercent\": 39.0, \"Organic\": 0, \"CategoryTypeEn\": \"Firm Cheese\", \"MilkTypeEn\": \"Cow\", \"MilkTreatmentTypeEn\": \"Raw Milk\", \"FatLevel\": \"higher fat\"}, {\"ManufacturerProvCode\": \"QC\", \"ManufacturingTypeEn\": \"Industrial\", \"MoisturePercent\": 39.0, \"Organic\": 0, \"CategoryTypeEn\": \"Firm Cheese\", \"MilkTypeEn\": \"Cow\", \"MilkTreatmentTypeEn\": \"Pasteurized\", \"FatLevel\": \"higher fat\"}, {\"ManufacturerProvCode\": \"QC\", \"ManufacturingTypeEn\": \"Industrial\", \"MoisturePercent\": 39.0, \"Organic\": 0, \"CategoryTypeEn\": \"Firm Cheese\", \"MilkTypeEn\": \"Cow\", \"MilkTreatmentTypeEn\": \"Pasteurized\", \"FatLevel\": \"higher fat\"}, {\"ManufacturerProvCode\": \"ON\", \"ManufacturingTypeEn\": \"Industrial\", \"MoisturePercent\": 34.0, \"Organic\": 0, \"CategoryTypeEn\": \"Hard Cheese\", \"MilkTypeEn\": \"Cow\", \"MilkTreatmentTypeEn\": \"Pasteurized\", \"FatLevel\": \"lower fat\"}, {\"ManufacturerProvCode\": \"QC\", \"ManufacturingTypeEn\": \"Industrial\", \"MoisturePercent\": 54.0, \"Organic\": 0, \"CategoryTypeEn\": \"Soft Cheese\", \"MilkTypeEn\": \"Cow\", \"MilkTreatmentTypeEn\": \"Pasteurized\", \"FatLevel\": \"lower fat\"}, {\"ManufacturerProvCode\": \"QC\", \"ManufacturingTypeEn\": \"Artisan\", \"MoisturePercent\": 50.0, \"Organic\": 0, \"CategoryTypeEn\": \"Soft Cheese\", \"MilkTypeEn\": \"Cow\", \"MilkTreatmentTypeEn\": \"Thermised\", \"FatLevel\": \"higher fat\"}, {\"ManufacturerProvCode\": \"QC\", \"ManufacturingTypeEn\": \"Artisan\", \"MoisturePercent\": 40.0, \"Organic\": 0, \"CategoryTypeEn\": \"Firm Cheese\", \"MilkTypeEn\": \"Cow\", \"MilkTreatmentTypeEn\": \"Pasteurized\", \"FatLevel\": \"higher fat\"}, {\"ManufacturerProvCode\": \"QC\", \"ManufacturingTypeEn\": \"Artisan\", \"MoisturePercent\": 55.0, \"Organic\": 0, \"CategoryTypeEn\": \"Soft Cheese\", \"MilkTypeEn\": \"Ewe\", \"MilkTreatmentTypeEn\": \"Pasteurized\", \"FatLevel\": \"lower fat\"}, {\"ManufacturerProvCode\": \"QC\", \"ManufacturingTypeEn\": \"Farmstead\", \"MoisturePercent\": 40.0, \"Organic\": 1, \"CategoryTypeEn\": \"Hard Cheese\", \"MilkTypeEn\": \"Cow\", \"MilkTreatmentTypeEn\": null, \"FatLevel\": \"lower fat\"}, {\"ManufacturerProvCode\": \"QC\", \"ManufacturingTypeEn\": \"Artisan\", \"MoisturePercent\": 39.0, \"Organic\": 0, \"CategoryTypeEn\": \"Firm Cheese\", \"MilkTypeEn\": \"Cow\", \"MilkTreatmentTypeEn\": \"Pasteurized\", \"FatLevel\": \"higher fat\"}, {\"ManufacturerProvCode\": \"QC\", \"ManufacturingTypeEn\": \"Farmstead\", \"MoisturePercent\": 69.0, \"Organic\": 0, \"CategoryTypeEn\": \"Fresh Cheese\", \"MilkTypeEn\": \"Goat\", \"MilkTreatmentTypeEn\": \"Pasteurized\", \"FatLevel\": \"lower fat\"}, {\"ManufacturerProvCode\": \"ON\", \"ManufacturingTypeEn\": \"Industrial\", \"MoisturePercent\": 35.0, \"Organic\": 0, \"CategoryTypeEn\": \"Hard Cheese\", \"MilkTypeEn\": \"Cow\", \"MilkTreatmentTypeEn\": \"Pasteurized\", \"FatLevel\": \"higher fat\"}, {\"ManufacturerProvCode\": \"ON\", \"ManufacturingTypeEn\": \"Industrial\", \"MoisturePercent\": 46.0, \"Organic\": 0, \"CategoryTypeEn\": null, \"MilkTypeEn\": \"Cow\", \"MilkTreatmentTypeEn\": null, \"FatLevel\": \"lower fat\"}, {\"ManufacturerProvCode\": \"AB\", \"ManufacturingTypeEn\": \"Artisan\", \"MoisturePercent\": 31.0, \"Organic\": 0, \"CategoryTypeEn\": \"Firm Cheese\", \"MilkTypeEn\": \"Cow\", \"MilkTreatmentTypeEn\": \"Pasteurized\", \"FatLevel\": \"higher fat\"}, {\"ManufacturerProvCode\": \"BC\", \"ManufacturingTypeEn\": \"Artisan\", \"MoisturePercent\": 48.0, \"Organic\": 0, \"CategoryTypeEn\": \"Soft Cheese\", \"MilkTypeEn\": \"Cow\", \"MilkTreatmentTypeEn\": \"Pasteurized\", \"FatLevel\": \"higher fat\"}, {\"ManufacturerProvCode\": \"QC\", \"ManufacturingTypeEn\": \"Artisan\", \"MoisturePercent\": 78.0, \"Organic\": 1, \"CategoryTypeEn\": \"Fresh Cheese\", \"MilkTypeEn\": \"Goat\", \"MilkTreatmentTypeEn\": \"Pasteurized\", \"FatLevel\": \"lower fat\"}, {\"ManufacturerProvCode\": \"ON\", \"ManufacturingTypeEn\": \"Industrial\", \"MoisturePercent\": 52.0, \"Organic\": 0, \"CategoryTypeEn\": \"Soft Cheese\", \"MilkTypeEn\": \"Cow\", \"MilkTreatmentTypeEn\": \"Pasteurized\", \"FatLevel\": \"lower fat\"}, {\"ManufacturerProvCode\": \"QC\", \"ManufacturingTypeEn\": \"Artisan\", \"MoisturePercent\": 39.0, \"Organic\": 0, \"CategoryTypeEn\": \"Firm Cheese\", \"MilkTypeEn\": \"Cow\", \"MilkTreatmentTypeEn\": \"Pasteurized\", \"FatLevel\": \"higher fat\"}, {\"ManufacturerProvCode\": \"QC\", \"ManufacturingTypeEn\": \"Industrial\", \"MoisturePercent\": 50.0, \"Organic\": 0, \"CategoryTypeEn\": \"Soft Cheese\", \"MilkTypeEn\": \"Cow\", \"MilkTreatmentTypeEn\": \"Pasteurized\", \"FatLevel\": \"lower fat\"}, {\"ManufacturerProvCode\": \"QC\", \"ManufacturingTypeEn\": \"Artisan\", \"MoisturePercent\": 39.0, \"Organic\": 0, \"CategoryTypeEn\": \"Firm Cheese\", \"MilkTypeEn\": \"Cow\", \"MilkTreatmentTypeEn\": \"Thermised\", \"FatLevel\": \"higher fat\"}, {\"ManufacturerProvCode\": \"QC\", \"ManufacturingTypeEn\": \"Industrial\", \"MoisturePercent\": 40.0, \"Organic\": 0, \"CategoryTypeEn\": \"Firm Cheese\", \"MilkTypeEn\": \"Cow\", \"MilkTreatmentTypeEn\": \"Pasteurized\", \"FatLevel\": \"lower fat\"}, {\"ManufacturerProvCode\": \"QC\", \"ManufacturingTypeEn\": \"Artisan\", \"MoisturePercent\": 45.0, \"Organic\": 0, \"CategoryTypeEn\": \"Semi-soft Cheese\", \"MilkTypeEn\": \"Cow\", \"MilkTreatmentTypeEn\": \"Pasteurized\", \"FatLevel\": \"lower fat\"}, {\"ManufacturerProvCode\": \"QC\", \"ManufacturingTypeEn\": \"Farmstead\", \"MoisturePercent\": 45.0, \"Organic\": 0, \"CategoryTypeEn\": \"Firm Cheese\", \"MilkTypeEn\": \"Cow\", \"MilkTreatmentTypeEn\": \"Pasteurized\", \"FatLevel\": \"higher fat\"}, {\"ManufacturerProvCode\": \"QC\", \"ManufacturingTypeEn\": \"Industrial\", \"MoisturePercent\": 46.0, \"Organic\": 0, \"CategoryTypeEn\": \"Semi-soft Cheese\", \"MilkTypeEn\": \"Cow\", \"MilkTreatmentTypeEn\": \"Pasteurized\", \"FatLevel\": \"lower fat\"}, {\"ManufacturerProvCode\": \"ON\", \"ManufacturingTypeEn\": \"Artisan\", \"MoisturePercent\": 55.0, \"Organic\": 0, \"CategoryTypeEn\": \"Semi-soft Cheese\", \"MilkTypeEn\": \"Ewe\", \"MilkTreatmentTypeEn\": \"Pasteurized\", \"FatLevel\": \"lower fat\"}, {\"ManufacturerProvCode\": \"QC\", \"ManufacturingTypeEn\": \"Industrial\", \"MoisturePercent\": 47.0, \"Organic\": 0, \"CategoryTypeEn\": \"Semi-soft Cheese\", \"MilkTypeEn\": \"Cow\", \"MilkTreatmentTypeEn\": \"Pasteurized\", \"FatLevel\": \"lower fat\"}, {\"ManufacturerProvCode\": \"QC\", \"ManufacturingTypeEn\": \"Farmstead\", \"MoisturePercent\": 42.0, \"Organic\": 0, \"CategoryTypeEn\": \"Firm Cheese\", \"MilkTypeEn\": \"Cow\", \"MilkTreatmentTypeEn\": \"Pasteurized\", \"FatLevel\": \"lower fat\"}, {\"ManufacturerProvCode\": \"QC\", \"ManufacturingTypeEn\": \"Industrial\", \"MoisturePercent\": 56.0, \"Organic\": 0, \"CategoryTypeEn\": \"Soft Cheese\", \"MilkTypeEn\": \"Cow\", \"MilkTreatmentTypeEn\": \"Pasteurized\", \"FatLevel\": \"lower fat\"}, {\"ManufacturerProvCode\": \"QC\", \"ManufacturingTypeEn\": \"Industrial\", \"MoisturePercent\": 40.0, \"Organic\": 0, \"CategoryTypeEn\": \"Firm Cheese\", \"MilkTypeEn\": \"Cow\", \"MilkTreatmentTypeEn\": \"Pasteurized\", \"FatLevel\": \"lower fat\"}, {\"ManufacturerProvCode\": \"QC\", \"ManufacturingTypeEn\": \"Industrial\", \"MoisturePercent\": 39.0, \"Organic\": 0, \"CategoryTypeEn\": \"Firm Cheese\", \"MilkTypeEn\": \"Cow\", \"MilkTreatmentTypeEn\": \"Pasteurized\", \"FatLevel\": \"higher fat\"}, {\"ManufacturerProvCode\": \"NL\", \"ManufacturingTypeEn\": \"Industrial\", \"MoisturePercent\": 40.0, \"Organic\": 0, \"CategoryTypeEn\": null, \"MilkTypeEn\": \"Cow\", \"MilkTreatmentTypeEn\": null, \"FatLevel\": \"lower fat\"}, {\"ManufacturerProvCode\": \"QC\", \"ManufacturingTypeEn\": \"Artisan\", \"MoisturePercent\": 47.9, \"Organic\": 0, \"CategoryTypeEn\": \"Firm Cheese\", \"MilkTypeEn\": \"Cow\", \"MilkTreatmentTypeEn\": \"Pasteurized\", \"FatLevel\": \"lower fat\"}, {\"ManufacturerProvCode\": \"QC\", \"ManufacturingTypeEn\": \"Artisan\", \"MoisturePercent\": 32.0, \"Organic\": 1, \"CategoryTypeEn\": \"Hard Cheese\", \"MilkTypeEn\": \"Cow\", \"MilkTreatmentTypeEn\": \"Pasteurized\", \"FatLevel\": \"higher fat\"}, {\"ManufacturerProvCode\": \"MB\", \"ManufacturingTypeEn\": \"Farmstead\", \"MoisturePercent\": 42.0, \"Organic\": 0, \"CategoryTypeEn\": \"Firm Cheese\", \"MilkTypeEn\": \"Cow\", \"MilkTreatmentTypeEn\": \"Pasteurized\", \"FatLevel\": \"lower fat\"}, {\"ManufacturerProvCode\": \"QC\", \"ManufacturingTypeEn\": \"Artisan\", \"MoisturePercent\": 63.0, \"Organic\": 0, \"CategoryTypeEn\": \"Soft Cheese\", \"MilkTypeEn\": \"Ewe\", \"MilkTreatmentTypeEn\": \"Pasteurized\", \"FatLevel\": \"lower fat\"}, {\"ManufacturerProvCode\": \"ON\", \"ManufacturingTypeEn\": \"Artisan\", \"MoisturePercent\": null, \"Organic\": 0, \"CategoryTypeEn\": \"Fresh Cheese\", \"MilkTypeEn\": \"Ewe\", \"MilkTreatmentTypeEn\": \"Pasteurized\", \"FatLevel\": \"lower fat\"}, {\"ManufacturerProvCode\": \"ON\", \"ManufacturingTypeEn\": \"Artisan\", \"MoisturePercent\": 42.6, \"Organic\": 0, \"CategoryTypeEn\": \"Hard Cheese\", \"MilkTypeEn\": \"Goat\", \"MilkTreatmentTypeEn\": null, \"FatLevel\": \"lower fat\"}, {\"ManufacturerProvCode\": \"QC\", \"ManufacturingTypeEn\": \"Industrial\", \"MoisturePercent\": 56.0, \"Organic\": 0, \"CategoryTypeEn\": \"Soft Cheese\", \"MilkTypeEn\": \"Goat\", \"MilkTreatmentTypeEn\": \"Pasteurized\", \"FatLevel\": \"lower fat\"}, {\"ManufacturerProvCode\": \"QC\", \"ManufacturingTypeEn\": \"Artisan\", \"MoisturePercent\": 41.0, \"Organic\": 0, \"CategoryTypeEn\": \"Firm Cheese\", \"MilkTypeEn\": \"Cow\", \"MilkTreatmentTypeEn\": \"Pasteurized\", \"FatLevel\": \"higher fat\"}, {\"ManufacturerProvCode\": \"QC\", \"ManufacturingTypeEn\": \"Industrial\", \"MoisturePercent\": 45.0, \"Organic\": 0, \"CategoryTypeEn\": \"Firm Cheese\", \"MilkTypeEn\": \"Cow\", \"MilkTreatmentTypeEn\": \"Pasteurized\", \"FatLevel\": \"lower fat\"}, {\"ManufacturerProvCode\": \"QC\", \"ManufacturingTypeEn\": \"Artisan\", \"MoisturePercent\": 83.0, \"Organic\": 0, \"CategoryTypeEn\": \"Fresh Cheese\", \"MilkTypeEn\": \"Cow\", \"MilkTreatmentTypeEn\": \"Pasteurized\", \"FatLevel\": \"lower fat\"}, {\"ManufacturerProvCode\": \"QC\", \"ManufacturingTypeEn\": \"Artisan\", \"MoisturePercent\": 45.0, \"Organic\": 0, \"CategoryTypeEn\": \"Firm Cheese\", \"MilkTypeEn\": \"Goat\", \"MilkTreatmentTypeEn\": \"Raw Milk\", \"FatLevel\": \"lower fat\"}, {\"ManufacturerProvCode\": \"QC\", \"ManufacturingTypeEn\": \"Artisan\", \"MoisturePercent\": 50.0, \"Organic\": 0, \"CategoryTypeEn\": \"Soft Cheese\", \"MilkTypeEn\": \"Cow\", \"MilkTreatmentTypeEn\": \"Pasteurized\", \"FatLevel\": \"lower fat\"}, {\"ManufacturerProvCode\": \"QC\", \"ManufacturingTypeEn\": \"Industrial\", \"MoisturePercent\": 50.0, \"Organic\": 0, \"CategoryTypeEn\": \"Fresh Cheese\", \"MilkTypeEn\": \"Goat\", \"MilkTreatmentTypeEn\": \"Pasteurized\", \"FatLevel\": \"lower fat\"}, {\"ManufacturerProvCode\": \"QC\", \"ManufacturingTypeEn\": \"Farmstead\", \"MoisturePercent\": 37.0, \"Organic\": 0, \"CategoryTypeEn\": \"Firm Cheese\", \"MilkTypeEn\": \"Cow\", \"MilkTreatmentTypeEn\": \"Raw Milk\", \"FatLevel\": \"higher fat\"}, {\"ManufacturerProvCode\": \"QC\", \"ManufacturingTypeEn\": \"Artisan\", \"MoisturePercent\": 50.0, \"Organic\": 0, \"CategoryTypeEn\": \"Soft Cheese\", \"MilkTypeEn\": \"Cow\", \"MilkTreatmentTypeEn\": \"Pasteurized\", \"FatLevel\": \"lower fat\"}, {\"ManufacturerProvCode\": \"QC\", \"ManufacturingTypeEn\": \"Farmstead\", \"MoisturePercent\": 39.0, \"Organic\": 0, \"CategoryTypeEn\": \"Firm Cheese\", \"MilkTypeEn\": \"Cow\", \"MilkTreatmentTypeEn\": null, \"FatLevel\": \"higher fat\"}, {\"ManufacturerProvCode\": \"QC\", \"ManufacturingTypeEn\": \"Industrial\", \"MoisturePercent\": null, \"Organic\": 0, \"CategoryTypeEn\": \"Firm Cheese\", \"MilkTypeEn\": \"Cow\", \"MilkTreatmentTypeEn\": \"Pasteurized\", \"FatLevel\": \"lower fat\"}, {\"ManufacturerProvCode\": \"BC\", \"ManufacturingTypeEn\": \"Artisan\", \"MoisturePercent\": 48.0, \"Organic\": 0, \"CategoryTypeEn\": \"Soft Cheese\", \"MilkTypeEn\": \"Cow\", \"MilkTreatmentTypeEn\": \"Pasteurized\", \"FatLevel\": \"lower fat\"}, {\"ManufacturerProvCode\": \"QC\", \"ManufacturingTypeEn\": \"Artisan\", \"MoisturePercent\": 50.0, \"Organic\": 0, \"CategoryTypeEn\": null, \"MilkTypeEn\": \"Ewe\", \"MilkTreatmentTypeEn\": \"Pasteurized\", \"FatLevel\": \"higher fat\"}, {\"ManufacturerProvCode\": \"QC\", \"ManufacturingTypeEn\": \"Artisan\", \"MoisturePercent\": 24.0, \"Organic\": 0, \"CategoryTypeEn\": \"Firm Cheese\", \"MilkTypeEn\": \"Cow\", \"MilkTreatmentTypeEn\": \"Raw Milk\", \"FatLevel\": \"higher fat\"}, {\"ManufacturerProvCode\": \"QC\", \"ManufacturingTypeEn\": \"Industrial\", \"MoisturePercent\": 50.0, \"Organic\": 0, \"CategoryTypeEn\": \"Soft Cheese\", \"MilkTypeEn\": \"Goat\", \"MilkTreatmentTypeEn\": \"Pasteurized\", \"FatLevel\": \"lower fat\"}, {\"ManufacturerProvCode\": \"QC\", \"ManufacturingTypeEn\": \"Industrial\", \"MoisturePercent\": 70.0, \"Organic\": 0, \"CategoryTypeEn\": \"Fresh Cheese\", \"MilkTypeEn\": \"Goat\", \"MilkTreatmentTypeEn\": \"Pasteurized\", \"FatLevel\": \"lower fat\"}, {\"ManufacturerProvCode\": \"QC\", \"ManufacturingTypeEn\": \"Industrial\", \"MoisturePercent\": 39.0, \"Organic\": 0, \"CategoryTypeEn\": \"Firm Cheese\", \"MilkTypeEn\": \"Goat\", \"MilkTreatmentTypeEn\": \"Pasteurized\", \"FatLevel\": \"higher fat\"}, {\"ManufacturerProvCode\": \"QC\", \"ManufacturingTypeEn\": \"Artisan\", \"MoisturePercent\": 42.0, \"Organic\": 0, \"CategoryTypeEn\": \"Fresh Cheese\", \"MilkTypeEn\": \"Cow\", \"MilkTreatmentTypeEn\": \"Pasteurized\", \"FatLevel\": \"higher fat\"}, {\"ManufacturerProvCode\": \"QC\", \"ManufacturingTypeEn\": \"Industrial\", \"MoisturePercent\": 40.0, \"Organic\": 0, \"CategoryTypeEn\": \"Firm Cheese\", \"MilkTypeEn\": \"Cow\", \"MilkTreatmentTypeEn\": \"Pasteurized\", \"FatLevel\": \"lower fat\"}, {\"ManufacturerProvCode\": \"QC\", \"ManufacturingTypeEn\": \"Artisan\", \"MoisturePercent\": 34.0, \"Organic\": 0, \"CategoryTypeEn\": \"Firm Cheese\", \"MilkTypeEn\": \"Cow\", \"MilkTreatmentTypeEn\": \"Pasteurized\", \"FatLevel\": \"higher fat\"}, {\"ManufacturerProvCode\": \"QC\", \"ManufacturingTypeEn\": \"Industrial\", \"MoisturePercent\": 50.0, \"Organic\": 0, \"CategoryTypeEn\": \"Soft Cheese\", \"MilkTypeEn\": \"Cow\", \"MilkTreatmentTypeEn\": null, \"FatLevel\": \"lower fat\"}, {\"ManufacturerProvCode\": \"ON\", \"ManufacturingTypeEn\": \"Industrial\", \"MoisturePercent\": 52.0, \"Organic\": 0, \"CategoryTypeEn\": \"Semi-soft Cheese\", \"MilkTypeEn\": \"Cow\", \"MilkTreatmentTypeEn\": \"Pasteurized\", \"FatLevel\": \"lower fat\"}, {\"ManufacturerProvCode\": \"ON\", \"ManufacturingTypeEn\": \"Industrial\", \"MoisturePercent\": 55.0, \"Organic\": 0, \"CategoryTypeEn\": \"Soft Cheese\", \"MilkTypeEn\": \"Goat\", \"MilkTreatmentTypeEn\": \"Pasteurized\", \"FatLevel\": \"higher fat\"}, {\"ManufacturerProvCode\": \"NS\", \"ManufacturingTypeEn\": \"Industrial\", \"MoisturePercent\": 55.0, \"Organic\": 0, \"CategoryTypeEn\": \"Semi-soft Cheese\", \"MilkTypeEn\": \"Cow\", \"MilkTreatmentTypeEn\": \"Pasteurized\", \"FatLevel\": \"lower fat\"}, {\"ManufacturerProvCode\": \"QC\", \"ManufacturingTypeEn\": \"Artisan\", \"MoisturePercent\": 65.0, \"Organic\": 0, \"CategoryTypeEn\": \"Fresh Cheese\", \"MilkTypeEn\": \"Goat\", \"MilkTreatmentTypeEn\": \"Pasteurized\", \"FatLevel\": \"lower fat\"}, {\"ManufacturerProvCode\": \"QC\", \"ManufacturingTypeEn\": \"Industrial\", \"MoisturePercent\": 50.0, \"Organic\": 0, \"CategoryTypeEn\": \"Soft Cheese\", \"MilkTypeEn\": \"Cow\", \"MilkTreatmentTypeEn\": \"Pasteurized\", \"FatLevel\": \"lower fat\"}, {\"ManufacturerProvCode\": \"QC\", \"ManufacturingTypeEn\": \"Artisan\", \"MoisturePercent\": 34.0, \"Organic\": 0, \"CategoryTypeEn\": \"Firm Cheese\", \"MilkTypeEn\": \"Cow\", \"MilkTreatmentTypeEn\": \"Raw Milk\", \"FatLevel\": \"higher fat\"}, {\"ManufacturerProvCode\": \"ON\", \"ManufacturingTypeEn\": \"Industrial\", \"MoisturePercent\": 55.0, \"Organic\": 0, \"CategoryTypeEn\": \"Soft Cheese\", \"MilkTypeEn\": \"Cow\", \"MilkTreatmentTypeEn\": \"Pasteurized\", \"FatLevel\": \"lower fat\"}, {\"ManufacturerProvCode\": \"QC\", \"ManufacturingTypeEn\": \"Farmstead\", \"MoisturePercent\": 48.0, \"Organic\": 0, \"CategoryTypeEn\": \"Semi-soft Cheese\", \"MilkTypeEn\": \"Cow\", \"MilkTreatmentTypeEn\": \"Raw Milk\", \"FatLevel\": \"lower fat\"}, {\"ManufacturerProvCode\": \"QC\", \"ManufacturingTypeEn\": \"Farmstead\", \"MoisturePercent\": 40.0, \"Organic\": 0, \"CategoryTypeEn\": \"Hard Cheese\", \"MilkTypeEn\": \"Cow\", \"MilkTreatmentTypeEn\": null, \"FatLevel\": \"lower fat\"}, {\"ManufacturerProvCode\": \"QC\", \"ManufacturingTypeEn\": \"Industrial\", \"MoisturePercent\": 50.0, \"Organic\": 0, \"CategoryTypeEn\": \"Firm Cheese\", \"MilkTypeEn\": \"Cow\", \"MilkTreatmentTypeEn\": \"Pasteurized\", \"FatLevel\": \"lower fat\"}, {\"ManufacturerProvCode\": \"QC\", \"ManufacturingTypeEn\": \"Industrial\", \"MoisturePercent\": 43.0, \"Organic\": 0, \"CategoryTypeEn\": \"Semi-soft Cheese\", \"MilkTypeEn\": \"Goat\", \"MilkTreatmentTypeEn\": \"Pasteurized\", \"FatLevel\": \"lower fat\"}, {\"ManufacturerProvCode\": \"QC\", \"ManufacturingTypeEn\": \"Farmstead\", \"MoisturePercent\": 47.0, \"Organic\": 0, \"CategoryTypeEn\": \"Soft Cheese\", \"MilkTypeEn\": \"Cow\", \"MilkTreatmentTypeEn\": \"Raw Milk\", \"FatLevel\": \"higher fat\"}, {\"ManufacturerProvCode\": \"QC\", \"ManufacturingTypeEn\": \"Industrial\", \"MoisturePercent\": 50.0, \"Organic\": 0, \"CategoryTypeEn\": \"Soft Cheese\", \"MilkTypeEn\": \"Goat\", \"MilkTreatmentTypeEn\": \"Pasteurized\", \"FatLevel\": \"lower fat\"}, {\"ManufacturerProvCode\": \"BC\", \"ManufacturingTypeEn\": \"Farmstead\", \"MoisturePercent\": 40.3, \"Organic\": 1, \"CategoryTypeEn\": \"Veined Cheeses\", \"MilkTypeEn\": \"Cow\", \"MilkTreatmentTypeEn\": \"Pasteurized\", \"FatLevel\": \"lower fat\"}, {\"ManufacturerProvCode\": \"QC\", \"ManufacturingTypeEn\": \"Artisan\", \"MoisturePercent\": 47.0, \"Organic\": 0, \"CategoryTypeEn\": \"Firm Cheese\", \"MilkTypeEn\": \"Cow\", \"MilkTreatmentTypeEn\": \"Pasteurized\", \"FatLevel\": \"lower fat\"}, {\"ManufacturerProvCode\": \"ON\", \"ManufacturingTypeEn\": \"Industrial\", \"MoisturePercent\": 45.0, \"Organic\": 0, \"CategoryTypeEn\": \"Firm Cheese\", \"MilkTypeEn\": \"Cow\", \"MilkTreatmentTypeEn\": \"Pasteurized\", \"FatLevel\": \"lower fat\"}, {\"ManufacturerProvCode\": \"QC\", \"ManufacturingTypeEn\": \"Farmstead\", \"MoisturePercent\": 39.0, \"Organic\": 0, \"CategoryTypeEn\": \"Firm Cheese\", \"MilkTypeEn\": \"Cow\", \"MilkTreatmentTypeEn\": \"Raw Milk\", \"FatLevel\": \"higher fat\"}, {\"ManufacturerProvCode\": \"QC\", \"ManufacturingTypeEn\": \"Artisan\", \"MoisturePercent\": 47.0, \"Organic\": 0, \"CategoryTypeEn\": \"Semi-soft Cheese\", \"MilkTypeEn\": \"Cow\", \"MilkTreatmentTypeEn\": \"Raw Milk\", \"FatLevel\": \"lower fat\"}, {\"ManufacturerProvCode\": \"QC\", \"ManufacturingTypeEn\": \"Artisan\", \"MoisturePercent\": 39.0, \"Organic\": 1, \"CategoryTypeEn\": \"Firm Cheese\", \"MilkTypeEn\": \"Cow\", \"MilkTreatmentTypeEn\": \"Pasteurized\", \"FatLevel\": \"higher fat\"}, {\"ManufacturerProvCode\": \"QC\", \"ManufacturingTypeEn\": \"Farmstead\", \"MoisturePercent\": 60.0, \"Organic\": 0, \"CategoryTypeEn\": \"Soft Cheese\", \"MilkTypeEn\": \"Goat\", \"MilkTreatmentTypeEn\": \"Thermised\", \"FatLevel\": \"lower fat\"}, {\"ManufacturerProvCode\": \"ON\", \"ManufacturingTypeEn\": \"Industrial\", \"MoisturePercent\": 38.0, \"Organic\": 0, \"CategoryTypeEn\": \"Fresh Cheese\", \"MilkTypeEn\": \"Cow and Goat\", \"MilkTreatmentTypeEn\": \"Pasteurized\", \"FatLevel\": \"lower fat\"}, {\"ManufacturerProvCode\": \"ON\", \"ManufacturingTypeEn\": \"Industrial\", \"MoisturePercent\": 37.0, \"Organic\": 0, \"CategoryTypeEn\": null, \"MilkTypeEn\": \"Cow\", \"MilkTreatmentTypeEn\": null, \"FatLevel\": \"higher fat\"}, {\"ManufacturerProvCode\": \"QC\", \"ManufacturingTypeEn\": \"Farmstead\", \"MoisturePercent\": 46.0, \"Organic\": 0, \"CategoryTypeEn\": \"Semi-soft Cheese\", \"MilkTypeEn\": \"Cow\", \"MilkTreatmentTypeEn\": \"Pasteurized\", \"FatLevel\": \"lower fat\"}, {\"ManufacturerProvCode\": \"NB\", \"ManufacturingTypeEn\": \"Farmstead\", \"MoisturePercent\": 50.0, \"Organic\": 0, \"CategoryTypeEn\": \"Fresh Cheese\", \"MilkTypeEn\": \"Goat\", \"MilkTreatmentTypeEn\": \"Pasteurized\", \"FatLevel\": \"lower fat\"}, {\"ManufacturerProvCode\": \"QC\", \"ManufacturingTypeEn\": \"Industrial\", \"MoisturePercent\": 41.0, \"Organic\": 0, \"CategoryTypeEn\": \"Firm Cheese\", \"MilkTypeEn\": \"Cow\", \"MilkTreatmentTypeEn\": \"Pasteurized\", \"FatLevel\": \"higher fat\"}, {\"ManufacturerProvCode\": \"QC\", \"ManufacturingTypeEn\": \"Industrial\", \"MoisturePercent\": 50.0, \"Organic\": 0, \"CategoryTypeEn\": \"Soft Cheese\", \"MilkTypeEn\": \"Cow\", \"MilkTreatmentTypeEn\": \"Pasteurized\", \"FatLevel\": \"higher fat\"}, {\"ManufacturerProvCode\": \"QC\", \"ManufacturingTypeEn\": \"Industrial\", \"MoisturePercent\": 46.0, \"Organic\": 0, \"CategoryTypeEn\": \"Firm Cheese\", \"MilkTypeEn\": \"Cow\", \"MilkTreatmentTypeEn\": null, \"FatLevel\": \"lower fat\"}, {\"ManufacturerProvCode\": \"QC\", \"ManufacturingTypeEn\": \"Artisan\", \"MoisturePercent\": 58.0, \"Organic\": 0, \"CategoryTypeEn\": \"Soft Cheese\", \"MilkTypeEn\": \"Goat\", \"MilkTreatmentTypeEn\": \"Pasteurized\", \"FatLevel\": \"lower fat\"}, {\"ManufacturerProvCode\": \"BC\", \"ManufacturingTypeEn\": \"Artisan\", \"MoisturePercent\": 36.0, \"Organic\": 0, \"CategoryTypeEn\": \"Firm Cheese\", \"MilkTypeEn\": \"Cow\", \"MilkTreatmentTypeEn\": \"Raw Milk\", \"FatLevel\": \"higher fat\"}, {\"ManufacturerProvCode\": \"QC\", \"ManufacturingTypeEn\": \"Artisan\", \"MoisturePercent\": 40.0, \"Organic\": 0, \"CategoryTypeEn\": \"Firm Cheese\", \"MilkTypeEn\": \"Ewe\", \"MilkTreatmentTypeEn\": \"Thermised\", \"FatLevel\": \"lower fat\"}, {\"ManufacturerProvCode\": \"QC\", \"ManufacturingTypeEn\": \"Industrial\", \"MoisturePercent\": 55.0, \"Organic\": 0, \"CategoryTypeEn\": \"Fresh Cheese\", \"MilkTypeEn\": \"Cow and Goat\", \"MilkTreatmentTypeEn\": \"Pasteurized\", \"FatLevel\": \"lower fat\"}, {\"ManufacturerProvCode\": \"QC\", \"ManufacturingTypeEn\": \"Industrial\", \"MoisturePercent\": 39.0, \"Organic\": 0, \"CategoryTypeEn\": \"Firm Cheese\", \"MilkTypeEn\": \"Cow\", \"MilkTreatmentTypeEn\": \"Pasteurized\", \"FatLevel\": \"higher fat\"}, {\"ManufacturerProvCode\": \"ON\", \"ManufacturingTypeEn\": \"Industrial\", \"MoisturePercent\": 22.0, \"Organic\": 0, \"CategoryTypeEn\": \"Hard Cheese\", \"MilkTypeEn\": \"Cow\", \"MilkTreatmentTypeEn\": \"Pasteurized\", \"FatLevel\": \"higher fat\"}, {\"ManufacturerProvCode\": \"QC\", \"ManufacturingTypeEn\": \"Industrial\", \"MoisturePercent\": 54.0, \"Organic\": 0, \"CategoryTypeEn\": \"Soft Cheese\", \"MilkTypeEn\": \"Cow\", \"MilkTreatmentTypeEn\": \"Pasteurized\", \"FatLevel\": \"lower fat\"}, {\"ManufacturerProvCode\": \"QC\", \"ManufacturingTypeEn\": \"Artisan\", \"MoisturePercent\": 41.0, \"Organic\": 0, \"CategoryTypeEn\": \"Firm Cheese\", \"MilkTypeEn\": \"Ewe\", \"MilkTreatmentTypeEn\": \"Pasteurized\", \"FatLevel\": \"higher fat\"}, {\"ManufacturerProvCode\": \"QC\", \"ManufacturingTypeEn\": \"Artisan\", \"MoisturePercent\": 63.0, \"Organic\": 0, \"CategoryTypeEn\": \"Fresh Cheese\", \"MilkTypeEn\": \"Goat\", \"MilkTreatmentTypeEn\": \"Pasteurized\", \"FatLevel\": \"lower fat\"}, {\"ManufacturerProvCode\": \"QC\", \"ManufacturingTypeEn\": \"Farmstead\", \"MoisturePercent\": 52.0, \"Organic\": 0, \"CategoryTypeEn\": \"Soft Cheese\", \"MilkTypeEn\": \"Cow\", \"MilkTreatmentTypeEn\": \"Pasteurized\", \"FatLevel\": \"higher fat\"}, {\"ManufacturerProvCode\": \"QC\", \"ManufacturingTypeEn\": \"Industrial\", \"MoisturePercent\": 56.0, \"Organic\": 0, \"CategoryTypeEn\": \"Soft Cheese\", \"MilkTypeEn\": \"Cow\", \"MilkTreatmentTypeEn\": \"Pasteurized\", \"FatLevel\": \"lower fat\"}, {\"ManufacturerProvCode\": \"BC\", \"ManufacturingTypeEn\": \"Artisan\", \"MoisturePercent\": 30.0, \"Organic\": 0, \"CategoryTypeEn\": \"Firm Cheese\", \"MilkTypeEn\": \"Cow\", \"MilkTreatmentTypeEn\": \"Pasteurized\", \"FatLevel\": \"higher fat\"}, {\"ManufacturerProvCode\": \"QC\", \"ManufacturingTypeEn\": \"Farmstead\", \"MoisturePercent\": 58.0, \"Organic\": 0, \"CategoryTypeEn\": \"Soft Cheese\", \"MilkTypeEn\": \"Ewe\", \"MilkTreatmentTypeEn\": \"Pasteurized\", \"FatLevel\": \"lower fat\"}, {\"ManufacturerProvCode\": \"QC\", \"ManufacturingTypeEn\": \"Industrial\", \"MoisturePercent\": 42.0, \"Organic\": 0, \"CategoryTypeEn\": \"Firm Cheese\", \"MilkTypeEn\": \"Cow\", \"MilkTreatmentTypeEn\": \"Pasteurized\", \"FatLevel\": \"lower fat\"}, {\"ManufacturerProvCode\": \"QC\", \"ManufacturingTypeEn\": \"Industrial\", \"MoisturePercent\": 50.0, \"Organic\": 0, \"CategoryTypeEn\": \"Soft Cheese\", \"MilkTypeEn\": \"Cow, Goat and Ewe\", \"MilkTreatmentTypeEn\": \"Pasteurized\", \"FatLevel\": \"lower fat\"}, {\"ManufacturerProvCode\": \"QC\", \"ManufacturingTypeEn\": \"Artisan\", \"MoisturePercent\": 48.0, \"Organic\": 0, \"CategoryTypeEn\": \"Firm Cheese\", \"MilkTypeEn\": \"Cow\", \"MilkTreatmentTypeEn\": \"Pasteurized\", \"FatLevel\": \"lower fat\"}, {\"ManufacturerProvCode\": \"QC\", \"ManufacturingTypeEn\": \"Farmstead\", \"MoisturePercent\": 42.0, \"Organic\": 1, \"CategoryTypeEn\": \"Semi-soft Cheese\", \"MilkTypeEn\": \"Cow\", \"MilkTreatmentTypeEn\": \"Pasteurized\", \"FatLevel\": \"lower fat\"}, {\"ManufacturerProvCode\": \"ON\", \"ManufacturingTypeEn\": \"Industrial\", \"MoisturePercent\": 45.0, \"Organic\": 0, \"CategoryTypeEn\": \"Firm Cheese\", \"MilkTypeEn\": \"Cow\", \"MilkTreatmentTypeEn\": \"Pasteurized\", \"FatLevel\": \"lower fat\"}, {\"ManufacturerProvCode\": \"QC\", \"ManufacturingTypeEn\": \"Artisan\", \"MoisturePercent\": 45.0, \"Organic\": 0, \"CategoryTypeEn\": \"Semi-soft Cheese\", \"MilkTypeEn\": \"Cow\", \"MilkTreatmentTypeEn\": \"Pasteurized\", \"FatLevel\": \"lower fat\"}, {\"ManufacturerProvCode\": \"QC\", \"ManufacturingTypeEn\": \"Farmstead\", \"MoisturePercent\": 48.0, \"Organic\": 1, \"CategoryTypeEn\": \"Soft Cheese\", \"MilkTypeEn\": \"Goat\", \"MilkTreatmentTypeEn\": \"Pasteurized\", \"FatLevel\": \"lower fat\"}, {\"ManufacturerProvCode\": \"QC\", \"ManufacturingTypeEn\": \"Industrial\", \"MoisturePercent\": 45.0, \"Organic\": 0, \"CategoryTypeEn\": \"Veined Cheeses\", \"MilkTypeEn\": \"Cow\", \"MilkTreatmentTypeEn\": \"Pasteurized\", \"FatLevel\": \"higher fat\"}, {\"ManufacturerProvCode\": \"QC\", \"ManufacturingTypeEn\": \"Farmstead\", \"MoisturePercent\": 39.0, \"Organic\": 1, \"CategoryTypeEn\": \"Firm Cheese\", \"MilkTypeEn\": \"Cow\", \"MilkTreatmentTypeEn\": \"Pasteurized\", \"FatLevel\": \"higher fat\"}, {\"ManufacturerProvCode\": \"QC\", \"ManufacturingTypeEn\": \"Artisan\", \"MoisturePercent\": 64.0, \"Organic\": 0, \"CategoryTypeEn\": \"Fresh Cheese\", \"MilkTypeEn\": \"Cow\", \"MilkTreatmentTypeEn\": \"Pasteurized\", \"FatLevel\": \"lower fat\"}, {\"ManufacturerProvCode\": \"QC\", \"ManufacturingTypeEn\": \"Artisan\", \"MoisturePercent\": 45.0, \"Organic\": 0, \"CategoryTypeEn\": \"Fresh Cheese\", \"MilkTypeEn\": \"Goat\", \"MilkTreatmentTypeEn\": \"Pasteurized\", \"FatLevel\": \"lower fat\"}, {\"ManufacturerProvCode\": \"QC\", \"ManufacturingTypeEn\": \"Industrial\", \"MoisturePercent\": 50.0, \"Organic\": 0, \"CategoryTypeEn\": \"Soft Cheese\", \"MilkTypeEn\": \"Cow\", \"MilkTreatmentTypeEn\": \"Pasteurized\", \"FatLevel\": \"higher fat\"}, {\"ManufacturerProvCode\": \"QC\", \"ManufacturingTypeEn\": \"Industrial\", \"MoisturePercent\": 38.0, \"Organic\": 0, \"CategoryTypeEn\": \"Firm Cheese\", \"MilkTypeEn\": \"Cow\", \"MilkTreatmentTypeEn\": \"Pasteurized\", \"FatLevel\": \"lower fat\"}, {\"ManufacturerProvCode\": \"ON\", \"ManufacturingTypeEn\": \"Industrial\", \"MoisturePercent\": 52.0, \"Organic\": 0, \"CategoryTypeEn\": \"Semi-soft Cheese\", \"MilkTypeEn\": \"Cow\", \"MilkTreatmentTypeEn\": \"Pasteurized\", \"FatLevel\": \"lower fat\"}, {\"ManufacturerProvCode\": \"QC\", \"ManufacturingTypeEn\": \"Industrial\", \"MoisturePercent\": 50.0, \"Organic\": 0, \"CategoryTypeEn\": \"Soft Cheese\", \"MilkTypeEn\": \"Cow\", \"MilkTreatmentTypeEn\": \"Pasteurized\", \"FatLevel\": \"lower fat\"}, {\"ManufacturerProvCode\": \"QC\", \"ManufacturingTypeEn\": \"Industrial\", \"MoisturePercent\": 35.0, \"Organic\": 0, \"CategoryTypeEn\": \"Firm Cheese\", \"MilkTypeEn\": \"Cow\", \"MilkTreatmentTypeEn\": \"Raw Milk\", \"FatLevel\": \"higher fat\"}, {\"ManufacturerProvCode\": \"QC\", \"ManufacturingTypeEn\": \"Industrial\", \"MoisturePercent\": 50.0, \"Organic\": 0, \"CategoryTypeEn\": \"Soft Cheese\", \"MilkTypeEn\": \"Cow\", \"MilkTreatmentTypeEn\": \"Pasteurized\", \"FatLevel\": \"lower fat\"}, {\"ManufacturerProvCode\": \"QC\", \"ManufacturingTypeEn\": \"Industrial\", \"MoisturePercent\": 80.0, \"Organic\": 0, \"CategoryTypeEn\": \"Fresh Cheese\", \"MilkTypeEn\": \"Buffalo Cow\", \"MilkTreatmentTypeEn\": \"Pasteurized\", \"FatLevel\": \"lower fat\"}, {\"ManufacturerProvCode\": \"QC\", \"ManufacturingTypeEn\": \"Artisan\", \"MoisturePercent\": 40.0, \"Organic\": 0, \"CategoryTypeEn\": null, \"MilkTypeEn\": \"Ewe\", \"MilkTreatmentTypeEn\": \"Pasteurized\", \"FatLevel\": \"lower fat\"}, {\"ManufacturerProvCode\": \"QC\", \"ManufacturingTypeEn\": \"Industrial\", \"MoisturePercent\": 50.0, \"Organic\": 0, \"CategoryTypeEn\": \"Soft Cheese\", \"MilkTypeEn\": \"Cow\", \"MilkTreatmentTypeEn\": \"Pasteurized\", \"FatLevel\": \"lower fat\"}, {\"ManufacturerProvCode\": \"QC\", \"ManufacturingTypeEn\": \"Industrial\", \"MoisturePercent\": 56.0, \"Organic\": 0, \"CategoryTypeEn\": \"Soft Cheese\", \"MilkTypeEn\": \"Cow and Goat\", \"MilkTreatmentTypeEn\": \"Pasteurized\", \"FatLevel\": \"lower fat\"}, {\"ManufacturerProvCode\": \"QC\", \"ManufacturingTypeEn\": \"Artisan\", \"MoisturePercent\": 55.0, \"Organic\": 0, \"CategoryTypeEn\": \"Fresh Cheese\", \"MilkTypeEn\": \"Ewe\", \"MilkTreatmentTypeEn\": \"Pasteurized\", \"FatLevel\": \"lower fat\"}, {\"ManufacturerProvCode\": \"QC\", \"ManufacturingTypeEn\": \"Industrial\", \"MoisturePercent\": 50.0, \"Organic\": 0, \"CategoryTypeEn\": \"Semi-soft Cheese\", \"MilkTypeEn\": \"Cow\", \"MilkTreatmentTypeEn\": \"Pasteurized\", \"FatLevel\": \"lower fat\"}, {\"ManufacturerProvCode\": \"QC\", \"ManufacturingTypeEn\": \"Artisan\", \"MoisturePercent\": 55.0, \"Organic\": 0, \"CategoryTypeEn\": \"Soft Cheese\", \"MilkTypeEn\": \"Ewe\", \"MilkTreatmentTypeEn\": \"Pasteurized\", \"FatLevel\": \"lower fat\"}, {\"ManufacturerProvCode\": \"QC\", \"ManufacturingTypeEn\": \"Artisan\", \"MoisturePercent\": 50.0, \"Organic\": 0, \"CategoryTypeEn\": \"Semi-soft Cheese\", \"MilkTypeEn\": \"Cow\", \"MilkTreatmentTypeEn\": \"Pasteurized\", \"FatLevel\": \"lower fat\"}, {\"ManufacturerProvCode\": \"QC\", \"ManufacturingTypeEn\": \"Industrial\", \"MoisturePercent\": 50.0, \"Organic\": 0, \"CategoryTypeEn\": \"Soft Cheese\", \"MilkTypeEn\": \"Cow\", \"MilkTreatmentTypeEn\": \"Pasteurized\", \"FatLevel\": \"higher fat\"}, {\"ManufacturerProvCode\": \"QC\", \"ManufacturingTypeEn\": \"Artisan\", \"MoisturePercent\": 46.0, \"Organic\": 0, \"CategoryTypeEn\": \"Semi-soft Cheese\", \"MilkTypeEn\": \"Cow\", \"MilkTreatmentTypeEn\": \"Raw Milk\", \"FatLevel\": \"lower fat\"}, {\"ManufacturerProvCode\": \"BC\", \"ManufacturingTypeEn\": \"Industrial\", \"MoisturePercent\": null, \"Organic\": 0, \"CategoryTypeEn\": \"Firm Cheese\", \"MilkTypeEn\": \"Cow\", \"MilkTreatmentTypeEn\": \"Pasteurized\", \"FatLevel\": \"lower fat\"}, {\"ManufacturerProvCode\": \"QC\", \"ManufacturingTypeEn\": \"Artisan\", \"MoisturePercent\": 58.0, \"Organic\": 0, \"CategoryTypeEn\": \"Fresh Cheese\", \"MilkTypeEn\": \"Cow\", \"MilkTreatmentTypeEn\": \"Pasteurized\", \"FatLevel\": \"lower fat\"}, {\"ManufacturerProvCode\": \"QC\", \"ManufacturingTypeEn\": \"Industrial\", \"MoisturePercent\": 60.0, \"Organic\": 0, \"CategoryTypeEn\": \"Fresh Cheese\", \"MilkTypeEn\": \"Cow\", \"MilkTreatmentTypeEn\": \"Pasteurized\", \"FatLevel\": \"lower fat\"}, {\"ManufacturerProvCode\": \"BC\", \"ManufacturingTypeEn\": \"Farmstead\", \"MoisturePercent\": 27.0, \"Organic\": 1, \"CategoryTypeEn\": \"Hard Cheese\", \"MilkTypeEn\": \"Cow\", \"MilkTreatmentTypeEn\": \"Raw Milk\", \"FatLevel\": \"lower fat\"}, {\"ManufacturerProvCode\": \"QC\", \"ManufacturingTypeEn\": \"Artisan\", \"MoisturePercent\": 43.0, \"Organic\": 0, \"CategoryTypeEn\": \"Semi-soft Cheese\", \"MilkTypeEn\": \"Goat\", \"MilkTreatmentTypeEn\": \"Pasteurized\", \"FatLevel\": \"lower fat\"}, {\"ManufacturerProvCode\": \"QC\", \"ManufacturingTypeEn\": \"Artisan\", \"MoisturePercent\": 39.0, \"Organic\": 1, \"CategoryTypeEn\": \"Firm Cheese\", \"MilkTypeEn\": \"Cow\", \"MilkTreatmentTypeEn\": \"Raw Milk\", \"FatLevel\": \"higher fat\"}, {\"ManufacturerProvCode\": \"QC\", \"ManufacturingTypeEn\": \"Artisan\", \"MoisturePercent\": 43.0, \"Organic\": 1, \"CategoryTypeEn\": \"Semi-soft Cheese\", \"MilkTypeEn\": \"Cow\", \"MilkTreatmentTypeEn\": \"Pasteurized\", \"FatLevel\": \"higher fat\"}, {\"ManufacturerProvCode\": \"QC\", \"ManufacturingTypeEn\": \"Farmstead\", \"MoisturePercent\": 50.0, \"Organic\": 0, \"CategoryTypeEn\": \"Semi-soft Cheese\", \"MilkTypeEn\": \"Cow\", \"MilkTreatmentTypeEn\": \"Pasteurized\", \"FatLevel\": \"lower fat\"}, {\"ManufacturerProvCode\": \"BC\", \"ManufacturingTypeEn\": \"Artisan\", \"MoisturePercent\": 41.0, \"Organic\": 0, \"CategoryTypeEn\": \"Semi-soft Cheese\", \"MilkTypeEn\": \"Goat\", \"MilkTreatmentTypeEn\": \"Thermised\", \"FatLevel\": \"higher fat\"}, {\"ManufacturerProvCode\": \"QC\", \"ManufacturingTypeEn\": \"Artisan\", \"MoisturePercent\": 63.0, \"Organic\": 0, \"CategoryTypeEn\": \"Fresh Cheese\", \"MilkTypeEn\": \"Goat\", \"MilkTreatmentTypeEn\": \"Pasteurized\", \"FatLevel\": \"lower fat\"}, {\"ManufacturerProvCode\": \"QC\", \"ManufacturingTypeEn\": \"Industrial\", \"MoisturePercent\": 52.0, \"Organic\": 0, \"CategoryTypeEn\": \"Semi-soft Cheese\", \"MilkTypeEn\": \"Cow\", \"MilkTreatmentTypeEn\": \"Pasteurized\", \"FatLevel\": \"lower fat\"}, {\"ManufacturerProvCode\": \"QC\", \"ManufacturingTypeEn\": \"Industrial\", \"MoisturePercent\": 46.0, \"Organic\": 0, \"CategoryTypeEn\": \"Semi-soft Cheese\", \"MilkTypeEn\": \"Cow\", \"MilkTreatmentTypeEn\": \"Pasteurized\", \"FatLevel\": \"lower fat\"}, {\"ManufacturerProvCode\": \"QC\", \"ManufacturingTypeEn\": \"Artisan\", \"MoisturePercent\": 48.0, \"Organic\": 0, \"CategoryTypeEn\": \"Semi-soft Cheese\", \"MilkTypeEn\": \"Goat\", \"MilkTreatmentTypeEn\": \"Pasteurized\", \"FatLevel\": \"lower fat\"}, {\"ManufacturerProvCode\": \"QC\", \"ManufacturingTypeEn\": \"Farmstead\", \"MoisturePercent\": 80.0, \"Organic\": 1, \"CategoryTypeEn\": \"Fresh Cheese\", \"MilkTypeEn\": \"Cow\", \"MilkTreatmentTypeEn\": \"Pasteurized\", \"FatLevel\": \"lower fat\"}, {\"ManufacturerProvCode\": \"BC\", \"ManufacturingTypeEn\": \"Artisan\", \"MoisturePercent\": 38.0, \"Organic\": 0, \"CategoryTypeEn\": \"Hard Cheese\", \"MilkTypeEn\": \"Cow\", \"MilkTreatmentTypeEn\": \"Raw Milk\", \"FatLevel\": \"higher fat\"}, {\"ManufacturerProvCode\": \"QC\", \"ManufacturingTypeEn\": \"Artisan\", \"MoisturePercent\": 56.0, \"Organic\": 0, \"CategoryTypeEn\": \"Soft Cheese\", \"MilkTypeEn\": \"Goat\", \"MilkTreatmentTypeEn\": \"Pasteurized\", \"FatLevel\": \"lower fat\"}, {\"ManufacturerProvCode\": \"QC\", \"ManufacturingTypeEn\": \"Industrial\", \"MoisturePercent\": 58.0, \"Organic\": 0, \"CategoryTypeEn\": \"Fresh Cheese\", \"MilkTypeEn\": \"Goat\", \"MilkTreatmentTypeEn\": \"Pasteurized\", \"FatLevel\": \"lower fat\"}, {\"ManufacturerProvCode\": \"QC\", \"ManufacturingTypeEn\": \"Industrial\", \"MoisturePercent\": 52.0, \"Organic\": 0, \"CategoryTypeEn\": \"Soft Cheese\", \"MilkTypeEn\": \"Goat\", \"MilkTreatmentTypeEn\": \"Pasteurized\", \"FatLevel\": \"lower fat\"}, {\"ManufacturerProvCode\": \"ON\", \"ManufacturingTypeEn\": \"Farmstead\", \"MoisturePercent\": 40.0, \"Organic\": 0, \"CategoryTypeEn\": \"Hard Cheese\", \"MilkTypeEn\": \"Goat\", \"MilkTreatmentTypeEn\": \"Pasteurized\", \"FatLevel\": \"higher fat\"}, {\"ManufacturerProvCode\": \"ON\", \"ManufacturingTypeEn\": \"Industrial\", \"MoisturePercent\": null, \"Organic\": 0, \"CategoryTypeEn\": \"Semi-soft Cheese\", \"MilkTypeEn\": \"Cow\", \"MilkTreatmentTypeEn\": \"Pasteurized\", \"FatLevel\": \"lower fat\"}, {\"ManufacturerProvCode\": \"QC\", \"ManufacturingTypeEn\": \"Artisan\", \"MoisturePercent\": 43.0, \"Organic\": 0, \"CategoryTypeEn\": \"Firm Cheese\", \"MilkTypeEn\": \"Cow\", \"MilkTreatmentTypeEn\": \"Pasteurized\", \"FatLevel\": \"higher fat\"}, {\"ManufacturerProvCode\": \"QC\", \"ManufacturingTypeEn\": \"Artisan\", \"MoisturePercent\": 42.0, \"Organic\": 1, \"CategoryTypeEn\": \"Veined Cheeses\", \"MilkTypeEn\": \"Cow\", \"MilkTreatmentTypeEn\": \"Pasteurized\", \"FatLevel\": \"lower fat\"}, {\"ManufacturerProvCode\": \"QC\", \"ManufacturingTypeEn\": \"Artisan\", \"MoisturePercent\": 38.0, \"Organic\": 0, \"CategoryTypeEn\": \"Firm Cheese\", \"MilkTypeEn\": \"Cow\", \"MilkTreatmentTypeEn\": \"Pasteurized\", \"FatLevel\": \"higher fat\"}, {\"ManufacturerProvCode\": \"QC\", \"ManufacturingTypeEn\": \"Artisan\", \"MoisturePercent\": 39.0, \"Organic\": 0, \"CategoryTypeEn\": \"Firm Cheese\", \"MilkTypeEn\": \"Cow\", \"MilkTreatmentTypeEn\": \"Pasteurized\", \"FatLevel\": \"higher fat\"}, {\"ManufacturerProvCode\": \"AB\", \"ManufacturingTypeEn\": \"Industrial\", \"MoisturePercent\": 52.0, \"Organic\": 0, \"CategoryTypeEn\": null, \"MilkTypeEn\": \"Cow\", \"MilkTreatmentTypeEn\": null, \"FatLevel\": \"lower fat\"}, {\"ManufacturerProvCode\": \"QC\", \"ManufacturingTypeEn\": \"Artisan\", \"MoisturePercent\": 42.0, \"Organic\": 0, \"CategoryTypeEn\": \"Semi-soft Cheese\", \"MilkTypeEn\": \"Cow\", \"MilkTreatmentTypeEn\": \"Pasteurized\", \"FatLevel\": \"higher fat\"}, {\"ManufacturerProvCode\": \"QC\", \"ManufacturingTypeEn\": \"Industrial\", \"MoisturePercent\": 38.0, \"Organic\": 0, \"CategoryTypeEn\": \"Fresh Cheese\", \"MilkTypeEn\": \"Cow\", \"MilkTreatmentTypeEn\": null, \"FatLevel\": \"higher fat\"}, {\"ManufacturerProvCode\": \"QC\", \"ManufacturingTypeEn\": \"Artisan\", \"MoisturePercent\": 50.0, \"Organic\": 0, \"CategoryTypeEn\": \"Soft Cheese\", \"MilkTypeEn\": \"Cow\", \"MilkTreatmentTypeEn\": \"Thermised\", \"FatLevel\": \"lower fat\"}, {\"ManufacturerProvCode\": \"QC\", \"ManufacturingTypeEn\": \"Artisan\", \"MoisturePercent\": 39.0, \"Organic\": 0, \"CategoryTypeEn\": \"Firm Cheese\", \"MilkTypeEn\": \"Cow\", \"MilkTreatmentTypeEn\": \"Thermised\", \"FatLevel\": \"higher fat\"}, {\"ManufacturerProvCode\": \"ON\", \"ManufacturingTypeEn\": \"Industrial\", \"MoisturePercent\": 92.0, \"Organic\": 0, \"CategoryTypeEn\": \"Fresh Cheese\", \"MilkTypeEn\": \"Cow\", \"MilkTreatmentTypeEn\": \"Pasteurized\", \"FatLevel\": \"lower fat\"}, {\"ManufacturerProvCode\": \"QC\", \"ManufacturingTypeEn\": \"Artisan\", \"MoisturePercent\": 45.0, \"Organic\": 0, \"CategoryTypeEn\": \"Semi-soft Cheese\", \"MilkTypeEn\": \"Ewe and Cow\", \"MilkTreatmentTypeEn\": \"Pasteurized\", \"FatLevel\": \"higher fat\"}, {\"ManufacturerProvCode\": \"QC\", \"ManufacturingTypeEn\": \"Artisan\", \"MoisturePercent\": 50.0, \"Organic\": 0, \"CategoryTypeEn\": \"Soft Cheese\", \"MilkTypeEn\": \"Cow\", \"MilkTreatmentTypeEn\": null, \"FatLevel\": \"lower fat\"}, {\"ManufacturerProvCode\": \"QC\", \"ManufacturingTypeEn\": \"Industrial\", \"MoisturePercent\": 56.0, \"Organic\": 0, \"CategoryTypeEn\": \"Soft Cheese\", \"MilkTypeEn\": \"Goat\", \"MilkTreatmentTypeEn\": \"Pasteurized\", \"FatLevel\": \"lower fat\"}, {\"ManufacturerProvCode\": \"MB\", \"ManufacturingTypeEn\": \"Farmstead\", \"MoisturePercent\": 42.0, \"Organic\": 0, \"CategoryTypeEn\": \"Firm Cheese\", \"MilkTypeEn\": \"Cow\", \"MilkTreatmentTypeEn\": \"Pasteurized\", \"FatLevel\": \"lower fat\"}, {\"ManufacturerProvCode\": \"QC\", \"ManufacturingTypeEn\": \"Artisan\", \"MoisturePercent\": 39.0, \"Organic\": 0, \"CategoryTypeEn\": \"Firm Cheese\", \"MilkTypeEn\": \"Cow\", \"MilkTreatmentTypeEn\": \"Thermised\", \"FatLevel\": \"higher fat\"}, {\"ManufacturerProvCode\": \"QC\", \"ManufacturingTypeEn\": \"Artisan\", \"MoisturePercent\": 56.0, \"Organic\": 0, \"CategoryTypeEn\": \"Soft Cheese\", \"MilkTypeEn\": \"Goat\", \"MilkTreatmentTypeEn\": \"Pasteurized\", \"FatLevel\": \"lower fat\"}, {\"ManufacturerProvCode\": \"QC\", \"ManufacturingTypeEn\": \"Farmstead\", \"MoisturePercent\": 45.0, \"Organic\": 0, \"CategoryTypeEn\": \"Firm Cheese\", \"MilkTypeEn\": \"Cow\", \"MilkTreatmentTypeEn\": \"Pasteurized\", \"FatLevel\": \"higher fat\"}, {\"ManufacturerProvCode\": \"ON\", \"ManufacturingTypeEn\": \"Industrial\", \"MoisturePercent\": 57.0, \"Organic\": 0, \"CategoryTypeEn\": \"Semi-soft Cheese\", \"MilkTypeEn\": \"Cow\", \"MilkTreatmentTypeEn\": \"Pasteurized\", \"FatLevel\": \"lower fat\"}, {\"ManufacturerProvCode\": \"QC\", \"ManufacturingTypeEn\": \"Artisan\", \"MoisturePercent\": 57.0, \"Organic\": 0, \"CategoryTypeEn\": \"Fresh Cheese\", \"MilkTypeEn\": \"Goat\", \"MilkTreatmentTypeEn\": \"Pasteurized\", \"FatLevel\": \"higher fat\"}, {\"ManufacturerProvCode\": \"QC\", \"ManufacturingTypeEn\": \"Artisan\", \"MoisturePercent\": null, \"Organic\": 0, \"CategoryTypeEn\": \"Soft Cheese\", \"MilkTypeEn\": \"Cow\", \"MilkTreatmentTypeEn\": \"Pasteurized\", \"FatLevel\": \"lower fat\"}, {\"ManufacturerProvCode\": \"QC\", \"ManufacturingTypeEn\": \"Artisan\", \"MoisturePercent\": 54.0, \"Organic\": 0, \"CategoryTypeEn\": \"Soft Cheese\", \"MilkTypeEn\": \"Cow\", \"MilkTreatmentTypeEn\": \"Pasteurized\", \"FatLevel\": \"lower fat\"}, {\"ManufacturerProvCode\": \"QC\", \"ManufacturingTypeEn\": \"Industrial\", \"MoisturePercent\": 55.0, \"Organic\": 0, \"CategoryTypeEn\": \"Semi-soft Cheese\", \"MilkTypeEn\": \"Cow\", \"MilkTreatmentTypeEn\": \"Pasteurized\", \"FatLevel\": \"lower fat\"}, {\"ManufacturerProvCode\": \"QC\", \"ManufacturingTypeEn\": \"Artisan\", \"MoisturePercent\": 50.0, \"Organic\": 0, \"CategoryTypeEn\": null, \"MilkTypeEn\": \"Goat\", \"MilkTreatmentTypeEn\": \"Pasteurized\", \"FatLevel\": \"lower fat\"}, {\"ManufacturerProvCode\": \"ON\", \"ManufacturingTypeEn\": \"Industrial\", \"MoisturePercent\": 40.0, \"Organic\": 0, \"CategoryTypeEn\": \"Soft Cheese\", \"MilkTypeEn\": \"Cow\", \"MilkTreatmentTypeEn\": null, \"FatLevel\": \"lower fat\"}, {\"ManufacturerProvCode\": \"ON\", \"ManufacturingTypeEn\": \"Industrial\", \"MoisturePercent\": 80.0, \"Organic\": 0, \"CategoryTypeEn\": \"Fresh Cheese\", \"MilkTypeEn\": \"Cow\", \"MilkTreatmentTypeEn\": \"Pasteurized\", \"FatLevel\": \"lower fat\"}, {\"ManufacturerProvCode\": \"ON\", \"ManufacturingTypeEn\": \"Industrial\", \"MoisturePercent\": 55.0, \"Organic\": 0, \"CategoryTypeEn\": \"Fresh Cheese\", \"MilkTypeEn\": \"Cow\", \"MilkTreatmentTypeEn\": \"Pasteurized\", \"FatLevel\": \"lower fat\"}, {\"ManufacturerProvCode\": \"QC\", \"ManufacturingTypeEn\": \"Farmstead\", \"MoisturePercent\": 65.0, \"Organic\": 0, \"CategoryTypeEn\": \"Semi-soft Cheese\", \"MilkTypeEn\": \"Ewe\", \"MilkTreatmentTypeEn\": \"Raw Milk\", \"FatLevel\": \"higher fat\"}, {\"ManufacturerProvCode\": \"NB\", \"ManufacturingTypeEn\": \"Farmstead\", \"MoisturePercent\": 47.0, \"Organic\": 0, \"CategoryTypeEn\": \"Firm Cheese\", \"MilkTypeEn\": \"Ewe\", \"MilkTreatmentTypeEn\": \"Raw Milk\", \"FatLevel\": \"lower fat\"}, {\"ManufacturerProvCode\": \"QC\", \"ManufacturingTypeEn\": \"Industrial\", \"MoisturePercent\": 43.0, \"Organic\": 0, \"CategoryTypeEn\": \"Semi-soft Cheese\", \"MilkTypeEn\": \"Cow\", \"MilkTreatmentTypeEn\": \"Pasteurized\", \"FatLevel\": \"lower fat\"}, {\"ManufacturerProvCode\": \"QC\", \"ManufacturingTypeEn\": \"Industrial\", \"MoisturePercent\": 50.0, \"Organic\": 0, \"CategoryTypeEn\": \"Firm Cheese\", \"MilkTypeEn\": \"Cow\", \"MilkTreatmentTypeEn\": \"Pasteurized\", \"FatLevel\": \"lower fat\"}, {\"ManufacturerProvCode\": \"QC\", \"ManufacturingTypeEn\": \"Artisan\", \"MoisturePercent\": 44.0, \"Organic\": 1, \"CategoryTypeEn\": \"Semi-soft Cheese\", \"MilkTypeEn\": \"Cow\", \"MilkTreatmentTypeEn\": \"Pasteurized\", \"FatLevel\": \"lower fat\"}, {\"ManufacturerProvCode\": \"ON\", \"ManufacturingTypeEn\": \"Industrial\", \"MoisturePercent\": 39.0, \"Organic\": 0, \"CategoryTypeEn\": \"Firm Cheese\", \"MilkTypeEn\": \"Cow\", \"MilkTreatmentTypeEn\": \"Pasteurized\", \"FatLevel\": \"lower fat\"}, {\"ManufacturerProvCode\": \"QC\", \"ManufacturingTypeEn\": \"Farmstead\", \"MoisturePercent\": 50.0, \"Organic\": 0, \"CategoryTypeEn\": \"Soft Cheese\", \"MilkTypeEn\": \"Ewe\", \"MilkTreatmentTypeEn\": \"Pasteurized\", \"FatLevel\": \"lower fat\"}, {\"ManufacturerProvCode\": \"ON\", \"ManufacturingTypeEn\": \"Artisan\", \"MoisturePercent\": 42.0, \"Organic\": 0, \"CategoryTypeEn\": \"Semi-soft Cheese\", \"MilkTypeEn\": \"Ewe\", \"MilkTreatmentTypeEn\": \"Raw Milk\", \"FatLevel\": \"higher fat\"}, {\"ManufacturerProvCode\": \"NS\", \"ManufacturingTypeEn\": \"Industrial\", \"MoisturePercent\": 39.0, \"Organic\": 0, \"CategoryTypeEn\": \"Firm Cheese\", \"MilkTypeEn\": \"Cow\", \"MilkTreatmentTypeEn\": \"Pasteurized\", \"FatLevel\": \"higher fat\"}, {\"ManufacturerProvCode\": \"QC\", \"ManufacturingTypeEn\": \"Industrial\", \"MoisturePercent\": 34.0, \"Organic\": 0, \"CategoryTypeEn\": \"Firm Cheese\", \"MilkTypeEn\": \"Cow\", \"MilkTreatmentTypeEn\": \"Pasteurized\", \"FatLevel\": \"higher fat\"}, {\"ManufacturerProvCode\": \"ON\", \"ManufacturingTypeEn\": \"Artisan\", \"MoisturePercent\": 58.0, \"Organic\": 0, \"CategoryTypeEn\": \"Semi-soft Cheese\", \"MilkTypeEn\": \"Ewe\", \"MilkTreatmentTypeEn\": \"Raw Milk\", \"FatLevel\": \"lower fat\"}, {\"ManufacturerProvCode\": \"AB\", \"ManufacturingTypeEn\": \"Farmstead\", \"MoisturePercent\": 43.0, \"Organic\": 0, \"CategoryTypeEn\": \"Firm Cheese\", \"MilkTypeEn\": \"Cow\", \"MilkTreatmentTypeEn\": \"Pasteurized\", \"FatLevel\": \"lower fat\"}, {\"ManufacturerProvCode\": \"QC\", \"ManufacturingTypeEn\": \"Industrial\", \"MoisturePercent\": 39.0, \"Organic\": 0, \"CategoryTypeEn\": \"Firm Cheese\", \"MilkTypeEn\": \"Cow\", \"MilkTreatmentTypeEn\": \"Pasteurized\", \"FatLevel\": \"higher fat\"}, {\"ManufacturerProvCode\": \"QC\", \"ManufacturingTypeEn\": \"Farmstead\", \"MoisturePercent\": 35.0, \"Organic\": 0, \"CategoryTypeEn\": \"Semi-soft Cheese\", \"MilkTypeEn\": \"Cow\", \"MilkTreatmentTypeEn\": \"Raw Milk\", \"FatLevel\": \"higher fat\"}, {\"ManufacturerProvCode\": \"QC\", \"ManufacturingTypeEn\": \"Industrial\", \"MoisturePercent\": 39.0, \"Organic\": 0, \"CategoryTypeEn\": \"Firm Cheese\", \"MilkTypeEn\": \"Cow\", \"MilkTreatmentTypeEn\": \"Thermised\", \"FatLevel\": \"higher fat\"}, {\"ManufacturerProvCode\": \"QC\", \"ManufacturingTypeEn\": \"Artisan\", \"MoisturePercent\": 40.0, \"Organic\": 0, \"CategoryTypeEn\": \"Firm Cheese\", \"MilkTypeEn\": \"Goat\", \"MilkTreatmentTypeEn\": \"Pasteurized\", \"FatLevel\": \"lower fat\"}, {\"ManufacturerProvCode\": \"QC\", \"ManufacturingTypeEn\": \"Farmstead\", \"MoisturePercent\": 45.0, \"Organic\": 1, \"CategoryTypeEn\": \"Semi-soft Cheese\", \"MilkTypeEn\": \"Cow\", \"MilkTreatmentTypeEn\": \"Raw Milk\", \"FatLevel\": \"lower fat\"}, {\"ManufacturerProvCode\": \"BC\", \"ManufacturingTypeEn\": \"Artisan\", \"MoisturePercent\": 38.0, \"Organic\": 0, \"CategoryTypeEn\": \"Firm Cheese\", \"MilkTypeEn\": \"Cow\", \"MilkTreatmentTypeEn\": \"Pasteurized\", \"FatLevel\": \"higher fat\"}, {\"ManufacturerProvCode\": \"QC\", \"ManufacturingTypeEn\": \"Industrial\", \"MoisturePercent\": 55.0, \"Organic\": 0, \"CategoryTypeEn\": \"Soft Cheese\", \"MilkTypeEn\": \"Cow\", \"MilkTreatmentTypeEn\": \"Pasteurized\", \"FatLevel\": \"lower fat\"}, {\"ManufacturerProvCode\": \"QC\", \"ManufacturingTypeEn\": \"Industrial\", \"MoisturePercent\": 39.0, \"Organic\": 0, \"CategoryTypeEn\": \"Firm Cheese\", \"MilkTypeEn\": \"Cow\", \"MilkTreatmentTypeEn\": \"Pasteurized\", \"FatLevel\": \"higher fat\"}, {\"ManufacturerProvCode\": \"QC\", \"ManufacturingTypeEn\": \"Industrial\", \"MoisturePercent\": 54.0, \"Organic\": 0, \"CategoryTypeEn\": \"Soft Cheese\", \"MilkTypeEn\": \"Goat\", \"MilkTreatmentTypeEn\": \"Pasteurized\", \"FatLevel\": \"lower fat\"}, {\"ManufacturerProvCode\": \"QC\", \"ManufacturingTypeEn\": \"Industrial\", \"MoisturePercent\": 50.0, \"Organic\": 0, \"CategoryTypeEn\": \"Fresh Cheese\", \"MilkTypeEn\": \"Cow\", \"MilkTreatmentTypeEn\": \"Pasteurized\", \"FatLevel\": \"lower fat\"}, {\"ManufacturerProvCode\": \"QC\", \"ManufacturingTypeEn\": \"Artisan\", \"MoisturePercent\": 49.0, \"Organic\": 0, \"CategoryTypeEn\": \"Soft Cheese\", \"MilkTypeEn\": \"Cow\", \"MilkTreatmentTypeEn\": \"Pasteurized\", \"FatLevel\": \"lower fat\"}, {\"ManufacturerProvCode\": \"QC\", \"ManufacturingTypeEn\": \"Artisan\", \"MoisturePercent\": 45.0, \"Organic\": 0, \"CategoryTypeEn\": \"Veined Cheeses\", \"MilkTypeEn\": \"Cow\", \"MilkTreatmentTypeEn\": \"Pasteurized\", \"FatLevel\": \"lower fat\"}, {\"ManufacturerProvCode\": \"QC\", \"ManufacturingTypeEn\": \"Artisan\", \"MoisturePercent\": 50.0, \"Organic\": 0, \"CategoryTypeEn\": \"Soft Cheese\", \"MilkTypeEn\": \"Cow\", \"MilkTreatmentTypeEn\": \"Raw Milk\", \"FatLevel\": \"lower fat\"}, {\"ManufacturerProvCode\": \"QC\", \"ManufacturingTypeEn\": \"Industrial\", \"MoisturePercent\": 40.0, \"Organic\": 0, \"CategoryTypeEn\": \"Firm Cheese\", \"MilkTypeEn\": \"Cow\", \"MilkTreatmentTypeEn\": \"Pasteurized\", \"FatLevel\": \"lower fat\"}, {\"ManufacturerProvCode\": \"ON\", \"ManufacturingTypeEn\": \"Industrial\", \"MoisturePercent\": 70.0, \"Organic\": 0, \"CategoryTypeEn\": \"Fresh Cheese\", \"MilkTypeEn\": \"Goat\", \"MilkTreatmentTypeEn\": \"Pasteurized\", \"FatLevel\": \"lower fat\"}, {\"ManufacturerProvCode\": \"BC\", \"ManufacturingTypeEn\": \"Artisan\", \"MoisturePercent\": 39.0, \"Organic\": 0, \"CategoryTypeEn\": \"Firm Cheese\", \"MilkTypeEn\": \"Cow\", \"MilkTreatmentTypeEn\": \"Pasteurized\", \"FatLevel\": \"higher fat\"}, {\"ManufacturerProvCode\": \"QC\", \"ManufacturingTypeEn\": \"Artisan\", \"MoisturePercent\": 50.0, \"Organic\": 0, \"CategoryTypeEn\": \"Soft Cheese\", \"MilkTypeEn\": \"Cow\", \"MilkTreatmentTypeEn\": \"Pasteurized\", \"FatLevel\": \"lower fat\"}, {\"ManufacturerProvCode\": \"QC\", \"ManufacturingTypeEn\": \"Industrial\", \"MoisturePercent\": 45.0, \"Organic\": 0, \"CategoryTypeEn\": \"Semi-soft Cheese\", \"MilkTypeEn\": \"Cow\", \"MilkTreatmentTypeEn\": \"Pasteurized\", \"FatLevel\": \"higher fat\"}, {\"ManufacturerProvCode\": \"QC\", \"ManufacturingTypeEn\": \"Farmstead\", \"MoisturePercent\": 39.0, \"Organic\": 1, \"CategoryTypeEn\": \"Firm Cheese\", \"MilkTypeEn\": \"Cow\", \"MilkTreatmentTypeEn\": \"Raw Milk\", \"FatLevel\": \"higher fat\"}, {\"ManufacturerProvCode\": \"QC\", \"ManufacturingTypeEn\": \"Industrial\", \"MoisturePercent\": 50.0, \"Organic\": 0, \"CategoryTypeEn\": \"Soft Cheese\", \"MilkTypeEn\": \"Cow\", \"MilkTreatmentTypeEn\": \"Pasteurized\", \"FatLevel\": \"lower fat\"}, {\"ManufacturerProvCode\": \"ON\", \"ManufacturingTypeEn\": \"Farmstead\", \"MoisturePercent\": 35.0, \"Organic\": 0, \"CategoryTypeEn\": \"Fresh Cheese\", \"MilkTypeEn\": \"Goat\", \"MilkTreatmentTypeEn\": \"Pasteurized\", \"FatLevel\": \"lower fat\"}, {\"ManufacturerProvCode\": \"QC\", \"ManufacturingTypeEn\": \"Artisan\", \"MoisturePercent\": 41.0, \"Organic\": 0, \"CategoryTypeEn\": \"Firm Cheese\", \"MilkTypeEn\": \"Cow\", \"MilkTreatmentTypeEn\": \"Pasteurized\", \"FatLevel\": \"lower fat\"}, {\"ManufacturerProvCode\": \"QC\", \"ManufacturingTypeEn\": \"Farmstead\", \"MoisturePercent\": 48.0, \"Organic\": 0, \"CategoryTypeEn\": \"Veined Cheeses\", \"MilkTypeEn\": \"Ewe\", \"MilkTreatmentTypeEn\": \"Pasteurized\", \"FatLevel\": \"lower fat\"}, {\"ManufacturerProvCode\": \"QC\", \"ManufacturingTypeEn\": \"Industrial\", \"MoisturePercent\": 50.0, \"Organic\": 0, \"CategoryTypeEn\": \"Semi-soft Cheese\", \"MilkTypeEn\": \"Cow\", \"MilkTreatmentTypeEn\": \"Pasteurized\", \"FatLevel\": \"lower fat\"}, {\"ManufacturerProvCode\": \"BC\", \"ManufacturingTypeEn\": \"Artisan\", \"MoisturePercent\": 40.0, \"Organic\": 0, \"CategoryTypeEn\": \"Firm Cheese\", \"MilkTypeEn\": \"Goat\", \"MilkTreatmentTypeEn\": \"Thermised\", \"FatLevel\": \"higher fat\"}, {\"ManufacturerProvCode\": \"QC\", \"ManufacturingTypeEn\": \"Industrial\", \"MoisturePercent\": 55.0, \"Organic\": 0, \"CategoryTypeEn\": \"Semi-soft Cheese\", \"MilkTypeEn\": \"Cow\", \"MilkTreatmentTypeEn\": \"Pasteurized\", \"FatLevel\": \"lower fat\"}, {\"ManufacturerProvCode\": \"QC\", \"ManufacturingTypeEn\": \"Artisan\", \"MoisturePercent\": 65.0, \"Organic\": 0, \"CategoryTypeEn\": \"Fresh Cheese\", \"MilkTypeEn\": \"Cow\", \"MilkTreatmentTypeEn\": \"Pasteurized\", \"FatLevel\": \"lower fat\"}, {\"ManufacturerProvCode\": \"QC\", \"ManufacturingTypeEn\": \"Farmstead\", \"MoisturePercent\": 39.0, \"Organic\": 0, \"CategoryTypeEn\": \"Firm Cheese\", \"MilkTypeEn\": \"Cow\", \"MilkTreatmentTypeEn\": \"Pasteurized\", \"FatLevel\": \"higher fat\"}, {\"ManufacturerProvCode\": \"QC\", \"ManufacturingTypeEn\": \"Farmstead\", \"MoisturePercent\": 41.0, \"Organic\": 0, \"CategoryTypeEn\": \"Firm Cheese\", \"MilkTypeEn\": \"Cow\", \"MilkTreatmentTypeEn\": \"Pasteurized\", \"FatLevel\": \"higher fat\"}, {\"ManufacturerProvCode\": \"QC\", \"ManufacturingTypeEn\": \"Artisan\", \"MoisturePercent\": 41.0, \"Organic\": 0, \"CategoryTypeEn\": \"Firm Cheese\", \"MilkTypeEn\": \"Goat\", \"MilkTreatmentTypeEn\": \"Pasteurized\", \"FatLevel\": \"higher fat\"}, {\"ManufacturerProvCode\": \"QC\", \"ManufacturingTypeEn\": \"Industrial\", \"MoisturePercent\": 54.0, \"Organic\": 0, \"CategoryTypeEn\": \"Soft Cheese\", \"MilkTypeEn\": \"Cow\", \"MilkTreatmentTypeEn\": \"Pasteurized\", \"FatLevel\": \"lower fat\"}, {\"ManufacturerProvCode\": \"QC\", \"ManufacturingTypeEn\": \"Farmstead\", \"MoisturePercent\": 42.0, \"Organic\": 1, \"CategoryTypeEn\": \"Firm Cheese\", \"MilkTypeEn\": \"Goat\", \"MilkTreatmentTypeEn\": \"Pasteurized\", \"FatLevel\": \"lower fat\"}, {\"ManufacturerProvCode\": \"QC\", \"ManufacturingTypeEn\": \"Farmstead\", \"MoisturePercent\": 50.0, \"Organic\": 0, \"CategoryTypeEn\": \"Semi-soft Cheese\", \"MilkTypeEn\": \"Cow\", \"MilkTreatmentTypeEn\": \"Pasteurized\", \"FatLevel\": \"higher fat\"}, {\"ManufacturerProvCode\": \"QC\", \"ManufacturingTypeEn\": \"Artisan\", \"MoisturePercent\": 67.0, \"Organic\": 0, \"CategoryTypeEn\": \"Fresh Cheese\", \"MilkTypeEn\": \"Cow\", \"MilkTreatmentTypeEn\": \"Pasteurized\", \"FatLevel\": \"lower fat\"}, {\"ManufacturerProvCode\": \"NB\", \"ManufacturingTypeEn\": \"Farmstead\", \"MoisturePercent\": 50.0, \"Organic\": 0, \"CategoryTypeEn\": \"Semi-soft Cheese\", \"MilkTypeEn\": \"Goat\", \"MilkTreatmentTypeEn\": \"Pasteurized\", \"FatLevel\": \"lower fat\"}, {\"ManufacturerProvCode\": \"QC\", \"ManufacturingTypeEn\": \"Industrial\", \"MoisturePercent\": 50.0, \"Organic\": 0, \"CategoryTypeEn\": \"Soft Cheese\", \"MilkTypeEn\": \"Cow\", \"MilkTreatmentTypeEn\": null, \"FatLevel\": \"higher fat\"}, {\"ManufacturerProvCode\": \"QC\", \"ManufacturingTypeEn\": \"Artisan\", \"MoisturePercent\": 46.0, \"Organic\": 0, \"CategoryTypeEn\": \"Semi-soft Cheese\", \"MilkTypeEn\": \"Cow\", \"MilkTreatmentTypeEn\": \"Pasteurized\", \"FatLevel\": \"lower fat\"}, {\"ManufacturerProvCode\": \"QC\", \"ManufacturingTypeEn\": \"Artisan\", \"MoisturePercent\": 41.0, \"Organic\": 0, \"CategoryTypeEn\": \"Firm Cheese\", \"MilkTypeEn\": \"Cow\", \"MilkTreatmentTypeEn\": \"Pasteurized\", \"FatLevel\": \"higher fat\"}, {\"ManufacturerProvCode\": \"QC\", \"ManufacturingTypeEn\": \"Artisan\", \"MoisturePercent\": 41.0, \"Organic\": 0, \"CategoryTypeEn\": \"Veined Cheeses\", \"MilkTypeEn\": \"Cow\", \"MilkTreatmentTypeEn\": \"Pasteurized\", \"FatLevel\": \"higher fat\"}, {\"ManufacturerProvCode\": \"QC\", \"ManufacturingTypeEn\": \"Artisan\", \"MoisturePercent\": 40.0, \"Organic\": 1, \"CategoryTypeEn\": \"Firm Cheese\", \"MilkTypeEn\": \"Cow\", \"MilkTreatmentTypeEn\": \"Raw Milk\", \"FatLevel\": \"lower fat\"}, {\"ManufacturerProvCode\": \"QC\", \"ManufacturingTypeEn\": \"Farmstead\", \"MoisturePercent\": 48.0, \"Organic\": 0, \"CategoryTypeEn\": \"Semi-soft Cheese\", \"MilkTypeEn\": \"Goat\", \"MilkTreatmentTypeEn\": \"Raw Milk\", \"FatLevel\": \"lower fat\"}, {\"ManufacturerProvCode\": \"ON\", \"ManufacturingTypeEn\": \"Artisan\", \"MoisturePercent\": 68.0, \"Organic\": 0, \"CategoryTypeEn\": \"Fresh Cheese\", \"MilkTypeEn\": \"Goat\", \"MilkTreatmentTypeEn\": \"Pasteurized\", \"FatLevel\": \"lower fat\"}, {\"ManufacturerProvCode\": \"QC\", \"ManufacturingTypeEn\": \"Farmstead\", \"MoisturePercent\": 45.0, \"Organic\": 0, \"CategoryTypeEn\": \"Soft Cheese\", \"MilkTypeEn\": \"Goat\", \"MilkTreatmentTypeEn\": \"Thermised\", \"FatLevel\": \"lower fat\"}, {\"ManufacturerProvCode\": \"QC\", \"ManufacturingTypeEn\": \"Industrial\", \"MoisturePercent\": 52.0, \"Organic\": 0, \"CategoryTypeEn\": \"Semi-soft Cheese\", \"MilkTypeEn\": \"Cow\", \"MilkTreatmentTypeEn\": \"Pasteurized\", \"FatLevel\": \"lower fat\"}, {\"ManufacturerProvCode\": \"QC\", \"ManufacturingTypeEn\": \"Industrial\", \"MoisturePercent\": 42.0, \"Organic\": 0, \"CategoryTypeEn\": \"Firm Cheese\", \"MilkTypeEn\": \"Cow\", \"MilkTreatmentTypeEn\": \"Pasteurized\", \"FatLevel\": \"lower fat\"}, {\"ManufacturerProvCode\": \"BC\", \"ManufacturingTypeEn\": \"Artisan\", \"MoisturePercent\": 41.0, \"Organic\": 0, \"CategoryTypeEn\": \"Firm Cheese\", \"MilkTypeEn\": \"Cow\", \"MilkTreatmentTypeEn\": \"Pasteurized\", \"FatLevel\": \"higher fat\"}, {\"ManufacturerProvCode\": \"QC\", \"ManufacturingTypeEn\": \"Industrial\", \"MoisturePercent\": 44.0, \"Organic\": 0, \"CategoryTypeEn\": \"Firm Cheese\", \"MilkTypeEn\": \"Cow\", \"MilkTreatmentTypeEn\": \"Pasteurized\", \"FatLevel\": \"lower fat\"}, {\"ManufacturerProvCode\": \"QC\", \"ManufacturingTypeEn\": \"Artisan\", \"MoisturePercent\": 64.0, \"Organic\": 0, \"CategoryTypeEn\": \"Semi-soft Cheese\", \"MilkTypeEn\": \"Goat\", \"MilkTreatmentTypeEn\": \"Pasteurized\", \"FatLevel\": \"lower fat\"}, {\"ManufacturerProvCode\": \"QC\", \"ManufacturingTypeEn\": \"Industrial\", \"MoisturePercent\": 50.0, \"Organic\": 0, \"CategoryTypeEn\": \"Soft Cheese\", \"MilkTypeEn\": \"Cow\", \"MilkTreatmentTypeEn\": \"Pasteurized\", \"FatLevel\": \"higher fat\"}, {\"ManufacturerProvCode\": \"QC\", \"ManufacturingTypeEn\": \"Industrial\", \"MoisturePercent\": 42.0, \"Organic\": 0, \"CategoryTypeEn\": \"Firm Cheese\", \"MilkTypeEn\": \"Goat\", \"MilkTreatmentTypeEn\": \"Pasteurized\", \"FatLevel\": \"lower fat\"}, {\"ManufacturerProvCode\": \"QC\", \"ManufacturingTypeEn\": \"Artisan\", \"MoisturePercent\": 41.0, \"Organic\": 0, \"CategoryTypeEn\": \"Semi-soft Cheese\", \"MilkTypeEn\": \"Cow\", \"MilkTreatmentTypeEn\": \"Pasteurized\", \"FatLevel\": \"lower fat\"}, {\"ManufacturerProvCode\": \"QC\", \"ManufacturingTypeEn\": \"Industrial\", \"MoisturePercent\": 46.0, \"Organic\": 0, \"CategoryTypeEn\": \"Semi-soft Cheese\", \"MilkTypeEn\": \"Cow\", \"MilkTreatmentTypeEn\": \"Pasteurized\", \"FatLevel\": \"lower fat\"}, {\"ManufacturerProvCode\": \"QC\", \"ManufacturingTypeEn\": \"Farmstead\", \"MoisturePercent\": 52.0, \"Organic\": 0, \"CategoryTypeEn\": \"Soft Cheese\", \"MilkTypeEn\": \"Goat\", \"MilkTreatmentTypeEn\": \"Pasteurized\", \"FatLevel\": \"lower fat\"}, {\"ManufacturerProvCode\": \"AB\", \"ManufacturingTypeEn\": \"Industrial\", \"MoisturePercent\": 46.0, \"Organic\": 0, \"CategoryTypeEn\": \"Fresh Cheese\", \"MilkTypeEn\": \"Cow\", \"MilkTreatmentTypeEn\": \"Pasteurized\", \"FatLevel\": \"lower fat\"}, {\"ManufacturerProvCode\": \"QC\", \"ManufacturingTypeEn\": \"Artisan\", \"MoisturePercent\": 45.0, \"Organic\": 0, \"CategoryTypeEn\": \"Fresh Cheese\", \"MilkTypeEn\": \"Goat\", \"MilkTreatmentTypeEn\": \"Pasteurized\", \"FatLevel\": \"lower fat\"}, {\"ManufacturerProvCode\": \"QC\", \"ManufacturingTypeEn\": \"Artisan\", \"MoisturePercent\": 36.0, \"Organic\": 1, \"CategoryTypeEn\": \"Firm Cheese\", \"MilkTypeEn\": \"Cow\", \"MilkTreatmentTypeEn\": \"Raw Milk\", \"FatLevel\": \"higher fat\"}, {\"ManufacturerProvCode\": \"ON\", \"ManufacturingTypeEn\": \"Artisan\", \"MoisturePercent\": 56.0, \"Organic\": 0, \"CategoryTypeEn\": \"Fresh Cheese\", \"MilkTypeEn\": \"Cow\", \"MilkTreatmentTypeEn\": \"Pasteurized\", \"FatLevel\": \"lower fat\"}, {\"ManufacturerProvCode\": \"QC\", \"ManufacturingTypeEn\": \"Industrial\", \"MoisturePercent\": 54.0, \"Organic\": 0, \"CategoryTypeEn\": \"Soft Cheese\", \"MilkTypeEn\": \"Cow\", \"MilkTreatmentTypeEn\": \"Pasteurized\", \"FatLevel\": \"lower fat\"}, {\"ManufacturerProvCode\": \"QC\", \"ManufacturingTypeEn\": \"Artisan\", \"MoisturePercent\": 37.0, \"Organic\": 0, \"CategoryTypeEn\": \"Firm Cheese\", \"MilkTypeEn\": \"Cow\", \"MilkTreatmentTypeEn\": \"Pasteurized\", \"FatLevel\": \"higher fat\"}, {\"ManufacturerProvCode\": \"QC\", \"ManufacturingTypeEn\": \"Artisan\", \"MoisturePercent\": 54.0, \"Organic\": 0, \"CategoryTypeEn\": \"Soft Cheese\", \"MilkTypeEn\": \"Cow\", \"MilkTreatmentTypeEn\": \"Pasteurized\", \"FatLevel\": \"lower fat\"}, {\"ManufacturerProvCode\": \"QC\", \"ManufacturingTypeEn\": \"Industrial\", \"MoisturePercent\": 39.0, \"Organic\": 0, \"CategoryTypeEn\": \"Firm Cheese\", \"MilkTypeEn\": \"Cow\", \"MilkTreatmentTypeEn\": \"Pasteurized\", \"FatLevel\": \"higher fat\"}, {\"ManufacturerProvCode\": \"QC\", \"ManufacturingTypeEn\": \"Artisan\", \"MoisturePercent\": 48.0, \"Organic\": 1, \"CategoryTypeEn\": \"Soft Cheese\", \"MilkTypeEn\": \"Cow\", \"MilkTreatmentTypeEn\": \"Raw Milk\", \"FatLevel\": \"lower fat\"}, {\"ManufacturerProvCode\": \"QC\", \"ManufacturingTypeEn\": \"Artisan\", \"MoisturePercent\": 50.0, \"Organic\": 0, \"CategoryTypeEn\": \"Semi-soft Cheese\", \"MilkTypeEn\": \"Cow\", \"MilkTreatmentTypeEn\": \"Pasteurized\", \"FatLevel\": \"lower fat\"}, {\"ManufacturerProvCode\": \"QC\", \"ManufacturingTypeEn\": \"Industrial\", \"MoisturePercent\": 39.0, \"Organic\": 0, \"CategoryTypeEn\": \"Firm Cheese\", \"MilkTypeEn\": \"Cow\", \"MilkTreatmentTypeEn\": null, \"FatLevel\": \"higher fat\"}, {\"ManufacturerProvCode\": \"QC\", \"ManufacturingTypeEn\": \"Farmstead\", \"MoisturePercent\": 45.0, \"Organic\": 0, \"CategoryTypeEn\": \"Fresh Cheese\", \"MilkTypeEn\": \"Goat\", \"MilkTreatmentTypeEn\": \"Pasteurized\", \"FatLevel\": \"lower fat\"}, {\"ManufacturerProvCode\": \"ON\", \"ManufacturingTypeEn\": \"Industrial\", \"MoisturePercent\": 39.0, \"Organic\": 0, \"CategoryTypeEn\": \"Firm Cheese\", \"MilkTypeEn\": \"Cow\", \"MilkTreatmentTypeEn\": \"Pasteurized\", \"FatLevel\": \"higher fat\"}, {\"ManufacturerProvCode\": \"QC\", \"ManufacturingTypeEn\": \"Artisan\", \"MoisturePercent\": 60.0, \"Organic\": 0, \"CategoryTypeEn\": \"Fresh Cheese\", \"MilkTypeEn\": \"Goat\", \"MilkTreatmentTypeEn\": \"Pasteurized\", \"FatLevel\": \"lower fat\"}, {\"ManufacturerProvCode\": \"QC\", \"ManufacturingTypeEn\": \"Artisan\", \"MoisturePercent\": 39.0, \"Organic\": 0, \"CategoryTypeEn\": \"Firm Cheese\", \"MilkTypeEn\": \"Cow\", \"MilkTreatmentTypeEn\": \"Pasteurized\", \"FatLevel\": \"higher fat\"}, {\"ManufacturerProvCode\": \"QC\", \"ManufacturingTypeEn\": \"Industrial\", \"MoisturePercent\": 45.0, \"Organic\": 0, \"CategoryTypeEn\": \"Soft Cheese\", \"MilkTypeEn\": \"Cow\", \"MilkTreatmentTypeEn\": \"Pasteurized\", \"FatLevel\": \"higher fat\"}, {\"ManufacturerProvCode\": \"QC\", \"ManufacturingTypeEn\": \"Artisan\", \"MoisturePercent\": 40.0, \"Organic\": 0, \"CategoryTypeEn\": \"Firm Cheese\", \"MilkTypeEn\": \"Cow\", \"MilkTreatmentTypeEn\": \"Pasteurized\", \"FatLevel\": \"lower fat\"}, {\"ManufacturerProvCode\": \"QC\", \"ManufacturingTypeEn\": \"Industrial\", \"MoisturePercent\": null, \"Organic\": 0, \"CategoryTypeEn\": \"Soft Cheese\", \"MilkTypeEn\": \"Cow\", \"MilkTreatmentTypeEn\": \"Pasteurized\", \"FatLevel\": \"lower fat\"}, {\"ManufacturerProvCode\": \"QC\", \"ManufacturingTypeEn\": \"Farmstead\", \"MoisturePercent\": 50.0, \"Organic\": 0, \"CategoryTypeEn\": \"Soft Cheese\", \"MilkTypeEn\": \"Cow\", \"MilkTreatmentTypeEn\": \"Raw Milk\", \"FatLevel\": \"lower fat\"}, {\"ManufacturerProvCode\": \"BC\", \"ManufacturingTypeEn\": \"Artisan\", \"MoisturePercent\": 43.0, \"Organic\": 0, \"CategoryTypeEn\": \"Firm Cheese\", \"MilkTypeEn\": \"Cow\", \"MilkTreatmentTypeEn\": \"Pasteurized\", \"FatLevel\": \"higher fat\"}, {\"ManufacturerProvCode\": \"QC\", \"ManufacturingTypeEn\": \"Industrial\", \"MoisturePercent\": 42.0, \"Organic\": 0, \"CategoryTypeEn\": \"Semi-soft Cheese\", \"MilkTypeEn\": \"Cow\", \"MilkTreatmentTypeEn\": \"Pasteurized\", \"FatLevel\": \"lower fat\"}, {\"ManufacturerProvCode\": \"QC\", \"ManufacturingTypeEn\": \"Artisan\", \"MoisturePercent\": 41.0, \"Organic\": 0, \"CategoryTypeEn\": \"Firm Cheese\", \"MilkTypeEn\": \"Cow\", \"MilkTreatmentTypeEn\": \"Pasteurized\", \"FatLevel\": \"higher fat\"}, {\"ManufacturerProvCode\": \"NB\", \"ManufacturingTypeEn\": \"Farmstead\", \"MoisturePercent\": 50.0, \"Organic\": 0, \"CategoryTypeEn\": \"Semi-soft Cheese\", \"MilkTypeEn\": \"Goat\", \"MilkTreatmentTypeEn\": \"Pasteurized\", \"FatLevel\": \"lower fat\"}, {\"ManufacturerProvCode\": \"QC\", \"ManufacturingTypeEn\": \"Artisan\", \"MoisturePercent\": 41.0, \"Organic\": 0, \"CategoryTypeEn\": \"Fresh Cheese\", \"MilkTypeEn\": \"Cow\", \"MilkTreatmentTypeEn\": \"Pasteurized\", \"FatLevel\": \"higher fat\"}, {\"ManufacturerProvCode\": \"QC\", \"ManufacturingTypeEn\": \"Artisan\", \"MoisturePercent\": 55.0, \"Organic\": 0, \"CategoryTypeEn\": \"Soft Cheese\", \"MilkTypeEn\": \"Cow\", \"MilkTreatmentTypeEn\": \"Pasteurized\", \"FatLevel\": \"lower fat\"}, {\"ManufacturerProvCode\": \"QC\", \"ManufacturingTypeEn\": \"Artisan\", \"MoisturePercent\": 38.0, \"Organic\": 0, \"CategoryTypeEn\": \"Firm Cheese\", \"MilkTypeEn\": \"Goat\", \"MilkTreatmentTypeEn\": \"Pasteurized\", \"FatLevel\": \"lower fat\"}, {\"ManufacturerProvCode\": \"QC\", \"ManufacturingTypeEn\": \"Artisan\", \"MoisturePercent\": 52.0, \"Organic\": 0, \"CategoryTypeEn\": \"Soft Cheese\", \"MilkTypeEn\": \"Goat\", \"MilkTreatmentTypeEn\": \"Pasteurized\", \"FatLevel\": \"lower fat\"}, {\"ManufacturerProvCode\": \"QC\", \"ManufacturingTypeEn\": \"Industrial\", \"MoisturePercent\": 50.0, \"Organic\": 0, \"CategoryTypeEn\": \"Soft Cheese\", \"MilkTypeEn\": \"Cow\", \"MilkTreatmentTypeEn\": \"Pasteurized\", \"FatLevel\": \"higher fat\"}, {\"ManufacturerProvCode\": \"QC\", \"ManufacturingTypeEn\": \"Industrial\", \"MoisturePercent\": 50.0, \"Organic\": 0, \"CategoryTypeEn\": \"Soft Cheese\", \"MilkTypeEn\": \"Cow\", \"MilkTreatmentTypeEn\": \"Pasteurized\", \"FatLevel\": \"higher fat\"}, {\"ManufacturerProvCode\": \"QC\", \"ManufacturingTypeEn\": \"Industrial\", \"MoisturePercent\": 50.0, \"Organic\": 0, \"CategoryTypeEn\": \"Fresh Cheese\", \"MilkTypeEn\": \"Goat\", \"MilkTreatmentTypeEn\": \"Pasteurized\", \"FatLevel\": \"lower fat\"}, {\"ManufacturerProvCode\": \"NB\", \"ManufacturingTypeEn\": \"Farmstead\", \"MoisturePercent\": 50.0, \"Organic\": 0, \"CategoryTypeEn\": \"Soft Cheese\", \"MilkTypeEn\": \"Goat\", \"MilkTreatmentTypeEn\": \"Pasteurized\", \"FatLevel\": \"lower fat\"}, {\"ManufacturerProvCode\": \"QC\", \"ManufacturingTypeEn\": \"Industrial\", \"MoisturePercent\": 42.0, \"Organic\": 0, \"CategoryTypeEn\": \"Firm Cheese\", \"MilkTypeEn\": \"Goat\", \"MilkTreatmentTypeEn\": \"Pasteurized\", \"FatLevel\": \"lower fat\"}, {\"ManufacturerProvCode\": \"QC\", \"ManufacturingTypeEn\": \"Artisan\", \"MoisturePercent\": 39.0, \"Organic\": 0, \"CategoryTypeEn\": \"Firm Cheese\", \"MilkTypeEn\": \"Cow\", \"MilkTreatmentTypeEn\": \"Raw Milk\", \"FatLevel\": \"lower fat\"}, {\"ManufacturerProvCode\": \"QC\", \"ManufacturingTypeEn\": \"Industrial\", \"MoisturePercent\": 39.0, \"Organic\": 0, \"CategoryTypeEn\": \"Firm Cheese\", \"MilkTypeEn\": \"Cow\", \"MilkTreatmentTypeEn\": \"Pasteurized\", \"FatLevel\": \"higher fat\"}, {\"ManufacturerProvCode\": \"QC\", \"ManufacturingTypeEn\": \"Industrial\", \"MoisturePercent\": 50.0, \"Organic\": 0, \"CategoryTypeEn\": \"Semi-soft Cheese\", \"MilkTypeEn\": \"Cow\", \"MilkTreatmentTypeEn\": \"Pasteurized\", \"FatLevel\": \"lower fat\"}, {\"ManufacturerProvCode\": \"NS\", \"ManufacturingTypeEn\": \"Industrial\", \"MoisturePercent\": 40.0, \"Organic\": 0, \"CategoryTypeEn\": null, \"MilkTypeEn\": \"Cow\", \"MilkTreatmentTypeEn\": null, \"FatLevel\": \"lower fat\"}, {\"ManufacturerProvCode\": \"QC\", \"ManufacturingTypeEn\": \"Artisan\", \"MoisturePercent\": 40.0, \"Organic\": 0, \"CategoryTypeEn\": \"Semi-soft Cheese\", \"MilkTypeEn\": \"Goat\", \"MilkTreatmentTypeEn\": \"Raw Milk\", \"FatLevel\": \"lower fat\"}, {\"ManufacturerProvCode\": \"QC\", \"ManufacturingTypeEn\": \"Industrial\", \"MoisturePercent\": 45.0, \"Organic\": 0, \"CategoryTypeEn\": \"Firm Cheese\", \"MilkTypeEn\": \"Cow\", \"MilkTreatmentTypeEn\": \"Pasteurized\", \"FatLevel\": \"higher fat\"}, {\"ManufacturerProvCode\": \"QC\", \"ManufacturingTypeEn\": \"Artisan\", \"MoisturePercent\": 50.0, \"Organic\": 0, \"CategoryTypeEn\": \"Fresh Cheese\", \"MilkTypeEn\": \"Cow\", \"MilkTreatmentTypeEn\": \"Pasteurized\", \"FatLevel\": \"lower fat\"}, {\"ManufacturerProvCode\": \"QC\", \"ManufacturingTypeEn\": \"Industrial\", \"MoisturePercent\": 41.0, \"Organic\": 0, \"CategoryTypeEn\": \"Firm Cheese\", \"MilkTypeEn\": \"Cow\", \"MilkTreatmentTypeEn\": \"Pasteurized\", \"FatLevel\": \"higher fat\"}, {\"ManufacturerProvCode\": \"QC\", \"ManufacturingTypeEn\": \"Industrial\", \"MoisturePercent\": 50.0, \"Organic\": 0, \"CategoryTypeEn\": \"Soft Cheese\", \"MilkTypeEn\": \"Cow\", \"MilkTreatmentTypeEn\": \"Pasteurized\", \"FatLevel\": \"lower fat\"}, {\"ManufacturerProvCode\": \"QC\", \"ManufacturingTypeEn\": \"Industrial\", \"MoisturePercent\": 48.0, \"Organic\": 0, \"CategoryTypeEn\": \"Soft Cheese\", \"MilkTypeEn\": \"Cow\", \"MilkTreatmentTypeEn\": \"Pasteurized\", \"FatLevel\": \"higher fat\"}, {\"ManufacturerProvCode\": \"NS\", \"ManufacturingTypeEn\": \"Farmstead\", \"MoisturePercent\": 37.0, \"Organic\": 1, \"CategoryTypeEn\": \"Hard Cheese\", \"MilkTypeEn\": \"Cow\", \"MilkTreatmentTypeEn\": \"Pasteurized\", \"FatLevel\": \"higher fat\"}, {\"ManufacturerProvCode\": \"ON\", \"ManufacturingTypeEn\": \"Industrial\", \"MoisturePercent\": 52.0, \"Organic\": 0, \"CategoryTypeEn\": \"Fresh Cheese\", \"MilkTypeEn\": \"Cow\", \"MilkTreatmentTypeEn\": \"Pasteurized\", \"FatLevel\": \"lower fat\"}, {\"ManufacturerProvCode\": \"ON\", \"ManufacturingTypeEn\": \"Industrial\", \"MoisturePercent\": 40.0, \"Organic\": 0, \"CategoryTypeEn\": \"Firm Cheese\", \"MilkTypeEn\": \"Cow\", \"MilkTreatmentTypeEn\": \"Pasteurized\", \"FatLevel\": \"higher fat\"}, {\"ManufacturerProvCode\": \"QC\", \"ManufacturingTypeEn\": \"Industrial\", \"MoisturePercent\": 48.0, \"Organic\": 0, \"CategoryTypeEn\": \"Soft Cheese\", \"MilkTypeEn\": \"Cow and Goat\", \"MilkTreatmentTypeEn\": \"Pasteurized\", \"FatLevel\": \"higher fat\"}, {\"ManufacturerProvCode\": \"QC\", \"ManufacturingTypeEn\": \"Artisan\", \"MoisturePercent\": 55.0, \"Organic\": 0, \"CategoryTypeEn\": \"Semi-soft Cheese\", \"MilkTypeEn\": \"Goat\", \"MilkTreatmentTypeEn\": \"Raw Milk\", \"FatLevel\": \"lower fat\"}, {\"ManufacturerProvCode\": \"NB\", \"ManufacturingTypeEn\": \"Farmstead\", \"MoisturePercent\": 50.0, \"Organic\": 0, \"CategoryTypeEn\": \"Soft Cheese\", \"MilkTypeEn\": \"Goat\", \"MilkTreatmentTypeEn\": \"Pasteurized\", \"FatLevel\": \"lower fat\"}, {\"ManufacturerProvCode\": \"QC\", \"ManufacturingTypeEn\": \"Farmstead\", \"MoisturePercent\": 46.0, \"Organic\": 1, \"CategoryTypeEn\": \"Semi-soft Cheese\", \"MilkTypeEn\": \"Goat\", \"MilkTreatmentTypeEn\": \"Pasteurized\", \"FatLevel\": \"higher fat\"}, {\"ManufacturerProvCode\": \"QC\", \"ManufacturingTypeEn\": \"Industrial\", \"MoisturePercent\": 35.0, \"Organic\": 0, \"CategoryTypeEn\": \"Firm Cheese\", \"MilkTypeEn\": \"Cow\", \"MilkTreatmentTypeEn\": \"Pasteurized\", \"FatLevel\": \"higher fat\"}, {\"ManufacturerProvCode\": \"ON\", \"ManufacturingTypeEn\": \"Industrial\", \"MoisturePercent\": 52.0, \"Organic\": 0, \"CategoryTypeEn\": \"Soft Cheese\", \"MilkTypeEn\": \"Goat\", \"MilkTreatmentTypeEn\": \"Pasteurized\", \"FatLevel\": \"lower fat\"}, {\"ManufacturerProvCode\": \"QC\", \"ManufacturingTypeEn\": \"Artisan\", \"MoisturePercent\": 45.0, \"Organic\": 0, \"CategoryTypeEn\": \"Firm Cheese\", \"MilkTypeEn\": \"Cow\", \"MilkTreatmentTypeEn\": \"Pasteurized\", \"FatLevel\": \"higher fat\"}, {\"ManufacturerProvCode\": \"QC\", \"ManufacturingTypeEn\": \"Industrial\", \"MoisturePercent\": 50.0, \"Organic\": 0, \"CategoryTypeEn\": \"Soft Cheese\", \"MilkTypeEn\": \"Cow\", \"MilkTreatmentTypeEn\": \"Pasteurized\", \"FatLevel\": \"lower fat\"}, {\"ManufacturerProvCode\": \"QC\", \"ManufacturingTypeEn\": \"Industrial\", \"MoisturePercent\": 39.0, \"Organic\": 0, \"CategoryTypeEn\": \"Firm Cheese\", \"MilkTypeEn\": \"Cow\", \"MilkTreatmentTypeEn\": \"Pasteurized\", \"FatLevel\": \"higher fat\"}, {\"ManufacturerProvCode\": \"QC\", \"ManufacturingTypeEn\": \"Industrial\", \"MoisturePercent\": 45.0, \"Organic\": 0, \"CategoryTypeEn\": \"Firm Cheese\", \"MilkTypeEn\": \"Cow\", \"MilkTreatmentTypeEn\": \"Pasteurized\", \"FatLevel\": \"lower fat\"}, {\"ManufacturerProvCode\": \"QC\", \"ManufacturingTypeEn\": \"Industrial\", \"MoisturePercent\": 55.0, \"Organic\": 0, \"CategoryTypeEn\": \"Soft Cheese\", \"MilkTypeEn\": \"Cow\", \"MilkTreatmentTypeEn\": \"Pasteurized\", \"FatLevel\": \"lower fat\"}, {\"ManufacturerProvCode\": \"QC\", \"ManufacturingTypeEn\": \"Farmstead\", \"MoisturePercent\": 50.0, \"Organic\": 1, \"CategoryTypeEn\": \"Soft Cheese\", \"MilkTypeEn\": \"Cow\", \"MilkTreatmentTypeEn\": \"Pasteurized\", \"FatLevel\": \"higher fat\"}, {\"ManufacturerProvCode\": \"BC\", \"ManufacturingTypeEn\": \"Artisan\", \"MoisturePercent\": null, \"Organic\": 0, \"CategoryTypeEn\": \"Hard Cheese\", \"MilkTypeEn\": \"Cow\", \"MilkTreatmentTypeEn\": \"Raw Milk\", \"FatLevel\": \"higher fat\"}, {\"ManufacturerProvCode\": \"QC\", \"ManufacturingTypeEn\": \"Artisan\", \"MoisturePercent\": 50.0, \"Organic\": 0, \"CategoryTypeEn\": \"Soft Cheese\", \"MilkTypeEn\": \"Cow\", \"MilkTreatmentTypeEn\": \"Raw Milk\", \"FatLevel\": \"lower fat\"}, {\"ManufacturerProvCode\": \"QC\", \"ManufacturingTypeEn\": \"Artisan\", \"MoisturePercent\": 55.0, \"Organic\": 0, \"CategoryTypeEn\": \"Soft Cheese\", \"MilkTypeEn\": \"Cow\", \"MilkTreatmentTypeEn\": \"Pasteurized\", \"FatLevel\": \"lower fat\"}, {\"ManufacturerProvCode\": \"BC\", \"ManufacturingTypeEn\": \"Artisan\", \"MoisturePercent\": 40.0, \"Organic\": 0, \"CategoryTypeEn\": \"Firm Cheese\", \"MilkTypeEn\": \"Cow\", \"MilkTreatmentTypeEn\": \"Pasteurized\", \"FatLevel\": \"higher fat\"}, {\"ManufacturerProvCode\": \"ON\", \"ManufacturingTypeEn\": \"Artisan\", \"MoisturePercent\": 48.0, \"Organic\": 0, \"CategoryTypeEn\": \"Semi-soft Cheese\", \"MilkTypeEn\": \"Ewe\", \"MilkTreatmentTypeEn\": \"Raw Milk\", \"FatLevel\": \"higher fat\"}, {\"ManufacturerProvCode\": \"QC\", \"ManufacturingTypeEn\": \"Industrial\", \"MoisturePercent\": 42.0, \"Organic\": 0, \"CategoryTypeEn\": \"Firm Cheese\", \"MilkTypeEn\": \"Cow\", \"MilkTreatmentTypeEn\": \"Thermised\", \"FatLevel\": \"higher fat\"}, {\"ManufacturerProvCode\": \"QC\", \"ManufacturingTypeEn\": \"Artisan\", \"MoisturePercent\": 48.0, \"Organic\": 0, \"CategoryTypeEn\": \"Semi-soft Cheese\", \"MilkTypeEn\": \"Cow\", \"MilkTreatmentTypeEn\": \"Pasteurized\", \"FatLevel\": \"lower fat\"}, {\"ManufacturerProvCode\": \"QC\", \"ManufacturingTypeEn\": \"Industrial\", \"MoisturePercent\": 39.0, \"Organic\": 0, \"CategoryTypeEn\": \"Firm Cheese\", \"MilkTypeEn\": \"Cow\", \"MilkTreatmentTypeEn\": \"Raw Milk\", \"FatLevel\": \"higher fat\"}, {\"ManufacturerProvCode\": \"QC\", \"ManufacturingTypeEn\": \"Farmstead\", \"MoisturePercent\": 56.0, \"Organic\": 0, \"CategoryTypeEn\": \"Soft Cheese\", \"MilkTypeEn\": \"Goat\", \"MilkTreatmentTypeEn\": \"Pasteurized\", \"FatLevel\": \"lower fat\"}, {\"ManufacturerProvCode\": \"MB\", \"ManufacturingTypeEn\": \"Farmstead\", \"MoisturePercent\": 42.0, \"Organic\": 0, \"CategoryTypeEn\": \"Firm Cheese\", \"MilkTypeEn\": \"Cow\", \"MilkTreatmentTypeEn\": \"Pasteurized\", \"FatLevel\": \"lower fat\"}, {\"ManufacturerProvCode\": \"QC\", \"ManufacturingTypeEn\": \"Artisan\", \"MoisturePercent\": 52.0, \"Organic\": 0, \"CategoryTypeEn\": \"Soft Cheese\", \"MilkTypeEn\": \"Cow\", \"MilkTreatmentTypeEn\": \"Raw Milk\", \"FatLevel\": \"lower fat\"}, {\"ManufacturerProvCode\": \"QC\", \"ManufacturingTypeEn\": \"Artisan\", \"MoisturePercent\": 40.0, \"Organic\": 0, \"CategoryTypeEn\": \"Firm Cheese\", \"MilkTypeEn\": \"Cow\", \"MilkTreatmentTypeEn\": \"Pasteurized\", \"FatLevel\": \"lower fat\"}, {\"ManufacturerProvCode\": \"QC\", \"ManufacturingTypeEn\": \"Artisan\", \"MoisturePercent\": 39.0, \"Organic\": 0, \"CategoryTypeEn\": \"Firm Cheese\", \"MilkTypeEn\": \"Cow\", \"MilkTreatmentTypeEn\": \"Pasteurized\", \"FatLevel\": \"higher fat\"}, {\"ManufacturerProvCode\": \"NB\", \"ManufacturingTypeEn\": \"Farmstead\", \"MoisturePercent\": 50.0, \"Organic\": 0, \"CategoryTypeEn\": \"Firm Cheese\", \"MilkTypeEn\": \"Goat\", \"MilkTreatmentTypeEn\": \"Pasteurized\", \"FatLevel\": \"lower fat\"}, {\"ManufacturerProvCode\": \"QC\", \"ManufacturingTypeEn\": \"Industrial\", \"MoisturePercent\": 60.0, \"Organic\": 0, \"CategoryTypeEn\": \"Soft Cheese\", \"MilkTypeEn\": \"Cow\", \"MilkTreatmentTypeEn\": \"Pasteurized\", \"FatLevel\": \"lower fat\"}, {\"ManufacturerProvCode\": \"QC\", \"ManufacturingTypeEn\": \"Industrial\", \"MoisturePercent\": 40.0, \"Organic\": 0, \"CategoryTypeEn\": \"Firm Cheese\", \"MilkTypeEn\": \"Cow\", \"MilkTreatmentTypeEn\": \"Pasteurized\", \"FatLevel\": \"lower fat\"}, {\"ManufacturerProvCode\": \"QC\", \"ManufacturingTypeEn\": \"Farmstead\", \"MoisturePercent\": 42.0, \"Organic\": 0, \"CategoryTypeEn\": \"Firm Cheese\", \"MilkTypeEn\": \"Goat\", \"MilkTreatmentTypeEn\": \"Pasteurized\", \"FatLevel\": \"lower fat\"}, {\"ManufacturerProvCode\": \"QC\", \"ManufacturingTypeEn\": \"Industrial\", \"MoisturePercent\": 32.0, \"Organic\": 0, \"CategoryTypeEn\": \"Hard Cheese\", \"MilkTypeEn\": \"Cow\", \"MilkTreatmentTypeEn\": null, \"FatLevel\": \"lower fat\"}, {\"ManufacturerProvCode\": \"QC\", \"ManufacturingTypeEn\": \"Farmstead\", \"MoisturePercent\": 39.0, \"Organic\": 1, \"CategoryTypeEn\": \"Firm Cheese\", \"MilkTypeEn\": \"Cow\", \"MilkTreatmentTypeEn\": \"Pasteurized\", \"FatLevel\": \"higher fat\"}, {\"ManufacturerProvCode\": \"BC\", \"ManufacturingTypeEn\": \"Farmstead\", \"MoisturePercent\": 34.0, \"Organic\": 1, \"CategoryTypeEn\": \"Semi-soft Cheese\", \"MilkTypeEn\": \"Cow\", \"MilkTreatmentTypeEn\": \"Raw Milk\", \"FatLevel\": \"higher fat\"}, {\"ManufacturerProvCode\": \"BC\", \"ManufacturingTypeEn\": \"Artisan\", \"MoisturePercent\": 38.0, \"Organic\": 0, \"CategoryTypeEn\": \"Firm Cheese\", \"MilkTypeEn\": \"Cow\", \"MilkTreatmentTypeEn\": \"Pasteurized\", \"FatLevel\": \"higher fat\"}, {\"ManufacturerProvCode\": \"QC\", \"ManufacturingTypeEn\": \"Industrial\", \"MoisturePercent\": 33.0, \"Organic\": 1, \"CategoryTypeEn\": \"Hard Cheese\", \"MilkTypeEn\": \"Cow\", \"MilkTreatmentTypeEn\": \"Thermised\", \"FatLevel\": \"higher fat\"}, {\"ManufacturerProvCode\": \"QC\", \"ManufacturingTypeEn\": \"Industrial\", \"MoisturePercent\": 74.0, \"Organic\": 0, \"CategoryTypeEn\": \"Soft Cheese\", \"MilkTypeEn\": \"Cow\", \"MilkTreatmentTypeEn\": \"Pasteurized\", \"FatLevel\": \"lower fat\"}, {\"ManufacturerProvCode\": \"QC\", \"ManufacturingTypeEn\": \"Industrial\", \"MoisturePercent\": 45.0, \"Organic\": 0, \"CategoryTypeEn\": \"Firm Cheese\", \"MilkTypeEn\": \"Goat\", \"MilkTreatmentTypeEn\": \"Pasteurized\", \"FatLevel\": \"lower fat\"}, {\"ManufacturerProvCode\": \"BC\", \"ManufacturingTypeEn\": \"Farmstead\", \"MoisturePercent\": 40.0, \"Organic\": 1, \"CategoryTypeEn\": \"Soft Cheese\", \"MilkTypeEn\": \"Cow\", \"MilkTreatmentTypeEn\": \"Pasteurized\", \"FatLevel\": \"lower fat\"}, {\"ManufacturerProvCode\": \"QC\", \"ManufacturingTypeEn\": \"Artisan\", \"MoisturePercent\": 43.0, \"Organic\": 0, \"CategoryTypeEn\": \"Firm Cheese\", \"MilkTypeEn\": \"Cow\", \"MilkTreatmentTypeEn\": \"Pasteurized\", \"FatLevel\": \"higher fat\"}, {\"ManufacturerProvCode\": \"QC\", \"ManufacturingTypeEn\": \"Artisan\", \"MoisturePercent\": 57.0, \"Organic\": 0, \"CategoryTypeEn\": \"Soft Cheese\", \"MilkTypeEn\": \"Goat\", \"MilkTreatmentTypeEn\": \"Pasteurized\", \"FatLevel\": \"lower fat\"}, {\"ManufacturerProvCode\": \"QC\", \"ManufacturingTypeEn\": \"Industrial\", \"MoisturePercent\": 50.0, \"Organic\": 0, \"CategoryTypeEn\": \"Soft Cheese\", \"MilkTypeEn\": \"Cow\", \"MilkTreatmentTypeEn\": \"Pasteurized\", \"FatLevel\": \"higher fat\"}, {\"ManufacturerProvCode\": \"QC\", \"ManufacturingTypeEn\": \"Industrial\", \"MoisturePercent\": 52.0, \"Organic\": 0, \"CategoryTypeEn\": \"Soft Cheese\", \"MilkTypeEn\": \"Cow\", \"MilkTreatmentTypeEn\": \"Pasteurized\", \"FatLevel\": \"higher fat\"}, {\"ManufacturerProvCode\": \"QC\", \"ManufacturingTypeEn\": \"Artisan\", \"MoisturePercent\": 56.0, \"Organic\": 0, \"CategoryTypeEn\": \"Soft Cheese\", \"MilkTypeEn\": \"Ewe\", \"MilkTreatmentTypeEn\": \"Pasteurized\", \"FatLevel\": \"lower fat\"}, {\"ManufacturerProvCode\": \"QC\", \"ManufacturingTypeEn\": \"Artisan\", \"MoisturePercent\": 40.0, \"Organic\": 0, \"CategoryTypeEn\": \"Firm Cheese\", \"MilkTypeEn\": \"Cow\", \"MilkTreatmentTypeEn\": \"Pasteurized\", \"FatLevel\": \"lower fat\"}, {\"ManufacturerProvCode\": \"MB\", \"ManufacturingTypeEn\": \"Farmstead\", \"MoisturePercent\": 42.0, \"Organic\": 0, \"CategoryTypeEn\": \"Firm Cheese\", \"MilkTypeEn\": \"Cow\", \"MilkTreatmentTypeEn\": \"Pasteurized\", \"FatLevel\": \"lower fat\"}, {\"ManufacturerProvCode\": \"QC\", \"ManufacturingTypeEn\": \"Industrial\", \"MoisturePercent\": 48.0, \"Organic\": 0, \"CategoryTypeEn\": \"Soft Cheese\", \"MilkTypeEn\": \"Cow\", \"MilkTreatmentTypeEn\": null, \"FatLevel\": \"higher fat\"}, {\"ManufacturerProvCode\": \"ON\", \"ManufacturingTypeEn\": \"Farmstead\", \"MoisturePercent\": 39.0, \"Organic\": 0, \"CategoryTypeEn\": \"Semi-soft Cheese\", \"MilkTypeEn\": \"Cow\", \"MilkTreatmentTypeEn\": \"Pasteurized\", \"FatLevel\": \"higher fat\"}, {\"ManufacturerProvCode\": \"QC\", \"ManufacturingTypeEn\": \"Artisan\", \"MoisturePercent\": 41.0, \"Organic\": 0, \"CategoryTypeEn\": \"Semi-soft Cheese\", \"MilkTypeEn\": \"Goat\", \"MilkTreatmentTypeEn\": \"Pasteurized\", \"FatLevel\": \"lower fat\"}, {\"ManufacturerProvCode\": \"QC\", \"ManufacturingTypeEn\": \"Industrial\", \"MoisturePercent\": 45.0, \"Organic\": 0, \"CategoryTypeEn\": \"Firm Cheese\", \"MilkTypeEn\": \"Cow\", \"MilkTreatmentTypeEn\": \"Pasteurized\", \"FatLevel\": \"higher fat\"}, {\"ManufacturerProvCode\": \"ON\", \"ManufacturingTypeEn\": \"Industrial\", \"MoisturePercent\": 46.0, \"Organic\": 0, \"CategoryTypeEn\": \"Semi-soft Cheese\", \"MilkTypeEn\": \"Cow\", \"MilkTreatmentTypeEn\": \"Pasteurized\", \"FatLevel\": \"higher fat\"}, {\"ManufacturerProvCode\": \"QC\", \"ManufacturingTypeEn\": \"Industrial\", \"MoisturePercent\": 43.0, \"Organic\": 0, \"CategoryTypeEn\": \"Firm Cheese\", \"MilkTypeEn\": \"Cow\", \"MilkTreatmentTypeEn\": \"Pasteurized\", \"FatLevel\": \"lower fat\"}, {\"ManufacturerProvCode\": \"PE\", \"ManufacturingTypeEn\": \"Farmstead\", \"MoisturePercent\": 43.0, \"Organic\": 0, \"CategoryTypeEn\": \"Firm Cheese\", \"MilkTypeEn\": \"Cow\", \"MilkTreatmentTypeEn\": \"Pasteurized\", \"FatLevel\": \"lower fat\"}, {\"ManufacturerProvCode\": \"NB\", \"ManufacturingTypeEn\": \"Farmstead\", \"MoisturePercent\": 47.9, \"Organic\": 0, \"CategoryTypeEn\": \"Semi-soft Cheese\", \"MilkTypeEn\": \"Cow\", \"MilkTreatmentTypeEn\": \"Raw Milk\", \"FatLevel\": \"lower fat\"}, {\"ManufacturerProvCode\": \"QC\", \"ManufacturingTypeEn\": \"Artisan\", \"MoisturePercent\": 39.0, \"Organic\": 0, \"CategoryTypeEn\": \"Semi-soft Cheese\", \"MilkTypeEn\": \"Ewe\", \"MilkTreatmentTypeEn\": \"Pasteurized\", \"FatLevel\": \"higher fat\"}, {\"ManufacturerProvCode\": \"BC\", \"ManufacturingTypeEn\": \"Artisan\", \"MoisturePercent\": 41.0, \"Organic\": 0, \"CategoryTypeEn\": \"Firm Cheese\", \"MilkTypeEn\": \"Cow\", \"MilkTreatmentTypeEn\": \"Pasteurized\", \"FatLevel\": \"higher fat\"}, {\"ManufacturerProvCode\": \"NS\", \"ManufacturingTypeEn\": \"Farmstead\", \"MoisturePercent\": 42.0, \"Organic\": 0, \"CategoryTypeEn\": \"Soft Cheese\", \"MilkTypeEn\": \"Cow\", \"MilkTreatmentTypeEn\": \"Raw Milk\", \"FatLevel\": \"lower fat\"}, {\"ManufacturerProvCode\": \"QC\", \"ManufacturingTypeEn\": \"Industrial\", \"MoisturePercent\": 56.0, \"Organic\": 0, \"CategoryTypeEn\": \"Soft Cheese\", \"MilkTypeEn\": \"Cow\", \"MilkTreatmentTypeEn\": \"Pasteurized\", \"FatLevel\": \"lower fat\"}, {\"ManufacturerProvCode\": \"QC\", \"ManufacturingTypeEn\": \"Artisan\", \"MoisturePercent\": 44.0, \"Organic\": 0, \"CategoryTypeEn\": \"Veined Cheeses\", \"MilkTypeEn\": \"Cow\", \"MilkTreatmentTypeEn\": \"Raw Milk\", \"FatLevel\": \"higher fat\"}, {\"ManufacturerProvCode\": \"QC\", \"ManufacturingTypeEn\": \"Industrial\", \"MoisturePercent\": 43.0, \"Organic\": 1, \"CategoryTypeEn\": \"Firm Cheese\", \"MilkTypeEn\": \"Cow\", \"MilkTreatmentTypeEn\": \"Thermised\", \"FatLevel\": \"lower fat\"}, {\"ManufacturerProvCode\": \"QC\", \"ManufacturingTypeEn\": \"Industrial\", \"MoisturePercent\": 55.0, \"Organic\": 0, \"CategoryTypeEn\": \"Semi-soft Cheese\", \"MilkTypeEn\": \"Goat\", \"MilkTreatmentTypeEn\": \"Pasteurized\", \"FatLevel\": \"lower fat\"}, {\"ManufacturerProvCode\": \"QC\", \"ManufacturingTypeEn\": \"Industrial\", \"MoisturePercent\": 49.0, \"Organic\": 0, \"CategoryTypeEn\": \"Firm Cheese\", \"MilkTypeEn\": \"Cow\", \"MilkTreatmentTypeEn\": \"Pasteurized\", \"FatLevel\": \"lower fat\"}, {\"ManufacturerProvCode\": \"ON\", \"ManufacturingTypeEn\": \"Industrial\", \"MoisturePercent\": 48.0, \"Organic\": 0, \"CategoryTypeEn\": \"Semi-soft Cheese\", \"MilkTypeEn\": \"Cow\", \"MilkTreatmentTypeEn\": \"Pasteurized\", \"FatLevel\": \"lower fat\"}, {\"ManufacturerProvCode\": \"QC\", \"ManufacturingTypeEn\": \"Industrial\", \"MoisturePercent\": 39.0, \"Organic\": 0, \"CategoryTypeEn\": \"Firm Cheese\", \"MilkTypeEn\": \"Cow\", \"MilkTreatmentTypeEn\": \"Pasteurized\", \"FatLevel\": \"higher fat\"}, {\"ManufacturerProvCode\": \"QC\", \"ManufacturingTypeEn\": \"Industrial\", \"MoisturePercent\": 56.0, \"Organic\": 0, \"CategoryTypeEn\": \"Soft Cheese\", \"MilkTypeEn\": \"Cow\", \"MilkTreatmentTypeEn\": \"Pasteurized\", \"FatLevel\": \"lower fat\"}, {\"ManufacturerProvCode\": \"ON\", \"ManufacturingTypeEn\": \"Industrial\", \"MoisturePercent\": 39.0, \"Organic\": 0, \"CategoryTypeEn\": \"Firm Cheese\", \"MilkTypeEn\": \"Cow\", \"MilkTreatmentTypeEn\": \"Pasteurized\", \"FatLevel\": \"higher fat\"}, {\"ManufacturerProvCode\": \"QC\", \"ManufacturingTypeEn\": \"Farmstead\", \"MoisturePercent\": 58.0, \"Organic\": 0, \"CategoryTypeEn\": \"Soft Cheese\", \"MilkTypeEn\": \"Ewe\", \"MilkTreatmentTypeEn\": \"Pasteurized\", \"FatLevel\": \"lower fat\"}, {\"ManufacturerProvCode\": \"QC\", \"ManufacturingTypeEn\": \"Artisan\", \"MoisturePercent\": 42.0, \"Organic\": 0, \"CategoryTypeEn\": \"Firm Cheese\", \"MilkTypeEn\": \"Cow\", \"MilkTreatmentTypeEn\": \"Pasteurized\", \"FatLevel\": \"lower fat\"}, {\"ManufacturerProvCode\": \"QC\", \"ManufacturingTypeEn\": \"Industrial\", \"MoisturePercent\": 50.0, \"Organic\": 0, \"CategoryTypeEn\": \"Semi-soft Cheese\", \"MilkTypeEn\": \"Goat\", \"MilkTreatmentTypeEn\": \"Pasteurized\", \"FatLevel\": \"lower fat\"}, {\"ManufacturerProvCode\": \"QC\", \"ManufacturingTypeEn\": \"Artisan\", \"MoisturePercent\": 44.0, \"Organic\": 1, \"CategoryTypeEn\": \"Semi-soft Cheese\", \"MilkTypeEn\": \"Cow\", \"MilkTreatmentTypeEn\": \"Raw Milk\", \"FatLevel\": \"higher fat\"}, {\"ManufacturerProvCode\": \"QC\", \"ManufacturingTypeEn\": \"Artisan\", \"MoisturePercent\": 48.0, \"Organic\": 0, \"CategoryTypeEn\": \"Soft Cheese\", \"MilkTypeEn\": \"Cow\", \"MilkTreatmentTypeEn\": \"Pasteurized\", \"FatLevel\": \"lower fat\"}, {\"ManufacturerProvCode\": \"MB\", \"ManufacturingTypeEn\": \"Farmstead\", \"MoisturePercent\": 42.0, \"Organic\": 0, \"CategoryTypeEn\": null, \"MilkTypeEn\": \"Cow\", \"MilkTreatmentTypeEn\": null, \"FatLevel\": \"lower fat\"}, {\"ManufacturerProvCode\": \"QC\", \"ManufacturingTypeEn\": \"Farmstead\", \"MoisturePercent\": 61.0, \"Organic\": 0, \"CategoryTypeEn\": \"Fresh Cheese\", \"MilkTypeEn\": \"Ewe\", \"MilkTreatmentTypeEn\": \"Pasteurized\", \"FatLevel\": \"lower fat\"}, {\"ManufacturerProvCode\": \"NB\", \"ManufacturingTypeEn\": \"Farmstead\", \"MoisturePercent\": 50.0, \"Organic\": 0, \"CategoryTypeEn\": \"Firm Cheese\", \"MilkTypeEn\": \"Goat\", \"MilkTreatmentTypeEn\": \"Pasteurized\", \"FatLevel\": \"lower fat\"}, {\"ManufacturerProvCode\": \"QC\", \"ManufacturingTypeEn\": \"Artisan\", \"MoisturePercent\": 50.0, \"Organic\": 0, \"CategoryTypeEn\": \"Soft Cheese\", \"MilkTypeEn\": \"Cow and Goat\", \"MilkTreatmentTypeEn\": \"Pasteurized\", \"FatLevel\": \"lower fat\"}, {\"ManufacturerProvCode\": \"QC\", \"ManufacturingTypeEn\": \"Industrial\", \"MoisturePercent\": 39.0, \"Organic\": 0, \"CategoryTypeEn\": \"Firm Cheese\", \"MilkTypeEn\": \"Cow\", \"MilkTreatmentTypeEn\": \"Pasteurized\", \"FatLevel\": \"higher fat\"}, {\"ManufacturerProvCode\": \"AB\", \"ManufacturingTypeEn\": \"Industrial\", \"MoisturePercent\": 45.0, \"Organic\": 0, \"CategoryTypeEn\": null, \"MilkTypeEn\": \"Cow\", \"MilkTreatmentTypeEn\": null, \"FatLevel\": \"lower fat\"}, {\"ManufacturerProvCode\": \"QC\", \"ManufacturingTypeEn\": \"Industrial\", \"MoisturePercent\": 52.0, \"Organic\": 0, \"CategoryTypeEn\": \"Soft Cheese\", \"MilkTypeEn\": \"Goat\", \"MilkTreatmentTypeEn\": \"Pasteurized\", \"FatLevel\": \"lower fat\"}, {\"ManufacturerProvCode\": \"QC\", \"ManufacturingTypeEn\": \"Industrial\", \"MoisturePercent\": 52.0, \"Organic\": 0, \"CategoryTypeEn\": \"Semi-soft Cheese\", \"MilkTypeEn\": \"Cow\", \"MilkTreatmentTypeEn\": \"Pasteurized\", \"FatLevel\": \"lower fat\"}, {\"ManufacturerProvCode\": \"BC\", \"ManufacturingTypeEn\": \"Farmstead\", \"MoisturePercent\": 40.3, \"Organic\": 1, \"CategoryTypeEn\": \"Soft Cheese\", \"MilkTypeEn\": \"Cow\", \"MilkTreatmentTypeEn\": \"Pasteurized\", \"FatLevel\": \"lower fat\"}, {\"ManufacturerProvCode\": \"QC\", \"ManufacturingTypeEn\": \"Artisan\", \"MoisturePercent\": 39.0, \"Organic\": 0, \"CategoryTypeEn\": \"Firm Cheese\", \"MilkTypeEn\": \"Cow\", \"MilkTreatmentTypeEn\": \"Thermised\", \"FatLevel\": \"higher fat\"}, {\"ManufacturerProvCode\": \"QC\", \"ManufacturingTypeEn\": \"Artisan\", \"MoisturePercent\": 45.0, \"Organic\": 0, \"CategoryTypeEn\": \"Firm Cheese\", \"MilkTypeEn\": \"Cow\", \"MilkTreatmentTypeEn\": \"Pasteurized\", \"FatLevel\": \"lower fat\"}, {\"ManufacturerProvCode\": \"QC\", \"ManufacturingTypeEn\": \"Industrial\", \"MoisturePercent\": 39.0, \"Organic\": 1, \"CategoryTypeEn\": \"Firm Cheese\", \"MilkTypeEn\": \"Cow\", \"MilkTreatmentTypeEn\": \"Thermised\", \"FatLevel\": \"higher fat\"}, {\"ManufacturerProvCode\": \"QC\", \"ManufacturingTypeEn\": \"Industrial\", \"MoisturePercent\": 39.0, \"Organic\": 0, \"CategoryTypeEn\": \"Firm Cheese\", \"MilkTypeEn\": \"Cow\", \"MilkTreatmentTypeEn\": \"Pasteurized\", \"FatLevel\": \"higher fat\"}, {\"ManufacturerProvCode\": \"QC\", \"ManufacturingTypeEn\": \"Industrial\", \"MoisturePercent\": 39.0, \"Organic\": 0, \"CategoryTypeEn\": \"Firm Cheese\", \"MilkTypeEn\": \"Cow\", \"MilkTreatmentTypeEn\": \"Pasteurized\", \"FatLevel\": \"higher fat\"}, {\"ManufacturerProvCode\": \"QC\", \"ManufacturingTypeEn\": \"Artisan\", \"MoisturePercent\": 55.0, \"Organic\": 0, \"CategoryTypeEn\": \"Soft Cheese\", \"MilkTypeEn\": \"Goat\", \"MilkTreatmentTypeEn\": \"Pasteurized\", \"FatLevel\": \"lower fat\"}, {\"ManufacturerProvCode\": \"BC\", \"ManufacturingTypeEn\": \"Farmstead\", \"MoisturePercent\": 27.0, \"Organic\": 1, \"CategoryTypeEn\": \"Veined Cheeses\", \"MilkTypeEn\": \"Cow\", \"MilkTreatmentTypeEn\": \"Raw Milk\", \"FatLevel\": \"higher fat\"}, {\"ManufacturerProvCode\": \"ON\", \"ManufacturingTypeEn\": \"Industrial\", \"MoisturePercent\": 57.0, \"Organic\": 0, \"CategoryTypeEn\": \"Fresh Cheese\", \"MilkTypeEn\": \"Goat\", \"MilkTreatmentTypeEn\": \"Pasteurized\", \"FatLevel\": \"lower fat\"}, {\"ManufacturerProvCode\": \"QC\", \"ManufacturingTypeEn\": \"Farmstead\", \"MoisturePercent\": 43.0, \"Organic\": 0, \"CategoryTypeEn\": \"Semi-soft Cheese\", \"MilkTypeEn\": \"Ewe\", \"MilkTreatmentTypeEn\": \"Raw Milk\", \"FatLevel\": \"higher fat\"}, {\"ManufacturerProvCode\": \"QC\", \"ManufacturingTypeEn\": \"Artisan\", \"MoisturePercent\": 52.0, \"Organic\": 0, \"CategoryTypeEn\": \"Soft Cheese\", \"MilkTypeEn\": \"Goat\", \"MilkTreatmentTypeEn\": \"Pasteurized\", \"FatLevel\": \"lower fat\"}, {\"ManufacturerProvCode\": \"QC\", \"ManufacturingTypeEn\": \"Artisan\", \"MoisturePercent\": 63.0, \"Organic\": 0, \"CategoryTypeEn\": \"Fresh Cheese\", \"MilkTypeEn\": \"Goat\", \"MilkTreatmentTypeEn\": \"Pasteurized\", \"FatLevel\": \"lower fat\"}, {\"ManufacturerProvCode\": \"QC\", \"ManufacturingTypeEn\": \"Farmstead\", \"MoisturePercent\": 74.0, \"Organic\": 0, \"CategoryTypeEn\": \"Fresh Cheese\", \"MilkTypeEn\": \"Goat\", \"MilkTreatmentTypeEn\": \"Pasteurized\", \"FatLevel\": \"lower fat\"}, {\"ManufacturerProvCode\": \"QC\", \"ManufacturingTypeEn\": \"Artisan\", \"MoisturePercent\": 40.0, \"Organic\": 0, \"CategoryTypeEn\": \"Semi-soft Cheese\", \"MilkTypeEn\": \"Cow\", \"MilkTreatmentTypeEn\": \"Thermised\", \"FatLevel\": \"lower fat\"}, {\"ManufacturerProvCode\": \"QC\", \"ManufacturingTypeEn\": \"Industrial\", \"MoisturePercent\": 54.0, \"Organic\": 0, \"CategoryTypeEn\": null, \"MilkTypeEn\": \"Cow\", \"MilkTreatmentTypeEn\": null, \"FatLevel\": \"lower fat\"}, {\"ManufacturerProvCode\": \"QC\", \"ManufacturingTypeEn\": \"Industrial\", \"MoisturePercent\": 45.0, \"Organic\": 0, \"CategoryTypeEn\": \"Soft Cheese\", \"MilkTypeEn\": \"Cow\", \"MilkTreatmentTypeEn\": \"Pasteurized\", \"FatLevel\": \"higher fat\"}, {\"ManufacturerProvCode\": \"QC\", \"ManufacturingTypeEn\": \"Artisan\", \"MoisturePercent\": 49.0, \"Organic\": 0, \"CategoryTypeEn\": \"Soft Cheese\", \"MilkTypeEn\": \"Goat\", \"MilkTreatmentTypeEn\": \"Pasteurized\", \"FatLevel\": \"lower fat\"}, {\"ManufacturerProvCode\": \"ON\", \"ManufacturingTypeEn\": \"Industrial\", \"MoisturePercent\": 40.0, \"Organic\": 0, \"CategoryTypeEn\": \"Semi-soft Cheese\", \"MilkTypeEn\": \"Goat\", \"MilkTreatmentTypeEn\": \"Pasteurized\", \"FatLevel\": \"higher fat\"}, {\"ManufacturerProvCode\": \"QC\", \"ManufacturingTypeEn\": \"Industrial\", \"MoisturePercent\": 49.0, \"Organic\": 0, \"CategoryTypeEn\": \"Firm Cheese\", \"MilkTypeEn\": \"Cow\", \"MilkTreatmentTypeEn\": \"Pasteurized\", \"FatLevel\": \"lower fat\"}, {\"ManufacturerProvCode\": \"QC\", \"ManufacturingTypeEn\": \"Industrial\", \"MoisturePercent\": 56.0, \"Organic\": 0, \"CategoryTypeEn\": \"Soft Cheese\", \"MilkTypeEn\": \"Cow\", \"MilkTreatmentTypeEn\": \"Pasteurized\", \"FatLevel\": \"lower fat\"}, {\"ManufacturerProvCode\": \"QC\", \"ManufacturingTypeEn\": \"Industrial\", \"MoisturePercent\": 50.0, \"Organic\": 0, \"CategoryTypeEn\": \"Semi-soft Cheese\", \"MilkTypeEn\": \"Cow\", \"MilkTreatmentTypeEn\": \"Pasteurized\", \"FatLevel\": \"lower fat\"}, {\"ManufacturerProvCode\": \"QC\", \"ManufacturingTypeEn\": \"Industrial\", \"MoisturePercent\": 40.0, \"Organic\": 0, \"CategoryTypeEn\": \"Firm Cheese\", \"MilkTypeEn\": \"Cow\", \"MilkTreatmentTypeEn\": \"Pasteurized\", \"FatLevel\": \"lower fat\"}, {\"ManufacturerProvCode\": \"BC\", \"ManufacturingTypeEn\": \"Artisan\", \"MoisturePercent\": 40.0, \"Organic\": 0, \"CategoryTypeEn\": \"Firm Cheese\", \"MilkTypeEn\": \"Goat\", \"MilkTreatmentTypeEn\": \"Thermised\", \"FatLevel\": \"higher fat\"}, {\"ManufacturerProvCode\": \"QC\", \"ManufacturingTypeEn\": \"Farmstead\", \"MoisturePercent\": 39.0, \"Organic\": 1, \"CategoryTypeEn\": \"Firm Cheese\", \"MilkTypeEn\": \"Cow\", \"MilkTreatmentTypeEn\": \"Pasteurized\", \"FatLevel\": \"higher fat\"}, {\"ManufacturerProvCode\": \"QC\", \"ManufacturingTypeEn\": \"Industrial\", \"MoisturePercent\": 50.0, \"Organic\": 1, \"CategoryTypeEn\": \"Soft Cheese\", \"MilkTypeEn\": \"Cow\", \"MilkTreatmentTypeEn\": \"Pasteurized\", \"FatLevel\": \"lower fat\"}, {\"ManufacturerProvCode\": \"ON\", \"ManufacturingTypeEn\": \"Artisan\", \"MoisturePercent\": 44.0, \"Organic\": 0, \"CategoryTypeEn\": \"Semi-soft Cheese\", \"MilkTypeEn\": \"Cow\", \"MilkTreatmentTypeEn\": \"Pasteurized\", \"FatLevel\": \"higher fat\"}, {\"ManufacturerProvCode\": \"QC\", \"ManufacturingTypeEn\": \"Artisan\", \"MoisturePercent\": 44.0, \"Organic\": 0, \"CategoryTypeEn\": \"Firm Cheese\", \"MilkTypeEn\": \"Cow\", \"MilkTreatmentTypeEn\": null, \"FatLevel\": \"lower fat\"}, {\"ManufacturerProvCode\": \"QC\", \"ManufacturingTypeEn\": \"Farmstead\", \"MoisturePercent\": 50.0, \"Organic\": 0, \"CategoryTypeEn\": \"Semi-soft Cheese\", \"MilkTypeEn\": \"Ewe\", \"MilkTreatmentTypeEn\": \"Pasteurized\", \"FatLevel\": \"higher fat\"}, {\"ManufacturerProvCode\": \"QC\", \"ManufacturingTypeEn\": \"Industrial\", \"MoisturePercent\": 55.0, \"Organic\": 0, \"CategoryTypeEn\": \"Soft Cheese\", \"MilkTypeEn\": \"Goat\", \"MilkTreatmentTypeEn\": \"Pasteurized\", \"FatLevel\": \"lower fat\"}, {\"ManufacturerProvCode\": \"NB\", \"ManufacturingTypeEn\": \"Farmstead\", \"MoisturePercent\": 50.0, \"Organic\": 0, \"CategoryTypeEn\": \"Fresh Cheese\", \"MilkTypeEn\": \"Goat\", \"MilkTreatmentTypeEn\": \"Pasteurized\", \"FatLevel\": \"lower fat\"}, {\"ManufacturerProvCode\": \"QC\", \"ManufacturingTypeEn\": \"Artisan\", \"MoisturePercent\": 51.7, \"Organic\": 0, \"CategoryTypeEn\": \"Firm Cheese\", \"MilkTypeEn\": \"Cow\", \"MilkTreatmentTypeEn\": \"Pasteurized\", \"FatLevel\": \"lower fat\"}, {\"ManufacturerProvCode\": \"ON\", \"ManufacturingTypeEn\": \"Industrial\", \"MoisturePercent\": 37.0, \"Organic\": 0, \"CategoryTypeEn\": \"Firm Cheese\", \"MilkTypeEn\": \"Goat\", \"MilkTreatmentTypeEn\": \"Pasteurized\", \"FatLevel\": \"higher fat\"}, {\"ManufacturerProvCode\": \"QC\", \"ManufacturingTypeEn\": \"Industrial\", \"MoisturePercent\": 68.0, \"Organic\": 0, \"CategoryTypeEn\": \"Fresh Cheese\", \"MilkTypeEn\": \"Goat\", \"MilkTreatmentTypeEn\": \"Pasteurized\", \"FatLevel\": \"lower fat\"}, {\"ManufacturerProvCode\": \"QC\", \"ManufacturingTypeEn\": \"Artisan\", \"MoisturePercent\": 33.0, \"Organic\": 0, \"CategoryTypeEn\": \"Firm Cheese\", \"MilkTypeEn\": \"Goat\", \"MilkTreatmentTypeEn\": \"Pasteurized\", \"FatLevel\": \"higher fat\"}, {\"ManufacturerProvCode\": \"QC\", \"ManufacturingTypeEn\": \"Industrial\", \"MoisturePercent\": 42.0, \"Organic\": 0, \"CategoryTypeEn\": \"Firm Cheese\", \"MilkTypeEn\": \"Cow\", \"MilkTreatmentTypeEn\": \"Pasteurized\", \"FatLevel\": \"lower fat\"}, {\"ManufacturerProvCode\": \"QC\", \"ManufacturingTypeEn\": \"Farmstead\", \"MoisturePercent\": 70.0, \"Organic\": 0, \"CategoryTypeEn\": \"Fresh Cheese\", \"MilkTypeEn\": \"Goat\", \"MilkTreatmentTypeEn\": \"Pasteurized\", \"FatLevel\": \"lower fat\"}, {\"ManufacturerProvCode\": \"QC\", \"ManufacturingTypeEn\": \"Artisan\", \"MoisturePercent\": 50.0, \"Organic\": 0, \"CategoryTypeEn\": \"Soft Cheese\", \"MilkTypeEn\": \"Cow\", \"MilkTreatmentTypeEn\": \"Thermised\", \"FatLevel\": \"lower fat\"}, {\"ManufacturerProvCode\": \"QC\", \"ManufacturingTypeEn\": \"Artisan\", \"MoisturePercent\": 39.0, \"Organic\": 0, \"CategoryTypeEn\": \"Firm Cheese\", \"MilkTypeEn\": \"Cow\", \"MilkTreatmentTypeEn\": \"Raw Milk\", \"FatLevel\": \"higher fat\"}, {\"ManufacturerProvCode\": \"QC\", \"ManufacturingTypeEn\": \"Farmstead\", \"MoisturePercent\": 75.0, \"Organic\": 0, \"CategoryTypeEn\": \"Fresh Cheese\", \"MilkTypeEn\": \"Cow\", \"MilkTreatmentTypeEn\": \"Pasteurized\", \"FatLevel\": \"lower fat\"}, {\"ManufacturerProvCode\": \"QC\", \"ManufacturingTypeEn\": \"Farmstead\", \"MoisturePercent\": 35.0, \"Organic\": 0, \"CategoryTypeEn\": \"Semi-soft Cheese\", \"MilkTypeEn\": \"Goat\", \"MilkTreatmentTypeEn\": \"Pasteurized\", \"FatLevel\": \"lower fat\"}, {\"ManufacturerProvCode\": \"QC\", \"ManufacturingTypeEn\": \"Industrial\", \"MoisturePercent\": 62.0, \"Organic\": 0, \"CategoryTypeEn\": \"Fresh Cheese\", \"MilkTypeEn\": \"Goat\", \"MilkTreatmentTypeEn\": \"Pasteurized\", \"FatLevel\": \"lower fat\"}, {\"ManufacturerProvCode\": \"QC\", \"ManufacturingTypeEn\": \"Industrial\", \"MoisturePercent\": 42.0, \"Organic\": 0, \"CategoryTypeEn\": \"Firm Cheese\", \"MilkTypeEn\": \"Cow\", \"MilkTreatmentTypeEn\": \"Pasteurized\", \"FatLevel\": \"higher fat\"}, {\"ManufacturerProvCode\": \"QC\", \"ManufacturingTypeEn\": \"Industrial\", \"MoisturePercent\": 23.0, \"Organic\": 0, \"CategoryTypeEn\": \"Soft Cheese\", \"MilkTypeEn\": \"Ewe\", \"MilkTreatmentTypeEn\": \"Pasteurized\", \"FatLevel\": \"higher fat\"}, {\"ManufacturerProvCode\": \"ON\", \"ManufacturingTypeEn\": \"Industrial\", \"MoisturePercent\": 76.0, \"Organic\": 0, \"CategoryTypeEn\": \"Fresh Cheese\", \"MilkTypeEn\": \"Cow\", \"MilkTreatmentTypeEn\": \"Pasteurized\", \"FatLevel\": \"lower fat\"}, {\"ManufacturerProvCode\": \"ON\", \"ManufacturingTypeEn\": \"Farmstead\", \"MoisturePercent\": 37.0, \"Organic\": 0, \"CategoryTypeEn\": null, \"MilkTypeEn\": \"Goat\", \"MilkTreatmentTypeEn\": \"Pasteurized\", \"FatLevel\": \"higher fat\"}, {\"ManufacturerProvCode\": \"QC\", \"ManufacturingTypeEn\": \"Industrial\", \"MoisturePercent\": 55.0, \"Organic\": 0, \"CategoryTypeEn\": \"Soft Cheese\", \"MilkTypeEn\": \"Goat\", \"MilkTreatmentTypeEn\": \"Pasteurized\", \"FatLevel\": \"lower fat\"}, {\"ManufacturerProvCode\": \"BC\", \"ManufacturingTypeEn\": \"Artisan\", \"MoisturePercent\": 60.0, \"Organic\": 0, \"CategoryTypeEn\": \"Fresh Cheese\", \"MilkTypeEn\": \"Cow\", \"MilkTreatmentTypeEn\": null, \"FatLevel\": \"lower fat\"}, {\"ManufacturerProvCode\": \"QC\", \"ManufacturingTypeEn\": \"Farmstead\", \"MoisturePercent\": 46.0, \"Organic\": 0, \"CategoryTypeEn\": \"Semi-soft Cheese\", \"MilkTypeEn\": \"Cow\", \"MilkTreatmentTypeEn\": \"Thermised\", \"FatLevel\": \"lower fat\"}, {\"ManufacturerProvCode\": \"QC\", \"ManufacturingTypeEn\": \"Farmstead\", \"MoisturePercent\": 43.0, \"Organic\": 0, \"CategoryTypeEn\": \"Semi-soft Cheese\", \"MilkTypeEn\": \"Ewe\", \"MilkTreatmentTypeEn\": \"Pasteurized\", \"FatLevel\": \"lower fat\"}, {\"ManufacturerProvCode\": \"QC\", \"ManufacturingTypeEn\": \"Farmstead\", \"MoisturePercent\": 36.0, \"Organic\": 0, \"CategoryTypeEn\": \"Firm Cheese\", \"MilkTypeEn\": \"Cow\", \"MilkTreatmentTypeEn\": \"Pasteurized\", \"FatLevel\": \"higher fat\"}, {\"ManufacturerProvCode\": \"QC\", \"ManufacturingTypeEn\": \"Industrial\", \"MoisturePercent\": 26.0, \"Organic\": 0, \"CategoryTypeEn\": null, \"MilkTypeEn\": \"Cow\", \"MilkTreatmentTypeEn\": null, \"FatLevel\": \"higher fat\"}, {\"ManufacturerProvCode\": \"QC\", \"ManufacturingTypeEn\": \"Farmstead\", \"MoisturePercent\": 52.0, \"Organic\": 0, \"CategoryTypeEn\": \"Firm Cheese\", \"MilkTypeEn\": \"Cow\", \"MilkTreatmentTypeEn\": null, \"FatLevel\": \"lower fat\"}, {\"ManufacturerProvCode\": \"QC\", \"ManufacturingTypeEn\": \"Artisan\", \"MoisturePercent\": 43.0, \"Organic\": 0, \"CategoryTypeEn\": \"Veined Cheeses\", \"MilkTypeEn\": \"Goat\", \"MilkTreatmentTypeEn\": \"Pasteurized\", \"FatLevel\": \"lower fat\"}, {\"ManufacturerProvCode\": \"QC\", \"ManufacturingTypeEn\": \"Industrial\", \"MoisturePercent\": 42.0, \"Organic\": 0, \"CategoryTypeEn\": \"Semi-soft Cheese\", \"MilkTypeEn\": \"Cow\", \"MilkTreatmentTypeEn\": \"Pasteurized\", \"FatLevel\": \"lower fat\"}, {\"ManufacturerProvCode\": \"QC\", \"ManufacturingTypeEn\": \"Farmstead\", \"MoisturePercent\": 52.0, \"Organic\": 1, \"CategoryTypeEn\": \"Firm Cheese\", \"MilkTypeEn\": \"Cow\", \"MilkTreatmentTypeEn\": null, \"FatLevel\": \"lower fat\"}, {\"ManufacturerProvCode\": \"QC\", \"ManufacturingTypeEn\": \"Artisan\", \"MoisturePercent\": 39.0, \"Organic\": 1, \"CategoryTypeEn\": \"Firm Cheese\", \"MilkTypeEn\": \"Cow\", \"MilkTreatmentTypeEn\": \"Raw Milk\", \"FatLevel\": \"higher fat\"}, {\"ManufacturerProvCode\": \"QC\", \"ManufacturingTypeEn\": \"Artisan\", \"MoisturePercent\": 56.0, \"Organic\": 0, \"CategoryTypeEn\": \"Soft Cheese\", \"MilkTypeEn\": \"Cow\", \"MilkTreatmentTypeEn\": \"Pasteurized\", \"FatLevel\": \"lower fat\"}, {\"ManufacturerProvCode\": \"QC\", \"ManufacturingTypeEn\": \"Artisan\", \"MoisturePercent\": 54.0, \"Organic\": 0, \"CategoryTypeEn\": \"Soft Cheese\", \"MilkTypeEn\": \"Ewe\", \"MilkTreatmentTypeEn\": \"Pasteurized\", \"FatLevel\": \"lower fat\"}, {\"ManufacturerProvCode\": \"QC\", \"ManufacturingTypeEn\": \"Farmstead\", \"MoisturePercent\": 37.0, \"Organic\": 0, \"CategoryTypeEn\": \"Firm Cheese\", \"MilkTypeEn\": \"Cow\", \"MilkTreatmentTypeEn\": \"Raw Milk\", \"FatLevel\": \"higher fat\"}, {\"ManufacturerProvCode\": \"QC\", \"ManufacturingTypeEn\": \"Industrial\", \"MoisturePercent\": 55.0, \"Organic\": 1, \"CategoryTypeEn\": \"Firm Cheese\", \"MilkTypeEn\": \"Cow\", \"MilkTreatmentTypeEn\": \"Pasteurized\", \"FatLevel\": \"lower fat\"}, {\"ManufacturerProvCode\": \"ON\", \"ManufacturingTypeEn\": \"Industrial\", \"MoisturePercent\": 57.0, \"Organic\": 0, \"CategoryTypeEn\": \"Fresh Cheese\", \"MilkTypeEn\": \"Goat\", \"MilkTreatmentTypeEn\": \"Pasteurized\", \"FatLevel\": \"lower fat\"}, {\"ManufacturerProvCode\": \"QC\", \"ManufacturingTypeEn\": \"Industrial\", \"MoisturePercent\": 50.0, \"Organic\": 0, \"CategoryTypeEn\": \"Soft Cheese\", \"MilkTypeEn\": \"Cow\", \"MilkTreatmentTypeEn\": \"Pasteurized\", \"FatLevel\": \"lower fat\"}, {\"ManufacturerProvCode\": \"QC\", \"ManufacturingTypeEn\": \"Industrial\", \"MoisturePercent\": 60.0, \"Organic\": 0, \"CategoryTypeEn\": \"Semi-soft Cheese\", \"MilkTypeEn\": \"Cow\", \"MilkTreatmentTypeEn\": \"Pasteurized\", \"FatLevel\": \"lower fat\"}, {\"ManufacturerProvCode\": \"QC\", \"ManufacturingTypeEn\": \"Industrial\", \"MoisturePercent\": 48.0, \"Organic\": 0, \"CategoryTypeEn\": \"Firm Cheese\", \"MilkTypeEn\": \"Cow\", \"MilkTreatmentTypeEn\": \"Pasteurized\", \"FatLevel\": \"lower fat\"}, {\"ManufacturerProvCode\": \"QC\", \"ManufacturingTypeEn\": \"Industrial\", \"MoisturePercent\": 45.0, \"Organic\": 0, \"CategoryTypeEn\": \"Firm Cheese\", \"MilkTypeEn\": \"Cow\", \"MilkTreatmentTypeEn\": \"Pasteurized\", \"FatLevel\": \"lower fat\"}, {\"ManufacturerProvCode\": \"QC\", \"ManufacturingTypeEn\": \"Industrial\", \"MoisturePercent\": 40.0, \"Organic\": 0, \"CategoryTypeEn\": \"Firm Cheese\", \"MilkTypeEn\": \"Cow\", \"MilkTreatmentTypeEn\": \"Pasteurized\", \"FatLevel\": \"lower fat\"}, {\"ManufacturerProvCode\": \"QC\", \"ManufacturingTypeEn\": \"Farmstead\", \"MoisturePercent\": 65.0, \"Organic\": 0, \"CategoryTypeEn\": \"Semi-soft Cheese\", \"MilkTypeEn\": \"Goat\", \"MilkTreatmentTypeEn\": \"Pasteurized\", \"FatLevel\": \"lower fat\"}, {\"ManufacturerProvCode\": \"BC\", \"ManufacturingTypeEn\": \"Artisan\", \"MoisturePercent\": 41.0, \"Organic\": 0, \"CategoryTypeEn\": \"Firm Cheese\", \"MilkTypeEn\": \"Cow\", \"MilkTreatmentTypeEn\": \"Pasteurized\", \"FatLevel\": \"higher fat\"}, {\"ManufacturerProvCode\": \"QC\", \"ManufacturingTypeEn\": \"Industrial\", \"MoisturePercent\": 45.0, \"Organic\": 0, \"CategoryTypeEn\": \"Firm Cheese\", \"MilkTypeEn\": \"Cow\", \"MilkTreatmentTypeEn\": \"Pasteurized\", \"FatLevel\": \"lower fat\"}, {\"ManufacturerProvCode\": \"QC\", \"ManufacturingTypeEn\": \"Artisan\", \"MoisturePercent\": 39.0, \"Organic\": 0, \"CategoryTypeEn\": \"Firm Cheese\", \"MilkTypeEn\": \"Cow\", \"MilkTreatmentTypeEn\": \"Pasteurized\", \"FatLevel\": \"higher fat\"}, {\"ManufacturerProvCode\": \"QC\", \"ManufacturingTypeEn\": \"Industrial\", \"MoisturePercent\": 57.0, \"Organic\": 0, \"CategoryTypeEn\": \"Soft Cheese\", \"MilkTypeEn\": \"Cow\", \"MilkTreatmentTypeEn\": \"Pasteurized\", \"FatLevel\": \"lower fat\"}, {\"ManufacturerProvCode\": \"QC\", \"ManufacturingTypeEn\": \"Artisan\", \"MoisturePercent\": 48.0, \"Organic\": 0, \"CategoryTypeEn\": \"Semi-soft Cheese\", \"MilkTypeEn\": \"Cow\", \"MilkTreatmentTypeEn\": \"Raw Milk\", \"FatLevel\": \"lower fat\"}, {\"ManufacturerProvCode\": \"QC\", \"ManufacturingTypeEn\": \"Farmstead\", \"MoisturePercent\": 35.0, \"Organic\": 1, \"CategoryTypeEn\": \"Firm Cheese\", \"MilkTypeEn\": \"Cow\", \"MilkTreatmentTypeEn\": \"Raw Milk\", \"FatLevel\": \"higher fat\"}, {\"ManufacturerProvCode\": \"ON\", \"ManufacturingTypeEn\": \"Industrial\", \"MoisturePercent\": 41.0, \"Organic\": 0, \"CategoryTypeEn\": \"Firm Cheese\", \"MilkTypeEn\": \"Cow\", \"MilkTreatmentTypeEn\": \"Pasteurized\", \"FatLevel\": \"higher fat\"}, {\"ManufacturerProvCode\": \"QC\", \"ManufacturingTypeEn\": \"Industrial\", \"MoisturePercent\": 58.0, \"Organic\": 0, \"CategoryTypeEn\": \"Soft Cheese\", \"MilkTypeEn\": \"Cow\", \"MilkTreatmentTypeEn\": \"Pasteurized\", \"FatLevel\": \"lower fat\"}, {\"ManufacturerProvCode\": \"QC\", \"ManufacturingTypeEn\": \"Industrial\", \"MoisturePercent\": 40.0, \"Organic\": 0, \"CategoryTypeEn\": \"Firm Cheese\", \"MilkTypeEn\": \"Cow\", \"MilkTreatmentTypeEn\": \"Pasteurized\", \"FatLevel\": \"lower fat\"}, {\"ManufacturerProvCode\": \"QC\", \"ManufacturingTypeEn\": \"Industrial\", \"MoisturePercent\": 56.0, \"Organic\": 0, \"CategoryTypeEn\": \"Soft Cheese\", \"MilkTypeEn\": \"Goat\", \"MilkTreatmentTypeEn\": \"Pasteurized\", \"FatLevel\": \"lower fat\"}, {\"ManufacturerProvCode\": \"QC\", \"ManufacturingTypeEn\": \"Industrial\", \"MoisturePercent\": 50.0, \"Organic\": 0, \"CategoryTypeEn\": \"Soft Cheese\", \"MilkTypeEn\": \"Cow\", \"MilkTreatmentTypeEn\": \"Pasteurized\", \"FatLevel\": \"higher fat\"}, {\"ManufacturerProvCode\": \"QC\", \"ManufacturingTypeEn\": \"Artisan\", \"MoisturePercent\": 47.0, \"Organic\": 0, \"CategoryTypeEn\": \"Semi-soft Cheese\", \"MilkTypeEn\": \"Cow\", \"MilkTreatmentTypeEn\": \"Pasteurized\", \"FatLevel\": \"lower fat\"}, {\"ManufacturerProvCode\": \"QC\", \"ManufacturingTypeEn\": \"Industrial\", \"MoisturePercent\": 54.0, \"Organic\": 0, \"CategoryTypeEn\": \"Soft Cheese\", \"MilkTypeEn\": \"Cow\", \"MilkTreatmentTypeEn\": \"Pasteurized\", \"FatLevel\": \"lower fat\"}, {\"ManufacturerProvCode\": \"QC\", \"ManufacturingTypeEn\": \"Industrial\", \"MoisturePercent\": 44.0, \"Organic\": 0, \"CategoryTypeEn\": \"Semi-soft Cheese\", \"MilkTypeEn\": \"Cow\", \"MilkTreatmentTypeEn\": \"Pasteurized\", \"FatLevel\": \"lower fat\"}, {\"ManufacturerProvCode\": \"QC\", \"ManufacturingTypeEn\": \"Industrial\", \"MoisturePercent\": 40.0, \"Organic\": 0, \"CategoryTypeEn\": \"Firm Cheese\", \"MilkTypeEn\": \"Cow\", \"MilkTreatmentTypeEn\": \"Pasteurized\", \"FatLevel\": \"lower fat\"}, {\"ManufacturerProvCode\": \"NB\", \"ManufacturingTypeEn\": \"Farmstead\", \"MoisturePercent\": 50.0, \"Organic\": 0, \"CategoryTypeEn\": \"Soft Cheese\", \"MilkTypeEn\": \"Goat\", \"MilkTreatmentTypeEn\": \"Pasteurized\", \"FatLevel\": \"lower fat\"}, {\"ManufacturerProvCode\": \"QC\", \"ManufacturingTypeEn\": \"Farmstead\", \"MoisturePercent\": 60.0, \"Organic\": 0, \"CategoryTypeEn\": \"Fresh Cheese\", \"MilkTypeEn\": \"Ewe\", \"MilkTreatmentTypeEn\": \"Pasteurized\", \"FatLevel\": \"lower fat\"}, {\"ManufacturerProvCode\": \"QC\", \"ManufacturingTypeEn\": \"Farmstead\", \"MoisturePercent\": 60.0, \"Organic\": 0, \"CategoryTypeEn\": \"Soft Cheese\", \"MilkTypeEn\": \"Goat\", \"MilkTreatmentTypeEn\": \"Pasteurized\", \"FatLevel\": \"lower fat\"}, {\"ManufacturerProvCode\": \"QC\", \"ManufacturingTypeEn\": \"Artisan\", \"MoisturePercent\": 55.0, \"Organic\": 0, \"CategoryTypeEn\": \"Soft Cheese\", \"MilkTypeEn\": \"Cow\", \"MilkTreatmentTypeEn\": \"Pasteurized\", \"FatLevel\": \"lower fat\"}, {\"ManufacturerProvCode\": \"QC\", \"ManufacturingTypeEn\": \"Artisan\", \"MoisturePercent\": 39.0, \"Organic\": 0, \"CategoryTypeEn\": \"Semi-soft Cheese\", \"MilkTypeEn\": \"Cow\", \"MilkTreatmentTypeEn\": \"Pasteurized\", \"FatLevel\": \"higher fat\"}, {\"ManufacturerProvCode\": \"QC\", \"ManufacturingTypeEn\": \"Industrial\", \"MoisturePercent\": 50.0, \"Organic\": 0, \"CategoryTypeEn\": \"Soft Cheese\", \"MilkTypeEn\": \"Cow\", \"MilkTreatmentTypeEn\": \"Pasteurized\", \"FatLevel\": \"higher fat\"}, {\"ManufacturerProvCode\": \"QC\", \"ManufacturingTypeEn\": \"Industrial\", \"MoisturePercent\": 43.0, \"Organic\": 1, \"CategoryTypeEn\": \"Semi-soft Cheese\", \"MilkTypeEn\": \"Cow\", \"MilkTreatmentTypeEn\": \"Pasteurized\", \"FatLevel\": \"lower fat\"}, {\"ManufacturerProvCode\": \"QC\", \"ManufacturingTypeEn\": \"Artisan\", \"MoisturePercent\": 48.0, \"Organic\": 1, \"CategoryTypeEn\": \"Semi-soft Cheese\", \"MilkTypeEn\": \"Cow\", \"MilkTreatmentTypeEn\": \"Raw Milk\", \"FatLevel\": \"lower fat\"}, {\"ManufacturerProvCode\": \"QC\", \"ManufacturingTypeEn\": \"Artisan\", \"MoisturePercent\": 50.0, \"Organic\": 0, \"CategoryTypeEn\": \"Semi-soft Cheese\", \"MilkTypeEn\": \"Cow\", \"MilkTreatmentTypeEn\": \"Pasteurized\", \"FatLevel\": \"lower fat\"}, {\"ManufacturerProvCode\": \"QC\", \"ManufacturingTypeEn\": \"Farmstead\", \"MoisturePercent\": 65.0, \"Organic\": 0, \"CategoryTypeEn\": \"Soft Cheese\", \"MilkTypeEn\": \"Goat\", \"MilkTreatmentTypeEn\": \"Pasteurized\", \"FatLevel\": \"lower fat\"}, {\"ManufacturerProvCode\": \"ON\", \"ManufacturingTypeEn\": \"Farmstead\", \"MoisturePercent\": 65.0, \"Organic\": 0, \"CategoryTypeEn\": \"Soft Cheese\", \"MilkTypeEn\": \"Goat\", \"MilkTreatmentTypeEn\": \"Pasteurized\", \"FatLevel\": \"lower fat\"}, {\"ManufacturerProvCode\": \"QC\", \"ManufacturingTypeEn\": \"Artisan\", \"MoisturePercent\": 39.0, \"Organic\": 0, \"CategoryTypeEn\": \"Hard Cheese\", \"MilkTypeEn\": \"Ewe\", \"MilkTreatmentTypeEn\": \"Pasteurized\", \"FatLevel\": \"lower fat\"}, {\"ManufacturerProvCode\": \"ON\", \"ManufacturingTypeEn\": \"Industrial\", \"MoisturePercent\": 20.0, \"Organic\": 0, \"CategoryTypeEn\": \"Hard Cheese\", \"MilkTypeEn\": \"Cow\", \"MilkTreatmentTypeEn\": \"Pasteurized\", \"FatLevel\": \"lower fat\"}, {\"ManufacturerProvCode\": \"QC\", \"ManufacturingTypeEn\": \"Industrial\", \"MoisturePercent\": 50.0, \"Organic\": 0, \"CategoryTypeEn\": \"Soft Cheese\", \"MilkTypeEn\": \"Cow\", \"MilkTreatmentTypeEn\": null, \"FatLevel\": \"higher fat\"}, {\"ManufacturerProvCode\": \"QC\", \"ManufacturingTypeEn\": \"Industrial\", \"MoisturePercent\": 60.0, \"Organic\": 0, \"CategoryTypeEn\": \"Soft Cheese\", \"MilkTypeEn\": \"Cow\", \"MilkTreatmentTypeEn\": \"Pasteurized\", \"FatLevel\": \"lower fat\"}, {\"ManufacturerProvCode\": \"QC\", \"ManufacturingTypeEn\": \"Industrial\", \"MoisturePercent\": 57.0, \"Organic\": 0, \"CategoryTypeEn\": \"Soft Cheese\", \"MilkTypeEn\": \"Cow\", \"MilkTreatmentTypeEn\": \"Pasteurized\", \"FatLevel\": \"lower fat\"}, {\"ManufacturerProvCode\": \"QC\", \"ManufacturingTypeEn\": \"Industrial\", \"MoisturePercent\": 55.0, \"Organic\": 0, \"CategoryTypeEn\": \"Fresh Cheese\", \"MilkTypeEn\": \"Goat\", \"MilkTreatmentTypeEn\": \"Pasteurized\", \"FatLevel\": \"higher fat\"}, {\"ManufacturerProvCode\": \"NB\", \"ManufacturingTypeEn\": \"Farmstead\", \"MoisturePercent\": 50.0, \"Organic\": 0, \"CategoryTypeEn\": \"Semi-soft Cheese\", \"MilkTypeEn\": \"Goat\", \"MilkTreatmentTypeEn\": \"Pasteurized\", \"FatLevel\": \"lower fat\"}, {\"ManufacturerProvCode\": \"QC\", \"ManufacturingTypeEn\": \"Farmstead\", \"MoisturePercent\": 70.0, \"Organic\": 0, \"CategoryTypeEn\": \"Fresh Cheese\", \"MilkTypeEn\": \"Ewe\", \"MilkTreatmentTypeEn\": \"Pasteurized\", \"FatLevel\": \"lower fat\"}, {\"ManufacturerProvCode\": \"QC\", \"ManufacturingTypeEn\": \"Industrial\", \"MoisturePercent\": 42.0, \"Organic\": 0, \"CategoryTypeEn\": \"Firm Cheese\", \"MilkTypeEn\": \"Cow\", \"MilkTreatmentTypeEn\": \"Pasteurized\", \"FatLevel\": \"higher fat\"}, {\"ManufacturerProvCode\": \"QC\", \"ManufacturingTypeEn\": \"Artisan\", \"MoisturePercent\": 50.0, \"Organic\": 0, \"CategoryTypeEn\": \"Semi-soft Cheese\", \"MilkTypeEn\": \"Cow\", \"MilkTreatmentTypeEn\": \"Pasteurized\", \"FatLevel\": \"lower fat\"}, {\"ManufacturerProvCode\": \"QC\", \"ManufacturingTypeEn\": \"Farmstead\", \"MoisturePercent\": 43.0, \"Organic\": 0, \"CategoryTypeEn\": null, \"MilkTypeEn\": \"Cow\", \"MilkTreatmentTypeEn\": null, \"FatLevel\": \"lower fat\"}, {\"ManufacturerProvCode\": \"QC\", \"ManufacturingTypeEn\": \"Industrial\", \"MoisturePercent\": 65.0, \"Organic\": 0, \"CategoryTypeEn\": \"Fresh Cheese\", \"MilkTypeEn\": \"Cow\", \"MilkTreatmentTypeEn\": \"Pasteurized\", \"FatLevel\": \"lower fat\"}, {\"ManufacturerProvCode\": \"ON\", \"ManufacturingTypeEn\": \"Artisan\", \"MoisturePercent\": 42.8, \"Organic\": 1, \"CategoryTypeEn\": null, \"MilkTypeEn\": \"Cow\", \"MilkTreatmentTypeEn\": \"Pasteurized\", \"FatLevel\": \"lower fat\"}, {\"ManufacturerProvCode\": \"QC\", \"ManufacturingTypeEn\": \"Industrial\", \"MoisturePercent\": 50.0, \"Organic\": 0, \"CategoryTypeEn\": \"Semi-soft Cheese\", \"MilkTypeEn\": \"Cow\", \"MilkTreatmentTypeEn\": \"Pasteurized\", \"FatLevel\": \"lower fat\"}, {\"ManufacturerProvCode\": \"ON\", \"ManufacturingTypeEn\": \"Industrial\", \"MoisturePercent\": 34.0, \"Organic\": 0, \"CategoryTypeEn\": \"Firm Cheese\", \"MilkTypeEn\": \"Cow\", \"MilkTreatmentTypeEn\": \"Pasteurized\", \"FatLevel\": \"lower fat\"}, {\"ManufacturerProvCode\": \"QC\", \"ManufacturingTypeEn\": \"Farmstead\", \"MoisturePercent\": 55.0, \"Organic\": 1, \"CategoryTypeEn\": \"Firm Cheese\", \"MilkTypeEn\": \"Cow\", \"MilkTreatmentTypeEn\": null, \"FatLevel\": \"lower fat\"}, {\"ManufacturerProvCode\": \"QC\", \"ManufacturingTypeEn\": \"Artisan\", \"MoisturePercent\": 39.0, \"Organic\": 0, \"CategoryTypeEn\": \"Firm Cheese\", \"MilkTypeEn\": \"Cow\", \"MilkTreatmentTypeEn\": \"Pasteurized\", \"FatLevel\": \"higher fat\"}, {\"ManufacturerProvCode\": \"QC\", \"ManufacturingTypeEn\": \"Industrial\", \"MoisturePercent\": 41.0, \"Organic\": 0, \"CategoryTypeEn\": \"Firm Cheese\", \"MilkTypeEn\": \"Cow\", \"MilkTreatmentTypeEn\": \"Pasteurized\", \"FatLevel\": \"higher fat\"}, {\"ManufacturerProvCode\": \"QC\", \"ManufacturingTypeEn\": \"Farmstead\", \"MoisturePercent\": 53.0, \"Organic\": 1, \"CategoryTypeEn\": \"Soft Cheese\", \"MilkTypeEn\": \"Cow\", \"MilkTreatmentTypeEn\": \"Pasteurized\", \"FatLevel\": \"lower fat\"}, {\"ManufacturerProvCode\": \"QC\", \"ManufacturingTypeEn\": \"Artisan\", \"MoisturePercent\": 39.0, \"Organic\": 0, \"CategoryTypeEn\": \"Firm Cheese\", \"MilkTypeEn\": \"Cow\", \"MilkTreatmentTypeEn\": \"Pasteurized\", \"FatLevel\": \"higher fat\"}, {\"ManufacturerProvCode\": \"MB\", \"ManufacturingTypeEn\": \"Farmstead\", \"MoisturePercent\": 44.0, \"Organic\": 0, \"CategoryTypeEn\": \"Semi-soft Cheese\", \"MilkTypeEn\": \"Cow\", \"MilkTreatmentTypeEn\": \"Pasteurized\", \"FatLevel\": \"lower fat\"}, {\"ManufacturerProvCode\": \"QC\", \"ManufacturingTypeEn\": \"Artisan\", \"MoisturePercent\": 40.0, \"Organic\": 0, \"CategoryTypeEn\": null, \"MilkTypeEn\": \"Goat\", \"MilkTreatmentTypeEn\": null, \"FatLevel\": \"lower fat\"}, {\"ManufacturerProvCode\": \"BC\", \"ManufacturingTypeEn\": \"Artisan\", \"MoisturePercent\": 41.0, \"Organic\": 0, \"CategoryTypeEn\": \"Firm Cheese\", \"MilkTypeEn\": \"Cow\", \"MilkTreatmentTypeEn\": \"Pasteurized\", \"FatLevel\": \"higher fat\"}, {\"ManufacturerProvCode\": \"NB\", \"ManufacturingTypeEn\": \"Farmstead\", \"MoisturePercent\": 50.0, \"Organic\": 0, \"CategoryTypeEn\": \"Fresh Cheese\", \"MilkTypeEn\": \"Goat\", \"MilkTreatmentTypeEn\": \"Pasteurized\", \"FatLevel\": \"lower fat\"}, {\"ManufacturerProvCode\": \"QC\", \"ManufacturingTypeEn\": \"Artisan\", \"MoisturePercent\": 48.0, \"Organic\": 0, \"CategoryTypeEn\": \"Semi-soft Cheese\", \"MilkTypeEn\": \"Cow\", \"MilkTreatmentTypeEn\": \"Pasteurized\", \"FatLevel\": \"lower fat\"}, {\"ManufacturerProvCode\": \"QC\", \"ManufacturingTypeEn\": \"Industrial\", \"MoisturePercent\": 72.0, \"Organic\": 0, \"CategoryTypeEn\": \"Soft Cheese\", \"MilkTypeEn\": \"Goat\", \"MilkTreatmentTypeEn\": \"Pasteurized\", \"FatLevel\": \"lower fat\"}, {\"ManufacturerProvCode\": \"QC\", \"ManufacturingTypeEn\": \"Artisan\", \"MoisturePercent\": 48.0, \"Organic\": 0, \"CategoryTypeEn\": \"Semi-soft Cheese\", \"MilkTypeEn\": \"Cow\", \"MilkTreatmentTypeEn\": \"Pasteurized\", \"FatLevel\": \"lower fat\"}, {\"ManufacturerProvCode\": \"QC\", \"ManufacturingTypeEn\": \"Industrial\", \"MoisturePercent\": 60.0, \"Organic\": 0, \"CategoryTypeEn\": \"Soft Cheese\", \"MilkTypeEn\": \"Cow\", \"MilkTreatmentTypeEn\": \"Pasteurized\", \"FatLevel\": \"lower fat\"}, {\"ManufacturerProvCode\": \"QC\", \"ManufacturingTypeEn\": \"Industrial\", \"MoisturePercent\": 40.0, \"Organic\": 0, \"CategoryTypeEn\": \"Firm Cheese\", \"MilkTypeEn\": \"Cow\", \"MilkTreatmentTypeEn\": \"Pasteurized\", \"FatLevel\": \"lower fat\"}, {\"ManufacturerProvCode\": \"QC\", \"ManufacturingTypeEn\": \"Industrial\", \"MoisturePercent\": 39.0, \"Organic\": 0, \"CategoryTypeEn\": \"Firm Cheese\", \"MilkTypeEn\": \"Cow\", \"MilkTreatmentTypeEn\": \"Pasteurized\", \"FatLevel\": \"higher fat\"}, {\"ManufacturerProvCode\": \"ON\", \"ManufacturingTypeEn\": \"Industrial\", \"MoisturePercent\": 50.0, \"Organic\": 0, \"CategoryTypeEn\": \"Semi-soft Cheese\", \"MilkTypeEn\": \"Cow\", \"MilkTreatmentTypeEn\": \"Pasteurized\", \"FatLevel\": \"lower fat\"}, {\"ManufacturerProvCode\": \"QC\", \"ManufacturingTypeEn\": \"Industrial\", \"MoisturePercent\": 40.0, \"Organic\": 0, \"CategoryTypeEn\": \"Firm Cheese\", \"MilkTypeEn\": \"Cow\", \"MilkTreatmentTypeEn\": \"Pasteurized\", \"FatLevel\": \"lower fat\"}, {\"ManufacturerProvCode\": \"ON\", \"ManufacturingTypeEn\": \"Industrial\", \"MoisturePercent\": 52.0, \"Organic\": 0, \"CategoryTypeEn\": \"Semi-soft Cheese\", \"MilkTypeEn\": \"Cow\", \"MilkTreatmentTypeEn\": \"Pasteurized\", \"FatLevel\": \"lower fat\"}, {\"ManufacturerProvCode\": \"QC\", \"ManufacturingTypeEn\": \"Industrial\", \"MoisturePercent\": 46.0, \"Organic\": 0, \"CategoryTypeEn\": \"Semi-soft Cheese\", \"MilkTypeEn\": \"Cow\", \"MilkTreatmentTypeEn\": \"Pasteurized\", \"FatLevel\": \"lower fat\"}, {\"ManufacturerProvCode\": \"QC\", \"ManufacturingTypeEn\": \"Industrial\", \"MoisturePercent\": 47.0, \"Organic\": 0, \"CategoryTypeEn\": \"Semi-soft Cheese\", \"MilkTypeEn\": \"Cow\", \"MilkTreatmentTypeEn\": \"Pasteurized\", \"FatLevel\": \"lower fat\"}, {\"ManufacturerProvCode\": \"QC\", \"ManufacturingTypeEn\": \"Artisan\", \"MoisturePercent\": 40.0, \"Organic\": 0, \"CategoryTypeEn\": \"Semi-soft Cheese\", \"MilkTypeEn\": \"Ewe\", \"MilkTreatmentTypeEn\": \"Raw Milk\", \"FatLevel\": \"lower fat\"}, {\"ManufacturerProvCode\": \"QC\", \"ManufacturingTypeEn\": \"Industrial\", \"MoisturePercent\": 40.0, \"Organic\": 0, \"CategoryTypeEn\": \"Firm Cheese\", \"MilkTypeEn\": \"Cow\", \"MilkTreatmentTypeEn\": \"Pasteurized\", \"FatLevel\": \"lower fat\"}, {\"ManufacturerProvCode\": \"QC\", \"ManufacturingTypeEn\": \"Farmstead\", \"MoisturePercent\": 35.0, \"Organic\": 0, \"CategoryTypeEn\": \"Semi-soft Cheese\", \"MilkTypeEn\": \"Goat\", \"MilkTreatmentTypeEn\": \"Pasteurized\", \"FatLevel\": \"lower fat\"}, {\"ManufacturerProvCode\": \"QC\", \"ManufacturingTypeEn\": \"Farmstead\", \"MoisturePercent\": 43.0, \"Organic\": 0, \"CategoryTypeEn\": \"Semi-soft Cheese\", \"MilkTypeEn\": \"Cow\", \"MilkTreatmentTypeEn\": \"Thermised\", \"FatLevel\": \"higher fat\"}, {\"ManufacturerProvCode\": \"QC\", \"ManufacturingTypeEn\": \"Artisan\", \"MoisturePercent\": 55.0, \"Organic\": 0, \"CategoryTypeEn\": \"Semi-soft Cheese\", \"MilkTypeEn\": \"Goat\", \"MilkTreatmentTypeEn\": \"Pasteurized\", \"FatLevel\": \"lower fat\"}, {\"ManufacturerProvCode\": \"QC\", \"ManufacturingTypeEn\": \"Artisan\", \"MoisturePercent\": 60.0, \"Organic\": 0, \"CategoryTypeEn\": \"Soft Cheese\", \"MilkTypeEn\": \"Goat\", \"MilkTreatmentTypeEn\": \"Pasteurized\", \"FatLevel\": \"lower fat\"}, {\"ManufacturerProvCode\": \"ON\", \"ManufacturingTypeEn\": \"Industrial\", \"MoisturePercent\": 55.0, \"Organic\": 0, \"CategoryTypeEn\": \"Semi-soft Cheese\", \"MilkTypeEn\": \"Cow\", \"MilkTreatmentTypeEn\": \"Pasteurized\", \"FatLevel\": \"lower fat\"}, {\"ManufacturerProvCode\": \"QC\", \"ManufacturingTypeEn\": \"Industrial\", \"MoisturePercent\": 50.0, \"Organic\": 0, \"CategoryTypeEn\": \"Semi-soft Cheese\", \"MilkTypeEn\": \"Cow\", \"MilkTreatmentTypeEn\": \"Pasteurized\", \"FatLevel\": \"lower fat\"}, {\"ManufacturerProvCode\": \"QC\", \"ManufacturingTypeEn\": \"Artisan\", \"MoisturePercent\": 42.0, \"Organic\": 0, \"CategoryTypeEn\": \"Semi-soft Cheese\", \"MilkTypeEn\": \"Goat\", \"MilkTreatmentTypeEn\": \"Pasteurized\", \"FatLevel\": \"lower fat\"}, {\"ManufacturerProvCode\": \"QC\", \"ManufacturingTypeEn\": \"Farmstead\", \"MoisturePercent\": 44.0, \"Organic\": 0, \"CategoryTypeEn\": \"Firm Cheese\", \"MilkTypeEn\": \"Cow\", \"MilkTreatmentTypeEn\": null, \"FatLevel\": \"lower fat\"}, {\"ManufacturerProvCode\": \"BC\", \"ManufacturingTypeEn\": \"Artisan\", \"MoisturePercent\": 38.0, \"Organic\": 0, \"CategoryTypeEn\": \"Hard Cheese\", \"MilkTypeEn\": \"Cow\", \"MilkTreatmentTypeEn\": \"Raw Milk\", \"FatLevel\": \"higher fat\"}, {\"ManufacturerProvCode\": \"QC\", \"ManufacturingTypeEn\": \"Industrial\", \"MoisturePercent\": 58.0, \"Organic\": 0, \"CategoryTypeEn\": \"Soft Cheese\", \"MilkTypeEn\": \"Cow\", \"MilkTreatmentTypeEn\": \"Pasteurized\", \"FatLevel\": \"lower fat\"}, {\"ManufacturerProvCode\": \"QC\", \"ManufacturingTypeEn\": \"Industrial\", \"MoisturePercent\": 50.0, \"Organic\": 0, \"CategoryTypeEn\": \"Firm Cheese\", \"MilkTypeEn\": \"Cow\", \"MilkTreatmentTypeEn\": \"Pasteurized\", \"FatLevel\": \"lower fat\"}, {\"ManufacturerProvCode\": \"ON\", \"ManufacturingTypeEn\": \"Industrial\", \"MoisturePercent\": 50.0, \"Organic\": 0, \"CategoryTypeEn\": \"Semi-soft Cheese\", \"MilkTypeEn\": \"Goat\", \"MilkTreatmentTypeEn\": \"Pasteurized\", \"FatLevel\": \"lower fat\"}, {\"ManufacturerProvCode\": \"ON\", \"ManufacturingTypeEn\": \"Industrial\", \"MoisturePercent\": 48.0, \"Organic\": 0, \"CategoryTypeEn\": \"Fresh Cheese\", \"MilkTypeEn\": \"Cow\", \"MilkTreatmentTypeEn\": \"Pasteurized\", \"FatLevel\": \"lower fat\"}, {\"ManufacturerProvCode\": \"QC\", \"ManufacturingTypeEn\": \"Industrial\", \"MoisturePercent\": 50.0, \"Organic\": 0, \"CategoryTypeEn\": \"Soft Cheese\", \"MilkTypeEn\": \"Cow\", \"MilkTreatmentTypeEn\": null, \"FatLevel\": \"higher fat\"}, {\"ManufacturerProvCode\": \"MB\", \"ManufacturingTypeEn\": \"Farmstead\", \"MoisturePercent\": 42.0, \"Organic\": 0, \"CategoryTypeEn\": \"Semi-soft Cheese\", \"MilkTypeEn\": \"Cow\", \"MilkTreatmentTypeEn\": \"Pasteurized\", \"FatLevel\": \"lower fat\"}, {\"ManufacturerProvCode\": \"ON\", \"ManufacturingTypeEn\": \"Industrial\", \"MoisturePercent\": 40.0, \"Organic\": 0, \"CategoryTypeEn\": \"Firm Cheese\", \"MilkTypeEn\": \"Cow\", \"MilkTreatmentTypeEn\": \"Pasteurized\", \"FatLevel\": \"higher fat\"}, {\"ManufacturerProvCode\": \"QC\", \"ManufacturingTypeEn\": \"Artisan\", \"MoisturePercent\": 50.0, \"Organic\": 0, \"CategoryTypeEn\": \"Soft Cheese\", \"MilkTypeEn\": \"Goat\", \"MilkTreatmentTypeEn\": \"Pasteurized\", \"FatLevel\": \"lower fat\"}, {\"ManufacturerProvCode\": \"QC\", \"ManufacturingTypeEn\": \"Industrial\", \"MoisturePercent\": 48.0, \"Organic\": 0, \"CategoryTypeEn\": \"Semi-soft Cheese\", \"MilkTypeEn\": \"Cow\", \"MilkTreatmentTypeEn\": \"Pasteurized\", \"FatLevel\": \"lower fat\"}, {\"ManufacturerProvCode\": \"QC\", \"ManufacturingTypeEn\": \"Industrial\", \"MoisturePercent\": 42.0, \"Organic\": 0, \"CategoryTypeEn\": \"Firm Cheese\", \"MilkTypeEn\": \"Cow\", \"MilkTreatmentTypeEn\": \"Pasteurized\", \"FatLevel\": \"lower fat\"}, {\"ManufacturerProvCode\": \"QC\", \"ManufacturingTypeEn\": \"Artisan\", \"MoisturePercent\": 50.0, \"Organic\": 0, \"CategoryTypeEn\": \"Semi-soft Cheese\", \"MilkTypeEn\": \"Cow\", \"MilkTreatmentTypeEn\": \"Pasteurized\", \"FatLevel\": \"lower fat\"}, {\"ManufacturerProvCode\": \"QC\", \"ManufacturingTypeEn\": \"Industrial\", \"MoisturePercent\": null, \"Organic\": 0, \"CategoryTypeEn\": \"Firm Cheese\", \"MilkTypeEn\": \"Cow\", \"MilkTreatmentTypeEn\": \"Pasteurized\", \"FatLevel\": \"lower fat\"}, {\"ManufacturerProvCode\": \"QC\", \"ManufacturingTypeEn\": \"Farmstead\", \"MoisturePercent\": 46.0, \"Organic\": 0, \"CategoryTypeEn\": \"Firm Cheese\", \"MilkTypeEn\": \"Goat\", \"MilkTreatmentTypeEn\": \"Pasteurized\", \"FatLevel\": \"lower fat\"}, {\"ManufacturerProvCode\": \"SK\", \"ManufacturingTypeEn\": \"Artisan\", \"MoisturePercent\": 17.0, \"Organic\": 0, \"CategoryTypeEn\": \"Soft Cheese\", \"MilkTypeEn\": \"Cow\", \"MilkTreatmentTypeEn\": \"Pasteurized\", \"FatLevel\": \"higher fat\"}, {\"ManufacturerProvCode\": \"QC\", \"ManufacturingTypeEn\": \"Industrial\", \"MoisturePercent\": 55.0, \"Organic\": 0, \"CategoryTypeEn\": \"Soft Cheese\", \"MilkTypeEn\": \"Cow\", \"MilkTreatmentTypeEn\": \"Pasteurized\", \"FatLevel\": \"lower fat\"}, {\"ManufacturerProvCode\": \"QC\", \"ManufacturingTypeEn\": \"Industrial\", \"MoisturePercent\": 42.0, \"Organic\": 0, \"CategoryTypeEn\": \"Firm Cheese\", \"MilkTypeEn\": \"Cow\", \"MilkTreatmentTypeEn\": \"Pasteurized\", \"FatLevel\": \"lower fat\"}, {\"ManufacturerProvCode\": \"QC\", \"ManufacturingTypeEn\": \"Industrial\", \"MoisturePercent\": 50.0, \"Organic\": 0, \"CategoryTypeEn\": \"Soft Cheese\", \"MilkTypeEn\": \"Cow\", \"MilkTreatmentTypeEn\": \"Pasteurized\", \"FatLevel\": \"higher fat\"}, {\"ManufacturerProvCode\": \"BC\", \"ManufacturingTypeEn\": \"Industrial\", \"MoisturePercent\": null, \"Organic\": 0, \"CategoryTypeEn\": \"Soft Cheese\", \"MilkTypeEn\": \"Cow\", \"MilkTreatmentTypeEn\": \"Pasteurized\", \"FatLevel\": \"lower fat\"}, {\"ManufacturerProvCode\": \"ON\", \"ManufacturingTypeEn\": \"Industrial\", \"MoisturePercent\": null, \"Organic\": 0, \"CategoryTypeEn\": \"Firm Cheese\", \"MilkTypeEn\": \"Cow\", \"MilkTreatmentTypeEn\": \"Pasteurized\", \"FatLevel\": \"lower fat\"}, {\"ManufacturerProvCode\": \"QC\", \"ManufacturingTypeEn\": \"Artisan\", \"MoisturePercent\": 55.0, \"Organic\": 0, \"CategoryTypeEn\": \"Fresh Cheese\", \"MilkTypeEn\": \"Cow\", \"MilkTreatmentTypeEn\": \"Pasteurized\", \"FatLevel\": \"lower fat\"}, {\"ManufacturerProvCode\": \"QC\", \"ManufacturingTypeEn\": \"Industrial\", \"MoisturePercent\": 50.0, \"Organic\": 0, \"CategoryTypeEn\": \"Soft Cheese\", \"MilkTypeEn\": \"Cow\", \"MilkTreatmentTypeEn\": \"Pasteurized\", \"FatLevel\": \"higher fat\"}, {\"ManufacturerProvCode\": \"QC\", \"ManufacturingTypeEn\": \"Artisan\", \"MoisturePercent\": 43.0, \"Organic\": 0, \"CategoryTypeEn\": \"Firm Cheese\", \"MilkTypeEn\": \"Goat\", \"MilkTreatmentTypeEn\": \"Pasteurized\", \"FatLevel\": \"lower fat\"}, {\"ManufacturerProvCode\": \"QC\", \"ManufacturingTypeEn\": \"Industrial\", \"MoisturePercent\": 55.0, \"Organic\": 0, \"CategoryTypeEn\": \"Soft Cheese\", \"MilkTypeEn\": \"Cow\", \"MilkTreatmentTypeEn\": \"Pasteurized\", \"FatLevel\": \"lower fat\"}, {\"ManufacturerProvCode\": \"BC\", \"ManufacturingTypeEn\": \"Farmstead\", \"MoisturePercent\": 35.0, \"Organic\": 1, \"CategoryTypeEn\": \"Firm Cheese\", \"MilkTypeEn\": \"Cow\", \"MilkTreatmentTypeEn\": \"Raw Milk\", \"FatLevel\": \"higher fat\"}, {\"ManufacturerProvCode\": \"QC\", \"ManufacturingTypeEn\": \"Industrial\", \"MoisturePercent\": 39.0, \"Organic\": 0, \"CategoryTypeEn\": \"Semi-soft Cheese\", \"MilkTypeEn\": \"Goat\", \"MilkTreatmentTypeEn\": \"Pasteurized\", \"FatLevel\": \"higher fat\"}, {\"ManufacturerProvCode\": \"QC\", \"ManufacturingTypeEn\": \"Industrial\", \"MoisturePercent\": 42.0, \"Organic\": 0, \"CategoryTypeEn\": \"Firm Cheese\", \"MilkTypeEn\": \"Cow\", \"MilkTreatmentTypeEn\": \"Pasteurized\", \"FatLevel\": \"lower fat\"}, {\"ManufacturerProvCode\": \"BC\", \"ManufacturingTypeEn\": \"Artisan\", \"MoisturePercent\": 68.0, \"Organic\": 0, \"CategoryTypeEn\": \"Soft Cheese\", \"MilkTypeEn\": \"Cow\", \"MilkTreatmentTypeEn\": \"Pasteurized\", \"FatLevel\": \"lower fat\"}, {\"ManufacturerProvCode\": \"QC\", \"ManufacturingTypeEn\": \"Artisan\", \"MoisturePercent\": 48.0, \"Organic\": 0, \"CategoryTypeEn\": \"Semi-soft Cheese\", \"MilkTypeEn\": \"Goat\", \"MilkTreatmentTypeEn\": \"Pasteurized\", \"FatLevel\": \"lower fat\"}, {\"ManufacturerProvCode\": \"QC\", \"ManufacturingTypeEn\": \"Farmstead\", \"MoisturePercent\": 46.0, \"Organic\": 0, \"CategoryTypeEn\": \"Semi-soft Cheese\", \"MilkTypeEn\": \"Cow\", \"MilkTreatmentTypeEn\": \"Pasteurized\", \"FatLevel\": \"lower fat\"}, {\"ManufacturerProvCode\": \"ON\", \"ManufacturingTypeEn\": \"Artisan\", \"MoisturePercent\": 75.0, \"Organic\": 0, \"CategoryTypeEn\": \"Fresh Cheese\", \"MilkTypeEn\": \"Ewe\", \"MilkTreatmentTypeEn\": \"Pasteurized\", \"FatLevel\": \"lower fat\"}, {\"ManufacturerProvCode\": \"ON\", \"ManufacturingTypeEn\": \"Industrial\", \"MoisturePercent\": 37.0, \"Organic\": 0, \"CategoryTypeEn\": \"Hard Cheese\", \"MilkTypeEn\": \"Goat\", \"MilkTreatmentTypeEn\": null, \"FatLevel\": \"higher fat\"}, {\"ManufacturerProvCode\": \"QC\", \"ManufacturingTypeEn\": \"Industrial\", \"MoisturePercent\": 50.0, \"Organic\": 0, \"CategoryTypeEn\": \"Semi-soft Cheese\", \"MilkTypeEn\": \"Cow\", \"MilkTreatmentTypeEn\": \"Pasteurized\", \"FatLevel\": \"lower fat\"}, {\"ManufacturerProvCode\": \"QC\", \"ManufacturingTypeEn\": \"Industrial\", \"MoisturePercent\": 68.0, \"Organic\": 0, \"CategoryTypeEn\": \"Fresh Cheese\", \"MilkTypeEn\": \"Goat\", \"MilkTreatmentTypeEn\": \"Pasteurized\", \"FatLevel\": \"higher fat\"}, {\"ManufacturerProvCode\": \"ON\", \"ManufacturingTypeEn\": \"Farmstead\", \"MoisturePercent\": 37.0, \"Organic\": 0, \"CategoryTypeEn\": \"Hard Cheese\", \"MilkTypeEn\": \"Cow\", \"MilkTreatmentTypeEn\": \"Thermised\", \"FatLevel\": \"higher fat\"}, {\"ManufacturerProvCode\": \"QC\", \"ManufacturingTypeEn\": \"Industrial\", \"MoisturePercent\": 50.0, \"Organic\": 0, \"CategoryTypeEn\": \"Soft Cheese\", \"MilkTypeEn\": \"Cow\", \"MilkTreatmentTypeEn\": \"Pasteurized\", \"FatLevel\": \"higher fat\"}, {\"ManufacturerProvCode\": \"QC\", \"ManufacturingTypeEn\": \"Artisan\", \"MoisturePercent\": 55.0, \"Organic\": 0, \"CategoryTypeEn\": \"Fresh Cheese\", \"MilkTypeEn\": \"Goat\", \"MilkTreatmentTypeEn\": \"Pasteurized\", \"FatLevel\": \"lower fat\"}, {\"ManufacturerProvCode\": \"QC\", \"ManufacturingTypeEn\": \"Industrial\", \"MoisturePercent\": 50.0, \"Organic\": 0, \"CategoryTypeEn\": \"Soft Cheese\", \"MilkTypeEn\": \"Cow\", \"MilkTreatmentTypeEn\": null, \"FatLevel\": \"higher fat\"}, {\"ManufacturerProvCode\": \"QC\", \"ManufacturingTypeEn\": \"Artisan\", \"MoisturePercent\": 41.0, \"Organic\": 0, \"CategoryTypeEn\": \"Firm Cheese\", \"MilkTypeEn\": \"Ewe\", \"MilkTreatmentTypeEn\": \"Pasteurized\", \"FatLevel\": \"higher fat\"}, {\"ManufacturerProvCode\": \"QC\", \"ManufacturingTypeEn\": \"Industrial\", \"MoisturePercent\": 55.0, \"Organic\": 0, \"CategoryTypeEn\": \"Semi-soft Cheese\", \"MilkTypeEn\": \"Cow\", \"MilkTreatmentTypeEn\": \"Pasteurized\", \"FatLevel\": \"lower fat\"}, {\"ManufacturerProvCode\": \"QC\", \"ManufacturingTypeEn\": \"Artisan\", \"MoisturePercent\": 42.0, \"Organic\": 0, \"CategoryTypeEn\": null, \"MilkTypeEn\": \"Cow\", \"MilkTreatmentTypeEn\": \"Pasteurized\", \"FatLevel\": \"higher fat\"}, {\"ManufacturerProvCode\": \"BC\", \"ManufacturingTypeEn\": \"Artisan\", \"MoisturePercent\": 40.0, \"Organic\": 0, \"CategoryTypeEn\": \"Firm Cheese\", \"MilkTypeEn\": \"Goat\", \"MilkTreatmentTypeEn\": \"Thermised\", \"FatLevel\": \"higher fat\"}, {\"ManufacturerProvCode\": \"BC\", \"ManufacturingTypeEn\": \"Farmstead\", \"MoisturePercent\": 38.0, \"Organic\": 1, \"CategoryTypeEn\": \"Firm Cheese\", \"MilkTypeEn\": \"Cow\", \"MilkTreatmentTypeEn\": \"Thermised\", \"FatLevel\": \"higher fat\"}, {\"ManufacturerProvCode\": \"ON\", \"ManufacturingTypeEn\": \"Industrial\", \"MoisturePercent\": 50.0, \"Organic\": 0, \"CategoryTypeEn\": \"Semi-soft Cheese\", \"MilkTypeEn\": \"Cow\", \"MilkTreatmentTypeEn\": \"Pasteurized\", \"FatLevel\": \"lower fat\"}, {\"ManufacturerProvCode\": \"QC\", \"ManufacturingTypeEn\": \"Industrial\", \"MoisturePercent\": 43.0, \"Organic\": 0, \"CategoryTypeEn\": \"Firm Cheese\", \"MilkTypeEn\": \"Cow\", \"MilkTreatmentTypeEn\": \"Pasteurized\", \"FatLevel\": \"lower fat\"}, {\"ManufacturerProvCode\": \"QC\", \"ManufacturingTypeEn\": \"Artisan\", \"MoisturePercent\": 50.0, \"Organic\": 0, \"CategoryTypeEn\": \"Semi-soft Cheese\", \"MilkTypeEn\": \"Cow\", \"MilkTreatmentTypeEn\": \"Raw Milk\", \"FatLevel\": \"lower fat\"}, {\"ManufacturerProvCode\": \"BC\", \"ManufacturingTypeEn\": \"Farmstead\", \"MoisturePercent\": 43.0, \"Organic\": 1, \"CategoryTypeEn\": \"Soft Cheese\", \"MilkTypeEn\": \"Goat\", \"MilkTreatmentTypeEn\": \"Raw Milk\", \"FatLevel\": \"higher fat\"}, {\"ManufacturerProvCode\": \"QC\", \"ManufacturingTypeEn\": \"Industrial\", \"MoisturePercent\": 39.0, \"Organic\": 0, \"CategoryTypeEn\": \"Firm Cheese\", \"MilkTypeEn\": \"Cow\", \"MilkTreatmentTypeEn\": \"Pasteurized\", \"FatLevel\": \"higher fat\"}, {\"ManufacturerProvCode\": \"QC\", \"ManufacturingTypeEn\": \"Industrial\", \"MoisturePercent\": 64.0, \"Organic\": 0, \"CategoryTypeEn\": \"Fresh Cheese\", \"MilkTypeEn\": \"Buffalo Cow\", \"MilkTreatmentTypeEn\": \"Pasteurized\", \"FatLevel\": \"lower fat\"}, {\"ManufacturerProvCode\": \"QC\", \"ManufacturingTypeEn\": \"Artisan\", \"MoisturePercent\": 36.0, \"Organic\": 0, \"CategoryTypeEn\": \"Firm Cheese\", \"MilkTypeEn\": \"Cow\", \"MilkTreatmentTypeEn\": \"Pasteurized\", \"FatLevel\": \"higher fat\"}, {\"ManufacturerProvCode\": \"QC\", \"ManufacturingTypeEn\": \"Artisan\", \"MoisturePercent\": 40.0, \"Organic\": 0, \"CategoryTypeEn\": \"Semi-soft Cheese\", \"MilkTypeEn\": \"Cow\", \"MilkTreatmentTypeEn\": \"Thermised\", \"FatLevel\": \"lower fat\"}, {\"ManufacturerProvCode\": \"QC\", \"ManufacturingTypeEn\": \"Farmstead\", \"MoisturePercent\": 12.0, \"Organic\": 0, \"CategoryTypeEn\": \"Hard Cheese\", \"MilkTypeEn\": \"Goat\", \"MilkTreatmentTypeEn\": \"Pasteurized\", \"FatLevel\": \"higher fat\"}, {\"ManufacturerProvCode\": \"QC\", \"ManufacturingTypeEn\": \"Farmstead\", \"MoisturePercent\": 43.0, \"Organic\": 1, \"CategoryTypeEn\": \"Semi-soft Cheese\", \"MilkTypeEn\": \"Cow\", \"MilkTreatmentTypeEn\": \"Thermised\", \"FatLevel\": \"higher fat\"}, {\"ManufacturerProvCode\": \"QC\", \"ManufacturingTypeEn\": \"Farmstead\", \"MoisturePercent\": 46.0, \"Organic\": 0, \"CategoryTypeEn\": \"Semi-soft Cheese\", \"MilkTypeEn\": \"Cow\", \"MilkTreatmentTypeEn\": \"Thermised\", \"FatLevel\": \"lower fat\"}, {\"ManufacturerProvCode\": \"AB\", \"ManufacturingTypeEn\": \"Industrial\", \"MoisturePercent\": 53.0, \"Organic\": 0, \"CategoryTypeEn\": \"Fresh Cheese\", \"MilkTypeEn\": \"Cow\", \"MilkTreatmentTypeEn\": \"Pasteurized\", \"FatLevel\": \"lower fat\"}, {\"ManufacturerProvCode\": \"QC\", \"ManufacturingTypeEn\": \"Farmstead\", \"MoisturePercent\": 51.0, \"Organic\": 0, \"CategoryTypeEn\": \"Soft Cheese\", \"MilkTypeEn\": \"Goat\", \"MilkTreatmentTypeEn\": \"Pasteurized\", \"FatLevel\": \"lower fat\"}, {\"ManufacturerProvCode\": \"QC\", \"ManufacturingTypeEn\": \"Farmstead\", \"MoisturePercent\": 50.0, \"Organic\": 0, \"CategoryTypeEn\": \"Semi-soft Cheese\", \"MilkTypeEn\": \"Cow\", \"MilkTreatmentTypeEn\": \"Pasteurized\", \"FatLevel\": \"lower fat\"}, {\"ManufacturerProvCode\": \"QC\", \"ManufacturingTypeEn\": \"Artisan\", \"MoisturePercent\": 55.0, \"Organic\": 0, \"CategoryTypeEn\": \"Soft Cheese\", \"MilkTypeEn\": \"Goat\", \"MilkTreatmentTypeEn\": \"Pasteurized\", \"FatLevel\": \"lower fat\"}, {\"ManufacturerProvCode\": \"QC\", \"ManufacturingTypeEn\": \"Industrial\", \"MoisturePercent\": 68.0, \"Organic\": 0, \"CategoryTypeEn\": \"Soft Cheese\", \"MilkTypeEn\": \"Goat\", \"MilkTreatmentTypeEn\": null, \"FatLevel\": \"lower fat\"}, {\"ManufacturerProvCode\": \"ON\", \"ManufacturingTypeEn\": \"Industrial\", \"MoisturePercent\": 44.0, \"Organic\": 0, \"CategoryTypeEn\": \"Semi-soft Cheese\", \"MilkTypeEn\": \"Cow\", \"MilkTreatmentTypeEn\": \"Pasteurized\", \"FatLevel\": \"lower fat\"}, {\"ManufacturerProvCode\": \"QC\", \"ManufacturingTypeEn\": \"Farmstead\", \"MoisturePercent\": 42.0, \"Organic\": 1, \"CategoryTypeEn\": \"Veined Cheeses\", \"MilkTypeEn\": \"Cow\", \"MilkTreatmentTypeEn\": \"Raw Milk\", \"FatLevel\": \"lower fat\"}, {\"ManufacturerProvCode\": \"QC\", \"ManufacturingTypeEn\": \"Industrial\", \"MoisturePercent\": 40.0, \"Organic\": 0, \"CategoryTypeEn\": \"Firm Cheese\", \"MilkTypeEn\": \"Ewe\", \"MilkTreatmentTypeEn\": \"Raw Milk\", \"FatLevel\": \"lower fat\"}, {\"ManufacturerProvCode\": \"QC\", \"ManufacturingTypeEn\": \"Artisan\", \"MoisturePercent\": 50.0, \"Organic\": 0, \"CategoryTypeEn\": \"Semi-soft Cheese\", \"MilkTypeEn\": \"Cow\", \"MilkTreatmentTypeEn\": \"Pasteurized\", \"FatLevel\": \"lower fat\"}, {\"ManufacturerProvCode\": \"BC\", \"ManufacturingTypeEn\": \"Farmstead\", \"MoisturePercent\": 43.0, \"Organic\": 1, \"CategoryTypeEn\": \"Soft Cheese\", \"MilkTypeEn\": \"Cow\", \"MilkTreatmentTypeEn\": \"Raw Milk\", \"FatLevel\": \"higher fat\"}, {\"ManufacturerProvCode\": \"BC\", \"ManufacturingTypeEn\": \"Farmstead\", \"MoisturePercent\": 38.0, \"Organic\": 1, \"CategoryTypeEn\": \"Firm Cheese\", \"MilkTypeEn\": \"Cow\", \"MilkTreatmentTypeEn\": \"Raw Milk\", \"FatLevel\": \"higher fat\"}, {\"ManufacturerProvCode\": \"QC\", \"ManufacturingTypeEn\": \"Industrial\", \"MoisturePercent\": 54.0, \"Organic\": 0, \"CategoryTypeEn\": \"Soft Cheese\", \"MilkTypeEn\": \"Goat\", \"MilkTreatmentTypeEn\": \"Pasteurized\", \"FatLevel\": \"lower fat\"}, {\"ManufacturerProvCode\": \"QC\", \"ManufacturingTypeEn\": \"Industrial\", \"MoisturePercent\": 52.0, \"Organic\": 0, \"CategoryTypeEn\": \"Soft Cheese\", \"MilkTypeEn\": \"Goat\", \"MilkTreatmentTypeEn\": \"Pasteurized\", \"FatLevel\": \"lower fat\"}, {\"ManufacturerProvCode\": \"QC\", \"ManufacturingTypeEn\": \"Artisan\", \"MoisturePercent\": 36.0, \"Organic\": 0, \"CategoryTypeEn\": \"Firm Cheese\", \"MilkTypeEn\": \"Ewe and Goat\", \"MilkTreatmentTypeEn\": \"Pasteurized\", \"FatLevel\": \"higher fat\"}, {\"ManufacturerProvCode\": \"ON\", \"ManufacturingTypeEn\": \"Industrial\", \"MoisturePercent\": 38.0, \"Organic\": 0, \"CategoryTypeEn\": \"Firm Cheese\", \"MilkTypeEn\": \"Goat\", \"MilkTreatmentTypeEn\": \"Pasteurized\", \"FatLevel\": \"lower fat\"}, {\"ManufacturerProvCode\": \"QC\", \"ManufacturingTypeEn\": \"Industrial\", \"MoisturePercent\": 48.0, \"Organic\": 0, \"CategoryTypeEn\": \"Soft Cheese\", \"MilkTypeEn\": \"Cow\", \"MilkTreatmentTypeEn\": \"Pasteurized\", \"FatLevel\": \"higher fat\"}, {\"ManufacturerProvCode\": \"BC\", \"ManufacturingTypeEn\": \"Artisan\", \"MoisturePercent\": 43.0, \"Organic\": 0, \"CategoryTypeEn\": \"Firm Cheese\", \"MilkTypeEn\": \"Cow\", \"MilkTreatmentTypeEn\": null, \"FatLevel\": \"higher fat\"}, {\"ManufacturerProvCode\": \"NB\", \"ManufacturingTypeEn\": \"Farmstead\", \"MoisturePercent\": 47.0, \"Organic\": 0, \"CategoryTypeEn\": \"Veined Cheeses\", \"MilkTypeEn\": \"Cow\", \"MilkTreatmentTypeEn\": \"Raw Milk\", \"FatLevel\": \"lower fat\"}, {\"ManufacturerProvCode\": \"QC\", \"ManufacturingTypeEn\": \"Industrial\", \"MoisturePercent\": 50.0, \"Organic\": 0, \"CategoryTypeEn\": \"Semi-soft Cheese\", \"MilkTypeEn\": \"Cow\", \"MilkTreatmentTypeEn\": \"Pasteurized\", \"FatLevel\": \"lower fat\"}, {\"ManufacturerProvCode\": \"QC\", \"ManufacturingTypeEn\": \"Artisan\", \"MoisturePercent\": 29.0, \"Organic\": 1, \"CategoryTypeEn\": \"Firm Cheese\", \"MilkTypeEn\": \"Cow\", \"MilkTreatmentTypeEn\": \"Raw Milk\", \"FatLevel\": \"higher fat\"}, {\"ManufacturerProvCode\": \"QC\", \"ManufacturingTypeEn\": \"Artisan\", \"MoisturePercent\": 40.0, \"Organic\": 0, \"CategoryTypeEn\": \"Firm Cheese\", \"MilkTypeEn\": \"Cow\", \"MilkTreatmentTypeEn\": \"Pasteurized\", \"FatLevel\": \"lower fat\"}, {\"ManufacturerProvCode\": \"QC\", \"ManufacturingTypeEn\": \"Artisan\", \"MoisturePercent\": 48.0, \"Organic\": 0, \"CategoryTypeEn\": \"Semi-soft Cheese\", \"MilkTypeEn\": \"Cow\", \"MilkTreatmentTypeEn\": \"Pasteurized\", \"FatLevel\": \"lower fat\"}, {\"ManufacturerProvCode\": \"QC\", \"ManufacturingTypeEn\": \"Industrial\", \"MoisturePercent\": 52.0, \"Organic\": 0, \"CategoryTypeEn\": \"Semi-soft Cheese\", \"MilkTypeEn\": \"Cow\", \"MilkTreatmentTypeEn\": \"Pasteurized\", \"FatLevel\": \"lower fat\"}, {\"ManufacturerProvCode\": \"ON\", \"ManufacturingTypeEn\": \"Industrial\", \"MoisturePercent\": 37.0, \"Organic\": 0, \"CategoryTypeEn\": \"Firm Cheese\", \"MilkTypeEn\": \"Cow\", \"MilkTreatmentTypeEn\": \"Pasteurized\", \"FatLevel\": \"higher fat\"}, {\"ManufacturerProvCode\": \"BC\", \"ManufacturingTypeEn\": \"Artisan\", \"MoisturePercent\": 47.0, \"Organic\": 0, \"CategoryTypeEn\": \"Soft Cheese\", \"MilkTypeEn\": \"Cow\", \"MilkTreatmentTypeEn\": \"Pasteurized\", \"FatLevel\": \"lower fat\"}, {\"ManufacturerProvCode\": \"QC\", \"ManufacturingTypeEn\": \"Artisan\", \"MoisturePercent\": 39.0, \"Organic\": 0, \"CategoryTypeEn\": \"Firm Cheese\", \"MilkTypeEn\": \"Cow\", \"MilkTreatmentTypeEn\": \"Thermised\", \"FatLevel\": \"higher fat\"}, {\"ManufacturerProvCode\": \"QC\", \"ManufacturingTypeEn\": \"Industrial\", \"MoisturePercent\": 45.0, \"Organic\": 0, \"CategoryTypeEn\": \"Soft Cheese\", \"MilkTypeEn\": \"Cow\", \"MilkTreatmentTypeEn\": \"Pasteurized\", \"FatLevel\": \"higher fat\"}, {\"ManufacturerProvCode\": \"NB\", \"ManufacturingTypeEn\": \"Farmstead\", \"MoisturePercent\": 50.0, \"Organic\": 0, \"CategoryTypeEn\": \"Soft Cheese\", \"MilkTypeEn\": \"Goat\", \"MilkTreatmentTypeEn\": \"Pasteurized\", \"FatLevel\": \"lower fat\"}, {\"ManufacturerProvCode\": \"MB\", \"ManufacturingTypeEn\": \"Farmstead\", \"MoisturePercent\": 40.0, \"Organic\": 0, \"CategoryTypeEn\": \"Firm Cheese\", \"MilkTypeEn\": \"Cow\", \"MilkTreatmentTypeEn\": \"Pasteurized\", \"FatLevel\": \"lower fat\"}, {\"ManufacturerProvCode\": \"QC\", \"ManufacturingTypeEn\": \"Artisan\", \"MoisturePercent\": 43.0, \"Organic\": 0, \"CategoryTypeEn\": \"Firm Cheese\", \"MilkTypeEn\": \"Goat\", \"MilkTreatmentTypeEn\": \"Pasteurized\", \"FatLevel\": \"lower fat\"}, {\"ManufacturerProvCode\": \"BC\", \"ManufacturingTypeEn\": \"Farmstead\", \"MoisturePercent\": 55.0, \"Organic\": 0, \"CategoryTypeEn\": \"Semi-soft Cheese\", \"MilkTypeEn\": \"Goat\", \"MilkTreatmentTypeEn\": \"Pasteurized\", \"FatLevel\": \"lower fat\"}, {\"ManufacturerProvCode\": \"QC\", \"ManufacturingTypeEn\": \"Industrial\", \"MoisturePercent\": 55.0, \"Organic\": 0, \"CategoryTypeEn\": \"Fresh Cheese\", \"MilkTypeEn\": \"Goat\", \"MilkTreatmentTypeEn\": \"Pasteurized\", \"FatLevel\": \"lower fat\"}, {\"ManufacturerProvCode\": \"ON\", \"ManufacturingTypeEn\": \"Artisan\", \"MoisturePercent\": 42.0, \"Organic\": 0, \"CategoryTypeEn\": \"Hard Cheese\", \"MilkTypeEn\": \"Goat\", \"MilkTreatmentTypeEn\": \"Pasteurized\", \"FatLevel\": \"lower fat\"}, {\"ManufacturerProvCode\": \"BC\", \"ManufacturingTypeEn\": \"Artisan\", \"MoisturePercent\": 40.0, \"Organic\": 0, \"CategoryTypeEn\": \"Firm Cheese\", \"MilkTypeEn\": \"Goat\", \"MilkTreatmentTypeEn\": \"Thermised\", \"FatLevel\": \"lower fat\"}, {\"ManufacturerProvCode\": \"QC\", \"ManufacturingTypeEn\": \"Artisan\", \"MoisturePercent\": 52.0, \"Organic\": 0, \"CategoryTypeEn\": \"Semi-soft Cheese\", \"MilkTypeEn\": \"Cow\", \"MilkTreatmentTypeEn\": \"Pasteurized\", \"FatLevel\": \"lower fat\"}, {\"ManufacturerProvCode\": \"QC\", \"ManufacturingTypeEn\": \"Artisan\", \"MoisturePercent\": 50.0, \"Organic\": 0, \"CategoryTypeEn\": \"Soft Cheese\", \"MilkTypeEn\": \"Cow\", \"MilkTreatmentTypeEn\": \"Pasteurized\", \"FatLevel\": \"lower fat\"}, {\"ManufacturerProvCode\": \"QC\", \"ManufacturingTypeEn\": \"Artisan\", \"MoisturePercent\": 48.0, \"Organic\": 0, \"CategoryTypeEn\": \"Semi-soft Cheese\", \"MilkTypeEn\": \"Goat\", \"MilkTreatmentTypeEn\": \"Pasteurized\", \"FatLevel\": \"lower fat\"}, {\"ManufacturerProvCode\": \"QC\", \"ManufacturingTypeEn\": \"Artisan\", \"MoisturePercent\": 56.0, \"Organic\": 0, \"CategoryTypeEn\": \"Fresh Cheese\", \"MilkTypeEn\": \"Cow\", \"MilkTreatmentTypeEn\": \"Raw Milk\", \"FatLevel\": \"lower fat\"}, {\"ManufacturerProvCode\": \"QC\", \"ManufacturingTypeEn\": \"Industrial\", \"MoisturePercent\": 76.0, \"Organic\": 0, \"CategoryTypeEn\": \"Soft Cheese\", \"MilkTypeEn\": \"Cow\", \"MilkTreatmentTypeEn\": \"Pasteurized\", \"FatLevel\": \"lower fat\"}, {\"ManufacturerProvCode\": \"QC\", \"ManufacturingTypeEn\": \"Industrial\", \"MoisturePercent\": 20.0, \"Organic\": 0, \"CategoryTypeEn\": \"Soft Cheese\", \"MilkTypeEn\": \"Cow\", \"MilkTreatmentTypeEn\": \"Pasteurized\", \"FatLevel\": \"higher fat\"}, {\"ManufacturerProvCode\": \"QC\", \"ManufacturingTypeEn\": \"Industrial\", \"MoisturePercent\": 50.0, \"Organic\": 0, \"CategoryTypeEn\": \"Soft Cheese\", \"MilkTypeEn\": \"Cow\", \"MilkTreatmentTypeEn\": \"Pasteurized\", \"FatLevel\": \"lower fat\"}, {\"ManufacturerProvCode\": \"QC\", \"ManufacturingTypeEn\": \"Artisan\", \"MoisturePercent\": 45.0, \"Organic\": 0, \"CategoryTypeEn\": \"Semi-soft Cheese\", \"MilkTypeEn\": \"Ewe and Cow\", \"MilkTreatmentTypeEn\": \"Thermised\", \"FatLevel\": \"lower fat\"}, {\"ManufacturerProvCode\": \"QC\", \"ManufacturingTypeEn\": \"Artisan\", \"MoisturePercent\": 48.0, \"Organic\": 1, \"CategoryTypeEn\": \"Veined Cheeses\", \"MilkTypeEn\": \"Cow\", \"MilkTreatmentTypeEn\": \"Pasteurized\", \"FatLevel\": \"lower fat\"}, {\"ManufacturerProvCode\": \"QC\", \"ManufacturingTypeEn\": \"Industrial\", \"MoisturePercent\": 42.0, \"Organic\": 0, \"CategoryTypeEn\": \"Firm Cheese\", \"MilkTypeEn\": \"Cow\", \"MilkTreatmentTypeEn\": \"Pasteurized\", \"FatLevel\": \"lower fat\"}, {\"ManufacturerProvCode\": \"QC\", \"ManufacturingTypeEn\": \"Artisan\", \"MoisturePercent\": 45.0, \"Organic\": 1, \"CategoryTypeEn\": \"Semi-soft Cheese\", \"MilkTypeEn\": \"Cow\", \"MilkTreatmentTypeEn\": \"Raw Milk\", \"FatLevel\": \"lower fat\"}, {\"ManufacturerProvCode\": \"QC\", \"ManufacturingTypeEn\": \"Industrial\", \"MoisturePercent\": 55.0, \"Organic\": 0, \"CategoryTypeEn\": \"Semi-soft Cheese\", \"MilkTypeEn\": \"Cow\", \"MilkTreatmentTypeEn\": \"Pasteurized\", \"FatLevel\": \"lower fat\"}, {\"ManufacturerProvCode\": \"ON\", \"ManufacturingTypeEn\": \"Industrial\", \"MoisturePercent\": 32.0, \"Organic\": 0, \"CategoryTypeEn\": \"Firm Cheese\", \"MilkTypeEn\": \"Cow\", \"MilkTreatmentTypeEn\": \"Pasteurized\", \"FatLevel\": \"lower fat\"}, {\"ManufacturerProvCode\": \"QC\", \"ManufacturingTypeEn\": \"Farmstead\", \"MoisturePercent\": 39.0, \"Organic\": 1, \"CategoryTypeEn\": \"Hard Cheese\", \"MilkTypeEn\": \"Cow\", \"MilkTreatmentTypeEn\": null, \"FatLevel\": \"higher fat\"}, {\"ManufacturerProvCode\": \"NB\", \"ManufacturingTypeEn\": \"Farmstead\", \"MoisturePercent\": 50.0, \"Organic\": 0, \"CategoryTypeEn\": \"Soft Cheese\", \"MilkTypeEn\": \"Goat\", \"MilkTreatmentTypeEn\": \"Pasteurized\", \"FatLevel\": \"lower fat\"}, {\"ManufacturerProvCode\": \"QC\", \"ManufacturingTypeEn\": \"Farmstead\", \"MoisturePercent\": 43.0, \"Organic\": 1, \"CategoryTypeEn\": \"Hard Cheese\", \"MilkTypeEn\": \"Cow\", \"MilkTreatmentTypeEn\": null, \"FatLevel\": \"lower fat\"}, {\"ManufacturerProvCode\": \"QC\", \"ManufacturingTypeEn\": \"Industrial\", \"MoisturePercent\": 43.0, \"Organic\": 0, \"CategoryTypeEn\": \"Firm Cheese\", \"MilkTypeEn\": \"Cow\", \"MilkTreatmentTypeEn\": \"Pasteurized\", \"FatLevel\": \"lower fat\"}, {\"ManufacturerProvCode\": \"QC\", \"ManufacturingTypeEn\": \"Industrial\", \"MoisturePercent\": 48.0, \"Organic\": 0, \"CategoryTypeEn\": \"Soft Cheese\", \"MilkTypeEn\": \"Cow\", \"MilkTreatmentTypeEn\": \"Pasteurized\", \"FatLevel\": \"higher fat\"}, {\"ManufacturerProvCode\": \"QC\", \"ManufacturingTypeEn\": \"Industrial\", \"MoisturePercent\": 46.0, \"Organic\": 0, \"CategoryTypeEn\": \"Semi-soft Cheese\", \"MilkTypeEn\": \"Cow\", \"MilkTreatmentTypeEn\": \"Raw Milk\", \"FatLevel\": \"lower fat\"}, {\"ManufacturerProvCode\": \"QC\", \"ManufacturingTypeEn\": \"Artisan\", \"MoisturePercent\": 64.0, \"Organic\": 0, \"CategoryTypeEn\": \"Fresh Cheese\", \"MilkTypeEn\": \"Ewe\", \"MilkTreatmentTypeEn\": \"Pasteurized\", \"FatLevel\": \"lower fat\"}, {\"ManufacturerProvCode\": \"QC\", \"ManufacturingTypeEn\": \"Farmstead\", \"MoisturePercent\": 44.0, \"Organic\": 0, \"CategoryTypeEn\": \"Semi-soft Cheese\", \"MilkTypeEn\": \"Cow\", \"MilkTreatmentTypeEn\": \"Raw Milk\", \"FatLevel\": \"higher fat\"}, {\"ManufacturerProvCode\": \"QC\", \"ManufacturingTypeEn\": \"Farmstead\", \"MoisturePercent\": 70.0, \"Organic\": 0, \"CategoryTypeEn\": \"Fresh Cheese\", \"MilkTypeEn\": \"Goat\", \"MilkTreatmentTypeEn\": \"Pasteurized\", \"FatLevel\": \"lower fat\"}, {\"ManufacturerProvCode\": \"QC\", \"ManufacturingTypeEn\": \"Farmstead\", \"MoisturePercent\": 45.0, \"Organic\": 0, \"CategoryTypeEn\": \"Semi-soft Cheese\", \"MilkTypeEn\": \"Cow\", \"MilkTreatmentTypeEn\": \"Pasteurized\", \"FatLevel\": \"lower fat\"}, {\"ManufacturerProvCode\": \"QC\", \"ManufacturingTypeEn\": \"Artisan\", \"MoisturePercent\": 65.0, \"Organic\": 0, \"CategoryTypeEn\": \"Fresh Cheese\", \"MilkTypeEn\": \"Goat\", \"MilkTreatmentTypeEn\": \"Pasteurized\", \"FatLevel\": \"lower fat\"}, {\"ManufacturerProvCode\": \"QC\", \"ManufacturingTypeEn\": \"Industrial\", \"MoisturePercent\": 43.0, \"Organic\": 0, \"CategoryTypeEn\": \"Firm Cheese\", \"MilkTypeEn\": \"Cow\", \"MilkTreatmentTypeEn\": \"Pasteurized\", \"FatLevel\": \"lower fat\"}, {\"ManufacturerProvCode\": \"QC\", \"ManufacturingTypeEn\": \"Industrial\", \"MoisturePercent\": 52.0, \"Organic\": 0, \"CategoryTypeEn\": \"Soft Cheese\", \"MilkTypeEn\": \"Goat\", \"MilkTreatmentTypeEn\": \"Pasteurized\", \"FatLevel\": \"lower fat\"}, {\"ManufacturerProvCode\": \"QC\", \"ManufacturingTypeEn\": \"Farmstead\", \"MoisturePercent\": 41.0, \"Organic\": 0, \"CategoryTypeEn\": \"Firm Cheese\", \"MilkTypeEn\": \"Cow\", \"MilkTreatmentTypeEn\": \"Pasteurized\", \"FatLevel\": \"lower fat\"}, {\"ManufacturerProvCode\": \"QC\", \"ManufacturingTypeEn\": \"Farmstead\", \"MoisturePercent\": 52.0, \"Organic\": 0, \"CategoryTypeEn\": \"Soft Cheese\", \"MilkTypeEn\": \"Cow\", \"MilkTreatmentTypeEn\": \"Pasteurized\", \"FatLevel\": \"higher fat\"}, {\"ManufacturerProvCode\": \"BC\", \"ManufacturingTypeEn\": \"Farmstead\", \"MoisturePercent\": 35.0, \"Organic\": 1, \"CategoryTypeEn\": \"Firm Cheese\", \"MilkTypeEn\": \"Cow\", \"MilkTreatmentTypeEn\": \"Raw Milk\", \"FatLevel\": \"higher fat\"}, {\"ManufacturerProvCode\": \"QC\", \"ManufacturingTypeEn\": \"Farmstead\", \"MoisturePercent\": 45.0, \"Organic\": 0, \"CategoryTypeEn\": \"Semi-soft Cheese\", \"MilkTypeEn\": \"Cow\", \"MilkTreatmentTypeEn\": \"Thermised\", \"FatLevel\": \"higher fat\"}, {\"ManufacturerProvCode\": \"QC\", \"ManufacturingTypeEn\": \"Industrial\", \"MoisturePercent\": 39.0, \"Organic\": 0, \"CategoryTypeEn\": \"Firm Cheese\", \"MilkTypeEn\": \"Cow\", \"MilkTreatmentTypeEn\": \"Pasteurized\", \"FatLevel\": \"higher fat\"}, {\"ManufacturerProvCode\": \"QC\", \"ManufacturingTypeEn\": \"Artisan\", \"MoisturePercent\": 44.0, \"Organic\": 0, \"CategoryTypeEn\": \"Semi-soft Cheese\", \"MilkTypeEn\": \"Cow\", \"MilkTreatmentTypeEn\": \"Pasteurized\", \"FatLevel\": \"lower fat\"}, {\"ManufacturerProvCode\": \"BC\", \"ManufacturingTypeEn\": \"Farmstead\", \"MoisturePercent\": 40.3, \"Organic\": 1, \"CategoryTypeEn\": \"Soft Cheese\", \"MilkTypeEn\": \"Cow\", \"MilkTreatmentTypeEn\": \"Pasteurized\", \"FatLevel\": \"lower fat\"}, {\"ManufacturerProvCode\": \"QC\", \"ManufacturingTypeEn\": \"Industrial\", \"MoisturePercent\": 42.0, \"Organic\": 0, \"CategoryTypeEn\": \"Semi-soft Cheese\", \"MilkTypeEn\": \"Cow\", \"MilkTreatmentTypeEn\": \"Pasteurized\", \"FatLevel\": \"lower fat\"}, {\"ManufacturerProvCode\": \"QC\", \"ManufacturingTypeEn\": \"Artisan\", \"MoisturePercent\": 70.0, \"Organic\": 0, \"CategoryTypeEn\": \"Fresh Cheese\", \"MilkTypeEn\": \"Cow\", \"MilkTreatmentTypeEn\": \"Pasteurized\", \"FatLevel\": \"lower fat\"}, {\"ManufacturerProvCode\": \"QC\", \"ManufacturingTypeEn\": \"Industrial\", \"MoisturePercent\": 47.0, \"Organic\": 0, \"CategoryTypeEn\": \"Semi-soft Cheese\", \"MilkTypeEn\": \"Cow\", \"MilkTreatmentTypeEn\": \"Pasteurized\", \"FatLevel\": \"lower fat\"}, {\"ManufacturerProvCode\": \"QC\", \"ManufacturingTypeEn\": \"Industrial\", \"MoisturePercent\": 45.0, \"Organic\": 0, \"CategoryTypeEn\": \"Veined Cheeses\", \"MilkTypeEn\": \"Cow\", \"MilkTreatmentTypeEn\": \"Raw Milk\", \"FatLevel\": \"higher fat\"}, {\"ManufacturerProvCode\": \"QC\", \"ManufacturingTypeEn\": \"Industrial\", \"MoisturePercent\": 88.0, \"Organic\": 0, \"CategoryTypeEn\": \"Soft Cheese\", \"MilkTypeEn\": \"Cow\", \"MilkTreatmentTypeEn\": \"Pasteurized\", \"FatLevel\": \"lower fat\"}, {\"ManufacturerProvCode\": \"QC\", \"ManufacturingTypeEn\": \"Farmstead\", \"MoisturePercent\": 46.0, \"Organic\": 0, \"CategoryTypeEn\": \"Semi-soft Cheese\", \"MilkTypeEn\": \"Cow\", \"MilkTreatmentTypeEn\": \"Thermised\", \"FatLevel\": \"lower fat\"}, {\"ManufacturerProvCode\": \"QC\", \"ManufacturingTypeEn\": \"Industrial\", \"MoisturePercent\": 43.0, \"Organic\": 0, \"CategoryTypeEn\": \"Semi-soft Cheese\", \"MilkTypeEn\": \"Goat\", \"MilkTreatmentTypeEn\": \"Pasteurized\", \"FatLevel\": \"lower fat\"}, {\"ManufacturerProvCode\": \"ON\", \"ManufacturingTypeEn\": \"Industrial\", \"MoisturePercent\": 46.0, \"Organic\": 0, \"CategoryTypeEn\": \"Soft Cheese\", \"MilkTypeEn\": \"Cow\", \"MilkTreatmentTypeEn\": null, \"FatLevel\": \"lower fat\"}, {\"ManufacturerProvCode\": \"NS\", \"ManufacturingTypeEn\": \"Artisan\", \"MoisturePercent\": 34.0, \"Organic\": 0, \"CategoryTypeEn\": \"Semi-soft Cheese\", \"MilkTypeEn\": \"Ewe\", \"MilkTreatmentTypeEn\": \"Thermised\", \"FatLevel\": \"higher fat\"}, {\"ManufacturerProvCode\": \"QC\", \"ManufacturingTypeEn\": \"Artisan\", \"MoisturePercent\": 45.0, \"Organic\": 0, \"CategoryTypeEn\": \"Semi-soft Cheese\", \"MilkTypeEn\": \"Cow\", \"MilkTreatmentTypeEn\": \"Pasteurized\", \"FatLevel\": \"higher fat\"}, {\"ManufacturerProvCode\": \"QC\", \"ManufacturingTypeEn\": \"Industrial\", \"MoisturePercent\": 39.0, \"Organic\": 0, \"CategoryTypeEn\": \"Firm Cheese\", \"MilkTypeEn\": \"Cow\", \"MilkTreatmentTypeEn\": \"Pasteurized\", \"FatLevel\": \"higher fat\"}, {\"ManufacturerProvCode\": \"QC\", \"ManufacturingTypeEn\": \"Artisan\", \"MoisturePercent\": 40.0, \"Organic\": 0, \"CategoryTypeEn\": \"Firm Cheese\", \"MilkTypeEn\": \"Goat\", \"MilkTreatmentTypeEn\": \"Pasteurized\", \"FatLevel\": \"lower fat\"}, {\"ManufacturerProvCode\": \"QC\", \"ManufacturingTypeEn\": \"Industrial\", \"MoisturePercent\": 39.0, \"Organic\": 0, \"CategoryTypeEn\": \"Firm Cheese\", \"MilkTypeEn\": \"Cow\", \"MilkTreatmentTypeEn\": \"Pasteurized\", \"FatLevel\": \"higher fat\"}, {\"ManufacturerProvCode\": \"QC\", \"ManufacturingTypeEn\": \"Farmstead\", \"MoisturePercent\": 48.0, \"Organic\": 0, \"CategoryTypeEn\": \"Semi-soft Cheese\", \"MilkTypeEn\": \"Goat\", \"MilkTreatmentTypeEn\": \"Raw Milk\", \"FatLevel\": \"lower fat\"}, {\"ManufacturerProvCode\": \"QC\", \"ManufacturingTypeEn\": \"Industrial\", \"MoisturePercent\": 50.0, \"Organic\": 0, \"CategoryTypeEn\": \"Soft Cheese\", \"MilkTypeEn\": \"Cow\", \"MilkTreatmentTypeEn\": \"Pasteurized\", \"FatLevel\": \"higher fat\"}, {\"ManufacturerProvCode\": \"QC\", \"ManufacturingTypeEn\": \"Artisan\", \"MoisturePercent\": 45.0, \"Organic\": 0, \"CategoryTypeEn\": \"Firm Cheese\", \"MilkTypeEn\": \"Cow\", \"MilkTreatmentTypeEn\": \"Raw Milk\", \"FatLevel\": \"lower fat\"}, {\"ManufacturerProvCode\": \"QC\", \"ManufacturingTypeEn\": \"Farmstead\", \"MoisturePercent\": 59.0, \"Organic\": 0, \"CategoryTypeEn\": \"Semi-soft Cheese\", \"MilkTypeEn\": \"Goat\", \"MilkTreatmentTypeEn\": \"Pasteurized\", \"FatLevel\": \"lower fat\"}, {\"ManufacturerProvCode\": \"QC\", \"ManufacturingTypeEn\": \"Artisan\", \"MoisturePercent\": 58.0, \"Organic\": 0, \"CategoryTypeEn\": \"Soft Cheese\", \"MilkTypeEn\": \"Goat\", \"MilkTreatmentTypeEn\": \"Pasteurized\", \"FatLevel\": \"lower fat\"}, {\"ManufacturerProvCode\": \"QC\", \"ManufacturingTypeEn\": \"Farmstead\", \"MoisturePercent\": 39.0, \"Organic\": 0, \"CategoryTypeEn\": \"Firm Cheese\", \"MilkTypeEn\": \"Cow\", \"MilkTreatmentTypeEn\": \"Pasteurized\", \"FatLevel\": \"higher fat\"}, {\"ManufacturerProvCode\": \"QC\", \"ManufacturingTypeEn\": \"Industrial\", \"MoisturePercent\": 43.0, \"Organic\": 0, \"CategoryTypeEn\": \"Firm Cheese\", \"MilkTypeEn\": \"Cow\", \"MilkTreatmentTypeEn\": \"Pasteurized\", \"FatLevel\": \"lower fat\"}, {\"ManufacturerProvCode\": \"QC\", \"ManufacturingTypeEn\": \"Farmstead\", \"MoisturePercent\": 46.0, \"Organic\": 0, \"CategoryTypeEn\": \"Semi-soft Cheese\", \"MilkTypeEn\": \"Cow\", \"MilkTreatmentTypeEn\": \"Pasteurized\", \"FatLevel\": \"lower fat\"}, {\"ManufacturerProvCode\": \"QC\", \"ManufacturingTypeEn\": \"Farmstead\", \"MoisturePercent\": 46.0, \"Organic\": 0, \"CategoryTypeEn\": \"Semi-soft Cheese\", \"MilkTypeEn\": \"Cow\", \"MilkTreatmentTypeEn\": \"Pasteurized\", \"FatLevel\": \"lower fat\"}, {\"ManufacturerProvCode\": \"QC\", \"ManufacturingTypeEn\": \"Industrial\", \"MoisturePercent\": 39.0, \"Organic\": 0, \"CategoryTypeEn\": \"Firm Cheese\", \"MilkTypeEn\": \"Cow\", \"MilkTreatmentTypeEn\": \"Pasteurized\", \"FatLevel\": \"higher fat\"}, {\"ManufacturerProvCode\": \"ON\", \"ManufacturingTypeEn\": \"Industrial\", \"MoisturePercent\": 31.0, \"Organic\": 0, \"CategoryTypeEn\": \"Hard Cheese\", \"MilkTypeEn\": \"Cow\", \"MilkTreatmentTypeEn\": \"Pasteurized\", \"FatLevel\": \"higher fat\"}, {\"ManufacturerProvCode\": \"QC\", \"ManufacturingTypeEn\": \"Artisan\", \"MoisturePercent\": 44.0, \"Organic\": 0, \"CategoryTypeEn\": \"Semi-soft Cheese\", \"MilkTypeEn\": \"Cow\", \"MilkTreatmentTypeEn\": \"Pasteurized\", \"FatLevel\": \"higher fat\"}, {\"ManufacturerProvCode\": \"ON\", \"ManufacturingTypeEn\": \"Farmstead\", \"MoisturePercent\": 37.0, \"Organic\": 0, \"CategoryTypeEn\": \"Hard Cheese\", \"MilkTypeEn\": \"Goat\", \"MilkTreatmentTypeEn\": \"Pasteurized\", \"FatLevel\": \"higher fat\"}, {\"ManufacturerProvCode\": \"QC\", \"ManufacturingTypeEn\": \"Artisan\", \"MoisturePercent\": 39.0, \"Organic\": 1, \"CategoryTypeEn\": \"Firm Cheese\", \"MilkTypeEn\": \"Cow\", \"MilkTreatmentTypeEn\": \"Pasteurized\", \"FatLevel\": \"higher fat\"}, {\"ManufacturerProvCode\": \"ON\", \"ManufacturingTypeEn\": \"Farmstead\", \"MoisturePercent\": 50.0, \"Organic\": 0, \"CategoryTypeEn\": \"Fresh Cheese\", \"MilkTypeEn\": \"Ewe\", \"MilkTreatmentTypeEn\": \"Pasteurized\", \"FatLevel\": \"lower fat\"}, {\"ManufacturerProvCode\": \"QC\", \"ManufacturingTypeEn\": \"Farmstead\", \"MoisturePercent\": 48.0, \"Organic\": 0, \"CategoryTypeEn\": \"Veined Cheeses\", \"MilkTypeEn\": \"Ewe\", \"MilkTreatmentTypeEn\": \"Pasteurized\", \"FatLevel\": \"lower fat\"}, {\"ManufacturerProvCode\": \"QC\", \"ManufacturingTypeEn\": \"Artisan\", \"MoisturePercent\": 45.0, \"Organic\": 0, \"CategoryTypeEn\": \"Semi-soft Cheese\", \"MilkTypeEn\": \"Cow\", \"MilkTreatmentTypeEn\": \"Thermised\", \"FatLevel\": \"higher fat\"}, {\"ManufacturerProvCode\": \"QC\", \"ManufacturingTypeEn\": \"Artisan\", \"MoisturePercent\": 39.0, \"Organic\": 0, \"CategoryTypeEn\": \"Firm Cheese\", \"MilkTypeEn\": \"Ewe\", \"MilkTreatmentTypeEn\": \"Thermised\", \"FatLevel\": \"higher fat\"}, {\"ManufacturerProvCode\": \"NS\", \"ManufacturingTypeEn\": \"Industrial\", \"MoisturePercent\": 44.0, \"Organic\": 0, \"CategoryTypeEn\": \"Semi-soft Cheese\", \"MilkTypeEn\": \"Cow\", \"MilkTreatmentTypeEn\": \"Pasteurized\", \"FatLevel\": \"lower fat\"}, {\"ManufacturerProvCode\": \"QC\", \"ManufacturingTypeEn\": \"Industrial\", \"MoisturePercent\": 54.0, \"Organic\": 0, \"CategoryTypeEn\": \"Soft Cheese\", \"MilkTypeEn\": \"Cow\", \"MilkTreatmentTypeEn\": \"Pasteurized\", \"FatLevel\": \"lower fat\"}, {\"ManufacturerProvCode\": \"ON\", \"ManufacturingTypeEn\": \"Industrial\", \"MoisturePercent\": 54.0, \"Organic\": 0, \"CategoryTypeEn\": \"Firm Cheese\", \"MilkTypeEn\": \"Cow\", \"MilkTreatmentTypeEn\": \"Pasteurized\", \"FatLevel\": \"lower fat\"}, {\"ManufacturerProvCode\": \"QC\", \"ManufacturingTypeEn\": \"Farmstead\", \"MoisturePercent\": 46.0, \"Organic\": 0, \"CategoryTypeEn\": \"Semi-soft Cheese\", \"MilkTypeEn\": \"Cow\", \"MilkTreatmentTypeEn\": \"Pasteurized\", \"FatLevel\": \"lower fat\"}, {\"ManufacturerProvCode\": \"QC\", \"ManufacturingTypeEn\": \"Industrial\", \"MoisturePercent\": 41.0, \"Organic\": 0, \"CategoryTypeEn\": \"Firm Cheese\", \"MilkTypeEn\": \"Cow\", \"MilkTreatmentTypeEn\": \"Pasteurized\", \"FatLevel\": \"higher fat\"}, {\"ManufacturerProvCode\": \"QC\", \"ManufacturingTypeEn\": \"Industrial\", \"MoisturePercent\": 50.0, \"Organic\": 0, \"CategoryTypeEn\": \"Soft Cheese\", \"MilkTypeEn\": \"Cow\", \"MilkTreatmentTypeEn\": \"Pasteurized\", \"FatLevel\": \"lower fat\"}, {\"ManufacturerProvCode\": \"QC\", \"ManufacturingTypeEn\": \"Artisan\", \"MoisturePercent\": 50.0, \"Organic\": 0, \"CategoryTypeEn\": \"Semi-soft Cheese\", \"MilkTypeEn\": \"Cow and Goat\", \"MilkTreatmentTypeEn\": null, \"FatLevel\": \"lower fat\"}, {\"ManufacturerProvCode\": \"ON\", \"ManufacturingTypeEn\": \"Industrial\", \"MoisturePercent\": 27.0, \"Organic\": 0, \"CategoryTypeEn\": \"Soft Cheese\", \"MilkTypeEn\": \"Cow\", \"MilkTreatmentTypeEn\": \"Pasteurized\", \"FatLevel\": \"higher fat\"}, {\"ManufacturerProvCode\": \"QC\", \"ManufacturingTypeEn\": \"Artisan\", \"MoisturePercent\": 33.0, \"Organic\": 0, \"CategoryTypeEn\": \"Firm Cheese\", \"MilkTypeEn\": \"Goat\", \"MilkTreatmentTypeEn\": \"Pasteurized\", \"FatLevel\": \"higher fat\"}, {\"ManufacturerProvCode\": \"NB\", \"ManufacturingTypeEn\": \"Farmstead\", \"MoisturePercent\": 50.0, \"Organic\": 0, \"CategoryTypeEn\": \"Soft Cheese\", \"MilkTypeEn\": \"Goat\", \"MilkTreatmentTypeEn\": \"Pasteurized\", \"FatLevel\": \"lower fat\"}, {\"ManufacturerProvCode\": \"BC\", \"ManufacturingTypeEn\": \"Artisan\", \"MoisturePercent\": 41.0, \"Organic\": 0, \"CategoryTypeEn\": \"Firm Cheese\", \"MilkTypeEn\": \"Cow\", \"MilkTreatmentTypeEn\": \"Pasteurized\", \"FatLevel\": \"higher fat\"}, {\"ManufacturerProvCode\": \"BC\", \"ManufacturingTypeEn\": \"Artisan\", \"MoisturePercent\": 32.0, \"Organic\": 0, \"CategoryTypeEn\": \"Hard Cheese\", \"MilkTypeEn\": \"Cow\", \"MilkTreatmentTypeEn\": \"Thermised\", \"FatLevel\": \"lower fat\"}, {\"ManufacturerProvCode\": \"QC\", \"ManufacturingTypeEn\": \"Artisan\", \"MoisturePercent\": 44.0, \"Organic\": 0, \"CategoryTypeEn\": \"Soft Cheese\", \"MilkTypeEn\": \"Cow\", \"MilkTreatmentTypeEn\": \"Raw Milk\", \"FatLevel\": \"lower fat\"}, {\"ManufacturerProvCode\": \"ON\", \"ManufacturingTypeEn\": \"Industrial\", \"MoisturePercent\": 52.0, \"Organic\": 0, \"CategoryTypeEn\": \"Soft Cheese\", \"MilkTypeEn\": \"Cow\", \"MilkTreatmentTypeEn\": \"Pasteurized\", \"FatLevel\": \"lower fat\"}, {\"ManufacturerProvCode\": \"ON\", \"ManufacturingTypeEn\": \"Industrial\", \"MoisturePercent\": 74.0, \"Organic\": 0, \"CategoryTypeEn\": \"Fresh Cheese\", \"MilkTypeEn\": \"Cow\", \"MilkTreatmentTypeEn\": \"Pasteurized\", \"FatLevel\": \"lower fat\"}, {\"ManufacturerProvCode\": \"ON\", \"ManufacturingTypeEn\": \"Industrial\", \"MoisturePercent\": 40.0, \"Organic\": 0, \"CategoryTypeEn\": \"Semi-soft Cheese\", \"MilkTypeEn\": \"Cow\", \"MilkTreatmentTypeEn\": \"Pasteurized\", \"FatLevel\": \"higher fat\"}, {\"ManufacturerProvCode\": \"AB\", \"ManufacturingTypeEn\": \"Artisan\", \"MoisturePercent\": 31.5, \"Organic\": 0, \"CategoryTypeEn\": \"Fresh Cheese\", \"MilkTypeEn\": \"Cow\", \"MilkTreatmentTypeEn\": \"Pasteurized\", \"FatLevel\": \"higher fat\"}]}}, {\"mode\": \"vega-lite\"});\n",
       "</script>"
      ],
      "text/plain": [
       "alt.Chart(...)"
      ]
     },
     "execution_count": 6,
     "metadata": {},
     "output_type": "execute_result"
    }
   ],
   "source": [
    "# Create a bar chart to visualize the count of cheeses by category:\n",
    "\n",
    "category_chart = alt.Chart(train_df).mark_bar().encode(\n",
    "    x=alt.X('count()', title='Count'),\n",
    "    y=alt.Y('CategoryTypeEn', title='Cheese Category', sort='-x'),\n",
    "    color='CategoryTypeEn'\n",
    ").properties(\n",
    "    title='Count of Cheeses by Category'\n",
    ")\n",
    "\n",
    "category_chart"
   ]
  },
  {
   "cell_type": "code",
   "execution_count": 7,
   "id": "8416fec0",
   "metadata": {
    "execution": {
     "iopub.execute_input": "2024-10-27T07:56:37.512934Z",
     "iopub.status.busy": "2024-10-27T07:56:37.511664Z",
     "iopub.status.idle": "2024-10-27T07:56:37.579948Z",
     "shell.execute_reply": "2024-10-27T07:56:37.578768Z"
    },
    "papermill": {
     "duration": 0.096867,
     "end_time": "2024-10-27T07:56:37.586621",
     "exception": false,
     "start_time": "2024-10-27T07:56:37.489754",
     "status": "completed"
    },
    "tags": []
   },
   "outputs": [
    {
     "data": {
      "text/html": [
       "\n",
       "<style>\n",
       "  #altair-viz-a2b38b09ddfa41f892cde2d7b9a1e2bb.vega-embed {\n",
       "    width: 100%;\n",
       "    display: flex;\n",
       "  }\n",
       "\n",
       "  #altair-viz-a2b38b09ddfa41f892cde2d7b9a1e2bb.vega-embed details,\n",
       "  #altair-viz-a2b38b09ddfa41f892cde2d7b9a1e2bb.vega-embed details summary {\n",
       "    position: relative;\n",
       "  }\n",
       "</style>\n",
       "<div id=\"altair-viz-a2b38b09ddfa41f892cde2d7b9a1e2bb\"></div>\n",
       "<script type=\"text/javascript\">\n",
       "  var VEGA_DEBUG = (typeof VEGA_DEBUG == \"undefined\") ? {} : VEGA_DEBUG;\n",
       "  (function(spec, embedOpt){\n",
       "    let outputDiv = document.currentScript.previousElementSibling;\n",
       "    if (outputDiv.id !== \"altair-viz-a2b38b09ddfa41f892cde2d7b9a1e2bb\") {\n",
       "      outputDiv = document.getElementById(\"altair-viz-a2b38b09ddfa41f892cde2d7b9a1e2bb\");\n",
       "    }\n",
       "    const paths = {\n",
       "      \"vega\": \"https://cdn.jsdelivr.net/npm/vega@5?noext\",\n",
       "      \"vega-lib\": \"https://cdn.jsdelivr.net/npm/vega-lib?noext\",\n",
       "      \"vega-lite\": \"https://cdn.jsdelivr.net/npm/vega-lite@5.20.1?noext\",\n",
       "      \"vega-embed\": \"https://cdn.jsdelivr.net/npm/vega-embed@6?noext\",\n",
       "    };\n",
       "\n",
       "    function maybeLoadScript(lib, version) {\n",
       "      var key = `${lib.replace(\"-\", \"\")}_version`;\n",
       "      return (VEGA_DEBUG[key] == version) ?\n",
       "        Promise.resolve(paths[lib]) :\n",
       "        new Promise(function(resolve, reject) {\n",
       "          var s = document.createElement('script');\n",
       "          document.getElementsByTagName(\"head\")[0].appendChild(s);\n",
       "          s.async = true;\n",
       "          s.onload = () => {\n",
       "            VEGA_DEBUG[key] = version;\n",
       "            return resolve(paths[lib]);\n",
       "          };\n",
       "          s.onerror = () => reject(`Error loading script: ${paths[lib]}`);\n",
       "          s.src = paths[lib];\n",
       "        });\n",
       "    }\n",
       "\n",
       "    function showError(err) {\n",
       "      outputDiv.innerHTML = `<div class=\"error\" style=\"color:red;\">${err}</div>`;\n",
       "      throw err;\n",
       "    }\n",
       "\n",
       "    function displayChart(vegaEmbed) {\n",
       "      vegaEmbed(outputDiv, spec, embedOpt)\n",
       "        .catch(err => showError(`Javascript Error: ${err.message}<br>This usually means there's a typo in your chart specification. See the javascript console for the full traceback.`));\n",
       "    }\n",
       "\n",
       "    if(typeof define === \"function\" && define.amd) {\n",
       "      requirejs.config({paths});\n",
       "      require([\"vega-embed\"], displayChart, err => showError(`Error loading script: ${err.message}`));\n",
       "    } else {\n",
       "      maybeLoadScript(\"vega\", \"5\")\n",
       "        .then(() => maybeLoadScript(\"vega-lite\", \"5.20.1\"))\n",
       "        .then(() => maybeLoadScript(\"vega-embed\", \"6\"))\n",
       "        .catch(showError)\n",
       "        .then(() => displayChart(vegaEmbed));\n",
       "    }\n",
       "  })({\"config\": {\"view\": {\"continuousWidth\": 300, \"continuousHeight\": 300}}, \"data\": {\"name\": \"data-37f5d52a96fc30c97e965a741c58d9aa\"}, \"mark\": {\"type\": \"bar\"}, \"encoding\": {\"color\": {\"field\": \"MilkTypeEn\", \"type\": \"nominal\"}, \"x\": {\"aggregate\": \"count\", \"title\": \"Count\", \"type\": \"quantitative\"}, \"y\": {\"field\": \"MilkTypeEn\", \"sort\": \"-x\", \"title\": \"Milk Type\", \"type\": \"nominal\"}}, \"title\": \"Count of Cheeses by Milk Type\", \"$schema\": \"https://vega.github.io/schema/vega-lite/v5.20.1.json\", \"datasets\": {\"data-37f5d52a96fc30c97e965a741c58d9aa\": [{\"ManufacturerProvCode\": \"QC\", \"ManufacturingTypeEn\": \"Artisan\", \"MoisturePercent\": 48.0, \"Organic\": 0, \"CategoryTypeEn\": \"Semi-soft Cheese\", \"MilkTypeEn\": \"Cow\", \"MilkTreatmentTypeEn\": \"Pasteurized\", \"FatLevel\": \"lower fat\"}, {\"ManufacturerProvCode\": \"QC\", \"ManufacturingTypeEn\": \"Artisan\", \"MoisturePercent\": 45.0, \"Organic\": 0, \"CategoryTypeEn\": \"Veined Cheeses\", \"MilkTypeEn\": \"Cow\", \"MilkTreatmentTypeEn\": \"Pasteurized\", \"FatLevel\": \"higher fat\"}, {\"ManufacturerProvCode\": \"QC\", \"ManufacturingTypeEn\": \"Industrial\", \"MoisturePercent\": 50.0, \"Organic\": 0, \"CategoryTypeEn\": \"Soft Cheese\", \"MilkTypeEn\": \"Cow\", \"MilkTreatmentTypeEn\": \"Pasteurized\", \"FatLevel\": \"lower fat\"}, {\"ManufacturerProvCode\": \"BC\", \"ManufacturingTypeEn\": \"Artisan\", \"MoisturePercent\": 40.0, \"Organic\": 0, \"CategoryTypeEn\": \"Semi-soft Cheese\", \"MilkTypeEn\": \"Cow\", \"MilkTreatmentTypeEn\": \"Pasteurized\", \"FatLevel\": \"higher fat\"}, {\"ManufacturerProvCode\": \"QC\", \"ManufacturingTypeEn\": \"Artisan\", \"MoisturePercent\": 65.0, \"Organic\": 0, \"CategoryTypeEn\": \"Fresh Cheese\", \"MilkTypeEn\": \"Cow\", \"MilkTreatmentTypeEn\": \"Pasteurized\", \"FatLevel\": \"lower fat\"}, {\"ManufacturerProvCode\": \"BC\", \"ManufacturingTypeEn\": \"Artisan\", \"MoisturePercent\": 39.0, \"Organic\": 0, \"CategoryTypeEn\": \"Firm Cheese\", \"MilkTypeEn\": \"Cow\", \"MilkTreatmentTypeEn\": null, \"FatLevel\": \"higher fat\"}, {\"ManufacturerProvCode\": \"QC\", \"ManufacturingTypeEn\": \"Industrial\", \"MoisturePercent\": 50.0, \"Organic\": 0, \"CategoryTypeEn\": \"Soft Cheese\", \"MilkTypeEn\": \"Cow\", \"MilkTreatmentTypeEn\": \"Pasteurized\", \"FatLevel\": \"higher fat\"}, {\"ManufacturerProvCode\": \"QC\", \"ManufacturingTypeEn\": \"Artisan\", \"MoisturePercent\": 60.0, \"Organic\": 0, \"CategoryTypeEn\": \"Semi-soft Cheese\", \"MilkTypeEn\": \"Ewe and Goat\", \"MilkTreatmentTypeEn\": \"Pasteurized\", \"FatLevel\": \"lower fat\"}, {\"ManufacturerProvCode\": \"ON\", \"ManufacturingTypeEn\": \"Industrial\", \"MoisturePercent\": 52.0, \"Organic\": 0, \"CategoryTypeEn\": \"Semi-soft Cheese\", \"MilkTypeEn\": \"Cow\", \"MilkTreatmentTypeEn\": \"Pasteurized\", \"FatLevel\": \"lower fat\"}, {\"ManufacturerProvCode\": \"QC\", \"ManufacturingTypeEn\": \"Industrial\", \"MoisturePercent\": 39.0, \"Organic\": 0, \"CategoryTypeEn\": \"Firm Cheese\", \"MilkTypeEn\": \"Cow\", \"MilkTreatmentTypeEn\": \"Raw Milk\", \"FatLevel\": \"higher fat\"}, {\"ManufacturerProvCode\": \"QC\", \"ManufacturingTypeEn\": \"Artisan\", \"MoisturePercent\": 41.0, \"Organic\": 0, \"CategoryTypeEn\": null, \"MilkTypeEn\": \"Goat\", \"MilkTreatmentTypeEn\": null, \"FatLevel\": \"lower fat\"}, {\"ManufacturerProvCode\": \"QC\", \"ManufacturingTypeEn\": \"Artisan\", \"MoisturePercent\": 31.0, \"Organic\": 1, \"CategoryTypeEn\": \"Firm Cheese\", \"MilkTypeEn\": \"Cow\", \"MilkTreatmentTypeEn\": \"Raw Milk\", \"FatLevel\": \"higher fat\"}, {\"ManufacturerProvCode\": \"QC\", \"ManufacturingTypeEn\": \"Industrial\", \"MoisturePercent\": 52.0, \"Organic\": 0, \"CategoryTypeEn\": \"Fresh Cheese\", \"MilkTypeEn\": \"Cow\", \"MilkTreatmentTypeEn\": \"Pasteurized\", \"FatLevel\": \"lower fat\"}, {\"ManufacturerProvCode\": \"QC\", \"ManufacturingTypeEn\": \"Artisan\", \"MoisturePercent\": 43.0, \"Organic\": 0, \"CategoryTypeEn\": \"Firm Cheese\", \"MilkTypeEn\": \"Cow\", \"MilkTreatmentTypeEn\": \"Pasteurized\", \"FatLevel\": \"higher fat\"}, {\"ManufacturerProvCode\": \"QC\", \"ManufacturingTypeEn\": \"Industrial\", \"MoisturePercent\": 42.0, \"Organic\": 0, \"CategoryTypeEn\": \"Firm Cheese\", \"MilkTypeEn\": \"Cow\", \"MilkTreatmentTypeEn\": \"Pasteurized\", \"FatLevel\": \"lower fat\"}, {\"ManufacturerProvCode\": \"MB\", \"ManufacturingTypeEn\": \"Farmstead\", \"MoisturePercent\": 42.0, \"Organic\": 0, \"CategoryTypeEn\": \"Semi-soft Cheese\", \"MilkTypeEn\": \"Cow\", \"MilkTreatmentTypeEn\": \"Pasteurized\", \"FatLevel\": \"lower fat\"}, {\"ManufacturerProvCode\": \"QC\", \"ManufacturingTypeEn\": \"Industrial\", \"MoisturePercent\": 40.0, \"Organic\": 1, \"CategoryTypeEn\": \"Firm Cheese\", \"MilkTypeEn\": \"Cow\", \"MilkTreatmentTypeEn\": \"Thermised\", \"FatLevel\": \"lower fat\"}, {\"ManufacturerProvCode\": \"QC\", \"ManufacturingTypeEn\": \"Industrial\", \"MoisturePercent\": 60.0, \"Organic\": 0, \"CategoryTypeEn\": \"Soft Cheese\", \"MilkTypeEn\": \"Cow\", \"MilkTreatmentTypeEn\": \"Pasteurized\", \"FatLevel\": \"lower fat\"}, {\"ManufacturerProvCode\": \"QC\", \"ManufacturingTypeEn\": \"Artisan\", \"MoisturePercent\": 54.0, \"Organic\": 0, \"CategoryTypeEn\": \"Soft Cheese\", \"MilkTypeEn\": \"Cow\", \"MilkTreatmentTypeEn\": \"Pasteurized\", \"FatLevel\": \"lower fat\"}, {\"ManufacturerProvCode\": \"QC\", \"ManufacturingTypeEn\": \"Industrial\", \"MoisturePercent\": 50.0, \"Organic\": 0, \"CategoryTypeEn\": \"Soft Cheese\", \"MilkTypeEn\": \"Cow\", \"MilkTreatmentTypeEn\": null, \"FatLevel\": \"higher fat\"}, {\"ManufacturerProvCode\": \"QC\", \"ManufacturingTypeEn\": \"Industrial\", \"MoisturePercent\": 58.0, \"Organic\": 0, \"CategoryTypeEn\": \"Fresh Cheese\", \"MilkTypeEn\": \"Goat\", \"MilkTreatmentTypeEn\": \"Pasteurized\", \"FatLevel\": \"lower fat\"}, {\"ManufacturerProvCode\": \"QC\", \"ManufacturingTypeEn\": \"Artisan\", \"MoisturePercent\": 41.0, \"Organic\": 0, \"CategoryTypeEn\": \"Firm Cheese\", \"MilkTypeEn\": \"Cow\", \"MilkTreatmentTypeEn\": \"Pasteurized\", \"FatLevel\": \"higher fat\"}, {\"ManufacturerProvCode\": \"QC\", \"ManufacturingTypeEn\": \"Farmstead\", \"MoisturePercent\": 45.0, \"Organic\": 0, \"CategoryTypeEn\": \"Semi-soft Cheese\", \"MilkTypeEn\": \"Cow\", \"MilkTreatmentTypeEn\": \"Raw Milk\", \"FatLevel\": \"higher fat\"}, {\"ManufacturerProvCode\": \"QC\", \"ManufacturingTypeEn\": \"Artisan\", \"MoisturePercent\": 56.0, \"Organic\": 0, \"CategoryTypeEn\": \"Soft Cheese\", \"MilkTypeEn\": \"Cow\", \"MilkTreatmentTypeEn\": \"Pasteurized\", \"FatLevel\": \"lower fat\"}, {\"ManufacturerProvCode\": \"QC\", \"ManufacturingTypeEn\": \"Artisan\", \"MoisturePercent\": 48.0, \"Organic\": 1, \"CategoryTypeEn\": \"Soft Cheese\", \"MilkTypeEn\": \"Cow\", \"MilkTreatmentTypeEn\": \"Raw Milk\", \"FatLevel\": \"lower fat\"}, {\"ManufacturerProvCode\": \"QC\", \"ManufacturingTypeEn\": \"Artisan\", \"MoisturePercent\": 48.0, \"Organic\": 0, \"CategoryTypeEn\": \"Firm Cheese\", \"MilkTypeEn\": \"Cow\", \"MilkTreatmentTypeEn\": \"Pasteurized\", \"FatLevel\": \"lower fat\"}, {\"ManufacturerProvCode\": \"QC\", \"ManufacturingTypeEn\": \"Artisan\", \"MoisturePercent\": 36.0, \"Organic\": 1, \"CategoryTypeEn\": \"Firm Cheese\", \"MilkTypeEn\": \"Cow\", \"MilkTreatmentTypeEn\": \"Raw Milk\", \"FatLevel\": \"higher fat\"}, {\"ManufacturerProvCode\": \"QC\", \"ManufacturingTypeEn\": \"Industrial\", \"MoisturePercent\": 56.0, \"Organic\": 0, \"CategoryTypeEn\": \"Fresh Cheese\", \"MilkTypeEn\": \"Cow\", \"MilkTreatmentTypeEn\": \"Pasteurized\", \"FatLevel\": \"lower fat\"}, {\"ManufacturerProvCode\": \"ON\", \"ManufacturingTypeEn\": \"Industrial\", \"MoisturePercent\": 40.0, \"Organic\": 0, \"CategoryTypeEn\": \"Semi-soft Cheese\", \"MilkTypeEn\": \"Cow\", \"MilkTreatmentTypeEn\": \"Pasteurized\", \"FatLevel\": \"higher fat\"}, {\"ManufacturerProvCode\": \"QC\", \"ManufacturingTypeEn\": \"Artisan\", \"MoisturePercent\": 43.0, \"Organic\": 0, \"CategoryTypeEn\": \"Semi-soft Cheese\", \"MilkTypeEn\": \"Goat\", \"MilkTreatmentTypeEn\": \"Raw Milk\", \"FatLevel\": \"lower fat\"}, {\"ManufacturerProvCode\": \"QC\", \"ManufacturingTypeEn\": \"Artisan\", \"MoisturePercent\": 50.0, \"Organic\": 0, \"CategoryTypeEn\": \"Semi-soft Cheese\", \"MilkTypeEn\": \"Cow\", \"MilkTreatmentTypeEn\": \"Pasteurized\", \"FatLevel\": \"lower fat\"}, {\"ManufacturerProvCode\": \"QC\", \"ManufacturingTypeEn\": \"Industrial\", \"MoisturePercent\": 50.0, \"Organic\": 0, \"CategoryTypeEn\": \"Semi-soft Cheese\", \"MilkTypeEn\": \"Cow\", \"MilkTreatmentTypeEn\": \"Pasteurized\", \"FatLevel\": \"lower fat\"}, {\"ManufacturerProvCode\": \"QC\", \"ManufacturingTypeEn\": \"Artisan\", \"MoisturePercent\": 50.0, \"Organic\": 0, \"CategoryTypeEn\": \"Semi-soft Cheese\", \"MilkTypeEn\": \"Cow\", \"MilkTreatmentTypeEn\": \"Pasteurized\", \"FatLevel\": \"lower fat\"}, {\"ManufacturerProvCode\": \"ON\", \"ManufacturingTypeEn\": \"Industrial\", \"MoisturePercent\": 42.0, \"Organic\": 0, \"CategoryTypeEn\": \"Semi-soft Cheese\", \"MilkTypeEn\": \"Cow\", \"MilkTreatmentTypeEn\": \"Pasteurized\", \"FatLevel\": \"lower fat\"}, {\"ManufacturerProvCode\": \"QC\", \"ManufacturingTypeEn\": \"Farmstead\", \"MoisturePercent\": 39.0, \"Organic\": 0, \"CategoryTypeEn\": \"Firm Cheese\", \"MilkTypeEn\": \"Cow\", \"MilkTreatmentTypeEn\": \"Raw Milk\", \"FatLevel\": \"higher fat\"}, {\"ManufacturerProvCode\": \"QC\", \"ManufacturingTypeEn\": \"Industrial\", \"MoisturePercent\": 40.0, \"Organic\": 0, \"CategoryTypeEn\": \"Firm Cheese\", \"MilkTypeEn\": \"Cow\", \"MilkTreatmentTypeEn\": \"Pasteurized\", \"FatLevel\": \"lower fat\"}, {\"ManufacturerProvCode\": \"QC\", \"ManufacturingTypeEn\": \"Artisan\", \"MoisturePercent\": 42.0, \"Organic\": 0, \"CategoryTypeEn\": \"Firm Cheese\", \"MilkTypeEn\": \"Cow\", \"MilkTreatmentTypeEn\": \"Pasteurized\", \"FatLevel\": \"lower fat\"}, {\"ManufacturerProvCode\": \"QC\", \"ManufacturingTypeEn\": \"Farmstead\", \"MoisturePercent\": 43.0, \"Organic\": 0, \"CategoryTypeEn\": \"Semi-soft Cheese\", \"MilkTypeEn\": \"Ewe\", \"MilkTreatmentTypeEn\": \"Raw Milk\", \"FatLevel\": \"higher fat\"}, {\"ManufacturerProvCode\": \"QC\", \"ManufacturingTypeEn\": \"Artisan\", \"MoisturePercent\": 39.0, \"Organic\": 1, \"CategoryTypeEn\": \"Firm Cheese\", \"MilkTypeEn\": \"Cow\", \"MilkTreatmentTypeEn\": \"Raw Milk\", \"FatLevel\": \"higher fat\"}, {\"ManufacturerProvCode\": \"QC\", \"ManufacturingTypeEn\": \"Artisan\", \"MoisturePercent\": 48.0, \"Organic\": 0, \"CategoryTypeEn\": \"Semi-soft Cheese\", \"MilkTypeEn\": \"Cow\", \"MilkTreatmentTypeEn\": \"Pasteurized\", \"FatLevel\": \"lower fat\"}, {\"ManufacturerProvCode\": \"QC\", \"ManufacturingTypeEn\": \"Farmstead\", \"MoisturePercent\": 68.0, \"Organic\": 0, \"CategoryTypeEn\": \"Fresh Cheese\", \"MilkTypeEn\": \"Goat\", \"MilkTreatmentTypeEn\": \"Pasteurized\", \"FatLevel\": \"lower fat\"}, {\"ManufacturerProvCode\": \"QC\", \"ManufacturingTypeEn\": \"Industrial\", \"MoisturePercent\": 50.0, \"Organic\": 0, \"CategoryTypeEn\": \"Soft Cheese\", \"MilkTypeEn\": \"Cow\", \"MilkTreatmentTypeEn\": \"Pasteurized\", \"FatLevel\": \"lower fat\"}, {\"ManufacturerProvCode\": \"QC\", \"ManufacturingTypeEn\": \"Industrial\", \"MoisturePercent\": 50.0, \"Organic\": 0, \"CategoryTypeEn\": \"Firm Cheese\", \"MilkTypeEn\": \"Cow\", \"MilkTreatmentTypeEn\": \"Pasteurized\", \"FatLevel\": \"lower fat\"}, {\"ManufacturerProvCode\": \"QC\", \"ManufacturingTypeEn\": \"Industrial\", \"MoisturePercent\": 50.0, \"Organic\": 0, \"CategoryTypeEn\": \"Soft Cheese\", \"MilkTypeEn\": \"Cow\", \"MilkTreatmentTypeEn\": \"Pasteurized\", \"FatLevel\": \"lower fat\"}, {\"ManufacturerProvCode\": \"ON\", \"ManufacturingTypeEn\": \"Industrial\", \"MoisturePercent\": 55.0, \"Organic\": 0, \"CategoryTypeEn\": \"Hard Cheese\", \"MilkTypeEn\": \"Cow\", \"MilkTreatmentTypeEn\": \"Pasteurized\", \"FatLevel\": \"lower fat\"}, {\"ManufacturerProvCode\": \"QC\", \"ManufacturingTypeEn\": \"Industrial\", \"MoisturePercent\": 43.0, \"Organic\": 0, \"CategoryTypeEn\": \"Semi-soft Cheese\", \"MilkTypeEn\": \"Cow\", \"MilkTreatmentTypeEn\": \"Pasteurized\", \"FatLevel\": \"lower fat\"}, {\"ManufacturerProvCode\": \"QC\", \"ManufacturingTypeEn\": \"Artisan\", \"MoisturePercent\": 40.0, \"Organic\": 0, \"CategoryTypeEn\": \"Firm Cheese\", \"MilkTypeEn\": \"Cow\", \"MilkTreatmentTypeEn\": \"Raw Milk\", \"FatLevel\": \"higher fat\"}, {\"ManufacturerProvCode\": \"AB\", \"ManufacturingTypeEn\": \"Industrial\", \"MoisturePercent\": 26.0, \"Organic\": 0, \"CategoryTypeEn\": \"Firm Cheese\", \"MilkTypeEn\": \"Ewe and Cow\", \"MilkTreatmentTypeEn\": \"Pasteurized\", \"FatLevel\": \"higher fat\"}, {\"ManufacturerProvCode\": \"QC\", \"ManufacturingTypeEn\": \"Artisan\", \"MoisturePercent\": 31.0, \"Organic\": 0, \"CategoryTypeEn\": \"Firm Cheese\", \"MilkTypeEn\": \"Cow\", \"MilkTreatmentTypeEn\": \"Pasteurized\", \"FatLevel\": \"higher fat\"}, {\"ManufacturerProvCode\": \"ON\", \"ManufacturingTypeEn\": \"Industrial\", \"MoisturePercent\": null, \"Organic\": 0, \"CategoryTypeEn\": \"Fresh Cheese\", \"MilkTypeEn\": \"Cow\", \"MilkTreatmentTypeEn\": \"Pasteurized\", \"FatLevel\": \"higher fat\"}, {\"ManufacturerProvCode\": \"QC\", \"ManufacturingTypeEn\": \"Industrial\", \"MoisturePercent\": 43.0, \"Organic\": 0, \"CategoryTypeEn\": \"Firm Cheese\", \"MilkTypeEn\": \"Cow\", \"MilkTreatmentTypeEn\": \"Pasteurized\", \"FatLevel\": \"higher fat\"}, {\"ManufacturerProvCode\": \"QC\", \"ManufacturingTypeEn\": \"Artisan\", \"MoisturePercent\": 35.0, \"Organic\": 0, \"CategoryTypeEn\": \"Firm Cheese\", \"MilkTypeEn\": \"Ewe\", \"MilkTreatmentTypeEn\": \"Thermised\", \"FatLevel\": \"higher fat\"}, {\"ManufacturerProvCode\": \"QC\", \"ManufacturingTypeEn\": \"Industrial\", \"MoisturePercent\": 58.0, \"Organic\": 1, \"CategoryTypeEn\": \"Fresh Cheese\", \"MilkTypeEn\": \"Goat\", \"MilkTreatmentTypeEn\": \"Pasteurized\", \"FatLevel\": \"lower fat\"}, {\"ManufacturerProvCode\": \"QC\", \"ManufacturingTypeEn\": \"Artisan\", \"MoisturePercent\": 33.0, \"Organic\": 1, \"CategoryTypeEn\": \"Firm Cheese\", \"MilkTypeEn\": \"Cow\", \"MilkTreatmentTypeEn\": \"Raw Milk\", \"FatLevel\": \"higher fat\"}, {\"ManufacturerProvCode\": \"QC\", \"ManufacturingTypeEn\": \"Artisan\", \"MoisturePercent\": 69.0, \"Organic\": 0, \"CategoryTypeEn\": \"Fresh Cheese\", \"MilkTypeEn\": \"Goat\", \"MilkTreatmentTypeEn\": \"Pasteurized\", \"FatLevel\": \"lower fat\"}, {\"ManufacturerProvCode\": \"QC\", \"ManufacturingTypeEn\": \"Artisan\", \"MoisturePercent\": 33.0, \"Organic\": 0, \"CategoryTypeEn\": \"Firm Cheese\", \"MilkTypeEn\": \"Ewe\", \"MilkTreatmentTypeEn\": null, \"FatLevel\": \"higher fat\"}, {\"ManufacturerProvCode\": \"QC\", \"ManufacturingTypeEn\": \"Farmstead\", \"MoisturePercent\": 42.0, \"Organic\": 0, \"CategoryTypeEn\": \"Firm Cheese\", \"MilkTypeEn\": \"Cow\", \"MilkTreatmentTypeEn\": \"Pasteurized\", \"FatLevel\": \"higher fat\"}, {\"ManufacturerProvCode\": \"QC\", \"ManufacturingTypeEn\": \"Artisan\", \"MoisturePercent\": 40.0, \"Organic\": 0, \"CategoryTypeEn\": \"Firm Cheese\", \"MilkTypeEn\": \"Cow\", \"MilkTreatmentTypeEn\": \"Pasteurized\", \"FatLevel\": \"lower fat\"}, {\"ManufacturerProvCode\": \"AB\", \"ManufacturingTypeEn\": \"Farmstead\", \"MoisturePercent\": 55.0, \"Organic\": 0, \"CategoryTypeEn\": \"Semi-soft Cheese\", \"MilkTypeEn\": \"Goat\", \"MilkTreatmentTypeEn\": \"Pasteurized\", \"FatLevel\": \"lower fat\"}, {\"ManufacturerProvCode\": \"QC\", \"ManufacturingTypeEn\": \"Artisan\", \"MoisturePercent\": 56.0, \"Organic\": 0, \"CategoryTypeEn\": \"Semi-soft Cheese\", \"MilkTypeEn\": \"Cow\", \"MilkTreatmentTypeEn\": \"Pasteurized\", \"FatLevel\": \"lower fat\"}, {\"ManufacturerProvCode\": \"QC\", \"ManufacturingTypeEn\": \"Industrial\", \"MoisturePercent\": 47.0, \"Organic\": 0, \"CategoryTypeEn\": \"Semi-soft Cheese\", \"MilkTypeEn\": \"Cow\", \"MilkTreatmentTypeEn\": \"Pasteurized\", \"FatLevel\": \"lower fat\"}, {\"ManufacturerProvCode\": \"ON\", \"ManufacturingTypeEn\": \"Industrial\", \"MoisturePercent\": 42.0, \"Organic\": 0, \"CategoryTypeEn\": null, \"MilkTypeEn\": \"Cow\", \"MilkTreatmentTypeEn\": null, \"FatLevel\": \"lower fat\"}, {\"ManufacturerProvCode\": \"QC\", \"ManufacturingTypeEn\": \"Farmstead\", \"MoisturePercent\": 45.0, \"Organic\": 1, \"CategoryTypeEn\": \"Semi-soft Cheese\", \"MilkTypeEn\": \"Cow and Goat\", \"MilkTreatmentTypeEn\": \"Thermised\", \"FatLevel\": \"lower fat\"}, {\"ManufacturerProvCode\": \"BC\", \"ManufacturingTypeEn\": \"Artisan\", \"MoisturePercent\": 68.0, \"Organic\": 0, \"CategoryTypeEn\": \"Soft Cheese\", \"MilkTypeEn\": \"Cow\", \"MilkTreatmentTypeEn\": \"Pasteurized\", \"FatLevel\": \"lower fat\"}, {\"ManufacturerProvCode\": \"QC\", \"ManufacturingTypeEn\": \"Industrial\", \"MoisturePercent\": 50.0, \"Organic\": 0, \"CategoryTypeEn\": \"Soft Cheese\", \"MilkTypeEn\": \"Cow\", \"MilkTreatmentTypeEn\": \"Pasteurized\", \"FatLevel\": \"higher fat\"}, {\"ManufacturerProvCode\": \"NL\", \"ManufacturingTypeEn\": \"Industrial\", \"MoisturePercent\": 39.0, \"Organic\": 0, \"CategoryTypeEn\": \"Firm Cheese\", \"MilkTypeEn\": \"Cow\", \"MilkTreatmentTypeEn\": \"Pasteurized\", \"FatLevel\": \"higher fat\"}, {\"ManufacturerProvCode\": \"NS\", \"ManufacturingTypeEn\": \"Artisan\", \"MoisturePercent\": 40.0, \"Organic\": 0, \"CategoryTypeEn\": \"Semi-soft Cheese\", \"MilkTypeEn\": \"Cow\", \"MilkTreatmentTypeEn\": \"Pasteurized\", \"FatLevel\": \"higher fat\"}, {\"ManufacturerProvCode\": \"QC\", \"ManufacturingTypeEn\": \"Industrial\", \"MoisturePercent\": 52.0, \"Organic\": 0, \"CategoryTypeEn\": \"Semi-soft Cheese\", \"MilkTypeEn\": \"Cow\", \"MilkTreatmentTypeEn\": \"Pasteurized\", \"FatLevel\": \"lower fat\"}, {\"ManufacturerProvCode\": \"QC\", \"ManufacturingTypeEn\": \"Artisan\", \"MoisturePercent\": 48.0, \"Organic\": 0, \"CategoryTypeEn\": \"Firm Cheese\", \"MilkTypeEn\": \"Cow\", \"MilkTreatmentTypeEn\": \"Pasteurized\", \"FatLevel\": \"lower fat\"}, {\"ManufacturerProvCode\": \"QC\", \"ManufacturingTypeEn\": \"Industrial\", \"MoisturePercent\": 45.0, \"Organic\": 0, \"CategoryTypeEn\": \"Semi-soft Cheese\", \"MilkTypeEn\": \"Cow\", \"MilkTreatmentTypeEn\": \"Pasteurized\", \"FatLevel\": \"lower fat\"}, {\"ManufacturerProvCode\": \"QC\", \"ManufacturingTypeEn\": \"Farmstead\", \"MoisturePercent\": 70.0, \"Organic\": 0, \"CategoryTypeEn\": \"Fresh Cheese\", \"MilkTypeEn\": \"Goat\", \"MilkTreatmentTypeEn\": \"Pasteurized\", \"FatLevel\": \"lower fat\"}, {\"ManufacturerProvCode\": \"BC\", \"ManufacturingTypeEn\": \"Farmstead\", \"MoisturePercent\": 34.0, \"Organic\": 1, \"CategoryTypeEn\": \"Semi-soft Cheese\", \"MilkTypeEn\": \"Cow\", \"MilkTreatmentTypeEn\": \"Raw Milk\", \"FatLevel\": \"higher fat\"}, {\"ManufacturerProvCode\": \"QC\", \"ManufacturingTypeEn\": \"Artisan\", \"MoisturePercent\": 41.0, \"Organic\": 0, \"CategoryTypeEn\": \"Firm Cheese\", \"MilkTypeEn\": \"Goat\", \"MilkTreatmentTypeEn\": \"Pasteurized\", \"FatLevel\": \"higher fat\"}, {\"ManufacturerProvCode\": \"QC\", \"ManufacturingTypeEn\": \"Industrial\", \"MoisturePercent\": 50.0, \"Organic\": 0, \"CategoryTypeEn\": \"Soft Cheese\", \"MilkTypeEn\": \"Cow\", \"MilkTreatmentTypeEn\": \"Pasteurized\", \"FatLevel\": \"higher fat\"}, {\"ManufacturerProvCode\": \"QC\", \"ManufacturingTypeEn\": \"Industrial\", \"MoisturePercent\": 55.0, \"Organic\": 0, \"CategoryTypeEn\": \"Fresh Cheese\", \"MilkTypeEn\": \"Goat\", \"MilkTreatmentTypeEn\": \"Pasteurized\", \"FatLevel\": \"lower fat\"}, {\"ManufacturerProvCode\": \"QC\", \"ManufacturingTypeEn\": \"Farmstead\", \"MoisturePercent\": 56.0, \"Organic\": 1, \"CategoryTypeEn\": \"Soft Cheese\", \"MilkTypeEn\": \"Goat\", \"MilkTreatmentTypeEn\": \"Pasteurized\", \"FatLevel\": \"lower fat\"}, {\"ManufacturerProvCode\": \"QC\", \"ManufacturingTypeEn\": \"Farmstead\", \"MoisturePercent\": 60.0, \"Organic\": 0, \"CategoryTypeEn\": \"Soft Cheese\", \"MilkTypeEn\": \"Goat\", \"MilkTreatmentTypeEn\": \"Pasteurized\", \"FatLevel\": \"lower fat\"}, {\"ManufacturerProvCode\": \"ON\", \"ManufacturingTypeEn\": \"Industrial\", \"MoisturePercent\": 39.0, \"Organic\": 0, \"CategoryTypeEn\": \"Firm Cheese\", \"MilkTypeEn\": \"Cow\", \"MilkTreatmentTypeEn\": \"Pasteurized\", \"FatLevel\": \"higher fat\"}, {\"ManufacturerProvCode\": \"QC\", \"ManufacturingTypeEn\": \"Industrial\", \"MoisturePercent\": 42.0, \"Organic\": 0, \"CategoryTypeEn\": \"Firm Cheese\", \"MilkTypeEn\": \"Goat\", \"MilkTreatmentTypeEn\": \"Pasteurized\", \"FatLevel\": \"lower fat\"}, {\"ManufacturerProvCode\": \"BC\", \"ManufacturingTypeEn\": \"Farmstead\", \"MoisturePercent\": 34.0, \"Organic\": 1, \"CategoryTypeEn\": \"Semi-soft Cheese\", \"MilkTypeEn\": \"Goat\", \"MilkTreatmentTypeEn\": \"Raw Milk\", \"FatLevel\": \"higher fat\"}, {\"ManufacturerProvCode\": \"QC\", \"ManufacturingTypeEn\": \"Artisan\", \"MoisturePercent\": 47.0, \"Organic\": 0, \"CategoryTypeEn\": \"Semi-soft Cheese\", \"MilkTypeEn\": \"Cow\", \"MilkTreatmentTypeEn\": \"Raw Milk\", \"FatLevel\": \"higher fat\"}, {\"ManufacturerProvCode\": \"QC\", \"ManufacturingTypeEn\": \"Industrial\", \"MoisturePercent\": 76.0, \"Organic\": 0, \"CategoryTypeEn\": \"Fresh Cheese\", \"MilkTypeEn\": \"Cow\", \"MilkTreatmentTypeEn\": \"Pasteurized\", \"FatLevel\": \"lower fat\"}, {\"ManufacturerProvCode\": \"ON\", \"ManufacturingTypeEn\": \"Industrial\", \"MoisturePercent\": 47.0, \"Organic\": 0, \"CategoryTypeEn\": \"Firm Cheese\", \"MilkTypeEn\": \"Cow\", \"MilkTreatmentTypeEn\": \"Thermised\", \"FatLevel\": \"lower fat\"}, {\"ManufacturerProvCode\": \"QC\", \"ManufacturingTypeEn\": \"Industrial\", \"MoisturePercent\": 57.0, \"Organic\": 0, \"CategoryTypeEn\": \"Soft Cheese\", \"MilkTypeEn\": \"Cow\", \"MilkTreatmentTypeEn\": \"Pasteurized\", \"FatLevel\": \"lower fat\"}, {\"ManufacturerProvCode\": \"QC\", \"ManufacturingTypeEn\": \"Industrial\", \"MoisturePercent\": 45.0, \"Organic\": 0, \"CategoryTypeEn\": \"Soft Cheese\", \"MilkTypeEn\": \"Cow\", \"MilkTreatmentTypeEn\": \"Pasteurized\", \"FatLevel\": \"higher fat\"}, {\"ManufacturerProvCode\": \"QC\", \"ManufacturingTypeEn\": \"Industrial\", \"MoisturePercent\": 46.0, \"Organic\": 0, \"CategoryTypeEn\": \"Semi-soft Cheese\", \"MilkTypeEn\": \"Cow\", \"MilkTreatmentTypeEn\": \"Pasteurized\", \"FatLevel\": \"lower fat\"}, {\"ManufacturerProvCode\": \"QC\", \"ManufacturingTypeEn\": \"Industrial\", \"MoisturePercent\": 39.0, \"Organic\": 0, \"CategoryTypeEn\": \"Firm Cheese\", \"MilkTypeEn\": \"Cow\", \"MilkTreatmentTypeEn\": \"Pasteurized\", \"FatLevel\": \"higher fat\"}, {\"ManufacturerProvCode\": \"QC\", \"ManufacturingTypeEn\": \"Industrial\", \"MoisturePercent\": 60.0, \"Organic\": 0, \"CategoryTypeEn\": \"Fresh Cheese\", \"MilkTypeEn\": \"Cow and Goat\", \"MilkTreatmentTypeEn\": null, \"FatLevel\": \"lower fat\"}, {\"ManufacturerProvCode\": \"QC\", \"ManufacturingTypeEn\": \"Industrial\", \"MoisturePercent\": 46.0, \"Organic\": 0, \"CategoryTypeEn\": \"Semi-soft Cheese\", \"MilkTypeEn\": \"Cow\", \"MilkTreatmentTypeEn\": \"Pasteurized\", \"FatLevel\": \"lower fat\"}, {\"ManufacturerProvCode\": \"QC\", \"ManufacturingTypeEn\": \"Artisan\", \"MoisturePercent\": 65.0, \"Organic\": 0, \"CategoryTypeEn\": \"Semi-soft Cheese\", \"MilkTypeEn\": \"Goat\", \"MilkTreatmentTypeEn\": \"Pasteurized\", \"FatLevel\": \"lower fat\"}, {\"ManufacturerProvCode\": \"QC\", \"ManufacturingTypeEn\": \"Artisan\", \"MoisturePercent\": 52.0, \"Organic\": 1, \"CategoryTypeEn\": \"Semi-soft Cheese\", \"MilkTypeEn\": \"Cow\", \"MilkTreatmentTypeEn\": \"Pasteurized\", \"FatLevel\": \"lower fat\"}, {\"ManufacturerProvCode\": \"QC\", \"ManufacturingTypeEn\": \"Industrial\", \"MoisturePercent\": 40.0, \"Organic\": 0, \"CategoryTypeEn\": \"Firm Cheese\", \"MilkTypeEn\": \"Cow\", \"MilkTreatmentTypeEn\": \"Pasteurized\", \"FatLevel\": \"lower fat\"}, {\"ManufacturerProvCode\": \"QC\", \"ManufacturingTypeEn\": \"Artisan\", \"MoisturePercent\": 55.0, \"Organic\": 0, \"CategoryTypeEn\": \"Semi-soft Cheese\", \"MilkTypeEn\": \"Goat\", \"MilkTreatmentTypeEn\": \"Pasteurized\", \"FatLevel\": \"lower fat\"}, {\"ManufacturerProvCode\": \"QC\", \"ManufacturingTypeEn\": \"Artisan\", \"MoisturePercent\": 43.0, \"Organic\": 0, \"CategoryTypeEn\": \"Fresh Cheese\", \"MilkTypeEn\": \"Goat\", \"MilkTreatmentTypeEn\": \"Pasteurized\", \"FatLevel\": \"lower fat\"}, {\"ManufacturerProvCode\": \"ON\", \"ManufacturingTypeEn\": \"Industrial\", \"MoisturePercent\": 40.0, \"Organic\": 0, \"CategoryTypeEn\": \"Semi-soft Cheese\", \"MilkTypeEn\": \"Cow\", \"MilkTreatmentTypeEn\": \"Pasteurized\", \"FatLevel\": \"lower fat\"}, {\"ManufacturerProvCode\": \"QC\", \"ManufacturingTypeEn\": \"Artisan\", \"MoisturePercent\": 50.0, \"Organic\": 0, \"CategoryTypeEn\": \"Soft Cheese\", \"MilkTypeEn\": \"Cow\", \"MilkTreatmentTypeEn\": \"Thermised\", \"FatLevel\": \"lower fat\"}, {\"ManufacturerProvCode\": \"QC\", \"ManufacturingTypeEn\": \"Industrial\", \"MoisturePercent\": 37.0, \"Organic\": 0, \"CategoryTypeEn\": \"Firm Cheese\", \"MilkTypeEn\": \"Cow\", \"MilkTreatmentTypeEn\": null, \"FatLevel\": \"higher fat\"}, {\"ManufacturerProvCode\": \"QC\", \"ManufacturingTypeEn\": \"Artisan\", \"MoisturePercent\": 42.0, \"Organic\": 0, \"CategoryTypeEn\": \"Firm Cheese\", \"MilkTypeEn\": \"Cow\", \"MilkTreatmentTypeEn\": \"Pasteurized\", \"FatLevel\": \"lower fat\"}, {\"ManufacturerProvCode\": \"QC\", \"ManufacturingTypeEn\": \"Industrial\", \"MoisturePercent\": 54.0, \"Organic\": 0, \"CategoryTypeEn\": \"Soft Cheese\", \"MilkTypeEn\": \"Cow\", \"MilkTreatmentTypeEn\": \"Pasteurized\", \"FatLevel\": \"lower fat\"}, {\"ManufacturerProvCode\": \"QC\", \"ManufacturingTypeEn\": \"Industrial\", \"MoisturePercent\": 48.0, \"Organic\": 0, \"CategoryTypeEn\": \"Semi-soft Cheese\", \"MilkTypeEn\": \"Cow\", \"MilkTreatmentTypeEn\": \"Pasteurized\", \"FatLevel\": \"lower fat\"}, {\"ManufacturerProvCode\": \"QC\", \"ManufacturingTypeEn\": \"Industrial\", \"MoisturePercent\": 39.0, \"Organic\": 0, \"CategoryTypeEn\": \"Firm Cheese\", \"MilkTypeEn\": \"Cow\", \"MilkTreatmentTypeEn\": \"Pasteurized\", \"FatLevel\": \"higher fat\"}, {\"ManufacturerProvCode\": \"QC\", \"ManufacturingTypeEn\": \"Artisan\", \"MoisturePercent\": 55.0, \"Organic\": 0, \"CategoryTypeEn\": \"Soft Cheese\", \"MilkTypeEn\": \"Cow\", \"MilkTreatmentTypeEn\": \"Pasteurized\", \"FatLevel\": \"lower fat\"}, {\"ManufacturerProvCode\": \"QC\", \"ManufacturingTypeEn\": \"Artisan\", \"MoisturePercent\": 42.0, \"Organic\": 0, \"CategoryTypeEn\": \"Firm Cheese\", \"MilkTypeEn\": \"Ewe\", \"MilkTreatmentTypeEn\": \"Pasteurized\", \"FatLevel\": \"higher fat\"}, {\"ManufacturerProvCode\": \"QC\", \"ManufacturingTypeEn\": \"Industrial\", \"MoisturePercent\": 37.0, \"Organic\": 0, \"CategoryTypeEn\": \"Veined Cheeses\", \"MilkTypeEn\": \"Cow\", \"MilkTreatmentTypeEn\": \"Pasteurized\", \"FatLevel\": \"higher fat\"}, {\"ManufacturerProvCode\": \"QC\", \"ManufacturingTypeEn\": \"Farmstead\", \"MoisturePercent\": 60.0, \"Organic\": 0, \"CategoryTypeEn\": \"Soft Cheese\", \"MilkTypeEn\": \"Goat\", \"MilkTreatmentTypeEn\": \"Pasteurized\", \"FatLevel\": \"lower fat\"}, {\"ManufacturerProvCode\": \"QC\", \"ManufacturingTypeEn\": \"Artisan\", \"MoisturePercent\": 35.0, \"Organic\": 0, \"CategoryTypeEn\": \"Firm Cheese\", \"MilkTypeEn\": \"Cow\", \"MilkTreatmentTypeEn\": \"Pasteurized\", \"FatLevel\": \"higher fat\"}, {\"ManufacturerProvCode\": \"QC\", \"ManufacturingTypeEn\": \"Artisan\", \"MoisturePercent\": 50.0, \"Organic\": 0, \"CategoryTypeEn\": \"Semi-soft Cheese\", \"MilkTypeEn\": \"Cow\", \"MilkTreatmentTypeEn\": \"Pasteurized\", \"FatLevel\": \"lower fat\"}, {\"ManufacturerProvCode\": \"QC\", \"ManufacturingTypeEn\": \"Industrial\", \"MoisturePercent\": 39.0, \"Organic\": 0, \"CategoryTypeEn\": \"Firm Cheese\", \"MilkTypeEn\": \"Cow\", \"MilkTreatmentTypeEn\": \"Raw Milk\", \"FatLevel\": \"higher fat\"}, {\"ManufacturerProvCode\": \"QC\", \"ManufacturingTypeEn\": \"Industrial\", \"MoisturePercent\": 26.0, \"Organic\": 0, \"CategoryTypeEn\": \"Semi-soft Cheese\", \"MilkTypeEn\": \"Cow\", \"MilkTreatmentTypeEn\": \"Pasteurized\", \"FatLevel\": \"higher fat\"}, {\"ManufacturerProvCode\": \"NB\", \"ManufacturingTypeEn\": \"Farmstead\", \"MoisturePercent\": 50.0, \"Organic\": 0, \"CategoryTypeEn\": \"Fresh Cheese\", \"MilkTypeEn\": \"Goat\", \"MilkTreatmentTypeEn\": \"Pasteurized\", \"FatLevel\": \"lower fat\"}, {\"ManufacturerProvCode\": \"QC\", \"ManufacturingTypeEn\": \"Industrial\", \"MoisturePercent\": 50.0, \"Organic\": 0, \"CategoryTypeEn\": \"Soft Cheese\", \"MilkTypeEn\": \"Cow\", \"MilkTreatmentTypeEn\": \"Pasteurized\", \"FatLevel\": \"higher fat\"}, {\"ManufacturerProvCode\": \"QC\", \"ManufacturingTypeEn\": \"Industrial\", \"MoisturePercent\": 35.0, \"Organic\": 0, \"CategoryTypeEn\": \"Hard Cheese\", \"MilkTypeEn\": \"Cow\", \"MilkTreatmentTypeEn\": \"Pasteurized\", \"FatLevel\": \"lower fat\"}, {\"ManufacturerProvCode\": \"QC\", \"ManufacturingTypeEn\": \"Farmstead\", \"MoisturePercent\": 29.0, \"Organic\": 0, \"CategoryTypeEn\": \"Semi-soft Cheese\", \"MilkTypeEn\": \"Cow\", \"MilkTreatmentTypeEn\": \"Raw Milk\", \"FatLevel\": \"higher fat\"}, {\"ManufacturerProvCode\": \"QC\", \"ManufacturingTypeEn\": \"Artisan\", \"MoisturePercent\": 37.0, \"Organic\": 0, \"CategoryTypeEn\": \"Firm Cheese\", \"MilkTypeEn\": \"Cow\", \"MilkTreatmentTypeEn\": null, \"FatLevel\": \"higher fat\"}, {\"ManufacturerProvCode\": \"QC\", \"ManufacturingTypeEn\": \"Farmstead\", \"MoisturePercent\": 38.0, \"Organic\": 0, \"CategoryTypeEn\": \"Firm Cheese\", \"MilkTypeEn\": \"Cow\", \"MilkTreatmentTypeEn\": \"Pasteurized\", \"FatLevel\": \"higher fat\"}, {\"ManufacturerProvCode\": \"QC\", \"ManufacturingTypeEn\": \"Industrial\", \"MoisturePercent\": 50.0, \"Organic\": 0, \"CategoryTypeEn\": \"Fresh Cheese\", \"MilkTypeEn\": \"Cow\", \"MilkTreatmentTypeEn\": \"Pasteurized\", \"FatLevel\": \"lower fat\"}, {\"ManufacturerProvCode\": \"QC\", \"ManufacturingTypeEn\": \"Artisan\", \"MoisturePercent\": 55.0, \"Organic\": 1, \"CategoryTypeEn\": \"Firm Cheese\", \"MilkTypeEn\": \"Cow\", \"MilkTreatmentTypeEn\": \"Pasteurized\", \"FatLevel\": \"lower fat\"}, {\"ManufacturerProvCode\": \"QC\", \"ManufacturingTypeEn\": \"Industrial\", \"MoisturePercent\": 35.0, \"Organic\": 0, \"CategoryTypeEn\": \"Firm Cheese\", \"MilkTypeEn\": \"Cow\", \"MilkTreatmentTypeEn\": \"Pasteurized\", \"FatLevel\": \"higher fat\"}, {\"ManufacturerProvCode\": \"NB\", \"ManufacturingTypeEn\": \"Farmstead\", \"MoisturePercent\": 50.0, \"Organic\": 0, \"CategoryTypeEn\": \"Soft Cheese\", \"MilkTypeEn\": \"Goat\", \"MilkTreatmentTypeEn\": \"Pasteurized\", \"FatLevel\": \"lower fat\"}, {\"ManufacturerProvCode\": \"ON\", \"ManufacturingTypeEn\": \"Industrial\", \"MoisturePercent\": 21.0, \"Organic\": 0, \"CategoryTypeEn\": \"Hard Cheese\", \"MilkTypeEn\": \"Ewe\", \"MilkTreatmentTypeEn\": null, \"FatLevel\": \"higher fat\"}, {\"ManufacturerProvCode\": \"NB\", \"ManufacturingTypeEn\": \"Farmstead\", \"MoisturePercent\": 50.0, \"Organic\": 1, \"CategoryTypeEn\": \"Soft Cheese\", \"MilkTypeEn\": \"Goat\", \"MilkTreatmentTypeEn\": \"Pasteurized\", \"FatLevel\": \"lower fat\"}, {\"ManufacturerProvCode\": \"QC\", \"ManufacturingTypeEn\": \"Farmstead\", \"MoisturePercent\": 35.0, \"Organic\": 1, \"CategoryTypeEn\": \"Firm Cheese\", \"MilkTypeEn\": \"Goat\", \"MilkTreatmentTypeEn\": \"Raw Milk\", \"FatLevel\": \"higher fat\"}, {\"ManufacturerProvCode\": \"QC\", \"ManufacturingTypeEn\": \"Artisan\", \"MoisturePercent\": 42.0, \"Organic\": 0, \"CategoryTypeEn\": \"Firm Cheese\", \"MilkTypeEn\": \"Cow\", \"MilkTreatmentTypeEn\": \"Pasteurized\", \"FatLevel\": \"lower fat\"}, {\"ManufacturerProvCode\": \"QC\", \"ManufacturingTypeEn\": \"Artisan\", \"MoisturePercent\": 44.0, \"Organic\": 0, \"CategoryTypeEn\": \"Soft Cheese\", \"MilkTypeEn\": \"Cow\", \"MilkTreatmentTypeEn\": \"Raw Milk\", \"FatLevel\": \"higher fat\"}, {\"ManufacturerProvCode\": \"QC\", \"ManufacturingTypeEn\": \"Farmstead\", \"MoisturePercent\": 44.0, \"Organic\": 0, \"CategoryTypeEn\": \"Firm Cheese\", \"MilkTypeEn\": \"Cow\", \"MilkTreatmentTypeEn\": null, \"FatLevel\": \"lower fat\"}, {\"ManufacturerProvCode\": \"QC\", \"ManufacturingTypeEn\": \"Industrial\", \"MoisturePercent\": 57.0, \"Organic\": 0, \"CategoryTypeEn\": \"Soft Cheese\", \"MilkTypeEn\": \"Cow\", \"MilkTreatmentTypeEn\": \"Pasteurized\", \"FatLevel\": \"lower fat\"}, {\"ManufacturerProvCode\": \"QC\", \"ManufacturingTypeEn\": \"Farmstead\", \"MoisturePercent\": 46.0, \"Organic\": 0, \"CategoryTypeEn\": \"Semi-soft Cheese\", \"MilkTypeEn\": \"Cow\", \"MilkTreatmentTypeEn\": \"Pasteurized\", \"FatLevel\": \"lower fat\"}, {\"ManufacturerProvCode\": \"ON\", \"ManufacturingTypeEn\": \"Artisan\", \"MoisturePercent\": 80.0, \"Organic\": 0, \"CategoryTypeEn\": \"Fresh Cheese\", \"MilkTypeEn\": \"Ewe\", \"MilkTreatmentTypeEn\": \"Pasteurized\", \"FatLevel\": \"lower fat\"}, {\"ManufacturerProvCode\": \"QC\", \"ManufacturingTypeEn\": \"Industrial\", \"MoisturePercent\": 52.0, \"Organic\": 0, \"CategoryTypeEn\": \"Soft Cheese\", \"MilkTypeEn\": \"Cow\", \"MilkTreatmentTypeEn\": \"Pasteurized\", \"FatLevel\": \"higher fat\"}, {\"ManufacturerProvCode\": \"QC\", \"ManufacturingTypeEn\": \"Industrial\", \"MoisturePercent\": 50.0, \"Organic\": 0, \"CategoryTypeEn\": \"Soft Cheese\", \"MilkTypeEn\": \"Cow\", \"MilkTreatmentTypeEn\": \"Pasteurized\", \"FatLevel\": \"lower fat\"}, {\"ManufacturerProvCode\": \"QC\", \"ManufacturingTypeEn\": \"Industrial\", \"MoisturePercent\": 47.0, \"Organic\": 0, \"CategoryTypeEn\": \"Semi-soft Cheese\", \"MilkTypeEn\": \"Cow\", \"MilkTreatmentTypeEn\": \"Pasteurized\", \"FatLevel\": \"lower fat\"}, {\"ManufacturerProvCode\": \"QC\", \"ManufacturingTypeEn\": \"Artisan\", \"MoisturePercent\": 44.0, \"Organic\": 1, \"CategoryTypeEn\": \"Firm Cheese\", \"MilkTypeEn\": \"Cow and Goat\", \"MilkTreatmentTypeEn\": \"Raw Milk\", \"FatLevel\": \"lower fat\"}, {\"ManufacturerProvCode\": \"QC\", \"ManufacturingTypeEn\": \"Artisan\", \"MoisturePercent\": 43.0, \"Organic\": 0, \"CategoryTypeEn\": \"Semi-soft Cheese\", \"MilkTypeEn\": \"Cow\", \"MilkTreatmentTypeEn\": \"Pasteurized\", \"FatLevel\": \"higher fat\"}, {\"ManufacturerProvCode\": \"AB\", \"ManufacturingTypeEn\": \"Artisan\", \"MoisturePercent\": 42.0, \"Organic\": 0, \"CategoryTypeEn\": null, \"MilkTypeEn\": null, \"MilkTreatmentTypeEn\": null, \"FatLevel\": \"higher fat\"}, {\"ManufacturerProvCode\": \"QC\", \"ManufacturingTypeEn\": \"Farmstead\", \"MoisturePercent\": 45.0, \"Organic\": 1, \"CategoryTypeEn\": \"Semi-soft Cheese\", \"MilkTypeEn\": \"Goat\", \"MilkTreatmentTypeEn\": \"Pasteurized\", \"FatLevel\": \"lower fat\"}, {\"ManufacturerProvCode\": \"QC\", \"ManufacturingTypeEn\": \"Industrial\", \"MoisturePercent\": 78.0, \"Organic\": 0, \"CategoryTypeEn\": \"Soft Cheese\", \"MilkTypeEn\": \"Cow\", \"MilkTreatmentTypeEn\": \"Pasteurized\", \"FatLevel\": \"lower fat\"}, {\"ManufacturerProvCode\": \"QC\", \"ManufacturingTypeEn\": \"Artisan\", \"MoisturePercent\": 35.0, \"Organic\": 0, \"CategoryTypeEn\": \"Firm Cheese\", \"MilkTypeEn\": \"Cow\", \"MilkTreatmentTypeEn\": \"Raw Milk\", \"FatLevel\": \"higher fat\"}, {\"ManufacturerProvCode\": \"NB\", \"ManufacturingTypeEn\": \"Farmstead\", \"MoisturePercent\": 50.0, \"Organic\": 0, \"CategoryTypeEn\": \"Soft Cheese\", \"MilkTypeEn\": \"Goat\", \"MilkTreatmentTypeEn\": \"Pasteurized\", \"FatLevel\": \"lower fat\"}, {\"ManufacturerProvCode\": \"QC\", \"ManufacturingTypeEn\": \"Farmstead\", \"MoisturePercent\": 45.0, \"Organic\": 0, \"CategoryTypeEn\": \"Semi-soft Cheese\", \"MilkTypeEn\": \"Cow\", \"MilkTreatmentTypeEn\": \"Pasteurized\", \"FatLevel\": \"higher fat\"}, {\"ManufacturerProvCode\": \"QC\", \"ManufacturingTypeEn\": \"Industrial\", \"MoisturePercent\": 54.0, \"Organic\": 0, \"CategoryTypeEn\": \"Soft Cheese\", \"MilkTypeEn\": \"Goat\", \"MilkTreatmentTypeEn\": \"Pasteurized\", \"FatLevel\": \"lower fat\"}, {\"ManufacturerProvCode\": \"QC\", \"ManufacturingTypeEn\": \"Industrial\", \"MoisturePercent\": 55.0, \"Organic\": 0, \"CategoryTypeEn\": \"Firm Cheese\", \"MilkTypeEn\": \"Cow\", \"MilkTreatmentTypeEn\": \"Pasteurized\", \"FatLevel\": \"lower fat\"}, {\"ManufacturerProvCode\": \"QC\", \"ManufacturingTypeEn\": \"Industrial\", \"MoisturePercent\": 39.0, \"Organic\": 0, \"CategoryTypeEn\": \"Firm Cheese\", \"MilkTypeEn\": \"Cow\", \"MilkTreatmentTypeEn\": \"Pasteurized\", \"FatLevel\": \"higher fat\"}, {\"ManufacturerProvCode\": \"QC\", \"ManufacturingTypeEn\": \"Artisan\", \"MoisturePercent\": 46.0, \"Organic\": 0, \"CategoryTypeEn\": \"Soft Cheese\", \"MilkTypeEn\": \"Ewe and Cow\", \"MilkTreatmentTypeEn\": \"Pasteurized\", \"FatLevel\": \"higher fat\"}, {\"ManufacturerProvCode\": \"BC\", \"ManufacturingTypeEn\": \"Farmstead\", \"MoisturePercent\": 30.0, \"Organic\": 0, \"CategoryTypeEn\": \"Hard Cheese\", \"MilkTypeEn\": \"Cow\", \"MilkTreatmentTypeEn\": \"Raw Milk\", \"FatLevel\": \"lower fat\"}, {\"ManufacturerProvCode\": \"ON\", \"ManufacturingTypeEn\": \"Artisan\", \"MoisturePercent\": 55.0, \"Organic\": 0, \"CategoryTypeEn\": \"Soft Cheese\", \"MilkTypeEn\": \"Ewe\", \"MilkTreatmentTypeEn\": \"Pasteurized\", \"FatLevel\": \"lower fat\"}, {\"ManufacturerProvCode\": \"ON\", \"ManufacturingTypeEn\": \"Farmstead\", \"MoisturePercent\": 46.0, \"Organic\": 0, \"CategoryTypeEn\": \"Firm Cheese\", \"MilkTypeEn\": \"Goat\", \"MilkTreatmentTypeEn\": \"Pasteurized\", \"FatLevel\": \"lower fat\"}, {\"ManufacturerProvCode\": \"ON\", \"ManufacturingTypeEn\": \"Industrial\", \"MoisturePercent\": 55.0, \"Organic\": 0, \"CategoryTypeEn\": \"Soft Cheese\", \"MilkTypeEn\": \"Cow\", \"MilkTreatmentTypeEn\": \"Pasteurized\", \"FatLevel\": \"lower fat\"}, {\"ManufacturerProvCode\": \"QC\", \"ManufacturingTypeEn\": \"Industrial\", \"MoisturePercent\": 54.0, \"Organic\": 0, \"CategoryTypeEn\": \"Soft Cheese\", \"MilkTypeEn\": \"Cow\", \"MilkTreatmentTypeEn\": \"Pasteurized\", \"FatLevel\": \"lower fat\"}, {\"ManufacturerProvCode\": \"ON\", \"ManufacturingTypeEn\": \"Industrial\", \"MoisturePercent\": 55.0, \"Organic\": 0, \"CategoryTypeEn\": \"Soft Cheese\", \"MilkTypeEn\": \"Goat\", \"MilkTreatmentTypeEn\": \"Pasteurized\", \"FatLevel\": \"lower fat\"}, {\"ManufacturerProvCode\": \"QC\", \"ManufacturingTypeEn\": \"Industrial\", \"MoisturePercent\": 45.0, \"Organic\": 0, \"CategoryTypeEn\": \"Semi-soft Cheese\", \"MilkTypeEn\": \"Cow\", \"MilkTreatmentTypeEn\": \"Pasteurized\", \"FatLevel\": \"higher fat\"}, {\"ManufacturerProvCode\": \"ON\", \"ManufacturingTypeEn\": \"Industrial\", \"MoisturePercent\": 60.0, \"Organic\": 0, \"CategoryTypeEn\": \"Fresh Cheese\", \"MilkTypeEn\": \"Goat\", \"MilkTreatmentTypeEn\": null, \"FatLevel\": \"lower fat\"}, {\"ManufacturerProvCode\": \"ON\", \"ManufacturingTypeEn\": \"Artisan\", \"MoisturePercent\": null, \"Organic\": 0, \"CategoryTypeEn\": \"Soft Cheese\", \"MilkTypeEn\": \"Ewe\", \"MilkTreatmentTypeEn\": \"Pasteurized\", \"FatLevel\": \"lower fat\"}, {\"ManufacturerProvCode\": \"QC\", \"ManufacturingTypeEn\": \"Farmstead\", \"MoisturePercent\": 65.0, \"Organic\": 0, \"CategoryTypeEn\": \"Fresh Cheese\", \"MilkTypeEn\": \"Goat\", \"MilkTreatmentTypeEn\": \"Pasteurized\", \"FatLevel\": \"lower fat\"}, {\"ManufacturerProvCode\": \"ON\", \"ManufacturingTypeEn\": \"Industrial\", \"MoisturePercent\": 54.0, \"Organic\": 0, \"CategoryTypeEn\": \"Soft Cheese\", \"MilkTypeEn\": \"Cow\", \"MilkTreatmentTypeEn\": \"Pasteurized\", \"FatLevel\": \"higher fat\"}, {\"ManufacturerProvCode\": \"BC\", \"ManufacturingTypeEn\": \"Artisan\", \"MoisturePercent\": 44.0, \"Organic\": 0, \"CategoryTypeEn\": \"Soft Cheese\", \"MilkTypeEn\": \"Cow\", \"MilkTreatmentTypeEn\": \"Pasteurized\", \"FatLevel\": \"lower fat\"}, {\"ManufacturerProvCode\": \"QC\", \"ManufacturingTypeEn\": \"Farmstead\", \"MoisturePercent\": 52.0, \"Organic\": 1, \"CategoryTypeEn\": \"Soft Cheese\", \"MilkTypeEn\": \"Cow\", \"MilkTreatmentTypeEn\": \"Pasteurized\", \"FatLevel\": \"lower fat\"}, {\"ManufacturerProvCode\": \"QC\", \"ManufacturingTypeEn\": \"Artisan\", \"MoisturePercent\": 45.0, \"Organic\": 0, \"CategoryTypeEn\": \"Semi-soft Cheese\", \"MilkTypeEn\": \"Cow\", \"MilkTreatmentTypeEn\": \"Raw Milk\", \"FatLevel\": \"higher fat\"}, {\"ManufacturerProvCode\": \"QC\", \"ManufacturingTypeEn\": \"Industrial\", \"MoisturePercent\": 59.0, \"Organic\": 0, \"CategoryTypeEn\": \"Soft Cheese\", \"MilkTypeEn\": \"Cow\", \"MilkTreatmentTypeEn\": \"Pasteurized\", \"FatLevel\": \"lower fat\"}, {\"ManufacturerProvCode\": \"QC\", \"ManufacturingTypeEn\": \"Artisan\", \"MoisturePercent\": 43.0, \"Organic\": 0, \"CategoryTypeEn\": \"Soft Cheese\", \"MilkTypeEn\": \"Goat\", \"MilkTreatmentTypeEn\": \"Pasteurized\", \"FatLevel\": \"lower fat\"}, {\"ManufacturerProvCode\": \"QC\", \"ManufacturingTypeEn\": \"Artisan\", \"MoisturePercent\": 38.0, \"Organic\": 0, \"CategoryTypeEn\": \"Firm Cheese\", \"MilkTypeEn\": \"Cow\", \"MilkTreatmentTypeEn\": \"Thermised\", \"FatLevel\": \"higher fat\"}, {\"ManufacturerProvCode\": \"QC\", \"ManufacturingTypeEn\": \"Artisan\", \"MoisturePercent\": 65.0, \"Organic\": 0, \"CategoryTypeEn\": \"Fresh Cheese\", \"MilkTypeEn\": \"Cow\", \"MilkTreatmentTypeEn\": \"Pasteurized\", \"FatLevel\": \"lower fat\"}, {\"ManufacturerProvCode\": \"ON\", \"ManufacturingTypeEn\": \"Industrial\", \"MoisturePercent\": 42.0, \"Organic\": 0, \"CategoryTypeEn\": \"Firm Cheese\", \"MilkTypeEn\": \"Cow\", \"MilkTreatmentTypeEn\": \"Pasteurized\", \"FatLevel\": \"lower fat\"}, {\"ManufacturerProvCode\": \"QC\", \"ManufacturingTypeEn\": \"Industrial\", \"MoisturePercent\": 48.0, \"Organic\": 0, \"CategoryTypeEn\": \"Veined Cheeses\", \"MilkTypeEn\": \"Cow\", \"MilkTreatmentTypeEn\": \"Pasteurized\", \"FatLevel\": \"lower fat\"}, {\"ManufacturerProvCode\": \"QC\", \"ManufacturingTypeEn\": \"Industrial\", \"MoisturePercent\": 60.0, \"Organic\": 0, \"CategoryTypeEn\": \"Fresh Cheese\", \"MilkTypeEn\": \"Cow\", \"MilkTreatmentTypeEn\": \"Pasteurized\", \"FatLevel\": \"lower fat\"}, {\"ManufacturerProvCode\": \"QC\", \"ManufacturingTypeEn\": \"Industrial\", \"MoisturePercent\": 50.0, \"Organic\": 0, \"CategoryTypeEn\": \"Firm Cheese\", \"MilkTypeEn\": \"Cow\", \"MilkTreatmentTypeEn\": \"Pasteurized\", \"FatLevel\": \"lower fat\"}, {\"ManufacturerProvCode\": \"QC\", \"ManufacturingTypeEn\": \"Industrial\", \"MoisturePercent\": 45.0, \"Organic\": 0, \"CategoryTypeEn\": \"Firm Cheese\", \"MilkTypeEn\": \"Cow\", \"MilkTreatmentTypeEn\": \"Pasteurized\", \"FatLevel\": \"lower fat\"}, {\"ManufacturerProvCode\": \"ON\", \"ManufacturingTypeEn\": \"Industrial\", \"MoisturePercent\": 52.0, \"Organic\": 0, \"CategoryTypeEn\": \"Semi-soft Cheese\", \"MilkTypeEn\": \"Cow\", \"MilkTreatmentTypeEn\": \"Pasteurized\", \"FatLevel\": \"lower fat\"}, {\"ManufacturerProvCode\": \"QC\", \"ManufacturingTypeEn\": \"Industrial\", \"MoisturePercent\": 39.0, \"Organic\": 0, \"CategoryTypeEn\": \"Firm Cheese\", \"MilkTypeEn\": \"Cow\", \"MilkTreatmentTypeEn\": \"Pasteurized\", \"FatLevel\": \"higher fat\"}, {\"ManufacturerProvCode\": \"QC\", \"ManufacturingTypeEn\": \"Artisan\", \"MoisturePercent\": 39.0, \"Organic\": 0, \"CategoryTypeEn\": \"Firm Cheese\", \"MilkTypeEn\": \"Cow\", \"MilkTreatmentTypeEn\": \"Raw Milk\", \"FatLevel\": \"higher fat\"}, {\"ManufacturerProvCode\": \"QC\", \"ManufacturingTypeEn\": \"Industrial\", \"MoisturePercent\": 39.0, \"Organic\": 0, \"CategoryTypeEn\": \"Firm Cheese\", \"MilkTypeEn\": \"Cow\", \"MilkTreatmentTypeEn\": \"Pasteurized\", \"FatLevel\": \"higher fat\"}, {\"ManufacturerProvCode\": \"QC\", \"ManufacturingTypeEn\": \"Industrial\", \"MoisturePercent\": 39.0, \"Organic\": 0, \"CategoryTypeEn\": \"Firm Cheese\", \"MilkTypeEn\": \"Cow\", \"MilkTreatmentTypeEn\": \"Pasteurized\", \"FatLevel\": \"higher fat\"}, {\"ManufacturerProvCode\": \"ON\", \"ManufacturingTypeEn\": \"Industrial\", \"MoisturePercent\": 34.0, \"Organic\": 0, \"CategoryTypeEn\": \"Hard Cheese\", \"MilkTypeEn\": \"Cow\", \"MilkTreatmentTypeEn\": \"Pasteurized\", \"FatLevel\": \"lower fat\"}, {\"ManufacturerProvCode\": \"QC\", \"ManufacturingTypeEn\": \"Industrial\", \"MoisturePercent\": 54.0, \"Organic\": 0, \"CategoryTypeEn\": \"Soft Cheese\", \"MilkTypeEn\": \"Cow\", \"MilkTreatmentTypeEn\": \"Pasteurized\", \"FatLevel\": \"lower fat\"}, {\"ManufacturerProvCode\": \"QC\", \"ManufacturingTypeEn\": \"Artisan\", \"MoisturePercent\": 50.0, \"Organic\": 0, \"CategoryTypeEn\": \"Soft Cheese\", \"MilkTypeEn\": \"Cow\", \"MilkTreatmentTypeEn\": \"Thermised\", \"FatLevel\": \"higher fat\"}, {\"ManufacturerProvCode\": \"QC\", \"ManufacturingTypeEn\": \"Artisan\", \"MoisturePercent\": 40.0, \"Organic\": 0, \"CategoryTypeEn\": \"Firm Cheese\", \"MilkTypeEn\": \"Cow\", \"MilkTreatmentTypeEn\": \"Pasteurized\", \"FatLevel\": \"higher fat\"}, {\"ManufacturerProvCode\": \"QC\", \"ManufacturingTypeEn\": \"Artisan\", \"MoisturePercent\": 55.0, \"Organic\": 0, \"CategoryTypeEn\": \"Soft Cheese\", \"MilkTypeEn\": \"Ewe\", \"MilkTreatmentTypeEn\": \"Pasteurized\", \"FatLevel\": \"lower fat\"}, {\"ManufacturerProvCode\": \"QC\", \"ManufacturingTypeEn\": \"Farmstead\", \"MoisturePercent\": 40.0, \"Organic\": 1, \"CategoryTypeEn\": \"Hard Cheese\", \"MilkTypeEn\": \"Cow\", \"MilkTreatmentTypeEn\": null, \"FatLevel\": \"lower fat\"}, {\"ManufacturerProvCode\": \"QC\", \"ManufacturingTypeEn\": \"Artisan\", \"MoisturePercent\": 39.0, \"Organic\": 0, \"CategoryTypeEn\": \"Firm Cheese\", \"MilkTypeEn\": \"Cow\", \"MilkTreatmentTypeEn\": \"Pasteurized\", \"FatLevel\": \"higher fat\"}, {\"ManufacturerProvCode\": \"QC\", \"ManufacturingTypeEn\": \"Farmstead\", \"MoisturePercent\": 69.0, \"Organic\": 0, \"CategoryTypeEn\": \"Fresh Cheese\", \"MilkTypeEn\": \"Goat\", \"MilkTreatmentTypeEn\": \"Pasteurized\", \"FatLevel\": \"lower fat\"}, {\"ManufacturerProvCode\": \"ON\", \"ManufacturingTypeEn\": \"Industrial\", \"MoisturePercent\": 35.0, \"Organic\": 0, \"CategoryTypeEn\": \"Hard Cheese\", \"MilkTypeEn\": \"Cow\", \"MilkTreatmentTypeEn\": \"Pasteurized\", \"FatLevel\": \"higher fat\"}, {\"ManufacturerProvCode\": \"ON\", \"ManufacturingTypeEn\": \"Industrial\", \"MoisturePercent\": 46.0, \"Organic\": 0, \"CategoryTypeEn\": null, \"MilkTypeEn\": \"Cow\", \"MilkTreatmentTypeEn\": null, \"FatLevel\": \"lower fat\"}, {\"ManufacturerProvCode\": \"AB\", \"ManufacturingTypeEn\": \"Artisan\", \"MoisturePercent\": 31.0, \"Organic\": 0, \"CategoryTypeEn\": \"Firm Cheese\", \"MilkTypeEn\": \"Cow\", \"MilkTreatmentTypeEn\": \"Pasteurized\", \"FatLevel\": \"higher fat\"}, {\"ManufacturerProvCode\": \"BC\", \"ManufacturingTypeEn\": \"Artisan\", \"MoisturePercent\": 48.0, \"Organic\": 0, \"CategoryTypeEn\": \"Soft Cheese\", \"MilkTypeEn\": \"Cow\", \"MilkTreatmentTypeEn\": \"Pasteurized\", \"FatLevel\": \"higher fat\"}, {\"ManufacturerProvCode\": \"QC\", \"ManufacturingTypeEn\": \"Artisan\", \"MoisturePercent\": 78.0, \"Organic\": 1, \"CategoryTypeEn\": \"Fresh Cheese\", \"MilkTypeEn\": \"Goat\", \"MilkTreatmentTypeEn\": \"Pasteurized\", \"FatLevel\": \"lower fat\"}, {\"ManufacturerProvCode\": \"ON\", \"ManufacturingTypeEn\": \"Industrial\", \"MoisturePercent\": 52.0, \"Organic\": 0, \"CategoryTypeEn\": \"Soft Cheese\", \"MilkTypeEn\": \"Cow\", \"MilkTreatmentTypeEn\": \"Pasteurized\", \"FatLevel\": \"lower fat\"}, {\"ManufacturerProvCode\": \"QC\", \"ManufacturingTypeEn\": \"Artisan\", \"MoisturePercent\": 39.0, \"Organic\": 0, \"CategoryTypeEn\": \"Firm Cheese\", \"MilkTypeEn\": \"Cow\", \"MilkTreatmentTypeEn\": \"Pasteurized\", \"FatLevel\": \"higher fat\"}, {\"ManufacturerProvCode\": \"QC\", \"ManufacturingTypeEn\": \"Industrial\", \"MoisturePercent\": 50.0, \"Organic\": 0, \"CategoryTypeEn\": \"Soft Cheese\", \"MilkTypeEn\": \"Cow\", \"MilkTreatmentTypeEn\": \"Pasteurized\", \"FatLevel\": \"lower fat\"}, {\"ManufacturerProvCode\": \"QC\", \"ManufacturingTypeEn\": \"Artisan\", \"MoisturePercent\": 39.0, \"Organic\": 0, \"CategoryTypeEn\": \"Firm Cheese\", \"MilkTypeEn\": \"Cow\", \"MilkTreatmentTypeEn\": \"Thermised\", \"FatLevel\": \"higher fat\"}, {\"ManufacturerProvCode\": \"QC\", \"ManufacturingTypeEn\": \"Industrial\", \"MoisturePercent\": 40.0, \"Organic\": 0, \"CategoryTypeEn\": \"Firm Cheese\", \"MilkTypeEn\": \"Cow\", \"MilkTreatmentTypeEn\": \"Pasteurized\", \"FatLevel\": \"lower fat\"}, {\"ManufacturerProvCode\": \"QC\", \"ManufacturingTypeEn\": \"Artisan\", \"MoisturePercent\": 45.0, \"Organic\": 0, \"CategoryTypeEn\": \"Semi-soft Cheese\", \"MilkTypeEn\": \"Cow\", \"MilkTreatmentTypeEn\": \"Pasteurized\", \"FatLevel\": \"lower fat\"}, {\"ManufacturerProvCode\": \"QC\", \"ManufacturingTypeEn\": \"Farmstead\", \"MoisturePercent\": 45.0, \"Organic\": 0, \"CategoryTypeEn\": \"Firm Cheese\", \"MilkTypeEn\": \"Cow\", \"MilkTreatmentTypeEn\": \"Pasteurized\", \"FatLevel\": \"higher fat\"}, {\"ManufacturerProvCode\": \"QC\", \"ManufacturingTypeEn\": \"Industrial\", \"MoisturePercent\": 46.0, \"Organic\": 0, \"CategoryTypeEn\": \"Semi-soft Cheese\", \"MilkTypeEn\": \"Cow\", \"MilkTreatmentTypeEn\": \"Pasteurized\", \"FatLevel\": \"lower fat\"}, {\"ManufacturerProvCode\": \"ON\", \"ManufacturingTypeEn\": \"Artisan\", \"MoisturePercent\": 55.0, \"Organic\": 0, \"CategoryTypeEn\": \"Semi-soft Cheese\", \"MilkTypeEn\": \"Ewe\", \"MilkTreatmentTypeEn\": \"Pasteurized\", \"FatLevel\": \"lower fat\"}, {\"ManufacturerProvCode\": \"QC\", \"ManufacturingTypeEn\": \"Industrial\", \"MoisturePercent\": 47.0, \"Organic\": 0, \"CategoryTypeEn\": \"Semi-soft Cheese\", \"MilkTypeEn\": \"Cow\", \"MilkTreatmentTypeEn\": \"Pasteurized\", \"FatLevel\": \"lower fat\"}, {\"ManufacturerProvCode\": \"QC\", \"ManufacturingTypeEn\": \"Farmstead\", \"MoisturePercent\": 42.0, \"Organic\": 0, \"CategoryTypeEn\": \"Firm Cheese\", \"MilkTypeEn\": \"Cow\", \"MilkTreatmentTypeEn\": \"Pasteurized\", \"FatLevel\": \"lower fat\"}, {\"ManufacturerProvCode\": \"QC\", \"ManufacturingTypeEn\": \"Industrial\", \"MoisturePercent\": 56.0, \"Organic\": 0, \"CategoryTypeEn\": \"Soft Cheese\", \"MilkTypeEn\": \"Cow\", \"MilkTreatmentTypeEn\": \"Pasteurized\", \"FatLevel\": \"lower fat\"}, {\"ManufacturerProvCode\": \"QC\", \"ManufacturingTypeEn\": \"Industrial\", \"MoisturePercent\": 40.0, \"Organic\": 0, \"CategoryTypeEn\": \"Firm Cheese\", \"MilkTypeEn\": \"Cow\", \"MilkTreatmentTypeEn\": \"Pasteurized\", \"FatLevel\": \"lower fat\"}, {\"ManufacturerProvCode\": \"QC\", \"ManufacturingTypeEn\": \"Industrial\", \"MoisturePercent\": 39.0, \"Organic\": 0, \"CategoryTypeEn\": \"Firm Cheese\", \"MilkTypeEn\": \"Cow\", \"MilkTreatmentTypeEn\": \"Pasteurized\", \"FatLevel\": \"higher fat\"}, {\"ManufacturerProvCode\": \"NL\", \"ManufacturingTypeEn\": \"Industrial\", \"MoisturePercent\": 40.0, \"Organic\": 0, \"CategoryTypeEn\": null, \"MilkTypeEn\": \"Cow\", \"MilkTreatmentTypeEn\": null, \"FatLevel\": \"lower fat\"}, {\"ManufacturerProvCode\": \"QC\", \"ManufacturingTypeEn\": \"Artisan\", \"MoisturePercent\": 47.9, \"Organic\": 0, \"CategoryTypeEn\": \"Firm Cheese\", \"MilkTypeEn\": \"Cow\", \"MilkTreatmentTypeEn\": \"Pasteurized\", \"FatLevel\": \"lower fat\"}, {\"ManufacturerProvCode\": \"QC\", \"ManufacturingTypeEn\": \"Artisan\", \"MoisturePercent\": 32.0, \"Organic\": 1, \"CategoryTypeEn\": \"Hard Cheese\", \"MilkTypeEn\": \"Cow\", \"MilkTreatmentTypeEn\": \"Pasteurized\", \"FatLevel\": \"higher fat\"}, {\"ManufacturerProvCode\": \"MB\", \"ManufacturingTypeEn\": \"Farmstead\", \"MoisturePercent\": 42.0, \"Organic\": 0, \"CategoryTypeEn\": \"Firm Cheese\", \"MilkTypeEn\": \"Cow\", \"MilkTreatmentTypeEn\": \"Pasteurized\", \"FatLevel\": \"lower fat\"}, {\"ManufacturerProvCode\": \"QC\", \"ManufacturingTypeEn\": \"Artisan\", \"MoisturePercent\": 63.0, \"Organic\": 0, \"CategoryTypeEn\": \"Soft Cheese\", \"MilkTypeEn\": \"Ewe\", \"MilkTreatmentTypeEn\": \"Pasteurized\", \"FatLevel\": \"lower fat\"}, {\"ManufacturerProvCode\": \"ON\", \"ManufacturingTypeEn\": \"Artisan\", \"MoisturePercent\": null, \"Organic\": 0, \"CategoryTypeEn\": \"Fresh Cheese\", \"MilkTypeEn\": \"Ewe\", \"MilkTreatmentTypeEn\": \"Pasteurized\", \"FatLevel\": \"lower fat\"}, {\"ManufacturerProvCode\": \"ON\", \"ManufacturingTypeEn\": \"Artisan\", \"MoisturePercent\": 42.6, \"Organic\": 0, \"CategoryTypeEn\": \"Hard Cheese\", \"MilkTypeEn\": \"Goat\", \"MilkTreatmentTypeEn\": null, \"FatLevel\": \"lower fat\"}, {\"ManufacturerProvCode\": \"QC\", \"ManufacturingTypeEn\": \"Industrial\", \"MoisturePercent\": 56.0, \"Organic\": 0, \"CategoryTypeEn\": \"Soft Cheese\", \"MilkTypeEn\": \"Goat\", \"MilkTreatmentTypeEn\": \"Pasteurized\", \"FatLevel\": \"lower fat\"}, {\"ManufacturerProvCode\": \"QC\", \"ManufacturingTypeEn\": \"Artisan\", \"MoisturePercent\": 41.0, \"Organic\": 0, \"CategoryTypeEn\": \"Firm Cheese\", \"MilkTypeEn\": \"Cow\", \"MilkTreatmentTypeEn\": \"Pasteurized\", \"FatLevel\": \"higher fat\"}, {\"ManufacturerProvCode\": \"QC\", \"ManufacturingTypeEn\": \"Industrial\", \"MoisturePercent\": 45.0, \"Organic\": 0, \"CategoryTypeEn\": \"Firm Cheese\", \"MilkTypeEn\": \"Cow\", \"MilkTreatmentTypeEn\": \"Pasteurized\", \"FatLevel\": \"lower fat\"}, {\"ManufacturerProvCode\": \"QC\", \"ManufacturingTypeEn\": \"Artisan\", \"MoisturePercent\": 83.0, \"Organic\": 0, \"CategoryTypeEn\": \"Fresh Cheese\", \"MilkTypeEn\": \"Cow\", \"MilkTreatmentTypeEn\": \"Pasteurized\", \"FatLevel\": \"lower fat\"}, {\"ManufacturerProvCode\": \"QC\", \"ManufacturingTypeEn\": \"Artisan\", \"MoisturePercent\": 45.0, \"Organic\": 0, \"CategoryTypeEn\": \"Firm Cheese\", \"MilkTypeEn\": \"Goat\", \"MilkTreatmentTypeEn\": \"Raw Milk\", \"FatLevel\": \"lower fat\"}, {\"ManufacturerProvCode\": \"QC\", \"ManufacturingTypeEn\": \"Artisan\", \"MoisturePercent\": 50.0, \"Organic\": 0, \"CategoryTypeEn\": \"Soft Cheese\", \"MilkTypeEn\": \"Cow\", \"MilkTreatmentTypeEn\": \"Pasteurized\", \"FatLevel\": \"lower fat\"}, {\"ManufacturerProvCode\": \"QC\", \"ManufacturingTypeEn\": \"Industrial\", \"MoisturePercent\": 50.0, \"Organic\": 0, \"CategoryTypeEn\": \"Fresh Cheese\", \"MilkTypeEn\": \"Goat\", \"MilkTreatmentTypeEn\": \"Pasteurized\", \"FatLevel\": \"lower fat\"}, {\"ManufacturerProvCode\": \"QC\", \"ManufacturingTypeEn\": \"Farmstead\", \"MoisturePercent\": 37.0, \"Organic\": 0, \"CategoryTypeEn\": \"Firm Cheese\", \"MilkTypeEn\": \"Cow\", \"MilkTreatmentTypeEn\": \"Raw Milk\", \"FatLevel\": \"higher fat\"}, {\"ManufacturerProvCode\": \"QC\", \"ManufacturingTypeEn\": \"Artisan\", \"MoisturePercent\": 50.0, \"Organic\": 0, \"CategoryTypeEn\": \"Soft Cheese\", \"MilkTypeEn\": \"Cow\", \"MilkTreatmentTypeEn\": \"Pasteurized\", \"FatLevel\": \"lower fat\"}, {\"ManufacturerProvCode\": \"QC\", \"ManufacturingTypeEn\": \"Farmstead\", \"MoisturePercent\": 39.0, \"Organic\": 0, \"CategoryTypeEn\": \"Firm Cheese\", \"MilkTypeEn\": \"Cow\", \"MilkTreatmentTypeEn\": null, \"FatLevel\": \"higher fat\"}, {\"ManufacturerProvCode\": \"QC\", \"ManufacturingTypeEn\": \"Industrial\", \"MoisturePercent\": null, \"Organic\": 0, \"CategoryTypeEn\": \"Firm Cheese\", \"MilkTypeEn\": \"Cow\", \"MilkTreatmentTypeEn\": \"Pasteurized\", \"FatLevel\": \"lower fat\"}, {\"ManufacturerProvCode\": \"BC\", \"ManufacturingTypeEn\": \"Artisan\", \"MoisturePercent\": 48.0, \"Organic\": 0, \"CategoryTypeEn\": \"Soft Cheese\", \"MilkTypeEn\": \"Cow\", \"MilkTreatmentTypeEn\": \"Pasteurized\", \"FatLevel\": \"lower fat\"}, {\"ManufacturerProvCode\": \"QC\", \"ManufacturingTypeEn\": \"Artisan\", \"MoisturePercent\": 50.0, \"Organic\": 0, \"CategoryTypeEn\": null, \"MilkTypeEn\": \"Ewe\", \"MilkTreatmentTypeEn\": \"Pasteurized\", \"FatLevel\": \"higher fat\"}, {\"ManufacturerProvCode\": \"QC\", \"ManufacturingTypeEn\": \"Artisan\", \"MoisturePercent\": 24.0, \"Organic\": 0, \"CategoryTypeEn\": \"Firm Cheese\", \"MilkTypeEn\": \"Cow\", \"MilkTreatmentTypeEn\": \"Raw Milk\", \"FatLevel\": \"higher fat\"}, {\"ManufacturerProvCode\": \"QC\", \"ManufacturingTypeEn\": \"Industrial\", \"MoisturePercent\": 50.0, \"Organic\": 0, \"CategoryTypeEn\": \"Soft Cheese\", \"MilkTypeEn\": \"Goat\", \"MilkTreatmentTypeEn\": \"Pasteurized\", \"FatLevel\": \"lower fat\"}, {\"ManufacturerProvCode\": \"QC\", \"ManufacturingTypeEn\": \"Industrial\", \"MoisturePercent\": 70.0, \"Organic\": 0, \"CategoryTypeEn\": \"Fresh Cheese\", \"MilkTypeEn\": \"Goat\", \"MilkTreatmentTypeEn\": \"Pasteurized\", \"FatLevel\": \"lower fat\"}, {\"ManufacturerProvCode\": \"QC\", \"ManufacturingTypeEn\": \"Industrial\", \"MoisturePercent\": 39.0, \"Organic\": 0, \"CategoryTypeEn\": \"Firm Cheese\", \"MilkTypeEn\": \"Goat\", \"MilkTreatmentTypeEn\": \"Pasteurized\", \"FatLevel\": \"higher fat\"}, {\"ManufacturerProvCode\": \"QC\", \"ManufacturingTypeEn\": \"Artisan\", \"MoisturePercent\": 42.0, \"Organic\": 0, \"CategoryTypeEn\": \"Fresh Cheese\", \"MilkTypeEn\": \"Cow\", \"MilkTreatmentTypeEn\": \"Pasteurized\", \"FatLevel\": \"higher fat\"}, {\"ManufacturerProvCode\": \"QC\", \"ManufacturingTypeEn\": \"Industrial\", \"MoisturePercent\": 40.0, \"Organic\": 0, \"CategoryTypeEn\": \"Firm Cheese\", \"MilkTypeEn\": \"Cow\", \"MilkTreatmentTypeEn\": \"Pasteurized\", \"FatLevel\": \"lower fat\"}, {\"ManufacturerProvCode\": \"QC\", \"ManufacturingTypeEn\": \"Artisan\", \"MoisturePercent\": 34.0, \"Organic\": 0, \"CategoryTypeEn\": \"Firm Cheese\", \"MilkTypeEn\": \"Cow\", \"MilkTreatmentTypeEn\": \"Pasteurized\", \"FatLevel\": \"higher fat\"}, {\"ManufacturerProvCode\": \"QC\", \"ManufacturingTypeEn\": \"Industrial\", \"MoisturePercent\": 50.0, \"Organic\": 0, \"CategoryTypeEn\": \"Soft Cheese\", \"MilkTypeEn\": \"Cow\", \"MilkTreatmentTypeEn\": null, \"FatLevel\": \"lower fat\"}, {\"ManufacturerProvCode\": \"ON\", \"ManufacturingTypeEn\": \"Industrial\", \"MoisturePercent\": 52.0, \"Organic\": 0, \"CategoryTypeEn\": \"Semi-soft Cheese\", \"MilkTypeEn\": \"Cow\", \"MilkTreatmentTypeEn\": \"Pasteurized\", \"FatLevel\": \"lower fat\"}, {\"ManufacturerProvCode\": \"ON\", \"ManufacturingTypeEn\": \"Industrial\", \"MoisturePercent\": 55.0, \"Organic\": 0, \"CategoryTypeEn\": \"Soft Cheese\", \"MilkTypeEn\": \"Goat\", \"MilkTreatmentTypeEn\": \"Pasteurized\", \"FatLevel\": \"higher fat\"}, {\"ManufacturerProvCode\": \"NS\", \"ManufacturingTypeEn\": \"Industrial\", \"MoisturePercent\": 55.0, \"Organic\": 0, \"CategoryTypeEn\": \"Semi-soft Cheese\", \"MilkTypeEn\": \"Cow\", \"MilkTreatmentTypeEn\": \"Pasteurized\", \"FatLevel\": \"lower fat\"}, {\"ManufacturerProvCode\": \"QC\", \"ManufacturingTypeEn\": \"Artisan\", \"MoisturePercent\": 65.0, \"Organic\": 0, \"CategoryTypeEn\": \"Fresh Cheese\", \"MilkTypeEn\": \"Goat\", \"MilkTreatmentTypeEn\": \"Pasteurized\", \"FatLevel\": \"lower fat\"}, {\"ManufacturerProvCode\": \"QC\", \"ManufacturingTypeEn\": \"Industrial\", \"MoisturePercent\": 50.0, \"Organic\": 0, \"CategoryTypeEn\": \"Soft Cheese\", \"MilkTypeEn\": \"Cow\", \"MilkTreatmentTypeEn\": \"Pasteurized\", \"FatLevel\": \"lower fat\"}, {\"ManufacturerProvCode\": \"QC\", \"ManufacturingTypeEn\": \"Artisan\", \"MoisturePercent\": 34.0, \"Organic\": 0, \"CategoryTypeEn\": \"Firm Cheese\", \"MilkTypeEn\": \"Cow\", \"MilkTreatmentTypeEn\": \"Raw Milk\", \"FatLevel\": \"higher fat\"}, {\"ManufacturerProvCode\": \"ON\", \"ManufacturingTypeEn\": \"Industrial\", \"MoisturePercent\": 55.0, \"Organic\": 0, \"CategoryTypeEn\": \"Soft Cheese\", \"MilkTypeEn\": \"Cow\", \"MilkTreatmentTypeEn\": \"Pasteurized\", \"FatLevel\": \"lower fat\"}, {\"ManufacturerProvCode\": \"QC\", \"ManufacturingTypeEn\": \"Farmstead\", \"MoisturePercent\": 48.0, \"Organic\": 0, \"CategoryTypeEn\": \"Semi-soft Cheese\", \"MilkTypeEn\": \"Cow\", \"MilkTreatmentTypeEn\": \"Raw Milk\", \"FatLevel\": \"lower fat\"}, {\"ManufacturerProvCode\": \"QC\", \"ManufacturingTypeEn\": \"Farmstead\", \"MoisturePercent\": 40.0, \"Organic\": 0, \"CategoryTypeEn\": \"Hard Cheese\", \"MilkTypeEn\": \"Cow\", \"MilkTreatmentTypeEn\": null, \"FatLevel\": \"lower fat\"}, {\"ManufacturerProvCode\": \"QC\", \"ManufacturingTypeEn\": \"Industrial\", \"MoisturePercent\": 50.0, \"Organic\": 0, \"CategoryTypeEn\": \"Firm Cheese\", \"MilkTypeEn\": \"Cow\", \"MilkTreatmentTypeEn\": \"Pasteurized\", \"FatLevel\": \"lower fat\"}, {\"ManufacturerProvCode\": \"QC\", \"ManufacturingTypeEn\": \"Industrial\", \"MoisturePercent\": 43.0, \"Organic\": 0, \"CategoryTypeEn\": \"Semi-soft Cheese\", \"MilkTypeEn\": \"Goat\", \"MilkTreatmentTypeEn\": \"Pasteurized\", \"FatLevel\": \"lower fat\"}, {\"ManufacturerProvCode\": \"QC\", \"ManufacturingTypeEn\": \"Farmstead\", \"MoisturePercent\": 47.0, \"Organic\": 0, \"CategoryTypeEn\": \"Soft Cheese\", \"MilkTypeEn\": \"Cow\", \"MilkTreatmentTypeEn\": \"Raw Milk\", \"FatLevel\": \"higher fat\"}, {\"ManufacturerProvCode\": \"QC\", \"ManufacturingTypeEn\": \"Industrial\", \"MoisturePercent\": 50.0, \"Organic\": 0, \"CategoryTypeEn\": \"Soft Cheese\", \"MilkTypeEn\": \"Goat\", \"MilkTreatmentTypeEn\": \"Pasteurized\", \"FatLevel\": \"lower fat\"}, {\"ManufacturerProvCode\": \"BC\", \"ManufacturingTypeEn\": \"Farmstead\", \"MoisturePercent\": 40.3, \"Organic\": 1, \"CategoryTypeEn\": \"Veined Cheeses\", \"MilkTypeEn\": \"Cow\", \"MilkTreatmentTypeEn\": \"Pasteurized\", \"FatLevel\": \"lower fat\"}, {\"ManufacturerProvCode\": \"QC\", \"ManufacturingTypeEn\": \"Artisan\", \"MoisturePercent\": 47.0, \"Organic\": 0, \"CategoryTypeEn\": \"Firm Cheese\", \"MilkTypeEn\": \"Cow\", \"MilkTreatmentTypeEn\": \"Pasteurized\", \"FatLevel\": \"lower fat\"}, {\"ManufacturerProvCode\": \"ON\", \"ManufacturingTypeEn\": \"Industrial\", \"MoisturePercent\": 45.0, \"Organic\": 0, \"CategoryTypeEn\": \"Firm Cheese\", \"MilkTypeEn\": \"Cow\", \"MilkTreatmentTypeEn\": \"Pasteurized\", \"FatLevel\": \"lower fat\"}, {\"ManufacturerProvCode\": \"QC\", \"ManufacturingTypeEn\": \"Farmstead\", \"MoisturePercent\": 39.0, \"Organic\": 0, \"CategoryTypeEn\": \"Firm Cheese\", \"MilkTypeEn\": \"Cow\", \"MilkTreatmentTypeEn\": \"Raw Milk\", \"FatLevel\": \"higher fat\"}, {\"ManufacturerProvCode\": \"QC\", \"ManufacturingTypeEn\": \"Artisan\", \"MoisturePercent\": 47.0, \"Organic\": 0, \"CategoryTypeEn\": \"Semi-soft Cheese\", \"MilkTypeEn\": \"Cow\", \"MilkTreatmentTypeEn\": \"Raw Milk\", \"FatLevel\": \"lower fat\"}, {\"ManufacturerProvCode\": \"QC\", \"ManufacturingTypeEn\": \"Artisan\", \"MoisturePercent\": 39.0, \"Organic\": 1, \"CategoryTypeEn\": \"Firm Cheese\", \"MilkTypeEn\": \"Cow\", \"MilkTreatmentTypeEn\": \"Pasteurized\", \"FatLevel\": \"higher fat\"}, {\"ManufacturerProvCode\": \"QC\", \"ManufacturingTypeEn\": \"Farmstead\", \"MoisturePercent\": 60.0, \"Organic\": 0, \"CategoryTypeEn\": \"Soft Cheese\", \"MilkTypeEn\": \"Goat\", \"MilkTreatmentTypeEn\": \"Thermised\", \"FatLevel\": \"lower fat\"}, {\"ManufacturerProvCode\": \"ON\", \"ManufacturingTypeEn\": \"Industrial\", \"MoisturePercent\": 38.0, \"Organic\": 0, \"CategoryTypeEn\": \"Fresh Cheese\", \"MilkTypeEn\": \"Cow and Goat\", \"MilkTreatmentTypeEn\": \"Pasteurized\", \"FatLevel\": \"lower fat\"}, {\"ManufacturerProvCode\": \"ON\", \"ManufacturingTypeEn\": \"Industrial\", \"MoisturePercent\": 37.0, \"Organic\": 0, \"CategoryTypeEn\": null, \"MilkTypeEn\": \"Cow\", \"MilkTreatmentTypeEn\": null, \"FatLevel\": \"higher fat\"}, {\"ManufacturerProvCode\": \"QC\", \"ManufacturingTypeEn\": \"Farmstead\", \"MoisturePercent\": 46.0, \"Organic\": 0, \"CategoryTypeEn\": \"Semi-soft Cheese\", \"MilkTypeEn\": \"Cow\", \"MilkTreatmentTypeEn\": \"Pasteurized\", \"FatLevel\": \"lower fat\"}, {\"ManufacturerProvCode\": \"NB\", \"ManufacturingTypeEn\": \"Farmstead\", \"MoisturePercent\": 50.0, \"Organic\": 0, \"CategoryTypeEn\": \"Fresh Cheese\", \"MilkTypeEn\": \"Goat\", \"MilkTreatmentTypeEn\": \"Pasteurized\", \"FatLevel\": \"lower fat\"}, {\"ManufacturerProvCode\": \"QC\", \"ManufacturingTypeEn\": \"Industrial\", \"MoisturePercent\": 41.0, \"Organic\": 0, \"CategoryTypeEn\": \"Firm Cheese\", \"MilkTypeEn\": \"Cow\", \"MilkTreatmentTypeEn\": \"Pasteurized\", \"FatLevel\": \"higher fat\"}, {\"ManufacturerProvCode\": \"QC\", \"ManufacturingTypeEn\": \"Industrial\", \"MoisturePercent\": 50.0, \"Organic\": 0, \"CategoryTypeEn\": \"Soft Cheese\", \"MilkTypeEn\": \"Cow\", \"MilkTreatmentTypeEn\": \"Pasteurized\", \"FatLevel\": \"higher fat\"}, {\"ManufacturerProvCode\": \"QC\", \"ManufacturingTypeEn\": \"Industrial\", \"MoisturePercent\": 46.0, \"Organic\": 0, \"CategoryTypeEn\": \"Firm Cheese\", \"MilkTypeEn\": \"Cow\", \"MilkTreatmentTypeEn\": null, \"FatLevel\": \"lower fat\"}, {\"ManufacturerProvCode\": \"QC\", \"ManufacturingTypeEn\": \"Artisan\", \"MoisturePercent\": 58.0, \"Organic\": 0, \"CategoryTypeEn\": \"Soft Cheese\", \"MilkTypeEn\": \"Goat\", \"MilkTreatmentTypeEn\": \"Pasteurized\", \"FatLevel\": \"lower fat\"}, {\"ManufacturerProvCode\": \"BC\", \"ManufacturingTypeEn\": \"Artisan\", \"MoisturePercent\": 36.0, \"Organic\": 0, \"CategoryTypeEn\": \"Firm Cheese\", \"MilkTypeEn\": \"Cow\", \"MilkTreatmentTypeEn\": \"Raw Milk\", \"FatLevel\": \"higher fat\"}, {\"ManufacturerProvCode\": \"QC\", \"ManufacturingTypeEn\": \"Artisan\", \"MoisturePercent\": 40.0, \"Organic\": 0, \"CategoryTypeEn\": \"Firm Cheese\", \"MilkTypeEn\": \"Ewe\", \"MilkTreatmentTypeEn\": \"Thermised\", \"FatLevel\": \"lower fat\"}, {\"ManufacturerProvCode\": \"QC\", \"ManufacturingTypeEn\": \"Industrial\", \"MoisturePercent\": 55.0, \"Organic\": 0, \"CategoryTypeEn\": \"Fresh Cheese\", \"MilkTypeEn\": \"Cow and Goat\", \"MilkTreatmentTypeEn\": \"Pasteurized\", \"FatLevel\": \"lower fat\"}, {\"ManufacturerProvCode\": \"QC\", \"ManufacturingTypeEn\": \"Industrial\", \"MoisturePercent\": 39.0, \"Organic\": 0, \"CategoryTypeEn\": \"Firm Cheese\", \"MilkTypeEn\": \"Cow\", \"MilkTreatmentTypeEn\": \"Pasteurized\", \"FatLevel\": \"higher fat\"}, {\"ManufacturerProvCode\": \"ON\", \"ManufacturingTypeEn\": \"Industrial\", \"MoisturePercent\": 22.0, \"Organic\": 0, \"CategoryTypeEn\": \"Hard Cheese\", \"MilkTypeEn\": \"Cow\", \"MilkTreatmentTypeEn\": \"Pasteurized\", \"FatLevel\": \"higher fat\"}, {\"ManufacturerProvCode\": \"QC\", \"ManufacturingTypeEn\": \"Industrial\", \"MoisturePercent\": 54.0, \"Organic\": 0, \"CategoryTypeEn\": \"Soft Cheese\", \"MilkTypeEn\": \"Cow\", \"MilkTreatmentTypeEn\": \"Pasteurized\", \"FatLevel\": \"lower fat\"}, {\"ManufacturerProvCode\": \"QC\", \"ManufacturingTypeEn\": \"Artisan\", \"MoisturePercent\": 41.0, \"Organic\": 0, \"CategoryTypeEn\": \"Firm Cheese\", \"MilkTypeEn\": \"Ewe\", \"MilkTreatmentTypeEn\": \"Pasteurized\", \"FatLevel\": \"higher fat\"}, {\"ManufacturerProvCode\": \"QC\", \"ManufacturingTypeEn\": \"Artisan\", \"MoisturePercent\": 63.0, \"Organic\": 0, \"CategoryTypeEn\": \"Fresh Cheese\", \"MilkTypeEn\": \"Goat\", \"MilkTreatmentTypeEn\": \"Pasteurized\", \"FatLevel\": \"lower fat\"}, {\"ManufacturerProvCode\": \"QC\", \"ManufacturingTypeEn\": \"Farmstead\", \"MoisturePercent\": 52.0, \"Organic\": 0, \"CategoryTypeEn\": \"Soft Cheese\", \"MilkTypeEn\": \"Cow\", \"MilkTreatmentTypeEn\": \"Pasteurized\", \"FatLevel\": \"higher fat\"}, {\"ManufacturerProvCode\": \"QC\", \"ManufacturingTypeEn\": \"Industrial\", \"MoisturePercent\": 56.0, \"Organic\": 0, \"CategoryTypeEn\": \"Soft Cheese\", \"MilkTypeEn\": \"Cow\", \"MilkTreatmentTypeEn\": \"Pasteurized\", \"FatLevel\": \"lower fat\"}, {\"ManufacturerProvCode\": \"BC\", \"ManufacturingTypeEn\": \"Artisan\", \"MoisturePercent\": 30.0, \"Organic\": 0, \"CategoryTypeEn\": \"Firm Cheese\", \"MilkTypeEn\": \"Cow\", \"MilkTreatmentTypeEn\": \"Pasteurized\", \"FatLevel\": \"higher fat\"}, {\"ManufacturerProvCode\": \"QC\", \"ManufacturingTypeEn\": \"Farmstead\", \"MoisturePercent\": 58.0, \"Organic\": 0, \"CategoryTypeEn\": \"Soft Cheese\", \"MilkTypeEn\": \"Ewe\", \"MilkTreatmentTypeEn\": \"Pasteurized\", \"FatLevel\": \"lower fat\"}, {\"ManufacturerProvCode\": \"QC\", \"ManufacturingTypeEn\": \"Industrial\", \"MoisturePercent\": 42.0, \"Organic\": 0, \"CategoryTypeEn\": \"Firm Cheese\", \"MilkTypeEn\": \"Cow\", \"MilkTreatmentTypeEn\": \"Pasteurized\", \"FatLevel\": \"lower fat\"}, {\"ManufacturerProvCode\": \"QC\", \"ManufacturingTypeEn\": \"Industrial\", \"MoisturePercent\": 50.0, \"Organic\": 0, \"CategoryTypeEn\": \"Soft Cheese\", \"MilkTypeEn\": \"Cow, Goat and Ewe\", \"MilkTreatmentTypeEn\": \"Pasteurized\", \"FatLevel\": \"lower fat\"}, {\"ManufacturerProvCode\": \"QC\", \"ManufacturingTypeEn\": \"Artisan\", \"MoisturePercent\": 48.0, \"Organic\": 0, \"CategoryTypeEn\": \"Firm Cheese\", \"MilkTypeEn\": \"Cow\", \"MilkTreatmentTypeEn\": \"Pasteurized\", \"FatLevel\": \"lower fat\"}, {\"ManufacturerProvCode\": \"QC\", \"ManufacturingTypeEn\": \"Farmstead\", \"MoisturePercent\": 42.0, \"Organic\": 1, \"CategoryTypeEn\": \"Semi-soft Cheese\", \"MilkTypeEn\": \"Cow\", \"MilkTreatmentTypeEn\": \"Pasteurized\", \"FatLevel\": \"lower fat\"}, {\"ManufacturerProvCode\": \"ON\", \"ManufacturingTypeEn\": \"Industrial\", \"MoisturePercent\": 45.0, \"Organic\": 0, \"CategoryTypeEn\": \"Firm Cheese\", \"MilkTypeEn\": \"Cow\", \"MilkTreatmentTypeEn\": \"Pasteurized\", \"FatLevel\": \"lower fat\"}, {\"ManufacturerProvCode\": \"QC\", \"ManufacturingTypeEn\": \"Artisan\", \"MoisturePercent\": 45.0, \"Organic\": 0, \"CategoryTypeEn\": \"Semi-soft Cheese\", \"MilkTypeEn\": \"Cow\", \"MilkTreatmentTypeEn\": \"Pasteurized\", \"FatLevel\": \"lower fat\"}, {\"ManufacturerProvCode\": \"QC\", \"ManufacturingTypeEn\": \"Farmstead\", \"MoisturePercent\": 48.0, \"Organic\": 1, \"CategoryTypeEn\": \"Soft Cheese\", \"MilkTypeEn\": \"Goat\", \"MilkTreatmentTypeEn\": \"Pasteurized\", \"FatLevel\": \"lower fat\"}, {\"ManufacturerProvCode\": \"QC\", \"ManufacturingTypeEn\": \"Industrial\", \"MoisturePercent\": 45.0, \"Organic\": 0, \"CategoryTypeEn\": \"Veined Cheeses\", \"MilkTypeEn\": \"Cow\", \"MilkTreatmentTypeEn\": \"Pasteurized\", \"FatLevel\": \"higher fat\"}, {\"ManufacturerProvCode\": \"QC\", \"ManufacturingTypeEn\": \"Farmstead\", \"MoisturePercent\": 39.0, \"Organic\": 1, \"CategoryTypeEn\": \"Firm Cheese\", \"MilkTypeEn\": \"Cow\", \"MilkTreatmentTypeEn\": \"Pasteurized\", \"FatLevel\": \"higher fat\"}, {\"ManufacturerProvCode\": \"QC\", \"ManufacturingTypeEn\": \"Artisan\", \"MoisturePercent\": 64.0, \"Organic\": 0, \"CategoryTypeEn\": \"Fresh Cheese\", \"MilkTypeEn\": \"Cow\", \"MilkTreatmentTypeEn\": \"Pasteurized\", \"FatLevel\": \"lower fat\"}, {\"ManufacturerProvCode\": \"QC\", \"ManufacturingTypeEn\": \"Artisan\", \"MoisturePercent\": 45.0, \"Organic\": 0, \"CategoryTypeEn\": \"Fresh Cheese\", \"MilkTypeEn\": \"Goat\", \"MilkTreatmentTypeEn\": \"Pasteurized\", \"FatLevel\": \"lower fat\"}, {\"ManufacturerProvCode\": \"QC\", \"ManufacturingTypeEn\": \"Industrial\", \"MoisturePercent\": 50.0, \"Organic\": 0, \"CategoryTypeEn\": \"Soft Cheese\", \"MilkTypeEn\": \"Cow\", \"MilkTreatmentTypeEn\": \"Pasteurized\", \"FatLevel\": \"higher fat\"}, {\"ManufacturerProvCode\": \"QC\", \"ManufacturingTypeEn\": \"Industrial\", \"MoisturePercent\": 38.0, \"Organic\": 0, \"CategoryTypeEn\": \"Firm Cheese\", \"MilkTypeEn\": \"Cow\", \"MilkTreatmentTypeEn\": \"Pasteurized\", \"FatLevel\": \"lower fat\"}, {\"ManufacturerProvCode\": \"ON\", \"ManufacturingTypeEn\": \"Industrial\", \"MoisturePercent\": 52.0, \"Organic\": 0, \"CategoryTypeEn\": \"Semi-soft Cheese\", \"MilkTypeEn\": \"Cow\", \"MilkTreatmentTypeEn\": \"Pasteurized\", \"FatLevel\": \"lower fat\"}, {\"ManufacturerProvCode\": \"QC\", \"ManufacturingTypeEn\": \"Industrial\", \"MoisturePercent\": 50.0, \"Organic\": 0, \"CategoryTypeEn\": \"Soft Cheese\", \"MilkTypeEn\": \"Cow\", \"MilkTreatmentTypeEn\": \"Pasteurized\", \"FatLevel\": \"lower fat\"}, {\"ManufacturerProvCode\": \"QC\", \"ManufacturingTypeEn\": \"Industrial\", \"MoisturePercent\": 35.0, \"Organic\": 0, \"CategoryTypeEn\": \"Firm Cheese\", \"MilkTypeEn\": \"Cow\", \"MilkTreatmentTypeEn\": \"Raw Milk\", \"FatLevel\": \"higher fat\"}, {\"ManufacturerProvCode\": \"QC\", \"ManufacturingTypeEn\": \"Industrial\", \"MoisturePercent\": 50.0, \"Organic\": 0, \"CategoryTypeEn\": \"Soft Cheese\", \"MilkTypeEn\": \"Cow\", \"MilkTreatmentTypeEn\": \"Pasteurized\", \"FatLevel\": \"lower fat\"}, {\"ManufacturerProvCode\": \"QC\", \"ManufacturingTypeEn\": \"Industrial\", \"MoisturePercent\": 80.0, \"Organic\": 0, \"CategoryTypeEn\": \"Fresh Cheese\", \"MilkTypeEn\": \"Buffalo Cow\", \"MilkTreatmentTypeEn\": \"Pasteurized\", \"FatLevel\": \"lower fat\"}, {\"ManufacturerProvCode\": \"QC\", \"ManufacturingTypeEn\": \"Artisan\", \"MoisturePercent\": 40.0, \"Organic\": 0, \"CategoryTypeEn\": null, \"MilkTypeEn\": \"Ewe\", \"MilkTreatmentTypeEn\": \"Pasteurized\", \"FatLevel\": \"lower fat\"}, {\"ManufacturerProvCode\": \"QC\", \"ManufacturingTypeEn\": \"Industrial\", \"MoisturePercent\": 50.0, \"Organic\": 0, \"CategoryTypeEn\": \"Soft Cheese\", \"MilkTypeEn\": \"Cow\", \"MilkTreatmentTypeEn\": \"Pasteurized\", \"FatLevel\": \"lower fat\"}, {\"ManufacturerProvCode\": \"QC\", \"ManufacturingTypeEn\": \"Industrial\", \"MoisturePercent\": 56.0, \"Organic\": 0, \"CategoryTypeEn\": \"Soft Cheese\", \"MilkTypeEn\": \"Cow and Goat\", \"MilkTreatmentTypeEn\": \"Pasteurized\", \"FatLevel\": \"lower fat\"}, {\"ManufacturerProvCode\": \"QC\", \"ManufacturingTypeEn\": \"Artisan\", \"MoisturePercent\": 55.0, \"Organic\": 0, \"CategoryTypeEn\": \"Fresh Cheese\", \"MilkTypeEn\": \"Ewe\", \"MilkTreatmentTypeEn\": \"Pasteurized\", \"FatLevel\": \"lower fat\"}, {\"ManufacturerProvCode\": \"QC\", \"ManufacturingTypeEn\": \"Industrial\", \"MoisturePercent\": 50.0, \"Organic\": 0, \"CategoryTypeEn\": \"Semi-soft Cheese\", \"MilkTypeEn\": \"Cow\", \"MilkTreatmentTypeEn\": \"Pasteurized\", \"FatLevel\": \"lower fat\"}, {\"ManufacturerProvCode\": \"QC\", \"ManufacturingTypeEn\": \"Artisan\", \"MoisturePercent\": 55.0, \"Organic\": 0, \"CategoryTypeEn\": \"Soft Cheese\", \"MilkTypeEn\": \"Ewe\", \"MilkTreatmentTypeEn\": \"Pasteurized\", \"FatLevel\": \"lower fat\"}, {\"ManufacturerProvCode\": \"QC\", \"ManufacturingTypeEn\": \"Artisan\", \"MoisturePercent\": 50.0, \"Organic\": 0, \"CategoryTypeEn\": \"Semi-soft Cheese\", \"MilkTypeEn\": \"Cow\", \"MilkTreatmentTypeEn\": \"Pasteurized\", \"FatLevel\": \"lower fat\"}, {\"ManufacturerProvCode\": \"QC\", \"ManufacturingTypeEn\": \"Industrial\", \"MoisturePercent\": 50.0, \"Organic\": 0, \"CategoryTypeEn\": \"Soft Cheese\", \"MilkTypeEn\": \"Cow\", \"MilkTreatmentTypeEn\": \"Pasteurized\", \"FatLevel\": \"higher fat\"}, {\"ManufacturerProvCode\": \"QC\", \"ManufacturingTypeEn\": \"Artisan\", \"MoisturePercent\": 46.0, \"Organic\": 0, \"CategoryTypeEn\": \"Semi-soft Cheese\", \"MilkTypeEn\": \"Cow\", \"MilkTreatmentTypeEn\": \"Raw Milk\", \"FatLevel\": \"lower fat\"}, {\"ManufacturerProvCode\": \"BC\", \"ManufacturingTypeEn\": \"Industrial\", \"MoisturePercent\": null, \"Organic\": 0, \"CategoryTypeEn\": \"Firm Cheese\", \"MilkTypeEn\": \"Cow\", \"MilkTreatmentTypeEn\": \"Pasteurized\", \"FatLevel\": \"lower fat\"}, {\"ManufacturerProvCode\": \"QC\", \"ManufacturingTypeEn\": \"Artisan\", \"MoisturePercent\": 58.0, \"Organic\": 0, \"CategoryTypeEn\": \"Fresh Cheese\", \"MilkTypeEn\": \"Cow\", \"MilkTreatmentTypeEn\": \"Pasteurized\", \"FatLevel\": \"lower fat\"}, {\"ManufacturerProvCode\": \"QC\", \"ManufacturingTypeEn\": \"Industrial\", \"MoisturePercent\": 60.0, \"Organic\": 0, \"CategoryTypeEn\": \"Fresh Cheese\", \"MilkTypeEn\": \"Cow\", \"MilkTreatmentTypeEn\": \"Pasteurized\", \"FatLevel\": \"lower fat\"}, {\"ManufacturerProvCode\": \"BC\", \"ManufacturingTypeEn\": \"Farmstead\", \"MoisturePercent\": 27.0, \"Organic\": 1, \"CategoryTypeEn\": \"Hard Cheese\", \"MilkTypeEn\": \"Cow\", \"MilkTreatmentTypeEn\": \"Raw Milk\", \"FatLevel\": \"lower fat\"}, {\"ManufacturerProvCode\": \"QC\", \"ManufacturingTypeEn\": \"Artisan\", \"MoisturePercent\": 43.0, \"Organic\": 0, \"CategoryTypeEn\": \"Semi-soft Cheese\", \"MilkTypeEn\": \"Goat\", \"MilkTreatmentTypeEn\": \"Pasteurized\", \"FatLevel\": \"lower fat\"}, {\"ManufacturerProvCode\": \"QC\", \"ManufacturingTypeEn\": \"Artisan\", \"MoisturePercent\": 39.0, \"Organic\": 1, \"CategoryTypeEn\": \"Firm Cheese\", \"MilkTypeEn\": \"Cow\", \"MilkTreatmentTypeEn\": \"Raw Milk\", \"FatLevel\": \"higher fat\"}, {\"ManufacturerProvCode\": \"QC\", \"ManufacturingTypeEn\": \"Artisan\", \"MoisturePercent\": 43.0, \"Organic\": 1, \"CategoryTypeEn\": \"Semi-soft Cheese\", \"MilkTypeEn\": \"Cow\", \"MilkTreatmentTypeEn\": \"Pasteurized\", \"FatLevel\": \"higher fat\"}, {\"ManufacturerProvCode\": \"QC\", \"ManufacturingTypeEn\": \"Farmstead\", \"MoisturePercent\": 50.0, \"Organic\": 0, \"CategoryTypeEn\": \"Semi-soft Cheese\", \"MilkTypeEn\": \"Cow\", \"MilkTreatmentTypeEn\": \"Pasteurized\", \"FatLevel\": \"lower fat\"}, {\"ManufacturerProvCode\": \"BC\", \"ManufacturingTypeEn\": \"Artisan\", \"MoisturePercent\": 41.0, \"Organic\": 0, \"CategoryTypeEn\": \"Semi-soft Cheese\", \"MilkTypeEn\": \"Goat\", \"MilkTreatmentTypeEn\": \"Thermised\", \"FatLevel\": \"higher fat\"}, {\"ManufacturerProvCode\": \"QC\", \"ManufacturingTypeEn\": \"Artisan\", \"MoisturePercent\": 63.0, \"Organic\": 0, \"CategoryTypeEn\": \"Fresh Cheese\", \"MilkTypeEn\": \"Goat\", \"MilkTreatmentTypeEn\": \"Pasteurized\", \"FatLevel\": \"lower fat\"}, {\"ManufacturerProvCode\": \"QC\", \"ManufacturingTypeEn\": \"Industrial\", \"MoisturePercent\": 52.0, \"Organic\": 0, \"CategoryTypeEn\": \"Semi-soft Cheese\", \"MilkTypeEn\": \"Cow\", \"MilkTreatmentTypeEn\": \"Pasteurized\", \"FatLevel\": \"lower fat\"}, {\"ManufacturerProvCode\": \"QC\", \"ManufacturingTypeEn\": \"Industrial\", \"MoisturePercent\": 46.0, \"Organic\": 0, \"CategoryTypeEn\": \"Semi-soft Cheese\", \"MilkTypeEn\": \"Cow\", \"MilkTreatmentTypeEn\": \"Pasteurized\", \"FatLevel\": \"lower fat\"}, {\"ManufacturerProvCode\": \"QC\", \"ManufacturingTypeEn\": \"Artisan\", \"MoisturePercent\": 48.0, \"Organic\": 0, \"CategoryTypeEn\": \"Semi-soft Cheese\", \"MilkTypeEn\": \"Goat\", \"MilkTreatmentTypeEn\": \"Pasteurized\", \"FatLevel\": \"lower fat\"}, {\"ManufacturerProvCode\": \"QC\", \"ManufacturingTypeEn\": \"Farmstead\", \"MoisturePercent\": 80.0, \"Organic\": 1, \"CategoryTypeEn\": \"Fresh Cheese\", \"MilkTypeEn\": \"Cow\", \"MilkTreatmentTypeEn\": \"Pasteurized\", \"FatLevel\": \"lower fat\"}, {\"ManufacturerProvCode\": \"BC\", \"ManufacturingTypeEn\": \"Artisan\", \"MoisturePercent\": 38.0, \"Organic\": 0, \"CategoryTypeEn\": \"Hard Cheese\", \"MilkTypeEn\": \"Cow\", \"MilkTreatmentTypeEn\": \"Raw Milk\", \"FatLevel\": \"higher fat\"}, {\"ManufacturerProvCode\": \"QC\", \"ManufacturingTypeEn\": \"Artisan\", \"MoisturePercent\": 56.0, \"Organic\": 0, \"CategoryTypeEn\": \"Soft Cheese\", \"MilkTypeEn\": \"Goat\", \"MilkTreatmentTypeEn\": \"Pasteurized\", \"FatLevel\": \"lower fat\"}, {\"ManufacturerProvCode\": \"QC\", \"ManufacturingTypeEn\": \"Industrial\", \"MoisturePercent\": 58.0, \"Organic\": 0, \"CategoryTypeEn\": \"Fresh Cheese\", \"MilkTypeEn\": \"Goat\", \"MilkTreatmentTypeEn\": \"Pasteurized\", \"FatLevel\": \"lower fat\"}, {\"ManufacturerProvCode\": \"QC\", \"ManufacturingTypeEn\": \"Industrial\", \"MoisturePercent\": 52.0, \"Organic\": 0, \"CategoryTypeEn\": \"Soft Cheese\", \"MilkTypeEn\": \"Goat\", \"MilkTreatmentTypeEn\": \"Pasteurized\", \"FatLevel\": \"lower fat\"}, {\"ManufacturerProvCode\": \"ON\", \"ManufacturingTypeEn\": \"Farmstead\", \"MoisturePercent\": 40.0, \"Organic\": 0, \"CategoryTypeEn\": \"Hard Cheese\", \"MilkTypeEn\": \"Goat\", \"MilkTreatmentTypeEn\": \"Pasteurized\", \"FatLevel\": \"higher fat\"}, {\"ManufacturerProvCode\": \"ON\", \"ManufacturingTypeEn\": \"Industrial\", \"MoisturePercent\": null, \"Organic\": 0, \"CategoryTypeEn\": \"Semi-soft Cheese\", \"MilkTypeEn\": \"Cow\", \"MilkTreatmentTypeEn\": \"Pasteurized\", \"FatLevel\": \"lower fat\"}, {\"ManufacturerProvCode\": \"QC\", \"ManufacturingTypeEn\": \"Artisan\", \"MoisturePercent\": 43.0, \"Organic\": 0, \"CategoryTypeEn\": \"Firm Cheese\", \"MilkTypeEn\": \"Cow\", \"MilkTreatmentTypeEn\": \"Pasteurized\", \"FatLevel\": \"higher fat\"}, {\"ManufacturerProvCode\": \"QC\", \"ManufacturingTypeEn\": \"Artisan\", \"MoisturePercent\": 42.0, \"Organic\": 1, \"CategoryTypeEn\": \"Veined Cheeses\", \"MilkTypeEn\": \"Cow\", \"MilkTreatmentTypeEn\": \"Pasteurized\", \"FatLevel\": \"lower fat\"}, {\"ManufacturerProvCode\": \"QC\", \"ManufacturingTypeEn\": \"Artisan\", \"MoisturePercent\": 38.0, \"Organic\": 0, \"CategoryTypeEn\": \"Firm Cheese\", \"MilkTypeEn\": \"Cow\", \"MilkTreatmentTypeEn\": \"Pasteurized\", \"FatLevel\": \"higher fat\"}, {\"ManufacturerProvCode\": \"QC\", \"ManufacturingTypeEn\": \"Artisan\", \"MoisturePercent\": 39.0, \"Organic\": 0, \"CategoryTypeEn\": \"Firm Cheese\", \"MilkTypeEn\": \"Cow\", \"MilkTreatmentTypeEn\": \"Pasteurized\", \"FatLevel\": \"higher fat\"}, {\"ManufacturerProvCode\": \"AB\", \"ManufacturingTypeEn\": \"Industrial\", \"MoisturePercent\": 52.0, \"Organic\": 0, \"CategoryTypeEn\": null, \"MilkTypeEn\": \"Cow\", \"MilkTreatmentTypeEn\": null, \"FatLevel\": \"lower fat\"}, {\"ManufacturerProvCode\": \"QC\", \"ManufacturingTypeEn\": \"Artisan\", \"MoisturePercent\": 42.0, \"Organic\": 0, \"CategoryTypeEn\": \"Semi-soft Cheese\", \"MilkTypeEn\": \"Cow\", \"MilkTreatmentTypeEn\": \"Pasteurized\", \"FatLevel\": \"higher fat\"}, {\"ManufacturerProvCode\": \"QC\", \"ManufacturingTypeEn\": \"Industrial\", \"MoisturePercent\": 38.0, \"Organic\": 0, \"CategoryTypeEn\": \"Fresh Cheese\", \"MilkTypeEn\": \"Cow\", \"MilkTreatmentTypeEn\": null, \"FatLevel\": \"higher fat\"}, {\"ManufacturerProvCode\": \"QC\", \"ManufacturingTypeEn\": \"Artisan\", \"MoisturePercent\": 50.0, \"Organic\": 0, \"CategoryTypeEn\": \"Soft Cheese\", \"MilkTypeEn\": \"Cow\", \"MilkTreatmentTypeEn\": \"Thermised\", \"FatLevel\": \"lower fat\"}, {\"ManufacturerProvCode\": \"QC\", \"ManufacturingTypeEn\": \"Artisan\", \"MoisturePercent\": 39.0, \"Organic\": 0, \"CategoryTypeEn\": \"Firm Cheese\", \"MilkTypeEn\": \"Cow\", \"MilkTreatmentTypeEn\": \"Thermised\", \"FatLevel\": \"higher fat\"}, {\"ManufacturerProvCode\": \"ON\", \"ManufacturingTypeEn\": \"Industrial\", \"MoisturePercent\": 92.0, \"Organic\": 0, \"CategoryTypeEn\": \"Fresh Cheese\", \"MilkTypeEn\": \"Cow\", \"MilkTreatmentTypeEn\": \"Pasteurized\", \"FatLevel\": \"lower fat\"}, {\"ManufacturerProvCode\": \"QC\", \"ManufacturingTypeEn\": \"Artisan\", \"MoisturePercent\": 45.0, \"Organic\": 0, \"CategoryTypeEn\": \"Semi-soft Cheese\", \"MilkTypeEn\": \"Ewe and Cow\", \"MilkTreatmentTypeEn\": \"Pasteurized\", \"FatLevel\": \"higher fat\"}, {\"ManufacturerProvCode\": \"QC\", \"ManufacturingTypeEn\": \"Artisan\", \"MoisturePercent\": 50.0, \"Organic\": 0, \"CategoryTypeEn\": \"Soft Cheese\", \"MilkTypeEn\": \"Cow\", \"MilkTreatmentTypeEn\": null, \"FatLevel\": \"lower fat\"}, {\"ManufacturerProvCode\": \"QC\", \"ManufacturingTypeEn\": \"Industrial\", \"MoisturePercent\": 56.0, \"Organic\": 0, \"CategoryTypeEn\": \"Soft Cheese\", \"MilkTypeEn\": \"Goat\", \"MilkTreatmentTypeEn\": \"Pasteurized\", \"FatLevel\": \"lower fat\"}, {\"ManufacturerProvCode\": \"MB\", \"ManufacturingTypeEn\": \"Farmstead\", \"MoisturePercent\": 42.0, \"Organic\": 0, \"CategoryTypeEn\": \"Firm Cheese\", \"MilkTypeEn\": \"Cow\", \"MilkTreatmentTypeEn\": \"Pasteurized\", \"FatLevel\": \"lower fat\"}, {\"ManufacturerProvCode\": \"QC\", \"ManufacturingTypeEn\": \"Artisan\", \"MoisturePercent\": 39.0, \"Organic\": 0, \"CategoryTypeEn\": \"Firm Cheese\", \"MilkTypeEn\": \"Cow\", \"MilkTreatmentTypeEn\": \"Thermised\", \"FatLevel\": \"higher fat\"}, {\"ManufacturerProvCode\": \"QC\", \"ManufacturingTypeEn\": \"Artisan\", \"MoisturePercent\": 56.0, \"Organic\": 0, \"CategoryTypeEn\": \"Soft Cheese\", \"MilkTypeEn\": \"Goat\", \"MilkTreatmentTypeEn\": \"Pasteurized\", \"FatLevel\": \"lower fat\"}, {\"ManufacturerProvCode\": \"QC\", \"ManufacturingTypeEn\": \"Farmstead\", \"MoisturePercent\": 45.0, \"Organic\": 0, \"CategoryTypeEn\": \"Firm Cheese\", \"MilkTypeEn\": \"Cow\", \"MilkTreatmentTypeEn\": \"Pasteurized\", \"FatLevel\": \"higher fat\"}, {\"ManufacturerProvCode\": \"ON\", \"ManufacturingTypeEn\": \"Industrial\", \"MoisturePercent\": 57.0, \"Organic\": 0, \"CategoryTypeEn\": \"Semi-soft Cheese\", \"MilkTypeEn\": \"Cow\", \"MilkTreatmentTypeEn\": \"Pasteurized\", \"FatLevel\": \"lower fat\"}, {\"ManufacturerProvCode\": \"QC\", \"ManufacturingTypeEn\": \"Artisan\", \"MoisturePercent\": 57.0, \"Organic\": 0, \"CategoryTypeEn\": \"Fresh Cheese\", \"MilkTypeEn\": \"Goat\", \"MilkTreatmentTypeEn\": \"Pasteurized\", \"FatLevel\": \"higher fat\"}, {\"ManufacturerProvCode\": \"QC\", \"ManufacturingTypeEn\": \"Artisan\", \"MoisturePercent\": null, \"Organic\": 0, \"CategoryTypeEn\": \"Soft Cheese\", \"MilkTypeEn\": \"Cow\", \"MilkTreatmentTypeEn\": \"Pasteurized\", \"FatLevel\": \"lower fat\"}, {\"ManufacturerProvCode\": \"QC\", \"ManufacturingTypeEn\": \"Artisan\", \"MoisturePercent\": 54.0, \"Organic\": 0, \"CategoryTypeEn\": \"Soft Cheese\", \"MilkTypeEn\": \"Cow\", \"MilkTreatmentTypeEn\": \"Pasteurized\", \"FatLevel\": \"lower fat\"}, {\"ManufacturerProvCode\": \"QC\", \"ManufacturingTypeEn\": \"Industrial\", \"MoisturePercent\": 55.0, \"Organic\": 0, \"CategoryTypeEn\": \"Semi-soft Cheese\", \"MilkTypeEn\": \"Cow\", \"MilkTreatmentTypeEn\": \"Pasteurized\", \"FatLevel\": \"lower fat\"}, {\"ManufacturerProvCode\": \"QC\", \"ManufacturingTypeEn\": \"Artisan\", \"MoisturePercent\": 50.0, \"Organic\": 0, \"CategoryTypeEn\": null, \"MilkTypeEn\": \"Goat\", \"MilkTreatmentTypeEn\": \"Pasteurized\", \"FatLevel\": \"lower fat\"}, {\"ManufacturerProvCode\": \"ON\", \"ManufacturingTypeEn\": \"Industrial\", \"MoisturePercent\": 40.0, \"Organic\": 0, \"CategoryTypeEn\": \"Soft Cheese\", \"MilkTypeEn\": \"Cow\", \"MilkTreatmentTypeEn\": null, \"FatLevel\": \"lower fat\"}, {\"ManufacturerProvCode\": \"ON\", \"ManufacturingTypeEn\": \"Industrial\", \"MoisturePercent\": 80.0, \"Organic\": 0, \"CategoryTypeEn\": \"Fresh Cheese\", \"MilkTypeEn\": \"Cow\", \"MilkTreatmentTypeEn\": \"Pasteurized\", \"FatLevel\": \"lower fat\"}, {\"ManufacturerProvCode\": \"ON\", \"ManufacturingTypeEn\": \"Industrial\", \"MoisturePercent\": 55.0, \"Organic\": 0, \"CategoryTypeEn\": \"Fresh Cheese\", \"MilkTypeEn\": \"Cow\", \"MilkTreatmentTypeEn\": \"Pasteurized\", \"FatLevel\": \"lower fat\"}, {\"ManufacturerProvCode\": \"QC\", \"ManufacturingTypeEn\": \"Farmstead\", \"MoisturePercent\": 65.0, \"Organic\": 0, \"CategoryTypeEn\": \"Semi-soft Cheese\", \"MilkTypeEn\": \"Ewe\", \"MilkTreatmentTypeEn\": \"Raw Milk\", \"FatLevel\": \"higher fat\"}, {\"ManufacturerProvCode\": \"NB\", \"ManufacturingTypeEn\": \"Farmstead\", \"MoisturePercent\": 47.0, \"Organic\": 0, \"CategoryTypeEn\": \"Firm Cheese\", \"MilkTypeEn\": \"Ewe\", \"MilkTreatmentTypeEn\": \"Raw Milk\", \"FatLevel\": \"lower fat\"}, {\"ManufacturerProvCode\": \"QC\", \"ManufacturingTypeEn\": \"Industrial\", \"MoisturePercent\": 43.0, \"Organic\": 0, \"CategoryTypeEn\": \"Semi-soft Cheese\", \"MilkTypeEn\": \"Cow\", \"MilkTreatmentTypeEn\": \"Pasteurized\", \"FatLevel\": \"lower fat\"}, {\"ManufacturerProvCode\": \"QC\", \"ManufacturingTypeEn\": \"Industrial\", \"MoisturePercent\": 50.0, \"Organic\": 0, \"CategoryTypeEn\": \"Firm Cheese\", \"MilkTypeEn\": \"Cow\", \"MilkTreatmentTypeEn\": \"Pasteurized\", \"FatLevel\": \"lower fat\"}, {\"ManufacturerProvCode\": \"QC\", \"ManufacturingTypeEn\": \"Artisan\", \"MoisturePercent\": 44.0, \"Organic\": 1, \"CategoryTypeEn\": \"Semi-soft Cheese\", \"MilkTypeEn\": \"Cow\", \"MilkTreatmentTypeEn\": \"Pasteurized\", \"FatLevel\": \"lower fat\"}, {\"ManufacturerProvCode\": \"ON\", \"ManufacturingTypeEn\": \"Industrial\", \"MoisturePercent\": 39.0, \"Organic\": 0, \"CategoryTypeEn\": \"Firm Cheese\", \"MilkTypeEn\": \"Cow\", \"MilkTreatmentTypeEn\": \"Pasteurized\", \"FatLevel\": \"lower fat\"}, {\"ManufacturerProvCode\": \"QC\", \"ManufacturingTypeEn\": \"Farmstead\", \"MoisturePercent\": 50.0, \"Organic\": 0, \"CategoryTypeEn\": \"Soft Cheese\", \"MilkTypeEn\": \"Ewe\", \"MilkTreatmentTypeEn\": \"Pasteurized\", \"FatLevel\": \"lower fat\"}, {\"ManufacturerProvCode\": \"ON\", \"ManufacturingTypeEn\": \"Artisan\", \"MoisturePercent\": 42.0, \"Organic\": 0, \"CategoryTypeEn\": \"Semi-soft Cheese\", \"MilkTypeEn\": \"Ewe\", \"MilkTreatmentTypeEn\": \"Raw Milk\", \"FatLevel\": \"higher fat\"}, {\"ManufacturerProvCode\": \"NS\", \"ManufacturingTypeEn\": \"Industrial\", \"MoisturePercent\": 39.0, \"Organic\": 0, \"CategoryTypeEn\": \"Firm Cheese\", \"MilkTypeEn\": \"Cow\", \"MilkTreatmentTypeEn\": \"Pasteurized\", \"FatLevel\": \"higher fat\"}, {\"ManufacturerProvCode\": \"QC\", \"ManufacturingTypeEn\": \"Industrial\", \"MoisturePercent\": 34.0, \"Organic\": 0, \"CategoryTypeEn\": \"Firm Cheese\", \"MilkTypeEn\": \"Cow\", \"MilkTreatmentTypeEn\": \"Pasteurized\", \"FatLevel\": \"higher fat\"}, {\"ManufacturerProvCode\": \"ON\", \"ManufacturingTypeEn\": \"Artisan\", \"MoisturePercent\": 58.0, \"Organic\": 0, \"CategoryTypeEn\": \"Semi-soft Cheese\", \"MilkTypeEn\": \"Ewe\", \"MilkTreatmentTypeEn\": \"Raw Milk\", \"FatLevel\": \"lower fat\"}, {\"ManufacturerProvCode\": \"AB\", \"ManufacturingTypeEn\": \"Farmstead\", \"MoisturePercent\": 43.0, \"Organic\": 0, \"CategoryTypeEn\": \"Firm Cheese\", \"MilkTypeEn\": \"Cow\", \"MilkTreatmentTypeEn\": \"Pasteurized\", \"FatLevel\": \"lower fat\"}, {\"ManufacturerProvCode\": \"QC\", \"ManufacturingTypeEn\": \"Industrial\", \"MoisturePercent\": 39.0, \"Organic\": 0, \"CategoryTypeEn\": \"Firm Cheese\", \"MilkTypeEn\": \"Cow\", \"MilkTreatmentTypeEn\": \"Pasteurized\", \"FatLevel\": \"higher fat\"}, {\"ManufacturerProvCode\": \"QC\", \"ManufacturingTypeEn\": \"Farmstead\", \"MoisturePercent\": 35.0, \"Organic\": 0, \"CategoryTypeEn\": \"Semi-soft Cheese\", \"MilkTypeEn\": \"Cow\", \"MilkTreatmentTypeEn\": \"Raw Milk\", \"FatLevel\": \"higher fat\"}, {\"ManufacturerProvCode\": \"QC\", \"ManufacturingTypeEn\": \"Industrial\", \"MoisturePercent\": 39.0, \"Organic\": 0, \"CategoryTypeEn\": \"Firm Cheese\", \"MilkTypeEn\": \"Cow\", \"MilkTreatmentTypeEn\": \"Thermised\", \"FatLevel\": \"higher fat\"}, {\"ManufacturerProvCode\": \"QC\", \"ManufacturingTypeEn\": \"Artisan\", \"MoisturePercent\": 40.0, \"Organic\": 0, \"CategoryTypeEn\": \"Firm Cheese\", \"MilkTypeEn\": \"Goat\", \"MilkTreatmentTypeEn\": \"Pasteurized\", \"FatLevel\": \"lower fat\"}, {\"ManufacturerProvCode\": \"QC\", \"ManufacturingTypeEn\": \"Farmstead\", \"MoisturePercent\": 45.0, \"Organic\": 1, \"CategoryTypeEn\": \"Semi-soft Cheese\", \"MilkTypeEn\": \"Cow\", \"MilkTreatmentTypeEn\": \"Raw Milk\", \"FatLevel\": \"lower fat\"}, {\"ManufacturerProvCode\": \"BC\", \"ManufacturingTypeEn\": \"Artisan\", \"MoisturePercent\": 38.0, \"Organic\": 0, \"CategoryTypeEn\": \"Firm Cheese\", \"MilkTypeEn\": \"Cow\", \"MilkTreatmentTypeEn\": \"Pasteurized\", \"FatLevel\": \"higher fat\"}, {\"ManufacturerProvCode\": \"QC\", \"ManufacturingTypeEn\": \"Industrial\", \"MoisturePercent\": 55.0, \"Organic\": 0, \"CategoryTypeEn\": \"Soft Cheese\", \"MilkTypeEn\": \"Cow\", \"MilkTreatmentTypeEn\": \"Pasteurized\", \"FatLevel\": \"lower fat\"}, {\"ManufacturerProvCode\": \"QC\", \"ManufacturingTypeEn\": \"Industrial\", \"MoisturePercent\": 39.0, \"Organic\": 0, \"CategoryTypeEn\": \"Firm Cheese\", \"MilkTypeEn\": \"Cow\", \"MilkTreatmentTypeEn\": \"Pasteurized\", \"FatLevel\": \"higher fat\"}, {\"ManufacturerProvCode\": \"QC\", \"ManufacturingTypeEn\": \"Industrial\", \"MoisturePercent\": 54.0, \"Organic\": 0, \"CategoryTypeEn\": \"Soft Cheese\", \"MilkTypeEn\": \"Goat\", \"MilkTreatmentTypeEn\": \"Pasteurized\", \"FatLevel\": \"lower fat\"}, {\"ManufacturerProvCode\": \"QC\", \"ManufacturingTypeEn\": \"Industrial\", \"MoisturePercent\": 50.0, \"Organic\": 0, \"CategoryTypeEn\": \"Fresh Cheese\", \"MilkTypeEn\": \"Cow\", \"MilkTreatmentTypeEn\": \"Pasteurized\", \"FatLevel\": \"lower fat\"}, {\"ManufacturerProvCode\": \"QC\", \"ManufacturingTypeEn\": \"Artisan\", \"MoisturePercent\": 49.0, \"Organic\": 0, \"CategoryTypeEn\": \"Soft Cheese\", \"MilkTypeEn\": \"Cow\", \"MilkTreatmentTypeEn\": \"Pasteurized\", \"FatLevel\": \"lower fat\"}, {\"ManufacturerProvCode\": \"QC\", \"ManufacturingTypeEn\": \"Artisan\", \"MoisturePercent\": 45.0, \"Organic\": 0, \"CategoryTypeEn\": \"Veined Cheeses\", \"MilkTypeEn\": \"Cow\", \"MilkTreatmentTypeEn\": \"Pasteurized\", \"FatLevel\": \"lower fat\"}, {\"ManufacturerProvCode\": \"QC\", \"ManufacturingTypeEn\": \"Artisan\", \"MoisturePercent\": 50.0, \"Organic\": 0, \"CategoryTypeEn\": \"Soft Cheese\", \"MilkTypeEn\": \"Cow\", \"MilkTreatmentTypeEn\": \"Raw Milk\", \"FatLevel\": \"lower fat\"}, {\"ManufacturerProvCode\": \"QC\", \"ManufacturingTypeEn\": \"Industrial\", \"MoisturePercent\": 40.0, \"Organic\": 0, \"CategoryTypeEn\": \"Firm Cheese\", \"MilkTypeEn\": \"Cow\", \"MilkTreatmentTypeEn\": \"Pasteurized\", \"FatLevel\": \"lower fat\"}, {\"ManufacturerProvCode\": \"ON\", \"ManufacturingTypeEn\": \"Industrial\", \"MoisturePercent\": 70.0, \"Organic\": 0, \"CategoryTypeEn\": \"Fresh Cheese\", \"MilkTypeEn\": \"Goat\", \"MilkTreatmentTypeEn\": \"Pasteurized\", \"FatLevel\": \"lower fat\"}, {\"ManufacturerProvCode\": \"BC\", \"ManufacturingTypeEn\": \"Artisan\", \"MoisturePercent\": 39.0, \"Organic\": 0, \"CategoryTypeEn\": \"Firm Cheese\", \"MilkTypeEn\": \"Cow\", \"MilkTreatmentTypeEn\": \"Pasteurized\", \"FatLevel\": \"higher fat\"}, {\"ManufacturerProvCode\": \"QC\", \"ManufacturingTypeEn\": \"Artisan\", \"MoisturePercent\": 50.0, \"Organic\": 0, \"CategoryTypeEn\": \"Soft Cheese\", \"MilkTypeEn\": \"Cow\", \"MilkTreatmentTypeEn\": \"Pasteurized\", \"FatLevel\": \"lower fat\"}, {\"ManufacturerProvCode\": \"QC\", \"ManufacturingTypeEn\": \"Industrial\", \"MoisturePercent\": 45.0, \"Organic\": 0, \"CategoryTypeEn\": \"Semi-soft Cheese\", \"MilkTypeEn\": \"Cow\", \"MilkTreatmentTypeEn\": \"Pasteurized\", \"FatLevel\": \"higher fat\"}, {\"ManufacturerProvCode\": \"QC\", \"ManufacturingTypeEn\": \"Farmstead\", \"MoisturePercent\": 39.0, \"Organic\": 1, \"CategoryTypeEn\": \"Firm Cheese\", \"MilkTypeEn\": \"Cow\", \"MilkTreatmentTypeEn\": \"Raw Milk\", \"FatLevel\": \"higher fat\"}, {\"ManufacturerProvCode\": \"QC\", \"ManufacturingTypeEn\": \"Industrial\", \"MoisturePercent\": 50.0, \"Organic\": 0, \"CategoryTypeEn\": \"Soft Cheese\", \"MilkTypeEn\": \"Cow\", \"MilkTreatmentTypeEn\": \"Pasteurized\", \"FatLevel\": \"lower fat\"}, {\"ManufacturerProvCode\": \"ON\", \"ManufacturingTypeEn\": \"Farmstead\", \"MoisturePercent\": 35.0, \"Organic\": 0, \"CategoryTypeEn\": \"Fresh Cheese\", \"MilkTypeEn\": \"Goat\", \"MilkTreatmentTypeEn\": \"Pasteurized\", \"FatLevel\": \"lower fat\"}, {\"ManufacturerProvCode\": \"QC\", \"ManufacturingTypeEn\": \"Artisan\", \"MoisturePercent\": 41.0, \"Organic\": 0, \"CategoryTypeEn\": \"Firm Cheese\", \"MilkTypeEn\": \"Cow\", \"MilkTreatmentTypeEn\": \"Pasteurized\", \"FatLevel\": \"lower fat\"}, {\"ManufacturerProvCode\": \"QC\", \"ManufacturingTypeEn\": \"Farmstead\", \"MoisturePercent\": 48.0, \"Organic\": 0, \"CategoryTypeEn\": \"Veined Cheeses\", \"MilkTypeEn\": \"Ewe\", \"MilkTreatmentTypeEn\": \"Pasteurized\", \"FatLevel\": \"lower fat\"}, {\"ManufacturerProvCode\": \"QC\", \"ManufacturingTypeEn\": \"Industrial\", \"MoisturePercent\": 50.0, \"Organic\": 0, \"CategoryTypeEn\": \"Semi-soft Cheese\", \"MilkTypeEn\": \"Cow\", \"MilkTreatmentTypeEn\": \"Pasteurized\", \"FatLevel\": \"lower fat\"}, {\"ManufacturerProvCode\": \"BC\", \"ManufacturingTypeEn\": \"Artisan\", \"MoisturePercent\": 40.0, \"Organic\": 0, \"CategoryTypeEn\": \"Firm Cheese\", \"MilkTypeEn\": \"Goat\", \"MilkTreatmentTypeEn\": \"Thermised\", \"FatLevel\": \"higher fat\"}, {\"ManufacturerProvCode\": \"QC\", \"ManufacturingTypeEn\": \"Industrial\", \"MoisturePercent\": 55.0, \"Organic\": 0, \"CategoryTypeEn\": \"Semi-soft Cheese\", \"MilkTypeEn\": \"Cow\", \"MilkTreatmentTypeEn\": \"Pasteurized\", \"FatLevel\": \"lower fat\"}, {\"ManufacturerProvCode\": \"QC\", \"ManufacturingTypeEn\": \"Artisan\", \"MoisturePercent\": 65.0, \"Organic\": 0, \"CategoryTypeEn\": \"Fresh Cheese\", \"MilkTypeEn\": \"Cow\", \"MilkTreatmentTypeEn\": \"Pasteurized\", \"FatLevel\": \"lower fat\"}, {\"ManufacturerProvCode\": \"QC\", \"ManufacturingTypeEn\": \"Farmstead\", \"MoisturePercent\": 39.0, \"Organic\": 0, \"CategoryTypeEn\": \"Firm Cheese\", \"MilkTypeEn\": \"Cow\", \"MilkTreatmentTypeEn\": \"Pasteurized\", \"FatLevel\": \"higher fat\"}, {\"ManufacturerProvCode\": \"QC\", \"ManufacturingTypeEn\": \"Farmstead\", \"MoisturePercent\": 41.0, \"Organic\": 0, \"CategoryTypeEn\": \"Firm Cheese\", \"MilkTypeEn\": \"Cow\", \"MilkTreatmentTypeEn\": \"Pasteurized\", \"FatLevel\": \"higher fat\"}, {\"ManufacturerProvCode\": \"QC\", \"ManufacturingTypeEn\": \"Artisan\", \"MoisturePercent\": 41.0, \"Organic\": 0, \"CategoryTypeEn\": \"Firm Cheese\", \"MilkTypeEn\": \"Goat\", \"MilkTreatmentTypeEn\": \"Pasteurized\", \"FatLevel\": \"higher fat\"}, {\"ManufacturerProvCode\": \"QC\", \"ManufacturingTypeEn\": \"Industrial\", \"MoisturePercent\": 54.0, \"Organic\": 0, \"CategoryTypeEn\": \"Soft Cheese\", \"MilkTypeEn\": \"Cow\", \"MilkTreatmentTypeEn\": \"Pasteurized\", \"FatLevel\": \"lower fat\"}, {\"ManufacturerProvCode\": \"QC\", \"ManufacturingTypeEn\": \"Farmstead\", \"MoisturePercent\": 42.0, \"Organic\": 1, \"CategoryTypeEn\": \"Firm Cheese\", \"MilkTypeEn\": \"Goat\", \"MilkTreatmentTypeEn\": \"Pasteurized\", \"FatLevel\": \"lower fat\"}, {\"ManufacturerProvCode\": \"QC\", \"ManufacturingTypeEn\": \"Farmstead\", \"MoisturePercent\": 50.0, \"Organic\": 0, \"CategoryTypeEn\": \"Semi-soft Cheese\", \"MilkTypeEn\": \"Cow\", \"MilkTreatmentTypeEn\": \"Pasteurized\", \"FatLevel\": \"higher fat\"}, {\"ManufacturerProvCode\": \"QC\", \"ManufacturingTypeEn\": \"Artisan\", \"MoisturePercent\": 67.0, \"Organic\": 0, \"CategoryTypeEn\": \"Fresh Cheese\", \"MilkTypeEn\": \"Cow\", \"MilkTreatmentTypeEn\": \"Pasteurized\", \"FatLevel\": \"lower fat\"}, {\"ManufacturerProvCode\": \"NB\", \"ManufacturingTypeEn\": \"Farmstead\", \"MoisturePercent\": 50.0, \"Organic\": 0, \"CategoryTypeEn\": \"Semi-soft Cheese\", \"MilkTypeEn\": \"Goat\", \"MilkTreatmentTypeEn\": \"Pasteurized\", \"FatLevel\": \"lower fat\"}, {\"ManufacturerProvCode\": \"QC\", \"ManufacturingTypeEn\": \"Industrial\", \"MoisturePercent\": 50.0, \"Organic\": 0, \"CategoryTypeEn\": \"Soft Cheese\", \"MilkTypeEn\": \"Cow\", \"MilkTreatmentTypeEn\": null, \"FatLevel\": \"higher fat\"}, {\"ManufacturerProvCode\": \"QC\", \"ManufacturingTypeEn\": \"Artisan\", \"MoisturePercent\": 46.0, \"Organic\": 0, \"CategoryTypeEn\": \"Semi-soft Cheese\", \"MilkTypeEn\": \"Cow\", \"MilkTreatmentTypeEn\": \"Pasteurized\", \"FatLevel\": \"lower fat\"}, {\"ManufacturerProvCode\": \"QC\", \"ManufacturingTypeEn\": \"Artisan\", \"MoisturePercent\": 41.0, \"Organic\": 0, \"CategoryTypeEn\": \"Firm Cheese\", \"MilkTypeEn\": \"Cow\", \"MilkTreatmentTypeEn\": \"Pasteurized\", \"FatLevel\": \"higher fat\"}, {\"ManufacturerProvCode\": \"QC\", \"ManufacturingTypeEn\": \"Artisan\", \"MoisturePercent\": 41.0, \"Organic\": 0, \"CategoryTypeEn\": \"Veined Cheeses\", \"MilkTypeEn\": \"Cow\", \"MilkTreatmentTypeEn\": \"Pasteurized\", \"FatLevel\": \"higher fat\"}, {\"ManufacturerProvCode\": \"QC\", \"ManufacturingTypeEn\": \"Artisan\", \"MoisturePercent\": 40.0, \"Organic\": 1, \"CategoryTypeEn\": \"Firm Cheese\", \"MilkTypeEn\": \"Cow\", \"MilkTreatmentTypeEn\": \"Raw Milk\", \"FatLevel\": \"lower fat\"}, {\"ManufacturerProvCode\": \"QC\", \"ManufacturingTypeEn\": \"Farmstead\", \"MoisturePercent\": 48.0, \"Organic\": 0, \"CategoryTypeEn\": \"Semi-soft Cheese\", \"MilkTypeEn\": \"Goat\", \"MilkTreatmentTypeEn\": \"Raw Milk\", \"FatLevel\": \"lower fat\"}, {\"ManufacturerProvCode\": \"ON\", \"ManufacturingTypeEn\": \"Artisan\", \"MoisturePercent\": 68.0, \"Organic\": 0, \"CategoryTypeEn\": \"Fresh Cheese\", \"MilkTypeEn\": \"Goat\", \"MilkTreatmentTypeEn\": \"Pasteurized\", \"FatLevel\": \"lower fat\"}, {\"ManufacturerProvCode\": \"QC\", \"ManufacturingTypeEn\": \"Farmstead\", \"MoisturePercent\": 45.0, \"Organic\": 0, \"CategoryTypeEn\": \"Soft Cheese\", \"MilkTypeEn\": \"Goat\", \"MilkTreatmentTypeEn\": \"Thermised\", \"FatLevel\": \"lower fat\"}, {\"ManufacturerProvCode\": \"QC\", \"ManufacturingTypeEn\": \"Industrial\", \"MoisturePercent\": 52.0, \"Organic\": 0, \"CategoryTypeEn\": \"Semi-soft Cheese\", \"MilkTypeEn\": \"Cow\", \"MilkTreatmentTypeEn\": \"Pasteurized\", \"FatLevel\": \"lower fat\"}, {\"ManufacturerProvCode\": \"QC\", \"ManufacturingTypeEn\": \"Industrial\", \"MoisturePercent\": 42.0, \"Organic\": 0, \"CategoryTypeEn\": \"Firm Cheese\", \"MilkTypeEn\": \"Cow\", \"MilkTreatmentTypeEn\": \"Pasteurized\", \"FatLevel\": \"lower fat\"}, {\"ManufacturerProvCode\": \"BC\", \"ManufacturingTypeEn\": \"Artisan\", \"MoisturePercent\": 41.0, \"Organic\": 0, \"CategoryTypeEn\": \"Firm Cheese\", \"MilkTypeEn\": \"Cow\", \"MilkTreatmentTypeEn\": \"Pasteurized\", \"FatLevel\": \"higher fat\"}, {\"ManufacturerProvCode\": \"QC\", \"ManufacturingTypeEn\": \"Industrial\", \"MoisturePercent\": 44.0, \"Organic\": 0, \"CategoryTypeEn\": \"Firm Cheese\", \"MilkTypeEn\": \"Cow\", \"MilkTreatmentTypeEn\": \"Pasteurized\", \"FatLevel\": \"lower fat\"}, {\"ManufacturerProvCode\": \"QC\", \"ManufacturingTypeEn\": \"Artisan\", \"MoisturePercent\": 64.0, \"Organic\": 0, \"CategoryTypeEn\": \"Semi-soft Cheese\", \"MilkTypeEn\": \"Goat\", \"MilkTreatmentTypeEn\": \"Pasteurized\", \"FatLevel\": \"lower fat\"}, {\"ManufacturerProvCode\": \"QC\", \"ManufacturingTypeEn\": \"Industrial\", \"MoisturePercent\": 50.0, \"Organic\": 0, \"CategoryTypeEn\": \"Soft Cheese\", \"MilkTypeEn\": \"Cow\", \"MilkTreatmentTypeEn\": \"Pasteurized\", \"FatLevel\": \"higher fat\"}, {\"ManufacturerProvCode\": \"QC\", \"ManufacturingTypeEn\": \"Industrial\", \"MoisturePercent\": 42.0, \"Organic\": 0, \"CategoryTypeEn\": \"Firm Cheese\", \"MilkTypeEn\": \"Goat\", \"MilkTreatmentTypeEn\": \"Pasteurized\", \"FatLevel\": \"lower fat\"}, {\"ManufacturerProvCode\": \"QC\", \"ManufacturingTypeEn\": \"Artisan\", \"MoisturePercent\": 41.0, \"Organic\": 0, \"CategoryTypeEn\": \"Semi-soft Cheese\", \"MilkTypeEn\": \"Cow\", \"MilkTreatmentTypeEn\": \"Pasteurized\", \"FatLevel\": \"lower fat\"}, {\"ManufacturerProvCode\": \"QC\", \"ManufacturingTypeEn\": \"Industrial\", \"MoisturePercent\": 46.0, \"Organic\": 0, \"CategoryTypeEn\": \"Semi-soft Cheese\", \"MilkTypeEn\": \"Cow\", \"MilkTreatmentTypeEn\": \"Pasteurized\", \"FatLevel\": \"lower fat\"}, {\"ManufacturerProvCode\": \"QC\", \"ManufacturingTypeEn\": \"Farmstead\", \"MoisturePercent\": 52.0, \"Organic\": 0, \"CategoryTypeEn\": \"Soft Cheese\", \"MilkTypeEn\": \"Goat\", \"MilkTreatmentTypeEn\": \"Pasteurized\", \"FatLevel\": \"lower fat\"}, {\"ManufacturerProvCode\": \"AB\", \"ManufacturingTypeEn\": \"Industrial\", \"MoisturePercent\": 46.0, \"Organic\": 0, \"CategoryTypeEn\": \"Fresh Cheese\", \"MilkTypeEn\": \"Cow\", \"MilkTreatmentTypeEn\": \"Pasteurized\", \"FatLevel\": \"lower fat\"}, {\"ManufacturerProvCode\": \"QC\", \"ManufacturingTypeEn\": \"Artisan\", \"MoisturePercent\": 45.0, \"Organic\": 0, \"CategoryTypeEn\": \"Fresh Cheese\", \"MilkTypeEn\": \"Goat\", \"MilkTreatmentTypeEn\": \"Pasteurized\", \"FatLevel\": \"lower fat\"}, {\"ManufacturerProvCode\": \"QC\", \"ManufacturingTypeEn\": \"Artisan\", \"MoisturePercent\": 36.0, \"Organic\": 1, \"CategoryTypeEn\": \"Firm Cheese\", \"MilkTypeEn\": \"Cow\", \"MilkTreatmentTypeEn\": \"Raw Milk\", \"FatLevel\": \"higher fat\"}, {\"ManufacturerProvCode\": \"ON\", \"ManufacturingTypeEn\": \"Artisan\", \"MoisturePercent\": 56.0, \"Organic\": 0, \"CategoryTypeEn\": \"Fresh Cheese\", \"MilkTypeEn\": \"Cow\", \"MilkTreatmentTypeEn\": \"Pasteurized\", \"FatLevel\": \"lower fat\"}, {\"ManufacturerProvCode\": \"QC\", \"ManufacturingTypeEn\": \"Industrial\", \"MoisturePercent\": 54.0, \"Organic\": 0, \"CategoryTypeEn\": \"Soft Cheese\", \"MilkTypeEn\": \"Cow\", \"MilkTreatmentTypeEn\": \"Pasteurized\", \"FatLevel\": \"lower fat\"}, {\"ManufacturerProvCode\": \"QC\", \"ManufacturingTypeEn\": \"Artisan\", \"MoisturePercent\": 37.0, \"Organic\": 0, \"CategoryTypeEn\": \"Firm Cheese\", \"MilkTypeEn\": \"Cow\", \"MilkTreatmentTypeEn\": \"Pasteurized\", \"FatLevel\": \"higher fat\"}, {\"ManufacturerProvCode\": \"QC\", \"ManufacturingTypeEn\": \"Artisan\", \"MoisturePercent\": 54.0, \"Organic\": 0, \"CategoryTypeEn\": \"Soft Cheese\", \"MilkTypeEn\": \"Cow\", \"MilkTreatmentTypeEn\": \"Pasteurized\", \"FatLevel\": \"lower fat\"}, {\"ManufacturerProvCode\": \"QC\", \"ManufacturingTypeEn\": \"Industrial\", \"MoisturePercent\": 39.0, \"Organic\": 0, \"CategoryTypeEn\": \"Firm Cheese\", \"MilkTypeEn\": \"Cow\", \"MilkTreatmentTypeEn\": \"Pasteurized\", \"FatLevel\": \"higher fat\"}, {\"ManufacturerProvCode\": \"QC\", \"ManufacturingTypeEn\": \"Artisan\", \"MoisturePercent\": 48.0, \"Organic\": 1, \"CategoryTypeEn\": \"Soft Cheese\", \"MilkTypeEn\": \"Cow\", \"MilkTreatmentTypeEn\": \"Raw Milk\", \"FatLevel\": \"lower fat\"}, {\"ManufacturerProvCode\": \"QC\", \"ManufacturingTypeEn\": \"Artisan\", \"MoisturePercent\": 50.0, \"Organic\": 0, \"CategoryTypeEn\": \"Semi-soft Cheese\", \"MilkTypeEn\": \"Cow\", \"MilkTreatmentTypeEn\": \"Pasteurized\", \"FatLevel\": \"lower fat\"}, {\"ManufacturerProvCode\": \"QC\", \"ManufacturingTypeEn\": \"Industrial\", \"MoisturePercent\": 39.0, \"Organic\": 0, \"CategoryTypeEn\": \"Firm Cheese\", \"MilkTypeEn\": \"Cow\", \"MilkTreatmentTypeEn\": null, \"FatLevel\": \"higher fat\"}, {\"ManufacturerProvCode\": \"QC\", \"ManufacturingTypeEn\": \"Farmstead\", \"MoisturePercent\": 45.0, \"Organic\": 0, \"CategoryTypeEn\": \"Fresh Cheese\", \"MilkTypeEn\": \"Goat\", \"MilkTreatmentTypeEn\": \"Pasteurized\", \"FatLevel\": \"lower fat\"}, {\"ManufacturerProvCode\": \"ON\", \"ManufacturingTypeEn\": \"Industrial\", \"MoisturePercent\": 39.0, \"Organic\": 0, \"CategoryTypeEn\": \"Firm Cheese\", \"MilkTypeEn\": \"Cow\", \"MilkTreatmentTypeEn\": \"Pasteurized\", \"FatLevel\": \"higher fat\"}, {\"ManufacturerProvCode\": \"QC\", \"ManufacturingTypeEn\": \"Artisan\", \"MoisturePercent\": 60.0, \"Organic\": 0, \"CategoryTypeEn\": \"Fresh Cheese\", \"MilkTypeEn\": \"Goat\", \"MilkTreatmentTypeEn\": \"Pasteurized\", \"FatLevel\": \"lower fat\"}, {\"ManufacturerProvCode\": \"QC\", \"ManufacturingTypeEn\": \"Artisan\", \"MoisturePercent\": 39.0, \"Organic\": 0, \"CategoryTypeEn\": \"Firm Cheese\", \"MilkTypeEn\": \"Cow\", \"MilkTreatmentTypeEn\": \"Pasteurized\", \"FatLevel\": \"higher fat\"}, {\"ManufacturerProvCode\": \"QC\", \"ManufacturingTypeEn\": \"Industrial\", \"MoisturePercent\": 45.0, \"Organic\": 0, \"CategoryTypeEn\": \"Soft Cheese\", \"MilkTypeEn\": \"Cow\", \"MilkTreatmentTypeEn\": \"Pasteurized\", \"FatLevel\": \"higher fat\"}, {\"ManufacturerProvCode\": \"QC\", \"ManufacturingTypeEn\": \"Artisan\", \"MoisturePercent\": 40.0, \"Organic\": 0, \"CategoryTypeEn\": \"Firm Cheese\", \"MilkTypeEn\": \"Cow\", \"MilkTreatmentTypeEn\": \"Pasteurized\", \"FatLevel\": \"lower fat\"}, {\"ManufacturerProvCode\": \"QC\", \"ManufacturingTypeEn\": \"Industrial\", \"MoisturePercent\": null, \"Organic\": 0, \"CategoryTypeEn\": \"Soft Cheese\", \"MilkTypeEn\": \"Cow\", \"MilkTreatmentTypeEn\": \"Pasteurized\", \"FatLevel\": \"lower fat\"}, {\"ManufacturerProvCode\": \"QC\", \"ManufacturingTypeEn\": \"Farmstead\", \"MoisturePercent\": 50.0, \"Organic\": 0, \"CategoryTypeEn\": \"Soft Cheese\", \"MilkTypeEn\": \"Cow\", \"MilkTreatmentTypeEn\": \"Raw Milk\", \"FatLevel\": \"lower fat\"}, {\"ManufacturerProvCode\": \"BC\", \"ManufacturingTypeEn\": \"Artisan\", \"MoisturePercent\": 43.0, \"Organic\": 0, \"CategoryTypeEn\": \"Firm Cheese\", \"MilkTypeEn\": \"Cow\", \"MilkTreatmentTypeEn\": \"Pasteurized\", \"FatLevel\": \"higher fat\"}, {\"ManufacturerProvCode\": \"QC\", \"ManufacturingTypeEn\": \"Industrial\", \"MoisturePercent\": 42.0, \"Organic\": 0, \"CategoryTypeEn\": \"Semi-soft Cheese\", \"MilkTypeEn\": \"Cow\", \"MilkTreatmentTypeEn\": \"Pasteurized\", \"FatLevel\": \"lower fat\"}, {\"ManufacturerProvCode\": \"QC\", \"ManufacturingTypeEn\": \"Artisan\", \"MoisturePercent\": 41.0, \"Organic\": 0, \"CategoryTypeEn\": \"Firm Cheese\", \"MilkTypeEn\": \"Cow\", \"MilkTreatmentTypeEn\": \"Pasteurized\", \"FatLevel\": \"higher fat\"}, {\"ManufacturerProvCode\": \"NB\", \"ManufacturingTypeEn\": \"Farmstead\", \"MoisturePercent\": 50.0, \"Organic\": 0, \"CategoryTypeEn\": \"Semi-soft Cheese\", \"MilkTypeEn\": \"Goat\", \"MilkTreatmentTypeEn\": \"Pasteurized\", \"FatLevel\": \"lower fat\"}, {\"ManufacturerProvCode\": \"QC\", \"ManufacturingTypeEn\": \"Artisan\", \"MoisturePercent\": 41.0, \"Organic\": 0, \"CategoryTypeEn\": \"Fresh Cheese\", \"MilkTypeEn\": \"Cow\", \"MilkTreatmentTypeEn\": \"Pasteurized\", \"FatLevel\": \"higher fat\"}, {\"ManufacturerProvCode\": \"QC\", \"ManufacturingTypeEn\": \"Artisan\", \"MoisturePercent\": 55.0, \"Organic\": 0, \"CategoryTypeEn\": \"Soft Cheese\", \"MilkTypeEn\": \"Cow\", \"MilkTreatmentTypeEn\": \"Pasteurized\", \"FatLevel\": \"lower fat\"}, {\"ManufacturerProvCode\": \"QC\", \"ManufacturingTypeEn\": \"Artisan\", \"MoisturePercent\": 38.0, \"Organic\": 0, \"CategoryTypeEn\": \"Firm Cheese\", \"MilkTypeEn\": \"Goat\", \"MilkTreatmentTypeEn\": \"Pasteurized\", \"FatLevel\": \"lower fat\"}, {\"ManufacturerProvCode\": \"QC\", \"ManufacturingTypeEn\": \"Artisan\", \"MoisturePercent\": 52.0, \"Organic\": 0, \"CategoryTypeEn\": \"Soft Cheese\", \"MilkTypeEn\": \"Goat\", \"MilkTreatmentTypeEn\": \"Pasteurized\", \"FatLevel\": \"lower fat\"}, {\"ManufacturerProvCode\": \"QC\", \"ManufacturingTypeEn\": \"Industrial\", \"MoisturePercent\": 50.0, \"Organic\": 0, \"CategoryTypeEn\": \"Soft Cheese\", \"MilkTypeEn\": \"Cow\", \"MilkTreatmentTypeEn\": \"Pasteurized\", \"FatLevel\": \"higher fat\"}, {\"ManufacturerProvCode\": \"QC\", \"ManufacturingTypeEn\": \"Industrial\", \"MoisturePercent\": 50.0, \"Organic\": 0, \"CategoryTypeEn\": \"Soft Cheese\", \"MilkTypeEn\": \"Cow\", \"MilkTreatmentTypeEn\": \"Pasteurized\", \"FatLevel\": \"higher fat\"}, {\"ManufacturerProvCode\": \"QC\", \"ManufacturingTypeEn\": \"Industrial\", \"MoisturePercent\": 50.0, \"Organic\": 0, \"CategoryTypeEn\": \"Fresh Cheese\", \"MilkTypeEn\": \"Goat\", \"MilkTreatmentTypeEn\": \"Pasteurized\", \"FatLevel\": \"lower fat\"}, {\"ManufacturerProvCode\": \"NB\", \"ManufacturingTypeEn\": \"Farmstead\", \"MoisturePercent\": 50.0, \"Organic\": 0, \"CategoryTypeEn\": \"Soft Cheese\", \"MilkTypeEn\": \"Goat\", \"MilkTreatmentTypeEn\": \"Pasteurized\", \"FatLevel\": \"lower fat\"}, {\"ManufacturerProvCode\": \"QC\", \"ManufacturingTypeEn\": \"Industrial\", \"MoisturePercent\": 42.0, \"Organic\": 0, \"CategoryTypeEn\": \"Firm Cheese\", \"MilkTypeEn\": \"Goat\", \"MilkTreatmentTypeEn\": \"Pasteurized\", \"FatLevel\": \"lower fat\"}, {\"ManufacturerProvCode\": \"QC\", \"ManufacturingTypeEn\": \"Artisan\", \"MoisturePercent\": 39.0, \"Organic\": 0, \"CategoryTypeEn\": \"Firm Cheese\", \"MilkTypeEn\": \"Cow\", \"MilkTreatmentTypeEn\": \"Raw Milk\", \"FatLevel\": \"lower fat\"}, {\"ManufacturerProvCode\": \"QC\", \"ManufacturingTypeEn\": \"Industrial\", \"MoisturePercent\": 39.0, \"Organic\": 0, \"CategoryTypeEn\": \"Firm Cheese\", \"MilkTypeEn\": \"Cow\", \"MilkTreatmentTypeEn\": \"Pasteurized\", \"FatLevel\": \"higher fat\"}, {\"ManufacturerProvCode\": \"QC\", \"ManufacturingTypeEn\": \"Industrial\", \"MoisturePercent\": 50.0, \"Organic\": 0, \"CategoryTypeEn\": \"Semi-soft Cheese\", \"MilkTypeEn\": \"Cow\", \"MilkTreatmentTypeEn\": \"Pasteurized\", \"FatLevel\": \"lower fat\"}, {\"ManufacturerProvCode\": \"NS\", \"ManufacturingTypeEn\": \"Industrial\", \"MoisturePercent\": 40.0, \"Organic\": 0, \"CategoryTypeEn\": null, \"MilkTypeEn\": \"Cow\", \"MilkTreatmentTypeEn\": null, \"FatLevel\": \"lower fat\"}, {\"ManufacturerProvCode\": \"QC\", \"ManufacturingTypeEn\": \"Artisan\", \"MoisturePercent\": 40.0, \"Organic\": 0, \"CategoryTypeEn\": \"Semi-soft Cheese\", \"MilkTypeEn\": \"Goat\", \"MilkTreatmentTypeEn\": \"Raw Milk\", \"FatLevel\": \"lower fat\"}, {\"ManufacturerProvCode\": \"QC\", \"ManufacturingTypeEn\": \"Industrial\", \"MoisturePercent\": 45.0, \"Organic\": 0, \"CategoryTypeEn\": \"Firm Cheese\", \"MilkTypeEn\": \"Cow\", \"MilkTreatmentTypeEn\": \"Pasteurized\", \"FatLevel\": \"higher fat\"}, {\"ManufacturerProvCode\": \"QC\", \"ManufacturingTypeEn\": \"Artisan\", \"MoisturePercent\": 50.0, \"Organic\": 0, \"CategoryTypeEn\": \"Fresh Cheese\", \"MilkTypeEn\": \"Cow\", \"MilkTreatmentTypeEn\": \"Pasteurized\", \"FatLevel\": \"lower fat\"}, {\"ManufacturerProvCode\": \"QC\", \"ManufacturingTypeEn\": \"Industrial\", \"MoisturePercent\": 41.0, \"Organic\": 0, \"CategoryTypeEn\": \"Firm Cheese\", \"MilkTypeEn\": \"Cow\", \"MilkTreatmentTypeEn\": \"Pasteurized\", \"FatLevel\": \"higher fat\"}, {\"ManufacturerProvCode\": \"QC\", \"ManufacturingTypeEn\": \"Industrial\", \"MoisturePercent\": 50.0, \"Organic\": 0, \"CategoryTypeEn\": \"Soft Cheese\", \"MilkTypeEn\": \"Cow\", \"MilkTreatmentTypeEn\": \"Pasteurized\", \"FatLevel\": \"lower fat\"}, {\"ManufacturerProvCode\": \"QC\", \"ManufacturingTypeEn\": \"Industrial\", \"MoisturePercent\": 48.0, \"Organic\": 0, \"CategoryTypeEn\": \"Soft Cheese\", \"MilkTypeEn\": \"Cow\", \"MilkTreatmentTypeEn\": \"Pasteurized\", \"FatLevel\": \"higher fat\"}, {\"ManufacturerProvCode\": \"NS\", \"ManufacturingTypeEn\": \"Farmstead\", \"MoisturePercent\": 37.0, \"Organic\": 1, \"CategoryTypeEn\": \"Hard Cheese\", \"MilkTypeEn\": \"Cow\", \"MilkTreatmentTypeEn\": \"Pasteurized\", \"FatLevel\": \"higher fat\"}, {\"ManufacturerProvCode\": \"ON\", \"ManufacturingTypeEn\": \"Industrial\", \"MoisturePercent\": 52.0, \"Organic\": 0, \"CategoryTypeEn\": \"Fresh Cheese\", \"MilkTypeEn\": \"Cow\", \"MilkTreatmentTypeEn\": \"Pasteurized\", \"FatLevel\": \"lower fat\"}, {\"ManufacturerProvCode\": \"ON\", \"ManufacturingTypeEn\": \"Industrial\", \"MoisturePercent\": 40.0, \"Organic\": 0, \"CategoryTypeEn\": \"Firm Cheese\", \"MilkTypeEn\": \"Cow\", \"MilkTreatmentTypeEn\": \"Pasteurized\", \"FatLevel\": \"higher fat\"}, {\"ManufacturerProvCode\": \"QC\", \"ManufacturingTypeEn\": \"Industrial\", \"MoisturePercent\": 48.0, \"Organic\": 0, \"CategoryTypeEn\": \"Soft Cheese\", \"MilkTypeEn\": \"Cow and Goat\", \"MilkTreatmentTypeEn\": \"Pasteurized\", \"FatLevel\": \"higher fat\"}, {\"ManufacturerProvCode\": \"QC\", \"ManufacturingTypeEn\": \"Artisan\", \"MoisturePercent\": 55.0, \"Organic\": 0, \"CategoryTypeEn\": \"Semi-soft Cheese\", \"MilkTypeEn\": \"Goat\", \"MilkTreatmentTypeEn\": \"Raw Milk\", \"FatLevel\": \"lower fat\"}, {\"ManufacturerProvCode\": \"NB\", \"ManufacturingTypeEn\": \"Farmstead\", \"MoisturePercent\": 50.0, \"Organic\": 0, \"CategoryTypeEn\": \"Soft Cheese\", \"MilkTypeEn\": \"Goat\", \"MilkTreatmentTypeEn\": \"Pasteurized\", \"FatLevel\": \"lower fat\"}, {\"ManufacturerProvCode\": \"QC\", \"ManufacturingTypeEn\": \"Farmstead\", \"MoisturePercent\": 46.0, \"Organic\": 1, \"CategoryTypeEn\": \"Semi-soft Cheese\", \"MilkTypeEn\": \"Goat\", \"MilkTreatmentTypeEn\": \"Pasteurized\", \"FatLevel\": \"higher fat\"}, {\"ManufacturerProvCode\": \"QC\", \"ManufacturingTypeEn\": \"Industrial\", \"MoisturePercent\": 35.0, \"Organic\": 0, \"CategoryTypeEn\": \"Firm Cheese\", \"MilkTypeEn\": \"Cow\", \"MilkTreatmentTypeEn\": \"Pasteurized\", \"FatLevel\": \"higher fat\"}, {\"ManufacturerProvCode\": \"ON\", \"ManufacturingTypeEn\": \"Industrial\", \"MoisturePercent\": 52.0, \"Organic\": 0, \"CategoryTypeEn\": \"Soft Cheese\", \"MilkTypeEn\": \"Goat\", \"MilkTreatmentTypeEn\": \"Pasteurized\", \"FatLevel\": \"lower fat\"}, {\"ManufacturerProvCode\": \"QC\", \"ManufacturingTypeEn\": \"Artisan\", \"MoisturePercent\": 45.0, \"Organic\": 0, \"CategoryTypeEn\": \"Firm Cheese\", \"MilkTypeEn\": \"Cow\", \"MilkTreatmentTypeEn\": \"Pasteurized\", \"FatLevel\": \"higher fat\"}, {\"ManufacturerProvCode\": \"QC\", \"ManufacturingTypeEn\": \"Industrial\", \"MoisturePercent\": 50.0, \"Organic\": 0, \"CategoryTypeEn\": \"Soft Cheese\", \"MilkTypeEn\": \"Cow\", \"MilkTreatmentTypeEn\": \"Pasteurized\", \"FatLevel\": \"lower fat\"}, {\"ManufacturerProvCode\": \"QC\", \"ManufacturingTypeEn\": \"Industrial\", \"MoisturePercent\": 39.0, \"Organic\": 0, \"CategoryTypeEn\": \"Firm Cheese\", \"MilkTypeEn\": \"Cow\", \"MilkTreatmentTypeEn\": \"Pasteurized\", \"FatLevel\": \"higher fat\"}, {\"ManufacturerProvCode\": \"QC\", \"ManufacturingTypeEn\": \"Industrial\", \"MoisturePercent\": 45.0, \"Organic\": 0, \"CategoryTypeEn\": \"Firm Cheese\", \"MilkTypeEn\": \"Cow\", \"MilkTreatmentTypeEn\": \"Pasteurized\", \"FatLevel\": \"lower fat\"}, {\"ManufacturerProvCode\": \"QC\", \"ManufacturingTypeEn\": \"Industrial\", \"MoisturePercent\": 55.0, \"Organic\": 0, \"CategoryTypeEn\": \"Soft Cheese\", \"MilkTypeEn\": \"Cow\", \"MilkTreatmentTypeEn\": \"Pasteurized\", \"FatLevel\": \"lower fat\"}, {\"ManufacturerProvCode\": \"QC\", \"ManufacturingTypeEn\": \"Farmstead\", \"MoisturePercent\": 50.0, \"Organic\": 1, \"CategoryTypeEn\": \"Soft Cheese\", \"MilkTypeEn\": \"Cow\", \"MilkTreatmentTypeEn\": \"Pasteurized\", \"FatLevel\": \"higher fat\"}, {\"ManufacturerProvCode\": \"BC\", \"ManufacturingTypeEn\": \"Artisan\", \"MoisturePercent\": null, \"Organic\": 0, \"CategoryTypeEn\": \"Hard Cheese\", \"MilkTypeEn\": \"Cow\", \"MilkTreatmentTypeEn\": \"Raw Milk\", \"FatLevel\": \"higher fat\"}, {\"ManufacturerProvCode\": \"QC\", \"ManufacturingTypeEn\": \"Artisan\", \"MoisturePercent\": 50.0, \"Organic\": 0, \"CategoryTypeEn\": \"Soft Cheese\", \"MilkTypeEn\": \"Cow\", \"MilkTreatmentTypeEn\": \"Raw Milk\", \"FatLevel\": \"lower fat\"}, {\"ManufacturerProvCode\": \"QC\", \"ManufacturingTypeEn\": \"Artisan\", \"MoisturePercent\": 55.0, \"Organic\": 0, \"CategoryTypeEn\": \"Soft Cheese\", \"MilkTypeEn\": \"Cow\", \"MilkTreatmentTypeEn\": \"Pasteurized\", \"FatLevel\": \"lower fat\"}, {\"ManufacturerProvCode\": \"BC\", \"ManufacturingTypeEn\": \"Artisan\", \"MoisturePercent\": 40.0, \"Organic\": 0, \"CategoryTypeEn\": \"Firm Cheese\", \"MilkTypeEn\": \"Cow\", \"MilkTreatmentTypeEn\": \"Pasteurized\", \"FatLevel\": \"higher fat\"}, {\"ManufacturerProvCode\": \"ON\", \"ManufacturingTypeEn\": \"Artisan\", \"MoisturePercent\": 48.0, \"Organic\": 0, \"CategoryTypeEn\": \"Semi-soft Cheese\", \"MilkTypeEn\": \"Ewe\", \"MilkTreatmentTypeEn\": \"Raw Milk\", \"FatLevel\": \"higher fat\"}, {\"ManufacturerProvCode\": \"QC\", \"ManufacturingTypeEn\": \"Industrial\", \"MoisturePercent\": 42.0, \"Organic\": 0, \"CategoryTypeEn\": \"Firm Cheese\", \"MilkTypeEn\": \"Cow\", \"MilkTreatmentTypeEn\": \"Thermised\", \"FatLevel\": \"higher fat\"}, {\"ManufacturerProvCode\": \"QC\", \"ManufacturingTypeEn\": \"Artisan\", \"MoisturePercent\": 48.0, \"Organic\": 0, \"CategoryTypeEn\": \"Semi-soft Cheese\", \"MilkTypeEn\": \"Cow\", \"MilkTreatmentTypeEn\": \"Pasteurized\", \"FatLevel\": \"lower fat\"}, {\"ManufacturerProvCode\": \"QC\", \"ManufacturingTypeEn\": \"Industrial\", \"MoisturePercent\": 39.0, \"Organic\": 0, \"CategoryTypeEn\": \"Firm Cheese\", \"MilkTypeEn\": \"Cow\", \"MilkTreatmentTypeEn\": \"Raw Milk\", \"FatLevel\": \"higher fat\"}, {\"ManufacturerProvCode\": \"QC\", \"ManufacturingTypeEn\": \"Farmstead\", \"MoisturePercent\": 56.0, \"Organic\": 0, \"CategoryTypeEn\": \"Soft Cheese\", \"MilkTypeEn\": \"Goat\", \"MilkTreatmentTypeEn\": \"Pasteurized\", \"FatLevel\": \"lower fat\"}, {\"ManufacturerProvCode\": \"MB\", \"ManufacturingTypeEn\": \"Farmstead\", \"MoisturePercent\": 42.0, \"Organic\": 0, \"CategoryTypeEn\": \"Firm Cheese\", \"MilkTypeEn\": \"Cow\", \"MilkTreatmentTypeEn\": \"Pasteurized\", \"FatLevel\": \"lower fat\"}, {\"ManufacturerProvCode\": \"QC\", \"ManufacturingTypeEn\": \"Artisan\", \"MoisturePercent\": 52.0, \"Organic\": 0, \"CategoryTypeEn\": \"Soft Cheese\", \"MilkTypeEn\": \"Cow\", \"MilkTreatmentTypeEn\": \"Raw Milk\", \"FatLevel\": \"lower fat\"}, {\"ManufacturerProvCode\": \"QC\", \"ManufacturingTypeEn\": \"Artisan\", \"MoisturePercent\": 40.0, \"Organic\": 0, \"CategoryTypeEn\": \"Firm Cheese\", \"MilkTypeEn\": \"Cow\", \"MilkTreatmentTypeEn\": \"Pasteurized\", \"FatLevel\": \"lower fat\"}, {\"ManufacturerProvCode\": \"QC\", \"ManufacturingTypeEn\": \"Artisan\", \"MoisturePercent\": 39.0, \"Organic\": 0, \"CategoryTypeEn\": \"Firm Cheese\", \"MilkTypeEn\": \"Cow\", \"MilkTreatmentTypeEn\": \"Pasteurized\", \"FatLevel\": \"higher fat\"}, {\"ManufacturerProvCode\": \"NB\", \"ManufacturingTypeEn\": \"Farmstead\", \"MoisturePercent\": 50.0, \"Organic\": 0, \"CategoryTypeEn\": \"Firm Cheese\", \"MilkTypeEn\": \"Goat\", \"MilkTreatmentTypeEn\": \"Pasteurized\", \"FatLevel\": \"lower fat\"}, {\"ManufacturerProvCode\": \"QC\", \"ManufacturingTypeEn\": \"Industrial\", \"MoisturePercent\": 60.0, \"Organic\": 0, \"CategoryTypeEn\": \"Soft Cheese\", \"MilkTypeEn\": \"Cow\", \"MilkTreatmentTypeEn\": \"Pasteurized\", \"FatLevel\": \"lower fat\"}, {\"ManufacturerProvCode\": \"QC\", \"ManufacturingTypeEn\": \"Industrial\", \"MoisturePercent\": 40.0, \"Organic\": 0, \"CategoryTypeEn\": \"Firm Cheese\", \"MilkTypeEn\": \"Cow\", \"MilkTreatmentTypeEn\": \"Pasteurized\", \"FatLevel\": \"lower fat\"}, {\"ManufacturerProvCode\": \"QC\", \"ManufacturingTypeEn\": \"Farmstead\", \"MoisturePercent\": 42.0, \"Organic\": 0, \"CategoryTypeEn\": \"Firm Cheese\", \"MilkTypeEn\": \"Goat\", \"MilkTreatmentTypeEn\": \"Pasteurized\", \"FatLevel\": \"lower fat\"}, {\"ManufacturerProvCode\": \"QC\", \"ManufacturingTypeEn\": \"Industrial\", \"MoisturePercent\": 32.0, \"Organic\": 0, \"CategoryTypeEn\": \"Hard Cheese\", \"MilkTypeEn\": \"Cow\", \"MilkTreatmentTypeEn\": null, \"FatLevel\": \"lower fat\"}, {\"ManufacturerProvCode\": \"QC\", \"ManufacturingTypeEn\": \"Farmstead\", \"MoisturePercent\": 39.0, \"Organic\": 1, \"CategoryTypeEn\": \"Firm Cheese\", \"MilkTypeEn\": \"Cow\", \"MilkTreatmentTypeEn\": \"Pasteurized\", \"FatLevel\": \"higher fat\"}, {\"ManufacturerProvCode\": \"BC\", \"ManufacturingTypeEn\": \"Farmstead\", \"MoisturePercent\": 34.0, \"Organic\": 1, \"CategoryTypeEn\": \"Semi-soft Cheese\", \"MilkTypeEn\": \"Cow\", \"MilkTreatmentTypeEn\": \"Raw Milk\", \"FatLevel\": \"higher fat\"}, {\"ManufacturerProvCode\": \"BC\", \"ManufacturingTypeEn\": \"Artisan\", \"MoisturePercent\": 38.0, \"Organic\": 0, \"CategoryTypeEn\": \"Firm Cheese\", \"MilkTypeEn\": \"Cow\", \"MilkTreatmentTypeEn\": \"Pasteurized\", \"FatLevel\": \"higher fat\"}, {\"ManufacturerProvCode\": \"QC\", \"ManufacturingTypeEn\": \"Industrial\", \"MoisturePercent\": 33.0, \"Organic\": 1, \"CategoryTypeEn\": \"Hard Cheese\", \"MilkTypeEn\": \"Cow\", \"MilkTreatmentTypeEn\": \"Thermised\", \"FatLevel\": \"higher fat\"}, {\"ManufacturerProvCode\": \"QC\", \"ManufacturingTypeEn\": \"Industrial\", \"MoisturePercent\": 74.0, \"Organic\": 0, \"CategoryTypeEn\": \"Soft Cheese\", \"MilkTypeEn\": \"Cow\", \"MilkTreatmentTypeEn\": \"Pasteurized\", \"FatLevel\": \"lower fat\"}, {\"ManufacturerProvCode\": \"QC\", \"ManufacturingTypeEn\": \"Industrial\", \"MoisturePercent\": 45.0, \"Organic\": 0, \"CategoryTypeEn\": \"Firm Cheese\", \"MilkTypeEn\": \"Goat\", \"MilkTreatmentTypeEn\": \"Pasteurized\", \"FatLevel\": \"lower fat\"}, {\"ManufacturerProvCode\": \"BC\", \"ManufacturingTypeEn\": \"Farmstead\", \"MoisturePercent\": 40.0, \"Organic\": 1, \"CategoryTypeEn\": \"Soft Cheese\", \"MilkTypeEn\": \"Cow\", \"MilkTreatmentTypeEn\": \"Pasteurized\", \"FatLevel\": \"lower fat\"}, {\"ManufacturerProvCode\": \"QC\", \"ManufacturingTypeEn\": \"Artisan\", \"MoisturePercent\": 43.0, \"Organic\": 0, \"CategoryTypeEn\": \"Firm Cheese\", \"MilkTypeEn\": \"Cow\", \"MilkTreatmentTypeEn\": \"Pasteurized\", \"FatLevel\": \"higher fat\"}, {\"ManufacturerProvCode\": \"QC\", \"ManufacturingTypeEn\": \"Artisan\", \"MoisturePercent\": 57.0, \"Organic\": 0, \"CategoryTypeEn\": \"Soft Cheese\", \"MilkTypeEn\": \"Goat\", \"MilkTreatmentTypeEn\": \"Pasteurized\", \"FatLevel\": \"lower fat\"}, {\"ManufacturerProvCode\": \"QC\", \"ManufacturingTypeEn\": \"Industrial\", \"MoisturePercent\": 50.0, \"Organic\": 0, \"CategoryTypeEn\": \"Soft Cheese\", \"MilkTypeEn\": \"Cow\", \"MilkTreatmentTypeEn\": \"Pasteurized\", \"FatLevel\": \"higher fat\"}, {\"ManufacturerProvCode\": \"QC\", \"ManufacturingTypeEn\": \"Industrial\", \"MoisturePercent\": 52.0, \"Organic\": 0, \"CategoryTypeEn\": \"Soft Cheese\", \"MilkTypeEn\": \"Cow\", \"MilkTreatmentTypeEn\": \"Pasteurized\", \"FatLevel\": \"higher fat\"}, {\"ManufacturerProvCode\": \"QC\", \"ManufacturingTypeEn\": \"Artisan\", \"MoisturePercent\": 56.0, \"Organic\": 0, \"CategoryTypeEn\": \"Soft Cheese\", \"MilkTypeEn\": \"Ewe\", \"MilkTreatmentTypeEn\": \"Pasteurized\", \"FatLevel\": \"lower fat\"}, {\"ManufacturerProvCode\": \"QC\", \"ManufacturingTypeEn\": \"Artisan\", \"MoisturePercent\": 40.0, \"Organic\": 0, \"CategoryTypeEn\": \"Firm Cheese\", \"MilkTypeEn\": \"Cow\", \"MilkTreatmentTypeEn\": \"Pasteurized\", \"FatLevel\": \"lower fat\"}, {\"ManufacturerProvCode\": \"MB\", \"ManufacturingTypeEn\": \"Farmstead\", \"MoisturePercent\": 42.0, \"Organic\": 0, \"CategoryTypeEn\": \"Firm Cheese\", \"MilkTypeEn\": \"Cow\", \"MilkTreatmentTypeEn\": \"Pasteurized\", \"FatLevel\": \"lower fat\"}, {\"ManufacturerProvCode\": \"QC\", \"ManufacturingTypeEn\": \"Industrial\", \"MoisturePercent\": 48.0, \"Organic\": 0, \"CategoryTypeEn\": \"Soft Cheese\", \"MilkTypeEn\": \"Cow\", \"MilkTreatmentTypeEn\": null, \"FatLevel\": \"higher fat\"}, {\"ManufacturerProvCode\": \"ON\", \"ManufacturingTypeEn\": \"Farmstead\", \"MoisturePercent\": 39.0, \"Organic\": 0, \"CategoryTypeEn\": \"Semi-soft Cheese\", \"MilkTypeEn\": \"Cow\", \"MilkTreatmentTypeEn\": \"Pasteurized\", \"FatLevel\": \"higher fat\"}, {\"ManufacturerProvCode\": \"QC\", \"ManufacturingTypeEn\": \"Artisan\", \"MoisturePercent\": 41.0, \"Organic\": 0, \"CategoryTypeEn\": \"Semi-soft Cheese\", \"MilkTypeEn\": \"Goat\", \"MilkTreatmentTypeEn\": \"Pasteurized\", \"FatLevel\": \"lower fat\"}, {\"ManufacturerProvCode\": \"QC\", \"ManufacturingTypeEn\": \"Industrial\", \"MoisturePercent\": 45.0, \"Organic\": 0, \"CategoryTypeEn\": \"Firm Cheese\", \"MilkTypeEn\": \"Cow\", \"MilkTreatmentTypeEn\": \"Pasteurized\", \"FatLevel\": \"higher fat\"}, {\"ManufacturerProvCode\": \"ON\", \"ManufacturingTypeEn\": \"Industrial\", \"MoisturePercent\": 46.0, \"Organic\": 0, \"CategoryTypeEn\": \"Semi-soft Cheese\", \"MilkTypeEn\": \"Cow\", \"MilkTreatmentTypeEn\": \"Pasteurized\", \"FatLevel\": \"higher fat\"}, {\"ManufacturerProvCode\": \"QC\", \"ManufacturingTypeEn\": \"Industrial\", \"MoisturePercent\": 43.0, \"Organic\": 0, \"CategoryTypeEn\": \"Firm Cheese\", \"MilkTypeEn\": \"Cow\", \"MilkTreatmentTypeEn\": \"Pasteurized\", \"FatLevel\": \"lower fat\"}, {\"ManufacturerProvCode\": \"PE\", \"ManufacturingTypeEn\": \"Farmstead\", \"MoisturePercent\": 43.0, \"Organic\": 0, \"CategoryTypeEn\": \"Firm Cheese\", \"MilkTypeEn\": \"Cow\", \"MilkTreatmentTypeEn\": \"Pasteurized\", \"FatLevel\": \"lower fat\"}, {\"ManufacturerProvCode\": \"NB\", \"ManufacturingTypeEn\": \"Farmstead\", \"MoisturePercent\": 47.9, \"Organic\": 0, \"CategoryTypeEn\": \"Semi-soft Cheese\", \"MilkTypeEn\": \"Cow\", \"MilkTreatmentTypeEn\": \"Raw Milk\", \"FatLevel\": \"lower fat\"}, {\"ManufacturerProvCode\": \"QC\", \"ManufacturingTypeEn\": \"Artisan\", \"MoisturePercent\": 39.0, \"Organic\": 0, \"CategoryTypeEn\": \"Semi-soft Cheese\", \"MilkTypeEn\": \"Ewe\", \"MilkTreatmentTypeEn\": \"Pasteurized\", \"FatLevel\": \"higher fat\"}, {\"ManufacturerProvCode\": \"BC\", \"ManufacturingTypeEn\": \"Artisan\", \"MoisturePercent\": 41.0, \"Organic\": 0, \"CategoryTypeEn\": \"Firm Cheese\", \"MilkTypeEn\": \"Cow\", \"MilkTreatmentTypeEn\": \"Pasteurized\", \"FatLevel\": \"higher fat\"}, {\"ManufacturerProvCode\": \"NS\", \"ManufacturingTypeEn\": \"Farmstead\", \"MoisturePercent\": 42.0, \"Organic\": 0, \"CategoryTypeEn\": \"Soft Cheese\", \"MilkTypeEn\": \"Cow\", \"MilkTreatmentTypeEn\": \"Raw Milk\", \"FatLevel\": \"lower fat\"}, {\"ManufacturerProvCode\": \"QC\", \"ManufacturingTypeEn\": \"Industrial\", \"MoisturePercent\": 56.0, \"Organic\": 0, \"CategoryTypeEn\": \"Soft Cheese\", \"MilkTypeEn\": \"Cow\", \"MilkTreatmentTypeEn\": \"Pasteurized\", \"FatLevel\": \"lower fat\"}, {\"ManufacturerProvCode\": \"QC\", \"ManufacturingTypeEn\": \"Artisan\", \"MoisturePercent\": 44.0, \"Organic\": 0, \"CategoryTypeEn\": \"Veined Cheeses\", \"MilkTypeEn\": \"Cow\", \"MilkTreatmentTypeEn\": \"Raw Milk\", \"FatLevel\": \"higher fat\"}, {\"ManufacturerProvCode\": \"QC\", \"ManufacturingTypeEn\": \"Industrial\", \"MoisturePercent\": 43.0, \"Organic\": 1, \"CategoryTypeEn\": \"Firm Cheese\", \"MilkTypeEn\": \"Cow\", \"MilkTreatmentTypeEn\": \"Thermised\", \"FatLevel\": \"lower fat\"}, {\"ManufacturerProvCode\": \"QC\", \"ManufacturingTypeEn\": \"Industrial\", \"MoisturePercent\": 55.0, \"Organic\": 0, \"CategoryTypeEn\": \"Semi-soft Cheese\", \"MilkTypeEn\": \"Goat\", \"MilkTreatmentTypeEn\": \"Pasteurized\", \"FatLevel\": \"lower fat\"}, {\"ManufacturerProvCode\": \"QC\", \"ManufacturingTypeEn\": \"Industrial\", \"MoisturePercent\": 49.0, \"Organic\": 0, \"CategoryTypeEn\": \"Firm Cheese\", \"MilkTypeEn\": \"Cow\", \"MilkTreatmentTypeEn\": \"Pasteurized\", \"FatLevel\": \"lower fat\"}, {\"ManufacturerProvCode\": \"ON\", \"ManufacturingTypeEn\": \"Industrial\", \"MoisturePercent\": 48.0, \"Organic\": 0, \"CategoryTypeEn\": \"Semi-soft Cheese\", \"MilkTypeEn\": \"Cow\", \"MilkTreatmentTypeEn\": \"Pasteurized\", \"FatLevel\": \"lower fat\"}, {\"ManufacturerProvCode\": \"QC\", \"ManufacturingTypeEn\": \"Industrial\", \"MoisturePercent\": 39.0, \"Organic\": 0, \"CategoryTypeEn\": \"Firm Cheese\", \"MilkTypeEn\": \"Cow\", \"MilkTreatmentTypeEn\": \"Pasteurized\", \"FatLevel\": \"higher fat\"}, {\"ManufacturerProvCode\": \"QC\", \"ManufacturingTypeEn\": \"Industrial\", \"MoisturePercent\": 56.0, \"Organic\": 0, \"CategoryTypeEn\": \"Soft Cheese\", \"MilkTypeEn\": \"Cow\", \"MilkTreatmentTypeEn\": \"Pasteurized\", \"FatLevel\": \"lower fat\"}, {\"ManufacturerProvCode\": \"ON\", \"ManufacturingTypeEn\": \"Industrial\", \"MoisturePercent\": 39.0, \"Organic\": 0, \"CategoryTypeEn\": \"Firm Cheese\", \"MilkTypeEn\": \"Cow\", \"MilkTreatmentTypeEn\": \"Pasteurized\", \"FatLevel\": \"higher fat\"}, {\"ManufacturerProvCode\": \"QC\", \"ManufacturingTypeEn\": \"Farmstead\", \"MoisturePercent\": 58.0, \"Organic\": 0, \"CategoryTypeEn\": \"Soft Cheese\", \"MilkTypeEn\": \"Ewe\", \"MilkTreatmentTypeEn\": \"Pasteurized\", \"FatLevel\": \"lower fat\"}, {\"ManufacturerProvCode\": \"QC\", \"ManufacturingTypeEn\": \"Artisan\", \"MoisturePercent\": 42.0, \"Organic\": 0, \"CategoryTypeEn\": \"Firm Cheese\", \"MilkTypeEn\": \"Cow\", \"MilkTreatmentTypeEn\": \"Pasteurized\", \"FatLevel\": \"lower fat\"}, {\"ManufacturerProvCode\": \"QC\", \"ManufacturingTypeEn\": \"Industrial\", \"MoisturePercent\": 50.0, \"Organic\": 0, \"CategoryTypeEn\": \"Semi-soft Cheese\", \"MilkTypeEn\": \"Goat\", \"MilkTreatmentTypeEn\": \"Pasteurized\", \"FatLevel\": \"lower fat\"}, {\"ManufacturerProvCode\": \"QC\", \"ManufacturingTypeEn\": \"Artisan\", \"MoisturePercent\": 44.0, \"Organic\": 1, \"CategoryTypeEn\": \"Semi-soft Cheese\", \"MilkTypeEn\": \"Cow\", \"MilkTreatmentTypeEn\": \"Raw Milk\", \"FatLevel\": \"higher fat\"}, {\"ManufacturerProvCode\": \"QC\", \"ManufacturingTypeEn\": \"Artisan\", \"MoisturePercent\": 48.0, \"Organic\": 0, \"CategoryTypeEn\": \"Soft Cheese\", \"MilkTypeEn\": \"Cow\", \"MilkTreatmentTypeEn\": \"Pasteurized\", \"FatLevel\": \"lower fat\"}, {\"ManufacturerProvCode\": \"MB\", \"ManufacturingTypeEn\": \"Farmstead\", \"MoisturePercent\": 42.0, \"Organic\": 0, \"CategoryTypeEn\": null, \"MilkTypeEn\": \"Cow\", \"MilkTreatmentTypeEn\": null, \"FatLevel\": \"lower fat\"}, {\"ManufacturerProvCode\": \"QC\", \"ManufacturingTypeEn\": \"Farmstead\", \"MoisturePercent\": 61.0, \"Organic\": 0, \"CategoryTypeEn\": \"Fresh Cheese\", \"MilkTypeEn\": \"Ewe\", \"MilkTreatmentTypeEn\": \"Pasteurized\", \"FatLevel\": \"lower fat\"}, {\"ManufacturerProvCode\": \"NB\", \"ManufacturingTypeEn\": \"Farmstead\", \"MoisturePercent\": 50.0, \"Organic\": 0, \"CategoryTypeEn\": \"Firm Cheese\", \"MilkTypeEn\": \"Goat\", \"MilkTreatmentTypeEn\": \"Pasteurized\", \"FatLevel\": \"lower fat\"}, {\"ManufacturerProvCode\": \"QC\", \"ManufacturingTypeEn\": \"Artisan\", \"MoisturePercent\": 50.0, \"Organic\": 0, \"CategoryTypeEn\": \"Soft Cheese\", \"MilkTypeEn\": \"Cow and Goat\", \"MilkTreatmentTypeEn\": \"Pasteurized\", \"FatLevel\": \"lower fat\"}, {\"ManufacturerProvCode\": \"QC\", \"ManufacturingTypeEn\": \"Industrial\", \"MoisturePercent\": 39.0, \"Organic\": 0, \"CategoryTypeEn\": \"Firm Cheese\", \"MilkTypeEn\": \"Cow\", \"MilkTreatmentTypeEn\": \"Pasteurized\", \"FatLevel\": \"higher fat\"}, {\"ManufacturerProvCode\": \"AB\", \"ManufacturingTypeEn\": \"Industrial\", \"MoisturePercent\": 45.0, \"Organic\": 0, \"CategoryTypeEn\": null, \"MilkTypeEn\": \"Cow\", \"MilkTreatmentTypeEn\": null, \"FatLevel\": \"lower fat\"}, {\"ManufacturerProvCode\": \"QC\", \"ManufacturingTypeEn\": \"Industrial\", \"MoisturePercent\": 52.0, \"Organic\": 0, \"CategoryTypeEn\": \"Soft Cheese\", \"MilkTypeEn\": \"Goat\", \"MilkTreatmentTypeEn\": \"Pasteurized\", \"FatLevel\": \"lower fat\"}, {\"ManufacturerProvCode\": \"QC\", \"ManufacturingTypeEn\": \"Industrial\", \"MoisturePercent\": 52.0, \"Organic\": 0, \"CategoryTypeEn\": \"Semi-soft Cheese\", \"MilkTypeEn\": \"Cow\", \"MilkTreatmentTypeEn\": \"Pasteurized\", \"FatLevel\": \"lower fat\"}, {\"ManufacturerProvCode\": \"BC\", \"ManufacturingTypeEn\": \"Farmstead\", \"MoisturePercent\": 40.3, \"Organic\": 1, \"CategoryTypeEn\": \"Soft Cheese\", \"MilkTypeEn\": \"Cow\", \"MilkTreatmentTypeEn\": \"Pasteurized\", \"FatLevel\": \"lower fat\"}, {\"ManufacturerProvCode\": \"QC\", \"ManufacturingTypeEn\": \"Artisan\", \"MoisturePercent\": 39.0, \"Organic\": 0, \"CategoryTypeEn\": \"Firm Cheese\", \"MilkTypeEn\": \"Cow\", \"MilkTreatmentTypeEn\": \"Thermised\", \"FatLevel\": \"higher fat\"}, {\"ManufacturerProvCode\": \"QC\", \"ManufacturingTypeEn\": \"Artisan\", \"MoisturePercent\": 45.0, \"Organic\": 0, \"CategoryTypeEn\": \"Firm Cheese\", \"MilkTypeEn\": \"Cow\", \"MilkTreatmentTypeEn\": \"Pasteurized\", \"FatLevel\": \"lower fat\"}, {\"ManufacturerProvCode\": \"QC\", \"ManufacturingTypeEn\": \"Industrial\", \"MoisturePercent\": 39.0, \"Organic\": 1, \"CategoryTypeEn\": \"Firm Cheese\", \"MilkTypeEn\": \"Cow\", \"MilkTreatmentTypeEn\": \"Thermised\", \"FatLevel\": \"higher fat\"}, {\"ManufacturerProvCode\": \"QC\", \"ManufacturingTypeEn\": \"Industrial\", \"MoisturePercent\": 39.0, \"Organic\": 0, \"CategoryTypeEn\": \"Firm Cheese\", \"MilkTypeEn\": \"Cow\", \"MilkTreatmentTypeEn\": \"Pasteurized\", \"FatLevel\": \"higher fat\"}, {\"ManufacturerProvCode\": \"QC\", \"ManufacturingTypeEn\": \"Industrial\", \"MoisturePercent\": 39.0, \"Organic\": 0, \"CategoryTypeEn\": \"Firm Cheese\", \"MilkTypeEn\": \"Cow\", \"MilkTreatmentTypeEn\": \"Pasteurized\", \"FatLevel\": \"higher fat\"}, {\"ManufacturerProvCode\": \"QC\", \"ManufacturingTypeEn\": \"Artisan\", \"MoisturePercent\": 55.0, \"Organic\": 0, \"CategoryTypeEn\": \"Soft Cheese\", \"MilkTypeEn\": \"Goat\", \"MilkTreatmentTypeEn\": \"Pasteurized\", \"FatLevel\": \"lower fat\"}, {\"ManufacturerProvCode\": \"BC\", \"ManufacturingTypeEn\": \"Farmstead\", \"MoisturePercent\": 27.0, \"Organic\": 1, \"CategoryTypeEn\": \"Veined Cheeses\", \"MilkTypeEn\": \"Cow\", \"MilkTreatmentTypeEn\": \"Raw Milk\", \"FatLevel\": \"higher fat\"}, {\"ManufacturerProvCode\": \"ON\", \"ManufacturingTypeEn\": \"Industrial\", \"MoisturePercent\": 57.0, \"Organic\": 0, \"CategoryTypeEn\": \"Fresh Cheese\", \"MilkTypeEn\": \"Goat\", \"MilkTreatmentTypeEn\": \"Pasteurized\", \"FatLevel\": \"lower fat\"}, {\"ManufacturerProvCode\": \"QC\", \"ManufacturingTypeEn\": \"Farmstead\", \"MoisturePercent\": 43.0, \"Organic\": 0, \"CategoryTypeEn\": \"Semi-soft Cheese\", \"MilkTypeEn\": \"Ewe\", \"MilkTreatmentTypeEn\": \"Raw Milk\", \"FatLevel\": \"higher fat\"}, {\"ManufacturerProvCode\": \"QC\", \"ManufacturingTypeEn\": \"Artisan\", \"MoisturePercent\": 52.0, \"Organic\": 0, \"CategoryTypeEn\": \"Soft Cheese\", \"MilkTypeEn\": \"Goat\", \"MilkTreatmentTypeEn\": \"Pasteurized\", \"FatLevel\": \"lower fat\"}, {\"ManufacturerProvCode\": \"QC\", \"ManufacturingTypeEn\": \"Artisan\", \"MoisturePercent\": 63.0, \"Organic\": 0, \"CategoryTypeEn\": \"Fresh Cheese\", \"MilkTypeEn\": \"Goat\", \"MilkTreatmentTypeEn\": \"Pasteurized\", \"FatLevel\": \"lower fat\"}, {\"ManufacturerProvCode\": \"QC\", \"ManufacturingTypeEn\": \"Farmstead\", \"MoisturePercent\": 74.0, \"Organic\": 0, \"CategoryTypeEn\": \"Fresh Cheese\", \"MilkTypeEn\": \"Goat\", \"MilkTreatmentTypeEn\": \"Pasteurized\", \"FatLevel\": \"lower fat\"}, {\"ManufacturerProvCode\": \"QC\", \"ManufacturingTypeEn\": \"Artisan\", \"MoisturePercent\": 40.0, \"Organic\": 0, \"CategoryTypeEn\": \"Semi-soft Cheese\", \"MilkTypeEn\": \"Cow\", \"MilkTreatmentTypeEn\": \"Thermised\", \"FatLevel\": \"lower fat\"}, {\"ManufacturerProvCode\": \"QC\", \"ManufacturingTypeEn\": \"Industrial\", \"MoisturePercent\": 54.0, \"Organic\": 0, \"CategoryTypeEn\": null, \"MilkTypeEn\": \"Cow\", \"MilkTreatmentTypeEn\": null, \"FatLevel\": \"lower fat\"}, {\"ManufacturerProvCode\": \"QC\", \"ManufacturingTypeEn\": \"Industrial\", \"MoisturePercent\": 45.0, \"Organic\": 0, \"CategoryTypeEn\": \"Soft Cheese\", \"MilkTypeEn\": \"Cow\", \"MilkTreatmentTypeEn\": \"Pasteurized\", \"FatLevel\": \"higher fat\"}, {\"ManufacturerProvCode\": \"QC\", \"ManufacturingTypeEn\": \"Artisan\", \"MoisturePercent\": 49.0, \"Organic\": 0, \"CategoryTypeEn\": \"Soft Cheese\", \"MilkTypeEn\": \"Goat\", \"MilkTreatmentTypeEn\": \"Pasteurized\", \"FatLevel\": \"lower fat\"}, {\"ManufacturerProvCode\": \"ON\", \"ManufacturingTypeEn\": \"Industrial\", \"MoisturePercent\": 40.0, \"Organic\": 0, \"CategoryTypeEn\": \"Semi-soft Cheese\", \"MilkTypeEn\": \"Goat\", \"MilkTreatmentTypeEn\": \"Pasteurized\", \"FatLevel\": \"higher fat\"}, {\"ManufacturerProvCode\": \"QC\", \"ManufacturingTypeEn\": \"Industrial\", \"MoisturePercent\": 49.0, \"Organic\": 0, \"CategoryTypeEn\": \"Firm Cheese\", \"MilkTypeEn\": \"Cow\", \"MilkTreatmentTypeEn\": \"Pasteurized\", \"FatLevel\": \"lower fat\"}, {\"ManufacturerProvCode\": \"QC\", \"ManufacturingTypeEn\": \"Industrial\", \"MoisturePercent\": 56.0, \"Organic\": 0, \"CategoryTypeEn\": \"Soft Cheese\", \"MilkTypeEn\": \"Cow\", \"MilkTreatmentTypeEn\": \"Pasteurized\", \"FatLevel\": \"lower fat\"}, {\"ManufacturerProvCode\": \"QC\", \"ManufacturingTypeEn\": \"Industrial\", \"MoisturePercent\": 50.0, \"Organic\": 0, \"CategoryTypeEn\": \"Semi-soft Cheese\", \"MilkTypeEn\": \"Cow\", \"MilkTreatmentTypeEn\": \"Pasteurized\", \"FatLevel\": \"lower fat\"}, {\"ManufacturerProvCode\": \"QC\", \"ManufacturingTypeEn\": \"Industrial\", \"MoisturePercent\": 40.0, \"Organic\": 0, \"CategoryTypeEn\": \"Firm Cheese\", \"MilkTypeEn\": \"Cow\", \"MilkTreatmentTypeEn\": \"Pasteurized\", \"FatLevel\": \"lower fat\"}, {\"ManufacturerProvCode\": \"BC\", \"ManufacturingTypeEn\": \"Artisan\", \"MoisturePercent\": 40.0, \"Organic\": 0, \"CategoryTypeEn\": \"Firm Cheese\", \"MilkTypeEn\": \"Goat\", \"MilkTreatmentTypeEn\": \"Thermised\", \"FatLevel\": \"higher fat\"}, {\"ManufacturerProvCode\": \"QC\", \"ManufacturingTypeEn\": \"Farmstead\", \"MoisturePercent\": 39.0, \"Organic\": 1, \"CategoryTypeEn\": \"Firm Cheese\", \"MilkTypeEn\": \"Cow\", \"MilkTreatmentTypeEn\": \"Pasteurized\", \"FatLevel\": \"higher fat\"}, {\"ManufacturerProvCode\": \"QC\", \"ManufacturingTypeEn\": \"Industrial\", \"MoisturePercent\": 50.0, \"Organic\": 1, \"CategoryTypeEn\": \"Soft Cheese\", \"MilkTypeEn\": \"Cow\", \"MilkTreatmentTypeEn\": \"Pasteurized\", \"FatLevel\": \"lower fat\"}, {\"ManufacturerProvCode\": \"ON\", \"ManufacturingTypeEn\": \"Artisan\", \"MoisturePercent\": 44.0, \"Organic\": 0, \"CategoryTypeEn\": \"Semi-soft Cheese\", \"MilkTypeEn\": \"Cow\", \"MilkTreatmentTypeEn\": \"Pasteurized\", \"FatLevel\": \"higher fat\"}, {\"ManufacturerProvCode\": \"QC\", \"ManufacturingTypeEn\": \"Artisan\", \"MoisturePercent\": 44.0, \"Organic\": 0, \"CategoryTypeEn\": \"Firm Cheese\", \"MilkTypeEn\": \"Cow\", \"MilkTreatmentTypeEn\": null, \"FatLevel\": \"lower fat\"}, {\"ManufacturerProvCode\": \"QC\", \"ManufacturingTypeEn\": \"Farmstead\", \"MoisturePercent\": 50.0, \"Organic\": 0, \"CategoryTypeEn\": \"Semi-soft Cheese\", \"MilkTypeEn\": \"Ewe\", \"MilkTreatmentTypeEn\": \"Pasteurized\", \"FatLevel\": \"higher fat\"}, {\"ManufacturerProvCode\": \"QC\", \"ManufacturingTypeEn\": \"Industrial\", \"MoisturePercent\": 55.0, \"Organic\": 0, \"CategoryTypeEn\": \"Soft Cheese\", \"MilkTypeEn\": \"Goat\", \"MilkTreatmentTypeEn\": \"Pasteurized\", \"FatLevel\": \"lower fat\"}, {\"ManufacturerProvCode\": \"NB\", \"ManufacturingTypeEn\": \"Farmstead\", \"MoisturePercent\": 50.0, \"Organic\": 0, \"CategoryTypeEn\": \"Fresh Cheese\", \"MilkTypeEn\": \"Goat\", \"MilkTreatmentTypeEn\": \"Pasteurized\", \"FatLevel\": \"lower fat\"}, {\"ManufacturerProvCode\": \"QC\", \"ManufacturingTypeEn\": \"Artisan\", \"MoisturePercent\": 51.7, \"Organic\": 0, \"CategoryTypeEn\": \"Firm Cheese\", \"MilkTypeEn\": \"Cow\", \"MilkTreatmentTypeEn\": \"Pasteurized\", \"FatLevel\": \"lower fat\"}, {\"ManufacturerProvCode\": \"ON\", \"ManufacturingTypeEn\": \"Industrial\", \"MoisturePercent\": 37.0, \"Organic\": 0, \"CategoryTypeEn\": \"Firm Cheese\", \"MilkTypeEn\": \"Goat\", \"MilkTreatmentTypeEn\": \"Pasteurized\", \"FatLevel\": \"higher fat\"}, {\"ManufacturerProvCode\": \"QC\", \"ManufacturingTypeEn\": \"Industrial\", \"MoisturePercent\": 68.0, \"Organic\": 0, \"CategoryTypeEn\": \"Fresh Cheese\", \"MilkTypeEn\": \"Goat\", \"MilkTreatmentTypeEn\": \"Pasteurized\", \"FatLevel\": \"lower fat\"}, {\"ManufacturerProvCode\": \"QC\", \"ManufacturingTypeEn\": \"Artisan\", \"MoisturePercent\": 33.0, \"Organic\": 0, \"CategoryTypeEn\": \"Firm Cheese\", \"MilkTypeEn\": \"Goat\", \"MilkTreatmentTypeEn\": \"Pasteurized\", \"FatLevel\": \"higher fat\"}, {\"ManufacturerProvCode\": \"QC\", \"ManufacturingTypeEn\": \"Industrial\", \"MoisturePercent\": 42.0, \"Organic\": 0, \"CategoryTypeEn\": \"Firm Cheese\", \"MilkTypeEn\": \"Cow\", \"MilkTreatmentTypeEn\": \"Pasteurized\", \"FatLevel\": \"lower fat\"}, {\"ManufacturerProvCode\": \"QC\", \"ManufacturingTypeEn\": \"Farmstead\", \"MoisturePercent\": 70.0, \"Organic\": 0, \"CategoryTypeEn\": \"Fresh Cheese\", \"MilkTypeEn\": \"Goat\", \"MilkTreatmentTypeEn\": \"Pasteurized\", \"FatLevel\": \"lower fat\"}, {\"ManufacturerProvCode\": \"QC\", \"ManufacturingTypeEn\": \"Artisan\", \"MoisturePercent\": 50.0, \"Organic\": 0, \"CategoryTypeEn\": \"Soft Cheese\", \"MilkTypeEn\": \"Cow\", \"MilkTreatmentTypeEn\": \"Thermised\", \"FatLevel\": \"lower fat\"}, {\"ManufacturerProvCode\": \"QC\", \"ManufacturingTypeEn\": \"Artisan\", \"MoisturePercent\": 39.0, \"Organic\": 0, \"CategoryTypeEn\": \"Firm Cheese\", \"MilkTypeEn\": \"Cow\", \"MilkTreatmentTypeEn\": \"Raw Milk\", \"FatLevel\": \"higher fat\"}, {\"ManufacturerProvCode\": \"QC\", \"ManufacturingTypeEn\": \"Farmstead\", \"MoisturePercent\": 75.0, \"Organic\": 0, \"CategoryTypeEn\": \"Fresh Cheese\", \"MilkTypeEn\": \"Cow\", \"MilkTreatmentTypeEn\": \"Pasteurized\", \"FatLevel\": \"lower fat\"}, {\"ManufacturerProvCode\": \"QC\", \"ManufacturingTypeEn\": \"Farmstead\", \"MoisturePercent\": 35.0, \"Organic\": 0, \"CategoryTypeEn\": \"Semi-soft Cheese\", \"MilkTypeEn\": \"Goat\", \"MilkTreatmentTypeEn\": \"Pasteurized\", \"FatLevel\": \"lower fat\"}, {\"ManufacturerProvCode\": \"QC\", \"ManufacturingTypeEn\": \"Industrial\", \"MoisturePercent\": 62.0, \"Organic\": 0, \"CategoryTypeEn\": \"Fresh Cheese\", \"MilkTypeEn\": \"Goat\", \"MilkTreatmentTypeEn\": \"Pasteurized\", \"FatLevel\": \"lower fat\"}, {\"ManufacturerProvCode\": \"QC\", \"ManufacturingTypeEn\": \"Industrial\", \"MoisturePercent\": 42.0, \"Organic\": 0, \"CategoryTypeEn\": \"Firm Cheese\", \"MilkTypeEn\": \"Cow\", \"MilkTreatmentTypeEn\": \"Pasteurized\", \"FatLevel\": \"higher fat\"}, {\"ManufacturerProvCode\": \"QC\", \"ManufacturingTypeEn\": \"Industrial\", \"MoisturePercent\": 23.0, \"Organic\": 0, \"CategoryTypeEn\": \"Soft Cheese\", \"MilkTypeEn\": \"Ewe\", \"MilkTreatmentTypeEn\": \"Pasteurized\", \"FatLevel\": \"higher fat\"}, {\"ManufacturerProvCode\": \"ON\", \"ManufacturingTypeEn\": \"Industrial\", \"MoisturePercent\": 76.0, \"Organic\": 0, \"CategoryTypeEn\": \"Fresh Cheese\", \"MilkTypeEn\": \"Cow\", \"MilkTreatmentTypeEn\": \"Pasteurized\", \"FatLevel\": \"lower fat\"}, {\"ManufacturerProvCode\": \"ON\", \"ManufacturingTypeEn\": \"Farmstead\", \"MoisturePercent\": 37.0, \"Organic\": 0, \"CategoryTypeEn\": null, \"MilkTypeEn\": \"Goat\", \"MilkTreatmentTypeEn\": \"Pasteurized\", \"FatLevel\": \"higher fat\"}, {\"ManufacturerProvCode\": \"QC\", \"ManufacturingTypeEn\": \"Industrial\", \"MoisturePercent\": 55.0, \"Organic\": 0, \"CategoryTypeEn\": \"Soft Cheese\", \"MilkTypeEn\": \"Goat\", \"MilkTreatmentTypeEn\": \"Pasteurized\", \"FatLevel\": \"lower fat\"}, {\"ManufacturerProvCode\": \"BC\", \"ManufacturingTypeEn\": \"Artisan\", \"MoisturePercent\": 60.0, \"Organic\": 0, \"CategoryTypeEn\": \"Fresh Cheese\", \"MilkTypeEn\": \"Cow\", \"MilkTreatmentTypeEn\": null, \"FatLevel\": \"lower fat\"}, {\"ManufacturerProvCode\": \"QC\", \"ManufacturingTypeEn\": \"Farmstead\", \"MoisturePercent\": 46.0, \"Organic\": 0, \"CategoryTypeEn\": \"Semi-soft Cheese\", \"MilkTypeEn\": \"Cow\", \"MilkTreatmentTypeEn\": \"Thermised\", \"FatLevel\": \"lower fat\"}, {\"ManufacturerProvCode\": \"QC\", \"ManufacturingTypeEn\": \"Farmstead\", \"MoisturePercent\": 43.0, \"Organic\": 0, \"CategoryTypeEn\": \"Semi-soft Cheese\", \"MilkTypeEn\": \"Ewe\", \"MilkTreatmentTypeEn\": \"Pasteurized\", \"FatLevel\": \"lower fat\"}, {\"ManufacturerProvCode\": \"QC\", \"ManufacturingTypeEn\": \"Farmstead\", \"MoisturePercent\": 36.0, \"Organic\": 0, \"CategoryTypeEn\": \"Firm Cheese\", \"MilkTypeEn\": \"Cow\", \"MilkTreatmentTypeEn\": \"Pasteurized\", \"FatLevel\": \"higher fat\"}, {\"ManufacturerProvCode\": \"QC\", \"ManufacturingTypeEn\": \"Industrial\", \"MoisturePercent\": 26.0, \"Organic\": 0, \"CategoryTypeEn\": null, \"MilkTypeEn\": \"Cow\", \"MilkTreatmentTypeEn\": null, \"FatLevel\": \"higher fat\"}, {\"ManufacturerProvCode\": \"QC\", \"ManufacturingTypeEn\": \"Farmstead\", \"MoisturePercent\": 52.0, \"Organic\": 0, \"CategoryTypeEn\": \"Firm Cheese\", \"MilkTypeEn\": \"Cow\", \"MilkTreatmentTypeEn\": null, \"FatLevel\": \"lower fat\"}, {\"ManufacturerProvCode\": \"QC\", \"ManufacturingTypeEn\": \"Artisan\", \"MoisturePercent\": 43.0, \"Organic\": 0, \"CategoryTypeEn\": \"Veined Cheeses\", \"MilkTypeEn\": \"Goat\", \"MilkTreatmentTypeEn\": \"Pasteurized\", \"FatLevel\": \"lower fat\"}, {\"ManufacturerProvCode\": \"QC\", \"ManufacturingTypeEn\": \"Industrial\", \"MoisturePercent\": 42.0, \"Organic\": 0, \"CategoryTypeEn\": \"Semi-soft Cheese\", \"MilkTypeEn\": \"Cow\", \"MilkTreatmentTypeEn\": \"Pasteurized\", \"FatLevel\": \"lower fat\"}, {\"ManufacturerProvCode\": \"QC\", \"ManufacturingTypeEn\": \"Farmstead\", \"MoisturePercent\": 52.0, \"Organic\": 1, \"CategoryTypeEn\": \"Firm Cheese\", \"MilkTypeEn\": \"Cow\", \"MilkTreatmentTypeEn\": null, \"FatLevel\": \"lower fat\"}, {\"ManufacturerProvCode\": \"QC\", \"ManufacturingTypeEn\": \"Artisan\", \"MoisturePercent\": 39.0, \"Organic\": 1, \"CategoryTypeEn\": \"Firm Cheese\", \"MilkTypeEn\": \"Cow\", \"MilkTreatmentTypeEn\": \"Raw Milk\", \"FatLevel\": \"higher fat\"}, {\"ManufacturerProvCode\": \"QC\", \"ManufacturingTypeEn\": \"Artisan\", \"MoisturePercent\": 56.0, \"Organic\": 0, \"CategoryTypeEn\": \"Soft Cheese\", \"MilkTypeEn\": \"Cow\", \"MilkTreatmentTypeEn\": \"Pasteurized\", \"FatLevel\": \"lower fat\"}, {\"ManufacturerProvCode\": \"QC\", \"ManufacturingTypeEn\": \"Artisan\", \"MoisturePercent\": 54.0, \"Organic\": 0, \"CategoryTypeEn\": \"Soft Cheese\", \"MilkTypeEn\": \"Ewe\", \"MilkTreatmentTypeEn\": \"Pasteurized\", \"FatLevel\": \"lower fat\"}, {\"ManufacturerProvCode\": \"QC\", \"ManufacturingTypeEn\": \"Farmstead\", \"MoisturePercent\": 37.0, \"Organic\": 0, \"CategoryTypeEn\": \"Firm Cheese\", \"MilkTypeEn\": \"Cow\", \"MilkTreatmentTypeEn\": \"Raw Milk\", \"FatLevel\": \"higher fat\"}, {\"ManufacturerProvCode\": \"QC\", \"ManufacturingTypeEn\": \"Industrial\", \"MoisturePercent\": 55.0, \"Organic\": 1, \"CategoryTypeEn\": \"Firm Cheese\", \"MilkTypeEn\": \"Cow\", \"MilkTreatmentTypeEn\": \"Pasteurized\", \"FatLevel\": \"lower fat\"}, {\"ManufacturerProvCode\": \"ON\", \"ManufacturingTypeEn\": \"Industrial\", \"MoisturePercent\": 57.0, \"Organic\": 0, \"CategoryTypeEn\": \"Fresh Cheese\", \"MilkTypeEn\": \"Goat\", \"MilkTreatmentTypeEn\": \"Pasteurized\", \"FatLevel\": \"lower fat\"}, {\"ManufacturerProvCode\": \"QC\", \"ManufacturingTypeEn\": \"Industrial\", \"MoisturePercent\": 50.0, \"Organic\": 0, \"CategoryTypeEn\": \"Soft Cheese\", \"MilkTypeEn\": \"Cow\", \"MilkTreatmentTypeEn\": \"Pasteurized\", \"FatLevel\": \"lower fat\"}, {\"ManufacturerProvCode\": \"QC\", \"ManufacturingTypeEn\": \"Industrial\", \"MoisturePercent\": 60.0, \"Organic\": 0, \"CategoryTypeEn\": \"Semi-soft Cheese\", \"MilkTypeEn\": \"Cow\", \"MilkTreatmentTypeEn\": \"Pasteurized\", \"FatLevel\": \"lower fat\"}, {\"ManufacturerProvCode\": \"QC\", \"ManufacturingTypeEn\": \"Industrial\", \"MoisturePercent\": 48.0, \"Organic\": 0, \"CategoryTypeEn\": \"Firm Cheese\", \"MilkTypeEn\": \"Cow\", \"MilkTreatmentTypeEn\": \"Pasteurized\", \"FatLevel\": \"lower fat\"}, {\"ManufacturerProvCode\": \"QC\", \"ManufacturingTypeEn\": \"Industrial\", \"MoisturePercent\": 45.0, \"Organic\": 0, \"CategoryTypeEn\": \"Firm Cheese\", \"MilkTypeEn\": \"Cow\", \"MilkTreatmentTypeEn\": \"Pasteurized\", \"FatLevel\": \"lower fat\"}, {\"ManufacturerProvCode\": \"QC\", \"ManufacturingTypeEn\": \"Industrial\", \"MoisturePercent\": 40.0, \"Organic\": 0, \"CategoryTypeEn\": \"Firm Cheese\", \"MilkTypeEn\": \"Cow\", \"MilkTreatmentTypeEn\": \"Pasteurized\", \"FatLevel\": \"lower fat\"}, {\"ManufacturerProvCode\": \"QC\", \"ManufacturingTypeEn\": \"Farmstead\", \"MoisturePercent\": 65.0, \"Organic\": 0, \"CategoryTypeEn\": \"Semi-soft Cheese\", \"MilkTypeEn\": \"Goat\", \"MilkTreatmentTypeEn\": \"Pasteurized\", \"FatLevel\": \"lower fat\"}, {\"ManufacturerProvCode\": \"BC\", \"ManufacturingTypeEn\": \"Artisan\", \"MoisturePercent\": 41.0, \"Organic\": 0, \"CategoryTypeEn\": \"Firm Cheese\", \"MilkTypeEn\": \"Cow\", \"MilkTreatmentTypeEn\": \"Pasteurized\", \"FatLevel\": \"higher fat\"}, {\"ManufacturerProvCode\": \"QC\", \"ManufacturingTypeEn\": \"Industrial\", \"MoisturePercent\": 45.0, \"Organic\": 0, \"CategoryTypeEn\": \"Firm Cheese\", \"MilkTypeEn\": \"Cow\", \"MilkTreatmentTypeEn\": \"Pasteurized\", \"FatLevel\": \"lower fat\"}, {\"ManufacturerProvCode\": \"QC\", \"ManufacturingTypeEn\": \"Artisan\", \"MoisturePercent\": 39.0, \"Organic\": 0, \"CategoryTypeEn\": \"Firm Cheese\", \"MilkTypeEn\": \"Cow\", \"MilkTreatmentTypeEn\": \"Pasteurized\", \"FatLevel\": \"higher fat\"}, {\"ManufacturerProvCode\": \"QC\", \"ManufacturingTypeEn\": \"Industrial\", \"MoisturePercent\": 57.0, \"Organic\": 0, \"CategoryTypeEn\": \"Soft Cheese\", \"MilkTypeEn\": \"Cow\", \"MilkTreatmentTypeEn\": \"Pasteurized\", \"FatLevel\": \"lower fat\"}, {\"ManufacturerProvCode\": \"QC\", \"ManufacturingTypeEn\": \"Artisan\", \"MoisturePercent\": 48.0, \"Organic\": 0, \"CategoryTypeEn\": \"Semi-soft Cheese\", \"MilkTypeEn\": \"Cow\", \"MilkTreatmentTypeEn\": \"Raw Milk\", \"FatLevel\": \"lower fat\"}, {\"ManufacturerProvCode\": \"QC\", \"ManufacturingTypeEn\": \"Farmstead\", \"MoisturePercent\": 35.0, \"Organic\": 1, \"CategoryTypeEn\": \"Firm Cheese\", \"MilkTypeEn\": \"Cow\", \"MilkTreatmentTypeEn\": \"Raw Milk\", \"FatLevel\": \"higher fat\"}, {\"ManufacturerProvCode\": \"ON\", \"ManufacturingTypeEn\": \"Industrial\", \"MoisturePercent\": 41.0, \"Organic\": 0, \"CategoryTypeEn\": \"Firm Cheese\", \"MilkTypeEn\": \"Cow\", \"MilkTreatmentTypeEn\": \"Pasteurized\", \"FatLevel\": \"higher fat\"}, {\"ManufacturerProvCode\": \"QC\", \"ManufacturingTypeEn\": \"Industrial\", \"MoisturePercent\": 58.0, \"Organic\": 0, \"CategoryTypeEn\": \"Soft Cheese\", \"MilkTypeEn\": \"Cow\", \"MilkTreatmentTypeEn\": \"Pasteurized\", \"FatLevel\": \"lower fat\"}, {\"ManufacturerProvCode\": \"QC\", \"ManufacturingTypeEn\": \"Industrial\", \"MoisturePercent\": 40.0, \"Organic\": 0, \"CategoryTypeEn\": \"Firm Cheese\", \"MilkTypeEn\": \"Cow\", \"MilkTreatmentTypeEn\": \"Pasteurized\", \"FatLevel\": \"lower fat\"}, {\"ManufacturerProvCode\": \"QC\", \"ManufacturingTypeEn\": \"Industrial\", \"MoisturePercent\": 56.0, \"Organic\": 0, \"CategoryTypeEn\": \"Soft Cheese\", \"MilkTypeEn\": \"Goat\", \"MilkTreatmentTypeEn\": \"Pasteurized\", \"FatLevel\": \"lower fat\"}, {\"ManufacturerProvCode\": \"QC\", \"ManufacturingTypeEn\": \"Industrial\", \"MoisturePercent\": 50.0, \"Organic\": 0, \"CategoryTypeEn\": \"Soft Cheese\", \"MilkTypeEn\": \"Cow\", \"MilkTreatmentTypeEn\": \"Pasteurized\", \"FatLevel\": \"higher fat\"}, {\"ManufacturerProvCode\": \"QC\", \"ManufacturingTypeEn\": \"Artisan\", \"MoisturePercent\": 47.0, \"Organic\": 0, \"CategoryTypeEn\": \"Semi-soft Cheese\", \"MilkTypeEn\": \"Cow\", \"MilkTreatmentTypeEn\": \"Pasteurized\", \"FatLevel\": \"lower fat\"}, {\"ManufacturerProvCode\": \"QC\", \"ManufacturingTypeEn\": \"Industrial\", \"MoisturePercent\": 54.0, \"Organic\": 0, \"CategoryTypeEn\": \"Soft Cheese\", \"MilkTypeEn\": \"Cow\", \"MilkTreatmentTypeEn\": \"Pasteurized\", \"FatLevel\": \"lower fat\"}, {\"ManufacturerProvCode\": \"QC\", \"ManufacturingTypeEn\": \"Industrial\", \"MoisturePercent\": 44.0, \"Organic\": 0, \"CategoryTypeEn\": \"Semi-soft Cheese\", \"MilkTypeEn\": \"Cow\", \"MilkTreatmentTypeEn\": \"Pasteurized\", \"FatLevel\": \"lower fat\"}, {\"ManufacturerProvCode\": \"QC\", \"ManufacturingTypeEn\": \"Industrial\", \"MoisturePercent\": 40.0, \"Organic\": 0, \"CategoryTypeEn\": \"Firm Cheese\", \"MilkTypeEn\": \"Cow\", \"MilkTreatmentTypeEn\": \"Pasteurized\", \"FatLevel\": \"lower fat\"}, {\"ManufacturerProvCode\": \"NB\", \"ManufacturingTypeEn\": \"Farmstead\", \"MoisturePercent\": 50.0, \"Organic\": 0, \"CategoryTypeEn\": \"Soft Cheese\", \"MilkTypeEn\": \"Goat\", \"MilkTreatmentTypeEn\": \"Pasteurized\", \"FatLevel\": \"lower fat\"}, {\"ManufacturerProvCode\": \"QC\", \"ManufacturingTypeEn\": \"Farmstead\", \"MoisturePercent\": 60.0, \"Organic\": 0, \"CategoryTypeEn\": \"Fresh Cheese\", \"MilkTypeEn\": \"Ewe\", \"MilkTreatmentTypeEn\": \"Pasteurized\", \"FatLevel\": \"lower fat\"}, {\"ManufacturerProvCode\": \"QC\", \"ManufacturingTypeEn\": \"Farmstead\", \"MoisturePercent\": 60.0, \"Organic\": 0, \"CategoryTypeEn\": \"Soft Cheese\", \"MilkTypeEn\": \"Goat\", \"MilkTreatmentTypeEn\": \"Pasteurized\", \"FatLevel\": \"lower fat\"}, {\"ManufacturerProvCode\": \"QC\", \"ManufacturingTypeEn\": \"Artisan\", \"MoisturePercent\": 55.0, \"Organic\": 0, \"CategoryTypeEn\": \"Soft Cheese\", \"MilkTypeEn\": \"Cow\", \"MilkTreatmentTypeEn\": \"Pasteurized\", \"FatLevel\": \"lower fat\"}, {\"ManufacturerProvCode\": \"QC\", \"ManufacturingTypeEn\": \"Artisan\", \"MoisturePercent\": 39.0, \"Organic\": 0, \"CategoryTypeEn\": \"Semi-soft Cheese\", \"MilkTypeEn\": \"Cow\", \"MilkTreatmentTypeEn\": \"Pasteurized\", \"FatLevel\": \"higher fat\"}, {\"ManufacturerProvCode\": \"QC\", \"ManufacturingTypeEn\": \"Industrial\", \"MoisturePercent\": 50.0, \"Organic\": 0, \"CategoryTypeEn\": \"Soft Cheese\", \"MilkTypeEn\": \"Cow\", \"MilkTreatmentTypeEn\": \"Pasteurized\", \"FatLevel\": \"higher fat\"}, {\"ManufacturerProvCode\": \"QC\", \"ManufacturingTypeEn\": \"Industrial\", \"MoisturePercent\": 43.0, \"Organic\": 1, \"CategoryTypeEn\": \"Semi-soft Cheese\", \"MilkTypeEn\": \"Cow\", \"MilkTreatmentTypeEn\": \"Pasteurized\", \"FatLevel\": \"lower fat\"}, {\"ManufacturerProvCode\": \"QC\", \"ManufacturingTypeEn\": \"Artisan\", \"MoisturePercent\": 48.0, \"Organic\": 1, \"CategoryTypeEn\": \"Semi-soft Cheese\", \"MilkTypeEn\": \"Cow\", \"MilkTreatmentTypeEn\": \"Raw Milk\", \"FatLevel\": \"lower fat\"}, {\"ManufacturerProvCode\": \"QC\", \"ManufacturingTypeEn\": \"Artisan\", \"MoisturePercent\": 50.0, \"Organic\": 0, \"CategoryTypeEn\": \"Semi-soft Cheese\", \"MilkTypeEn\": \"Cow\", \"MilkTreatmentTypeEn\": \"Pasteurized\", \"FatLevel\": \"lower fat\"}, {\"ManufacturerProvCode\": \"QC\", \"ManufacturingTypeEn\": \"Farmstead\", \"MoisturePercent\": 65.0, \"Organic\": 0, \"CategoryTypeEn\": \"Soft Cheese\", \"MilkTypeEn\": \"Goat\", \"MilkTreatmentTypeEn\": \"Pasteurized\", \"FatLevel\": \"lower fat\"}, {\"ManufacturerProvCode\": \"ON\", \"ManufacturingTypeEn\": \"Farmstead\", \"MoisturePercent\": 65.0, \"Organic\": 0, \"CategoryTypeEn\": \"Soft Cheese\", \"MilkTypeEn\": \"Goat\", \"MilkTreatmentTypeEn\": \"Pasteurized\", \"FatLevel\": \"lower fat\"}, {\"ManufacturerProvCode\": \"QC\", \"ManufacturingTypeEn\": \"Artisan\", \"MoisturePercent\": 39.0, \"Organic\": 0, \"CategoryTypeEn\": \"Hard Cheese\", \"MilkTypeEn\": \"Ewe\", \"MilkTreatmentTypeEn\": \"Pasteurized\", \"FatLevel\": \"lower fat\"}, {\"ManufacturerProvCode\": \"ON\", \"ManufacturingTypeEn\": \"Industrial\", \"MoisturePercent\": 20.0, \"Organic\": 0, \"CategoryTypeEn\": \"Hard Cheese\", \"MilkTypeEn\": \"Cow\", \"MilkTreatmentTypeEn\": \"Pasteurized\", \"FatLevel\": \"lower fat\"}, {\"ManufacturerProvCode\": \"QC\", \"ManufacturingTypeEn\": \"Industrial\", \"MoisturePercent\": 50.0, \"Organic\": 0, \"CategoryTypeEn\": \"Soft Cheese\", \"MilkTypeEn\": \"Cow\", \"MilkTreatmentTypeEn\": null, \"FatLevel\": \"higher fat\"}, {\"ManufacturerProvCode\": \"QC\", \"ManufacturingTypeEn\": \"Industrial\", \"MoisturePercent\": 60.0, \"Organic\": 0, \"CategoryTypeEn\": \"Soft Cheese\", \"MilkTypeEn\": \"Cow\", \"MilkTreatmentTypeEn\": \"Pasteurized\", \"FatLevel\": \"lower fat\"}, {\"ManufacturerProvCode\": \"QC\", \"ManufacturingTypeEn\": \"Industrial\", \"MoisturePercent\": 57.0, \"Organic\": 0, \"CategoryTypeEn\": \"Soft Cheese\", \"MilkTypeEn\": \"Cow\", \"MilkTreatmentTypeEn\": \"Pasteurized\", \"FatLevel\": \"lower fat\"}, {\"ManufacturerProvCode\": \"QC\", \"ManufacturingTypeEn\": \"Industrial\", \"MoisturePercent\": 55.0, \"Organic\": 0, \"CategoryTypeEn\": \"Fresh Cheese\", \"MilkTypeEn\": \"Goat\", \"MilkTreatmentTypeEn\": \"Pasteurized\", \"FatLevel\": \"higher fat\"}, {\"ManufacturerProvCode\": \"NB\", \"ManufacturingTypeEn\": \"Farmstead\", \"MoisturePercent\": 50.0, \"Organic\": 0, \"CategoryTypeEn\": \"Semi-soft Cheese\", \"MilkTypeEn\": \"Goat\", \"MilkTreatmentTypeEn\": \"Pasteurized\", \"FatLevel\": \"lower fat\"}, {\"ManufacturerProvCode\": \"QC\", \"ManufacturingTypeEn\": \"Farmstead\", \"MoisturePercent\": 70.0, \"Organic\": 0, \"CategoryTypeEn\": \"Fresh Cheese\", \"MilkTypeEn\": \"Ewe\", \"MilkTreatmentTypeEn\": \"Pasteurized\", \"FatLevel\": \"lower fat\"}, {\"ManufacturerProvCode\": \"QC\", \"ManufacturingTypeEn\": \"Industrial\", \"MoisturePercent\": 42.0, \"Organic\": 0, \"CategoryTypeEn\": \"Firm Cheese\", \"MilkTypeEn\": \"Cow\", \"MilkTreatmentTypeEn\": \"Pasteurized\", \"FatLevel\": \"higher fat\"}, {\"ManufacturerProvCode\": \"QC\", \"ManufacturingTypeEn\": \"Artisan\", \"MoisturePercent\": 50.0, \"Organic\": 0, \"CategoryTypeEn\": \"Semi-soft Cheese\", \"MilkTypeEn\": \"Cow\", \"MilkTreatmentTypeEn\": \"Pasteurized\", \"FatLevel\": \"lower fat\"}, {\"ManufacturerProvCode\": \"QC\", \"ManufacturingTypeEn\": \"Farmstead\", \"MoisturePercent\": 43.0, \"Organic\": 0, \"CategoryTypeEn\": null, \"MilkTypeEn\": \"Cow\", \"MilkTreatmentTypeEn\": null, \"FatLevel\": \"lower fat\"}, {\"ManufacturerProvCode\": \"QC\", \"ManufacturingTypeEn\": \"Industrial\", \"MoisturePercent\": 65.0, \"Organic\": 0, \"CategoryTypeEn\": \"Fresh Cheese\", \"MilkTypeEn\": \"Cow\", \"MilkTreatmentTypeEn\": \"Pasteurized\", \"FatLevel\": \"lower fat\"}, {\"ManufacturerProvCode\": \"ON\", \"ManufacturingTypeEn\": \"Artisan\", \"MoisturePercent\": 42.8, \"Organic\": 1, \"CategoryTypeEn\": null, \"MilkTypeEn\": \"Cow\", \"MilkTreatmentTypeEn\": \"Pasteurized\", \"FatLevel\": \"lower fat\"}, {\"ManufacturerProvCode\": \"QC\", \"ManufacturingTypeEn\": \"Industrial\", \"MoisturePercent\": 50.0, \"Organic\": 0, \"CategoryTypeEn\": \"Semi-soft Cheese\", \"MilkTypeEn\": \"Cow\", \"MilkTreatmentTypeEn\": \"Pasteurized\", \"FatLevel\": \"lower fat\"}, {\"ManufacturerProvCode\": \"ON\", \"ManufacturingTypeEn\": \"Industrial\", \"MoisturePercent\": 34.0, \"Organic\": 0, \"CategoryTypeEn\": \"Firm Cheese\", \"MilkTypeEn\": \"Cow\", \"MilkTreatmentTypeEn\": \"Pasteurized\", \"FatLevel\": \"lower fat\"}, {\"ManufacturerProvCode\": \"QC\", \"ManufacturingTypeEn\": \"Farmstead\", \"MoisturePercent\": 55.0, \"Organic\": 1, \"CategoryTypeEn\": \"Firm Cheese\", \"MilkTypeEn\": \"Cow\", \"MilkTreatmentTypeEn\": null, \"FatLevel\": \"lower fat\"}, {\"ManufacturerProvCode\": \"QC\", \"ManufacturingTypeEn\": \"Artisan\", \"MoisturePercent\": 39.0, \"Organic\": 0, \"CategoryTypeEn\": \"Firm Cheese\", \"MilkTypeEn\": \"Cow\", \"MilkTreatmentTypeEn\": \"Pasteurized\", \"FatLevel\": \"higher fat\"}, {\"ManufacturerProvCode\": \"QC\", \"ManufacturingTypeEn\": \"Industrial\", \"MoisturePercent\": 41.0, \"Organic\": 0, \"CategoryTypeEn\": \"Firm Cheese\", \"MilkTypeEn\": \"Cow\", \"MilkTreatmentTypeEn\": \"Pasteurized\", \"FatLevel\": \"higher fat\"}, {\"ManufacturerProvCode\": \"QC\", \"ManufacturingTypeEn\": \"Farmstead\", \"MoisturePercent\": 53.0, \"Organic\": 1, \"CategoryTypeEn\": \"Soft Cheese\", \"MilkTypeEn\": \"Cow\", \"MilkTreatmentTypeEn\": \"Pasteurized\", \"FatLevel\": \"lower fat\"}, {\"ManufacturerProvCode\": \"QC\", \"ManufacturingTypeEn\": \"Artisan\", \"MoisturePercent\": 39.0, \"Organic\": 0, \"CategoryTypeEn\": \"Firm Cheese\", \"MilkTypeEn\": \"Cow\", \"MilkTreatmentTypeEn\": \"Pasteurized\", \"FatLevel\": \"higher fat\"}, {\"ManufacturerProvCode\": \"MB\", \"ManufacturingTypeEn\": \"Farmstead\", \"MoisturePercent\": 44.0, \"Organic\": 0, \"CategoryTypeEn\": \"Semi-soft Cheese\", \"MilkTypeEn\": \"Cow\", \"MilkTreatmentTypeEn\": \"Pasteurized\", \"FatLevel\": \"lower fat\"}, {\"ManufacturerProvCode\": \"QC\", \"ManufacturingTypeEn\": \"Artisan\", \"MoisturePercent\": 40.0, \"Organic\": 0, \"CategoryTypeEn\": null, \"MilkTypeEn\": \"Goat\", \"MilkTreatmentTypeEn\": null, \"FatLevel\": \"lower fat\"}, {\"ManufacturerProvCode\": \"BC\", \"ManufacturingTypeEn\": \"Artisan\", \"MoisturePercent\": 41.0, \"Organic\": 0, \"CategoryTypeEn\": \"Firm Cheese\", \"MilkTypeEn\": \"Cow\", \"MilkTreatmentTypeEn\": \"Pasteurized\", \"FatLevel\": \"higher fat\"}, {\"ManufacturerProvCode\": \"NB\", \"ManufacturingTypeEn\": \"Farmstead\", \"MoisturePercent\": 50.0, \"Organic\": 0, \"CategoryTypeEn\": \"Fresh Cheese\", \"MilkTypeEn\": \"Goat\", \"MilkTreatmentTypeEn\": \"Pasteurized\", \"FatLevel\": \"lower fat\"}, {\"ManufacturerProvCode\": \"QC\", \"ManufacturingTypeEn\": \"Artisan\", \"MoisturePercent\": 48.0, \"Organic\": 0, \"CategoryTypeEn\": \"Semi-soft Cheese\", \"MilkTypeEn\": \"Cow\", \"MilkTreatmentTypeEn\": \"Pasteurized\", \"FatLevel\": \"lower fat\"}, {\"ManufacturerProvCode\": \"QC\", \"ManufacturingTypeEn\": \"Industrial\", \"MoisturePercent\": 72.0, \"Organic\": 0, \"CategoryTypeEn\": \"Soft Cheese\", \"MilkTypeEn\": \"Goat\", \"MilkTreatmentTypeEn\": \"Pasteurized\", \"FatLevel\": \"lower fat\"}, {\"ManufacturerProvCode\": \"QC\", \"ManufacturingTypeEn\": \"Artisan\", \"MoisturePercent\": 48.0, \"Organic\": 0, \"CategoryTypeEn\": \"Semi-soft Cheese\", \"MilkTypeEn\": \"Cow\", \"MilkTreatmentTypeEn\": \"Pasteurized\", \"FatLevel\": \"lower fat\"}, {\"ManufacturerProvCode\": \"QC\", \"ManufacturingTypeEn\": \"Industrial\", \"MoisturePercent\": 60.0, \"Organic\": 0, \"CategoryTypeEn\": \"Soft Cheese\", \"MilkTypeEn\": \"Cow\", \"MilkTreatmentTypeEn\": \"Pasteurized\", \"FatLevel\": \"lower fat\"}, {\"ManufacturerProvCode\": \"QC\", \"ManufacturingTypeEn\": \"Industrial\", \"MoisturePercent\": 40.0, \"Organic\": 0, \"CategoryTypeEn\": \"Firm Cheese\", \"MilkTypeEn\": \"Cow\", \"MilkTreatmentTypeEn\": \"Pasteurized\", \"FatLevel\": \"lower fat\"}, {\"ManufacturerProvCode\": \"QC\", \"ManufacturingTypeEn\": \"Industrial\", \"MoisturePercent\": 39.0, \"Organic\": 0, \"CategoryTypeEn\": \"Firm Cheese\", \"MilkTypeEn\": \"Cow\", \"MilkTreatmentTypeEn\": \"Pasteurized\", \"FatLevel\": \"higher fat\"}, {\"ManufacturerProvCode\": \"ON\", \"ManufacturingTypeEn\": \"Industrial\", \"MoisturePercent\": 50.0, \"Organic\": 0, \"CategoryTypeEn\": \"Semi-soft Cheese\", \"MilkTypeEn\": \"Cow\", \"MilkTreatmentTypeEn\": \"Pasteurized\", \"FatLevel\": \"lower fat\"}, {\"ManufacturerProvCode\": \"QC\", \"ManufacturingTypeEn\": \"Industrial\", \"MoisturePercent\": 40.0, \"Organic\": 0, \"CategoryTypeEn\": \"Firm Cheese\", \"MilkTypeEn\": \"Cow\", \"MilkTreatmentTypeEn\": \"Pasteurized\", \"FatLevel\": \"lower fat\"}, {\"ManufacturerProvCode\": \"ON\", \"ManufacturingTypeEn\": \"Industrial\", \"MoisturePercent\": 52.0, \"Organic\": 0, \"CategoryTypeEn\": \"Semi-soft Cheese\", \"MilkTypeEn\": \"Cow\", \"MilkTreatmentTypeEn\": \"Pasteurized\", \"FatLevel\": \"lower fat\"}, {\"ManufacturerProvCode\": \"QC\", \"ManufacturingTypeEn\": \"Industrial\", \"MoisturePercent\": 46.0, \"Organic\": 0, \"CategoryTypeEn\": \"Semi-soft Cheese\", \"MilkTypeEn\": \"Cow\", \"MilkTreatmentTypeEn\": \"Pasteurized\", \"FatLevel\": \"lower fat\"}, {\"ManufacturerProvCode\": \"QC\", \"ManufacturingTypeEn\": \"Industrial\", \"MoisturePercent\": 47.0, \"Organic\": 0, \"CategoryTypeEn\": \"Semi-soft Cheese\", \"MilkTypeEn\": \"Cow\", \"MilkTreatmentTypeEn\": \"Pasteurized\", \"FatLevel\": \"lower fat\"}, {\"ManufacturerProvCode\": \"QC\", \"ManufacturingTypeEn\": \"Artisan\", \"MoisturePercent\": 40.0, \"Organic\": 0, \"CategoryTypeEn\": \"Semi-soft Cheese\", \"MilkTypeEn\": \"Ewe\", \"MilkTreatmentTypeEn\": \"Raw Milk\", \"FatLevel\": \"lower fat\"}, {\"ManufacturerProvCode\": \"QC\", \"ManufacturingTypeEn\": \"Industrial\", \"MoisturePercent\": 40.0, \"Organic\": 0, \"CategoryTypeEn\": \"Firm Cheese\", \"MilkTypeEn\": \"Cow\", \"MilkTreatmentTypeEn\": \"Pasteurized\", \"FatLevel\": \"lower fat\"}, {\"ManufacturerProvCode\": \"QC\", \"ManufacturingTypeEn\": \"Farmstead\", \"MoisturePercent\": 35.0, \"Organic\": 0, \"CategoryTypeEn\": \"Semi-soft Cheese\", \"MilkTypeEn\": \"Goat\", \"MilkTreatmentTypeEn\": \"Pasteurized\", \"FatLevel\": \"lower fat\"}, {\"ManufacturerProvCode\": \"QC\", \"ManufacturingTypeEn\": \"Farmstead\", \"MoisturePercent\": 43.0, \"Organic\": 0, \"CategoryTypeEn\": \"Semi-soft Cheese\", \"MilkTypeEn\": \"Cow\", \"MilkTreatmentTypeEn\": \"Thermised\", \"FatLevel\": \"higher fat\"}, {\"ManufacturerProvCode\": \"QC\", \"ManufacturingTypeEn\": \"Artisan\", \"MoisturePercent\": 55.0, \"Organic\": 0, \"CategoryTypeEn\": \"Semi-soft Cheese\", \"MilkTypeEn\": \"Goat\", \"MilkTreatmentTypeEn\": \"Pasteurized\", \"FatLevel\": \"lower fat\"}, {\"ManufacturerProvCode\": \"QC\", \"ManufacturingTypeEn\": \"Artisan\", \"MoisturePercent\": 60.0, \"Organic\": 0, \"CategoryTypeEn\": \"Soft Cheese\", \"MilkTypeEn\": \"Goat\", \"MilkTreatmentTypeEn\": \"Pasteurized\", \"FatLevel\": \"lower fat\"}, {\"ManufacturerProvCode\": \"ON\", \"ManufacturingTypeEn\": \"Industrial\", \"MoisturePercent\": 55.0, \"Organic\": 0, \"CategoryTypeEn\": \"Semi-soft Cheese\", \"MilkTypeEn\": \"Cow\", \"MilkTreatmentTypeEn\": \"Pasteurized\", \"FatLevel\": \"lower fat\"}, {\"ManufacturerProvCode\": \"QC\", \"ManufacturingTypeEn\": \"Industrial\", \"MoisturePercent\": 50.0, \"Organic\": 0, \"CategoryTypeEn\": \"Semi-soft Cheese\", \"MilkTypeEn\": \"Cow\", \"MilkTreatmentTypeEn\": \"Pasteurized\", \"FatLevel\": \"lower fat\"}, {\"ManufacturerProvCode\": \"QC\", \"ManufacturingTypeEn\": \"Artisan\", \"MoisturePercent\": 42.0, \"Organic\": 0, \"CategoryTypeEn\": \"Semi-soft Cheese\", \"MilkTypeEn\": \"Goat\", \"MilkTreatmentTypeEn\": \"Pasteurized\", \"FatLevel\": \"lower fat\"}, {\"ManufacturerProvCode\": \"QC\", \"ManufacturingTypeEn\": \"Farmstead\", \"MoisturePercent\": 44.0, \"Organic\": 0, \"CategoryTypeEn\": \"Firm Cheese\", \"MilkTypeEn\": \"Cow\", \"MilkTreatmentTypeEn\": null, \"FatLevel\": \"lower fat\"}, {\"ManufacturerProvCode\": \"BC\", \"ManufacturingTypeEn\": \"Artisan\", \"MoisturePercent\": 38.0, \"Organic\": 0, \"CategoryTypeEn\": \"Hard Cheese\", \"MilkTypeEn\": \"Cow\", \"MilkTreatmentTypeEn\": \"Raw Milk\", \"FatLevel\": \"higher fat\"}, {\"ManufacturerProvCode\": \"QC\", \"ManufacturingTypeEn\": \"Industrial\", \"MoisturePercent\": 58.0, \"Organic\": 0, \"CategoryTypeEn\": \"Soft Cheese\", \"MilkTypeEn\": \"Cow\", \"MilkTreatmentTypeEn\": \"Pasteurized\", \"FatLevel\": \"lower fat\"}, {\"ManufacturerProvCode\": \"QC\", \"ManufacturingTypeEn\": \"Industrial\", \"MoisturePercent\": 50.0, \"Organic\": 0, \"CategoryTypeEn\": \"Firm Cheese\", \"MilkTypeEn\": \"Cow\", \"MilkTreatmentTypeEn\": \"Pasteurized\", \"FatLevel\": \"lower fat\"}, {\"ManufacturerProvCode\": \"ON\", \"ManufacturingTypeEn\": \"Industrial\", \"MoisturePercent\": 50.0, \"Organic\": 0, \"CategoryTypeEn\": \"Semi-soft Cheese\", \"MilkTypeEn\": \"Goat\", \"MilkTreatmentTypeEn\": \"Pasteurized\", \"FatLevel\": \"lower fat\"}, {\"ManufacturerProvCode\": \"ON\", \"ManufacturingTypeEn\": \"Industrial\", \"MoisturePercent\": 48.0, \"Organic\": 0, \"CategoryTypeEn\": \"Fresh Cheese\", \"MilkTypeEn\": \"Cow\", \"MilkTreatmentTypeEn\": \"Pasteurized\", \"FatLevel\": \"lower fat\"}, {\"ManufacturerProvCode\": \"QC\", \"ManufacturingTypeEn\": \"Industrial\", \"MoisturePercent\": 50.0, \"Organic\": 0, \"CategoryTypeEn\": \"Soft Cheese\", \"MilkTypeEn\": \"Cow\", \"MilkTreatmentTypeEn\": null, \"FatLevel\": \"higher fat\"}, {\"ManufacturerProvCode\": \"MB\", \"ManufacturingTypeEn\": \"Farmstead\", \"MoisturePercent\": 42.0, \"Organic\": 0, \"CategoryTypeEn\": \"Semi-soft Cheese\", \"MilkTypeEn\": \"Cow\", \"MilkTreatmentTypeEn\": \"Pasteurized\", \"FatLevel\": \"lower fat\"}, {\"ManufacturerProvCode\": \"ON\", \"ManufacturingTypeEn\": \"Industrial\", \"MoisturePercent\": 40.0, \"Organic\": 0, \"CategoryTypeEn\": \"Firm Cheese\", \"MilkTypeEn\": \"Cow\", \"MilkTreatmentTypeEn\": \"Pasteurized\", \"FatLevel\": \"higher fat\"}, {\"ManufacturerProvCode\": \"QC\", \"ManufacturingTypeEn\": \"Artisan\", \"MoisturePercent\": 50.0, \"Organic\": 0, \"CategoryTypeEn\": \"Soft Cheese\", \"MilkTypeEn\": \"Goat\", \"MilkTreatmentTypeEn\": \"Pasteurized\", \"FatLevel\": \"lower fat\"}, {\"ManufacturerProvCode\": \"QC\", \"ManufacturingTypeEn\": \"Industrial\", \"MoisturePercent\": 48.0, \"Organic\": 0, \"CategoryTypeEn\": \"Semi-soft Cheese\", \"MilkTypeEn\": \"Cow\", \"MilkTreatmentTypeEn\": \"Pasteurized\", \"FatLevel\": \"lower fat\"}, {\"ManufacturerProvCode\": \"QC\", \"ManufacturingTypeEn\": \"Industrial\", \"MoisturePercent\": 42.0, \"Organic\": 0, \"CategoryTypeEn\": \"Firm Cheese\", \"MilkTypeEn\": \"Cow\", \"MilkTreatmentTypeEn\": \"Pasteurized\", \"FatLevel\": \"lower fat\"}, {\"ManufacturerProvCode\": \"QC\", \"ManufacturingTypeEn\": \"Artisan\", \"MoisturePercent\": 50.0, \"Organic\": 0, \"CategoryTypeEn\": \"Semi-soft Cheese\", \"MilkTypeEn\": \"Cow\", \"MilkTreatmentTypeEn\": \"Pasteurized\", \"FatLevel\": \"lower fat\"}, {\"ManufacturerProvCode\": \"QC\", \"ManufacturingTypeEn\": \"Industrial\", \"MoisturePercent\": null, \"Organic\": 0, \"CategoryTypeEn\": \"Firm Cheese\", \"MilkTypeEn\": \"Cow\", \"MilkTreatmentTypeEn\": \"Pasteurized\", \"FatLevel\": \"lower fat\"}, {\"ManufacturerProvCode\": \"QC\", \"ManufacturingTypeEn\": \"Farmstead\", \"MoisturePercent\": 46.0, \"Organic\": 0, \"CategoryTypeEn\": \"Firm Cheese\", \"MilkTypeEn\": \"Goat\", \"MilkTreatmentTypeEn\": \"Pasteurized\", \"FatLevel\": \"lower fat\"}, {\"ManufacturerProvCode\": \"SK\", \"ManufacturingTypeEn\": \"Artisan\", \"MoisturePercent\": 17.0, \"Organic\": 0, \"CategoryTypeEn\": \"Soft Cheese\", \"MilkTypeEn\": \"Cow\", \"MilkTreatmentTypeEn\": \"Pasteurized\", \"FatLevel\": \"higher fat\"}, {\"ManufacturerProvCode\": \"QC\", \"ManufacturingTypeEn\": \"Industrial\", \"MoisturePercent\": 55.0, \"Organic\": 0, \"CategoryTypeEn\": \"Soft Cheese\", \"MilkTypeEn\": \"Cow\", \"MilkTreatmentTypeEn\": \"Pasteurized\", \"FatLevel\": \"lower fat\"}, {\"ManufacturerProvCode\": \"QC\", \"ManufacturingTypeEn\": \"Industrial\", \"MoisturePercent\": 42.0, \"Organic\": 0, \"CategoryTypeEn\": \"Firm Cheese\", \"MilkTypeEn\": \"Cow\", \"MilkTreatmentTypeEn\": \"Pasteurized\", \"FatLevel\": \"lower fat\"}, {\"ManufacturerProvCode\": \"QC\", \"ManufacturingTypeEn\": \"Industrial\", \"MoisturePercent\": 50.0, \"Organic\": 0, \"CategoryTypeEn\": \"Soft Cheese\", \"MilkTypeEn\": \"Cow\", \"MilkTreatmentTypeEn\": \"Pasteurized\", \"FatLevel\": \"higher fat\"}, {\"ManufacturerProvCode\": \"BC\", \"ManufacturingTypeEn\": \"Industrial\", \"MoisturePercent\": null, \"Organic\": 0, \"CategoryTypeEn\": \"Soft Cheese\", \"MilkTypeEn\": \"Cow\", \"MilkTreatmentTypeEn\": \"Pasteurized\", \"FatLevel\": \"lower fat\"}, {\"ManufacturerProvCode\": \"ON\", \"ManufacturingTypeEn\": \"Industrial\", \"MoisturePercent\": null, \"Organic\": 0, \"CategoryTypeEn\": \"Firm Cheese\", \"MilkTypeEn\": \"Cow\", \"MilkTreatmentTypeEn\": \"Pasteurized\", \"FatLevel\": \"lower fat\"}, {\"ManufacturerProvCode\": \"QC\", \"ManufacturingTypeEn\": \"Artisan\", \"MoisturePercent\": 55.0, \"Organic\": 0, \"CategoryTypeEn\": \"Fresh Cheese\", \"MilkTypeEn\": \"Cow\", \"MilkTreatmentTypeEn\": \"Pasteurized\", \"FatLevel\": \"lower fat\"}, {\"ManufacturerProvCode\": \"QC\", \"ManufacturingTypeEn\": \"Industrial\", \"MoisturePercent\": 50.0, \"Organic\": 0, \"CategoryTypeEn\": \"Soft Cheese\", \"MilkTypeEn\": \"Cow\", \"MilkTreatmentTypeEn\": \"Pasteurized\", \"FatLevel\": \"higher fat\"}, {\"ManufacturerProvCode\": \"QC\", \"ManufacturingTypeEn\": \"Artisan\", \"MoisturePercent\": 43.0, \"Organic\": 0, \"CategoryTypeEn\": \"Firm Cheese\", \"MilkTypeEn\": \"Goat\", \"MilkTreatmentTypeEn\": \"Pasteurized\", \"FatLevel\": \"lower fat\"}, {\"ManufacturerProvCode\": \"QC\", \"ManufacturingTypeEn\": \"Industrial\", \"MoisturePercent\": 55.0, \"Organic\": 0, \"CategoryTypeEn\": \"Soft Cheese\", \"MilkTypeEn\": \"Cow\", \"MilkTreatmentTypeEn\": \"Pasteurized\", \"FatLevel\": \"lower fat\"}, {\"ManufacturerProvCode\": \"BC\", \"ManufacturingTypeEn\": \"Farmstead\", \"MoisturePercent\": 35.0, \"Organic\": 1, \"CategoryTypeEn\": \"Firm Cheese\", \"MilkTypeEn\": \"Cow\", \"MilkTreatmentTypeEn\": \"Raw Milk\", \"FatLevel\": \"higher fat\"}, {\"ManufacturerProvCode\": \"QC\", \"ManufacturingTypeEn\": \"Industrial\", \"MoisturePercent\": 39.0, \"Organic\": 0, \"CategoryTypeEn\": \"Semi-soft Cheese\", \"MilkTypeEn\": \"Goat\", \"MilkTreatmentTypeEn\": \"Pasteurized\", \"FatLevel\": \"higher fat\"}, {\"ManufacturerProvCode\": \"QC\", \"ManufacturingTypeEn\": \"Industrial\", \"MoisturePercent\": 42.0, \"Organic\": 0, \"CategoryTypeEn\": \"Firm Cheese\", \"MilkTypeEn\": \"Cow\", \"MilkTreatmentTypeEn\": \"Pasteurized\", \"FatLevel\": \"lower fat\"}, {\"ManufacturerProvCode\": \"BC\", \"ManufacturingTypeEn\": \"Artisan\", \"MoisturePercent\": 68.0, \"Organic\": 0, \"CategoryTypeEn\": \"Soft Cheese\", \"MilkTypeEn\": \"Cow\", \"MilkTreatmentTypeEn\": \"Pasteurized\", \"FatLevel\": \"lower fat\"}, {\"ManufacturerProvCode\": \"QC\", \"ManufacturingTypeEn\": \"Artisan\", \"MoisturePercent\": 48.0, \"Organic\": 0, \"CategoryTypeEn\": \"Semi-soft Cheese\", \"MilkTypeEn\": \"Goat\", \"MilkTreatmentTypeEn\": \"Pasteurized\", \"FatLevel\": \"lower fat\"}, {\"ManufacturerProvCode\": \"QC\", \"ManufacturingTypeEn\": \"Farmstead\", \"MoisturePercent\": 46.0, \"Organic\": 0, \"CategoryTypeEn\": \"Semi-soft Cheese\", \"MilkTypeEn\": \"Cow\", \"MilkTreatmentTypeEn\": \"Pasteurized\", \"FatLevel\": \"lower fat\"}, {\"ManufacturerProvCode\": \"ON\", \"ManufacturingTypeEn\": \"Artisan\", \"MoisturePercent\": 75.0, \"Organic\": 0, \"CategoryTypeEn\": \"Fresh Cheese\", \"MilkTypeEn\": \"Ewe\", \"MilkTreatmentTypeEn\": \"Pasteurized\", \"FatLevel\": \"lower fat\"}, {\"ManufacturerProvCode\": \"ON\", \"ManufacturingTypeEn\": \"Industrial\", \"MoisturePercent\": 37.0, \"Organic\": 0, \"CategoryTypeEn\": \"Hard Cheese\", \"MilkTypeEn\": \"Goat\", \"MilkTreatmentTypeEn\": null, \"FatLevel\": \"higher fat\"}, {\"ManufacturerProvCode\": \"QC\", \"ManufacturingTypeEn\": \"Industrial\", \"MoisturePercent\": 50.0, \"Organic\": 0, \"CategoryTypeEn\": \"Semi-soft Cheese\", \"MilkTypeEn\": \"Cow\", \"MilkTreatmentTypeEn\": \"Pasteurized\", \"FatLevel\": \"lower fat\"}, {\"ManufacturerProvCode\": \"QC\", \"ManufacturingTypeEn\": \"Industrial\", \"MoisturePercent\": 68.0, \"Organic\": 0, \"CategoryTypeEn\": \"Fresh Cheese\", \"MilkTypeEn\": \"Goat\", \"MilkTreatmentTypeEn\": \"Pasteurized\", \"FatLevel\": \"higher fat\"}, {\"ManufacturerProvCode\": \"ON\", \"ManufacturingTypeEn\": \"Farmstead\", \"MoisturePercent\": 37.0, \"Organic\": 0, \"CategoryTypeEn\": \"Hard Cheese\", \"MilkTypeEn\": \"Cow\", \"MilkTreatmentTypeEn\": \"Thermised\", \"FatLevel\": \"higher fat\"}, {\"ManufacturerProvCode\": \"QC\", \"ManufacturingTypeEn\": \"Industrial\", \"MoisturePercent\": 50.0, \"Organic\": 0, \"CategoryTypeEn\": \"Soft Cheese\", \"MilkTypeEn\": \"Cow\", \"MilkTreatmentTypeEn\": \"Pasteurized\", \"FatLevel\": \"higher fat\"}, {\"ManufacturerProvCode\": \"QC\", \"ManufacturingTypeEn\": \"Artisan\", \"MoisturePercent\": 55.0, \"Organic\": 0, \"CategoryTypeEn\": \"Fresh Cheese\", \"MilkTypeEn\": \"Goat\", \"MilkTreatmentTypeEn\": \"Pasteurized\", \"FatLevel\": \"lower fat\"}, {\"ManufacturerProvCode\": \"QC\", \"ManufacturingTypeEn\": \"Industrial\", \"MoisturePercent\": 50.0, \"Organic\": 0, \"CategoryTypeEn\": \"Soft Cheese\", \"MilkTypeEn\": \"Cow\", \"MilkTreatmentTypeEn\": null, \"FatLevel\": \"higher fat\"}, {\"ManufacturerProvCode\": \"QC\", \"ManufacturingTypeEn\": \"Artisan\", \"MoisturePercent\": 41.0, \"Organic\": 0, \"CategoryTypeEn\": \"Firm Cheese\", \"MilkTypeEn\": \"Ewe\", \"MilkTreatmentTypeEn\": \"Pasteurized\", \"FatLevel\": \"higher fat\"}, {\"ManufacturerProvCode\": \"QC\", \"ManufacturingTypeEn\": \"Industrial\", \"MoisturePercent\": 55.0, \"Organic\": 0, \"CategoryTypeEn\": \"Semi-soft Cheese\", \"MilkTypeEn\": \"Cow\", \"MilkTreatmentTypeEn\": \"Pasteurized\", \"FatLevel\": \"lower fat\"}, {\"ManufacturerProvCode\": \"QC\", \"ManufacturingTypeEn\": \"Artisan\", \"MoisturePercent\": 42.0, \"Organic\": 0, \"CategoryTypeEn\": null, \"MilkTypeEn\": \"Cow\", \"MilkTreatmentTypeEn\": \"Pasteurized\", \"FatLevel\": \"higher fat\"}, {\"ManufacturerProvCode\": \"BC\", \"ManufacturingTypeEn\": \"Artisan\", \"MoisturePercent\": 40.0, \"Organic\": 0, \"CategoryTypeEn\": \"Firm Cheese\", \"MilkTypeEn\": \"Goat\", \"MilkTreatmentTypeEn\": \"Thermised\", \"FatLevel\": \"higher fat\"}, {\"ManufacturerProvCode\": \"BC\", \"ManufacturingTypeEn\": \"Farmstead\", \"MoisturePercent\": 38.0, \"Organic\": 1, \"CategoryTypeEn\": \"Firm Cheese\", \"MilkTypeEn\": \"Cow\", \"MilkTreatmentTypeEn\": \"Thermised\", \"FatLevel\": \"higher fat\"}, {\"ManufacturerProvCode\": \"ON\", \"ManufacturingTypeEn\": \"Industrial\", \"MoisturePercent\": 50.0, \"Organic\": 0, \"CategoryTypeEn\": \"Semi-soft Cheese\", \"MilkTypeEn\": \"Cow\", \"MilkTreatmentTypeEn\": \"Pasteurized\", \"FatLevel\": \"lower fat\"}, {\"ManufacturerProvCode\": \"QC\", \"ManufacturingTypeEn\": \"Industrial\", \"MoisturePercent\": 43.0, \"Organic\": 0, \"CategoryTypeEn\": \"Firm Cheese\", \"MilkTypeEn\": \"Cow\", \"MilkTreatmentTypeEn\": \"Pasteurized\", \"FatLevel\": \"lower fat\"}, {\"ManufacturerProvCode\": \"QC\", \"ManufacturingTypeEn\": \"Artisan\", \"MoisturePercent\": 50.0, \"Organic\": 0, \"CategoryTypeEn\": \"Semi-soft Cheese\", \"MilkTypeEn\": \"Cow\", \"MilkTreatmentTypeEn\": \"Raw Milk\", \"FatLevel\": \"lower fat\"}, {\"ManufacturerProvCode\": \"BC\", \"ManufacturingTypeEn\": \"Farmstead\", \"MoisturePercent\": 43.0, \"Organic\": 1, \"CategoryTypeEn\": \"Soft Cheese\", \"MilkTypeEn\": \"Goat\", \"MilkTreatmentTypeEn\": \"Raw Milk\", \"FatLevel\": \"higher fat\"}, {\"ManufacturerProvCode\": \"QC\", \"ManufacturingTypeEn\": \"Industrial\", \"MoisturePercent\": 39.0, \"Organic\": 0, \"CategoryTypeEn\": \"Firm Cheese\", \"MilkTypeEn\": \"Cow\", \"MilkTreatmentTypeEn\": \"Pasteurized\", \"FatLevel\": \"higher fat\"}, {\"ManufacturerProvCode\": \"QC\", \"ManufacturingTypeEn\": \"Industrial\", \"MoisturePercent\": 64.0, \"Organic\": 0, \"CategoryTypeEn\": \"Fresh Cheese\", \"MilkTypeEn\": \"Buffalo Cow\", \"MilkTreatmentTypeEn\": \"Pasteurized\", \"FatLevel\": \"lower fat\"}, {\"ManufacturerProvCode\": \"QC\", \"ManufacturingTypeEn\": \"Artisan\", \"MoisturePercent\": 36.0, \"Organic\": 0, \"CategoryTypeEn\": \"Firm Cheese\", \"MilkTypeEn\": \"Cow\", \"MilkTreatmentTypeEn\": \"Pasteurized\", \"FatLevel\": \"higher fat\"}, {\"ManufacturerProvCode\": \"QC\", \"ManufacturingTypeEn\": \"Artisan\", \"MoisturePercent\": 40.0, \"Organic\": 0, \"CategoryTypeEn\": \"Semi-soft Cheese\", \"MilkTypeEn\": \"Cow\", \"MilkTreatmentTypeEn\": \"Thermised\", \"FatLevel\": \"lower fat\"}, {\"ManufacturerProvCode\": \"QC\", \"ManufacturingTypeEn\": \"Farmstead\", \"MoisturePercent\": 12.0, \"Organic\": 0, \"CategoryTypeEn\": \"Hard Cheese\", \"MilkTypeEn\": \"Goat\", \"MilkTreatmentTypeEn\": \"Pasteurized\", \"FatLevel\": \"higher fat\"}, {\"ManufacturerProvCode\": \"QC\", \"ManufacturingTypeEn\": \"Farmstead\", \"MoisturePercent\": 43.0, \"Organic\": 1, \"CategoryTypeEn\": \"Semi-soft Cheese\", \"MilkTypeEn\": \"Cow\", \"MilkTreatmentTypeEn\": \"Thermised\", \"FatLevel\": \"higher fat\"}, {\"ManufacturerProvCode\": \"QC\", \"ManufacturingTypeEn\": \"Farmstead\", \"MoisturePercent\": 46.0, \"Organic\": 0, \"CategoryTypeEn\": \"Semi-soft Cheese\", \"MilkTypeEn\": \"Cow\", \"MilkTreatmentTypeEn\": \"Thermised\", \"FatLevel\": \"lower fat\"}, {\"ManufacturerProvCode\": \"AB\", \"ManufacturingTypeEn\": \"Industrial\", \"MoisturePercent\": 53.0, \"Organic\": 0, \"CategoryTypeEn\": \"Fresh Cheese\", \"MilkTypeEn\": \"Cow\", \"MilkTreatmentTypeEn\": \"Pasteurized\", \"FatLevel\": \"lower fat\"}, {\"ManufacturerProvCode\": \"QC\", \"ManufacturingTypeEn\": \"Farmstead\", \"MoisturePercent\": 51.0, \"Organic\": 0, \"CategoryTypeEn\": \"Soft Cheese\", \"MilkTypeEn\": \"Goat\", \"MilkTreatmentTypeEn\": \"Pasteurized\", \"FatLevel\": \"lower fat\"}, {\"ManufacturerProvCode\": \"QC\", \"ManufacturingTypeEn\": \"Farmstead\", \"MoisturePercent\": 50.0, \"Organic\": 0, \"CategoryTypeEn\": \"Semi-soft Cheese\", \"MilkTypeEn\": \"Cow\", \"MilkTreatmentTypeEn\": \"Pasteurized\", \"FatLevel\": \"lower fat\"}, {\"ManufacturerProvCode\": \"QC\", \"ManufacturingTypeEn\": \"Artisan\", \"MoisturePercent\": 55.0, \"Organic\": 0, \"CategoryTypeEn\": \"Soft Cheese\", \"MilkTypeEn\": \"Goat\", \"MilkTreatmentTypeEn\": \"Pasteurized\", \"FatLevel\": \"lower fat\"}, {\"ManufacturerProvCode\": \"QC\", \"ManufacturingTypeEn\": \"Industrial\", \"MoisturePercent\": 68.0, \"Organic\": 0, \"CategoryTypeEn\": \"Soft Cheese\", \"MilkTypeEn\": \"Goat\", \"MilkTreatmentTypeEn\": null, \"FatLevel\": \"lower fat\"}, {\"ManufacturerProvCode\": \"ON\", \"ManufacturingTypeEn\": \"Industrial\", \"MoisturePercent\": 44.0, \"Organic\": 0, \"CategoryTypeEn\": \"Semi-soft Cheese\", \"MilkTypeEn\": \"Cow\", \"MilkTreatmentTypeEn\": \"Pasteurized\", \"FatLevel\": \"lower fat\"}, {\"ManufacturerProvCode\": \"QC\", \"ManufacturingTypeEn\": \"Farmstead\", \"MoisturePercent\": 42.0, \"Organic\": 1, \"CategoryTypeEn\": \"Veined Cheeses\", \"MilkTypeEn\": \"Cow\", \"MilkTreatmentTypeEn\": \"Raw Milk\", \"FatLevel\": \"lower fat\"}, {\"ManufacturerProvCode\": \"QC\", \"ManufacturingTypeEn\": \"Industrial\", \"MoisturePercent\": 40.0, \"Organic\": 0, \"CategoryTypeEn\": \"Firm Cheese\", \"MilkTypeEn\": \"Ewe\", \"MilkTreatmentTypeEn\": \"Raw Milk\", \"FatLevel\": \"lower fat\"}, {\"ManufacturerProvCode\": \"QC\", \"ManufacturingTypeEn\": \"Artisan\", \"MoisturePercent\": 50.0, \"Organic\": 0, \"CategoryTypeEn\": \"Semi-soft Cheese\", \"MilkTypeEn\": \"Cow\", \"MilkTreatmentTypeEn\": \"Pasteurized\", \"FatLevel\": \"lower fat\"}, {\"ManufacturerProvCode\": \"BC\", \"ManufacturingTypeEn\": \"Farmstead\", \"MoisturePercent\": 43.0, \"Organic\": 1, \"CategoryTypeEn\": \"Soft Cheese\", \"MilkTypeEn\": \"Cow\", \"MilkTreatmentTypeEn\": \"Raw Milk\", \"FatLevel\": \"higher fat\"}, {\"ManufacturerProvCode\": \"BC\", \"ManufacturingTypeEn\": \"Farmstead\", \"MoisturePercent\": 38.0, \"Organic\": 1, \"CategoryTypeEn\": \"Firm Cheese\", \"MilkTypeEn\": \"Cow\", \"MilkTreatmentTypeEn\": \"Raw Milk\", \"FatLevel\": \"higher fat\"}, {\"ManufacturerProvCode\": \"QC\", \"ManufacturingTypeEn\": \"Industrial\", \"MoisturePercent\": 54.0, \"Organic\": 0, \"CategoryTypeEn\": \"Soft Cheese\", \"MilkTypeEn\": \"Goat\", \"MilkTreatmentTypeEn\": \"Pasteurized\", \"FatLevel\": \"lower fat\"}, {\"ManufacturerProvCode\": \"QC\", \"ManufacturingTypeEn\": \"Industrial\", \"MoisturePercent\": 52.0, \"Organic\": 0, \"CategoryTypeEn\": \"Soft Cheese\", \"MilkTypeEn\": \"Goat\", \"MilkTreatmentTypeEn\": \"Pasteurized\", \"FatLevel\": \"lower fat\"}, {\"ManufacturerProvCode\": \"QC\", \"ManufacturingTypeEn\": \"Artisan\", \"MoisturePercent\": 36.0, \"Organic\": 0, \"CategoryTypeEn\": \"Firm Cheese\", \"MilkTypeEn\": \"Ewe and Goat\", \"MilkTreatmentTypeEn\": \"Pasteurized\", \"FatLevel\": \"higher fat\"}, {\"ManufacturerProvCode\": \"ON\", \"ManufacturingTypeEn\": \"Industrial\", \"MoisturePercent\": 38.0, \"Organic\": 0, \"CategoryTypeEn\": \"Firm Cheese\", \"MilkTypeEn\": \"Goat\", \"MilkTreatmentTypeEn\": \"Pasteurized\", \"FatLevel\": \"lower fat\"}, {\"ManufacturerProvCode\": \"QC\", \"ManufacturingTypeEn\": \"Industrial\", \"MoisturePercent\": 48.0, \"Organic\": 0, \"CategoryTypeEn\": \"Soft Cheese\", \"MilkTypeEn\": \"Cow\", \"MilkTreatmentTypeEn\": \"Pasteurized\", \"FatLevel\": \"higher fat\"}, {\"ManufacturerProvCode\": \"BC\", \"ManufacturingTypeEn\": \"Artisan\", \"MoisturePercent\": 43.0, \"Organic\": 0, \"CategoryTypeEn\": \"Firm Cheese\", \"MilkTypeEn\": \"Cow\", \"MilkTreatmentTypeEn\": null, \"FatLevel\": \"higher fat\"}, {\"ManufacturerProvCode\": \"NB\", \"ManufacturingTypeEn\": \"Farmstead\", \"MoisturePercent\": 47.0, \"Organic\": 0, \"CategoryTypeEn\": \"Veined Cheeses\", \"MilkTypeEn\": \"Cow\", \"MilkTreatmentTypeEn\": \"Raw Milk\", \"FatLevel\": \"lower fat\"}, {\"ManufacturerProvCode\": \"QC\", \"ManufacturingTypeEn\": \"Industrial\", \"MoisturePercent\": 50.0, \"Organic\": 0, \"CategoryTypeEn\": \"Semi-soft Cheese\", \"MilkTypeEn\": \"Cow\", \"MilkTreatmentTypeEn\": \"Pasteurized\", \"FatLevel\": \"lower fat\"}, {\"ManufacturerProvCode\": \"QC\", \"ManufacturingTypeEn\": \"Artisan\", \"MoisturePercent\": 29.0, \"Organic\": 1, \"CategoryTypeEn\": \"Firm Cheese\", \"MilkTypeEn\": \"Cow\", \"MilkTreatmentTypeEn\": \"Raw Milk\", \"FatLevel\": \"higher fat\"}, {\"ManufacturerProvCode\": \"QC\", \"ManufacturingTypeEn\": \"Artisan\", \"MoisturePercent\": 40.0, \"Organic\": 0, \"CategoryTypeEn\": \"Firm Cheese\", \"MilkTypeEn\": \"Cow\", \"MilkTreatmentTypeEn\": \"Pasteurized\", \"FatLevel\": \"lower fat\"}, {\"ManufacturerProvCode\": \"QC\", \"ManufacturingTypeEn\": \"Artisan\", \"MoisturePercent\": 48.0, \"Organic\": 0, \"CategoryTypeEn\": \"Semi-soft Cheese\", \"MilkTypeEn\": \"Cow\", \"MilkTreatmentTypeEn\": \"Pasteurized\", \"FatLevel\": \"lower fat\"}, {\"ManufacturerProvCode\": \"QC\", \"ManufacturingTypeEn\": \"Industrial\", \"MoisturePercent\": 52.0, \"Organic\": 0, \"CategoryTypeEn\": \"Semi-soft Cheese\", \"MilkTypeEn\": \"Cow\", \"MilkTreatmentTypeEn\": \"Pasteurized\", \"FatLevel\": \"lower fat\"}, {\"ManufacturerProvCode\": \"ON\", \"ManufacturingTypeEn\": \"Industrial\", \"MoisturePercent\": 37.0, \"Organic\": 0, \"CategoryTypeEn\": \"Firm Cheese\", \"MilkTypeEn\": \"Cow\", \"MilkTreatmentTypeEn\": \"Pasteurized\", \"FatLevel\": \"higher fat\"}, {\"ManufacturerProvCode\": \"BC\", \"ManufacturingTypeEn\": \"Artisan\", \"MoisturePercent\": 47.0, \"Organic\": 0, \"CategoryTypeEn\": \"Soft Cheese\", \"MilkTypeEn\": \"Cow\", \"MilkTreatmentTypeEn\": \"Pasteurized\", \"FatLevel\": \"lower fat\"}, {\"ManufacturerProvCode\": \"QC\", \"ManufacturingTypeEn\": \"Artisan\", \"MoisturePercent\": 39.0, \"Organic\": 0, \"CategoryTypeEn\": \"Firm Cheese\", \"MilkTypeEn\": \"Cow\", \"MilkTreatmentTypeEn\": \"Thermised\", \"FatLevel\": \"higher fat\"}, {\"ManufacturerProvCode\": \"QC\", \"ManufacturingTypeEn\": \"Industrial\", \"MoisturePercent\": 45.0, \"Organic\": 0, \"CategoryTypeEn\": \"Soft Cheese\", \"MilkTypeEn\": \"Cow\", \"MilkTreatmentTypeEn\": \"Pasteurized\", \"FatLevel\": \"higher fat\"}, {\"ManufacturerProvCode\": \"NB\", \"ManufacturingTypeEn\": \"Farmstead\", \"MoisturePercent\": 50.0, \"Organic\": 0, \"CategoryTypeEn\": \"Soft Cheese\", \"MilkTypeEn\": \"Goat\", \"MilkTreatmentTypeEn\": \"Pasteurized\", \"FatLevel\": \"lower fat\"}, {\"ManufacturerProvCode\": \"MB\", \"ManufacturingTypeEn\": \"Farmstead\", \"MoisturePercent\": 40.0, \"Organic\": 0, \"CategoryTypeEn\": \"Firm Cheese\", \"MilkTypeEn\": \"Cow\", \"MilkTreatmentTypeEn\": \"Pasteurized\", \"FatLevel\": \"lower fat\"}, {\"ManufacturerProvCode\": \"QC\", \"ManufacturingTypeEn\": \"Artisan\", \"MoisturePercent\": 43.0, \"Organic\": 0, \"CategoryTypeEn\": \"Firm Cheese\", \"MilkTypeEn\": \"Goat\", \"MilkTreatmentTypeEn\": \"Pasteurized\", \"FatLevel\": \"lower fat\"}, {\"ManufacturerProvCode\": \"BC\", \"ManufacturingTypeEn\": \"Farmstead\", \"MoisturePercent\": 55.0, \"Organic\": 0, \"CategoryTypeEn\": \"Semi-soft Cheese\", \"MilkTypeEn\": \"Goat\", \"MilkTreatmentTypeEn\": \"Pasteurized\", \"FatLevel\": \"lower fat\"}, {\"ManufacturerProvCode\": \"QC\", \"ManufacturingTypeEn\": \"Industrial\", \"MoisturePercent\": 55.0, \"Organic\": 0, \"CategoryTypeEn\": \"Fresh Cheese\", \"MilkTypeEn\": \"Goat\", \"MilkTreatmentTypeEn\": \"Pasteurized\", \"FatLevel\": \"lower fat\"}, {\"ManufacturerProvCode\": \"ON\", \"ManufacturingTypeEn\": \"Artisan\", \"MoisturePercent\": 42.0, \"Organic\": 0, \"CategoryTypeEn\": \"Hard Cheese\", \"MilkTypeEn\": \"Goat\", \"MilkTreatmentTypeEn\": \"Pasteurized\", \"FatLevel\": \"lower fat\"}, {\"ManufacturerProvCode\": \"BC\", \"ManufacturingTypeEn\": \"Artisan\", \"MoisturePercent\": 40.0, \"Organic\": 0, \"CategoryTypeEn\": \"Firm Cheese\", \"MilkTypeEn\": \"Goat\", \"MilkTreatmentTypeEn\": \"Thermised\", \"FatLevel\": \"lower fat\"}, {\"ManufacturerProvCode\": \"QC\", \"ManufacturingTypeEn\": \"Artisan\", \"MoisturePercent\": 52.0, \"Organic\": 0, \"CategoryTypeEn\": \"Semi-soft Cheese\", \"MilkTypeEn\": \"Cow\", \"MilkTreatmentTypeEn\": \"Pasteurized\", \"FatLevel\": \"lower fat\"}, {\"ManufacturerProvCode\": \"QC\", \"ManufacturingTypeEn\": \"Artisan\", \"MoisturePercent\": 50.0, \"Organic\": 0, \"CategoryTypeEn\": \"Soft Cheese\", \"MilkTypeEn\": \"Cow\", \"MilkTreatmentTypeEn\": \"Pasteurized\", \"FatLevel\": \"lower fat\"}, {\"ManufacturerProvCode\": \"QC\", \"ManufacturingTypeEn\": \"Artisan\", \"MoisturePercent\": 48.0, \"Organic\": 0, \"CategoryTypeEn\": \"Semi-soft Cheese\", \"MilkTypeEn\": \"Goat\", \"MilkTreatmentTypeEn\": \"Pasteurized\", \"FatLevel\": \"lower fat\"}, {\"ManufacturerProvCode\": \"QC\", \"ManufacturingTypeEn\": \"Artisan\", \"MoisturePercent\": 56.0, \"Organic\": 0, \"CategoryTypeEn\": \"Fresh Cheese\", \"MilkTypeEn\": \"Cow\", \"MilkTreatmentTypeEn\": \"Raw Milk\", \"FatLevel\": \"lower fat\"}, {\"ManufacturerProvCode\": \"QC\", \"ManufacturingTypeEn\": \"Industrial\", \"MoisturePercent\": 76.0, \"Organic\": 0, \"CategoryTypeEn\": \"Soft Cheese\", \"MilkTypeEn\": \"Cow\", \"MilkTreatmentTypeEn\": \"Pasteurized\", \"FatLevel\": \"lower fat\"}, {\"ManufacturerProvCode\": \"QC\", \"ManufacturingTypeEn\": \"Industrial\", \"MoisturePercent\": 20.0, \"Organic\": 0, \"CategoryTypeEn\": \"Soft Cheese\", \"MilkTypeEn\": \"Cow\", \"MilkTreatmentTypeEn\": \"Pasteurized\", \"FatLevel\": \"higher fat\"}, {\"ManufacturerProvCode\": \"QC\", \"ManufacturingTypeEn\": \"Industrial\", \"MoisturePercent\": 50.0, \"Organic\": 0, \"CategoryTypeEn\": \"Soft Cheese\", \"MilkTypeEn\": \"Cow\", \"MilkTreatmentTypeEn\": \"Pasteurized\", \"FatLevel\": \"lower fat\"}, {\"ManufacturerProvCode\": \"QC\", \"ManufacturingTypeEn\": \"Artisan\", \"MoisturePercent\": 45.0, \"Organic\": 0, \"CategoryTypeEn\": \"Semi-soft Cheese\", \"MilkTypeEn\": \"Ewe and Cow\", \"MilkTreatmentTypeEn\": \"Thermised\", \"FatLevel\": \"lower fat\"}, {\"ManufacturerProvCode\": \"QC\", \"ManufacturingTypeEn\": \"Artisan\", \"MoisturePercent\": 48.0, \"Organic\": 1, \"CategoryTypeEn\": \"Veined Cheeses\", \"MilkTypeEn\": \"Cow\", \"MilkTreatmentTypeEn\": \"Pasteurized\", \"FatLevel\": \"lower fat\"}, {\"ManufacturerProvCode\": \"QC\", \"ManufacturingTypeEn\": \"Industrial\", \"MoisturePercent\": 42.0, \"Organic\": 0, \"CategoryTypeEn\": \"Firm Cheese\", \"MilkTypeEn\": \"Cow\", \"MilkTreatmentTypeEn\": \"Pasteurized\", \"FatLevel\": \"lower fat\"}, {\"ManufacturerProvCode\": \"QC\", \"ManufacturingTypeEn\": \"Artisan\", \"MoisturePercent\": 45.0, \"Organic\": 1, \"CategoryTypeEn\": \"Semi-soft Cheese\", \"MilkTypeEn\": \"Cow\", \"MilkTreatmentTypeEn\": \"Raw Milk\", \"FatLevel\": \"lower fat\"}, {\"ManufacturerProvCode\": \"QC\", \"ManufacturingTypeEn\": \"Industrial\", \"MoisturePercent\": 55.0, \"Organic\": 0, \"CategoryTypeEn\": \"Semi-soft Cheese\", \"MilkTypeEn\": \"Cow\", \"MilkTreatmentTypeEn\": \"Pasteurized\", \"FatLevel\": \"lower fat\"}, {\"ManufacturerProvCode\": \"ON\", \"ManufacturingTypeEn\": \"Industrial\", \"MoisturePercent\": 32.0, \"Organic\": 0, \"CategoryTypeEn\": \"Firm Cheese\", \"MilkTypeEn\": \"Cow\", \"MilkTreatmentTypeEn\": \"Pasteurized\", \"FatLevel\": \"lower fat\"}, {\"ManufacturerProvCode\": \"QC\", \"ManufacturingTypeEn\": \"Farmstead\", \"MoisturePercent\": 39.0, \"Organic\": 1, \"CategoryTypeEn\": \"Hard Cheese\", \"MilkTypeEn\": \"Cow\", \"MilkTreatmentTypeEn\": null, \"FatLevel\": \"higher fat\"}, {\"ManufacturerProvCode\": \"NB\", \"ManufacturingTypeEn\": \"Farmstead\", \"MoisturePercent\": 50.0, \"Organic\": 0, \"CategoryTypeEn\": \"Soft Cheese\", \"MilkTypeEn\": \"Goat\", \"MilkTreatmentTypeEn\": \"Pasteurized\", \"FatLevel\": \"lower fat\"}, {\"ManufacturerProvCode\": \"QC\", \"ManufacturingTypeEn\": \"Farmstead\", \"MoisturePercent\": 43.0, \"Organic\": 1, \"CategoryTypeEn\": \"Hard Cheese\", \"MilkTypeEn\": \"Cow\", \"MilkTreatmentTypeEn\": null, \"FatLevel\": \"lower fat\"}, {\"ManufacturerProvCode\": \"QC\", \"ManufacturingTypeEn\": \"Industrial\", \"MoisturePercent\": 43.0, \"Organic\": 0, \"CategoryTypeEn\": \"Firm Cheese\", \"MilkTypeEn\": \"Cow\", \"MilkTreatmentTypeEn\": \"Pasteurized\", \"FatLevel\": \"lower fat\"}, {\"ManufacturerProvCode\": \"QC\", \"ManufacturingTypeEn\": \"Industrial\", \"MoisturePercent\": 48.0, \"Organic\": 0, \"CategoryTypeEn\": \"Soft Cheese\", \"MilkTypeEn\": \"Cow\", \"MilkTreatmentTypeEn\": \"Pasteurized\", \"FatLevel\": \"higher fat\"}, {\"ManufacturerProvCode\": \"QC\", \"ManufacturingTypeEn\": \"Industrial\", \"MoisturePercent\": 46.0, \"Organic\": 0, \"CategoryTypeEn\": \"Semi-soft Cheese\", \"MilkTypeEn\": \"Cow\", \"MilkTreatmentTypeEn\": \"Raw Milk\", \"FatLevel\": \"lower fat\"}, {\"ManufacturerProvCode\": \"QC\", \"ManufacturingTypeEn\": \"Artisan\", \"MoisturePercent\": 64.0, \"Organic\": 0, \"CategoryTypeEn\": \"Fresh Cheese\", \"MilkTypeEn\": \"Ewe\", \"MilkTreatmentTypeEn\": \"Pasteurized\", \"FatLevel\": \"lower fat\"}, {\"ManufacturerProvCode\": \"QC\", \"ManufacturingTypeEn\": \"Farmstead\", \"MoisturePercent\": 44.0, \"Organic\": 0, \"CategoryTypeEn\": \"Semi-soft Cheese\", \"MilkTypeEn\": \"Cow\", \"MilkTreatmentTypeEn\": \"Raw Milk\", \"FatLevel\": \"higher fat\"}, {\"ManufacturerProvCode\": \"QC\", \"ManufacturingTypeEn\": \"Farmstead\", \"MoisturePercent\": 70.0, \"Organic\": 0, \"CategoryTypeEn\": \"Fresh Cheese\", \"MilkTypeEn\": \"Goat\", \"MilkTreatmentTypeEn\": \"Pasteurized\", \"FatLevel\": \"lower fat\"}, {\"ManufacturerProvCode\": \"QC\", \"ManufacturingTypeEn\": \"Farmstead\", \"MoisturePercent\": 45.0, \"Organic\": 0, \"CategoryTypeEn\": \"Semi-soft Cheese\", \"MilkTypeEn\": \"Cow\", \"MilkTreatmentTypeEn\": \"Pasteurized\", \"FatLevel\": \"lower fat\"}, {\"ManufacturerProvCode\": \"QC\", \"ManufacturingTypeEn\": \"Artisan\", \"MoisturePercent\": 65.0, \"Organic\": 0, \"CategoryTypeEn\": \"Fresh Cheese\", \"MilkTypeEn\": \"Goat\", \"MilkTreatmentTypeEn\": \"Pasteurized\", \"FatLevel\": \"lower fat\"}, {\"ManufacturerProvCode\": \"QC\", \"ManufacturingTypeEn\": \"Industrial\", \"MoisturePercent\": 43.0, \"Organic\": 0, \"CategoryTypeEn\": \"Firm Cheese\", \"MilkTypeEn\": \"Cow\", \"MilkTreatmentTypeEn\": \"Pasteurized\", \"FatLevel\": \"lower fat\"}, {\"ManufacturerProvCode\": \"QC\", \"ManufacturingTypeEn\": \"Industrial\", \"MoisturePercent\": 52.0, \"Organic\": 0, \"CategoryTypeEn\": \"Soft Cheese\", \"MilkTypeEn\": \"Goat\", \"MilkTreatmentTypeEn\": \"Pasteurized\", \"FatLevel\": \"lower fat\"}, {\"ManufacturerProvCode\": \"QC\", \"ManufacturingTypeEn\": \"Farmstead\", \"MoisturePercent\": 41.0, \"Organic\": 0, \"CategoryTypeEn\": \"Firm Cheese\", \"MilkTypeEn\": \"Cow\", \"MilkTreatmentTypeEn\": \"Pasteurized\", \"FatLevel\": \"lower fat\"}, {\"ManufacturerProvCode\": \"QC\", \"ManufacturingTypeEn\": \"Farmstead\", \"MoisturePercent\": 52.0, \"Organic\": 0, \"CategoryTypeEn\": \"Soft Cheese\", \"MilkTypeEn\": \"Cow\", \"MilkTreatmentTypeEn\": \"Pasteurized\", \"FatLevel\": \"higher fat\"}, {\"ManufacturerProvCode\": \"BC\", \"ManufacturingTypeEn\": \"Farmstead\", \"MoisturePercent\": 35.0, \"Organic\": 1, \"CategoryTypeEn\": \"Firm Cheese\", \"MilkTypeEn\": \"Cow\", \"MilkTreatmentTypeEn\": \"Raw Milk\", \"FatLevel\": \"higher fat\"}, {\"ManufacturerProvCode\": \"QC\", \"ManufacturingTypeEn\": \"Farmstead\", \"MoisturePercent\": 45.0, \"Organic\": 0, \"CategoryTypeEn\": \"Semi-soft Cheese\", \"MilkTypeEn\": \"Cow\", \"MilkTreatmentTypeEn\": \"Thermised\", \"FatLevel\": \"higher fat\"}, {\"ManufacturerProvCode\": \"QC\", \"ManufacturingTypeEn\": \"Industrial\", \"MoisturePercent\": 39.0, \"Organic\": 0, \"CategoryTypeEn\": \"Firm Cheese\", \"MilkTypeEn\": \"Cow\", \"MilkTreatmentTypeEn\": \"Pasteurized\", \"FatLevel\": \"higher fat\"}, {\"ManufacturerProvCode\": \"QC\", \"ManufacturingTypeEn\": \"Artisan\", \"MoisturePercent\": 44.0, \"Organic\": 0, \"CategoryTypeEn\": \"Semi-soft Cheese\", \"MilkTypeEn\": \"Cow\", \"MilkTreatmentTypeEn\": \"Pasteurized\", \"FatLevel\": \"lower fat\"}, {\"ManufacturerProvCode\": \"BC\", \"ManufacturingTypeEn\": \"Farmstead\", \"MoisturePercent\": 40.3, \"Organic\": 1, \"CategoryTypeEn\": \"Soft Cheese\", \"MilkTypeEn\": \"Cow\", \"MilkTreatmentTypeEn\": \"Pasteurized\", \"FatLevel\": \"lower fat\"}, {\"ManufacturerProvCode\": \"QC\", \"ManufacturingTypeEn\": \"Industrial\", \"MoisturePercent\": 42.0, \"Organic\": 0, \"CategoryTypeEn\": \"Semi-soft Cheese\", \"MilkTypeEn\": \"Cow\", \"MilkTreatmentTypeEn\": \"Pasteurized\", \"FatLevel\": \"lower fat\"}, {\"ManufacturerProvCode\": \"QC\", \"ManufacturingTypeEn\": \"Artisan\", \"MoisturePercent\": 70.0, \"Organic\": 0, \"CategoryTypeEn\": \"Fresh Cheese\", \"MilkTypeEn\": \"Cow\", \"MilkTreatmentTypeEn\": \"Pasteurized\", \"FatLevel\": \"lower fat\"}, {\"ManufacturerProvCode\": \"QC\", \"ManufacturingTypeEn\": \"Industrial\", \"MoisturePercent\": 47.0, \"Organic\": 0, \"CategoryTypeEn\": \"Semi-soft Cheese\", \"MilkTypeEn\": \"Cow\", \"MilkTreatmentTypeEn\": \"Pasteurized\", \"FatLevel\": \"lower fat\"}, {\"ManufacturerProvCode\": \"QC\", \"ManufacturingTypeEn\": \"Industrial\", \"MoisturePercent\": 45.0, \"Organic\": 0, \"CategoryTypeEn\": \"Veined Cheeses\", \"MilkTypeEn\": \"Cow\", \"MilkTreatmentTypeEn\": \"Raw Milk\", \"FatLevel\": \"higher fat\"}, {\"ManufacturerProvCode\": \"QC\", \"ManufacturingTypeEn\": \"Industrial\", \"MoisturePercent\": 88.0, \"Organic\": 0, \"CategoryTypeEn\": \"Soft Cheese\", \"MilkTypeEn\": \"Cow\", \"MilkTreatmentTypeEn\": \"Pasteurized\", \"FatLevel\": \"lower fat\"}, {\"ManufacturerProvCode\": \"QC\", \"ManufacturingTypeEn\": \"Farmstead\", \"MoisturePercent\": 46.0, \"Organic\": 0, \"CategoryTypeEn\": \"Semi-soft Cheese\", \"MilkTypeEn\": \"Cow\", \"MilkTreatmentTypeEn\": \"Thermised\", \"FatLevel\": \"lower fat\"}, {\"ManufacturerProvCode\": \"QC\", \"ManufacturingTypeEn\": \"Industrial\", \"MoisturePercent\": 43.0, \"Organic\": 0, \"CategoryTypeEn\": \"Semi-soft Cheese\", \"MilkTypeEn\": \"Goat\", \"MilkTreatmentTypeEn\": \"Pasteurized\", \"FatLevel\": \"lower fat\"}, {\"ManufacturerProvCode\": \"ON\", \"ManufacturingTypeEn\": \"Industrial\", \"MoisturePercent\": 46.0, \"Organic\": 0, \"CategoryTypeEn\": \"Soft Cheese\", \"MilkTypeEn\": \"Cow\", \"MilkTreatmentTypeEn\": null, \"FatLevel\": \"lower fat\"}, {\"ManufacturerProvCode\": \"NS\", \"ManufacturingTypeEn\": \"Artisan\", \"MoisturePercent\": 34.0, \"Organic\": 0, \"CategoryTypeEn\": \"Semi-soft Cheese\", \"MilkTypeEn\": \"Ewe\", \"MilkTreatmentTypeEn\": \"Thermised\", \"FatLevel\": \"higher fat\"}, {\"ManufacturerProvCode\": \"QC\", \"ManufacturingTypeEn\": \"Artisan\", \"MoisturePercent\": 45.0, \"Organic\": 0, \"CategoryTypeEn\": \"Semi-soft Cheese\", \"MilkTypeEn\": \"Cow\", \"MilkTreatmentTypeEn\": \"Pasteurized\", \"FatLevel\": \"higher fat\"}, {\"ManufacturerProvCode\": \"QC\", \"ManufacturingTypeEn\": \"Industrial\", \"MoisturePercent\": 39.0, \"Organic\": 0, \"CategoryTypeEn\": \"Firm Cheese\", \"MilkTypeEn\": \"Cow\", \"MilkTreatmentTypeEn\": \"Pasteurized\", \"FatLevel\": \"higher fat\"}, {\"ManufacturerProvCode\": \"QC\", \"ManufacturingTypeEn\": \"Artisan\", \"MoisturePercent\": 40.0, \"Organic\": 0, \"CategoryTypeEn\": \"Firm Cheese\", \"MilkTypeEn\": \"Goat\", \"MilkTreatmentTypeEn\": \"Pasteurized\", \"FatLevel\": \"lower fat\"}, {\"ManufacturerProvCode\": \"QC\", \"ManufacturingTypeEn\": \"Industrial\", \"MoisturePercent\": 39.0, \"Organic\": 0, \"CategoryTypeEn\": \"Firm Cheese\", \"MilkTypeEn\": \"Cow\", \"MilkTreatmentTypeEn\": \"Pasteurized\", \"FatLevel\": \"higher fat\"}, {\"ManufacturerProvCode\": \"QC\", \"ManufacturingTypeEn\": \"Farmstead\", \"MoisturePercent\": 48.0, \"Organic\": 0, \"CategoryTypeEn\": \"Semi-soft Cheese\", \"MilkTypeEn\": \"Goat\", \"MilkTreatmentTypeEn\": \"Raw Milk\", \"FatLevel\": \"lower fat\"}, {\"ManufacturerProvCode\": \"QC\", \"ManufacturingTypeEn\": \"Industrial\", \"MoisturePercent\": 50.0, \"Organic\": 0, \"CategoryTypeEn\": \"Soft Cheese\", \"MilkTypeEn\": \"Cow\", \"MilkTreatmentTypeEn\": \"Pasteurized\", \"FatLevel\": \"higher fat\"}, {\"ManufacturerProvCode\": \"QC\", \"ManufacturingTypeEn\": \"Artisan\", \"MoisturePercent\": 45.0, \"Organic\": 0, \"CategoryTypeEn\": \"Firm Cheese\", \"MilkTypeEn\": \"Cow\", \"MilkTreatmentTypeEn\": \"Raw Milk\", \"FatLevel\": \"lower fat\"}, {\"ManufacturerProvCode\": \"QC\", \"ManufacturingTypeEn\": \"Farmstead\", \"MoisturePercent\": 59.0, \"Organic\": 0, \"CategoryTypeEn\": \"Semi-soft Cheese\", \"MilkTypeEn\": \"Goat\", \"MilkTreatmentTypeEn\": \"Pasteurized\", \"FatLevel\": \"lower fat\"}, {\"ManufacturerProvCode\": \"QC\", \"ManufacturingTypeEn\": \"Artisan\", \"MoisturePercent\": 58.0, \"Organic\": 0, \"CategoryTypeEn\": \"Soft Cheese\", \"MilkTypeEn\": \"Goat\", \"MilkTreatmentTypeEn\": \"Pasteurized\", \"FatLevel\": \"lower fat\"}, {\"ManufacturerProvCode\": \"QC\", \"ManufacturingTypeEn\": \"Farmstead\", \"MoisturePercent\": 39.0, \"Organic\": 0, \"CategoryTypeEn\": \"Firm Cheese\", \"MilkTypeEn\": \"Cow\", \"MilkTreatmentTypeEn\": \"Pasteurized\", \"FatLevel\": \"higher fat\"}, {\"ManufacturerProvCode\": \"QC\", \"ManufacturingTypeEn\": \"Industrial\", \"MoisturePercent\": 43.0, \"Organic\": 0, \"CategoryTypeEn\": \"Firm Cheese\", \"MilkTypeEn\": \"Cow\", \"MilkTreatmentTypeEn\": \"Pasteurized\", \"FatLevel\": \"lower fat\"}, {\"ManufacturerProvCode\": \"QC\", \"ManufacturingTypeEn\": \"Farmstead\", \"MoisturePercent\": 46.0, \"Organic\": 0, \"CategoryTypeEn\": \"Semi-soft Cheese\", \"MilkTypeEn\": \"Cow\", \"MilkTreatmentTypeEn\": \"Pasteurized\", \"FatLevel\": \"lower fat\"}, {\"ManufacturerProvCode\": \"QC\", \"ManufacturingTypeEn\": \"Farmstead\", \"MoisturePercent\": 46.0, \"Organic\": 0, \"CategoryTypeEn\": \"Semi-soft Cheese\", \"MilkTypeEn\": \"Cow\", \"MilkTreatmentTypeEn\": \"Pasteurized\", \"FatLevel\": \"lower fat\"}, {\"ManufacturerProvCode\": \"QC\", \"ManufacturingTypeEn\": \"Industrial\", \"MoisturePercent\": 39.0, \"Organic\": 0, \"CategoryTypeEn\": \"Firm Cheese\", \"MilkTypeEn\": \"Cow\", \"MilkTreatmentTypeEn\": \"Pasteurized\", \"FatLevel\": \"higher fat\"}, {\"ManufacturerProvCode\": \"ON\", \"ManufacturingTypeEn\": \"Industrial\", \"MoisturePercent\": 31.0, \"Organic\": 0, \"CategoryTypeEn\": \"Hard Cheese\", \"MilkTypeEn\": \"Cow\", \"MilkTreatmentTypeEn\": \"Pasteurized\", \"FatLevel\": \"higher fat\"}, {\"ManufacturerProvCode\": \"QC\", \"ManufacturingTypeEn\": \"Artisan\", \"MoisturePercent\": 44.0, \"Organic\": 0, \"CategoryTypeEn\": \"Semi-soft Cheese\", \"MilkTypeEn\": \"Cow\", \"MilkTreatmentTypeEn\": \"Pasteurized\", \"FatLevel\": \"higher fat\"}, {\"ManufacturerProvCode\": \"ON\", \"ManufacturingTypeEn\": \"Farmstead\", \"MoisturePercent\": 37.0, \"Organic\": 0, \"CategoryTypeEn\": \"Hard Cheese\", \"MilkTypeEn\": \"Goat\", \"MilkTreatmentTypeEn\": \"Pasteurized\", \"FatLevel\": \"higher fat\"}, {\"ManufacturerProvCode\": \"QC\", \"ManufacturingTypeEn\": \"Artisan\", \"MoisturePercent\": 39.0, \"Organic\": 1, \"CategoryTypeEn\": \"Firm Cheese\", \"MilkTypeEn\": \"Cow\", \"MilkTreatmentTypeEn\": \"Pasteurized\", \"FatLevel\": \"higher fat\"}, {\"ManufacturerProvCode\": \"ON\", \"ManufacturingTypeEn\": \"Farmstead\", \"MoisturePercent\": 50.0, \"Organic\": 0, \"CategoryTypeEn\": \"Fresh Cheese\", \"MilkTypeEn\": \"Ewe\", \"MilkTreatmentTypeEn\": \"Pasteurized\", \"FatLevel\": \"lower fat\"}, {\"ManufacturerProvCode\": \"QC\", \"ManufacturingTypeEn\": \"Farmstead\", \"MoisturePercent\": 48.0, \"Organic\": 0, \"CategoryTypeEn\": \"Veined Cheeses\", \"MilkTypeEn\": \"Ewe\", \"MilkTreatmentTypeEn\": \"Pasteurized\", \"FatLevel\": \"lower fat\"}, {\"ManufacturerProvCode\": \"QC\", \"ManufacturingTypeEn\": \"Artisan\", \"MoisturePercent\": 45.0, \"Organic\": 0, \"CategoryTypeEn\": \"Semi-soft Cheese\", \"MilkTypeEn\": \"Cow\", \"MilkTreatmentTypeEn\": \"Thermised\", \"FatLevel\": \"higher fat\"}, {\"ManufacturerProvCode\": \"QC\", \"ManufacturingTypeEn\": \"Artisan\", \"MoisturePercent\": 39.0, \"Organic\": 0, \"CategoryTypeEn\": \"Firm Cheese\", \"MilkTypeEn\": \"Ewe\", \"MilkTreatmentTypeEn\": \"Thermised\", \"FatLevel\": \"higher fat\"}, {\"ManufacturerProvCode\": \"NS\", \"ManufacturingTypeEn\": \"Industrial\", \"MoisturePercent\": 44.0, \"Organic\": 0, \"CategoryTypeEn\": \"Semi-soft Cheese\", \"MilkTypeEn\": \"Cow\", \"MilkTreatmentTypeEn\": \"Pasteurized\", \"FatLevel\": \"lower fat\"}, {\"ManufacturerProvCode\": \"QC\", \"ManufacturingTypeEn\": \"Industrial\", \"MoisturePercent\": 54.0, \"Organic\": 0, \"CategoryTypeEn\": \"Soft Cheese\", \"MilkTypeEn\": \"Cow\", \"MilkTreatmentTypeEn\": \"Pasteurized\", \"FatLevel\": \"lower fat\"}, {\"ManufacturerProvCode\": \"ON\", \"ManufacturingTypeEn\": \"Industrial\", \"MoisturePercent\": 54.0, \"Organic\": 0, \"CategoryTypeEn\": \"Firm Cheese\", \"MilkTypeEn\": \"Cow\", \"MilkTreatmentTypeEn\": \"Pasteurized\", \"FatLevel\": \"lower fat\"}, {\"ManufacturerProvCode\": \"QC\", \"ManufacturingTypeEn\": \"Farmstead\", \"MoisturePercent\": 46.0, \"Organic\": 0, \"CategoryTypeEn\": \"Semi-soft Cheese\", \"MilkTypeEn\": \"Cow\", \"MilkTreatmentTypeEn\": \"Pasteurized\", \"FatLevel\": \"lower fat\"}, {\"ManufacturerProvCode\": \"QC\", \"ManufacturingTypeEn\": \"Industrial\", \"MoisturePercent\": 41.0, \"Organic\": 0, \"CategoryTypeEn\": \"Firm Cheese\", \"MilkTypeEn\": \"Cow\", \"MilkTreatmentTypeEn\": \"Pasteurized\", \"FatLevel\": \"higher fat\"}, {\"ManufacturerProvCode\": \"QC\", \"ManufacturingTypeEn\": \"Industrial\", \"MoisturePercent\": 50.0, \"Organic\": 0, \"CategoryTypeEn\": \"Soft Cheese\", \"MilkTypeEn\": \"Cow\", \"MilkTreatmentTypeEn\": \"Pasteurized\", \"FatLevel\": \"lower fat\"}, {\"ManufacturerProvCode\": \"QC\", \"ManufacturingTypeEn\": \"Artisan\", \"MoisturePercent\": 50.0, \"Organic\": 0, \"CategoryTypeEn\": \"Semi-soft Cheese\", \"MilkTypeEn\": \"Cow and Goat\", \"MilkTreatmentTypeEn\": null, \"FatLevel\": \"lower fat\"}, {\"ManufacturerProvCode\": \"ON\", \"ManufacturingTypeEn\": \"Industrial\", \"MoisturePercent\": 27.0, \"Organic\": 0, \"CategoryTypeEn\": \"Soft Cheese\", \"MilkTypeEn\": \"Cow\", \"MilkTreatmentTypeEn\": \"Pasteurized\", \"FatLevel\": \"higher fat\"}, {\"ManufacturerProvCode\": \"QC\", \"ManufacturingTypeEn\": \"Artisan\", \"MoisturePercent\": 33.0, \"Organic\": 0, \"CategoryTypeEn\": \"Firm Cheese\", \"MilkTypeEn\": \"Goat\", \"MilkTreatmentTypeEn\": \"Pasteurized\", \"FatLevel\": \"higher fat\"}, {\"ManufacturerProvCode\": \"NB\", \"ManufacturingTypeEn\": \"Farmstead\", \"MoisturePercent\": 50.0, \"Organic\": 0, \"CategoryTypeEn\": \"Soft Cheese\", \"MilkTypeEn\": \"Goat\", \"MilkTreatmentTypeEn\": \"Pasteurized\", \"FatLevel\": \"lower fat\"}, {\"ManufacturerProvCode\": \"BC\", \"ManufacturingTypeEn\": \"Artisan\", \"MoisturePercent\": 41.0, \"Organic\": 0, \"CategoryTypeEn\": \"Firm Cheese\", \"MilkTypeEn\": \"Cow\", \"MilkTreatmentTypeEn\": \"Pasteurized\", \"FatLevel\": \"higher fat\"}, {\"ManufacturerProvCode\": \"BC\", \"ManufacturingTypeEn\": \"Artisan\", \"MoisturePercent\": 32.0, \"Organic\": 0, \"CategoryTypeEn\": \"Hard Cheese\", \"MilkTypeEn\": \"Cow\", \"MilkTreatmentTypeEn\": \"Thermised\", \"FatLevel\": \"lower fat\"}, {\"ManufacturerProvCode\": \"QC\", \"ManufacturingTypeEn\": \"Artisan\", \"MoisturePercent\": 44.0, \"Organic\": 0, \"CategoryTypeEn\": \"Soft Cheese\", \"MilkTypeEn\": \"Cow\", \"MilkTreatmentTypeEn\": \"Raw Milk\", \"FatLevel\": \"lower fat\"}, {\"ManufacturerProvCode\": \"ON\", \"ManufacturingTypeEn\": \"Industrial\", \"MoisturePercent\": 52.0, \"Organic\": 0, \"CategoryTypeEn\": \"Soft Cheese\", \"MilkTypeEn\": \"Cow\", \"MilkTreatmentTypeEn\": \"Pasteurized\", \"FatLevel\": \"lower fat\"}, {\"ManufacturerProvCode\": \"ON\", \"ManufacturingTypeEn\": \"Industrial\", \"MoisturePercent\": 74.0, \"Organic\": 0, \"CategoryTypeEn\": \"Fresh Cheese\", \"MilkTypeEn\": \"Cow\", \"MilkTreatmentTypeEn\": \"Pasteurized\", \"FatLevel\": \"lower fat\"}, {\"ManufacturerProvCode\": \"ON\", \"ManufacturingTypeEn\": \"Industrial\", \"MoisturePercent\": 40.0, \"Organic\": 0, \"CategoryTypeEn\": \"Semi-soft Cheese\", \"MilkTypeEn\": \"Cow\", \"MilkTreatmentTypeEn\": \"Pasteurized\", \"FatLevel\": \"higher fat\"}, {\"ManufacturerProvCode\": \"AB\", \"ManufacturingTypeEn\": \"Artisan\", \"MoisturePercent\": 31.5, \"Organic\": 0, \"CategoryTypeEn\": \"Fresh Cheese\", \"MilkTypeEn\": \"Cow\", \"MilkTreatmentTypeEn\": \"Pasteurized\", \"FatLevel\": \"higher fat\"}]}}, {\"mode\": \"vega-lite\"});\n",
       "</script>"
      ],
      "text/plain": [
       "alt.Chart(...)"
      ]
     },
     "execution_count": 7,
     "metadata": {},
     "output_type": "execute_result"
    }
   ],
   "source": [
    "# Create a bar chart to visualize the count of cheeses by milk type:\n",
    "\n",
    "milk_type_chart = alt.Chart(train_df).mark_bar().encode(\n",
    "    x=alt.X('count()', title='Count'),\n",
    "    y=alt.Y('MilkTypeEn', title='Milk Type', sort='-x'),\n",
    "    color='MilkTypeEn'\n",
    ").properties(\n",
    "    title='Count of Cheeses by Milk Type'\n",
    ")\n",
    "\n",
    "milk_type_chart"
   ]
  },
  {
   "cell_type": "code",
   "execution_count": 8,
   "id": "db2b7d51",
   "metadata": {
    "execution": {
     "iopub.execute_input": "2024-10-27T07:56:37.636766Z",
     "iopub.status.busy": "2024-10-27T07:56:37.635630Z",
     "iopub.status.idle": "2024-10-27T07:56:37.863771Z",
     "shell.execute_reply": "2024-10-27T07:56:37.862416Z"
    },
    "papermill": {
     "duration": 0.255619,
     "end_time": "2024-10-27T07:56:37.866658",
     "exception": false,
     "start_time": "2024-10-27T07:56:37.611039",
     "status": "completed"
    },
    "tags": []
   },
   "outputs": [
    {
     "data": {
      "image/png": "[encoded data removed]",
      "text/plain": [
       "<Figure size 800x600 with 1 Axes>"
      ]
     },
     "metadata": {},
     "output_type": "display_data"
    }
   ],
   "source": [
    "# Boxplot for MoisturePercent to check the outliers:\n",
    "\n",
    "plt.figure(figsize=(8, 6))\n",
    "plt.boxplot(train_df['MoisturePercent'].dropna(), vert=False)\n",
    "plt.title('Boxplot of MoisturePercent')\n",
    "plt.xlabel('MoisturePercent')\n",
    "plt.show()"
   ]
  },
  {
   "cell_type": "code",
   "execution_count": 9,
   "id": "a7cffbcb",
   "metadata": {
    "execution": {
     "iopub.execute_input": "2024-10-27T07:56:37.917156Z",
     "iopub.status.busy": "2024-10-27T07:56:37.916705Z",
     "iopub.status.idle": "2024-10-27T07:56:38.157096Z",
     "shell.execute_reply": "2024-10-27T07:56:38.155873Z"
    },
    "papermill": {
     "duration": 0.268431,
     "end_time": "2024-10-27T07:56:38.159811",
     "exception": false,
     "start_time": "2024-10-27T07:56:37.891380",
     "status": "completed"
    },
    "tags": []
   },
   "outputs": [
    {
     "data": {
      "image/png": "[encoded data removed]",
      "text/plain": [
       "<Figure size 800x600 with 1 Axes>"
      ]
     },
     "metadata": {},
     "output_type": "display_data"
    }
   ],
   "source": [
    "# Plotting the distribution of the target variable FatLevel:\n",
    "\n",
    "plt.figure(figsize=(8, 6))\n",
    "train_df['FatLevel'].value_counts().plot(kind='bar', color='orange')\n",
    "plt.title('Distribution of FatLevel', fontsize=14)\n",
    "plt.xlabel('FatLevel Categories', fontsize=12)\n",
    "plt.ylabel('Count', fontsize=12)\n",
    "plt.xticks(rotation=45)\n",
    "plt.show()"
   ]
  },
  {
   "cell_type": "markdown",
   "id": "f0ba948c",
   "metadata": {
    "papermill": {
     "duration": 0.023723,
     "end_time": "2024-10-27T07:56:38.207611",
     "exception": false,
     "start_time": "2024-10-27T07:56:38.183888",
     "status": "completed"
    },
    "tags": []
   },
   "source": [
    "**Data Exploration:**\n",
    "\n",
    "1. Most features are categorical and will need to be transformed using One-Hot Encoding before applying machine learning models.\n",
    "\n",
    "2. The MoisturePercent column has 12 missing values, CategoryTypeEn has 20 missing values and the MilkTreatmentTypeEn column has 52 missing values.\n",
    "Imputation techniques will be necessary to handle missing data before building the model.\n",
    "\n",
    "3. Several features exhibit unbalance:\n",
    "- ManufacturerProvCode is highly skewed toward Quebec (QC).\n",
    "- Organic is heavily skewed toward non-organic cheeses.\n",
    "- MilkTypeEn is skewed toward cow’s milk.\n",
    "\n",
    "3. The target variable FatLevel is imbalanced with 548 entries for \"lower fat\" and 285 entries for \"higher fat.\" This imbalance might affect model performance and will need to be addressed using class weighting in the models.\n",
    "\n",
    "4. In MoisturePercent plot we have outliers on both the low and high ends of the feature. I'll consider the outliers as valid data points that represent rare but possible values, and I will keep them since they provide important information about the data."
   ]
  },
  {
   "cell_type": "markdown",
   "id": "2373ca2e",
   "metadata": {
    "papermill": {
     "duration": 0.024807,
     "end_time": "2024-10-27T07:56:38.257084",
     "exception": false,
     "start_time": "2024-10-27T07:56:38.232277",
     "status": "completed"
    },
    "tags": []
   },
   "source": [
    "**Evaluation metrics we will use:**\n",
    "1. **Recall** - focuses on the model’s ability to correctly identify all \"Higher Fat\" cheeses. In this case, misclassifying a \"Higher Fat\" cheese as \"Lower Fat\" could lead to more serious consequences, such as misleading consumers with dietary concerns.\n",
    "\n",
    "2. **F1-Score** - provides a balanced metric that is particularly useful for imbalanced datasets. Since the dataset has more \"lower fat\" cheeses than \"higher fat,\" this will help measure the model’s ability to handle both classes effectively.\n",
    "\n",
    "3. **ROC-AUC** - will determine how well the model can distinguish between the \"lower fat\" and \"higher fat\" categories. Given the imbalance in the dataset, this metric will be useful in evaluating the model’s overall classification performance.\n",
    "\n",
    "In this case, **Precision and Accuracy** are not as helpful because we are more concerned with correctly identifying all \"higher fat\" cheeses, which requires focusing on recall to minimize false negatives. Additionally, due to class imbalance (more \"lower fat\" cheeses), accuracy could be misleading, as a model might predict mostly \"lower fat\" and still achieve high accuracy without effectively identifying \"higher fat\" cheeses."
   ]
  },
  {
   "cell_type": "markdown",
   "id": "6ec133e0",
   "metadata": {
    "papermill": {
     "duration": 0.023677,
     "end_time": "2024-10-27T07:56:38.305042",
     "exception": false,
     "start_time": "2024-10-27T07:56:38.281365",
     "status": "completed"
    },
    "tags": []
   },
   "source": [
    "**From the dataset, we have identified three main types of features that require different preprocessing methods:**\n",
    "\n",
    "1. **Numeric Features:** Continuous variables that require scaling and potentially handling missing values.\n",
    "\n",
    "2. **Categorical Features:** Non-numeric data that represents categories and requires encoding into a numerical format (using one-hot encoding).\n",
    "\n",
    "3. **Binary Features:** Features that contain only two possible values (0 or 1). We will encode binary features similarly to categorical features, with one value dropped to avoid multicollinearity."
   ]
  },
  {
   "cell_type": "code",
   "execution_count": 10,
   "id": "9e3258da",
   "metadata": {
    "execution": {
     "iopub.execute_input": "2024-10-27T07:56:38.356300Z",
     "iopub.status.busy": "2024-10-27T07:56:38.355215Z",
     "iopub.status.idle": "2024-10-27T07:56:38.361416Z",
     "shell.execute_reply": "2024-10-27T07:56:38.360225Z"
    },
    "papermill": {
     "duration": 0.034531,
     "end_time": "2024-10-27T07:56:38.363895",
     "exception": false,
     "start_time": "2024-10-27T07:56:38.329364",
     "status": "completed"
    },
    "tags": []
   },
   "outputs": [],
   "source": [
    "# Define the numeric, categorical, and binary features for the model:\n",
    "\n",
    "numeric_features = ['MoisturePercent']\n",
    "categorical_features = ['ManufacturerProvCode', 'ManufacturingTypeEn', 'CategoryTypeEn', 'MilkTypeEn', 'MilkTreatmentTypeEn']\n",
    "binary_features = ['Organic']"
   ]
  },
  {
   "cell_type": "code",
   "execution_count": 11,
   "id": "5ee3ffd9",
   "metadata": {
    "execution": {
     "iopub.execute_input": "2024-10-27T07:56:38.415915Z",
     "iopub.status.busy": "2024-10-27T07:56:38.415467Z",
     "iopub.status.idle": "2024-10-27T07:56:38.423061Z",
     "shell.execute_reply": "2024-10-27T07:56:38.421650Z"
    },
    "papermill": {
     "duration": 0.037167,
     "end_time": "2024-10-27T07:56:38.426077",
     "exception": false,
     "start_time": "2024-10-27T07:56:38.388910",
     "status": "completed"
    },
    "tags": []
   },
   "outputs": [],
   "source": [
    "# Create a preprocessor that applies appropriate transformations to all features:\n",
    "\n",
    "preprocessor = make_column_transformer(\n",
    "    (make_pipeline(SimpleImputer(strategy=\"mean\"), StandardScaler()), numeric_features),\n",
    "    (make_pipeline(SimpleImputer(strategy=\"most_frequent\"), OneHotEncoder(handle_unknown=\"ignore\")), categorical_features),\n",
    "    (OneHotEncoder(handle_unknown=\"error\", drop=\"if_binary\"), binary_features)\n",
    ")"
   ]
  },
  {
   "cell_type": "code",
   "execution_count": 12,
   "id": "97ac91b3",
   "metadata": {
    "execution": {
     "iopub.execute_input": "2024-10-27T07:56:38.481824Z",
     "iopub.status.busy": "2024-10-27T07:56:38.481318Z",
     "iopub.status.idle": "2024-10-27T07:56:38.491918Z",
     "shell.execute_reply": "2024-10-27T07:56:38.489953Z"
    },
    "papermill": {
     "duration": 0.040298,
     "end_time": "2024-10-27T07:56:38.495054",
     "exception": false,
     "start_time": "2024-10-27T07:56:38.454756",
     "status": "completed"
    },
    "tags": []
   },
   "outputs": [],
   "source": [
    "# Separate feature vectors from the target:\n",
    "\n",
    "X_train = train_df.drop(columns=['FatLevel'])\n",
    "y_train = train_df['FatLevel']\n",
    "\n",
    "X_test = test_df.drop(columns=['FatLevel'])\n",
    "y_test = test_df['FatLevel']"
   ]
  },
  {
   "cell_type": "markdown",
   "id": "fe512ddf",
   "metadata": {
    "papermill": {
     "duration": 0.024919,
     "end_time": "2024-10-27T07:56:38.545633",
     "exception": false,
     "start_time": "2024-10-27T07:56:38.520714",
     "status": "completed"
    },
    "tags": []
   },
   "source": [
    "We need to encode the target variable; otherwise, the metrics will fail because they can't determine which label should be treated as the \"positive\" class."
   ]
  },
  {
   "cell_type": "code",
   "execution_count": 13,
   "id": "c12c426d",
   "metadata": {
    "execution": {
     "iopub.execute_input": "2024-10-27T07:56:38.600110Z",
     "iopub.status.busy": "2024-10-27T07:56:38.598762Z",
     "iopub.status.idle": "2024-10-27T07:56:38.607333Z",
     "shell.execute_reply": "2024-10-27T07:56:38.605859Z"
    },
    "papermill": {
     "duration": 0.037725,
     "end_time": "2024-10-27T07:56:38.610336",
     "exception": false,
     "start_time": "2024-10-27T07:56:38.572611",
     "status": "completed"
    },
    "tags": []
   },
   "outputs": [],
   "source": [
    "# Encode the target labels:\n",
    "\n",
    "label_encoder = LabelEncoder()\n",
    "y_train_encoded = label_encoder.fit_transform(y_train)\n",
    "y_test_encoded = label_encoder.transform(y_test)"
   ]
  },
  {
   "cell_type": "markdown",
   "id": "55068115",
   "metadata": {
    "papermill": {
     "duration": 0.024065,
     "end_time": "2024-10-27T07:56:38.658997",
     "exception": false,
     "start_time": "2024-10-27T07:56:38.634932",
     "status": "completed"
    },
    "tags": []
   },
   "source": [
    "# Choice of Classification Algorithms:\n",
    "\n",
    "Several classification algorithms were chosen based on their distinct properties. \n",
    "\n",
    "1. **Dummy Classifier** was initially used to set a baseline performance for comparison. \n",
    "2. **Logistic Regression** was included as a linear model due to its simplicity and effectiveness for binary classification.\n",
    "3. **Random Forest** was selected for its ability to handle high-dimensional data and provide feature importance analysis.\n",
    "4. **Support Vector Machines (SVM)** were evaluated for their capacity to handle non-linear relationships.\n",
    "5. **Gradient Boosting** was tested due to its ability to iteratively improve model performance by combining weak learners."
   ]
  },
  {
   "cell_type": "code",
   "execution_count": 14,
   "id": "98d61ca8",
   "metadata": {
    "execution": {
     "iopub.execute_input": "2024-10-27T07:56:38.711271Z",
     "iopub.status.busy": "2024-10-27T07:56:38.710654Z",
     "iopub.status.idle": "2024-10-27T07:56:38.830126Z",
     "shell.execute_reply": "2024-10-27T07:56:38.828651Z"
    },
    "papermill": {
     "duration": 0.150427,
     "end_time": "2024-10-27T07:56:38.833558",
     "exception": false,
     "start_time": "2024-10-27T07:56:38.683131",
     "status": "completed"
    },
    "tags": []
   },
   "outputs": [
    {
     "data": {
      "text/html": [
       "<div>\n",
       "<style scoped>\n",
       "    .dataframe tbody tr th:only-of-type {\n",
       "        vertical-align: middle;\n",
       "    }\n",
       "\n",
       "    .dataframe tbody tr th {\n",
       "        vertical-align: top;\n",
       "    }\n",
       "\n",
       "    .dataframe thead th {\n",
       "        text-align: right;\n",
       "    }\n",
       "</style>\n",
       "<table border=\"1\" class=\"dataframe\">\n",
       "  <thead>\n",
       "    <tr style=\"text-align: right;\">\n",
       "      <th></th>\n",
       "      <th>fit_time</th>\n",
       "      <th>score_time</th>\n",
       "      <th>test_accuracy</th>\n",
       "      <th>train_accuracy</th>\n",
       "      <th>test_f1</th>\n",
       "      <th>train_f1</th>\n",
       "      <th>test_recall</th>\n",
       "      <th>train_recall</th>\n",
       "      <th>test_precision</th>\n",
       "      <th>train_precision</th>\n",
       "    </tr>\n",
       "  </thead>\n",
       "  <tbody>\n",
       "    <tr>\n",
       "      <th>0</th>\n",
       "      <td>0.001409</td>\n",
       "      <td>0.007280</td>\n",
       "      <td>0.580838</td>\n",
       "      <td>0.566066</td>\n",
       "      <td>0.684685</td>\n",
       "      <td>0.671217</td>\n",
       "      <td>0.690909</td>\n",
       "      <td>0.673516</td>\n",
       "      <td>0.678571</td>\n",
       "      <td>0.668934</td>\n",
       "    </tr>\n",
       "    <tr>\n",
       "      <th>1</th>\n",
       "      <td>0.001046</td>\n",
       "      <td>0.008588</td>\n",
       "      <td>0.604790</td>\n",
       "      <td>0.566066</td>\n",
       "      <td>0.702703</td>\n",
       "      <td>0.671217</td>\n",
       "      <td>0.709091</td>\n",
       "      <td>0.673516</td>\n",
       "      <td>0.696429</td>\n",
       "      <td>0.668934</td>\n",
       "    </tr>\n",
       "    <tr>\n",
       "      <th>2</th>\n",
       "      <td>0.001001</td>\n",
       "      <td>0.007409</td>\n",
       "      <td>0.473054</td>\n",
       "      <td>0.569069</td>\n",
       "      <td>0.603604</td>\n",
       "      <td>0.673493</td>\n",
       "      <td>0.609091</td>\n",
       "      <td>0.675799</td>\n",
       "      <td>0.598214</td>\n",
       "      <td>0.671202</td>\n",
       "    </tr>\n",
       "    <tr>\n",
       "      <th>3</th>\n",
       "      <td>0.001828</td>\n",
       "      <td>0.009102</td>\n",
       "      <td>0.493976</td>\n",
       "      <td>0.562219</td>\n",
       "      <td>0.618182</td>\n",
       "      <td>0.668934</td>\n",
       "      <td>0.623853</td>\n",
       "      <td>0.671982</td>\n",
       "      <td>0.612613</td>\n",
       "      <td>0.665914</td>\n",
       "    </tr>\n",
       "    <tr>\n",
       "      <th>4</th>\n",
       "      <td>0.000988</td>\n",
       "      <td>0.008983</td>\n",
       "      <td>0.566265</td>\n",
       "      <td>0.568216</td>\n",
       "      <td>0.672727</td>\n",
       "      <td>0.673469</td>\n",
       "      <td>0.678899</td>\n",
       "      <td>0.676538</td>\n",
       "      <td>0.666667</td>\n",
       "      <td>0.670429</td>\n",
       "    </tr>\n",
       "  </tbody>\n",
       "</table>\n",
       "</div>"
      ],
      "text/plain": [
       "   fit_time  score_time  test_accuracy  train_accuracy   test_f1  train_f1  \\\n",
       "0  0.001409    0.007280       0.580838        0.566066  0.684685  0.671217   \n",
       "1  0.001046    0.008588       0.604790        0.566066  0.702703  0.671217   \n",
       "2  0.001001    0.007409       0.473054        0.569069  0.603604  0.673493   \n",
       "3  0.001828    0.009102       0.493976        0.562219  0.618182  0.668934   \n",
       "4  0.000988    0.008983       0.566265        0.568216  0.672727  0.673469   \n",
       "\n",
       "   test_recall  train_recall  test_precision  train_precision  \n",
       "0     0.690909      0.673516        0.678571         0.668934  \n",
       "1     0.709091      0.673516        0.696429         0.668934  \n",
       "2     0.609091      0.675799        0.598214         0.671202  \n",
       "3     0.623853      0.671982        0.612613         0.665914  \n",
       "4     0.678899      0.676538        0.666667         0.670429  "
      ]
     },
     "execution_count": 14,
     "metadata": {},
     "output_type": "execute_result"
    }
   ],
   "source": [
    "# Train the baseline model:\n",
    "\n",
    "dummy_clf = DummyClassifier(strategy='stratified', random_state=123)\n",
    "scoring = ['accuracy', 'f1', 'recall', 'precision']\n",
    "dummy_scores = cross_validate(dummy_clf, X_train, y_train_encoded, scoring=scoring, cv=5, return_train_score=True)\n",
    "\n",
    "dummy_scores = pd.DataFrame(dummy_scores)\n",
    "dummy_scores"
   ]
  },
  {
   "cell_type": "code",
   "execution_count": 15,
   "id": "ce26b063",
   "metadata": {
    "execution": {
     "iopub.execute_input": "2024-10-27T07:56:38.886612Z",
     "iopub.status.busy": "2024-10-27T07:56:38.886128Z",
     "iopub.status.idle": "2024-10-27T07:56:38.897164Z",
     "shell.execute_reply": "2024-10-27T07:56:38.895633Z"
    },
    "papermill": {
     "duration": 0.042211,
     "end_time": "2024-10-27T07:56:38.900276",
     "exception": false,
     "start_time": "2024-10-27T07:56:38.858065",
     "status": "completed"
    },
    "tags": []
   },
   "outputs": [
    {
     "data": {
      "text/plain": [
       "fit_time           0.001255\n",
       "score_time         0.008272\n",
       "test_accuracy      0.543785\n",
       "train_accuracy     0.566327\n",
       "test_f1            0.656380\n",
       "train_f1           0.671666\n",
       "test_recall        0.662369\n",
       "train_recall       0.674270\n",
       "test_precision     0.650499\n",
       "train_precision    0.669083\n",
       "dtype: float64"
      ]
     },
     "execution_count": 15,
     "metadata": {},
     "output_type": "execute_result"
    }
   ],
   "source": [
    "dummy_mean = dummy_scores.mean()\n",
    "dummy_mean"
   ]
  },
  {
   "cell_type": "markdown",
   "id": "e877e864",
   "metadata": {
    "papermill": {
     "duration": 0.028028,
     "end_time": "2024-10-27T07:56:38.955076",
     "exception": false,
     "start_time": "2024-10-27T07:56:38.927048",
     "status": "completed"
    },
    "tags": []
   },
   "source": [
    "We don't evaluate the model's performance based on Accuracy and Precision, but I would like to keep these metrics to see the full picture"
   ]
  },
  {
   "cell_type": "code",
   "execution_count": 16,
   "id": "17f0e1f3",
   "metadata": {
    "execution": {
     "iopub.execute_input": "2024-10-27T07:56:39.006669Z",
     "iopub.status.busy": "2024-10-27T07:56:39.006192Z",
     "iopub.status.idle": "2024-10-27T07:56:39.448912Z",
     "shell.execute_reply": "2024-10-27T07:56:39.447381Z"
    },
    "papermill": {
     "duration": 0.47226,
     "end_time": "2024-10-27T07:56:39.452439",
     "exception": false,
     "start_time": "2024-10-27T07:56:38.980179",
     "status": "completed"
    },
    "tags": []
   },
   "outputs": [
    {
     "data": {
      "text/html": [
       "<div>\n",
       "<style scoped>\n",
       "    .dataframe tbody tr th:only-of-type {\n",
       "        vertical-align: middle;\n",
       "    }\n",
       "\n",
       "    .dataframe tbody tr th {\n",
       "        vertical-align: top;\n",
       "    }\n",
       "\n",
       "    .dataframe thead th {\n",
       "        text-align: right;\n",
       "    }\n",
       "</style>\n",
       "<table border=\"1\" class=\"dataframe\">\n",
       "  <thead>\n",
       "    <tr style=\"text-align: right;\">\n",
       "      <th></th>\n",
       "      <th>fit_time</th>\n",
       "      <th>score_time</th>\n",
       "      <th>test_accuracy</th>\n",
       "      <th>train_accuracy</th>\n",
       "      <th>test_f1</th>\n",
       "      <th>train_f1</th>\n",
       "      <th>test_recall</th>\n",
       "      <th>train_recall</th>\n",
       "      <th>test_precision</th>\n",
       "      <th>train_precision</th>\n",
       "    </tr>\n",
       "  </thead>\n",
       "  <tbody>\n",
       "    <tr>\n",
       "      <th>0</th>\n",
       "      <td>0.059590</td>\n",
       "      <td>0.016239</td>\n",
       "      <td>0.766467</td>\n",
       "      <td>0.765766</td>\n",
       "      <td>0.813397</td>\n",
       "      <td>0.808824</td>\n",
       "      <td>0.772727</td>\n",
       "      <td>0.753425</td>\n",
       "      <td>0.858586</td>\n",
       "      <td>0.873016</td>\n",
       "    </tr>\n",
       "    <tr>\n",
       "      <th>1</th>\n",
       "      <td>0.039900</td>\n",
       "      <td>0.014651</td>\n",
       "      <td>0.814371</td>\n",
       "      <td>0.762763</td>\n",
       "      <td>0.853081</td>\n",
       "      <td>0.808252</td>\n",
       "      <td>0.818182</td>\n",
       "      <td>0.760274</td>\n",
       "      <td>0.891089</td>\n",
       "      <td>0.862694</td>\n",
       "    </tr>\n",
       "    <tr>\n",
       "      <th>2</th>\n",
       "      <td>0.044374</td>\n",
       "      <td>0.016696</td>\n",
       "      <td>0.700599</td>\n",
       "      <td>0.792793</td>\n",
       "      <td>0.754902</td>\n",
       "      <td>0.833735</td>\n",
       "      <td>0.700000</td>\n",
       "      <td>0.789954</td>\n",
       "      <td>0.819149</td>\n",
       "      <td>0.882653</td>\n",
       "    </tr>\n",
       "    <tr>\n",
       "      <th>3</th>\n",
       "      <td>0.043198</td>\n",
       "      <td>0.014518</td>\n",
       "      <td>0.771084</td>\n",
       "      <td>0.781109</td>\n",
       "      <td>0.815534</td>\n",
       "      <td>0.823671</td>\n",
       "      <td>0.770642</td>\n",
       "      <td>0.776765</td>\n",
       "      <td>0.865979</td>\n",
       "      <td>0.876607</td>\n",
       "    </tr>\n",
       "    <tr>\n",
       "      <th>4</th>\n",
       "      <td>0.044106</td>\n",
       "      <td>0.018863</td>\n",
       "      <td>0.759036</td>\n",
       "      <td>0.770615</td>\n",
       "      <td>0.803922</td>\n",
       "      <td>0.812729</td>\n",
       "      <td>0.752294</td>\n",
       "      <td>0.756264</td>\n",
       "      <td>0.863158</td>\n",
       "      <td>0.878307</td>\n",
       "    </tr>\n",
       "  </tbody>\n",
       "</table>\n",
       "</div>"
      ],
      "text/plain": [
       "   fit_time  score_time  test_accuracy  train_accuracy   test_f1  train_f1  \\\n",
       "0  0.059590    0.016239       0.766467        0.765766  0.813397  0.808824   \n",
       "1  0.039900    0.014651       0.814371        0.762763  0.853081  0.808252   \n",
       "2  0.044374    0.016696       0.700599        0.792793  0.754902  0.833735   \n",
       "3  0.043198    0.014518       0.771084        0.781109  0.815534  0.823671   \n",
       "4  0.044106    0.018863       0.759036        0.770615  0.803922  0.812729   \n",
       "\n",
       "   test_recall  train_recall  test_precision  train_precision  \n",
       "0     0.772727      0.753425        0.858586         0.873016  \n",
       "1     0.818182      0.760274        0.891089         0.862694  \n",
       "2     0.700000      0.789954        0.819149         0.882653  \n",
       "3     0.770642      0.776765        0.865979         0.876607  \n",
       "4     0.752294      0.756264        0.863158         0.878307  "
      ]
     },
     "execution_count": 16,
     "metadata": {},
     "output_type": "execute_result"
    }
   ],
   "source": [
    "# Train the basic linear model:\n",
    "\n",
    "log_reg = make_pipeline(\n",
    "    preprocessor,\n",
    "    LogisticRegression(class_weight=\"balanced\", random_state=123)\n",
    ")\n",
    "log_reg_scores = cross_validate(log_reg, X_train, y_train_encoded, scoring=scoring, cv=5,return_train_score=True)\n",
    "log_reg_scores = pd.DataFrame(log_reg_scores)\n",
    "log_reg_scores"
   ]
  },
  {
   "cell_type": "code",
   "execution_count": 17,
   "id": "e449a592",
   "metadata": {
    "execution": {
     "iopub.execute_input": "2024-10-27T07:56:39.510032Z",
     "iopub.status.busy": "2024-10-27T07:56:39.509174Z",
     "iopub.status.idle": "2024-10-27T07:56:39.519540Z",
     "shell.execute_reply": "2024-10-27T07:56:39.518244Z"
    },
    "papermill": {
     "duration": 0.040273,
     "end_time": "2024-10-27T07:56:39.522103",
     "exception": false,
     "start_time": "2024-10-27T07:56:39.481830",
     "status": "completed"
    },
    "tags": []
   },
   "outputs": [
    {
     "data": {
      "text/plain": [
       "fit_time           0.046234\n",
       "score_time         0.016193\n",
       "test_accuracy      0.762312\n",
       "train_accuracy     0.774609\n",
       "test_f1            0.808167\n",
       "train_f1           0.817442\n",
       "test_recall        0.762769\n",
       "train_recall       0.767337\n",
       "test_precision     0.859592\n",
       "train_precision    0.874655\n",
       "dtype: float64"
      ]
     },
     "execution_count": 17,
     "metadata": {},
     "output_type": "execute_result"
    }
   ],
   "source": [
    "log_reg_mean = log_reg_scores.mean()\n",
    "log_reg_mean"
   ]
  },
  {
   "cell_type": "code",
   "execution_count": 18,
   "id": "d01a2f8d",
   "metadata": {
    "execution": {
     "iopub.execute_input": "2024-10-27T07:56:39.595658Z",
     "iopub.status.busy": "2024-10-27T07:56:39.595168Z",
     "iopub.status.idle": "2024-10-27T07:56:41.896298Z",
     "shell.execute_reply": "2024-10-27T07:56:41.894754Z"
    },
    "papermill": {
     "duration": 2.34525,
     "end_time": "2024-10-27T07:56:41.899473",
     "exception": false,
     "start_time": "2024-10-27T07:56:39.554223",
     "status": "completed"
    },
    "tags": []
   },
   "outputs": [
    {
     "data": {
      "text/html": [
       "<div>\n",
       "<style scoped>\n",
       "    .dataframe tbody tr th:only-of-type {\n",
       "        vertical-align: middle;\n",
       "    }\n",
       "\n",
       "    .dataframe tbody tr th {\n",
       "        vertical-align: top;\n",
       "    }\n",
       "\n",
       "    .dataframe thead th {\n",
       "        text-align: right;\n",
       "    }\n",
       "</style>\n",
       "<table border=\"1\" class=\"dataframe\">\n",
       "  <thead>\n",
       "    <tr style=\"text-align: right;\">\n",
       "      <th></th>\n",
       "      <th>fit_time</th>\n",
       "      <th>score_time</th>\n",
       "      <th>test_accuracy</th>\n",
       "      <th>train_accuracy</th>\n",
       "      <th>test_f1</th>\n",
       "      <th>train_f1</th>\n",
       "      <th>test_recall</th>\n",
       "      <th>train_recall</th>\n",
       "      <th>test_precision</th>\n",
       "      <th>train_precision</th>\n",
       "    </tr>\n",
       "  </thead>\n",
       "  <tbody>\n",
       "    <tr>\n",
       "      <th>0</th>\n",
       "      <td>0.402170</td>\n",
       "      <td>0.025374</td>\n",
       "      <td>0.820359</td>\n",
       "      <td>0.953453</td>\n",
       "      <td>0.858491</td>\n",
       "      <td>0.964245</td>\n",
       "      <td>0.827273</td>\n",
       "      <td>0.954338</td>\n",
       "      <td>0.892157</td>\n",
       "      <td>0.974359</td>\n",
       "    </tr>\n",
       "    <tr>\n",
       "      <th>1</th>\n",
       "      <td>0.411633</td>\n",
       "      <td>0.031976</td>\n",
       "      <td>0.820359</td>\n",
       "      <td>0.951952</td>\n",
       "      <td>0.859813</td>\n",
       "      <td>0.962791</td>\n",
       "      <td>0.836364</td>\n",
       "      <td>0.945205</td>\n",
       "      <td>0.884615</td>\n",
       "      <td>0.981043</td>\n",
       "    </tr>\n",
       "    <tr>\n",
       "      <th>2</th>\n",
       "      <td>0.373568</td>\n",
       "      <td>0.026856</td>\n",
       "      <td>0.832335</td>\n",
       "      <td>0.948949</td>\n",
       "      <td>0.871560</td>\n",
       "      <td>0.960739</td>\n",
       "      <td>0.863636</td>\n",
       "      <td>0.949772</td>\n",
       "      <td>0.879630</td>\n",
       "      <td>0.971963</td>\n",
       "    </tr>\n",
       "    <tr>\n",
       "      <th>3</th>\n",
       "      <td>0.383328</td>\n",
       "      <td>0.025575</td>\n",
       "      <td>0.837349</td>\n",
       "      <td>0.943028</td>\n",
       "      <td>0.875576</td>\n",
       "      <td>0.955814</td>\n",
       "      <td>0.871560</td>\n",
       "      <td>0.936219</td>\n",
       "      <td>0.879630</td>\n",
       "      <td>0.976247</td>\n",
       "    </tr>\n",
       "    <tr>\n",
       "      <th>4</th>\n",
       "      <td>0.378027</td>\n",
       "      <td>0.027528</td>\n",
       "      <td>0.807229</td>\n",
       "      <td>0.947526</td>\n",
       "      <td>0.847619</td>\n",
       "      <td>0.959350</td>\n",
       "      <td>0.816514</td>\n",
       "      <td>0.940774</td>\n",
       "      <td>0.881188</td>\n",
       "      <td>0.978673</td>\n",
       "    </tr>\n",
       "  </tbody>\n",
       "</table>\n",
       "</div>"
      ],
      "text/plain": [
       "   fit_time  score_time  test_accuracy  train_accuracy   test_f1  train_f1  \\\n",
       "0  0.402170    0.025374       0.820359        0.953453  0.858491  0.964245   \n",
       "1  0.411633    0.031976       0.820359        0.951952  0.859813  0.962791   \n",
       "2  0.373568    0.026856       0.832335        0.948949  0.871560  0.960739   \n",
       "3  0.383328    0.025575       0.837349        0.943028  0.875576  0.955814   \n",
       "4  0.378027    0.027528       0.807229        0.947526  0.847619  0.959350   \n",
       "\n",
       "   test_recall  train_recall  test_precision  train_precision  \n",
       "0     0.827273      0.954338        0.892157         0.974359  \n",
       "1     0.836364      0.945205        0.884615         0.981043  \n",
       "2     0.863636      0.949772        0.879630         0.971963  \n",
       "3     0.871560      0.936219        0.879630         0.976247  \n",
       "4     0.816514      0.940774        0.881188         0.978673  "
      ]
     },
     "execution_count": 18,
     "metadata": {},
     "output_type": "execute_result"
    }
   ],
   "source": [
    "# Train the tree model:\n",
    "\n",
    "rf_pipe = make_pipeline(\n",
    "    preprocessor,\n",
    "    RandomForestClassifier(class_weight=\"balanced\", random_state=123)\n",
    ")\n",
    "rf_scores = cross_validate(rf_pipe, X_train, y_train_encoded, scoring=scoring, cv=5,return_train_score=True)\n",
    "rf_scores = pd.DataFrame(rf_scores)\n",
    "rf_scores"
   ]
  },
  {
   "cell_type": "code",
   "execution_count": 19,
   "id": "721c64f4",
   "metadata": {
    "execution": {
     "iopub.execute_input": "2024-10-27T07:56:41.952754Z",
     "iopub.status.busy": "2024-10-27T07:56:41.951712Z",
     "iopub.status.idle": "2024-10-27T07:56:41.962094Z",
     "shell.execute_reply": "2024-10-27T07:56:41.960774Z"
    },
    "papermill": {
     "duration": 0.039824,
     "end_time": "2024-10-27T07:56:41.964718",
     "exception": false,
     "start_time": "2024-10-27T07:56:41.924894",
     "status": "completed"
    },
    "tags": []
   },
   "outputs": [
    {
     "data": {
      "text/plain": [
       "fit_time           0.389745\n",
       "score_time         0.027462\n",
       "test_accuracy      0.823526\n",
       "train_accuracy     0.948982\n",
       "test_f1            0.862612\n",
       "train_f1           0.960588\n",
       "test_recall        0.843069\n",
       "train_recall       0.945262\n",
       "test_precision     0.883444\n",
       "train_precision    0.976457\n",
       "dtype: float64"
      ]
     },
     "execution_count": 19,
     "metadata": {},
     "output_type": "execute_result"
    }
   ],
   "source": [
    "rf_mean = rf_scores.mean()\n",
    "rf_mean"
   ]
  },
  {
   "cell_type": "code",
   "execution_count": 20,
   "id": "a380b19e",
   "metadata": {
    "execution": {
     "iopub.execute_input": "2024-10-27T07:56:42.019231Z",
     "iopub.status.busy": "2024-10-27T07:56:42.018202Z",
     "iopub.status.idle": "2024-10-27T07:56:42.488095Z",
     "shell.execute_reply": "2024-10-27T07:56:42.486877Z"
    },
    "papermill": {
     "duration": 0.500957,
     "end_time": "2024-10-27T07:56:42.491637",
     "exception": false,
     "start_time": "2024-10-27T07:56:41.990680",
     "status": "completed"
    },
    "tags": []
   },
   "outputs": [
    {
     "data": {
      "text/html": [
       "<div>\n",
       "<style scoped>\n",
       "    .dataframe tbody tr th:only-of-type {\n",
       "        vertical-align: middle;\n",
       "    }\n",
       "\n",
       "    .dataframe tbody tr th {\n",
       "        vertical-align: top;\n",
       "    }\n",
       "\n",
       "    .dataframe thead th {\n",
       "        text-align: right;\n",
       "    }\n",
       "</style>\n",
       "<table border=\"1\" class=\"dataframe\">\n",
       "  <thead>\n",
       "    <tr style=\"text-align: right;\">\n",
       "      <th></th>\n",
       "      <th>fit_time</th>\n",
       "      <th>score_time</th>\n",
       "      <th>test_accuracy</th>\n",
       "      <th>train_accuracy</th>\n",
       "      <th>test_f1</th>\n",
       "      <th>train_f1</th>\n",
       "      <th>test_recall</th>\n",
       "      <th>train_recall</th>\n",
       "      <th>test_precision</th>\n",
       "      <th>train_precision</th>\n",
       "    </tr>\n",
       "  </thead>\n",
       "  <tbody>\n",
       "    <tr>\n",
       "      <th>0</th>\n",
       "      <td>0.037776</td>\n",
       "      <td>0.018258</td>\n",
       "      <td>0.826347</td>\n",
       "      <td>0.813814</td>\n",
       "      <td>0.857143</td>\n",
       "      <td>0.848039</td>\n",
       "      <td>0.790909</td>\n",
       "      <td>0.789954</td>\n",
       "      <td>0.935484</td>\n",
       "      <td>0.915344</td>\n",
       "    </tr>\n",
       "    <tr>\n",
       "      <th>1</th>\n",
       "      <td>0.038231</td>\n",
       "      <td>0.017983</td>\n",
       "      <td>0.790419</td>\n",
       "      <td>0.822823</td>\n",
       "      <td>0.830918</td>\n",
       "      <td>0.853960</td>\n",
       "      <td>0.781818</td>\n",
       "      <td>0.787671</td>\n",
       "      <td>0.886598</td>\n",
       "      <td>0.932432</td>\n",
       "    </tr>\n",
       "    <tr>\n",
       "      <th>2</th>\n",
       "      <td>0.038348</td>\n",
       "      <td>0.018626</td>\n",
       "      <td>0.754491</td>\n",
       "      <td>0.831832</td>\n",
       "      <td>0.800000</td>\n",
       "      <td>0.860697</td>\n",
       "      <td>0.745455</td>\n",
       "      <td>0.789954</td>\n",
       "      <td>0.863158</td>\n",
       "      <td>0.945355</td>\n",
       "    </tr>\n",
       "    <tr>\n",
       "      <th>3</th>\n",
       "      <td>0.036992</td>\n",
       "      <td>0.018178</td>\n",
       "      <td>0.831325</td>\n",
       "      <td>0.818591</td>\n",
       "      <td>0.861386</td>\n",
       "      <td>0.852259</td>\n",
       "      <td>0.798165</td>\n",
       "      <td>0.794989</td>\n",
       "      <td>0.935484</td>\n",
       "      <td>0.918421</td>\n",
       "    </tr>\n",
       "    <tr>\n",
       "      <th>4</th>\n",
       "      <td>0.038970</td>\n",
       "      <td>0.019869</td>\n",
       "      <td>0.789157</td>\n",
       "      <td>0.823088</td>\n",
       "      <td>0.824121</td>\n",
       "      <td>0.855392</td>\n",
       "      <td>0.752294</td>\n",
       "      <td>0.794989</td>\n",
       "      <td>0.911111</td>\n",
       "      <td>0.925729</td>\n",
       "    </tr>\n",
       "  </tbody>\n",
       "</table>\n",
       "</div>"
      ],
      "text/plain": [
       "   fit_time  score_time  test_accuracy  train_accuracy   test_f1  train_f1  \\\n",
       "0  0.037776    0.018258       0.826347        0.813814  0.857143  0.848039   \n",
       "1  0.038231    0.017983       0.790419        0.822823  0.830918  0.853960   \n",
       "2  0.038348    0.018626       0.754491        0.831832  0.800000  0.860697   \n",
       "3  0.036992    0.018178       0.831325        0.818591  0.861386  0.852259   \n",
       "4  0.038970    0.019869       0.789157        0.823088  0.824121  0.855392   \n",
       "\n",
       "   test_recall  train_recall  test_precision  train_precision  \n",
       "0     0.790909      0.789954        0.935484         0.915344  \n",
       "1     0.781818      0.787671        0.886598         0.932432  \n",
       "2     0.745455      0.789954        0.863158         0.945355  \n",
       "3     0.798165      0.794989        0.935484         0.918421  \n",
       "4     0.752294      0.794989        0.911111         0.925729  "
      ]
     },
     "execution_count": 20,
     "metadata": {},
     "output_type": "execute_result"
    }
   ],
   "source": [
    "# Train the Support Vector Classifier:\n",
    "\n",
    "svm_pipe = make_pipeline(\n",
    "    preprocessor,\n",
    "    SVC(class_weight='balanced', random_state=123)\n",
    ")\n",
    "svm_scores = cross_validate(svm_pipe, X_train, y_train_encoded, scoring=scoring, cv=5, return_train_score=True)\n",
    "svm_scores = pd.DataFrame(svm_scores)\n",
    "svm_scores"
   ]
  },
  {
   "cell_type": "code",
   "execution_count": 21,
   "id": "c5967c7a",
   "metadata": {
    "execution": {
     "iopub.execute_input": "2024-10-27T07:56:42.547766Z",
     "iopub.status.busy": "2024-10-27T07:56:42.547170Z",
     "iopub.status.idle": "2024-10-27T07:56:42.559873Z",
     "shell.execute_reply": "2024-10-27T07:56:42.558041Z"
    },
    "papermill": {
     "duration": 0.044047,
     "end_time": "2024-10-27T07:56:42.562820",
     "exception": false,
     "start_time": "2024-10-27T07:56:42.518773",
     "status": "completed"
    },
    "tags": []
   },
   "outputs": [
    {
     "data": {
      "text/plain": [
       "fit_time           0.038063\n",
       "score_time         0.018583\n",
       "test_accuracy      0.798348\n",
       "train_accuracy     0.822030\n",
       "test_f1            0.834713\n",
       "train_f1           0.854069\n",
       "test_recall        0.773728\n",
       "train_recall       0.791511\n",
       "test_precision     0.906367\n",
       "train_precision    0.927456\n",
       "dtype: float64"
      ]
     },
     "execution_count": 21,
     "metadata": {},
     "output_type": "execute_result"
    }
   ],
   "source": [
    "svm_mean = svm_scores.mean()\n",
    "svm_mean"
   ]
  },
  {
   "cell_type": "markdown",
   "id": "1dbd8b15",
   "metadata": {
    "papermill": {
     "duration": 0.027201,
     "end_time": "2024-10-27T07:56:42.616286",
     "exception": false,
     "start_time": "2024-10-27T07:56:42.589085",
     "status": "completed"
    },
    "tags": []
   },
   "source": [
    "Let's try the **GradientBoostingClassifier** because it is a powerful ensemble method that combines the strengths of multiple weak learners (usually decision trees) to improve predictive performance. This model is well-suited for handling complex patterns in the data, making it effective in scenarios with non-linear relationships between features and the target variable."
   ]
  },
  {
   "cell_type": "code",
   "execution_count": 22,
   "id": "6714045e",
   "metadata": {
    "execution": {
     "iopub.execute_input": "2024-10-27T07:56:42.672338Z",
     "iopub.status.busy": "2024-10-27T07:56:42.671849Z",
     "iopub.status.idle": "2024-10-27T07:56:43.847636Z",
     "shell.execute_reply": "2024-10-27T07:56:43.846267Z"
    },
    "papermill": {
     "duration": 1.20698,
     "end_time": "2024-10-27T07:56:43.850298",
     "exception": false,
     "start_time": "2024-10-27T07:56:42.643318",
     "status": "completed"
    },
    "tags": []
   },
   "outputs": [
    {
     "data": {
      "text/html": [
       "<div>\n",
       "<style scoped>\n",
       "    .dataframe tbody tr th:only-of-type {\n",
       "        vertical-align: middle;\n",
       "    }\n",
       "\n",
       "    .dataframe tbody tr th {\n",
       "        vertical-align: top;\n",
       "    }\n",
       "\n",
       "    .dataframe thead th {\n",
       "        text-align: right;\n",
       "    }\n",
       "</style>\n",
       "<table border=\"1\" class=\"dataframe\">\n",
       "  <thead>\n",
       "    <tr style=\"text-align: right;\">\n",
       "      <th></th>\n",
       "      <th>fit_time</th>\n",
       "      <th>score_time</th>\n",
       "      <th>test_accuracy</th>\n",
       "      <th>train_accuracy</th>\n",
       "      <th>test_f1</th>\n",
       "      <th>train_f1</th>\n",
       "      <th>test_recall</th>\n",
       "      <th>train_recall</th>\n",
       "      <th>test_precision</th>\n",
       "      <th>train_precision</th>\n",
       "    </tr>\n",
       "  </thead>\n",
       "  <tbody>\n",
       "    <tr>\n",
       "      <th>0</th>\n",
       "      <td>0.201324</td>\n",
       "      <td>0.015324</td>\n",
       "      <td>0.850299</td>\n",
       "      <td>0.878378</td>\n",
       "      <td>0.893617</td>\n",
       "      <td>0.913183</td>\n",
       "      <td>0.954545</td>\n",
       "      <td>0.972603</td>\n",
       "      <td>0.840000</td>\n",
       "      <td>0.860606</td>\n",
       "    </tr>\n",
       "    <tr>\n",
       "      <th>1</th>\n",
       "      <td>0.190823</td>\n",
       "      <td>0.015827</td>\n",
       "      <td>0.820359</td>\n",
       "      <td>0.896396</td>\n",
       "      <td>0.868421</td>\n",
       "      <td>0.923077</td>\n",
       "      <td>0.900000</td>\n",
       "      <td>0.945205</td>\n",
       "      <td>0.838983</td>\n",
       "      <td>0.901961</td>\n",
       "    </tr>\n",
       "    <tr>\n",
       "      <th>2</th>\n",
       "      <td>0.194921</td>\n",
       "      <td>0.016442</td>\n",
       "      <td>0.814371</td>\n",
       "      <td>0.884384</td>\n",
       "      <td>0.866953</td>\n",
       "      <td>0.916936</td>\n",
       "      <td>0.918182</td>\n",
       "      <td>0.970320</td>\n",
       "      <td>0.821138</td>\n",
       "      <td>0.869121</td>\n",
       "    </tr>\n",
       "    <tr>\n",
       "      <th>3</th>\n",
       "      <td>0.198367</td>\n",
       "      <td>0.014883</td>\n",
       "      <td>0.831325</td>\n",
       "      <td>0.866567</td>\n",
       "      <td>0.878261</td>\n",
       "      <td>0.904198</td>\n",
       "      <td>0.926606</td>\n",
       "      <td>0.956720</td>\n",
       "      <td>0.834711</td>\n",
       "      <td>0.857143</td>\n",
       "    </tr>\n",
       "    <tr>\n",
       "      <th>4</th>\n",
       "      <td>0.186428</td>\n",
       "      <td>0.015354</td>\n",
       "      <td>0.825301</td>\n",
       "      <td>0.877061</td>\n",
       "      <td>0.873362</td>\n",
       "      <td>0.912766</td>\n",
       "      <td>0.917431</td>\n",
       "      <td>0.977221</td>\n",
       "      <td>0.833333</td>\n",
       "      <td>0.856287</td>\n",
       "    </tr>\n",
       "  </tbody>\n",
       "</table>\n",
       "</div>"
      ],
      "text/plain": [
       "   fit_time  score_time  test_accuracy  train_accuracy   test_f1  train_f1  \\\n",
       "0  0.201324    0.015324       0.850299        0.878378  0.893617  0.913183   \n",
       "1  0.190823    0.015827       0.820359        0.896396  0.868421  0.923077   \n",
       "2  0.194921    0.016442       0.814371        0.884384  0.866953  0.916936   \n",
       "3  0.198367    0.014883       0.831325        0.866567  0.878261  0.904198   \n",
       "4  0.186428    0.015354       0.825301        0.877061  0.873362  0.912766   \n",
       "\n",
       "   test_recall  train_recall  test_precision  train_precision  \n",
       "0     0.954545      0.972603        0.840000         0.860606  \n",
       "1     0.900000      0.945205        0.838983         0.901961  \n",
       "2     0.918182      0.970320        0.821138         0.869121  \n",
       "3     0.926606      0.956720        0.834711         0.857143  \n",
       "4     0.917431      0.977221        0.833333         0.856287  "
      ]
     },
     "execution_count": 22,
     "metadata": {},
     "output_type": "execute_result"
    }
   ],
   "source": [
    "# Train a Gradient Boosting model:\n",
    "\n",
    "gbc_pipe = make_pipeline(preprocessor, GradientBoostingClassifier(random_state=123))\n",
    "\n",
    "gbc_scores = cross_validate(gbc_pipe, X_train, y_train_encoded, scoring=scoring, cv=5,return_train_score=True)\n",
    "gbc_scores = pd.DataFrame(gbc_scores)\n",
    "gbc_scores"
   ]
  },
  {
   "cell_type": "code",
   "execution_count": 23,
   "id": "fcca0f1a",
   "metadata": {
    "execution": {
     "iopub.execute_input": "2024-10-27T07:56:43.906667Z",
     "iopub.status.busy": "2024-10-27T07:56:43.906245Z",
     "iopub.status.idle": "2024-10-27T07:56:43.915927Z",
     "shell.execute_reply": "2024-10-27T07:56:43.914588Z"
    },
    "papermill": {
     "duration": 0.040522,
     "end_time": "2024-10-27T07:56:43.918666",
     "exception": false,
     "start_time": "2024-10-27T07:56:43.878144",
     "status": "completed"
    },
    "tags": []
   },
   "outputs": [
    {
     "data": {
      "text/plain": [
       "fit_time           0.194373\n",
       "score_time         0.015566\n",
       "test_accuracy      0.828331\n",
       "train_accuracy     0.880557\n",
       "test_f1            0.876123\n",
       "train_f1           0.914032\n",
       "test_recall        0.923353\n",
       "train_recall       0.964414\n",
       "test_precision     0.833633\n",
       "train_precision    0.869024\n",
       "dtype: float64"
      ]
     },
     "execution_count": 23,
     "metadata": {},
     "output_type": "execute_result"
    }
   ],
   "source": [
    "gbc_mean = gbc_scores.mean()\n",
    "gbc_mean"
   ]
  },
  {
   "cell_type": "code",
   "execution_count": 24,
   "id": "89e1cefa",
   "metadata": {
    "execution": {
     "iopub.execute_input": "2024-10-27T07:56:43.974063Z",
     "iopub.status.busy": "2024-10-27T07:56:43.973624Z",
     "iopub.status.idle": "2024-10-27T07:56:43.991182Z",
     "shell.execute_reply": "2024-10-27T07:56:43.990014Z"
    },
    "papermill": {
     "duration": 0.048573,
     "end_time": "2024-10-27T07:56:43.993594",
     "exception": false,
     "start_time": "2024-10-27T07:56:43.945021",
     "status": "completed"
    },
    "tags": []
   },
   "outputs": [
    {
     "data": {
      "text/html": [
       "<div>\n",
       "<style scoped>\n",
       "    .dataframe tbody tr th:only-of-type {\n",
       "        vertical-align: middle;\n",
       "    }\n",
       "\n",
       "    .dataframe tbody tr th {\n",
       "        vertical-align: top;\n",
       "    }\n",
       "\n",
       "    .dataframe thead th {\n",
       "        text-align: right;\n",
       "    }\n",
       "</style>\n",
       "<table border=\"1\" class=\"dataframe\">\n",
       "  <thead>\n",
       "    <tr style=\"text-align: right;\">\n",
       "      <th></th>\n",
       "      <th>Dummy Classifier</th>\n",
       "      <th>Logistic Regression</th>\n",
       "      <th>Random Forest</th>\n",
       "      <th>SVM</th>\n",
       "      <th>Gradient Boosting</th>\n",
       "    </tr>\n",
       "  </thead>\n",
       "  <tbody>\n",
       "    <tr>\n",
       "      <th>fit_time</th>\n",
       "      <td>0.001255</td>\n",
       "      <td>0.046234</td>\n",
       "      <td>0.389745</td>\n",
       "      <td>0.038063</td>\n",
       "      <td>0.194373</td>\n",
       "    </tr>\n",
       "    <tr>\n",
       "      <th>score_time</th>\n",
       "      <td>0.008272</td>\n",
       "      <td>0.016193</td>\n",
       "      <td>0.027462</td>\n",
       "      <td>0.018583</td>\n",
       "      <td>0.015566</td>\n",
       "    </tr>\n",
       "    <tr>\n",
       "      <th>test_accuracy</th>\n",
       "      <td>0.543785</td>\n",
       "      <td>0.762312</td>\n",
       "      <td>0.823526</td>\n",
       "      <td>0.798348</td>\n",
       "      <td>0.828331</td>\n",
       "    </tr>\n",
       "    <tr>\n",
       "      <th>train_accuracy</th>\n",
       "      <td>0.566327</td>\n",
       "      <td>0.774609</td>\n",
       "      <td>0.948982</td>\n",
       "      <td>0.822030</td>\n",
       "      <td>0.880557</td>\n",
       "    </tr>\n",
       "    <tr>\n",
       "      <th>test_f1</th>\n",
       "      <td>0.656380</td>\n",
       "      <td>0.808167</td>\n",
       "      <td>0.862612</td>\n",
       "      <td>0.834713</td>\n",
       "      <td>0.876123</td>\n",
       "    </tr>\n",
       "    <tr>\n",
       "      <th>train_f1</th>\n",
       "      <td>0.671666</td>\n",
       "      <td>0.817442</td>\n",
       "      <td>0.960588</td>\n",
       "      <td>0.854069</td>\n",
       "      <td>0.914032</td>\n",
       "    </tr>\n",
       "    <tr>\n",
       "      <th>test_recall</th>\n",
       "      <td>0.662369</td>\n",
       "      <td>0.762769</td>\n",
       "      <td>0.843069</td>\n",
       "      <td>0.773728</td>\n",
       "      <td>0.923353</td>\n",
       "    </tr>\n",
       "    <tr>\n",
       "      <th>train_recall</th>\n",
       "      <td>0.674270</td>\n",
       "      <td>0.767337</td>\n",
       "      <td>0.945262</td>\n",
       "      <td>0.791511</td>\n",
       "      <td>0.964414</td>\n",
       "    </tr>\n",
       "    <tr>\n",
       "      <th>test_precision</th>\n",
       "      <td>0.650499</td>\n",
       "      <td>0.859592</td>\n",
       "      <td>0.883444</td>\n",
       "      <td>0.906367</td>\n",
       "      <td>0.833633</td>\n",
       "    </tr>\n",
       "    <tr>\n",
       "      <th>train_precision</th>\n",
       "      <td>0.669083</td>\n",
       "      <td>0.874655</td>\n",
       "      <td>0.976457</td>\n",
       "      <td>0.927456</td>\n",
       "      <td>0.869024</td>\n",
       "    </tr>\n",
       "  </tbody>\n",
       "</table>\n",
       "</div>"
      ],
      "text/plain": [
       "                 Dummy Classifier  Logistic Regression  Random Forest  \\\n",
       "fit_time                 0.001255             0.046234       0.389745   \n",
       "score_time               0.008272             0.016193       0.027462   \n",
       "test_accuracy            0.543785             0.762312       0.823526   \n",
       "train_accuracy           0.566327             0.774609       0.948982   \n",
       "test_f1                  0.656380             0.808167       0.862612   \n",
       "train_f1                 0.671666             0.817442       0.960588   \n",
       "test_recall              0.662369             0.762769       0.843069   \n",
       "train_recall             0.674270             0.767337       0.945262   \n",
       "test_precision           0.650499             0.859592       0.883444   \n",
       "train_precision          0.669083             0.874655       0.976457   \n",
       "\n",
       "                      SVM  Gradient Boosting  \n",
       "fit_time         0.038063           0.194373  \n",
       "score_time       0.018583           0.015566  \n",
       "test_accuracy    0.798348           0.828331  \n",
       "train_accuracy   0.822030           0.880557  \n",
       "test_f1          0.834713           0.876123  \n",
       "train_f1         0.854069           0.914032  \n",
       "test_recall      0.773728           0.923353  \n",
       "train_recall     0.791511           0.964414  \n",
       "test_precision   0.906367           0.833633  \n",
       "train_precision  0.927456           0.869024  "
      ]
     },
     "execution_count": 24,
     "metadata": {},
     "output_type": "execute_result"
    }
   ],
   "source": [
    "# Create a DataFrame to compare the models:\n",
    "\n",
    "comparison_df = pd.DataFrame({\n",
    "    'Dummy Classifier': dummy_mean,\n",
    "    'Logistic Regression': log_reg_mean,\n",
    "    'Random Forest': rf_mean,\n",
    "    'SVM': svm_mean,\n",
    "    'Gradient Boosting': gbc_mean\n",
    "})\n",
    "\n",
    "comparison_df"
   ]
  },
  {
   "cell_type": "markdown",
   "id": "8049eced",
   "metadata": {
    "papermill": {
     "duration": 0.026713,
     "end_time": "2024-10-27T07:56:44.046946",
     "exception": false,
     "start_time": "2024-10-27T07:56:44.020233",
     "status": "completed"
    },
    "tags": []
   },
   "source": [
    "Based on the **test_f1 and test_recall** metrics, the top two models are **Random Forest Classifier and Gradient Boosting Classifier**. We will now optimize their hyperparameters to further improve performance."
   ]
  },
  {
   "cell_type": "code",
   "execution_count": 25,
   "id": "b07d4f85",
   "metadata": {
    "execution": {
     "iopub.execute_input": "2024-10-27T07:56:44.101677Z",
     "iopub.status.busy": "2024-10-27T07:56:44.101207Z",
     "iopub.status.idle": "2024-10-27T07:56:57.743345Z",
     "shell.execute_reply": "2024-10-27T07:56:57.741913Z"
    },
    "papermill": {
     "duration": 13.672546,
     "end_time": "2024-10-27T07:56:57.745926",
     "exception": false,
     "start_time": "2024-10-27T07:56:44.073380",
     "status": "completed"
    },
    "tags": []
   },
   "outputs": [
    {
     "name": "stdout",
     "output_type": "stream",
     "text": [
      "Fitting 3 folds for each of 50 candidates, totalling 150 fits\n"
     ]
    },
    {
     "data": {
      "text/html": [
       "<style>#sk-container-id-1 {color: black;background-color: white;}#sk-container-id-1 pre{padding: 0;}#sk-container-id-1 div.sk-toggleable {background-color: white;}#sk-container-id-1 label.sk-toggleable__label {cursor: pointer;display: block;width: 100%;margin-bottom: 0;padding: 0.3em;box-sizing: border-box;text-align: center;}#sk-container-id-1 label.sk-toggleable__label-arrow:before {content: \"▸\";float: left;margin-right: 0.25em;color: #696969;}#sk-container-id-1 label.sk-toggleable__label-arrow:hover:before {color: black;}#sk-container-id-1 div.sk-estimator:hover label.sk-toggleable__label-arrow:before {color: black;}#sk-container-id-1 div.sk-toggleable__content {max-height: 0;max-width: 0;overflow: hidden;text-align: left;background-color: #f0f8ff;}#sk-container-id-1 div.sk-toggleable__content pre {margin: 0.2em;color: black;border-radius: 0.25em;background-color: #f0f8ff;}#sk-container-id-1 input.sk-toggleable__control:checked~div.sk-toggleable__content {max-height: 200px;max-width: 100%;overflow: auto;}#sk-container-id-1 input.sk-toggleable__control:checked~label.sk-toggleable__label-arrow:before {content: \"▾\";}#sk-container-id-1 div.sk-estimator input.sk-toggleable__control:checked~label.sk-toggleable__label {background-color: #d4ebff;}#sk-container-id-1 div.sk-label input.sk-toggleable__control:checked~label.sk-toggleable__label {background-color: #d4ebff;}#sk-container-id-1 input.sk-hidden--visually {border: 0;clip: rect(1px 1px 1px 1px);clip: rect(1px, 1px, 1px, 1px);height: 1px;margin: -1px;overflow: hidden;padding: 0;position: absolute;width: 1px;}#sk-container-id-1 div.sk-estimator {font-family: monospace;background-color: #f0f8ff;border: 1px dotted black;border-radius: 0.25em;box-sizing: border-box;margin-bottom: 0.5em;}#sk-container-id-1 div.sk-estimator:hover {background-color: #d4ebff;}#sk-container-id-1 div.sk-parallel-item::after {content: \"\";width: 100%;border-bottom: 1px solid gray;flex-grow: 1;}#sk-container-id-1 div.sk-label:hover label.sk-toggleable__label {background-color: #d4ebff;}#sk-container-id-1 div.sk-serial::before {content: \"\";position: absolute;border-left: 1px solid gray;box-sizing: border-box;top: 0;bottom: 0;left: 50%;z-index: 0;}#sk-container-id-1 div.sk-serial {display: flex;flex-direction: column;align-items: center;background-color: white;padding-right: 0.2em;padding-left: 0.2em;position: relative;}#sk-container-id-1 div.sk-item {position: relative;z-index: 1;}#sk-container-id-1 div.sk-parallel {display: flex;align-items: stretch;justify-content: center;background-color: white;position: relative;}#sk-container-id-1 div.sk-item::before, #sk-container-id-1 div.sk-parallel-item::before {content: \"\";position: absolute;border-left: 1px solid gray;box-sizing: border-box;top: 0;bottom: 0;left: 50%;z-index: -1;}#sk-container-id-1 div.sk-parallel-item {display: flex;flex-direction: column;z-index: 1;position: relative;background-color: white;}#sk-container-id-1 div.sk-parallel-item:first-child::after {align-self: flex-end;width: 50%;}#sk-container-id-1 div.sk-parallel-item:last-child::after {align-self: flex-start;width: 50%;}#sk-container-id-1 div.sk-parallel-item:only-child::after {width: 0;}#sk-container-id-1 div.sk-dashed-wrapped {border: 1px dashed gray;margin: 0 0.4em 0.5em 0.4em;box-sizing: border-box;padding-bottom: 0.4em;background-color: white;}#sk-container-id-1 div.sk-label label {font-family: monospace;font-weight: bold;display: inline-block;line-height: 1.2em;}#sk-container-id-1 div.sk-label-container {text-align: center;}#sk-container-id-1 div.sk-container {/* jupyter's `normalize.less` sets `[hidden] { display: none; }` but bootstrap.min.css set `[hidden] { display: none !important; }` so we also need the `!important` here to be able to override the default hidden behavior on the sphinx rendered scikit-learn.org. See: https://github.com/scikit-learn/scikit-learn/issues/21755 */display: inline-block !important;position: relative;}#sk-container-id-1 div.sk-text-repr-fallback {display: none;}</style><div id=\"sk-container-id-1\" class=\"sk-top-container\"><div class=\"sk-text-repr-fallback\"><pre>RandomizedSearchCV(cv=3,\n",
       "                   estimator=Pipeline(steps=[(&#x27;columntransformer&#x27;,\n",
       "                                              ColumnTransformer(transformers=[(&#x27;pipeline-1&#x27;,\n",
       "                                                                               Pipeline(steps=[(&#x27;simpleimputer&#x27;,\n",
       "                                                                                                SimpleImputer()),\n",
       "                                                                                               (&#x27;standardscaler&#x27;,\n",
       "                                                                                                StandardScaler())]),\n",
       "                                                                               [&#x27;MoisturePercent&#x27;]),\n",
       "                                                                              (&#x27;pipeline-2&#x27;,\n",
       "                                                                               Pipeline(steps=[(&#x27;simpleimputer&#x27;,\n",
       "                                                                                                SimpleImputer(strategy=&#x27;most_frequent&#x27;)),\n",
       "                                                                                               (&#x27;onehotencoder&#x27;,\n",
       "                                                                                                OneHotEncoder(handl...\n",
       "                                              RandomForestClassifier(class_weight=&#x27;balanced&#x27;,\n",
       "                                                                     random_state=123))]),\n",
       "                   n_iter=50, n_jobs=-1,\n",
       "                   param_distributions={&#x27;randomforestclassifier__max_depth&#x27;: &lt;scipy.stats._distn_infrastructure.rv_discrete_frozen object at 0x7feedcf0e4d0&gt;,\n",
       "                                        &#x27;randomforestclassifier__n_estimators&#x27;: &lt;scipy.stats._distn_infrastructure.rv_discrete_frozen object at 0x7feedc56aec0&gt;},\n",
       "                   random_state=123, scoring=&#x27;f1&#x27;, verbose=1)</pre><b>In a Jupyter environment, please rerun this cell to show the HTML representation or trust the notebook. <br />On GitHub, the HTML representation is unable to render, please try loading this page with nbviewer.org.</b></div><div class=\"sk-container\" hidden><div class=\"sk-item sk-dashed-wrapped\"><div class=\"sk-label-container\"><div class=\"sk-label sk-toggleable\"><input class=\"sk-toggleable__control sk-hidden--visually\" id=\"sk-estimator-id-1\" type=\"checkbox\" ><label for=\"sk-estimator-id-1\" class=\"sk-toggleable__label sk-toggleable__label-arrow\">RandomizedSearchCV</label><div class=\"sk-toggleable__content\"><pre>RandomizedSearchCV(cv=3,\n",
       "                   estimator=Pipeline(steps=[(&#x27;columntransformer&#x27;,\n",
       "                                              ColumnTransformer(transformers=[(&#x27;pipeline-1&#x27;,\n",
       "                                                                               Pipeline(steps=[(&#x27;simpleimputer&#x27;,\n",
       "                                                                                                SimpleImputer()),\n",
       "                                                                                               (&#x27;standardscaler&#x27;,\n",
       "                                                                                                StandardScaler())]),\n",
       "                                                                               [&#x27;MoisturePercent&#x27;]),\n",
       "                                                                              (&#x27;pipeline-2&#x27;,\n",
       "                                                                               Pipeline(steps=[(&#x27;simpleimputer&#x27;,\n",
       "                                                                                                SimpleImputer(strategy=&#x27;most_frequent&#x27;)),\n",
       "                                                                                               (&#x27;onehotencoder&#x27;,\n",
       "                                                                                                OneHotEncoder(handl...\n",
       "                                              RandomForestClassifier(class_weight=&#x27;balanced&#x27;,\n",
       "                                                                     random_state=123))]),\n",
       "                   n_iter=50, n_jobs=-1,\n",
       "                   param_distributions={&#x27;randomforestclassifier__max_depth&#x27;: &lt;scipy.stats._distn_infrastructure.rv_discrete_frozen object at 0x7feedcf0e4d0&gt;,\n",
       "                                        &#x27;randomforestclassifier__n_estimators&#x27;: &lt;scipy.stats._distn_infrastructure.rv_discrete_frozen object at 0x7feedc56aec0&gt;},\n",
       "                   random_state=123, scoring=&#x27;f1&#x27;, verbose=1)</pre></div></div></div><div class=\"sk-parallel\"><div class=\"sk-parallel-item\"><div class=\"sk-item\"><div class=\"sk-label-container\"><div class=\"sk-label sk-toggleable\"><input class=\"sk-toggleable__control sk-hidden--visually\" id=\"sk-estimator-id-2\" type=\"checkbox\" ><label for=\"sk-estimator-id-2\" class=\"sk-toggleable__label sk-toggleable__label-arrow\">estimator: Pipeline</label><div class=\"sk-toggleable__content\"><pre>Pipeline(steps=[(&#x27;columntransformer&#x27;,\n",
       "                 ColumnTransformer(transformers=[(&#x27;pipeline-1&#x27;,\n",
       "                                                  Pipeline(steps=[(&#x27;simpleimputer&#x27;,\n",
       "                                                                   SimpleImputer()),\n",
       "                                                                  (&#x27;standardscaler&#x27;,\n",
       "                                                                   StandardScaler())]),\n",
       "                                                  [&#x27;MoisturePercent&#x27;]),\n",
       "                                                 (&#x27;pipeline-2&#x27;,\n",
       "                                                  Pipeline(steps=[(&#x27;simpleimputer&#x27;,\n",
       "                                                                   SimpleImputer(strategy=&#x27;most_frequent&#x27;)),\n",
       "                                                                  (&#x27;onehotencoder&#x27;,\n",
       "                                                                   OneHotEncoder(handle_unknown=&#x27;ignore&#x27;))]),\n",
       "                                                  [&#x27;ManufacturerProvCode&#x27;,\n",
       "                                                   &#x27;ManufacturingTypeEn&#x27;,\n",
       "                                                   &#x27;CategoryTypeEn&#x27;,\n",
       "                                                   &#x27;MilkTypeEn&#x27;,\n",
       "                                                   &#x27;MilkTreatmentTypeEn&#x27;]),\n",
       "                                                 (&#x27;onehotencoder&#x27;,\n",
       "                                                  OneHotEncoder(drop=&#x27;if_binary&#x27;),\n",
       "                                                  [&#x27;Organic&#x27;])])),\n",
       "                (&#x27;randomforestclassifier&#x27;,\n",
       "                 RandomForestClassifier(class_weight=&#x27;balanced&#x27;,\n",
       "                                        random_state=123))])</pre></div></div></div><div class=\"sk-serial\"><div class=\"sk-item\"><div class=\"sk-serial\"><div class=\"sk-item sk-dashed-wrapped\"><div class=\"sk-label-container\"><div class=\"sk-label sk-toggleable\"><input class=\"sk-toggleable__control sk-hidden--visually\" id=\"sk-estimator-id-3\" type=\"checkbox\" ><label for=\"sk-estimator-id-3\" class=\"sk-toggleable__label sk-toggleable__label-arrow\">columntransformer: ColumnTransformer</label><div class=\"sk-toggleable__content\"><pre>ColumnTransformer(transformers=[(&#x27;pipeline-1&#x27;,\n",
       "                                 Pipeline(steps=[(&#x27;simpleimputer&#x27;,\n",
       "                                                  SimpleImputer()),\n",
       "                                                 (&#x27;standardscaler&#x27;,\n",
       "                                                  StandardScaler())]),\n",
       "                                 [&#x27;MoisturePercent&#x27;]),\n",
       "                                (&#x27;pipeline-2&#x27;,\n",
       "                                 Pipeline(steps=[(&#x27;simpleimputer&#x27;,\n",
       "                                                  SimpleImputer(strategy=&#x27;most_frequent&#x27;)),\n",
       "                                                 (&#x27;onehotencoder&#x27;,\n",
       "                                                  OneHotEncoder(handle_unknown=&#x27;ignore&#x27;))]),\n",
       "                                 [&#x27;ManufacturerProvCode&#x27;, &#x27;ManufacturingTypeEn&#x27;,\n",
       "                                  &#x27;CategoryTypeEn&#x27;, &#x27;MilkTypeEn&#x27;,\n",
       "                                  &#x27;MilkTreatmentTypeEn&#x27;]),\n",
       "                                (&#x27;onehotencoder&#x27;,\n",
       "                                 OneHotEncoder(drop=&#x27;if_binary&#x27;),\n",
       "                                 [&#x27;Organic&#x27;])])</pre></div></div></div><div class=\"sk-parallel\"><div class=\"sk-parallel-item\"><div class=\"sk-item\"><div class=\"sk-label-container\"><div class=\"sk-label sk-toggleable\"><input class=\"sk-toggleable__control sk-hidden--visually\" id=\"sk-estimator-id-4\" type=\"checkbox\" ><label for=\"sk-estimator-id-4\" class=\"sk-toggleable__label sk-toggleable__label-arrow\">pipeline-1</label><div class=\"sk-toggleable__content\"><pre>[&#x27;MoisturePercent&#x27;]</pre></div></div></div><div class=\"sk-serial\"><div class=\"sk-item\"><div class=\"sk-serial\"><div class=\"sk-item\"><div class=\"sk-estimator sk-toggleable\"><input class=\"sk-toggleable__control sk-hidden--visually\" id=\"sk-estimator-id-5\" type=\"checkbox\" ><label for=\"sk-estimator-id-5\" class=\"sk-toggleable__label sk-toggleable__label-arrow\">SimpleImputer</label><div class=\"sk-toggleable__content\"><pre>SimpleImputer()</pre></div></div></div><div class=\"sk-item\"><div class=\"sk-estimator sk-toggleable\"><input class=\"sk-toggleable__control sk-hidden--visually\" id=\"sk-estimator-id-6\" type=\"checkbox\" ><label for=\"sk-estimator-id-6\" class=\"sk-toggleable__label sk-toggleable__label-arrow\">StandardScaler</label><div class=\"sk-toggleable__content\"><pre>StandardScaler()</pre></div></div></div></div></div></div></div></div><div class=\"sk-parallel-item\"><div class=\"sk-item\"><div class=\"sk-label-container\"><div class=\"sk-label sk-toggleable\"><input class=\"sk-toggleable__control sk-hidden--visually\" id=\"sk-estimator-id-7\" type=\"checkbox\" ><label for=\"sk-estimator-id-7\" class=\"sk-toggleable__label sk-toggleable__label-arrow\">pipeline-2</label><div class=\"sk-toggleable__content\"><pre>[&#x27;ManufacturerProvCode&#x27;, &#x27;ManufacturingTypeEn&#x27;, &#x27;CategoryTypeEn&#x27;, &#x27;MilkTypeEn&#x27;, &#x27;MilkTreatmentTypeEn&#x27;]</pre></div></div></div><div class=\"sk-serial\"><div class=\"sk-item\"><div class=\"sk-serial\"><div class=\"sk-item\"><div class=\"sk-estimator sk-toggleable\"><input class=\"sk-toggleable__control sk-hidden--visually\" id=\"sk-estimator-id-8\" type=\"checkbox\" ><label for=\"sk-estimator-id-8\" class=\"sk-toggleable__label sk-toggleable__label-arrow\">SimpleImputer</label><div class=\"sk-toggleable__content\"><pre>SimpleImputer(strategy=&#x27;most_frequent&#x27;)</pre></div></div></div><div class=\"sk-item\"><div class=\"sk-estimator sk-toggleable\"><input class=\"sk-toggleable__control sk-hidden--visually\" id=\"sk-estimator-id-9\" type=\"checkbox\" ><label for=\"sk-estimator-id-9\" class=\"sk-toggleable__label sk-toggleable__label-arrow\">OneHotEncoder</label><div class=\"sk-toggleable__content\"><pre>OneHotEncoder(handle_unknown=&#x27;ignore&#x27;)</pre></div></div></div></div></div></div></div></div><div class=\"sk-parallel-item\"><div class=\"sk-item\"><div class=\"sk-label-container\"><div class=\"sk-label sk-toggleable\"><input class=\"sk-toggleable__control sk-hidden--visually\" id=\"sk-estimator-id-10\" type=\"checkbox\" ><label for=\"sk-estimator-id-10\" class=\"sk-toggleable__label sk-toggleable__label-arrow\">onehotencoder</label><div class=\"sk-toggleable__content\"><pre>[&#x27;Organic&#x27;]</pre></div></div></div><div class=\"sk-serial\"><div class=\"sk-item\"><div class=\"sk-estimator sk-toggleable\"><input class=\"sk-toggleable__control sk-hidden--visually\" id=\"sk-estimator-id-11\" type=\"checkbox\" ><label for=\"sk-estimator-id-11\" class=\"sk-toggleable__label sk-toggleable__label-arrow\">OneHotEncoder</label><div class=\"sk-toggleable__content\"><pre>OneHotEncoder(drop=&#x27;if_binary&#x27;)</pre></div></div></div></div></div></div></div></div><div class=\"sk-item\"><div class=\"sk-estimator sk-toggleable\"><input class=\"sk-toggleable__control sk-hidden--visually\" id=\"sk-estimator-id-12\" type=\"checkbox\" ><label for=\"sk-estimator-id-12\" class=\"sk-toggleable__label sk-toggleable__label-arrow\">RandomForestClassifier</label><div class=\"sk-toggleable__content\"><pre>RandomForestClassifier(class_weight=&#x27;balanced&#x27;, random_state=123)</pre></div></div></div></div></div></div></div></div></div></div></div></div>"
      ],
      "text/plain": [
       "RandomizedSearchCV(cv=3,\n",
       "                   estimator=Pipeline(steps=[('columntransformer',\n",
       "                                              ColumnTransformer(transformers=[('pipeline-1',\n",
       "                                                                               Pipeline(steps=[('simpleimputer',\n",
       "                                                                                                SimpleImputer()),\n",
       "                                                                                               ('standardscaler',\n",
       "                                                                                                StandardScaler())]),\n",
       "                                                                               ['MoisturePercent']),\n",
       "                                                                              ('pipeline-2',\n",
       "                                                                               Pipeline(steps=[('simpleimputer',\n",
       "                                                                                                SimpleImputer(strategy='most_frequent')),\n",
       "                                                                                               ('onehotencoder',\n",
       "                                                                                                OneHotEncoder(handl...\n",
       "                                              RandomForestClassifier(class_weight='balanced',\n",
       "                                                                     random_state=123))]),\n",
       "                   n_iter=50, n_jobs=-1,\n",
       "                   param_distributions={'randomforestclassifier__max_depth': <scipy.stats._distn_infrastructure.rv_discrete_frozen object at 0x7feedcf0e4d0>,\n",
       "                                        'randomforestclassifier__n_estimators': <scipy.stats._distn_infrastructure.rv_discrete_frozen object at 0x7feedc56aec0>},\n",
       "                   random_state=123, scoring='f1', verbose=1)"
      ]
     },
     "execution_count": 25,
     "metadata": {},
     "output_type": "execute_result"
    }
   ],
   "source": [
    "# Define the hyperparameter distribution for Random Forest Classifier:\n",
    "param_dist = {\n",
    "    \"randomforestclassifier__n_estimators\": randint(10, 100),\n",
    "    \"randomforestclassifier__max_depth\": randint(2, 10),\n",
    "}\n",
    "\n",
    "# Perform RandomizedSearchCV to optimize hyperparameters:\n",
    "random_search_rf = RandomizedSearchCV(\n",
    "    rf_pipe,\n",
    "    param_distributions=param_dist,\n",
    "    n_iter=50,\n",
    "    cv=3,\n",
    "    verbose=1,\n",
    "    n_jobs=-1,\n",
    "    scoring=\"f1\",\n",
    "    random_state=123,\n",
    ")\n",
    "\n",
    "# Fit the model on the training data:\n",
    "random_search_rf.fit(X_train, y_train_encoded)"
   ]
  },
  {
   "cell_type": "code",
   "execution_count": 26,
   "id": "9eff1149",
   "metadata": {
    "execution": {
     "iopub.execute_input": "2024-10-27T07:56:57.803714Z",
     "iopub.status.busy": "2024-10-27T07:56:57.802619Z",
     "iopub.status.idle": "2024-10-27T07:56:57.811462Z",
     "shell.execute_reply": "2024-10-27T07:56:57.810304Z"
    },
    "papermill": {
     "duration": 0.040483,
     "end_time": "2024-10-27T07:56:57.813906",
     "exception": false,
     "start_time": "2024-10-27T07:56:57.773423",
     "status": "completed"
    },
    "tags": []
   },
   "outputs": [
    {
     "data": {
      "text/plain": [
       "({'randomforestclassifier__max_depth': 8,\n",
       "  'randomforestclassifier__n_estimators': 85},\n",
       " 0.8697342010295649)"
      ]
     },
     "execution_count": 26,
     "metadata": {},
     "output_type": "execute_result"
    }
   ],
   "source": [
    "# Retrieve the optimal hyperparameters and the best F1 score:\n",
    "\n",
    "optimal_parameters_rf = random_search_rf.best_params_\n",
    "optimal_score_rf = random_search_rf.best_score_\n",
    "optimal_parameters_rf, optimal_score_rf"
   ]
  },
  {
   "cell_type": "code",
   "execution_count": 27,
   "id": "131e513e",
   "metadata": {
    "execution": {
     "iopub.execute_input": "2024-10-27T07:56:57.872610Z",
     "iopub.status.busy": "2024-10-27T07:56:57.872145Z",
     "iopub.status.idle": "2024-10-27T07:56:57.933287Z",
     "shell.execute_reply": "2024-10-27T07:56:57.931976Z"
    },
    "papermill": {
     "duration": 0.09301,
     "end_time": "2024-10-27T07:56:57.935953",
     "exception": false,
     "start_time": "2024-10-27T07:56:57.842943",
     "status": "completed"
    },
    "tags": []
   },
   "outputs": [
    {
     "data": {
      "text/plain": [
       "(0.9201, 0.8806)"
      ]
     },
     "execution_count": 27,
     "metadata": {},
     "output_type": "execute_result"
    }
   ],
   "source": [
    "# Calculate and round the training and testing scores for the Random Forest model:\n",
    "\n",
    "training_score_rf = round(random_search_rf.score(X_train, y_train_encoded),4)\n",
    "testing_score_rf = round(random_search_rf.score(X_test, y_test_encoded),4)\n",
    "\n",
    "training_score_rf, testing_score_rf"
   ]
  },
  {
   "cell_type": "code",
   "execution_count": 28,
   "id": "a48c3c39",
   "metadata": {
    "execution": {
     "iopub.execute_input": "2024-10-27T07:56:57.994966Z",
     "iopub.status.busy": "2024-10-27T07:56:57.994511Z",
     "iopub.status.idle": "2024-10-27T07:56:58.028955Z",
     "shell.execute_reply": "2024-10-27T07:56:58.027844Z"
    },
    "papermill": {
     "duration": 0.06717,
     "end_time": "2024-10-27T07:56:58.031488",
     "exception": false,
     "start_time": "2024-10-27T07:56:57.964318",
     "status": "completed"
    },
    "tags": []
   },
   "outputs": [
    {
     "data": {
      "text/plain": [
       "0.905"
      ]
     },
     "execution_count": 28,
     "metadata": {},
     "output_type": "execute_result"
    }
   ],
   "source": [
    "# Get predicted probabilities Random Forest model:\n",
    "\n",
    "y_test_probs_rf = random_search_rf.predict_proba(X_test)[:, 1]\n",
    "roc_auc_rf = round(roc_auc_score(y_test_encoded, y_test_probs_rf),4)\n",
    "roc_auc_rf"
   ]
  },
  {
   "cell_type": "code",
   "execution_count": 29,
   "id": "213daa94",
   "metadata": {
    "execution": {
     "iopub.execute_input": "2024-10-27T07:56:58.090688Z",
     "iopub.status.busy": "2024-10-27T07:56:58.089970Z",
     "iopub.status.idle": "2024-10-27T07:56:58.404278Z",
     "shell.execute_reply": "2024-10-27T07:56:58.402904Z"
    },
    "papermill": {
     "duration": 0.346792,
     "end_time": "2024-10-27T07:56:58.407004",
     "exception": false,
     "start_time": "2024-10-27T07:56:58.060212",
     "status": "completed"
    },
    "tags": []
   },
   "outputs": [
    {
     "data": {
      "image/png": "[encoded data removed]",
      "text/plain": [
       "<Figure size 640x480 with 1 Axes>"
      ]
     },
     "metadata": {},
     "output_type": "display_data"
    }
   ],
   "source": [
    "# Compute the ROC curve:\n",
    "fpr, tpr, thresholds = roc_curve(y_test_encoded, y_test_probs_rf)\n",
    "\n",
    "# Plot the ROC curve:\n",
    "plt.figure()\n",
    "plt.plot(fpr, tpr, color='blue', label='ROC Curve (AUC = %0.2f)' % roc_auc_rf)\n",
    "plt.plot([0, 1], [0, 1], color='gray', linestyle='--')\n",
    "plt.xlabel('False Positive Rate')\n",
    "plt.ylabel('True Positive Rate')\n",
    "plt.title('ROC Curve')\n",
    "plt.legend(loc='lower right')\n",
    "plt.show()"
   ]
  },
  {
   "cell_type": "code",
   "execution_count": 30,
   "id": "434206a6",
   "metadata": {
    "execution": {
     "iopub.execute_input": "2024-10-27T07:56:58.466588Z",
     "iopub.status.busy": "2024-10-27T07:56:58.466153Z",
     "iopub.status.idle": "2024-10-27T07:57:06.695054Z",
     "shell.execute_reply": "2024-10-27T07:57:06.693887Z"
    },
    "papermill": {
     "duration": 8.261845,
     "end_time": "2024-10-27T07:57:06.697902",
     "exception": false,
     "start_time": "2024-10-27T07:56:58.436057",
     "status": "completed"
    },
    "tags": []
   },
   "outputs": [
    {
     "name": "stdout",
     "output_type": "stream",
     "text": [
      "Fitting 3 folds for each of 50 candidates, totalling 150 fits\n"
     ]
    },
    {
     "data": {
      "text/html": [
       "<style>#sk-container-id-2 {color: black;background-color: white;}#sk-container-id-2 pre{padding: 0;}#sk-container-id-2 div.sk-toggleable {background-color: white;}#sk-container-id-2 label.sk-toggleable__label {cursor: pointer;display: block;width: 100%;margin-bottom: 0;padding: 0.3em;box-sizing: border-box;text-align: center;}#sk-container-id-2 label.sk-toggleable__label-arrow:before {content: \"▸\";float: left;margin-right: 0.25em;color: #696969;}#sk-container-id-2 label.sk-toggleable__label-arrow:hover:before {color: black;}#sk-container-id-2 div.sk-estimator:hover label.sk-toggleable__label-arrow:before {color: black;}#sk-container-id-2 div.sk-toggleable__content {max-height: 0;max-width: 0;overflow: hidden;text-align: left;background-color: #f0f8ff;}#sk-container-id-2 div.sk-toggleable__content pre {margin: 0.2em;color: black;border-radius: 0.25em;background-color: #f0f8ff;}#sk-container-id-2 input.sk-toggleable__control:checked~div.sk-toggleable__content {max-height: 200px;max-width: 100%;overflow: auto;}#sk-container-id-2 input.sk-toggleable__control:checked~label.sk-toggleable__label-arrow:before {content: \"▾\";}#sk-container-id-2 div.sk-estimator input.sk-toggleable__control:checked~label.sk-toggleable__label {background-color: #d4ebff;}#sk-container-id-2 div.sk-label input.sk-toggleable__control:checked~label.sk-toggleable__label {background-color: #d4ebff;}#sk-container-id-2 input.sk-hidden--visually {border: 0;clip: rect(1px 1px 1px 1px);clip: rect(1px, 1px, 1px, 1px);height: 1px;margin: -1px;overflow: hidden;padding: 0;position: absolute;width: 1px;}#sk-container-id-2 div.sk-estimator {font-family: monospace;background-color: #f0f8ff;border: 1px dotted black;border-radius: 0.25em;box-sizing: border-box;margin-bottom: 0.5em;}#sk-container-id-2 div.sk-estimator:hover {background-color: #d4ebff;}#sk-container-id-2 div.sk-parallel-item::after {content: \"\";width: 100%;border-bottom: 1px solid gray;flex-grow: 1;}#sk-container-id-2 div.sk-label:hover label.sk-toggleable__label {background-color: #d4ebff;}#sk-container-id-2 div.sk-serial::before {content: \"\";position: absolute;border-left: 1px solid gray;box-sizing: border-box;top: 0;bottom: 0;left: 50%;z-index: 0;}#sk-container-id-2 div.sk-serial {display: flex;flex-direction: column;align-items: center;background-color: white;padding-right: 0.2em;padding-left: 0.2em;position: relative;}#sk-container-id-2 div.sk-item {position: relative;z-index: 1;}#sk-container-id-2 div.sk-parallel {display: flex;align-items: stretch;justify-content: center;background-color: white;position: relative;}#sk-container-id-2 div.sk-item::before, #sk-container-id-2 div.sk-parallel-item::before {content: \"\";position: absolute;border-left: 1px solid gray;box-sizing: border-box;top: 0;bottom: 0;left: 50%;z-index: -1;}#sk-container-id-2 div.sk-parallel-item {display: flex;flex-direction: column;z-index: 1;position: relative;background-color: white;}#sk-container-id-2 div.sk-parallel-item:first-child::after {align-self: flex-end;width: 50%;}#sk-container-id-2 div.sk-parallel-item:last-child::after {align-self: flex-start;width: 50%;}#sk-container-id-2 div.sk-parallel-item:only-child::after {width: 0;}#sk-container-id-2 div.sk-dashed-wrapped {border: 1px dashed gray;margin: 0 0.4em 0.5em 0.4em;box-sizing: border-box;padding-bottom: 0.4em;background-color: white;}#sk-container-id-2 div.sk-label label {font-family: monospace;font-weight: bold;display: inline-block;line-height: 1.2em;}#sk-container-id-2 div.sk-label-container {text-align: center;}#sk-container-id-2 div.sk-container {/* jupyter's `normalize.less` sets `[hidden] { display: none; }` but bootstrap.min.css set `[hidden] { display: none !important; }` so we also need the `!important` here to be able to override the default hidden behavior on the sphinx rendered scikit-learn.org. See: https://github.com/scikit-learn/scikit-learn/issues/21755 */display: inline-block !important;position: relative;}#sk-container-id-2 div.sk-text-repr-fallback {display: none;}</style><div id=\"sk-container-id-2\" class=\"sk-top-container\"><div class=\"sk-text-repr-fallback\"><pre>RandomizedSearchCV(cv=3,\n",
       "                   estimator=Pipeline(steps=[(&#x27;columntransformer&#x27;,\n",
       "                                              ColumnTransformer(transformers=[(&#x27;pipeline-1&#x27;,\n",
       "                                                                               Pipeline(steps=[(&#x27;simpleimputer&#x27;,\n",
       "                                                                                                SimpleImputer()),\n",
       "                                                                                               (&#x27;standardscaler&#x27;,\n",
       "                                                                                                StandardScaler())]),\n",
       "                                                                               [&#x27;MoisturePercent&#x27;]),\n",
       "                                                                              (&#x27;pipeline-2&#x27;,\n",
       "                                                                               Pipeline(steps=[(&#x27;simpleimputer&#x27;,\n",
       "                                                                                                SimpleImputer(strategy=&#x27;most_frequent&#x27;)),\n",
       "                                                                                               (&#x27;onehotencoder&#x27;,\n",
       "                                                                                                OneHotEncoder(handl...\n",
       "                                        &#x27;gradientboostingclassifier__min_samples_split&#x27;: &lt;scipy.stats._distn_infrastructure.rv_discrete_frozen object at 0x7feedc568b50&gt;,\n",
       "                                        &#x27;gradientboostingclassifier__n_estimators&#x27;: &lt;scipy.stats._distn_infrastructure.rv_discrete_frozen object at 0x7feedcf47340&gt;,\n",
       "                                        &#x27;gradientboostingclassifier__subsample&#x27;: &lt;scipy.stats._distn_infrastructure.rv_continuous_frozen object at 0x7feedc56b100&gt;},\n",
       "                   random_state=123, scoring=&#x27;f1&#x27;, verbose=1)</pre><b>In a Jupyter environment, please rerun this cell to show the HTML representation or trust the notebook. <br />On GitHub, the HTML representation is unable to render, please try loading this page with nbviewer.org.</b></div><div class=\"sk-container\" hidden><div class=\"sk-item sk-dashed-wrapped\"><div class=\"sk-label-container\"><div class=\"sk-label sk-toggleable\"><input class=\"sk-toggleable__control sk-hidden--visually\" id=\"sk-estimator-id-13\" type=\"checkbox\" ><label for=\"sk-estimator-id-13\" class=\"sk-toggleable__label sk-toggleable__label-arrow\">RandomizedSearchCV</label><div class=\"sk-toggleable__content\"><pre>RandomizedSearchCV(cv=3,\n",
       "                   estimator=Pipeline(steps=[(&#x27;columntransformer&#x27;,\n",
       "                                              ColumnTransformer(transformers=[(&#x27;pipeline-1&#x27;,\n",
       "                                                                               Pipeline(steps=[(&#x27;simpleimputer&#x27;,\n",
       "                                                                                                SimpleImputer()),\n",
       "                                                                                               (&#x27;standardscaler&#x27;,\n",
       "                                                                                                StandardScaler())]),\n",
       "                                                                               [&#x27;MoisturePercent&#x27;]),\n",
       "                                                                              (&#x27;pipeline-2&#x27;,\n",
       "                                                                               Pipeline(steps=[(&#x27;simpleimputer&#x27;,\n",
       "                                                                                                SimpleImputer(strategy=&#x27;most_frequent&#x27;)),\n",
       "                                                                                               (&#x27;onehotencoder&#x27;,\n",
       "                                                                                                OneHotEncoder(handl...\n",
       "                                        &#x27;gradientboostingclassifier__min_samples_split&#x27;: &lt;scipy.stats._distn_infrastructure.rv_discrete_frozen object at 0x7feedc568b50&gt;,\n",
       "                                        &#x27;gradientboostingclassifier__n_estimators&#x27;: &lt;scipy.stats._distn_infrastructure.rv_discrete_frozen object at 0x7feedcf47340&gt;,\n",
       "                                        &#x27;gradientboostingclassifier__subsample&#x27;: &lt;scipy.stats._distn_infrastructure.rv_continuous_frozen object at 0x7feedc56b100&gt;},\n",
       "                   random_state=123, scoring=&#x27;f1&#x27;, verbose=1)</pre></div></div></div><div class=\"sk-parallel\"><div class=\"sk-parallel-item\"><div class=\"sk-item\"><div class=\"sk-label-container\"><div class=\"sk-label sk-toggleable\"><input class=\"sk-toggleable__control sk-hidden--visually\" id=\"sk-estimator-id-14\" type=\"checkbox\" ><label for=\"sk-estimator-id-14\" class=\"sk-toggleable__label sk-toggleable__label-arrow\">estimator: Pipeline</label><div class=\"sk-toggleable__content\"><pre>Pipeline(steps=[(&#x27;columntransformer&#x27;,\n",
       "                 ColumnTransformer(transformers=[(&#x27;pipeline-1&#x27;,\n",
       "                                                  Pipeline(steps=[(&#x27;simpleimputer&#x27;,\n",
       "                                                                   SimpleImputer()),\n",
       "                                                                  (&#x27;standardscaler&#x27;,\n",
       "                                                                   StandardScaler())]),\n",
       "                                                  [&#x27;MoisturePercent&#x27;]),\n",
       "                                                 (&#x27;pipeline-2&#x27;,\n",
       "                                                  Pipeline(steps=[(&#x27;simpleimputer&#x27;,\n",
       "                                                                   SimpleImputer(strategy=&#x27;most_frequent&#x27;)),\n",
       "                                                                  (&#x27;onehotencoder&#x27;,\n",
       "                                                                   OneHotEncoder(handle_unknown=&#x27;ignore&#x27;))]),\n",
       "                                                  [&#x27;ManufacturerProvCode&#x27;,\n",
       "                                                   &#x27;ManufacturingTypeEn&#x27;,\n",
       "                                                   &#x27;CategoryTypeEn&#x27;,\n",
       "                                                   &#x27;MilkTypeEn&#x27;,\n",
       "                                                   &#x27;MilkTreatmentTypeEn&#x27;]),\n",
       "                                                 (&#x27;onehotencoder&#x27;,\n",
       "                                                  OneHotEncoder(drop=&#x27;if_binary&#x27;),\n",
       "                                                  [&#x27;Organic&#x27;])])),\n",
       "                (&#x27;gradientboostingclassifier&#x27;,\n",
       "                 GradientBoostingClassifier(random_state=123))])</pre></div></div></div><div class=\"sk-serial\"><div class=\"sk-item\"><div class=\"sk-serial\"><div class=\"sk-item sk-dashed-wrapped\"><div class=\"sk-label-container\"><div class=\"sk-label sk-toggleable\"><input class=\"sk-toggleable__control sk-hidden--visually\" id=\"sk-estimator-id-15\" type=\"checkbox\" ><label for=\"sk-estimator-id-15\" class=\"sk-toggleable__label sk-toggleable__label-arrow\">columntransformer: ColumnTransformer</label><div class=\"sk-toggleable__content\"><pre>ColumnTransformer(transformers=[(&#x27;pipeline-1&#x27;,\n",
       "                                 Pipeline(steps=[(&#x27;simpleimputer&#x27;,\n",
       "                                                  SimpleImputer()),\n",
       "                                                 (&#x27;standardscaler&#x27;,\n",
       "                                                  StandardScaler())]),\n",
       "                                 [&#x27;MoisturePercent&#x27;]),\n",
       "                                (&#x27;pipeline-2&#x27;,\n",
       "                                 Pipeline(steps=[(&#x27;simpleimputer&#x27;,\n",
       "                                                  SimpleImputer(strategy=&#x27;most_frequent&#x27;)),\n",
       "                                                 (&#x27;onehotencoder&#x27;,\n",
       "                                                  OneHotEncoder(handle_unknown=&#x27;ignore&#x27;))]),\n",
       "                                 [&#x27;ManufacturerProvCode&#x27;, &#x27;ManufacturingTypeEn&#x27;,\n",
       "                                  &#x27;CategoryTypeEn&#x27;, &#x27;MilkTypeEn&#x27;,\n",
       "                                  &#x27;MilkTreatmentTypeEn&#x27;]),\n",
       "                                (&#x27;onehotencoder&#x27;,\n",
       "                                 OneHotEncoder(drop=&#x27;if_binary&#x27;),\n",
       "                                 [&#x27;Organic&#x27;])])</pre></div></div></div><div class=\"sk-parallel\"><div class=\"sk-parallel-item\"><div class=\"sk-item\"><div class=\"sk-label-container\"><div class=\"sk-label sk-toggleable\"><input class=\"sk-toggleable__control sk-hidden--visually\" id=\"sk-estimator-id-16\" type=\"checkbox\" ><label for=\"sk-estimator-id-16\" class=\"sk-toggleable__label sk-toggleable__label-arrow\">pipeline-1</label><div class=\"sk-toggleable__content\"><pre>[&#x27;MoisturePercent&#x27;]</pre></div></div></div><div class=\"sk-serial\"><div class=\"sk-item\"><div class=\"sk-serial\"><div class=\"sk-item\"><div class=\"sk-estimator sk-toggleable\"><input class=\"sk-toggleable__control sk-hidden--visually\" id=\"sk-estimator-id-17\" type=\"checkbox\" ><label for=\"sk-estimator-id-17\" class=\"sk-toggleable__label sk-toggleable__label-arrow\">SimpleImputer</label><div class=\"sk-toggleable__content\"><pre>SimpleImputer()</pre></div></div></div><div class=\"sk-item\"><div class=\"sk-estimator sk-toggleable\"><input class=\"sk-toggleable__control sk-hidden--visually\" id=\"sk-estimator-id-18\" type=\"checkbox\" ><label for=\"sk-estimator-id-18\" class=\"sk-toggleable__label sk-toggleable__label-arrow\">StandardScaler</label><div class=\"sk-toggleable__content\"><pre>StandardScaler()</pre></div></div></div></div></div></div></div></div><div class=\"sk-parallel-item\"><div class=\"sk-item\"><div class=\"sk-label-container\"><div class=\"sk-label sk-toggleable\"><input class=\"sk-toggleable__control sk-hidden--visually\" id=\"sk-estimator-id-19\" type=\"checkbox\" ><label for=\"sk-estimator-id-19\" class=\"sk-toggleable__label sk-toggleable__label-arrow\">pipeline-2</label><div class=\"sk-toggleable__content\"><pre>[&#x27;ManufacturerProvCode&#x27;, &#x27;ManufacturingTypeEn&#x27;, &#x27;CategoryTypeEn&#x27;, &#x27;MilkTypeEn&#x27;, &#x27;MilkTreatmentTypeEn&#x27;]</pre></div></div></div><div class=\"sk-serial\"><div class=\"sk-item\"><div class=\"sk-serial\"><div class=\"sk-item\"><div class=\"sk-estimator sk-toggleable\"><input class=\"sk-toggleable__control sk-hidden--visually\" id=\"sk-estimator-id-20\" type=\"checkbox\" ><label for=\"sk-estimator-id-20\" class=\"sk-toggleable__label sk-toggleable__label-arrow\">SimpleImputer</label><div class=\"sk-toggleable__content\"><pre>SimpleImputer(strategy=&#x27;most_frequent&#x27;)</pre></div></div></div><div class=\"sk-item\"><div class=\"sk-estimator sk-toggleable\"><input class=\"sk-toggleable__control sk-hidden--visually\" id=\"sk-estimator-id-21\" type=\"checkbox\" ><label for=\"sk-estimator-id-21\" class=\"sk-toggleable__label sk-toggleable__label-arrow\">OneHotEncoder</label><div class=\"sk-toggleable__content\"><pre>OneHotEncoder(handle_unknown=&#x27;ignore&#x27;)</pre></div></div></div></div></div></div></div></div><div class=\"sk-parallel-item\"><div class=\"sk-item\"><div class=\"sk-label-container\"><div class=\"sk-label sk-toggleable\"><input class=\"sk-toggleable__control sk-hidden--visually\" id=\"sk-estimator-id-22\" type=\"checkbox\" ><label for=\"sk-estimator-id-22\" class=\"sk-toggleable__label sk-toggleable__label-arrow\">onehotencoder</label><div class=\"sk-toggleable__content\"><pre>[&#x27;Organic&#x27;]</pre></div></div></div><div class=\"sk-serial\"><div class=\"sk-item\"><div class=\"sk-estimator sk-toggleable\"><input class=\"sk-toggleable__control sk-hidden--visually\" id=\"sk-estimator-id-23\" type=\"checkbox\" ><label for=\"sk-estimator-id-23\" class=\"sk-toggleable__label sk-toggleable__label-arrow\">OneHotEncoder</label><div class=\"sk-toggleable__content\"><pre>OneHotEncoder(drop=&#x27;if_binary&#x27;)</pre></div></div></div></div></div></div></div></div><div class=\"sk-item\"><div class=\"sk-estimator sk-toggleable\"><input class=\"sk-toggleable__control sk-hidden--visually\" id=\"sk-estimator-id-24\" type=\"checkbox\" ><label for=\"sk-estimator-id-24\" class=\"sk-toggleable__label sk-toggleable__label-arrow\">GradientBoostingClassifier</label><div class=\"sk-toggleable__content\"><pre>GradientBoostingClassifier(random_state=123)</pre></div></div></div></div></div></div></div></div></div></div></div></div>"
      ],
      "text/plain": [
       "RandomizedSearchCV(cv=3,\n",
       "                   estimator=Pipeline(steps=[('columntransformer',\n",
       "                                              ColumnTransformer(transformers=[('pipeline-1',\n",
       "                                                                               Pipeline(steps=[('simpleimputer',\n",
       "                                                                                                SimpleImputer()),\n",
       "                                                                                               ('standardscaler',\n",
       "                                                                                                StandardScaler())]),\n",
       "                                                                               ['MoisturePercent']),\n",
       "                                                                              ('pipeline-2',\n",
       "                                                                               Pipeline(steps=[('simpleimputer',\n",
       "                                                                                                SimpleImputer(strategy='most_frequent')),\n",
       "                                                                                               ('onehotencoder',\n",
       "                                                                                                OneHotEncoder(handl...\n",
       "                                        'gradientboostingclassifier__min_samples_split': <scipy.stats._distn_infrastructure.rv_discrete_frozen object at 0x7feedc568b50>,\n",
       "                                        'gradientboostingclassifier__n_estimators': <scipy.stats._distn_infrastructure.rv_discrete_frozen object at 0x7feedcf47340>,\n",
       "                                        'gradientboostingclassifier__subsample': <scipy.stats._distn_infrastructure.rv_continuous_frozen object at 0x7feedc56b100>},\n",
       "                   random_state=123, scoring='f1', verbose=1)"
      ]
     },
     "execution_count": 30,
     "metadata": {},
     "output_type": "execute_result"
    }
   ],
   "source": [
    "# Define the hyperparameter distribution for Gradient Boosting Classifier:\n",
    "param_dist_gbc = {\n",
    "    \"gradientboostingclassifier__n_estimators\": randint(20, 70),\n",
    "    \"gradientboostingclassifier__max_depth\": randint(2, 10),\n",
    "    \"gradientboostingclassifier__min_samples_split\": randint(2, 20),\n",
    "    \"gradientboostingclassifier__min_samples_leaf\": randint(1, 20),\n",
    "    \"gradientboostingclassifier__subsample\": uniform(0.5, 0.5),\n",
    "    \"gradientboostingclassifier__learning_rate\": uniform(0.01, 0.3)\n",
    "}\n",
    "\n",
    "# Perform RandomizedSearchCV to optimize hyperparameters:\n",
    "random_search_gbc = RandomizedSearchCV(\n",
    "    gbc_pipe,\n",
    "    param_distributions=param_dist_gbc,\n",
    "    n_iter=50,\n",
    "    cv=3,\n",
    "    verbose=1,\n",
    "    n_jobs=-1,\n",
    "    scoring=\"f1\",\n",
    "    random_state=123,\n",
    ")\n",
    "\n",
    "# Fit the model on the training data:\n",
    "random_search_gbc.fit(X_train, y_train_encoded)"
   ]
  },
  {
   "cell_type": "code",
   "execution_count": 31,
   "id": "b82e9d0f",
   "metadata": {
    "execution": {
     "iopub.execute_input": "2024-10-27T07:57:06.758768Z",
     "iopub.status.busy": "2024-10-27T07:57:06.757880Z",
     "iopub.status.idle": "2024-10-27T07:57:06.766953Z",
     "shell.execute_reply": "2024-10-27T07:57:06.765596Z"
    },
    "papermill": {
     "duration": 0.042233,
     "end_time": "2024-10-27T07:57:06.769490",
     "exception": false,
     "start_time": "2024-10-27T07:57:06.727257",
     "status": "completed"
    },
    "tags": []
   },
   "outputs": [
    {
     "data": {
      "text/plain": [
       "({'gradientboostingclassifier__learning_rate': 0.16349641522460495,\n",
       "  'gradientboostingclassifier__max_depth': 5,\n",
       "  'gradientboostingclassifier__min_samples_leaf': 2,\n",
       "  'gradientboostingclassifier__min_samples_split': 6,\n",
       "  'gradientboostingclassifier__n_estimators': 50,\n",
       "  'gradientboostingclassifier__subsample': 0.9274864079120382},\n",
       " 0.8897441079259262)"
      ]
     },
     "execution_count": 31,
     "metadata": {},
     "output_type": "execute_result"
    }
   ],
   "source": [
    "# Retrieve the optimal hyperparameters and the best F1 score:\n",
    "\n",
    "optimal_parameters_gbc = random_search_gbc.best_params_\n",
    "optimal_score_gbc = random_search_gbc.best_score_\n",
    "optimal_parameters_gbc, optimal_score_gbc"
   ]
  },
  {
   "cell_type": "code",
   "execution_count": 32,
   "id": "695c6fbb",
   "metadata": {
    "execution": {
     "iopub.execute_input": "2024-10-27T07:57:06.831071Z",
     "iopub.status.busy": "2024-10-27T07:57:06.830204Z",
     "iopub.status.idle": "2024-10-27T07:57:06.869214Z",
     "shell.execute_reply": "2024-10-27T07:57:06.868009Z"
    },
    "papermill": {
     "duration": 0.072604,
     "end_time": "2024-10-27T07:57:06.871826",
     "exception": false,
     "start_time": "2024-10-27T07:57:06.799222",
     "status": "completed"
    },
    "tags": []
   },
   "outputs": [
    {
     "data": {
      "text/plain": [
       "(0.9434, 0.8864)"
      ]
     },
     "execution_count": 32,
     "metadata": {},
     "output_type": "execute_result"
    }
   ],
   "source": [
    "# Calculate and round the training and testing scores for the Gradient Boosting Classifier:\n",
    "\n",
    "training_score_gbc = round(random_search_gbc.score(X_train, y_train_encoded), 4)\n",
    "testing_score_gbc = round(random_search_gbc.score(X_test, y_test_encoded), 4)\n",
    "\n",
    "training_score_gbc, testing_score_gbc"
   ]
  },
  {
   "cell_type": "code",
   "execution_count": 33,
   "id": "ddf86c82",
   "metadata": {
    "execution": {
     "iopub.execute_input": "2024-10-27T07:57:06.934776Z",
     "iopub.status.busy": "2024-10-27T07:57:06.934314Z",
     "iopub.status.idle": "2024-10-27T07:57:06.956297Z",
     "shell.execute_reply": "2024-10-27T07:57:06.955036Z"
    },
    "papermill": {
     "duration": 0.056513,
     "end_time": "2024-10-27T07:57:06.958939",
     "exception": false,
     "start_time": "2024-10-27T07:57:06.902426",
     "status": "completed"
    },
    "tags": []
   },
   "outputs": [
    {
     "data": {
      "text/plain": [
       "0.9177"
      ]
     },
     "execution_count": 33,
     "metadata": {},
     "output_type": "execute_result"
    }
   ],
   "source": [
    "# Get predicted probabilities for Gradient Boosting:\n",
    "y_test_probs_gbc = random_search_gbc.predict_proba(X_test)[:, 1]\n",
    "roc_auc_gbc = round(roc_auc_score(y_test_encoded, y_test_probs_gbc),4)\n",
    "roc_auc_gbc"
   ]
  },
  {
   "cell_type": "code",
   "execution_count": 34,
   "id": "c9e67d21",
   "metadata": {
    "execution": {
     "iopub.execute_input": "2024-10-27T07:57:07.020314Z",
     "iopub.status.busy": "2024-10-27T07:57:07.019707Z",
     "iopub.status.idle": "2024-10-27T07:57:07.402221Z",
     "shell.execute_reply": "2024-10-27T07:57:07.400982Z"
    },
    "papermill": {
     "duration": 0.416128,
     "end_time": "2024-10-27T07:57:07.404744",
     "exception": false,
     "start_time": "2024-10-27T07:57:06.988616",
     "status": "completed"
    },
    "tags": []
   },
   "outputs": [
    {
     "data": {
      "image/png": "[encoded data removed]",
      "text/plain": [
       "<Figure size 640x480 with 1 Axes>"
      ]
     },
     "metadata": {},
     "output_type": "display_data"
    }
   ],
   "source": [
    "# Compute the ROC curve:\n",
    "fpr, tpr, thresholds = roc_curve(y_test_encoded, y_test_probs_gbc)\n",
    "\n",
    "# Plot the ROC curve:\n",
    "plt.figure()\n",
    "plt.plot(fpr, tpr, color='green', label='ROC Curve (AUC = %0.2f)' % roc_auc_gbc)\n",
    "plt.plot([0, 1], [0, 1], color='gray', linestyle='--')\n",
    "plt.xlabel('False Positive Rate')\n",
    "plt.ylabel('True Positive Rate')\n",
    "plt.title('ROC Curve for Gradient Boosting')\n",
    "plt.legend(loc='lower right')\n",
    "plt.show()"
   ]
  },
  {
   "cell_type": "code",
   "execution_count": 35,
   "id": "26e379eb",
   "metadata": {
    "execution": {
     "iopub.execute_input": "2024-10-27T07:57:07.468642Z",
     "iopub.status.busy": "2024-10-27T07:57:07.468173Z",
     "iopub.status.idle": "2024-10-27T07:57:07.483546Z",
     "shell.execute_reply": "2024-10-27T07:57:07.482403Z"
    },
    "papermill": {
     "duration": 0.050778,
     "end_time": "2024-10-27T07:57:07.486013",
     "exception": false,
     "start_time": "2024-10-27T07:57:07.435235",
     "status": "completed"
    },
    "tags": []
   },
   "outputs": [
    {
     "data": {
      "text/html": [
       "<div>\n",
       "<style scoped>\n",
       "    .dataframe tbody tr th:only-of-type {\n",
       "        vertical-align: middle;\n",
       "    }\n",
       "\n",
       "    .dataframe tbody tr th {\n",
       "        vertical-align: top;\n",
       "    }\n",
       "\n",
       "    .dataframe thead th {\n",
       "        text-align: right;\n",
       "    }\n",
       "</style>\n",
       "<table border=\"1\" class=\"dataframe\">\n",
       "  <thead>\n",
       "    <tr style=\"text-align: right;\">\n",
       "      <th></th>\n",
       "      <th>Model</th>\n",
       "      <th>Training Score</th>\n",
       "      <th>Testing Score</th>\n",
       "      <th>ROC AUC Score</th>\n",
       "    </tr>\n",
       "  </thead>\n",
       "  <tbody>\n",
       "    <tr>\n",
       "      <th>0</th>\n",
       "      <td>Random Forest</td>\n",
       "      <td>0.9201</td>\n",
       "      <td>0.8806</td>\n",
       "      <td>0.9050</td>\n",
       "    </tr>\n",
       "    <tr>\n",
       "      <th>1</th>\n",
       "      <td>Gradient Boosting</td>\n",
       "      <td>0.9434</td>\n",
       "      <td>0.8864</td>\n",
       "      <td>0.9177</td>\n",
       "    </tr>\n",
       "  </tbody>\n",
       "</table>\n",
       "</div>"
      ],
      "text/plain": [
       "               Model  Training Score  Testing Score  ROC AUC Score\n",
       "0      Random Forest          0.9201         0.8806         0.9050\n",
       "1  Gradient Boosting          0.9434         0.8864         0.9177"
      ]
     },
     "execution_count": 35,
     "metadata": {},
     "output_type": "execute_result"
    }
   ],
   "source": [
    "# Comparison of the scores from the two models:\n",
    "\n",
    "model_scores = {\n",
    "    'Model': ['Random Forest', 'Gradient Boosting'],\n",
    "    'Training Score': [training_score_rf, training_score_gbc],\n",
    "    'Testing Score': [testing_score_rf, testing_score_gbc],\n",
    "    'ROC AUC Score': [roc_auc_rf, roc_auc_gbc]\n",
    "}\n",
    "\n",
    "# Create the DataFrame from the scores:\n",
    "results_df = pd.DataFrame(model_scores)\n",
    "results_df"
   ]
  },
  {
   "cell_type": "markdown",
   "id": "55d3cca0",
   "metadata": {
    "papermill": {
     "duration": 0.031009,
     "end_time": "2024-10-27T07:57:07.548122",
     "exception": false,
     "start_time": "2024-10-27T07:57:07.517113",
     "status": "completed"
    },
    "tags": []
   },
   "source": [
    "## In comparing the two models, the training and testing scores indicate that the Random Forest model is slightly better.\n",
    "\n",
    "**Here’s why:**\n",
    "\n",
    "- Random Forest has a training score of 0.9201 and a testing score of 0.8806, indicating a well-generalized model with only a modest gap between training and testing scores.\n",
    "\n",
    "- Gradient Boosting has a training score of 0.9434 and a testing score of 0.8864. Although it performs well, the slightly higher training score suggests some overfitting compared to the Random Forest model.\n",
    "\n",
    "- Thus, Random Forest is performing slightly better and is more balanced between training and testing performance."
   ]
  },
  {
   "cell_type": "code",
   "execution_count": 36,
   "id": "d14eb190",
   "metadata": {
    "execution": {
     "iopub.execute_input": "2024-10-27T07:57:07.613856Z",
     "iopub.status.busy": "2024-10-27T07:57:07.613303Z",
     "iopub.status.idle": "2024-10-27T07:57:07.919388Z",
     "shell.execute_reply": "2024-10-27T07:57:07.918118Z"
    },
    "papermill": {
     "duration": 0.341647,
     "end_time": "2024-10-27T07:57:07.922138",
     "exception": false,
     "start_time": "2024-10-27T07:57:07.580491",
     "status": "completed"
    },
    "tags": []
   },
   "outputs": [
    {
     "data": {
      "text/plain": [
       "<sklearn.metrics._plot.confusion_matrix.ConfusionMatrixDisplay at 0x7feee31e7d90>"
      ]
     },
     "execution_count": 36,
     "metadata": {},
     "output_type": "execute_result"
    },
    {
     "data": {
      "image/png": "[encoded data removed]",
      "text/plain": [
       "<Figure size 640x480 with 2 Axes>"
      ]
     },
     "metadata": {},
     "output_type": "display_data"
    }
   ],
   "source": [
    "# Generate and plot the normalized confusion matrix to visualize the performance of the Random Forest model:\n",
    "\n",
    "test_predictions = random_search_rf.predict(X_test)\n",
    "conf_matrix = confusion_matrix(y_test_encoded, test_predictions, normalize='true')\n",
    "cm_plot = ConfusionMatrixDisplay(conf_matrix)\n",
    "cm_plot.plot()"
   ]
  },
  {
   "cell_type": "code",
   "execution_count": 37,
   "id": "6619373d",
   "metadata": {
    "execution": {
     "iopub.execute_input": "2024-10-27T07:57:07.988020Z",
     "iopub.status.busy": "2024-10-27T07:57:07.987538Z",
     "iopub.status.idle": "2024-10-27T07:57:08.013846Z",
     "shell.execute_reply": "2024-10-27T07:57:08.012589Z"
    },
    "papermill": {
     "duration": 0.062389,
     "end_time": "2024-10-27T07:57:08.016610",
     "exception": false,
     "start_time": "2024-10-27T07:57:07.954221",
     "status": "completed"
    },
    "tags": []
   },
   "outputs": [
    {
     "data": {
      "text/html": [
       "<div>\n",
       "<style scoped>\n",
       "    .dataframe tbody tr th:only-of-type {\n",
       "        vertical-align: middle;\n",
       "    }\n",
       "\n",
       "    .dataframe tbody tr th {\n",
       "        vertical-align: top;\n",
       "    }\n",
       "\n",
       "    .dataframe thead th {\n",
       "        text-align: right;\n",
       "    }\n",
       "</style>\n",
       "<table border=\"1\" class=\"dataframe\">\n",
       "  <thead>\n",
       "    <tr style=\"text-align: right;\">\n",
       "      <th></th>\n",
       "      <th>0</th>\n",
       "      <th>1</th>\n",
       "      <th>accuracy</th>\n",
       "      <th>macro avg</th>\n",
       "      <th>weighted avg</th>\n",
       "    </tr>\n",
       "  </thead>\n",
       "  <tbody>\n",
       "    <tr>\n",
       "      <th>precision</th>\n",
       "      <td>0.766234</td>\n",
       "      <td>0.893939</td>\n",
       "      <td>0.84689</td>\n",
       "      <td>0.830087</td>\n",
       "      <td>0.849334</td>\n",
       "    </tr>\n",
       "    <tr>\n",
       "      <th>recall</th>\n",
       "      <td>0.808219</td>\n",
       "      <td>0.867647</td>\n",
       "      <td>0.84689</td>\n",
       "      <td>0.837933</td>\n",
       "      <td>0.846890</td>\n",
       "    </tr>\n",
       "    <tr>\n",
       "      <th>f1-score</th>\n",
       "      <td>0.786667</td>\n",
       "      <td>0.880597</td>\n",
       "      <td>0.84689</td>\n",
       "      <td>0.833632</td>\n",
       "      <td>0.847789</td>\n",
       "    </tr>\n",
       "    <tr>\n",
       "      <th>support</th>\n",
       "      <td>73.000000</td>\n",
       "      <td>136.000000</td>\n",
       "      <td>0.84689</td>\n",
       "      <td>209.000000</td>\n",
       "      <td>209.000000</td>\n",
       "    </tr>\n",
       "  </tbody>\n",
       "</table>\n",
       "</div>"
      ],
      "text/plain": [
       "                   0           1  accuracy   macro avg  weighted avg\n",
       "precision   0.766234    0.893939   0.84689    0.830087      0.849334\n",
       "recall      0.808219    0.867647   0.84689    0.837933      0.846890\n",
       "f1-score    0.786667    0.880597   0.84689    0.833632      0.847789\n",
       "support    73.000000  136.000000   0.84689  209.000000    209.000000"
      ]
     },
     "execution_count": 37,
     "metadata": {},
     "output_type": "execute_result"
    }
   ],
   "source": [
    "# Generate a classification report to evaluate the performance of the Random Forest model on the test set:\n",
    "\n",
    "report = classification_report(y_test_encoded, test_predictions, output_dict=True)\n",
    "report_df = pd.DataFrame(report)\n",
    "report_df"
   ]
  },
  {
   "cell_type": "markdown",
   "id": "eca2bddf",
   "metadata": {
    "papermill": {
     "duration": 0.032323,
     "end_time": "2024-10-27T07:57:08.082145",
     "exception": false,
     "start_time": "2024-10-27T07:57:08.049822",
     "status": "completed"
    },
    "tags": []
   },
   "source": [
    "# Concluding Remarks\n",
    "\n",
    "- In this project, we aimed to predict the fat level in cheeses using various classification models.\n",
    "\n",
    "- After preprocessing the data and testing multiple machine learning algorithms, we found that **Random Forest and Gradient Boosting** models performed best, especially in terms of **recall and f1-score**, which were our primary evaluation metrics. We selected these metrics because predicting \"higher fat\" cheeses incorrectly as \"lower fat\" could have serious health implications, so we prioritized minimizing false negatives."
   ]
  },
  {
   "cell_type": "markdown",
   "id": "640a5924",
   "metadata": {
    "papermill": {
     "duration": 0.031786,
     "end_time": "2024-10-27T07:57:08.146015",
     "exception": false,
     "start_time": "2024-10-27T07:57:08.114229",
     "status": "completed"
    },
    "tags": []
   },
   "source": [
    "# Interpretation of Results\n",
    "\n",
    "- The final model, **Random Forest**, achieved a solid balance between training and testing scores with a test recall of 0.87 and an f1-score of 0.88.\n",
    "\n",
    "- These results indicate that the model generalizes well and has a good ability to correctly identify \"higher fat\" cheeses without overfitting to the training data.\n",
    "\n",
    "- The confusion matrix also reflects a relatively low number of false negatives, which was our primary concern given the context of the project."
   ]
  },
  {
   "cell_type": "markdown",
   "id": "3fc9e86f",
   "metadata": {
    "papermill": {
     "duration": 0.03096,
     "end_time": "2024-10-27T07:57:08.208583",
     "exception": false,
     "start_time": "2024-10-27T07:57:08.177623",
     "status": "completed"
    },
    "tags": []
   },
   "source": [
    "# Limitations of the Model and Approach\n",
    "\n",
    "While the Random Forest model performed well, there are several limitations:\n",
    "\n",
    "**Data Size**: The dataset, although adequate, could benefit from more observations. A larger dataset could potentially improve the model's ability to generalize, especially for rare cheese types or lesser-known manufacturers.\n",
    "\n",
    "**Imbalanced Data**: While we used class weighting to mitigate the impact of class imbalance between \"lower fat\" and \"higher fat\" cheeses, more advanced sampling techniques (e.g., SMOTE) could be explored to further enhance recall for \"higher fat\" cheeses.\n",
    "\n",
    "**Overfitting Potential**: Although cross-validation was used, the difference between training and testing scores suggests that there might still be some overfitting. Further tuning could mitigate this issue."
   ]
  },
  {
   "cell_type": "markdown",
   "id": "d0ce0aa5",
   "metadata": {
    "papermill": {
     "duration": 0.03117,
     "end_time": "2024-10-27T07:57:08.271033",
     "exception": false,
     "start_time": "2024-10-27T07:57:08.239863",
     "status": "completed"
    },
    "tags": []
   },
   "source": [
    "# Potential Sources of Bias\n",
    "\n",
    "Bias in our model could stem from:\n",
    "\n",
    "**Manufacturer Bias**: Certain manufacturers and provinces appeared more frequently in the dataset, which could skew the model's predictions. If certain regions or manufacturers were underrepresented, the model might not generalize well to cheeses from those sources.\n",
    "\n",
    "**Data Quality**: Missing values, particularly in the categorical features, were imputed with the most frequent values, which might introduce noise into the predictions. Alternative imputation strategies could be explored to improve the model's robustness."
   ]
  },
  {
   "cell_type": "markdown",
   "id": "95385ffc",
   "metadata": {
    "papermill": {
     "duration": 0.031333,
     "end_time": "2024-10-27T07:57:08.333815",
     "exception": false,
     "start_time": "2024-10-27T07:57:08.302482",
     "status": "completed"
    },
    "tags": []
   },
   "source": [
    "# Ideas for Improvement\n",
    "\n",
    "Several approaches could be tried to further enhance the model’s performance:\n",
    "\n",
    "**Hyperparameter Optimization**: While we performed random search optimization, a more exhaustive grid search or Bayesian optimization might yield better hyperparameters.\n",
    "\n",
    "**Ensemble Methods**: We could combine multiple models using ensemble techniques like stacking or voting to leverage the strengths of different models.\n",
    "\n",
    "**Additional Feature Engineering**: We could explore more sophisticated feature engineering techniques, such as interaction terms or domain-specific knowledge, to better capture underlying patterns in the data.\n",
    "\n",
    "By addressing these limitations and exploring further improvements, the model could achieve even greater accuracy and interpretability, ultimately enhancing its value for practical use in identifying cheese fat levels."
   ]
  },
  {
   "cell_type": "markdown",
   "id": "6f93acba",
   "metadata": {
    "papermill": {
     "duration": 0.031163,
     "end_time": "2024-10-27T07:57:08.396566",
     "exception": false,
     "start_time": "2024-10-27T07:57:08.365403",
     "status": "completed"
    },
    "tags": []
   },
   "source": [
    "# List of References:\n",
    "\n",
    "1. Gradient Boosting in Scikit-learn:\n",
    "https://scikit-learn.org/stable/modules/ensemble.html#gradient-boosting\n",
    "\n",
    "2. ROC Curve and AUC:\n",
    "https://scikit-learn.org/stable/modules/generated/sklearn.metrics.roc_auc_score.html\n",
    "\n",
    "3. Matplotlib (Plotting Library):\n",
    "https://matplotlib.org/stable/gallery/index.html\n",
    "\n",
    "4. Imputing Missing Values in Scikit-learn:\n",
    "https://scikit-learn.org/stable/modules/impute.html\n",
    "\n",
    "5. RandomizedSearchCV Documentation:\n",
    "https://scikit-learn.org/stable/modules/generated/sklearn.model_selection.RandomizedSearchCV.html"
   ]
  }
 ],
 "metadata": {
  "kaggle": {
   "accelerator": "none",
   "dataSources": [
    {
     "datasetId": 5724889,
     "sourceId": 9424724,
     "sourceType": "datasetVersion"
    }
   ],
   "dockerImageVersionId": 30786,
   "isGpuEnabled": false,
   "isInternetEnabled": true,
   "language": "python",
   "sourceType": "notebook"
  },
  "kernelspec": {
   "display_name": "Python 3",
   "language": "python",
   "name": "python3"
  },
  "language_info": {
   "codemirror_mode": {
    "name": "ipython",
    "version": 3
   },
   "file_extension": ".py",
   "mimetype": "text/x-python",
   "name": "python",
   "nbconvert_exporter": "python",
   "pygments_lexer": "ipython3",
   "version": "3.10.14"
  },
  "papermill": {
   "default_parameters": {},
   "duration": 40.777324,
   "end_time": "2024-10-27T07:57:11.050448",
   "environment_variables": {},
   "exception": null,
   "input_path": "__notebook__.ipynb",
   "output_path": "__notebook__.ipynb",
   "parameters": {},
   "start_time": "2024-10-27T07:56:30.273124",
   "version": "2.6.0"
  }
 },
 "nbformat": 4,
 "nbformat_minor": 5
}
