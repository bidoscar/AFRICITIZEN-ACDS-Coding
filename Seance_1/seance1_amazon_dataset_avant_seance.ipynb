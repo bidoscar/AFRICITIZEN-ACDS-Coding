{
  "cells": [
    {
      "cell_type": "markdown",
      "metadata": {
        "id": "lk7XLKdfMOaK"
      },
      "source": [
        "# 📦 **Séance 1 — Manipulation avec Pandas & Numpy (Amazon Dataset)**\n",
        "**Objectif :** Charger, inspecter, manipuler et explorer des données tabulaires réelles avec `pandas`.\n"
      ]
    },
    {
      "cell_type": "code",
      "execution_count": null,
      "metadata": {
        "id": "AzChTYAIMOay"
      },
      "outputs": [],
      "source": [
        "# Importer les bibliotheques dont aura besoin\n",
        "import pandas as pd\n",
        "import numpy as np"
      ]
    },
    {
      "cell_type": "markdown",
      "source": [
        "## **Description du jeu de données Amazon Dataset**"
      ],
      "metadata": {
        "id": "uEXxqbG6GCli"
      }
    },
    {
      "cell_type": "markdown",
      "source": [
        "| Colonne             | Description en français                                                   |\n",
        "|---------------------|---------------------------------------------------------------------------|\n",
        "| `product_id`        | Identifiant unique du produit                                             |\n",
        "| `product_name`      | Nom du produit                                                            |\n",
        "| `category`          | Catégorie ou arborescence du produit sur Amazon                          |\n",
        "| `discounted_price`  | Prix remisé du produit (après réduction)                                 |\n",
        "| `actual_price`      | Prix initial (sans réduction)                                            |\n",
        "| `discount_percentage` | Pourcentage de réduction appliqué                                     |\n",
        "| `rating`            | Note moyenne donnée par les utilisateurs (sur 5)                         |\n",
        "| `rating_count`      | Nombre d’utilisateurs ayant évalué le produit                            |\n",
        "| `about_product`     | Description ou caractéristiques principales du produit                   |\n",
        "| `user_id`           | Identifiant(s) des utilisateur(s) ayant laissé un avis                   |\n",
        "| `user_name`         | Nom(s) des utilisateur(s) ayant laissé un avis                           |\n",
        "| `review_id`         | Identifiant unique de l’avis utilisateur                                 |\n",
        "| `review_title`      | Titre court ou résumé de l’avis                                          |\n",
        "| `review_content`    | Contenu détaillé de l’avis                                                |\n",
        "| `img_link`          | Lien vers l’image du produit                                              |\n",
        "| `product_link`      | Lien vers la fiche produit officielle sur Amazon                         |\n"
      ],
      "metadata": {
        "id": "U6q9F_I9HKsI"
      }
    },
    {
      "cell_type": "code",
      "source": [
        "# Charger notre jeux de donnees\n",
        "# Completer la ligne de code suivante pour charger les données\n",
        "df =\n",
        "df.head()"
      ],
      "metadata": {
        "id": "cGCIP75CRF_o"
      },
      "execution_count": null,
      "outputs": []
    },
    {
      "cell_type": "markdown",
      "metadata": {
        "id": "9Wj3SfjhMOa-"
      },
      "source": [
        "## 🔍 Exploration des données\n",
        "- Dimensions du dataset\n",
        "- Types de données\n",
        "- Valeurs manquantes"
      ]
    },
    {
      "cell_type": "code",
      "execution_count": null,
      "metadata": {
        "id": "1w54VK6tMObD"
      },
      "outputs": [],
      "source": [
        "# Vérifier la taille du jeu de données\n",
        "df.shape"
      ]
    },
    {
      "cell_type": "code",
      "source": [
        "# Obtenir des informations génerales sur les données\n",
        "df.info()"
      ],
      "metadata": {
        "id": "7n_PXQ9vKbmt"
      },
      "execution_count": null,
      "outputs": []
    },
    {
      "cell_type": "code",
      "source": [
        "# Vérifier les valeurs manquantes\n",
        "df.isnull().sum()"
      ],
      "metadata": {
        "id": "CJKByIA5KdUi"
      },
      "execution_count": null,
      "outputs": []
    },
    {
      "cell_type": "markdown",
      "source": [
        "# **Problème 1**"
      ],
      "metadata": {
        "id": "ESGaO5nafwbm"
      }
    },
    {
      "cell_type": "markdown",
      "source": [
        "**Quel est le vrai prix sans discount du produit le moins cher parmi les mieux notés ?**"
      ],
      "metadata": {
        "id": "O972aaZVlr21"
      }
    },
    {
      "cell_type": "code",
      "source": [],
      "metadata": {
        "id": "RZQZhiqlMBha"
      },
      "execution_count": null,
      "outputs": []
    },
    {
      "cell_type": "markdown",
      "source": [
        "# **Problème 2**"
      ],
      "metadata": {
        "id": "jnFIT_6fgDco"
      }
    },
    {
      "cell_type": "markdown",
      "source": [
        "**Quel est le vrai prix sans discount du produit le mieux: noté parmi les moins chers ?**"
      ],
      "metadata": {
        "id": "pxtnt2evmsZg"
      }
    },
    {
      "cell_type": "code",
      "source": [],
      "metadata": {
        "id": "7zMT-RNTMAYg"
      },
      "execution_count": null,
      "outputs": []
    },
    {
      "cell_type": "markdown",
      "source": [
        "# **Problème 3**"
      ],
      "metadata": {
        "id": "fNq9AHpVqFGL"
      }
    },
    {
      "cell_type": "markdown",
      "source": [
        "**Comment calculer et afficher le prix final TTC (avec 18% de TVA sur le prix remisé)**"
      ],
      "metadata": {
        "id": "Qw9aL1PuqLv8"
      }
    },
    {
      "cell_type": "code",
      "source": [],
      "metadata": {
        "id": "H4HcB2gwL_ic"
      },
      "execution_count": null,
      "outputs": []
    },
    {
      "cell_type": "markdown",
      "metadata": {
        "id": "QTtbJ48rMOb7"
      },
      "source": [
        "# 🧠 **Mini-projet Statistique**"
      ]
    },
    {
      "cell_type": "markdown",
      "source": [
        "**1 - Quelle est la catégorie de produits dont le prix TTC moyen est le plus élevé ?**"
      ],
      "metadata": {
        "id": "M4Etk-T-tWnS"
      }
    },
    {
      "cell_type": "code",
      "source": [],
      "metadata": {
        "id": "AEHWXVxmL-It"
      },
      "execution_count": null,
      "outputs": []
    },
    {
      "cell_type": "markdown",
      "source": [
        "**2 - Renormer la colonne \"discounted_price\" en \"prix_remisé\" ?**"
      ],
      "metadata": {
        "id": "9BDjmOQZuq7s"
      }
    },
    {
      "cell_type": "code",
      "source": [],
      "metadata": {
        "id": "z3mTB34aqo8h"
      },
      "execution_count": null,
      "outputs": []
    },
    {
      "cell_type": "markdown",
      "source": [
        "# **Quiz 1 : Quel est le vrai prix sans discount du produit le moins cher en termes de prix TTC parmi les mieux notés ?**"
      ],
      "metadata": {
        "id": "gI5UOyDuIRNS"
      }
    },
    {
      "cell_type": "code",
      "source": [],
      "metadata": {
        "id": "9lsFlETtIWZv"
      },
      "execution_count": null,
      "outputs": []
    },
    {
      "cell_type": "markdown",
      "source": [
        "# **Quiz 2 : Quel est le prix TTC du produit le mieux noté parmi les moins chers en termes de prix remisé ?**"
      ],
      "metadata": {
        "id": "F2Z8k15ZIka0"
      }
    },
    {
      "cell_type": "code",
      "source": [],
      "metadata": {
        "id": "TrU_cSKcIq2U"
      },
      "execution_count": null,
      "outputs": []
    }
  ],
  "metadata": {
    "kernelspec": {
      "display_name": "Python 3",
      "language": "python",
      "name": "python3"
    },
    "language_info": {
      "name": "python",
      "version": "3.9"
    },
    "colab": {
      "provenance": []
    }
  },
  "nbformat": 4,
  "nbformat_minor": 0
}