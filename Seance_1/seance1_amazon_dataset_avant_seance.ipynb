{
  "cells": [
    {
      "cell_type": "markdown",
      "metadata": {
        "id": "lk7XLKdfMOaK"
      },
      "source": [
        "# 📦 **Séance 1 — Manipulation avec Pandas & Numpy (Amazon Dataset)**\n",
        "**Objectif :** Charger, inspecter, manipuler et explorer des données tabulaires réelles avec `pandas`.\n"
      ]
    },
    {
      "cell_type": "code",
      "execution_count": null,
      "metadata": {
        "id": "AzChTYAIMOay"
      },
      "outputs": [],
      "source": [
        "# Importer les bibliotheques dont aura besoin\n",
        "import pandas as pd\n",
        "import numpy as np"
      ]
    },
    {
      "cell_type": "code",
      "execution_count": null,
      "metadata": {},
      "outputs": [],
      "source": [
        "# Télécharger le fichier CSV directement depuis GitHub\n",
        "!wget https://raw.githubusercontent.com/bidoscar/AFRICITIZEN-ACDS-Coding/main/Seance_1/Datasets/amazon.csv"
      ]
    },
    {
      "cell_type": "markdown",
      "metadata": {
        "id": "uEXxqbG6GCli"
      },
      "source": [
        "## **Description du jeu de données Amazon Dataset**"
      ]
    },
    {
      "cell_type": "markdown",
      "metadata": {
        "id": "U6q9F_I9HKsI"
      },
      "source": [
        "| Colonne             | Description en français                                                   |\n",
        "|---------------------|---------------------------------------------------------------------------|\n",
        "| `product_id`        | Identifiant unique du produit                                             |\n",
        "| `product_name`      | Nom du produit                                                            |\n",
        "| `category`          | Catégorie ou arborescence du produit sur Amazon                          |\n",
        "| `discounted_price`  | Prix remisé du produit (après réduction)                                 |\n",
        "| `actual_price`      | Prix initial (sans réduction)                                            |\n",
        "| `discount_percentage` | Pourcentage de réduction appliqué                                     |\n",
        "| `rating`            | Note moyenne donnée par les utilisateurs (sur 5)                         |\n",
        "| `rating_count`      | Nombre d’utilisateurs ayant évalué le produit                            |\n",
        "| `about_product`     | Description ou caractéristiques principales du produit                   |\n",
        "| `user_id`           | Identifiant(s) des utilisateur(s) ayant laissé un avis                   |\n",
        "| `user_name`         | Nom(s) des utilisateur(s) ayant laissé un avis                           |\n",
        "| `review_id`         | Identifiant unique de l’avis utilisateur                                 |\n",
        "| `review_title`      | Titre court ou résumé de l’avis                                          |\n",
        "| `review_content`    | Contenu détaillé de l’avis                                                |\n",
        "| `img_link`          | Lien vers l’image du produit                                              |\n",
        "| `product_link`      | Lien vers la fiche produit officielle sur Amazon                         |\n"
      ]
    },
    {
      "cell_type": "code",
      "execution_count": null,
      "metadata": {
        "id": "cGCIP75CRF_o"
      },
      "outputs": [],
      "source": [
        "# Charger notre jeux de donnees\n",
        "# Completer la ligne de code suivante pour charger les données\n",
        "df =\n",
        "df.head()"
      ]
    },
    {
      "cell_type": "markdown",
      "metadata": {
        "id": "9Wj3SfjhMOa-"
      },
      "source": [
        "## 🔍 Exploration des données\n",
        "- Dimensions du dataset\n",
        "- Types de données\n",
        "- Valeurs manquantes"
      ]
    },
    {
      "cell_type": "code",
      "execution_count": null,
      "metadata": {
        "id": "1w54VK6tMObD"
      },
      "outputs": [],
      "source": [
        "# Vérifier la taille du jeu de données\n",
        "df.shape"
      ]
    },
    {
      "cell_type": "code",
      "execution_count": null,
      "metadata": {
        "id": "7n_PXQ9vKbmt"
      },
      "outputs": [],
      "source": [
        "# Obtenir des informations génerales sur les données\n",
        "df.info()"
      ]
    },
    {
      "cell_type": "code",
      "execution_count": null,
      "metadata": {
        "id": "CJKByIA5KdUi"
      },
      "outputs": [],
      "source": [
        "# Vérifier les valeurs manquantes\n",
        "df.isnull().sum()"
      ]
    },
    {
      "cell_type": "markdown",
      "metadata": {
        "id": "ESGaO5nafwbm"
      },
      "source": [
        "# **Problème 1**"
      ]
    },
    {
      "cell_type": "markdown",
      "metadata": {
        "id": "O972aaZVlr21"
      },
      "source": [
        "**Quel est le vrai prix sans discount du produit le moins cher parmi les mieux notés ?**"
      ]
    },
    {
      "cell_type": "code",
      "execution_count": null,
      "metadata": {
        "id": "RZQZhiqlMBha"
      },
      "outputs": [],
      "source": []
    },
    {
      "cell_type": "markdown",
      "metadata": {
        "id": "jnFIT_6fgDco"
      },
      "source": [
        "# **Problème 2**"
      ]
    },
    {
      "cell_type": "markdown",
      "metadata": {
        "id": "pxtnt2evmsZg"
      },
      "source": [
        "**Quel est le vrai prix sans discount du produit le mieux: noté parmi les moins chers ?**"
      ]
    },
    {
      "cell_type": "code",
      "execution_count": null,
      "metadata": {
        "id": "7zMT-RNTMAYg"
      },
      "outputs": [],
      "source": []
    },
    {
      "cell_type": "markdown",
      "metadata": {
        "id": "fNq9AHpVqFGL"
      },
      "source": [
        "# **Problème 3**"
      ]
    },
    {
      "cell_type": "markdown",
      "metadata": {
        "id": "Qw9aL1PuqLv8"
      },
      "source": [
        "**Comment calculer et afficher le prix final TTC (avec 18% de TVA sur le prix remisé)**"
      ]
    },
    {
      "cell_type": "code",
      "execution_count": null,
      "metadata": {
        "id": "H4HcB2gwL_ic"
      },
      "outputs": [],
      "source": []
    },
    {
      "cell_type": "markdown",
      "metadata": {
        "id": "QTtbJ48rMOb7"
      },
      "source": [
        "# 🧠 **Mini-projet Statistique**"
      ]
    },
    {
      "cell_type": "markdown",
      "metadata": {
        "id": "M4Etk-T-tWnS"
      },
      "source": [
        "**1 - Quelle est la catégorie de produits dont le prix TTC moyen est le plus élevé ?**"
      ]
    },
    {
      "cell_type": "code",
      "execution_count": null,
      "metadata": {
        "id": "AEHWXVxmL-It"
      },
      "outputs": [],
      "source": []
    },
    {
      "cell_type": "markdown",
      "metadata": {
        "id": "9BDjmOQZuq7s"
      },
      "source": [
        "**2 - Renormer la colonne \"discounted_price\" en \"prix_remisé\" ?**"
      ]
    },
    {
      "cell_type": "code",
      "execution_count": null,
      "metadata": {
        "id": "z3mTB34aqo8h"
      },
      "outputs": [],
      "source": []
    },
    {
      "cell_type": "markdown",
      "metadata": {
        "id": "gI5UOyDuIRNS"
      },
      "source": [
        "# **Quiz 1 : Quel est le vrai prix sans discount du produit le moins cher en termes de prix TTC parmi les mieux notés ?**"
      ]
    },
    {
      "cell_type": "code",
      "execution_count": null,
      "metadata": {
        "id": "9lsFlETtIWZv"
      },
      "outputs": [],
      "source": []
    },
    {
      "cell_type": "markdown",
      "metadata": {
        "id": "F2Z8k15ZIka0"
      },
      "source": [
        "# **Quiz 2 : Quel est le prix TTC du produit le mieux noté parmi les moins chers en termes de prix remisé ?**"
      ]
    },
    {
      "cell_type": "code",
      "execution_count": null,
      "metadata": {
        "id": "TrU_cSKcIq2U"
      },
      "outputs": [],
      "source": []
    }
  ],
  "metadata": {
    "colab": {
      "provenance": []
    },
    "kernelspec": {
      "display_name": "Python 3",
      "language": "python",
      "name": "python3"
    },
    "language_info": {
      "name": "python",
      "version": "3.9"
    }
  },
  "nbformat": 4,
  "nbformat_minor": 0
}
