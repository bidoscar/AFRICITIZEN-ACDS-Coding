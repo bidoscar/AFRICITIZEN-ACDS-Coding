{
  "cells": [
    {
      "cell_type": "markdown",
      "id": "5ba3024b",
      "metadata": {
        "id": "5ba3024b"
      },
      "source": [
        "# 🧼 Séance 3 : Nettoyage et Prétraitement des Données\n",
        "Dataset : Amazon Products Ratings & Reviews\n",
        "\n",
        "Dans cette séance, nous allons apprendre à :\n",
        "- Identifier et traiter les valeurs manquantes\n",
        "- Convertir les types de données\n",
        "- Supprimer les doublons\n",
        "- Nettoyer le texte\n",
        "- Encoder les variables catégorielles\n",
        "- Appliquer une normalisation ou standardisation"
      ]
    },
    {
      "cell_type": "code",
      "execution_count": null,
      "id": "9761afed",
      "metadata": {
        "id": "9761afed"
      },
      "outputs": [],
      "source": [
        "# 📦 Chargement des bibliothèques\n",
        "import pandas as pd\n",
        "import numpy as np\n",
        "import matplotlib.pyplot as plt\n",
        "import seaborn as sns\n",
        "from sklearn.preprocessing import LabelEncoder, MinMaxScaler, StandardScaler"
      ]
    },
    {
      "cell_type": "code",
      "execution_count": null,
      "id": "7bfeeb52",
      "metadata": {
        "id": "7bfeeb52"
      },
      "outputs": [],
      "source": [
        "# Télécharger le fichier CSV directement depuis GitHub\n",
        "!wget https://raw.githubusercontent.com/bidoscar/AFRICITIZEN-ACDS-Coding/main/Seance_1_Manipulation_Pandas/Datasets/amazon.csv"
      ]
    },
    {
      "cell_type": "markdown",
      "source": [],
      "metadata": {
        "id": "8No9bDdJA_LD"
      },
      "id": "8No9bDdJA_LD"
    },
    {
      "cell_type": "markdown",
      "source": [
        "| Colonne             | Description en français                                                   |\n",
        "|---------------------|---------------------------------------------------------------------------|\n",
        "| `product_id`        | Identifiant unique du produit                                             |\n",
        "| `product_name`      | Nom du produit                                                            |\n",
        "| `category`          | Catégorie ou arborescence du produit sur Amazon                          |\n",
        "| `discounted_price`  | Prix remisé du produit (après réduction)                                 |\n",
        "| `actual_price`      | Prix initial (sans réduction)                                            |\n",
        "| `discount_percentage` | Pourcentage de réduction appliqué                                     |\n",
        "| `rating`            | Note moyenne donnée par les utilisateurs (sur 5)                         |\n",
        "| `rating_count`      | Nombre d’utilisateurs ayant évalué le produit                            |\n",
        "| `about_product`     | Description ou caractéristiques principales du produit                   |\n",
        "| `user_id`           | Identifiant(s) des utilisateur(s) ayant laissé un avis                   |\n",
        "| `user_name`         | Nom(s) des utilisateur(s) ayant laissé un avis                           |\n",
        "| `review_id`         | Identifiant unique de l’avis utilisateur                                 |\n",
        "| `review_title`      | Titre court ou résumé de l’avis                                          |\n",
        "| `review_content`    | Contenu détaillé de l’avis                                                |\n",
        "| `img_link`          | Lien vers l’image du produit                                              |\n",
        "| `product_link`      | Lien vers la fiche produit officielle sur Amazon                         |\n"
      ],
      "metadata": {
        "id": "U6q9F_I9HKsI"
      },
      "id": "U6q9F_I9HKsI"
    },
    {
      "cell_type": "code",
      "source": [
        "# Chargement du fichier CSV\n",
        "df = pd.read_csv('amazon.csv')\n",
        "df.head()"
      ],
      "metadata": {
        "id": "euiK1iVjfghp"
      },
      "id": "euiK1iVjfghp",
      "execution_count": null,
      "outputs": []
    },
    {
      "cell_type": "markdown",
      "id": "938a11cc",
      "metadata": {
        "id": "938a11cc"
      },
      "source": [
        "## 🔍 1. Inspection et valeurs manquantes"
      ]
    },
    {
      "cell_type": "code",
      "execution_count": null,
      "id": "d2d7b21d",
      "metadata": {
        "id": "d2d7b21d"
      },
      "outputs": [],
      "source": [
        "# Aperçu des infos générales\n",
        "df.info()"
      ]
    },
    {
      "cell_type": "code",
      "source": [
        "# Valeurs manquantes\n",
        "df.isnull().sum()"
      ],
      "metadata": {
        "id": "Ndsj52Z_7tQe"
      },
      "id": "Ndsj52Z_7tQe",
      "execution_count": null,
      "outputs": []
    },
    {
      "cell_type": "markdown",
      "id": "170c3dd7",
      "metadata": {
        "id": "170c3dd7"
      },
      "source": [
        "## 🧹 2. Nettoyage des types de données\n",
        "On va retirer ₹ et % pour convertir en float."
      ]
    },
    {
      "cell_type": "code",
      "source": [
        "# Créons d'abord une copie de notre jeu de données\n",
        "df1 = df.copy()"
      ],
      "metadata": {
        "id": "_OvDVOob3OeK"
      },
      "execution_count": null,
      "outputs": [],
      "id": "_OvDVOob3OeK"
    },
    {
      "cell_type": "code",
      "source": [
        "# On a remarqué la présence de | dans la colonne rating\n",
        "# Essayons de le remplacer par une value manquant (on peut aussi décider de le remplacer avec la médiane ou la moyenne)\n",
        "df1['rating'] = df1['rating'].replace('|', np.nan)"
      ],
      "metadata": {
        "id": "R3_qx5Q33Fn-"
      },
      "execution_count": null,
      "outputs": [],
      "id": "R3_qx5Q33Fn-"
    },
    {
      "cell_type": "code",
      "source": [
        "# Enlevons le symbol de devise et le délimitateur de millier\n",
        "df1['discounted_price'] = df1['discounted_price'].str.replace(\"₹\", \"\").str.replace(\",\", \"\").astype(float)\n",
        "df1['actual_price'] = df1['actual_price'].str.replace(\"₹\", \"\").str.replace(\",\", \"\").astype(float)\n",
        "df1['rating'] = df1['rating'].str.replace(\",\", \"\").astype(float)\n",
        "df1['rating_count'] = df1['rating_count'].str.replace(\",\", \"\").astype(float)"
      ],
      "metadata": {
        "id": "7zl7wbAv3Hxj"
      },
      "execution_count": null,
      "outputs": [],
      "id": "7zl7wbAv3Hxj"
    },
    {
      "cell_type": "code",
      "source": [
        "# Changeons le type de donnée et ramenons le pourcentage en proportion (entre 0 et 1) dans discount_Percentage\n",
        "df1['discount_percentage'] = df1['discount_percentage'].str.replace('%','').astype('float64')\n",
        "df1['discount_percentage'] = df1['discount_percentage'] / 100"
      ],
      "metadata": {
        "id": "V6n9I90H3K3k"
      },
      "execution_count": null,
      "outputs": [],
      "id": "V6n9I90H3K3k"
    },
    {
      "cell_type": "markdown",
      "id": "eb2960eb",
      "metadata": {
        "id": "eb2960eb"
      },
      "source": [
        "## 📑 3.1 Gestion des valeurs manquantes"
      ]
    },
    {
      "cell_type": "code",
      "source": [
        "# Une copy de nos donnees\n",
        "df2 = df1.copy()"
      ],
      "metadata": {
        "id": "6RJ7b_03DKkR"
      },
      "id": "6RJ7b_03DKkR",
      "execution_count": null,
      "outputs": []
    },
    {
      "cell_type": "code",
      "source": [
        "# Valeurs manquantes\n",
        "df2.isnull().sum()"
      ],
      "metadata": {
        "id": "iWqhAD2477YY"
      },
      "id": "iWqhAD2477YY",
      "execution_count": null,
      "outputs": []
    },
    {
      "cell_type": "code",
      "source": [
        "# Verifions si la variable est normalement distribuee\n",
        "sns.histplot(df2['rating_count'], kde=True, color='green')\n",
        "plt.title('Histogramme avec densité (seaborn)')\n",
        "plt.xlabel(\"Nombre d'Evaluation\")\n",
        "plt.show()"
      ],
      "metadata": {
        "id": "AuG5cTn8_A67"
      },
      "id": "AuG5cTn8_A67",
      "execution_count": null,
      "outputs": []
    },
    {
      "cell_type": "code",
      "source": [
        "df2['rating_count'].describe()"
      ],
      "metadata": {
        "id": "Ch5A1xBc_SNY"
      },
      "id": "Ch5A1xBc_SNY",
      "execution_count": null,
      "outputs": []
    },
    {
      "cell_type": "code",
      "source": [
        "# Suppression ou imputation des valeurs manquantes\n",
        "# df1['rating_count'].fillna(df1['rating_count'].median(), inplace=True)\n",
        "df2.fillna({'rating_count': df2['rating_count'].median()}, inplace=True)"
      ],
      "metadata": {
        "id": "6_BqWHIP_eJN"
      },
      "id": "6_BqWHIP_eJN",
      "execution_count": null,
      "outputs": []
    },
    {
      "cell_type": "code",
      "source": [
        "# Verifions si la variable est normalement distribuee\n",
        "sns.histplot(df2['rating'], kde=True, color='green')\n",
        "plt.title('Histogramme avec densité (seaborn)')\n",
        "plt.xlabel('Evaluation')\n",
        "plt.show()"
      ],
      "metadata": {
        "id": "uCeUVmtw9OH5"
      },
      "id": "uCeUVmtw9OH5",
      "execution_count": null,
      "outputs": []
    },
    {
      "cell_type": "code",
      "source": [
        "# Comparons le moyenne a la mediane\n",
        "df2['rating'].describe()"
      ],
      "metadata": {
        "id": "HdVVgT4k9S0N"
      },
      "id": "HdVVgT4k9S0N",
      "execution_count": null,
      "outputs": []
    },
    {
      "cell_type": "code",
      "source": [
        "# Imputation des valeurs manquantes de rating par sa moyenne\n",
        "# df2['rating'].fillna(df2['rating'].mean(), inplace=True)\n",
        "# df2.fillna({'rating': df2['rating'].mean()}, inplace=True)"
      ],
      "metadata": {
        "id": "iJBsxZvs94YY"
      },
      "id": "iJBsxZvs94YY",
      "execution_count": null,
      "outputs": []
    },
    {
      "cell_type": "code",
      "source": [
        "# verifions la ligne ayant la valeur manquante\n",
        "df2[df2['rating'].isnull()]"
      ],
      "metadata": {
        "id": "JOhdPwdbD1pr"
      },
      "id": "JOhdPwdbD1pr",
      "execution_count": null,
      "outputs": []
    },
    {
      "cell_type": "code",
      "source": [
        "index_du_nan = df2[df2['rating'].isnull()].index.tolist()\n",
        "index_du_nan"
      ],
      "metadata": {
        "id": "JK7P6ufgE7rS"
      },
      "id": "JK7P6ufgE7rS",
      "execution_count": null,
      "outputs": []
    },
    {
      "cell_type": "code",
      "source": [
        "df2.loc[index_du_nan[0], 'product_name']"
      ],
      "metadata": {
        "id": "zLVjx3BMEWHs"
      },
      "id": "zLVjx3BMEWHs",
      "execution_count": null,
      "outputs": []
    },
    {
      "cell_type": "code",
      "source": [
        "df2.fillna({'rating': 3.9}, inplace=True)"
      ],
      "metadata": {
        "id": "DcpC4i93GUaO"
      },
      "id": "DcpC4i93GUaO",
      "execution_count": null,
      "outputs": []
    },
    {
      "cell_type": "code",
      "source": [
        "# Valeurs manquantes\n",
        "df2.isnull().sum()"
      ],
      "metadata": {
        "id": "N8ZQc7oS_yn1"
      },
      "id": "N8ZQc7oS_yn1",
      "execution_count": null,
      "outputs": []
    },
    {
      "cell_type": "markdown",
      "source": [
        "## 📑 3.2 Gestion des doublons"
      ],
      "metadata": {
        "id": "hqIfGL0VHgb-"
      },
      "id": "hqIfGL0VHgb-"
    },
    {
      "cell_type": "code",
      "source": [
        "# Find Duplicate\n",
        "df2.duplicated().any()"
      ],
      "metadata": {
        "id": "Mc7-ccsfAIXU"
      },
      "id": "Mc7-ccsfAIXU",
      "execution_count": null,
      "outputs": []
    },
    {
      "cell_type": "code",
      "source": [
        "df2.columns"
      ],
      "metadata": {
        "id": "KA-Rr3oeI9Dd"
      },
      "id": "KA-Rr3oeI9Dd",
      "execution_count": null,
      "outputs": []
    },
    {
      "cell_type": "code",
      "source": [
        "#df2.duplicated(subset=['product_id', 'product_name', 'rating'])\n",
        "df2.duplicated(subset=['product_id', 'product_name', 'rating', 'rating_count', 'about_product']).any()"
      ],
      "metadata": {
        "id": "Ydl41T4zAzdX"
      },
      "id": "Ydl41T4zAzdX",
      "execution_count": null,
      "outputs": []
    },
    {
      "cell_type": "code",
      "source": [
        "df2[df2.duplicated(subset=['product_id', 'product_name', 'rating', 'rating_count', 'about_product'])]"
      ],
      "metadata": {
        "id": "JRp65zfNMsLF"
      },
      "id": "JRp65zfNMsLF",
      "execution_count": null,
      "outputs": []
    },
    {
      "cell_type": "code",
      "source": [
        "df2[df2.duplicated(subset=['product_id', 'product_name', 'rating', 'rating_count', 'about_product'])]['product_id'].value_counts()"
      ],
      "metadata": {
        "id": "v0_VvU9WNDp3"
      },
      "id": "v0_VvU9WNDp3",
      "execution_count": null,
      "outputs": []
    },
    {
      "cell_type": "code",
      "execution_count": null,
      "id": "ae29d741",
      "metadata": {
        "id": "ae29d741"
      },
      "outputs": [],
      "source": [
        "# Supprimer les doublons partiels (en gardant la première occurrence uniquement)\n",
        "df3 = df2.drop_duplicates(subset=['product_id', 'product_name', 'rating', 'rating_count', 'about_product'], keep='first')"
      ]
    },
    {
      "cell_type": "code",
      "source": [
        "# Supprimer les colonnes indesirables\n",
        "df3.drop(['product_name', 'about_product', 'user_id', 'user_name', 'review_id', 'review_title', 'review_content', 'img_link', 'product_link'], axis=1, inplace=True)"
      ],
      "metadata": {
        "id": "u-1S1rrxR49s"
      },
      "id": "u-1S1rrxR49s",
      "execution_count": null,
      "outputs": []
    },
    {
      "cell_type": "code",
      "source": [
        "df3.head()"
      ],
      "metadata": {
        "id": "uohR54_oSfUL"
      },
      "id": "uohR54_oSfUL",
      "execution_count": null,
      "outputs": []
    },
    {
      "cell_type": "markdown",
      "id": "9a532f4a",
      "metadata": {
        "id": "9a532f4a"
      },
      "source": [
        "## ✏️ 4.1 Nettoyage des chaînes de caractères"
      ]
    },
    {
      "cell_type": "code",
      "execution_count": null,
      "id": "3b1a71c4",
      "metadata": {
        "id": "3b1a71c4"
      },
      "outputs": [],
      "source": [
        "# Mise en minuscules et suppression espaces\n",
        "df3['product_id'] = df3['product_id'].str.lower().str.strip()\n",
        "df3['category'] = df3['category'].str.lower().str.strip()"
      ]
    },
    {
      "cell_type": "markdown",
      "source": [
        "## ✏️ 4.2 Nettoyage des chaînes de caractères"
      ],
      "metadata": {
        "id": "RG74dHJuTwp4"
      },
      "id": "RG74dHJuTwp4"
    },
    {
      "cell_type": "code",
      "source": [
        "df3['category'].value_counts()"
      ],
      "metadata": {
        "id": "QnKSsOM1ZpxN"
      },
      "id": "QnKSsOM1ZpxN",
      "execution_count": null,
      "outputs": []
    },
    {
      "cell_type": "code",
      "source": [
        "df3['category'][0]"
      ],
      "metadata": {
        "id": "KqgJV2-pTxkv"
      },
      "id": "KqgJV2-pTxkv",
      "execution_count": null,
      "outputs": []
    },
    {
      "cell_type": "code",
      "source": [
        "df3.sample(n=1)['category'].values"
      ],
      "metadata": {
        "id": "zp9FwCAEUJ0x"
      },
      "id": "zp9FwCAEUJ0x",
      "execution_count": null,
      "outputs": []
    },
    {
      "cell_type": "code",
      "source": [
        "# Séparer la chaîne 'category' selon le séparateur \"|\"\n",
        "category_split = df3['category'].str.split('|', expand=True)\n",
        "category_split"
      ],
      "metadata": {
        "id": "jkAdED2aWvS_"
      },
      "id": "jkAdED2aWvS_",
      "execution_count": null,
      "outputs": []
    },
    {
      "cell_type": "code",
      "source": [
        "# Renommer les colonnes résultantes\n",
        "category_split.columns = [f'category_level_{i+1}' for i in range(category_split.shape[1])]\n",
        "category_split.head()"
      ],
      "metadata": {
        "id": "8bxi2BGjW67L"
      },
      "id": "8bxi2BGjW67L",
      "execution_count": null,
      "outputs": []
    },
    {
      "cell_type": "code",
      "source": [
        "category_split.isnull().sum()/len(category_split)*100"
      ],
      "metadata": {
        "id": "Y5VSZ2tcXPiZ"
      },
      "id": "Y5VSZ2tcXPiZ",
      "execution_count": null,
      "outputs": []
    },
    {
      "cell_type": "code",
      "source": [
        "# remplissage en avant (forward fill) ligne par ligne.\n",
        "category_split = category_split.ffill(axis=1)\n",
        "category_split.head()"
      ],
      "metadata": {
        "id": "sIn79K2_as8V"
      },
      "id": "sIn79K2_as8V",
      "execution_count": null,
      "outputs": []
    },
    {
      "cell_type": "code",
      "source": [
        "category_split['category_level_1'].value_counts()"
      ],
      "metadata": {
        "id": "2qf8GdRAav5_"
      },
      "id": "2qf8GdRAav5_",
      "execution_count": null,
      "outputs": []
    },
    {
      "cell_type": "code",
      "source": [
        "category_split['category_level_2'].value_counts()"
      ],
      "metadata": {
        "id": "7YD4fvwTbjjI"
      },
      "id": "7YD4fvwTbjjI",
      "execution_count": null,
      "outputs": []
    },
    {
      "cell_type": "code",
      "source": [
        "category_split['category_level_3'].value_counts()"
      ],
      "metadata": {
        "id": "sqgIvuk3bsn7"
      },
      "id": "sqgIvuk3bsn7",
      "execution_count": null,
      "outputs": []
    },
    {
      "cell_type": "code",
      "source": [
        "category_split['category_level_7'].value_counts()"
      ],
      "metadata": {
        "id": "c1TnBCbtb3gn"
      },
      "id": "c1TnBCbtb3gn",
      "execution_count": null,
      "outputs": []
    },
    {
      "cell_type": "code",
      "source": [
        "# Créer une série des fréquences\n",
        "value_counts = category_split['category_level_1'].value_counts()\n",
        "\n",
        "# Identifier les catégories rares (< 10 occurrences)\n",
        "categories_rares = value_counts[value_counts < 10].index\n",
        "\n",
        "# Remplacer ces modalités par 'autres'\n",
        "category_split['category_level_1'] = category_split['category_level_1'].replace(categories_rares, 'others')"
      ],
      "metadata": {
        "id": "pqe23ZHKcvEb"
      },
      "id": "pqe23ZHKcvEb",
      "execution_count": null,
      "outputs": []
    },
    {
      "cell_type": "code",
      "source": [
        "category_split['category_level_1'].value_counts()"
      ],
      "metadata": {
        "id": "RVOvReCvc1wk"
      },
      "id": "RVOvReCvc1wk",
      "execution_count": null,
      "outputs": []
    },
    {
      "cell_type": "code",
      "source": [
        "# Remplacer ces modalités par 'autres'\n",
        "category_split['category_level_1'] = category_split['category_level_1'].replace('others', 'officeproducts&other').replace('officeproducts', 'officeproducts&other')"
      ],
      "metadata": {
        "id": "89-Bjt70eFHk"
      },
      "id": "89-Bjt70eFHk",
      "execution_count": null,
      "outputs": []
    },
    {
      "cell_type": "code",
      "source": [
        "category_split['category_level_1'].value_counts()"
      ],
      "metadata": {
        "id": "sDxTn_aiepht"
      },
      "id": "sDxTn_aiepht",
      "execution_count": null,
      "outputs": []
    },
    {
      "cell_type": "code",
      "source": [
        "# Ajouter les nouvelles colonnes au DataFrame d'origine\n",
        "df4 = pd.concat([df3, category_split['category_level_1']], axis=1)\n",
        "df4.head()"
      ],
      "metadata": {
        "id": "ODn0ZoTVXOPc"
      },
      "id": "ODn0ZoTVXOPc",
      "execution_count": null,
      "outputs": []
    },
    {
      "cell_type": "code",
      "source": [
        "# Profitons pour recreer la variable categorielle de rating qu'on avait creee pendant le seance derniere\n",
        "# Create a new categorical variable from rating\n",
        "def classify_rating(r):\n",
        "    if r <= 3.9:\n",
        "        return \"Medium\"\n",
        "    else:\n",
        "        return \"High\"\n",
        "\n",
        "df4['rating_level'] = df4['rating'].apply(classify_rating)\n",
        "df4['rating_level'].value_counts()"
      ],
      "metadata": {
        "id": "7UV_0VLsfc9x"
      },
      "id": "7UV_0VLsfc9x",
      "execution_count": null,
      "outputs": []
    },
    {
      "cell_type": "markdown",
      "id": "625db10c",
      "metadata": {
        "id": "625db10c"
      },
      "source": [
        "## 🔠 5. Encodage des variables catégorielles"
      ]
    },
    {
      "cell_type": "code",
      "source": [
        "df4['category_level_1'].value_counts()"
      ],
      "metadata": {
        "id": "MOuiFw-Ckhbw"
      },
      "id": "MOuiFw-Ckhbw",
      "execution_count": null,
      "outputs": []
    },
    {
      "cell_type": "code",
      "execution_count": null,
      "id": "d279d6f7",
      "metadata": {
        "id": "d279d6f7"
      },
      "outputs": [],
      "source": [
        "le = LabelEncoder()\n",
        "df4['category_level_1_encoded'] = le.fit_transform(df4['category_level_1'])\n",
        "df4['category_level_1_encoded'].value_counts()"
      ]
    },
    {
      "cell_type": "code",
      "source": [
        "pd.crosstab(df4['category_level_1_encoded'], df4['category_level_1'])"
      ],
      "metadata": {
        "id": "L0nfZGcYgqj1"
      },
      "id": "L0nfZGcYgqj1",
      "execution_count": null,
      "outputs": []
    },
    {
      "cell_type": "code",
      "source": [
        "from sklearn.preprocessing import OneHotEncoder\n",
        "ohe = OneHotEncoder()\n",
        "encoded = ohe.fit_transform(df4[['category_level_1']])"
      ],
      "metadata": {
        "id": "zS2eX450iaeO"
      },
      "id": "zS2eX450iaeO",
      "execution_count": null,
      "outputs": []
    },
    {
      "cell_type": "code",
      "source": [
        "# Get column names from the encoder\n",
        "col_names = ohe.get_feature_names_out(['category_level_1'])\n",
        "\n",
        "# Convert the sparse matrix to a DataFrame\n",
        "encoded_df = pd.DataFrame(encoded.toarray(), columns=col_names)\n",
        "\n",
        "# Display the first rows\n",
        "encoded_df.head()"
      ],
      "metadata": {
        "id": "14NkTORAjDeV"
      },
      "id": "14NkTORAjDeV",
      "execution_count": null,
      "outputs": []
    },
    {
      "cell_type": "code",
      "source": [
        "# Ajouter les nouvelles colonnes au DataFrame d'origine\n",
        "df5 = pd.concat([df4, encoded_df], axis=1)\n",
        "df5.head()"
      ],
      "metadata": {
        "id": "ABHBeg46kyQx"
      },
      "id": "ABHBeg46kyQx",
      "execution_count": null,
      "outputs": []
    },
    {
      "cell_type": "code",
      "source": [
        "encoded = ohe.fit_transform(df4[['rating_level']])\n",
        "# Get column names from the encoder\n",
        "col_names = ohe.get_feature_names_out(['rating_level'])\n",
        "\n",
        "# Convert the sparse matrix to a DataFrame\n",
        "encoded_df = pd.DataFrame(encoded.toarray(), columns=col_names)\n",
        "\n",
        "# Ajouter les nouvelles colonnes au DataFrame d'origine\n",
        "df6 = pd.concat([df5, encoded_df], axis=1)\n",
        "df6.head()"
      ],
      "metadata": {
        "id": "XMsjPa0rlKyB"
      },
      "id": "XMsjPa0rlKyB",
      "execution_count": null,
      "outputs": []
    },
    {
      "cell_type": "markdown",
      "id": "d196a408",
      "metadata": {
        "id": "d196a408"
      },
      "source": [
        "## 📏 6. Normalisation et standardisation"
      ]
    },
    {
      "cell_type": "markdown",
      "source": [
        "La mise à l’échelle des données est essentielle pour de nombreux algorithmes de machine learning, en particulier ceux qui sont sensibles à la magnitude des valeurs numériques.\n",
        "\n",
        "🎯 **1. Éviter les biais dus aux unités de mesure**\n",
        "* Si une variable est exprimée en euros (ex. prix = 1000) et une autre en note (ex. rating = 4.5), un algorithme non normalisé pourrait accorder trop d’importance à la variable qui a les plus grandes valeurs numériques (même si elle est moins importante).\n",
        "\n",
        "⚖️ **2. Équilibrer l’influence des variables**\n",
        "* KNN, SVM, régression logistique, réseaux de neurones, etc. utilisent des distances ou des produits scalaires.\n",
        "\n",
        "* Si les variables sont sur des échelles différentes, cela fausse la distance ou l’optimisation, car une variable \"domine\" les autres.\n",
        "\n",
        "⚙️ **3. Améliorer la convergence des modèles**\n",
        "* Les algorithmes comme la descente de gradient (utilisée dans les régressions ou réseaux de neurones) convergent plus vite et plus efficacement si les données sont centrées et réduites.\n",
        "\n",
        "* Sinon, l’algorithme oscille et apprend plus lentement."
      ],
      "metadata": {
        "id": "X1am8xqopshD"
      },
      "id": "X1am8xqopshD"
    },
    {
      "cell_type": "code",
      "source": [
        "# une autre copy des donnees\n",
        "df7 = df6.copy()"
      ],
      "metadata": {
        "id": "jkgN0RVgoNAW"
      },
      "id": "jkgN0RVgoNAW",
      "execution_count": null,
      "outputs": []
    },
    {
      "cell_type": "code",
      "source": [
        "# Appliquer Normalisation (Min-Max Scaling)\n",
        "minmax_scaler = MinMaxScaler()\n",
        "df7['discounted_price_minmax'] = minmax_scaler.fit_transform(df7[['discounted_price']])\n",
        "\n",
        "# Appliquer Standardisation (Z-score Scaling)\n",
        "standard_scaler = StandardScaler()\n",
        "df7['discounted_price_zscore'] = standard_scaler.fit_transform(df7[['discounted_price']])"
      ],
      "metadata": {
        "id": "1RbQ0yhJnqFd"
      },
      "id": "1RbQ0yhJnqFd",
      "execution_count": null,
      "outputs": []
    },
    {
      "cell_type": "code",
      "source": [
        "df7[['discounted_price', 'discounted_price_minmax', 'discounted_price_zscore']].describe()"
      ],
      "metadata": {
        "id": "5qyqaH5BomdR"
      },
      "id": "5qyqaH5BomdR",
      "execution_count": null,
      "outputs": []
    },
    {
      "cell_type": "code",
      "execution_count": null,
      "id": "181e11e0",
      "metadata": {
        "id": "181e11e0"
      },
      "outputs": [],
      "source": [
        "# Standardisation des prix\n",
        "scaler = StandardScaler()\n",
        "df6[['discounted_price_scaled', 'actual_price_scaled', 'rating_count_scaled', 'discount_percentage_scaled', 'rating_scaled']] = scaler.fit_transform(df6[['discounted_price', 'actual_price', 'rating_count', 'discount_percentage', 'rating']])"
      ]
    },
    {
      "cell_type": "code",
      "source": [],
      "metadata": {
        "id": "4HouiZzhrMv4"
      },
      "id": "4HouiZzhrMv4",
      "execution_count": null,
      "outputs": []
    },
    {
      "cell_type": "markdown",
      "source": [
        "## 7 Gerer les valeurs aberantes"
      ],
      "metadata": {
        "id": "FnEert_pvesP"
      },
      "id": "FnEert_pvesP"
    },
    {
      "cell_type": "code",
      "source": [
        "sns.boxplot(x=df6['discounted_price_scaled'], color='lightcoral')\n",
        "plt.title('Boxplot des prix remises (seaborn)')\n",
        "plt.show()"
      ],
      "metadata": {
        "id": "9kijfOKorMsX"
      },
      "id": "9kijfOKorMsX",
      "execution_count": null,
      "outputs": []
    },
    {
      "cell_type": "code",
      "source": [
        "mean_dis_price = df6['discounted_price_scaled'].mean()\n",
        "std_dis_price = df6['discounted_price_scaled'].std()\n",
        "\n",
        "lower_bound = mean_dis_price - 1 * std_dis_price\n",
        "upper_bound = mean_dis_price + 1 * std_dis_price\n",
        "\n",
        "# Supprimer les valeurs en dehors de ces bornes\n",
        "df_clean = df6[(df6['discounted_price_scaled'] >= lower_bound) & (df6['discounted_price_scaled'] <= upper_bound)]"
      ],
      "metadata": {
        "id": "SYSOUKvRrMpY"
      },
      "id": "SYSOUKvRrMpY",
      "execution_count": null,
      "outputs": []
    },
    {
      "cell_type": "code",
      "source": [
        "sns.boxplot(x=df_clean['discounted_price_scaled'], color='lightcoral')\n",
        "plt.title('Boxplot des prix remises (seaborn)')\n",
        "plt.show()"
      ],
      "metadata": {
        "id": "UJLIDhQ8r_PS"
      },
      "id": "UJLIDhQ8r_PS",
      "execution_count": null,
      "outputs": []
    },
    {
      "cell_type": "markdown",
      "source": [
        "Suppression basée sur l’IQR (méthode boxplot)"
      ],
      "metadata": {
        "id": "syDEjuEMx1qS"
      },
      "id": "syDEjuEMx1qS"
    },
    {
      "cell_type": "code",
      "source": [
        "Q1 = df6['discounted_price_scaled'].quantile(0.25)\n",
        "Q3 = df6['discounted_price_scaled'].quantile(0.75)\n",
        "IQR = Q3 - Q1\n",
        "\n",
        "lower_bound = Q1 - 0.5 * IQR\n",
        "upper_bound = Q3 + 0.5 * IQR\n",
        "\n",
        "# Supprimer les valeurs en dehors de ces bornes\n",
        "df_clean = df6[(df6['discounted_price_scaled'] >= lower_bound) & (df6['discounted_price_scaled'] <= upper_bound)]"
      ],
      "metadata": {
        "id": "-tRCEYeHuiNS"
      },
      "id": "-tRCEYeHuiNS",
      "execution_count": null,
      "outputs": []
    },
    {
      "cell_type": "code",
      "source": [
        "sns.boxplot(x=df_clean['discounted_price_scaled'], color='lightcoral')\n",
        "plt.title('Boxplot des prix remises (seaborn)')\n",
        "plt.show()"
      ],
      "metadata": {
        "id": "MoQVlAE-uqqZ"
      },
      "id": "MoQVlAE-uqqZ",
      "execution_count": null,
      "outputs": []
    },
    {
      "cell_type": "code",
      "source": [
        "df_clean.columns"
      ],
      "metadata": {
        "id": "Ay8VYgl9u8jy"
      },
      "id": "Ay8VYgl9u8jy",
      "execution_count": null,
      "outputs": []
    },
    {
      "cell_type": "code",
      "source": [
        "from scipy.stats.mstats import winsorize\n",
        "\n",
        "df7['discounted_price_scaled_winsor'] = winsorize(df6['discounted_price_scaled'], limits=[0.01, 0.2])\n"
      ],
      "metadata": {
        "id": "2cbgk34Xw9-s"
      },
      "id": "2cbgk34Xw9-s",
      "execution_count": null,
      "outputs": []
    },
    {
      "cell_type": "markdown",
      "source": [
        "Winsorization (remplacement par des bornes extrêmes)"
      ],
      "metadata": {
        "id": "sZ4L1hJwxokN"
      },
      "id": "sZ4L1hJwxokN"
    },
    {
      "cell_type": "code",
      "source": [
        "sns.boxplot(x=df7['discounted_price_scaled_winsor'], color='lightcoral')\n",
        "plt.title('Boxplot des prix remises (seaborn)')\n",
        "plt.show()"
      ],
      "metadata": {
        "id": "xheTX8HjxM8E"
      },
      "id": "xheTX8HjxM8E",
      "execution_count": null,
      "outputs": []
    },
    {
      "cell_type": "code",
      "source": [
        "df7['discounted_price_log'] = np.log1p(df6['discounted_price'])  # log(1 + x)"
      ],
      "metadata": {
        "id": "oCh1bye0yDYV"
      },
      "id": "oCh1bye0yDYV",
      "execution_count": null,
      "outputs": []
    },
    {
      "cell_type": "code",
      "source": [
        "sns.boxplot(x=df7['discounted_price_log'], color='lightcoral')\n",
        "plt.title('Boxplot des prix remises (seaborn)')\n",
        "plt.show()"
      ],
      "metadata": {
        "id": "nWyEduPXyJON"
      },
      "id": "nWyEduPXyJON",
      "execution_count": null,
      "outputs": []
    },
    {
      "cell_type": "markdown",
      "id": "bf54e4ba",
      "metadata": {
        "id": "bf54e4ba"
      },
      "source": [
        "## ✅ Données prêtes à l’usage !"
      ]
    }
  ],
  "metadata": {
    "colab": {
      "provenance": []
    },
    "language_info": {
      "name": "python"
    },
    "kernelspec": {
      "name": "python3",
      "display_name": "Python 3"
    }
  },
  "nbformat": 4,
  "nbformat_minor": 5
}