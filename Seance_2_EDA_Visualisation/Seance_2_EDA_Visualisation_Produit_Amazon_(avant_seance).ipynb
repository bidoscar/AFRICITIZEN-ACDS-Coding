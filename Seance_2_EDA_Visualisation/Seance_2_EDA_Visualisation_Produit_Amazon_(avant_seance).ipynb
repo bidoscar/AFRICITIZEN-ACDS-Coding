{
  "cells": [
    {
      "cell_type": "markdown",
      "id": "5af85946",
      "metadata": {
        "id": "5af85946"
      },
      "source": [
        "# 🧪 Séance de Coding : EDA & Visualisation avec Pandas/Seaborn\n",
        "📅 Date : 18 July 2025\n",
        "\n",
        "Ce notebook permet d'explorer une base de données issue d'Amazon. On y applique les étapes d'analyse exploratoire des données (EDA) et de visualisation avec Python.\n",
        "\n",
        "## 📌 Objectifs pédagogiques\n",
        "- Manipuler des données réelles\n",
        "- Visualiser les distributions, les corrélations\n",
        "- Répondre à des questions analytiques concrètes\n"
      ]
    },
    {
      "cell_type": "code",
      "execution_count": null,
      "id": "0439df3e",
      "metadata": {
        "id": "0439df3e"
      },
      "outputs": [],
      "source": [
        "import pandas as pd\n",
        "import numpy as np\n",
        "import seaborn as sns\n",
        "import matplotlib.pyplot as plt"
      ]
    },
    {
      "cell_type": "code",
      "source": [
        "# Télécharger le fichier CSV directement depuis GitHub\n",
        "!wget https://raw.githubusercontent.com/bidoscar/AFRICITIZEN-ACDS-Coding/main/Seance_1/Datasets/amazon.csv"
      ],
      "metadata": {
        "id": "h4kFl2lr2u3Q"
      },
      "id": "h4kFl2lr2u3Q",
      "execution_count": null,
      "outputs": []
    },
    {
      "cell_type": "code",
      "source": [
        "# Chargement du fichier CSV\n",
        "df = pd.read_csv('amazon.csv')\n",
        "df.head()"
      ],
      "metadata": {
        "id": "Q9OE8yo22rcz"
      },
      "id": "Q9OE8yo22rcz",
      "execution_count": null,
      "outputs": []
    },
    {
      "cell_type": "code",
      "source": [
        "df.info()"
      ],
      "metadata": {
        "id": "WXk5a3NqrWz7"
      },
      "id": "WXk5a3NqrWz7",
      "execution_count": null,
      "outputs": []
    },
    {
      "cell_type": "markdown",
      "id": "01e51f90",
      "metadata": {
        "id": "01e51f90"
      },
      "source": [
        "# **🧼 Étape 1 : Nettoyage minimal pour EDA**"
      ]
    },
    {
      "cell_type": "code",
      "source": [
        "# Créons d'abord une copie de notre jeu de données\n",
        "df1 = df.copy()"
      ],
      "metadata": {
        "id": "_OvDVOob3OeK"
      },
      "id": "_OvDVOob3OeK",
      "execution_count": null,
      "outputs": []
    },
    {
      "cell_type": "code",
      "source": [
        "# On a remarqué la présence de | dans la colonne rating\n",
        "# Essayons de le remplacer par une value manquant (on peut aussi décider de le remplacer avec la médiane ou la moyenne)\n",
        "df1['rating'] = df1['rating'].replace('|', np.nan)"
      ],
      "metadata": {
        "id": "R3_qx5Q33Fn-"
      },
      "id": "R3_qx5Q33Fn-",
      "execution_count": null,
      "outputs": []
    },
    {
      "cell_type": "code",
      "source": [
        "# Enlevons le symbol de devise et le délimitateur de millier\n",
        "df1['discounted_price'] = df1['discounted_price'].str.replace(\"₹\", \"\").str.replace(\",\", \"\").astype(float)\n",
        "df1['actual_price'] = df1['actual_price'].str.replace(\"₹\", \"\").str.replace(\",\", \"\").astype(float)\n",
        "df1['rating'] = df1['rating'].str.replace(\",\", \"\").astype(float)\n",
        "df1['rating_count'] = df1['rating_count'].str.replace(\",\", \"\").astype(float)"
      ],
      "metadata": {
        "id": "7zl7wbAv3Hxj"
      },
      "id": "7zl7wbAv3Hxj",
      "execution_count": null,
      "outputs": []
    },
    {
      "cell_type": "code",
      "source": [
        "# Changeons le type de donnée et ramenons le pourcentage en proportion (entre 0 et 1) dans discount_Percentage\n",
        "df1['discount_percentage'] = df1['discount_percentage'].str.replace('%','').astype('float64')\n",
        "df1['discount_percentage'] = df1['discount_percentage'] / 100"
      ],
      "metadata": {
        "id": "V6n9I90H3K3k"
      },
      "id": "V6n9I90H3K3k",
      "execution_count": null,
      "outputs": []
    },
    {
      "cell_type": "markdown",
      "source": [
        "# **Etape 2 : Résumé statistique & infos générales**"
      ],
      "metadata": {
        "id": "4UzJ0SDcsYbI"
      },
      "id": "4UzJ0SDcsYbI"
    },
    {
      "cell_type": "code",
      "source": [
        "df1.describe()"
      ],
      "metadata": {
        "id": "YIuQAr9lrfXC"
      },
      "id": "YIuQAr9lrfXC",
      "execution_count": null,
      "outputs": []
    },
    {
      "cell_type": "code",
      "source": [
        "df.describe()"
      ],
      "metadata": {
        "id": "RXIJGLCztJwm"
      },
      "id": "RXIJGLCztJwm",
      "execution_count": null,
      "outputs": []
    },
    {
      "cell_type": "code",
      "source": [
        "df1.describe(include=\"all\")"
      ],
      "metadata": {
        "id": "KhI_UYcTs0QH"
      },
      "id": "KhI_UYcTs0QH",
      "execution_count": null,
      "outputs": []
    },
    {
      "cell_type": "code",
      "source": [
        "df.isnull().sum()"
      ],
      "metadata": {
        "id": "u8u46_3Mtycg"
      },
      "id": "u8u46_3Mtycg",
      "execution_count": null,
      "outputs": []
    },
    {
      "cell_type": "code",
      "source": [
        "df.dropna(axis=0, inplace=True)"
      ],
      "metadata": {
        "id": "YTM3tR8QCJKa"
      },
      "id": "YTM3tR8QCJKa",
      "execution_count": null,
      "outputs": []
    },
    {
      "cell_type": "markdown",
      "metadata": {
        "id": "657ca117"
      },
      "source": [
        "# **🧪 Etape 3 : Analyse Univariée Enrichie en Python**\n",
        "📅 Séance du 18 July 2025\n",
        "\n",
        "Dans ce notebook enrichi, nous allons approfondir l'analyse univariée :\n",
        "- Variable **continue** : `rating`\n",
        "- Variable **catégorielle** : `category`\n",
        "Nous aborderons :\n",
        "- Statistiques descriptives\n",
        "- Densité, Boxplot, ECDF, Skewness/Kurtosis\n",
        "- Visualisations matplotlib & seaborn\n",
        "- Interprétations"
      ],
      "id": "657ca117"
    },
    {
      "cell_type": "markdown",
      "metadata": {
        "id": "d14c157f"
      },
      "source": [
        "## 📊 3.1 Analyse d'une variable continue : `rating`"
      ],
      "id": "d14c157f"
    },
    {
      "cell_type": "code",
      "execution_count": null,
      "metadata": {
        "id": "6gKMtEVvzirE"
      },
      "outputs": [],
      "source": [
        "df1['rating'].describe()"
      ],
      "id": "6gKMtEVvzirE"
    },
    {
      "cell_type": "code",
      "execution_count": null,
      "metadata": {
        "id": "jsCLziKWzirF"
      },
      "outputs": [],
      "source": [
        "sns.boxplot(x=df1['rating'], color='lightcoral')\n",
        "plt.title('Boxplot des évaluations (seaborn)')\n",
        "plt.show()"
      ],
      "id": "jsCLziKWzirF"
    },
    {
      "cell_type": "code",
      "execution_count": null,
      "metadata": {
        "id": "39Hu8xFjzirG"
      },
      "outputs": [],
      "source": [
        "# écart interquartile, skewness, kurtosis\n",
        "q1 = df1['rating'].quantile(0.25)\n",
        "q3 = df1['rating'].quantile(0.75)\n",
        "iqr = q3 - q1\n",
        "skew = df1['rating'].skew()\n",
        "kurt = df1['rating'].kurtosis()\n",
        "iqr, skew, kurt"
      ],
      "id": "39Hu8xFjzirG"
    },
    {
      "cell_type": "code",
      "execution_count": null,
      "metadata": {
        "id": "9Lp38isSzirG"
      },
      "outputs": [],
      "source": [
        "plt.hist(df1['rating'], bins=30, color='skyblue', edgecolor='black')\n",
        "plt.title('Histogramme des évaluations (matplotlib)')\n",
        "plt.xlabel('Evaluation')\n",
        "plt.ylabel('Fréquence')\n",
        "plt.show()"
      ],
      "id": "9Lp38isSzirG"
    },
    {
      "cell_type": "code",
      "execution_count": null,
      "metadata": {
        "id": "84evybwvzirH"
      },
      "outputs": [],
      "source": [
        "sns.histplot(df1['rating'], kde=True, color='green')\n",
        "plt.title('Histogramme avec densité (seaborn)')\n",
        "plt.xlabel('Evaluation')\n",
        "plt.show()"
      ],
      "id": "84evybwvzirH"
    },
    {
      "cell_type": "code",
      "execution_count": null,
      "metadata": {
        "id": "-fYFDC_wzirH"
      },
      "outputs": [],
      "source": [
        "sns.ecdfplot(df1['rating'])\n",
        "plt.title('Fonction de répartition empirique (ECDF)')\n",
        "plt.xlabel('Evaluation')\n",
        "plt.ylabel('Proportion cumulée')\n",
        "#xticks = np.linspace(df1['rating'].min(), df1['rating'].max(), 6)  # ou un nombre plus petit\n",
        "plt.xticks(rotation=45)\n",
        "#plt.tight_layout()\n",
        "plt.show()"
      ],
      "id": "-fYFDC_wzirH"
    },
    {
      "cell_type": "code",
      "source": [
        "sns.ecdfplot(df1['discounted_price'])\n",
        "plt.title('Fonction de répartition empirique (ECDF)')\n",
        "plt.xlabel('Prix réduit')\n",
        "plt.ylabel('Proportion cumulée')\n",
        "#xticks = np.linspace(df1['rating'].min(), df1['rating'].max(), 6)  # ou un nombre plus petit\n",
        "#plt.xticks(rotation=45)\n",
        "#plt.tight_layout()\n",
        "plt.show()"
      ],
      "metadata": {
        "id": "9qOkMgebziJS"
      },
      "id": "9qOkMgebziJS",
      "execution_count": null,
      "outputs": []
    },
    {
      "cell_type": "markdown",
      "metadata": {
        "id": "9a1ed994"
      },
      "source": [
        "## 📊 3.2 Analyse d'une variable catégorielle : `category`"
      ],
      "id": "9a1ed994"
    },
    {
      "cell_type": "code",
      "execution_count": null,
      "metadata": {
        "id": "7561fd76"
      },
      "outputs": [],
      "source": [
        "df1['category'].nunique()"
      ],
      "id": "7561fd76"
    },
    {
      "cell_type": "code",
      "execution_count": null,
      "metadata": {
        "id": "fc64369a"
      },
      "outputs": [],
      "source": [
        "df1['category'].mode()[0]"
      ],
      "id": "fc64369a"
    },
    {
      "cell_type": "code",
      "execution_count": null,
      "metadata": {
        "id": "969dc913"
      },
      "outputs": [],
      "source": [
        "df1['category'].value_counts().head(5)"
      ],
      "id": "969dc913"
    },
    {
      "cell_type": "code",
      "source": [
        "(df1['category'].value_counts(normalize=True)*100).head(5)"
      ],
      "metadata": {
        "id": "00HKUuf36PDZ"
      },
      "id": "00HKUuf36PDZ",
      "execution_count": null,
      "outputs": []
    },
    {
      "cell_type": "code",
      "execution_count": null,
      "metadata": {
        "id": "bab0e4e0"
      },
      "outputs": [],
      "source": [
        "top10 = df1['category'].value_counts().head(10)\n",
        "top10.plot(kind='barh', color='orange')\n",
        "plt.title('Top 10 catégories (matplotlib)')\n",
        "plt.xlabel('Nombre de produits')\n",
        "plt.show()"
      ],
      "id": "bab0e4e0"
    },
    {
      "cell_type": "code",
      "execution_count": null,
      "metadata": {
        "id": "e962e4fe"
      },
      "outputs": [],
      "source": [
        "top5 = df1['category'].value_counts().head(5)\n",
        "top5.plot(kind='pie', autopct='%1.1f%%')\n",
        "plt.title('Répartition des 5 premières catégories')\n",
        "plt.ylabel('')\n",
        "plt.show()"
      ],
      "id": "e962e4fe"
    },
    {
      "cell_type": "markdown",
      "source": [
        "## 📊 3.3 Analyse d'une variable catégorielle : `rating_level`"
      ],
      "metadata": {
        "id": "8R0xn3Vy9c2A"
      },
      "id": "8R0xn3Vy9c2A"
    },
    {
      "cell_type": "code",
      "source": [
        "# Une copy de notre jeu de données\n",
        "df2 = df1.copy()"
      ],
      "metadata": {
        "id": "pkuadwUi9qD8"
      },
      "id": "pkuadwUi9qD8",
      "execution_count": null,
      "outputs": []
    },
    {
      "cell_type": "code",
      "source": [
        "# Create a new categorical variable from rating\n",
        "def classify_rating(r):\n",
        "    if r <= 2.5:\n",
        "        return \"Low\"\n",
        "    elif r <= 3.9:\n",
        "        return \"Medium\"\n",
        "    else:\n",
        "        return \"High\"\n",
        "\n",
        "df2['rating_level'] = df2['rating'].apply(classify_rating)"
      ],
      "metadata": {
        "id": "a4BgqXWi9mcu"
      },
      "id": "a4BgqXWi9mcu",
      "execution_count": null,
      "outputs": []
    },
    {
      "cell_type": "code",
      "source": [
        "df2['rating_level'].value_counts()"
      ],
      "metadata": {
        "id": "3c4Mo4_K9mXb"
      },
      "id": "3c4Mo4_K9mXb",
      "execution_count": null,
      "outputs": []
    },
    {
      "cell_type": "code",
      "source": [
        "# Create a new categorical variable from rating\n",
        "def classify_rating(r):\n",
        "    if r <= 3.9:\n",
        "        return \"Medium\"\n",
        "    else:\n",
        "        return \"High\"\n",
        "\n",
        "df2['rating_level'] = df2['rating'].apply(classify_rating)"
      ],
      "metadata": {
        "id": "P2JuTj62Iuie"
      },
      "id": "P2JuTj62Iuie",
      "execution_count": null,
      "outputs": []
    },
    {
      "cell_type": "code",
      "source": [
        "df2['rating_level'].value_counts()"
      ],
      "metadata": {
        "id": "e16em-GnI0pU"
      },
      "id": "e16em-GnI0pU",
      "execution_count": null,
      "outputs": []
    },
    {
      "cell_type": "code",
      "source": [
        "rating_classes = df2['rating_level'].value_counts()\n",
        "rating_classes.plot(kind='barh', color='orange')\n",
        "plt.title('Evaluations (regroupées en classes)')\n",
        "plt.xlabel('Nombre de produits')\n",
        "plt.show()"
      ],
      "metadata": {
        "id": "2VUnTeTE9mS3"
      },
      "id": "2VUnTeTE9mS3",
      "execution_count": null,
      "outputs": []
    },
    {
      "cell_type": "code",
      "source": [
        "rating_classes.plot(kind='pie', autopct='%1.1f%%')\n",
        "plt.title('Regroupement des évaluations')\n",
        "plt.ylabel('')\n",
        "plt.show()"
      ],
      "metadata": {
        "id": "MRsG6M9s9mMf"
      },
      "id": "MRsG6M9s9mMf",
      "execution_count": null,
      "outputs": []
    },
    {
      "cell_type": "markdown",
      "metadata": {
        "id": "6206deac"
      },
      "source": [
        "# 🔗 **Etape 4 : Analyse Bivariée en Python**\n",
        "\n",
        "Dans cette partie, nous allons explorer **l'analyse bivariée**, c’est-à-dire l’étude de la relation entre deux variables.\n",
        "\n",
        "Nous allons couvrir trois cas classiques :\n",
        "1. Deux variables **continues**\n",
        "2. Deux variables **catégorielles**\n",
        "3. Une variable **continue** et une **catégorielle**"
      ],
      "id": "6206deac"
    },
    {
      "cell_type": "markdown",
      "source": [
        "## **La vue d'ensemble**"
      ],
      "metadata": {
        "id": "nraoCcynAnfg"
      },
      "id": "nraoCcynAnfg"
    },
    {
      "cell_type": "code",
      "source": [
        "# Croiser les variables numériques entre elles\n",
        "sns.pairplot(df2)"
      ],
      "metadata": {
        "id": "BBS_FP4HAxXJ"
      },
      "id": "BBS_FP4HAxXJ",
      "execution_count": null,
      "outputs": []
    },
    {
      "cell_type": "code",
      "source": [
        "# Croiser les variables numériques entre elles\n",
        "sns.pairplot(df2, hue= 'rating_level')"
      ],
      "metadata": {
        "id": "1rftlFuGBY4Z"
      },
      "id": "1rftlFuGBY4Z",
      "execution_count": null,
      "outputs": []
    },
    {
      "cell_type": "code",
      "source": [
        "# Sélection des colonnes numériques\n",
        "numeric_df = df2.select_dtypes(include='number')\n",
        "\n",
        "# Calcul de la matrice de corrélation\n",
        "correlation_matrix = numeric_df.corr()\n",
        "\n",
        "# Affichage de la heatmap\n",
        "plt.figure(figsize=(10, 6))\n",
        "sns.heatmap(correlation_matrix, annot=True, cmap='coolwarm', fmt=\".2f\", linewidths=0.995)\n",
        "plt.title(\"Heatmap des corrélations entre variables numériques\")\n",
        "plt.show()"
      ],
      "metadata": {
        "id": "jc316eCnCeLj"
      },
      "id": "jc316eCnCeLj",
      "execution_count": null,
      "outputs": []
    },
    {
      "cell_type": "markdown",
      "metadata": {
        "id": "b4ad197f"
      },
      "source": [
        "## 1️⃣ Analyse entre deux variables continues : `rating` vs `discounted_price`"
      ],
      "id": "b4ad197f"
    },
    {
      "cell_type": "code",
      "execution_count": null,
      "metadata": {
        "id": "88679c86"
      },
      "outputs": [],
      "source": [
        "# Corrélation\n",
        "correlation = df2[['rating', 'discounted_price']].corr()\n",
        "correlation"
      ],
      "id": "88679c86"
    },
    {
      "cell_type": "code",
      "execution_count": null,
      "metadata": {
        "id": "a19d03a6"
      },
      "outputs": [],
      "source": [
        "plt.scatter(df2['rating'], df2['discounted_price'], alpha=0.25)\n",
        "plt.title('Scatterplot - Rating vs Prix réduit (matplotlib)')\n",
        "plt.xlabel('Note')\n",
        "plt.ylabel('Prix réduit')\n",
        "\n",
        "plt.show()"
      ],
      "id": "a19d03a6"
    },
    {
      "cell_type": "code",
      "source": [
        "plt.scatter(df2['rating'], df2['discounted_price'], alpha=0.25)\n",
        "plt.yscale('log')\n",
        "plt.title('Scatterplot - Rating vs Prix réduit (échelle log)')\n",
        "plt.xlabel('Note')\n",
        "plt.ylabel('Prix réduit (log)')\n",
        "\n",
        "plt.tight_layout()\n",
        "plt.show()"
      ],
      "metadata": {
        "id": "byOqmzUzGUFZ"
      },
      "id": "byOqmzUzGUFZ",
      "execution_count": null,
      "outputs": []
    },
    {
      "cell_type": "code",
      "execution_count": null,
      "metadata": {
        "id": "448db3a0"
      },
      "outputs": [],
      "source": [
        "sns.regplot(x='rating', y='discounted_price', data=df2, scatter_kws={'alpha':0.3})\n",
        "plt.title('Relation entre rating et prix réduit (seaborn)')\n",
        "plt.show()"
      ],
      "id": "448db3a0"
    },
    {
      "cell_type": "markdown",
      "metadata": {
        "id": "45a2544d"
      },
      "source": [
        "## 2️⃣ Analyse entre deux variables catégorielles : `category` vs `rating_level`"
      ],
      "id": "45a2544d"
    },
    {
      "cell_type": "code",
      "execution_count": null,
      "metadata": {
        "id": "b14195bf"
      },
      "outputs": [],
      "source": [
        "# Tableau croisé\n",
        "crosstab = pd.crosstab(df2['category'], df2['rating_level'])\n",
        "crosstab.head()"
      ],
      "id": "b14195bf"
    },
    {
      "cell_type": "code",
      "execution_count": null,
      "metadata": {
        "id": "739c07bd"
      },
      "outputs": [],
      "source": [
        "# On sélectionne les 10 catégories les plus fréquentes pour meilleure lisibilité\n",
        "top_cats = df2['category'].value_counts().head(10).index\n",
        "subset = df2[df2['category'].isin(top_cats)]\n",
        "pivot = pd.crosstab(subset['category'], subset['rating_level'])\n",
        "pivot"
      ],
      "id": "739c07bd"
    },
    {
      "cell_type": "code",
      "source": [
        "sns.heatmap(pivot, annot=True, cmap='Blues', fmt='d')\n",
        "plt.title('Répartition des niveaux de rating par catégorie')\n",
        "plt.show()"
      ],
      "metadata": {
        "id": "EyJuk7FnHjwQ"
      },
      "id": "EyJuk7FnHjwQ",
      "execution_count": null,
      "outputs": []
    },
    {
      "cell_type": "code",
      "execution_count": null,
      "metadata": {
        "id": "7bbb9b9f"
      },
      "outputs": [],
      "source": [
        "sns.countplot(data=subset, x='rating_level', hue='category')\n",
        "plt.title('Rating level par catégorie (seaborn)')\n",
        "plt.legend(bbox_to_anchor=(1.05, 1), loc='upper left')\n",
        "plt.show()"
      ],
      "id": "7bbb9b9f"
    },
    {
      "cell_type": "markdown",
      "metadata": {
        "id": "0806e722"
      },
      "source": [
        "## 3️⃣ Analyse entre une variable continue et une variable catégorielle : `discounted_price` selon `rating_level`"
      ],
      "id": "0806e722"
    },
    {
      "cell_type": "code",
      "source": [
        "df2['discounted_price'].describe()"
      ],
      "metadata": {
        "id": "bDwH0EC0IEkJ"
      },
      "id": "bDwH0EC0IEkJ",
      "execution_count": null,
      "outputs": []
    },
    {
      "cell_type": "code",
      "execution_count": null,
      "metadata": {
        "id": "9ae81c50"
      },
      "outputs": [],
      "source": [
        "df2.groupby('rating_level')['discounted_price'].describe()"
      ],
      "id": "9ae81c50"
    },
    {
      "cell_type": "code",
      "execution_count": null,
      "metadata": {
        "id": "d60e6b06"
      },
      "outputs": [],
      "source": [
        "sns.boxplot(x='rating_level', y='discounted_price', data=df2, palette='Set2')\n",
        "plt.title('Boxplot du prix réduit par niveau de rating')\n",
        "plt.show()"
      ],
      "id": "d60e6b06"
    },
    {
      "cell_type": "markdown",
      "source": [
        "# **Etape 4 : Questions**"
      ],
      "metadata": {
        "id": "gNl-sPb7LXU4"
      },
      "id": "gNl-sPb7LXU4"
    },
    {
      "cell_type": "markdown",
      "id": "a4d33931",
      "metadata": {
        "id": "a4d33931"
      },
      "source": [
        "## 🔎 Question 1 : Quels produits ont le meilleur rapport qualité-prix ?"
      ]
    },
    {
      "cell_type": "code",
      "source": [
        "# une autre copie de notre données\n",
        "df3 = df2.copy()"
      ],
      "metadata": {
        "id": "hipnFWiTK2R-"
      },
      "id": "hipnFWiTK2R-",
      "execution_count": null,
      "outputs": []
    },
    {
      "cell_type": "code",
      "execution_count": null,
      "id": "8c8d10da",
      "metadata": {
        "id": "8c8d10da"
      },
      "outputs": [],
      "source": [
        "df3['rapport_qualité_prix'] = df3['rating'] / df3['discounted_price']\n",
        "df3[['product_name', 'discounted_price', 'rating', 'rapport_qualité_prix', 'category']].sort_values(by='rapport_qualité_prix', ascending=False).head(10)"
      ]
    },
    {
      "cell_type": "markdown",
      "id": "34622a3d",
      "metadata": {
        "id": "34622a3d"
      },
      "source": [
        "## 🔎 Question 2 : Les produits très remisés seraient-ils perçus comme de moins bonne qualité ?"
      ]
    },
    {
      "cell_type": "code",
      "execution_count": null,
      "id": "045148d9",
      "metadata": {
        "id": "045148d9"
      },
      "outputs": [],
      "source": [
        "corr = df3[['discount_percentage', 'rating']].corr().iloc[0, 1]\n",
        "print('Corrélation entre remise et note moyenne :', corr)\n",
        "\n",
        "# Visualisation\n",
        "sns.scatterplot(data=df1, x='discount_percentage', y='rating')\n",
        "plt.title('Lien entre remise (%) et note')\n",
        "plt.show()"
      ]
    },
    {
      "cell_type": "markdown",
      "id": "7a6056af",
      "metadata": {
        "id": "7a6056af"
      },
      "source": [
        "## 🔎 Question 3 : Les produits les mieux notés viennent-ils d’une même catégorie ?"
      ]
    },
    {
      "cell_type": "markdown",
      "source": [
        "On veut savoir si les produits qui ont les meilleures notes (rating) appartiennent tous ou majoritairement à une seule et même catégorie, ou s’ils sont répartis sur plusieurs."
      ],
      "metadata": {
        "id": "oJgaOwcg77P9"
      },
      "id": "oJgaOwcg77P9"
    },
    {
      "cell_type": "code",
      "source": [
        "# En utilisant la variable \"rating level\"\n",
        "df2.groupby('rating_level')['category'].value_counts()"
      ],
      "metadata": {
        "id": "EZFnEWw3OGxq"
      },
      "id": "EZFnEWw3OGxq",
      "execution_count": null,
      "outputs": []
    },
    {
      "cell_type": "markdown",
      "source": [
        "On peut aussi le faire en identifiant les 100 produits ayant les plus grandes notes"
      ],
      "metadata": {
        "id": "ctxnnqehOrvJ"
      },
      "id": "ctxnnqehOrvJ"
    },
    {
      "cell_type": "code",
      "source": [
        "# Étape 1 : Trier les produits selon leur note\n",
        "# On commence par identifier les produits les mieux notés dans l’ensemble du dataset.\n",
        "\n",
        "top_rated_products = df3[['product_name', 'category', 'rating']] \\\n",
        "    .sort_values(by='rating', ascending=False) \\\n",
        "    .head(100)\n"
      ],
      "metadata": {
        "id": "HQLF4Gn27Ik2"
      },
      "id": "HQLF4Gn27Ik2",
      "execution_count": null,
      "outputs": []
    },
    {
      "cell_type": "code",
      "source": [
        "# Étape 2 : Extraire la catégorie de ces produits\n",
        "# Une fois qu’on a les meilleurs produits, on regarde leur colonne category\n",
        "\n",
        "top_categories = top_rated_products['category']"
      ],
      "metadata": {
        "id": "pRhKycTP7O02"
      },
      "id": "pRhKycTP7O02",
      "execution_count": null,
      "outputs": []
    },
    {
      "cell_type": "code",
      "source": [
        "# Étape 3 : Compter les catégories\n",
        "# On utilise .value_counts() pour voir combien de fois chaque catégorie revient parmi les produits les mieux notés.\n",
        "\n",
        "category_counts = top_categories.value_counts()\n",
        "print(category_counts)"
      ],
      "metadata": {
        "id": "wzxhzidp7YH7"
      },
      "id": "wzxhzidp7YH7",
      "execution_count": null,
      "outputs": []
    },
    {
      "cell_type": "markdown",
      "id": "d81d6146",
      "metadata": {
        "id": "d81d6146"
      },
      "source": [
        "## 🔎 Question 4 : Quelles catégories dominent les ventes en nombre de produits ?"
      ]
    },
    {
      "cell_type": "code",
      "execution_count": null,
      "id": "40e17184",
      "metadata": {
        "id": "40e17184"
      },
      "outputs": [],
      "source": [
        "top_categories = df3['category'].value_counts().head(10)\n",
        "print(top_categories)\n",
        "\n",
        "# Visualisation\n",
        "top_categories.plot(kind='barh', title='Catégories avec le plus de produits')\n",
        "plt.xlabel('Nombre de produits')\n",
        "plt.show()"
      ]
    },
    {
      "cell_type": "markdown",
      "source": [
        "## **Quiz 0 : Le produits les mieux notés sont-ils les plus chers ?**"
      ],
      "metadata": {
        "id": "Dm-71kSMNYs4"
      },
      "id": "Dm-71kSMNYs4"
    },
    {
      "cell_type": "code",
      "source": [],
      "metadata": {
        "id": "80VVdFPrRhD8"
      },
      "id": "80VVdFPrRhD8",
      "execution_count": null,
      "outputs": []
    },
    {
      "cell_type": "code",
      "source": [],
      "metadata": {
        "id": "USNe6sn8Rg_q"
      },
      "id": "USNe6sn8Rg_q",
      "execution_count": null,
      "outputs": []
    },
    {
      "cell_type": "markdown",
      "source": [
        "## **Quiz 1 : Quel est le top 5 des catégories avec le meilleur rapport qualité-prix**"
      ],
      "metadata": {
        "id": "Cu4LBEMVHfNj"
      },
      "id": "Cu4LBEMVHfNj"
    },
    {
      "cell_type": "code",
      "source": [],
      "metadata": {
        "id": "iZ5V-G6-Rnke"
      },
      "id": "iZ5V-G6-Rnke",
      "execution_count": null,
      "outputs": []
    },
    {
      "cell_type": "code",
      "source": [],
      "metadata": {
        "id": "jeKzANjrRnea"
      },
      "id": "jeKzANjrRnea",
      "execution_count": null,
      "outputs": []
    },
    {
      "cell_type": "markdown",
      "source": [
        "## **Quiz 2 : Les produits les mieux notés (ayant une note supérieure à 4) viennent-ils d’une même catégorie ?**"
      ],
      "metadata": {
        "id": "RLkm20JfI7E6"
      },
      "id": "RLkm20JfI7E6"
    },
    {
      "cell_type": "code",
      "source": [],
      "metadata": {
        "id": "-XWYeDrURuwq"
      },
      "id": "-XWYeDrURuwq",
      "execution_count": null,
      "outputs": []
    },
    {
      "cell_type": "code",
      "source": [],
      "metadata": {
        "id": "h1UY3M9rRuVB"
      },
      "id": "h1UY3M9rRuVB",
      "execution_count": null,
      "outputs": []
    }
  ],
  "metadata": {
    "colab": {
      "provenance": []
    },
    "language_info": {
      "name": "python"
    },
    "kernelspec": {
      "name": "python3",
      "display_name": "Python 3"
    }
  },
  "nbformat": 4,
  "nbformat_minor": 5
}