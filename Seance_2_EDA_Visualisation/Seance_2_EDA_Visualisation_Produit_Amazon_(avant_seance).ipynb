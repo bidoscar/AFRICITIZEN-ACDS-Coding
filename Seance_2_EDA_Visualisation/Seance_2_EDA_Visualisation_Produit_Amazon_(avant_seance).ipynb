{
  "cells": [
    {
      "cell_type": "markdown",
      "id": "5af85946",
      "metadata": {
        "id": "5af85946"
      },
      "source": [
        "# 🧪 Séance de Coding : EDA & Visualisation avec Pandas/Seaborn\n",
        "📅 Date : 18 July 2025\n",
        "\n",
        "Ce notebook permet d'explorer une base de données issue d'Amazon. On y applique les étapes d'analyse exploratoire des données (EDA) et de visualisation avec Python.\n",
        "\n",
        "## 📌 Objectifs pédagogiques\n",
        "- Manipuler des données réelles\n",
        "- Visualiser les distributions, les corrélations\n",
        "- Répondre à des questions analytiques concrètes\n"
      ]
    },
    {
      "cell_type": "code",
      "execution_count": null,
      "id": "0439df3e",
      "metadata": {
        "id": "0439df3e"
      },
      "outputs": [],
      "source": [
        "import pandas as pd\n",
        "import numpy as np\n",
        "import seaborn as sns\n",
        "import matplotlib.pyplot as plt"
      ]
    },
    {
      "cell_type": "code",
      "execution_count": null,
      "id": "h4kFl2lr2u3Q",
      "metadata": {
        "id": "h4kFl2lr2u3Q"
      },
      "outputs": [],
      "source": [
        "# Télécharger le fichier CSV directement depuis GitHub\n",
        "!wget https://raw.githubusercontent.com/bidoscar/AFRICITIZEN-ACDS-Coding/main/Seance_1_Manipulation_Pandas/Datasets/amazon.csv"
      ]
    },
    {
      "cell_type": "code",
      "execution_count": null,
      "id": "Q9OE8yo22rcz",
      "metadata": {
        "id": "Q9OE8yo22rcz"
      },
      "outputs": [],
      "source": [
        "# Chargement du fichier CSV\n",
        "df = pd.read_csv('amazon.csv')\n",
        "df.head()"
      ]
    },
    {
      "cell_type": "code",
      "execution_count": null,
      "id": "WXk5a3NqrWz7",
      "metadata": {
        "id": "WXk5a3NqrWz7"
      },
      "outputs": [],
      "source": [
        "df.info()"
      ]
    },
    {
      "cell_type": "markdown",
      "id": "01e51f90",
      "metadata": {
        "id": "01e51f90"
      },
      "source": [
        "# **🧼 Étape 1 : Nettoyage minimal pour EDA**"
      ]
    },
    {
      "cell_type": "code",
      "execution_count": null,
      "id": "_OvDVOob3OeK",
      "metadata": {
        "id": "_OvDVOob3OeK"
      },
      "outputs": [],
      "source": [
        "# Créons d'abord une copie de notre jeu de données\n",
        "df1 = df.copy()"
      ]
    },
    {
      "cell_type": "code",
      "execution_count": null,
      "id": "R3_qx5Q33Fn-",
      "metadata": {
        "id": "R3_qx5Q33Fn-"
      },
      "outputs": [],
      "source": [
        "# On a remarqué la présence de | dans la colonne rating\n",
        "# Essayons de le remplacer par une value manquant (on peut aussi décider de le remplacer avec la médiane ou la moyenne)\n",
        "df1['rating'] = df1['rating'].replace('|', np.nan)"
      ]
    },
    {
      "cell_type": "code",
      "execution_count": null,
      "id": "7zl7wbAv3Hxj",
      "metadata": {
        "id": "7zl7wbAv3Hxj"
      },
      "outputs": [],
      "source": [
        "# Enlevons le symbol de devise et le délimitateur de millier\n",
        "df1['discounted_price'] = df1['discounted_price'].str.replace(\"₹\", \"\").str.replace(\",\", \"\").astype(float)\n",
        "df1['actual_price'] = df1['actual_price'].str.replace(\"₹\", \"\").str.replace(\",\", \"\").astype(float)\n",
        "df1['rating'] = df1['rating'].str.replace(\",\", \"\").astype(float)\n",
        "df1['rating_count'] = df1['rating_count'].str.replace(\",\", \"\").astype(float)"
      ]
    },
    {
      "cell_type": "code",
      "execution_count": null,
      "id": "V6n9I90H3K3k",
      "metadata": {
        "id": "V6n9I90H3K3k"
      },
      "outputs": [],
      "source": [
        "# Changeons le type de donnée et ramenons le pourcentage en proportion (entre 0 et 1) dans discount_Percentage\n",
        "df1['discount_percentage'] = df1['discount_percentage'].str.replace('%','').astype('float64')\n",
        "df1['discount_percentage'] = df1['discount_percentage'] / 100"
      ]
    },
    {
      "cell_type": "markdown",
      "id": "4UzJ0SDcsYbI",
      "metadata": {
        "id": "4UzJ0SDcsYbI"
      },
      "source": [
        "# **Etape 2 : Résumé statistique & infos générales**"
      ]
    },
    {
      "cell_type": "code",
      "execution_count": null,
      "id": "YIuQAr9lrfXC",
      "metadata": {
        "id": "YIuQAr9lrfXC"
      },
      "outputs": [],
      "source": [
        "df1.describe()"
      ]
    },
    {
      "cell_type": "code",
      "execution_count": null,
      "id": "RXIJGLCztJwm",
      "metadata": {
        "id": "RXIJGLCztJwm"
      },
      "outputs": [],
      "source": [
        "df.describe()"
      ]
    },
    {
      "cell_type": "code",
      "execution_count": null,
      "id": "KhI_UYcTs0QH",
      "metadata": {
        "id": "KhI_UYcTs0QH"
      },
      "outputs": [],
      "source": [
        "df1.describe(include=\"all\")"
      ]
    },
    {
      "cell_type": "code",
      "execution_count": null,
      "id": "u8u46_3Mtycg",
      "metadata": {
        "id": "u8u46_3Mtycg"
      },
      "outputs": [],
      "source": [
        "df.isnull().sum()"
      ]
    },
    {
      "cell_type": "code",
      "execution_count": null,
      "id": "YTM3tR8QCJKa",
      "metadata": {
        "id": "YTM3tR8QCJKa"
      },
      "outputs": [],
      "source": [
        "df.dropna(axis=0, inplace=True)"
      ]
    },
    {
      "cell_type": "markdown",
      "id": "657ca117",
      "metadata": {
        "id": "657ca117"
      },
      "source": [
        "# **🧪 Etape 3 : Analyse Univariée Enrichie en Python**\n",
        "📅 Séance du 18 July 2025\n",
        "\n",
        "Dans ce notebook enrichi, nous allons approfondir l'analyse univariée :\n",
        "- Variable **continue** : `rating`\n",
        "- Variable **catégorielle** : `category`\n",
        "Nous aborderons :\n",
        "- Statistiques descriptives\n",
        "- Densité, Boxplot, ECDF, Skewness/Kurtosis\n",
        "- Visualisations matplotlib & seaborn\n",
        "- Interprétations"
      ]
    },
    {
      "cell_type": "markdown",
      "id": "d14c157f",
      "metadata": {
        "id": "d14c157f"
      },
      "source": [
        "## 📊 3.1 Analyse d'une variable continue : `rating`"
      ]
    },
    {
      "cell_type": "code",
      "execution_count": null,
      "id": "6gKMtEVvzirE",
      "metadata": {
        "id": "6gKMtEVvzirE"
      },
      "outputs": [],
      "source": [
        "df1['rating'].describe()"
      ]
    },
    {
      "cell_type": "code",
      "execution_count": null,
      "id": "jsCLziKWzirF",
      "metadata": {
        "id": "jsCLziKWzirF"
      },
      "outputs": [],
      "source": [
        "sns.boxplot(x=df1['rating'], color='lightcoral')\n",
        "plt.title('Boxplot des évaluations (seaborn)')\n",
        "plt.show()"
      ]
    },
    {
      "cell_type": "code",
      "execution_count": null,
      "id": "39Hu8xFjzirG",
      "metadata": {
        "id": "39Hu8xFjzirG"
      },
      "outputs": [],
      "source": [
        "# écart interquartile, skewness, kurtosis\n",
        "q1 = df1['rating'].quantile(0.25)\n",
        "q3 = df1['rating'].quantile(0.75)\n",
        "iqr = q3 - q1\n",
        "skew = df1['rating'].skew()\n",
        "kurt = df1['rating'].kurtosis()\n",
        "iqr, skew, kurt"
      ]
    },
    {
      "cell_type": "code",
      "execution_count": null,
      "id": "9Lp38isSzirG",
      "metadata": {
        "id": "9Lp38isSzirG"
      },
      "outputs": [],
      "source": [
        "plt.hist(df1['rating'], bins=30, color='skyblue', edgecolor='black')\n",
        "plt.title('Histogramme des évaluations (matplotlib)')\n",
        "plt.xlabel('Evaluation')\n",
        "plt.ylabel('Fréquence')\n",
        "plt.show()"
      ]
    },
    {
      "cell_type": "code",
      "execution_count": null,
      "id": "84evybwvzirH",
      "metadata": {
        "id": "84evybwvzirH"
      },
      "outputs": [],
      "source": [
        "sns.histplot(df1['rating'], kde=True, color='green')\n",
        "plt.title('Histogramme avec densité (seaborn)')\n",
        "plt.xlabel('Evaluation')\n",
        "plt.show()"
      ]
    },
    {
      "cell_type": "code",
      "execution_count": null,
      "id": "-fYFDC_wzirH",
      "metadata": {
        "id": "-fYFDC_wzirH"
      },
      "outputs": [],
      "source": [
        "sns.ecdfplot(df1['rating'])\n",
        "plt.title('Fonction de répartition empirique (ECDF)')\n",
        "plt.xlabel('Evaluation')\n",
        "plt.ylabel('Proportion cumulée')\n",
        "#xticks = np.linspace(df1['rating'].min(), df1['rating'].max(), 6)  # ou un nombre plus petit\n",
        "plt.xticks(rotation=45)\n",
        "#plt.tight_layout()\n",
        "plt.show()"
      ]
    },
    {
      "cell_type": "code",
      "execution_count": null,
      "id": "9qOkMgebziJS",
      "metadata": {
        "id": "9qOkMgebziJS"
      },
      "outputs": [],
      "source": [
        "sns.ecdfplot(df1['discounted_price'])\n",
        "plt.title('Fonction de répartition empirique (ECDF)')\n",
        "plt.xlabel('Prix réduit')\n",
        "plt.ylabel('Proportion cumulée')\n",
        "#xticks = np.linspace(df1['rating'].min(), df1['rating'].max(), 6)  # ou un nombre plus petit\n",
        "#plt.xticks(rotation=45)\n",
        "#plt.tight_layout()\n",
        "plt.show()"
      ]
    },
    {
      "cell_type": "markdown",
      "id": "9a1ed994",
      "metadata": {
        "id": "9a1ed994"
      },
      "source": [
        "## 📊 3.2 Analyse d'une variable catégorielle : `category`"
      ]
    },
    {
      "cell_type": "code",
      "execution_count": null,
      "id": "7561fd76",
      "metadata": {
        "id": "7561fd76"
      },
      "outputs": [],
      "source": [
        "df1['category'].nunique()"
      ]
    },
    {
      "cell_type": "code",
      "execution_count": null,
      "id": "fc64369a",
      "metadata": {
        "id": "fc64369a"
      },
      "outputs": [],
      "source": [
        "df1['category'].mode()[0]"
      ]
    },
    {
      "cell_type": "code",
      "execution_count": null,
      "id": "969dc913",
      "metadata": {
        "id": "969dc913"
      },
      "outputs": [],
      "source": [
        "df1['category'].value_counts().head(5)"
      ]
    },
    {
      "cell_type": "code",
      "execution_count": null,
      "id": "00HKUuf36PDZ",
      "metadata": {
        "id": "00HKUuf36PDZ"
      },
      "outputs": [],
      "source": [
        "(df1['category'].value_counts(normalize=True)*100).head(5)"
      ]
    },
    {
      "cell_type": "code",
      "execution_count": null,
      "id": "bab0e4e0",
      "metadata": {
        "id": "bab0e4e0"
      },
      "outputs": [],
      "source": [
        "top10 = df1['category'].value_counts().head(10)\n",
        "top10.plot(kind='barh', color='orange')\n",
        "plt.title('Top 10 catégories (matplotlib)')\n",
        "plt.xlabel('Nombre de produits')\n",
        "plt.show()"
      ]
    },
    {
      "cell_type": "code",
      "execution_count": null,
      "id": "e962e4fe",
      "metadata": {
        "id": "e962e4fe"
      },
      "outputs": [],
      "source": [
        "top5 = df1['category'].value_counts().head(5)\n",
        "top5.plot(kind='pie', autopct='%1.1f%%')\n",
        "plt.title('Répartition des 5 premières catégories')\n",
        "plt.ylabel('')\n",
        "plt.show()"
      ]
    },
    {
      "cell_type": "markdown",
      "id": "8R0xn3Vy9c2A",
      "metadata": {
        "id": "8R0xn3Vy9c2A"
      },
      "source": [
        "## 📊 3.3 Analyse d'une variable catégorielle : `rating_level`"
      ]
    },
    {
      "cell_type": "code",
      "execution_count": null,
      "id": "pkuadwUi9qD8",
      "metadata": {
        "id": "pkuadwUi9qD8"
      },
      "outputs": [],
      "source": [
        "# Une copy de notre jeu de données\n",
        "df2 = df1.copy()"
      ]
    },
    {
      "cell_type": "code",
      "execution_count": null,
      "id": "a4BgqXWi9mcu",
      "metadata": {
        "id": "a4BgqXWi9mcu"
      },
      "outputs": [],
      "source": [
        "# Create a new categorical variable from rating\n",
        "def classify_rating(r):\n",
        "    if r <= 2.5:\n",
        "        return \"Low\"\n",
        "    elif r <= 3.9:\n",
        "        return \"Medium\"\n",
        "    else:\n",
        "        return \"High\"\n",
        "\n",
        "df2['rating_level'] = df2['rating'].apply(classify_rating)"
      ]
    },
    {
      "cell_type": "code",
      "execution_count": null,
      "id": "3c4Mo4_K9mXb",
      "metadata": {
        "id": "3c4Mo4_K9mXb"
      },
      "outputs": [],
      "source": [
        "df2['rating_level'].value_counts()"
      ]
    },
    {
      "cell_type": "code",
      "execution_count": null,
      "id": "P2JuTj62Iuie",
      "metadata": {
        "id": "P2JuTj62Iuie"
      },
      "outputs": [],
      "source": [
        "# Create a new categorical variable from rating\n",
        "def classify_rating(r):\n",
        "    if r <= 3.9:\n",
        "        return \"Medium\"\n",
        "    else:\n",
        "        return \"High\"\n",
        "\n",
        "df2['rating_level'] = df2['rating'].apply(classify_rating)"
      ]
    },
    {
      "cell_type": "code",
      "execution_count": null,
      "id": "e16em-GnI0pU",
      "metadata": {
        "id": "e16em-GnI0pU"
      },
      "outputs": [],
      "source": [
        "df2['rating_level'].value_counts()"
      ]
    },
    {
      "cell_type": "code",
      "execution_count": null,
      "id": "2VUnTeTE9mS3",
      "metadata": {
        "id": "2VUnTeTE9mS3"
      },
      "outputs": [],
      "source": [
        "rating_classes = df2['rating_level'].value_counts()\n",
        "rating_classes.plot(kind='barh', color='orange')\n",
        "plt.title('Evaluations (regroupées en classes)')\n",
        "plt.xlabel('Nombre de produits')\n",
        "plt.show()"
      ]
    },
    {
      "cell_type": "code",
      "execution_count": null,
      "id": "MRsG6M9s9mMf",
      "metadata": {
        "id": "MRsG6M9s9mMf"
      },
      "outputs": [],
      "source": [
        "rating_classes.plot(kind='pie', autopct='%1.1f%%')\n",
        "plt.title('Regroupement des évaluations')\n",
        "plt.ylabel('')\n",
        "plt.show()"
      ]
    },
    {
      "cell_type": "markdown",
      "id": "6206deac",
      "metadata": {
        "id": "6206deac"
      },
      "source": [
        "# 🔗 **Etape 4 : Analyse Bivariée en Python**\n",
        "\n",
        "Dans cette partie, nous allons explorer **l'analyse bivariée**, c’est-à-dire l’étude de la relation entre deux variables.\n",
        "\n",
        "Nous allons couvrir trois cas classiques :\n",
        "1. Deux variables **continues**\n",
        "2. Deux variables **catégorielles**\n",
        "3. Une variable **continue** et une **catégorielle**"
      ]
    },
    {
      "cell_type": "markdown",
      "id": "nraoCcynAnfg",
      "metadata": {
        "id": "nraoCcynAnfg"
      },
      "source": [
        "## **La vue d'ensemble**"
      ]
    },
    {
      "cell_type": "code",
      "execution_count": null,
      "id": "BBS_FP4HAxXJ",
      "metadata": {
        "id": "BBS_FP4HAxXJ"
      },
      "outputs": [],
      "source": [
        "# Croiser les variables numériques entre elles\n",
        "sns.pairplot(df2)"
      ]
    },
    {
      "cell_type": "code",
      "execution_count": null,
      "id": "1rftlFuGBY4Z",
      "metadata": {
        "id": "1rftlFuGBY4Z"
      },
      "outputs": [],
      "source": [
        "# Croiser les variables numériques entre elles\n",
        "sns.pairplot(df2, hue= 'rating_level')"
      ]
    },
    {
      "cell_type": "code",
      "execution_count": null,
      "id": "jc316eCnCeLj",
      "metadata": {
        "id": "jc316eCnCeLj"
      },
      "outputs": [],
      "source": [
        "# Sélection des colonnes numériques\n",
        "numeric_df = df2.select_dtypes(include='number')\n",
        "\n",
        "# Calcul de la matrice de corrélation\n",
        "correlation_matrix = numeric_df.corr()\n",
        "\n",
        "# Affichage de la heatmap\n",
        "plt.figure(figsize=(10, 6))\n",
        "sns.heatmap(correlation_matrix, annot=True, cmap='coolwarm', fmt=\".2f\", linewidths=0.995)\n",
        "plt.title(\"Heatmap des corrélations entre variables numériques\")\n",
        "plt.show()"
      ]
    },
    {
      "cell_type": "markdown",
      "id": "b4ad197f",
      "metadata": {
        "id": "b4ad197f"
      },
      "source": [
        "## 1️⃣ Analyse entre deux variables continues : `rating` vs `discounted_price`"
      ]
    },
    {
      "cell_type": "code",
      "execution_count": null,
      "id": "88679c86",
      "metadata": {
        "id": "88679c86"
      },
      "outputs": [],
      "source": [
        "# Corrélation\n",
        "correlation = df2[['rating', 'discounted_price']].corr()\n",
        "correlation"
      ]
    },
    {
      "cell_type": "code",
      "execution_count": null,
      "id": "a19d03a6",
      "metadata": {
        "id": "a19d03a6"
      },
      "outputs": [],
      "source": [
        "plt.scatter(df2['rating'], df2['discounted_price'], alpha=0.25)\n",
        "plt.title('Scatterplot - Rating vs Prix réduit (matplotlib)')\n",
        "plt.xlabel('Note')\n",
        "plt.ylabel('Prix réduit')\n",
        "\n",
        "plt.show()"
      ]
    },
    {
      "cell_type": "code",
      "execution_count": null,
      "id": "byOqmzUzGUFZ",
      "metadata": {
        "id": "byOqmzUzGUFZ"
      },
      "outputs": [],
      "source": [
        "plt.scatter(df2['rating'], df2['discounted_price'], alpha=0.25)\n",
        "plt.yscale('log')\n",
        "plt.title('Scatterplot - Rating vs Prix réduit (échelle log)')\n",
        "plt.xlabel('Note')\n",
        "plt.ylabel('Prix réduit (log)')\n",
        "\n",
        "plt.tight_layout()\n",
        "plt.show()"
      ]
    },
    {
      "cell_type": "code",
      "execution_count": null,
      "id": "448db3a0",
      "metadata": {
        "id": "448db3a0"
      },
      "outputs": [],
      "source": [
        "sns.regplot(x='rating', y='discounted_price', data=df2, scatter_kws={'alpha':0.3})\n",
        "plt.title('Relation entre rating et prix réduit (seaborn)')\n",
        "plt.show()"
      ]
    },
    {
      "cell_type": "markdown",
      "id": "45a2544d",
      "metadata": {
        "id": "45a2544d"
      },
      "source": [
        "## 2️⃣ Analyse entre deux variables catégorielles : `category` vs `rating_level`"
      ]
    },
    {
      "cell_type": "code",
      "execution_count": null,
      "id": "b14195bf",
      "metadata": {
        "id": "b14195bf"
      },
      "outputs": [],
      "source": [
        "# Tableau croisé\n",
        "crosstab = pd.crosstab(df2['category'], df2['rating_level'])\n",
        "crosstab.head()"
      ]
    },
    {
      "cell_type": "code",
      "execution_count": null,
      "id": "739c07bd",
      "metadata": {
        "id": "739c07bd"
      },
      "outputs": [],
      "source": [
        "# On sélectionne les 10 catégories les plus fréquentes pour meilleure lisibilité\n",
        "top_cats = df2['category'].value_counts().head(10).index\n",
        "subset = df2[df2['category'].isin(top_cats)]\n",
        "pivot = pd.crosstab(subset['category'], subset['rating_level'])\n",
        "pivot"
      ]
    },
    {
      "cell_type": "code",
      "execution_count": null,
      "id": "EyJuk7FnHjwQ",
      "metadata": {
        "id": "EyJuk7FnHjwQ"
      },
      "outputs": [],
      "source": [
        "sns.heatmap(pivot, annot=True, cmap='Blues', fmt='d')\n",
        "plt.title('Répartition des niveaux de rating par catégorie')\n",
        "plt.show()"
      ]
    },
    {
      "cell_type": "code",
      "execution_count": null,
      "id": "7bbb9b9f",
      "metadata": {
        "id": "7bbb9b9f"
      },
      "outputs": [],
      "source": [
        "sns.countplot(data=subset, x='rating_level', hue='category')\n",
        "plt.title('Rating level par catégorie (seaborn)')\n",
        "plt.legend(bbox_to_anchor=(1.05, 1), loc='upper left')\n",
        "plt.show()"
      ]
    },
    {
      "cell_type": "markdown",
      "id": "0806e722",
      "metadata": {
        "id": "0806e722"
      },
      "source": [
        "## 3️⃣ Analyse entre une variable continue et une variable catégorielle : `discounted_price` selon `rating_level`"
      ]
    },
    {
      "cell_type": "code",
      "execution_count": null,
      "id": "bDwH0EC0IEkJ",
      "metadata": {
        "id": "bDwH0EC0IEkJ"
      },
      "outputs": [],
      "source": [
        "df2['discounted_price'].describe()"
      ]
    },
    {
      "cell_type": "code",
      "execution_count": null,
      "id": "9ae81c50",
      "metadata": {
        "id": "9ae81c50"
      },
      "outputs": [],
      "source": [
        "df2.groupby('rating_level')['discounted_price'].describe()"
      ]
    },
    {
      "cell_type": "code",
      "execution_count": null,
      "id": "d60e6b06",
      "metadata": {
        "id": "d60e6b06"
      },
      "outputs": [],
      "source": [
        "sns.boxplot(x='rating_level', y='discounted_price', data=df2, palette='Set2')\n",
        "plt.title('Boxplot du prix réduit par niveau de rating')\n",
        "plt.show()"
      ]
    },
    {
      "cell_type": "markdown",
      "id": "gNl-sPb7LXU4",
      "metadata": {
        "id": "gNl-sPb7LXU4"
      },
      "source": [
        "# **Etape 4 : Questions**"
      ]
    },
    {
      "cell_type": "markdown",
      "id": "a4d33931",
      "metadata": {
        "id": "a4d33931"
      },
      "source": [
        "## 🔎 Question 1 : Quels produits ont le meilleur rapport qualité-prix ?"
      ]
    },
    {
      "cell_type": "code",
      "execution_count": null,
      "id": "hipnFWiTK2R-",
      "metadata": {
        "id": "hipnFWiTK2R-"
      },
      "outputs": [],
      "source": [
        "# une autre copie de notre données\n",
        "df3 = df2.copy()"
      ]
    },
    {
      "cell_type": "code",
      "execution_count": null,
      "id": "8c8d10da",
      "metadata": {
        "id": "8c8d10da"
      },
      "outputs": [],
      "source": [
        "df3['rapport_qualité_prix'] = df3['rating'] / df3['discounted_price']\n",
        "df3[['product_name', 'discounted_price', 'rating', 'rapport_qualité_prix', 'category']].sort_values(by='rapport_qualité_prix', ascending=False).head(10)"
      ]
    },
    {
      "cell_type": "markdown",
      "id": "34622a3d",
      "metadata": {
        "id": "34622a3d"
      },
      "source": [
        "## 🔎 Question 2 : Les produits très remisés seraient-ils perçus comme de moins bonne qualité ?"
      ]
    },
    {
      "cell_type": "code",
      "execution_count": null,
      "id": "045148d9",
      "metadata": {
        "id": "045148d9"
      },
      "outputs": [],
      "source": [
        "corr = df3[['discount_percentage', 'rating']].corr().iloc[0, 1]\n",
        "print('Corrélation entre remise et note moyenne :', corr)\n",
        "\n",
        "# Visualisation\n",
        "sns.scatterplot(data=df1, x='discount_percentage', y='rating')\n",
        "plt.title('Lien entre remise (%) et note')\n",
        "plt.show()"
      ]
    },
    {
      "cell_type": "markdown",
      "id": "7a6056af",
      "metadata": {
        "id": "7a6056af"
      },
      "source": [
        "## 🔎 Question 3 : Les produits les mieux notés viennent-ils d’une même catégorie ?"
      ]
    },
    {
      "cell_type": "markdown",
      "id": "oJgaOwcg77P9",
      "metadata": {
        "id": "oJgaOwcg77P9"
      },
      "source": [
        "On veut savoir si les produits qui ont les meilleures notes (rating) appartiennent tous ou majoritairement à une seule et même catégorie, ou s’ils sont répartis sur plusieurs."
      ]
    },
    {
      "cell_type": "code",
      "execution_count": null,
      "id": "EZFnEWw3OGxq",
      "metadata": {
        "id": "EZFnEWw3OGxq"
      },
      "outputs": [],
      "source": [
        "# En utilisant la variable \"rating level\"\n",
        "df2.groupby('rating_level')['category'].value_counts()"
      ]
    },
    {
      "cell_type": "markdown",
      "id": "ctxnnqehOrvJ",
      "metadata": {
        "id": "ctxnnqehOrvJ"
      },
      "source": [
        "On peut aussi le faire en identifiant les 100 produits ayant les plus grandes notes"
      ]
    },
    {
      "cell_type": "code",
      "execution_count": null,
      "id": "HQLF4Gn27Ik2",
      "metadata": {
        "id": "HQLF4Gn27Ik2"
      },
      "outputs": [],
      "source": [
        "# Étape 1 : Trier les produits selon leur note\n",
        "# On commence par identifier les produits les mieux notés dans l’ensemble du dataset.\n",
        "\n",
        "top_rated_products = df3[['product_name', 'category', 'rating']] \\\n",
        "    .sort_values(by='rating', ascending=False) \\\n",
        "    .head(100)\n"
      ]
    },
    {
      "cell_type": "code",
      "execution_count": null,
      "id": "pRhKycTP7O02",
      "metadata": {
        "id": "pRhKycTP7O02"
      },
      "outputs": [],
      "source": [
        "# Étape 2 : Extraire la catégorie de ces produits\n",
        "# Une fois qu’on a les meilleurs produits, on regarde leur colonne category\n",
        "\n",
        "top_categories = top_rated_products['category']"
      ]
    },
    {
      "cell_type": "code",
      "execution_count": null,
      "id": "wzxhzidp7YH7",
      "metadata": {
        "id": "wzxhzidp7YH7"
      },
      "outputs": [],
      "source": [
        "# Étape 3 : Compter les catégories\n",
        "# On utilise .value_counts() pour voir combien de fois chaque catégorie revient parmi les produits les mieux notés.\n",
        "\n",
        "category_counts = top_categories.value_counts()\n",
        "print(category_counts)"
      ]
    },
    {
      "cell_type": "markdown",
      "id": "d81d6146",
      "metadata": {
        "id": "d81d6146"
      },
      "source": [
        "## 🔎 Question 4 : Quelles catégories dominent les ventes en nombre de produits ?"
      ]
    },
    {
      "cell_type": "code",
      "execution_count": null,
      "id": "40e17184",
      "metadata": {
        "id": "40e17184"
      },
      "outputs": [],
      "source": [
        "top_categories = df3['category'].value_counts().head(10)\n",
        "print(top_categories)\n",
        "\n",
        "# Visualisation\n",
        "top_categories.plot(kind='barh', title='Catégories avec le plus de produits')\n",
        "plt.xlabel('Nombre de produits')\n",
        "plt.show()"
      ]
    },
    {
      "cell_type": "markdown",
      "id": "Dm-71kSMNYs4",
      "metadata": {
        "id": "Dm-71kSMNYs4"
      },
      "source": [
        "## **Quiz 0 : Le produits les mieux notés sont-ils les plus chers ?**"
      ]
    },
    {
      "cell_type": "code",
      "execution_count": null,
      "id": "80VVdFPrRhD8",
      "metadata": {
        "id": "80VVdFPrRhD8"
      },
      "outputs": [],
      "source": []
    },
    {
      "cell_type": "code",
      "execution_count": null,
      "id": "USNe6sn8Rg_q",
      "metadata": {
        "id": "USNe6sn8Rg_q"
      },
      "outputs": [],
      "source": []
    },
    {
      "cell_type": "markdown",
      "id": "Cu4LBEMVHfNj",
      "metadata": {
        "id": "Cu4LBEMVHfNj"
      },
      "source": [
        "## **Quiz 1 : Quel est le top 5 des catégories avec le meilleur rapport qualité-prix**"
      ]
    },
    {
      "cell_type": "code",
      "execution_count": null,
      "id": "iZ5V-G6-Rnke",
      "metadata": {
        "id": "iZ5V-G6-Rnke"
      },
      "outputs": [],
      "source": []
    },
    {
      "cell_type": "code",
      "execution_count": null,
      "id": "jeKzANjrRnea",
      "metadata": {
        "id": "jeKzANjrRnea"
      },
      "outputs": [],
      "source": []
    },
    {
      "cell_type": "markdown",
      "id": "RLkm20JfI7E6",
      "metadata": {
        "id": "RLkm20JfI7E6"
      },
      "source": [
        "## **Quiz 2 : Les produits les mieux notés (ayant une note supérieure à 4) viennent-ils d’une même catégorie ?**"
      ]
    },
    {
      "cell_type": "code",
      "execution_count": null,
      "id": "-XWYeDrURuwq",
      "metadata": {
        "id": "-XWYeDrURuwq"
      },
      "outputs": [],
      "source": []
    },
    {
      "cell_type": "code",
      "execution_count": null,
      "id": "h1UY3M9rRuVB",
      "metadata": {
        "id": "h1UY3M9rRuVB"
      },
      "outputs": [],
      "source": []
    }
  ],
  "metadata": {
    "colab": {
      "provenance": []
    },
    "kernelspec": {
      "display_name": "Python 3",
      "name": "python3"
    },
    "language_info": {
      "name": "python"
    }
  },
  "nbformat": 4,
  "nbformat_minor": 5
}
