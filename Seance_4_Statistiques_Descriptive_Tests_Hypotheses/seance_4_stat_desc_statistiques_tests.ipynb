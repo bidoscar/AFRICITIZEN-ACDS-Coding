{
  "cells": [
    {
      "cell_type": "markdown",
      "source": [
        "\n",
        "# 📊 Séance 4 – Statistiques descriptives & tests\n",
        "\n",
        "Dans cette séance, nous allons explorer les relations entre certaines variables de notre dataset `df_clean` à l'aide de tests statistiques. Nous allons aussi vérifier les conditions de validité de chaque test."
      ],
      "metadata": {
        "id": "4ywqhE2noiPu"
      },
      "id": "4ywqhE2noiPu"
    },
    {
      "cell_type": "markdown",
      "source": [
        "# **1. Les basiques**"
      ],
      "metadata": {
        "id": "YnVOOeML2cOx"
      },
      "id": "YnVOOeML2cOx"
    },
    {
      "cell_type": "code",
      "source": [
        "# 📦 Chargement des bibliothèques\n",
        "import pandas as pd\n",
        "import numpy as np\n",
        "import matplotlib.pyplot as plt\n",
        "import seaborn as sns"
      ],
      "metadata": {
        "id": "zs0v877BuoUV"
      },
      "id": "zs0v877BuoUV",
      "execution_count": null,
      "outputs": []
    },
    {
      "cell_type": "code",
      "source": [
        "# Télécharger le fichier CSV directement depuis GitHub\n",
        "!wget https://raw.githubusercontent.com/bidoscar/AFRICITIZEN-ACDS-Coding/main/Seance_4_Statistiques_Descriptive_Tests_Hypotheses/Datasets/df_amazon_clean.csv"
      ],
      "metadata": {
        "id": "RSuSuHWkonre"
      },
      "id": "RSuSuHWkonre",
      "execution_count": null,
      "outputs": []
    },
    {
      "cell_type": "code",
      "execution_count": null,
      "id": "be86d801",
      "metadata": {
        "id": "be86d801"
      },
      "outputs": [],
      "source": [
        "## 1. Chargement et aperçu des données\n",
        "\n",
        "df = pd.read_csv(\"df_amazon_clean.csv\")\n",
        "df.head()"
      ]
    },
    {
      "cell_type": "markdown",
      "source": [
        "# **2. Statistiques descriptives**"
      ],
      "metadata": {
        "id": "fm0fp20y2TDZ"
      },
      "id": "fm0fp20y2TDZ"
    },
    {
      "cell_type": "code",
      "source": [
        "# Croiser les variables numériques entre elles\n",
        "sns.pairplot(df, hue= 'rating_level')"
      ],
      "metadata": {
        "id": "AxfkKncH2OkL"
      },
      "id": "AxfkKncH2OkL",
      "execution_count": null,
      "outputs": []
    },
    {
      "cell_type": "code",
      "source": [
        "# Croiser les variables numériques entre elles\n",
        "sns.pairplot(df, hue= 'category_level_1')"
      ],
      "metadata": {
        "id": "-k1nXsC8206f"
      },
      "id": "-k1nXsC8206f",
      "execution_count": null,
      "outputs": []
    },
    {
      "cell_type": "code",
      "execution_count": null,
      "id": "f6f62a8f",
      "metadata": {
        "id": "f6f62a8f"
      },
      "outputs": [],
      "source": [
        "df.describe()"
      ]
    },
    {
      "cell_type": "code",
      "source": [
        "df['rating_level'].value_counts()"
      ],
      "metadata": {
        "id": "MT9DgrELpqoy"
      },
      "id": "MT9DgrELpqoy",
      "execution_count": null,
      "outputs": []
    },
    {
      "cell_type": "code",
      "source": [
        "df['category_level_1'].value_counts()"
      ],
      "metadata": {
        "id": "feLyx7_xptWx"
      },
      "id": "feLyx7_xptWx",
      "execution_count": null,
      "outputs": []
    },
    {
      "cell_type": "markdown",
      "source": [
        "# **3: Analyse des relations**"
      ],
      "metadata": {
        "id": "kZy-TMfXqnY2"
      },
      "id": "kZy-TMfXqnY2"
    },
    {
      "cell_type": "markdown",
      "source": [
        "## **3.1 Prix (`discounted_price`) ~ Note (`rating`)**"
      ],
      "metadata": {
        "id": "4wLxGYA4uNfQ"
      },
      "id": "4wLxGYA4uNfQ"
    },
    {
      "cell_type": "code",
      "source": [
        "# Verifions si la variable est normalement distribuee\n",
        "sns.histplot(df['discounted_price'], kde=True, color='green')\n",
        "plt.show()"
      ],
      "metadata": {
        "id": "HGEDdXm9u-eE"
      },
      "id": "HGEDdXm9u-eE",
      "execution_count": null,
      "outputs": []
    },
    {
      "cell_type": "markdown",
      "source": [
        "🧪 **Test de normalité – Shapiro-Wilk**\n",
        "\n",
        "But : Vérifier si une variable suit une distribution normale (gaussienne).\n",
        "\n",
        "➤ Pourquoi c’est important ?\n",
        "Certains tests statistiques (comme le test de Pearson ou l’ANOVA) présument que les données sont normalement distribuées. Si cette hypothèse est violée, il faut alors utiliser des tests non paramétriques (comme Spearman ou Kruskal-Wallis).\n",
        "\n",
        "➤ Le test :\n",
        "H₀ (hypothèse nulle) : Les données suivent une distribution normale.\n",
        "\n",
        "H₁ : Les données ne suivent pas une distribution normale.\n",
        "\n",
        "Si la p-value < 0.05, on rejette H₀ → les données ne sont pas normales."
      ],
      "metadata": {
        "id": "RONAkQFBqFof"
      },
      "id": "RONAkQFBqFof"
    },
    {
      "cell_type": "code",
      "source": [
        "# Verifions la normalité\n",
        "from scipy.stats import shapiro"
      ],
      "metadata": {
        "id": "xtq2yL-rrjb2"
      },
      "id": "xtq2yL-rrjb2",
      "execution_count": null,
      "outputs": []
    },
    {
      "cell_type": "code",
      "source": [
        "stat, p = shapiro(df['discounted_price'])\n",
        "print('stat=%.3f, p=%.3f' % (stat, p))"
      ],
      "metadata": {
        "id": "IfDhhgwXrMg2"
      },
      "id": "IfDhhgwXrMg2",
      "execution_count": null,
      "outputs": []
    },
    {
      "cell_type": "code",
      "source": [
        "# Vérifions le relation\n",
        "from scipy.stats import pearsonr, spearmanr"
      ],
      "metadata": {
        "id": "tU9ZCQvlr3wx"
      },
      "id": "tU9ZCQvlr3wx",
      "execution_count": null,
      "outputs": []
    },
    {
      "cell_type": "markdown",
      "source": [
        "**1. pearsonr() – Corrélation de Pearson**\n",
        "\n",
        "But : Mesurer la relation linéaire entre deux variables quantitatives continues.\n",
        "\n",
        "✅ Conditions d'application :\n",
        "* Les deux variables doivent suivre une distribution normale (test Shapiro-Wilk recommandé).\n",
        "\n",
        "* La relation entre les variables doit être linéaire.\n",
        "\n",
        "⚙️ Comment ça marche ?\n",
        "Calcule un coefficient r ∈ [-1, 1]\n",
        "\n",
        "* r ≈ 1 : forte corrélation positive\n",
        "\n",
        "* r ≈ -1 : forte corrélation négative\n",
        "\n",
        "* r ≈ 0 : pas de corrélation linéaire\n",
        "\n",
        "Retourne aussi une p-value pour tester si cette corrélation est significative."
      ],
      "metadata": {
        "id": "w2w0e4xRswBp"
      },
      "id": "w2w0e4xRswBp"
    },
    {
      "cell_type": "code",
      "source": [
        "pearsonr(df['discounted_price'], df['rating'])  # seulement si normalité"
      ],
      "metadata": {
        "id": "gw1bamMDrxj6"
      },
      "id": "gw1bamMDrxj6",
      "execution_count": null,
      "outputs": []
    },
    {
      "cell_type": "markdown",
      "source": [
        "**2. spearmanr() – Corrélation de Spearman**\n",
        "\n",
        "But : Mesurer la relation monotone (pas forcément linéaire) entre deux variables ordinales ou quantitatives.\n",
        "\n",
        "✅ Quand l’utiliser ?\n",
        "* Quand les données ne suivent pas une distribution normale.\n",
        "\n",
        "* Quand la relation semble non linéaire\n",
        "\n",
        "* Quand les données contiennent des valeurs extrêmes ou aberrantes.\n",
        "\n",
        "⚙️ Comment ça marche ?\n",
        "* Retourne aussi une p-value."
      ],
      "metadata": {
        "id": "uQNoIlv-tbrj"
      },
      "id": "uQNoIlv-tbrj"
    },
    {
      "cell_type": "code",
      "source": [
        "spearmanr(df['discounted_price'], df['rating']) # si non-normalité"
      ],
      "metadata": {
        "id": "dDKCOhfIrzlO"
      },
      "id": "dDKCOhfIrzlO",
      "execution_count": null,
      "outputs": []
    },
    {
      "cell_type": "markdown",
      "source": [
        "**Et la méthode df.corr() ?**"
      ],
      "metadata": {
        "id": "Xi5LA8bft561"
      },
      "id": "Xi5LA8bft561"
    },
    {
      "cell_type": "code",
      "source": [
        "df[['discounted_price','rating']].corr()"
      ],
      "metadata": {
        "id": "d-EAGbkdtILg"
      },
      "id": "d-EAGbkdtILg",
      "execution_count": null,
      "outputs": []
    },
    {
      "cell_type": "markdown",
      "source": [
        "df.corr() utilise par défaut la corrélation de Pearson, sans vérification de normalité, sans p-value, et sans possibilité de traiter les valeurs manquantes avec autant de finesse.\n",
        "\n",
        "Elle donne un aperçu rapide mais pas suffisant pour une analyse statistique rigoureuse."
      ],
      "metadata": {
        "id": "bZLjbq5Rt_tj"
      },
      "id": "bZLjbq5Rt_tj"
    },
    {
      "cell_type": "markdown",
      "source": [
        "## **3.2 Prix ~ Classe de note (`rating_level`)**"
      ],
      "metadata": {
        "id": "rNlvNjRduEEA"
      },
      "id": "rNlvNjRduEEA"
    },
    {
      "cell_type": "markdown",
      "source": [
        "L’ANOVA permet de comparer les moyennes de plusieurs groupes pour voir s’il existe au moins une différence significative.\n",
        "\n",
        "📌 Hypothèses de base\n",
        "* Les observations dans chaque groupe doivent être indépendantes les unes des autres.\n",
        "* Les données de chaque groupe doivent suivre une distribution normale.\n",
        "* Les variances des groupes doivent être égales."
      ],
      "metadata": {
        "id": "chsGD6MPwW59"
      },
      "id": "chsGD6MPwW59"
    },
    {
      "cell_type": "markdown",
      "source": [
        "🧪 **Test d’homogénéité des variances – Levene**\n",
        "\n",
        "But : Vérifier si plusieurs groupes ont des variances similaires.\n",
        "\n",
        "➤ Pourquoi c’est important ?\n",
        "L’ANOVA (test de comparaison des moyennes entre plusieurs groupes) suppose que les groupes comparés ont la même variance. Si ce n’est pas le cas, on doit utiliser un test plus robuste comme Kruskal-Wallis.\n",
        "\n",
        "➤ Le test :\n",
        "H₀ : Les variances sont égales entre les groupes.\n",
        "\n",
        "H₁ : Au moins un groupe a une variance différente.\n",
        "\n",
        "Si p-value < 0.05, on rejette H₀ → variances différentes."
      ],
      "metadata": {
        "id": "OlTgSS5LqRl5"
      },
      "id": "OlTgSS5LqRl5"
    },
    {
      "cell_type": "code",
      "execution_count": null,
      "id": "7fbab341",
      "metadata": {
        "id": "7fbab341"
      },
      "outputs": [],
      "source": [
        "from scipy.stats import levene\n",
        "# stat, p = levene(*groups)\n",
        "# print('stat=%.3f, p=%.3f' % (stat, p))"
      ]
    },
    {
      "cell_type": "code",
      "source": [
        "# Supposons 2 groupes\n",
        "g1 = df[df['rating_level'] == 'High']['discounted_price']\n",
        "g2 = df[df['rating_level'] == 'Medium']['discounted_price']"
      ],
      "metadata": {
        "id": "NuUZ1sUQw1Fv"
      },
      "id": "NuUZ1sUQw1Fv",
      "execution_count": null,
      "outputs": []
    },
    {
      "cell_type": "code",
      "source": [
        "# Normalité\n",
        "print(\"Normalité g1:\", shapiro(g1).pvalue)\n",
        "print(\"Normalité g2:\", shapiro(g2).pvalue)"
      ],
      "metadata": {
        "id": "iROYGpBaxE31"
      },
      "id": "iROYGpBaxE31",
      "execution_count": null,
      "outputs": []
    },
    {
      "cell_type": "code",
      "source": [
        "# Homogénéité des variances\n",
        "stat, p = levene(g1, g2)\n",
        "print('stat=%.3f, p=%.3f' % (stat, p))\n"
      ],
      "metadata": {
        "id": "H3Ma6mZwxJnx"
      },
      "id": "H3Ma6mZwxJnx",
      "execution_count": null,
      "outputs": []
    },
    {
      "cell_type": "code",
      "execution_count": null,
      "id": "073dc2f0",
      "metadata": {
        "id": "073dc2f0"
      },
      "outputs": [],
      "source": [
        "# On ne peut pas faire ANOVA\n",
        "from scipy.stats import kruskal\n",
        "\n",
        "# Hypothèse nulle H₀\t\"Toutes les moyennes sont égales\"\n",
        "# Hypothèse alternative H₁\t\"Au moins une moyenne est différente\"\n",
        "\n",
        "stat, p = kruskal(g1, g2)\n",
        "\n",
        "print('stat=%.3f, p=%.3f' % (stat, p))"
      ]
    },
    {
      "cell_type": "code",
      "source": [
        "# Mais si on devrait faire ANOVA\n",
        "from scipy.stats import f_oneway\n",
        "\n",
        "\n",
        "# Hypothèse nulle H₀\t\"Toutes les moyennes sont égales\"\n",
        "# Hypothèse alternative H₁\t\"Au moins une moyenne est différente\"\n",
        "\n",
        "stat, p = f_oneway(g1, g2)\n",
        "print('stat=%.3f, p=%.3f' % (stat, p))"
      ],
      "metadata": {
        "id": "O2L0Jje8yB6T"
      },
      "id": "O2L0Jje8yB6T",
      "execution_count": null,
      "outputs": []
    },
    {
      "cell_type": "markdown",
      "source": [
        "## **3.3 Classe de note ~ Catégorie**"
      ],
      "metadata": {
        "id": "kJlZOJOWy7d6"
      },
      "id": "kJlZOJOWy7d6"
    },
    {
      "cell_type": "markdown",
      "source": [
        "**Test du Khi² d’indépendance (chi2_contingency)**\n",
        "\n",
        "📌 Objectif :\n",
        "* Tester s’il existe une relation entre deux variables qualitatives (catégorielles).\n",
        "\n",
        "Hypothèses :\n",
        "* H₀ (nulle)\tLes deux variables sont indépendantes\n",
        "* H₁ (alternative)\tIl existe une dépendance entre les deux variables\n",
        "\n",
        "Conditions d'application\n",
        "* Les variables doivent être catégorielles (nominales ou ordinales)\n",
        "\n",
        "* L’échantillon doit être assez grand (chaque cellule attendue ≥ 5 si possible)\n",
        "\n",
        "* Les observations doivent être indépendantes"
      ],
      "metadata": {
        "id": "O580sKZ2zTcZ"
      },
      "id": "O580sKZ2zTcZ"
    },
    {
      "cell_type": "code",
      "execution_count": null,
      "id": "1c3fba87",
      "metadata": {
        "id": "1c3fba87"
      },
      "outputs": [],
      "source": [
        "pd.crosstab(df['rating_level'], df['category_level_1'])"
      ]
    },
    {
      "cell_type": "markdown",
      "source": [
        "Utiliser un test exact : test de Fisher\n",
        "* Si la table est 2x2, tu peux utiliser"
      ],
      "metadata": {
        "id": "3c8Skzxg08Rz"
      },
      "id": "3c8Skzxg08Rz"
    },
    {
      "cell_type": "markdown",
      "source": [
        "Fusionner les catégories rares\n",
        "* Si possible, regroupe les petites catégories (par exemple, combiner officeproducts&other avec une autre catégorie ou créer une catégorie \"Autres\")"
      ],
      "metadata": {
        "id": "JQ94zZ791FiX"
      },
      "id": "JQ94zZ791FiX"
    },
    {
      "cell_type": "code",
      "source": [
        "df['category_level_new'] = df['category_level_1'].replace(\n",
        "    {'officeproducts&other': 'computers&accessories'})"
      ],
      "metadata": {
        "id": "J58Huyabz4PB"
      },
      "id": "J58Huyabz4PB",
      "execution_count": null,
      "outputs": []
    },
    {
      "cell_type": "code",
      "source": [
        "pd.crosstab(df['rating_level'], df['category_level_new'])"
      ],
      "metadata": {
        "id": "9mb5f1pY1jVw"
      },
      "id": "9mb5f1pY1jVw",
      "execution_count": null,
      "outputs": []
    },
    {
      "cell_type": "code",
      "source": [
        "from scipy.stats import chi2_contingency\n",
        "stat, p, dof, expected_freq = chi2_contingency(pd.crosstab(df['rating_level'], df['category_level_new']))\n",
        "print('stat=%.3f, p=%.3f' % (stat, p))\n",
        "print(expected_freq)"
      ],
      "metadata": {
        "id": "Js9Ewa211qT7"
      },
      "id": "Js9Ewa211qT7",
      "execution_count": null,
      "outputs": []
    }
  ],
  "metadata": {
    "colab": {
      "provenance": []
    },
    "language_info": {
      "name": "python"
    },
    "kernelspec": {
      "name": "python3",
      "display_name": "Python 3"
    }
  },
  "nbformat": 4,
  "nbformat_minor": 5
}